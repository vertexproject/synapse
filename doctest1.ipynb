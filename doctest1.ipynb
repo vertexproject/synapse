{
 "cells": [
  {
   "cell_type": "markdown",
   "metadata": {},
   "source": [
    "setup code goes here"
   ]
  },
  {
   "cell_type": "code",
   "execution_count": 1,
   "metadata": {},
   "outputs": [
    {
     "name": "stdout",
     "output_type": "stream",
     "text": [
      "Current pid: 17854\n"
     ]
    }
   ],
   "source": [
    "import os\n",
    "import shutil\n",
    "import asyncio\n",
    "import tempfile\n",
    "import threading\n",
    "import contextlib\n",
    "\n",
    "import unittest.mock as mock\n",
    "\n",
    "import synapse.glob as s_glob\n",
    "import synapse.common as s_common\n",
    "import synapse.cortex as s_cortex\n",
    "# import synapse.lib.cli as s_cli\n",
    "import synapse.lib.cmdr as s_cmdr\n",
    "\n",
    "import synapse.tests.utils as s_t_utils\n",
    "print(f'Current pid: {os.getpid()}')\n",
    "current_thread = threading.current_thread()\n",
    "# print(f'Current thread / thread.ident: {current_thread}')\n",
    "# print(type(current_thread))\n",
    "loop = s_glob.initloop()\n",
    "# print(f'Current loop: {loop} / {id(loop)}')\n",
    "glob_thrd = s_glob._glob_thrd\n",
    "# print(f'loop thread: {glob_thrd}')\n",
    "\n",
    "@contextlib.asynccontextmanager\n",
    "async def getTempCoreProxy():\n",
    "    with s_common.getTempDir() as dirn:\n",
    "        # print(f'Got tempdir: {dirn}')\n",
    "        # print('getting cortex....')\n",
    "        async with await s_cortex.Cortex.anit(dirn) as core:\n",
    "            # print(f'Got cortex: {core}')\n",
    "            # print('Getting local proxy')\n",
    "            # core.conf['storm:log'] = True\n",
    "            async with core.getLocalProxy() as prox:\n",
    "                # print(f'Got proxy: {prox}')\n",
    "                yield prox\n",
    "                # print('closing down proxy/local dmon')\n",
    "            # print('closing down cortex')\n",
    "        # print('tearing down tempdir')\n",
    "    # print('done with getTempCortex')\n",
    "\n",
    "acm = getTempCoreProxy()\n",
    "core = await acm.__aenter__()\n",
    "# print(proxy, proxy.isfini)\n",
    "\n",
    "# print('preloading some data...')\n",
    "async for mesg in await core.storm('[inet:ipv4=1.2.3.4 inet:ipv4=8.8.8.8 inet:ipv4=12.34.56.78 inet:fqdn=woot.com]'):\n",
    "    pass\n",
    "    #print(mesg)\n",
    "    \n",
    "cmdr = await s_cmdr.getItemCmdr(core)\n",
    "cmdr.echoline = True\n",
    "# print(f'Got cmdr: {cmdr}')"
   ]
  },
  {
   "cell_type": "markdown",
   "metadata": {},
   "source": [
    "Execute a storm command!"
   ]
  },
  {
   "cell_type": "code",
   "execution_count": 2,
   "metadata": {},
   "outputs": [
    {
     "name": "stdout",
     "output_type": "stream",
     "text": [
      "cli> storm inet:ipv4\n",
      "\n",
      "inet:ipv4=1.2.3.4\n",
      "        .created = 2018/12/08 20:33:35.802\n",
      "        :asn = 0\n",
      "        :loc = ??\n",
      "        :type = unicast\n",
      "inet:ipv4=8.8.8.8\n",
      "        .created = 2018/12/08 20:33:35.802\n",
      "        :asn = 0\n",
      "        :loc = ??\n",
      "        :type = unicast\n",
      "inet:ipv4=12.34.56.78\n",
      "        .created = 2018/12/08 20:33:35.802\n",
      "        :asn = 0\n",
      "        :loc = ??\n",
      "        :type = unicast\n",
      "complete. 3 nodes in 8 ms (375/sec).\n"
     ]
    }
   ],
   "source": [
    "await cmdr.runCmdLine('storm inet:ipv4')\n",
    "# cmdr.runCmdLoop()\n",
    "# await cmdr.asyncRunCmdLoop()"
   ]
  },
  {
   "cell_type": "markdown",
   "metadata": {},
   "source": [
    "See how cool that was!"
   ]
  },
  {
   "cell_type": "markdown",
   "metadata": {},
   "source": [
    "# Storm Reference - Data Modification\n",
    "\n",
    "Storm can be used to directly modify the Synapse hypergraph by:\n",
    "\n",
    "* adding or deleting nodes;\n",
    "* setting, modifying, or deleting properties on nodes; and \n",
    "* adding or deleting tags from nodes.\n",
    "\n",
    "While the Synapse command line (cmdr) is not optimal for adding or modifying large amounts of data, users gain a powerful degree of flexibility and efficiency through the ability to create or modify data on the fly.\n",
    "\n",
    "For adding or modifying larger amounts of data, it is preferable to use the Synapse feed utility <link>, CSV tool <link>, or programmatic ingest of data to help automate the process."
   ]
  },
  {
   "cell_type": "markdown",
   "metadata": {},
   "source": [
    "<div class=\"alert alert-block alert-warning\">\n",
    "<b>WARNING</b>\n",
    "The ability to add and modify data from the Synapse CLI is powerful and convenient, but also means users can inadvertently modify (or even delete) data inappropriately through mistyped syntax or premature striking of the “enter” key. While some built-in protections exist within Synapse itself it is important to remember that <b>there is no “are you sure?” prompt before a Storm query executes<b>.\n",
    "\n",
    "The following recommended “best practices” will help prevent inadvertent changes to the hypergraph:\n",
    "\n",
    "Use the Synapse permissions system <link> to enforce least privilege. Limit users to permissions appropriate for tasks they have been trained for / are responsible for.\n",
    "\n",
    "Limit potentially destructive permissions even for trained / trusted users. Require the use of the sudo <link> Storm command for significant / critical changes (such as the deletion of nodes).\n",
    "\n",
    "Use extreme caution when constructing complex Storm queries that may modify (or delete) large numbers of nodes. It is <b>strongly recommended<b> that you validate the output of a query by first running the query on its own to ensure it returns the expected results (set of nodes) before permanently modifying (or deleting) those nodes.\n",
    "</div>"
   ]
  },
  {
   "cell_type": "markdown",
   "metadata": {},
   "source": [
    "See Storm - Document Syntax Conventions <link> for an explanation of the syntax format used below."
   ]
  },
  {
   "cell_type": "markdown",
   "metadata": {},
   "source": [
    "## Edit Mode\n",
    "\n",
    "To modify data in a Cortex using Storm, you must enter “edit mode”. The use of **square brackets ( \\[ \\] )** within a Storm query can be thought of as entering “edit mode”, with the data in the brackets specifying the changes to be made. This is true for changes involving nodes, properties, and tags. The only exception is the deletion of nodes, which is done using the **delnode** <link> Storm command.\n",
    "\n",
    "The square brackets (\\[ \\]) used for the Storm data modification syntax indicate “perform the enclosed changes” in a generic way. The brackets are shorthand to request any of the following:\n",
    "\n",
    "* Add nodes.\n",
    "* Add or modify properties.\n",
    "* Delete properties.\n",
    "* Add tags.\n",
    "* Delete tags.\n",
    "\n",
    "This means that all of the above directives can be specified within a single set of brackets, in any combination and in any order."
   ]
  },
  {
   "cell_type": "markdown",
   "metadata": {},
   "source": [
    "<div class=\"alert alert-block alert-warning\">\n",
    "<b>WARNING</b>\n",
    "It is critical to remember that the </b>brackets are NOT a boundary that segregates nodes</b>; they simply indicate the start and end of data modification operations. They do </b>NOT</b> separate “nodes the modifications should apply to” from “nodes they should not apply to”. Storm operator chaining <link> with left-to-right processing order still applies. </b>Any modification request that operates on previous Storm output will operate on everything to the left of the modify operation, regardless of whether those nodes are within or outside the brackets</b>v.\n",
    "</div>"
   ]
  },
  {
   "cell_type": "markdown",
   "metadata": {},
   "source": [
    "Consider the following example:"
   ]
  },
  {
   "cell_type": "code",
   "execution_count": 3,
   "metadata": {},
   "outputs": [
    {
     "name": "stderr",
     "output_type": "stream",
     "text": [
      "Error during storm execution\n",
      "Traceback (most recent call last):\n",
      "  File \"/home/epiphyte/git/synapse/synapse/cortex.py\", line 1010, in runStorm\n",
      "    async for pode in snap.iterStormPodes(text, opts=opts, user=user):\n",
      "  File \"/home/epiphyte/git/synapse/synapse/lib/snap.py\", line 101, in iterStormPodes\n",
      "    async for node, path in self.storm(text, opts=opts, user=user):\n",
      "  File \"/home/epiphyte/git/synapse/synapse/lib/snap.py\", line 113, in storm\n",
      "    async for x in runt.iterStormQuery(query):\n",
      "  File \"/home/epiphyte/git/synapse/synapse/lib/storm.py\", line 130, in iterStormQuery\n",
      "    async for node, path in query.iterNodePaths(self):\n",
      "  File \"/home/epiphyte/git/synapse/synapse/lib/ast.py\", line 173, in iterNodePaths\n",
      "    async for node, path in genr:\n",
      "  File \"/home/epiphyte/git/synapse/synapse/lib/ast.py\", line 1589, in run\n",
      "    async for node, path in genr:\n",
      "  File \"/home/epiphyte/git/synapse/synapse/lib/ast.py\", line 1513, in run\n",
      "    async for node, path in genr:\n",
      "  File \"/home/epiphyte/git/synapse/synapse/lib/ast.py\", line 1536, in run\n",
      "    raise s_exc.NoSuchProp(name=name, form=node.form.name)\n",
      "synapse.exc.NoSuchProp: NoSuchProp: form='inet:fqdn' name='asn'\n"
     ]
    },
    {
     "name": "stdout",
     "output_type": "stream",
     "text": [
      "cli> storm inet:ipv4=12.34.56.78 inet:fqdn=woot.com [ inet:ipv4=1.2.3.4 :asn=10101 inet:fqdn=woowoo.com +#my.tag ]\n",
      "\n",
      "('prop:set', {'ndef': ('inet:ipv4', 203569230), 'prop': 'asn', 'valu': 10101, 'oldv': 0, 'user': '?', 'time': 1544301221778})\n",
      "('node:add', {'ndef': ('inet:asn', 10101), 'user': '?', 'time': 1544301221779})\n",
      "('prop:set', {'ndef': ('inet:asn', 10101), 'prop': 'name', 'valu': '??', 'oldv': None, 'user': '?', 'time': 1544301221779})\n",
      "('prop:set', {'ndef': ('inet:asn', 10101), 'prop': '.created', 'valu': 1544301221779, 'oldv': None, 'user': '?', 'time': 1544301221780})\n",
      "('node:add', {'ndef': ('syn:tag', 'my.tag'), 'user': '?', 'time': 1544301221782})\n",
      "('prop:set', {'ndef': ('syn:tag', 'my.tag'), 'prop': 'base', 'valu': 'tag', 'oldv': None, 'user': '?', 'time': 1544301221782})\n",
      "('prop:set', {'ndef': ('syn:tag', 'my.tag'), 'prop': 'depth', 'valu': 1, 'oldv': None, 'user': '?', 'time': 1544301221782})\n",
      "('prop:set', {'ndef': ('syn:tag', 'my.tag'), 'prop': 'up', 'valu': 'my', 'oldv': None, 'user': '?', 'time': 1544301221782})\n",
      "('node:add', {'ndef': ('syn:tag', 'my'), 'user': '?', 'time': 1544301221784})\n",
      "('prop:set', {'ndef': ('syn:tag', 'my'), 'prop': 'base', 'valu': 'my', 'oldv': None, 'user': '?', 'time': 1544301221784})\n",
      "('prop:set', {'ndef': ('syn:tag', 'my'), 'prop': 'depth', 'valu': 0, 'oldv': None, 'user': '?', 'time': 1544301221784})\n",
      "('prop:set', {'ndef': ('syn:tag', 'my'), 'prop': 'doc', 'valu': '', 'oldv': None, 'user': '?', 'time': 1544301221784})\n",
      "('prop:set', {'ndef': ('syn:tag', 'my'), 'prop': 'title', 'valu': '', 'oldv': None, 'user': '?', 'time': 1544301221784})\n",
      "('prop:set', {'ndef': ('syn:tag', 'my'), 'prop': '.created', 'valu': 1544301221784, 'oldv': None, 'user': '?', 'time': 1544301221784})\n",
      "('prop:set', {'ndef': ('syn:tag', 'my.tag'), 'prop': 'doc', 'valu': '', 'oldv': None, 'user': '?', 'time': 1544301221785})\n",
      "('prop:set', {'ndef': ('syn:tag', 'my.tag'), 'prop': 'title', 'valu': '', 'oldv': None, 'user': '?', 'time': 1544301221785})\n",
      "('prop:set', {'ndef': ('syn:tag', 'my.tag'), 'prop': '.created', 'valu': 1544301221785, 'oldv': None, 'user': '?', 'time': 1544301221785})\n",
      "('tag:add', {'ndef': ('inet:ipv4', 203569230), 'tag': 'my', 'valu': (None, None), 'user': '?', 'time': 1544301221785})\n",
      "('tag:add', {'ndef': ('inet:ipv4', 203569230), 'tag': 'my', 'valu': (None, None), 'user': '?', 'time': 1544301221785})\n",
      "('tag:add', {'ndef': ('inet:ipv4', 203569230), 'tag': 'my.tag', 'valu': (None, None), 'user': '?', 'time': 1544301221786})\n",
      "('tag:add', {'ndef': ('inet:ipv4', 203569230), 'tag': 'my.tag', 'valu': (None, None), 'user': '?', 'time': 1544301221786})\n",
      "inet:ipv4=12.34.56.78\n",
      "        .created = 2018/12/08 20:33:35.802\n",
      "        :asn = 10101\n",
      "        :loc = ??\n",
      "        :type = unicast\n",
      "        #my.tag\n",
      "('err', ('NoSuchProp', {'efile': 'ast.py', 'eline': 1536, 'name': 'asn', 'form': 'inet:fqdn'}))\n",
      "complete. 1 nodes in 34 ms (29/sec).\n"
     ]
    },
    {
     "ename": "AssertionError",
     "evalue": "",
     "output_type": "error",
     "traceback": [
      "\u001b[0;31m---------------------------------------------------------------------------\u001b[0m",
      "\u001b[0;31mAssertionError\u001b[0m                            Traceback (most recent call last)",
      "\u001b[0;32mcell_name\u001b[0m in \u001b[0;36masync-def-wrapper\u001b[0;34m()\u001b[0m\n",
      "\u001b[0;31mAssertionError\u001b[0m: "
     ]
    }
   ],
   "source": [
    "q = 'storm inet:ipv4=12.34.56.78 inet:fqdn=woot.com [ inet:ipv4=1.2.3.4 :asn=10101 inet:fqdn=woowoo.com +#my.tag ]'\n",
    "await cmdr.runCmdLine(q)\n",
    "# Assertion code about the output - woudl fail during execution\n",
    "podes = [pode async for pode in await core.eval('#my.tag')]\n",
    "# assert len(podes) == 4\n",
    "print('hmmm')"
   ]
  },
  {
   "cell_type": "markdown",
   "metadata": {},
   "source": [
    "The above Storm query will:\n",
    "* lift the nodes for IP 12.34.56.78 and domain woot.com;\n",
    "* create the node for IP 1.2.3.4 (if it does not exist), or retrieve it if it does;\n",
    "* set the :asn property for IP 12.34.56.78 and IP 1.2.3.4;\n",
    "* create the node for domain woowoo.com (if it does not exist), or retrieve it if it does; and\n",
    "* apply the tag my.tag to IP 12.34.56.78, domain woot.com, IP 1.2.3.4 and domain woowoo.com.\n"
   ]
  },
  {
   "cell_type": "code",
   "execution_count": 3,
   "metadata": {},
   "outputs": [
    {
     "name": "stdout",
     "output_type": "stream",
     "text": [
      "connection closed...\n"
     ]
    }
   ],
   "source": [
    "await acm.__aexit__(None, None, None)\n",
    "# print(proxy, proxy.isfini)#\n",
    "    "
   ]
  }
 ],
 "metadata": {
  "kernelspec": {
   "display_name": "Python 3",
   "language": "python",
   "name": "python3"
  },
  "language_info": {
   "codemirror_mode": {
    "name": "ipython",
    "version": 3
   },
   "file_extension": ".py",
   "mimetype": "text/x-python",
   "name": "python",
   "nbconvert_exporter": "python",
   "pygments_lexer": "ipython3",
   "version": "3.7.1"
  }
 },
 "nbformat": 4,
 "nbformat_minor": 2
}
