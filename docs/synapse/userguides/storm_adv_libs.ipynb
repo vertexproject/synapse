{
 "cells": [
  {
   "cell_type": "code",
   "execution_count": null,
   "metadata": {
    "hideCode": true,
    "hideOutput": true
   },
   "outputs": [],
   "source": [
    "import os, sys\n",
    "try:\n",
    "    from synapse.lib.jupyter import *\n",
    "except ImportError as e:\n",
    "    # Insert the root path of the repository to sys.path.\n",
    "    # This assumes the notebook is located three directories away\n",
    "    # From the root synapse directory. It may need to be varied\n",
    "    synroot = os.path.abspath('../../../')\n",
    "    sys.path.insert(0, synroot)\n",
    "    from synapse.lib.jupyter import *"
   ]
  },
  {
   "cell_type": "code",
   "execution_count": null,
   "metadata": {
    "hideCode": true,
    "hideOutput": true
   },
   "outputs": [],
   "source": [
    "# Create a cortex\n",
    "core = await getTempCoreCmdr()"
   ]
  },
  {
   "cell_type": "raw",
   "metadata": {},
   "source": [
    ".. highlight:: none\n",
    "\n",
    ".. _storm-adv-libs:\n",
    "\n",
    "Storm Reference - Advanced - Libraries\n",
    "======================================\n",
    "\n",
    "A **partial** list of libraries available in Synapse is provided below. These libraries represent a subset most likely to be referenced by users.\n",
    "\n",
    ".. _storm-lib:\n",
    "\n",
    "$lib\n",
    "----\n",
    "\n",
    ":ref:`vars-global-lib` is a global variable used to access Storm's libraries. ``$lib`` is not used by itself, but with the library functions below to perform various common operations in Storm.\n",
    "\n",
    "<more stuff here>\n",
    "\n",
    "In the examples below, the :ref:`lib-print` library is used to display the value returned when a specific built-in variable or method is called. This is done for illustrative purposes only; ``$lib.print()`` is not required in order to use variables or methods.\n",
    "\n",
    "In some instances we have also included \"use-case\" examples, where the variable or method is used in one or more sample queries to illustrate possible practical use cases. These represent exemplar Storm queries for how a variable or method might be used in practice. While we have attempted to use relatively simple examples for clarity, some examples may leverage additional Storm features such as subqueries, subquery filters, or flow control elements such as \"for\" loops or \"switch\" statements.\n",
    "\n",
    "<< CHECK ABOVE >>"
   ]
  },
  {
   "cell_type": "raw",
   "metadata": {},
   "source": [
    ".. _lib-csv:\n",
    "\n",
    "$lib.csv\n",
    "++++++++\n",
    "\n",
    "``$lib.csv`` is the global variable used to access functions for working with comma-separated value (CSV) formatted files. It is not used by itself, but with its individual functions."
   ]
  },
  {
   "cell_type": "raw",
   "metadata": {},
   "source": [
    ".. _lib-csv-emit:\n",
    "\n",
    "$lib.csv.emit()\n",
    "~~~~~~~~~~~~~~~\n",
    "\n",
    "The ``$lib.csv.emit()`` function is used to format the ouptut of a row when using the ``--export`` option for the Synpase **CSVTool** (:ref:`syn-tools-csvtool`).\n",
    "\n",
    "The function takes a list of one to n arguments, where each argument represents one element (comma-separated value) in the CSV output.\n",
    "\n",
    "See the CSVTool documentation and the :ref:`csvtool-examples-export` for examples for using the ``$lib.csv.emit()`` function."
   ]
  },
  {
   "cell_type": "raw",
   "metadata": {},
   "source": [
    ".. _lib-dict:\n",
    "\n",
    "$lib.dict()\n",
    "+++++++++++\n",
    "\n",
    "TBD"
   ]
  },
  {
   "cell_type": "raw",
   "metadata": {},
   "source": [
    ".. _lib-fire:\n",
    "\n",
    "$lib.fire()\n",
    "+++++++++++\n",
    "\n",
    "TBD"
   ]
  },
  {
   "cell_type": "raw",
   "metadata": {},
   "source": [
    ".. _lib-index:\n",
    "\n",
    "$lib.index()\n",
    "++++++++++++\n",
    "\n",
    "TBD"
   ]
  },
  {
   "cell_type": "raw",
   "metadata": {},
   "source": [
    ".. _lib-len:\n",
    "\n",
    "$lib.len()\n",
    "++++++++++\n",
    "\n",
    "TBD"
   ]
  },
  {
   "cell_type": "raw",
   "metadata": {},
   "source": [
    ".. _lib-max:\n",
    "\n",
    "$lib.max()\n",
    "++++++++++\n",
    "\n",
    "TBD"
   ]
  },
  {
   "cell_type": "raw",
   "metadata": {},
   "source": [
    ".. _lib-min:\n",
    "\n",
    "$lib.min()\n",
    "++++++++++\n",
    "\n",
    "TBD"
   ]
  },
  {
   "cell_type": "raw",
   "metadata": {},
   "source": [
    ".. _lib-print:\n",
    "\n",
    "$lib.print()\n",
    "++++++++++++\n",
    "\n",
    "TBD"
   ]
  },
  {
   "cell_type": "raw",
   "metadata": {},
   "source": [
    ".. _lib-split:\n",
    "\n",
    "$lib.split()\n",
    "++++++++++++\n",
    "\n",
    "TBD"
   ]
  },
  {
   "cell_type": "raw",
   "metadata": {},
   "source": [
    ".. _lib-str:\n",
    "\n",
    "$lib.str\n",
    "++++++++\n",
    "\n",
    "``$lib.str`` is the global variable used to access functions for working with strings. It is not used by itself, but with its individual functions."
   ]
  },
  {
   "cell_type": "raw",
   "metadata": {},
   "source": [
    ".. _lib-str-concat:\n",
    "\n",
    "$lib.str.concat()\n",
    "~~~~~~~~~~~~~~~~~\n",
    "\n",
    "TBD"
   ]
  },
  {
   "cell_type": "raw",
   "metadata": {},
   "source": [
    ".. _lib-str-format:\n",
    "\n",
    "$lib.str.format()\n",
    "~~~~~~~~~~~~~~~~~\n",
    "\n",
    "TBD"
   ]
  },
  {
   "cell_type": "raw",
   "metadata": {},
   "source": [
    ".. _lib-text:\n",
    "\n",
    "$lib.text()\n",
    "+++++++++++\n",
    "\n",
    "TBD"
   ]
  },
  {
   "cell_type": "raw",
   "metadata": {},
   "source": [
    ".. _lib-time:\n",
    "\n",
    "$lib.time\n",
    "+++++++++\n",
    "\n",
    "``$lib.time`` is the global variable used to access functions for working with time and datetime values. It is not used by itself, but with its individual functions."
   ]
  },
  {
   "cell_type": "raw",
   "metadata": {},
   "source": [
    ".. _lib-time-format:\n",
    "\n",
    "$lib.time.format()\n",
    "~~~~~~~~~~~~~~~~~~\n",
    "\n",
    "TBD"
   ]
  },
  {
   "cell_type": "raw",
   "metadata": {},
   "source": [
    ".. _lib-time-fromunix:\n",
    "\n",
    "$lib.time.fromunix()\n",
    "~~~~~~~~~~~~~~~~~~~~\n",
    "\n",
    "TBD"
   ]
  },
  {
   "cell_type": "raw",
   "metadata": {},
   "source": [
    ".. _lib-time-now:\n",
    "\n",
    "$lib.time.now()\n",
    "~~~~~~~~~~~~~~~\n",
    "\n",
    "TBD"
   ]
  },
  {
   "cell_type": "raw",
   "metadata": {},
   "source": [
    ".. _lib-time-offset:\n",
    "\n",
    "$lib.time.offset()\n",
    "~~~~~~~~~~~~~~~~~~\n",
    "\n",
    "TBD"
   ]
  },
  {
   "cell_type": "raw",
   "metadata": {},
   "source": [
    ".. _lib-time-parse:\n",
    "\n",
    "$lib.time.parse()\n",
    "~~~~~~~~~~~~~~~~~\n",
    "\n",
    "TBD"
   ]
  },
  {
   "cell_type": "raw",
   "metadata": {},
   "source": [
    ".. _lib-time-sleep:\n",
    "\n",
    "$lib.time.sleep()\n",
    "~~~~~~~~~~~~~~~~~\n",
    "\n",
    "TBD"
   ]
  },
  {
   "cell_type": "raw",
   "metadata": {},
   "source": [
    ".. _lib-time-ticker:\n",
    "\n",
    "$lib.time.ticker()\n",
    "~~~~~~~~~~~~~~~~~~\n",
    "\n",
    "TBD"
   ]
  }
 ],
 "metadata": {
  "celltoolbar": "Hide code",
  "kernelspec": {
   "display_name": "Python 3",
   "language": "python",
   "name": "python3"
  },
  "language_info": {
   "codemirror_mode": {
    "name": "ipython",
    "version": 3
   },
   "file_extension": ".py",
   "mimetype": "text/x-python",
   "name": "python",
   "nbconvert_exporter": "python",
   "pygments_lexer": "ipython3",
   "version": "3.7.1"
  }
 },
 "nbformat": 4,
 "nbformat_minor": 2
}
