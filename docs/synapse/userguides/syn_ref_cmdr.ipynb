{
 "cells": [
  {
   "cell_type": "code",
   "execution_count": null,
   "metadata": {
    "hideCode": true
   },
   "outputs": [],
   "source": [
    "import os, sys\n",
    "try:\n",
    "    from synapse.lib.jupyter import *\n",
    "except ImportError as e:\n",
    "    # Insert the root path of the repository to sys.path.\n",
    "    # This assumes the notebook is located three directories away\n",
    "    # From the root synapse directory. It may need to be varied\n",
    "    synroot = os.path.abspath('../../../')\n",
    "    sys.path.insert(0, synroot)\n",
    "    from synapse.lib.jupyter import *"
   ]
  },
  {
   "cell_type": "code",
   "execution_count": null,
   "metadata": {
    "hideCode": true,
    "hideOutput": false
   },
   "outputs": [],
   "source": [
    "#Create a cortex which should contain the runt nodes for the data model\n",
    "core = await getTempCoreCmdr()"
   ]
  },
  {
   "cell_type": "raw",
   "metadata": {},
   "source": [
    ".. highlight:: none\n",
    "\n",
    ".. _syn-ref-cmd:\n",
    "\n",
    "Synapse Reference - cmdr Commands\n",
    "====================================\n",
    "\n",
    "The Synapse CLI (cmdr) contains a set of built-in commands that can be used to interact with a Synapse Cortex. This section details the usage for each built-in Synapse command.\n",
    "\n",
    "See :ref:`syn-tools-cmdr` for background on using ``cmdr`` and interacting with the Synapse CLI.\n",
    "\n",
    "The following Synapse commands are currently supported:\n",
    "\n",
    "- `help`_\n",
    "- `at`_\n",
    "- `cron`_\n",
    "- `hive`_\n",
    "- `kill`_\n",
    "- `locs`_\n",
    "- `log`_\n",
    "- `ps`_\n",
    "- `quit`_\n",
    "- `storm`_\n",
    "- `trigger`_\n",
    "\n",
    ".. _syn_help:\n",
    "\n",
    "help\n",
    "----\n",
    "\n",
    "The ``help`` command displays the list of available built-in commands and a brief message describing each command. Help on individual commands is available via ``help <command>``.\n",
    "\n",
    "**Syntax:**\n"
   ]
  },
  {
   "cell_type": "code",
   "execution_count": null,
   "metadata": {
    "hideCode": true
   },
   "outputs": [],
   "source": [
    "# Run the command and display output\n",
    "q = 'help'\n",
    "podes = await core.runCmdLine(q)"
   ]
  },
  {
   "cell_type": "raw",
   "metadata": {},
   "source": [
    ".. _syn-at:\n",
    "\n",
    "at\n",
    "--\n",
    "\n",
    ".. NOTE::\n",
    "\n",
    "  The cmdr ``at`` command is being deprecated in favor of the Storm ``cron.*`` commands (e.g., ``cron.add``, ``cron.list``, etc.). Users are stronlgy encouraged to use the Storm-based equivalents instead. See the :ref:`storm-cron` section of the :ref:`storm-ref-cmd` document for details.\n",
    "  \n",
    "The ``at`` command allows you to schedule a `storm`_ query to execute within a Cortex at one or more specified times. Once created, tasks / queries scheduled with ``at`` are managed using the `cron`_ command. At jobs, like cron jobs, remain in a Cortex until explicitly removed.\n",
    "\n",
    "**Syntax:**\n"
   ]
  },
  {
   "cell_type": "code",
   "execution_count": null,
   "metadata": {
    "hideCode": true
   },
   "outputs": [],
   "source": [
    "# Run the command and display output\n",
    "q = 'at --help'\n",
    "podes = await core.runCmdLine(q)"
   ]
  },
  {
   "cell_type": "raw",
   "metadata": {},
   "source": [
    ".. _syn-cron:\n",
    "\n",
    "cron\n",
    "----\n",
    "\n",
    ".. NOTE::\n",
    "\n",
    "  The cmdr ``cron`` command is being deprecated in favor of the equivalent Storm ``cron.*`` commands (e.g., ``cron.add``, ``cron.list``, etc.). Users are stronlgy encouraged to use the Storm-based equivalents instead. See the :ref:`storm-cron` section of the :ref:`storm-ref-cmd` document for details.\n",
    "\n",
    "The ``cron`` command allows you to schedule a `storm`_ query to execute within a Cortex on a recurring basis. ``cron`` has multiple subcommands, including:\n",
    "\n",
    "- `cron help`_\n",
    "- `cron add`_\n",
    "- `cron list`_\n",
    "- `cron stat`_\n",
    "- `cron mod`_\n",
    "- `cron disable`_\n",
    "- `cron enable`_\n",
    "- `cron del`_\n",
    "\n",
    "**Syntax:**\n"
   ]
  },
  {
   "cell_type": "code",
   "execution_count": null,
   "metadata": {
    "hideCode": true
   },
   "outputs": [],
   "source": [
    "# Run the command and display output\n",
    "q = 'help cron'\n",
    "podes = await core.runCmdLine(q)"
   ]
  },
  {
   "cell_type": "raw",
   "metadata": {},
   "source": [
    "cron help\n",
    "+++++++++\n",
    "\n",
    "``cron`` includes detailed help describing its individual subcommands.\n",
    "\n",
    "**Syntax:**\n"
   ]
  },
  {
   "cell_type": "code",
   "execution_count": null,
   "metadata": {
    "hideCode": true
   },
   "outputs": [],
   "source": [
    "# Run the command and display output\n",
    "q = 'cron -h'\n",
    "podes = await core.runCmdLine(q)"
   ]
  },
  {
   "cell_type": "raw",
   "metadata": {},
   "source": [
    "cron add\n",
    "++++++++\n",
    "\n",
    "``cron add`` adds a cron job to a Cortex.\n",
    "\n",
    "**Syntax:**\n"
   ]
  },
  {
   "cell_type": "code",
   "execution_count": null,
   "metadata": {
    "hideCode": true
   },
   "outputs": [],
   "source": [
    "# Run the command and display output\n",
    "q = 'cron add -h'\n",
    "podes = await core.runCmdLine(q)"
   ]
  },
  {
   "cell_type": "raw",
   "metadata": {},
   "source": [
    "cron list\n",
    "+++++++++\n",
    "\n",
    "``cron list`` lists existing cron jobs in a Cortex that the current user can view / modify based on their permissions.\n",
    "\n",
    "**Syntax:**"
   ]
  },
  {
   "cell_type": "code",
   "execution_count": null,
   "metadata": {
    "hideCode": true
   },
   "outputs": [],
   "source": [
    "# Run the command and display output\n",
    "q = 'cron list -h'\n",
    "podes = await core.runCmdLine(q)"
   ]
  },
  {
   "cell_type": "raw",
   "metadata": {},
   "source": [
    "cron stat\n",
    "+++++++++\n",
    "\n",
    "``cron stat`` displays statistics about a cron job. ``cron stat`` requires the iden (ID, identifier) prefix of the cron job to be displayed, which can be obtained with the `cron list`_ command.\n",
    "\n",
    "**Syntax:**\n"
   ]
  },
  {
   "cell_type": "code",
   "execution_count": null,
   "metadata": {
    "hideCode": true
   },
   "outputs": [],
   "source": [
    "# Run the command and display output\n",
    "q = 'cron stat -h'\n",
    "podes = await core.runCmdLine(q)"
   ]
  },
  {
   "cell_type": "raw",
   "metadata": {},
   "source": [
    "cron mod\n",
    "++++++++\n",
    "\n",
    "``cron mod`` allows you to modify the `storm`_ query executed by a cron job. ``cron mod`` requires the iden (ID, identifier) prefix of the cron job to be modified, which can be obtained with the `cron list`_ command.\n",
    "\n",
    "Once created, a cron job’s schedule (including jobs created with `at`_ ) cannot be modified. A new job must be added and the old job removed.\n",
    "\n",
    "**Syntax:**\n"
   ]
  },
  {
   "cell_type": "code",
   "execution_count": null,
   "metadata": {
    "hideCode": true
   },
   "outputs": [],
   "source": [
    "# Run the command and display output\n",
    "q = 'cron mod -h'\n",
    "podes = await core.runCmdLine(q)"
   ]
  },
  {
   "cell_type": "raw",
   "metadata": {},
   "source": [
    "cron disable\n",
    "++++++++++++\n",
    "\n",
    "``cron disable`` deactivates a cron job without deleting it from the system."
   ]
  },
  {
   "cell_type": "code",
   "execution_count": null,
   "metadata": {
    "hideCode": true
   },
   "outputs": [],
   "source": [
    "# Run the command and display output\n",
    "q = 'cron disable -h'\n",
    "podes = await core.runCmdLine(q)"
   ]
  },
  {
   "cell_type": "raw",
   "metadata": {},
   "source": [
    "cron enable\n",
    "+++++++++++\n",
    "\n",
    "``cron enable`` activates a cron job so it can execute. Cron jobs are enabled by default."
   ]
  },
  {
   "cell_type": "code",
   "execution_count": null,
   "metadata": {
    "hideCode": true
   },
   "outputs": [],
   "source": [
    "# Run the command and display output\n",
    "q = 'cron enable -h'\n",
    "podes = await core.runCmdLine(q)"
   ]
  },
  {
   "cell_type": "raw",
   "metadata": {},
   "source": [
    "cron del\n",
    "++++++++\n",
    "\n",
    "``cron del`` deletes the specified cron job. Cron jobs remain in a Cortex until explicitly removed. ``cron del`` requires the iden (ID, identifier) prefix of the cron job to be removed, which can be obtained with the `cron list`_ command.\n",
    "\n",
    "**Syntax:**\n"
   ]
  },
  {
   "cell_type": "code",
   "execution_count": null,
   "metadata": {
    "hideCode": true
   },
   "outputs": [],
   "source": [
    "# Run the command and display output\n",
    "q = 'cron del -h'\n",
    "podes = await core.runCmdLine(q)"
   ]
  },
  {
   "cell_type": "raw",
   "metadata": {},
   "source": [
    ".. _syn-hive:\n",
    "\n",
    "hive\n",
    "----\n",
    "\n",
    "The ``hive`` command allows you to view, create, edit, and remove data stored in a Cell's Hive. ``hive`` has multiple subcommands, including:\n",
    "\n",
    "\n",
    "\n",
    "The ``cron`` command allows you to schedule a `storm`_ query to execute within a Cortex on a recurring basis. ``cron`` has multiple subcommands, including:\n",
    "\n",
    "- `hive help`_\n",
    "- `hive ls`_\n",
    "- `hive get`_\n",
    "- `hive edit`_\n",
    "- `hive rm`_\n",
    "\n",
    "**Syntax:**"
   ]
  },
  {
   "cell_type": "code",
   "execution_count": null,
   "metadata": {
    "hideCode": true
   },
   "outputs": [],
   "source": [
    "# Run the command and display output\n",
    "q = 'help hive'\n",
    "podes = await core.runCmdLine(q)"
   ]
  },
  {
   "cell_type": "raw",
   "metadata": {},
   "source": [
    ".. _hive-help:\n",
    "\n",
    "hive help\n",
    "+++++++++\n",
    "\n",
    "``hive`` includes detailed help describing its individual subcommands.\n",
    "\n",
    "**Syntax:**"
   ]
  },
  {
   "cell_type": "code",
   "execution_count": null,
   "metadata": {
    "hideCode": true
   },
   "outputs": [],
   "source": [
    "# Run the command and display output\n",
    "q = 'hive --help'\n",
    "podes = await core.runCmdLine(q)"
   ]
  },
  {
   "cell_type": "raw",
   "metadata": {},
   "source": [
    ".. _hive-ls:\n",
    "\n",
    "hive ls\n",
    "+++++++\n",
    "\n",
    "``hive ls`` lists the current entries in a specified Hive path.\n",
    "\n",
    "**Syntax:**"
   ]
  },
  {
   "cell_type": "code",
   "execution_count": null,
   "metadata": {
    "hideCode": true
   },
   "outputs": [],
   "source": [
    "# Run the command and display output\n",
    "q = 'hive ls -h'\n",
    "podes = await core.runCmdLine(q)"
   ]
  },
  {
   "cell_type": "raw",
   "metadata": {},
   "source": [
    ".. _hive-get:\n",
    "\n",
    "hive get\n",
    "++++++++\n",
    "\n",
    "``hive get`` retrieves the contents of a specified Hive key and either displays them at the CLI or saves them to the specified file.\n",
    "\n",
    "**Syntax:**"
   ]
  },
  {
   "cell_type": "code",
   "execution_count": null,
   "metadata": {
    "hideCode": true
   },
   "outputs": [],
   "source": [
    "# Run the command and display output\n",
    "q = 'hive get -h'\n",
    "podes = await core.runCmdLine(q)"
   ]
  },
  {
   "cell_type": "raw",
   "metadata": {},
   "source": [
    ".. _hive-edit:\n",
    "\n",
    "hive edit\n",
    "+++++++++\n",
    "\n",
    "``hive edit`` allows you to create or modify key in the Hive. The key contents can be viewed and modified in a text editor or uploaded from a file.\n",
    "\n",
    "**Syntax:**"
   ]
  },
  {
   "cell_type": "code",
   "execution_count": null,
   "metadata": {
    "hideCode": true
   },
   "outputs": [],
   "source": [
    "# Run the command and display output\n",
    "q = 'hive edit -h'\n",
    "podes = await core.runCmdLine(q)"
   ]
  },
  {
   "cell_type": "raw",
   "metadata": {},
   "source": [
    ".. _hive-rm:\n",
    "\n",
    "hive rm\n",
    "+++++++\n",
    "\n",
    "``hive rm`` deletes the specified key (or directory) from a Hive.\n",
    "\n",
    "\n",
    "**Syntax:**"
   ]
  },
  {
   "cell_type": "code",
   "execution_count": null,
   "metadata": {
    "hideCode": true
   },
   "outputs": [],
   "source": [
    "# Run the command and display output\n",
    "q = 'hive rm -h'\n",
    "podes = await core.runCmdLine(q)"
   ]
  },
  {
   "cell_type": "raw",
   "metadata": {},
   "source": [
    ".. _syn-kill:\n",
    "\n",
    "kill\n",
    "----\n",
    "\n",
    ".. NOTE::\n",
    "\n",
    "  The cmdr ``kill`` command is being deprecated in favor of the equivalent Storm ``ps.kill`` command. Users are stronlgy encouraged to use the Storm-based equivalent instead. See the :ref:`storm-ps` section of the :ref:`storm-ref-cmd` document for details.\n",
    "\n",
    "The ``kill`` command terminates a task/query executing within a Cortex. ``kill`` requires the iden (ID, identifier) or iden prefix of the task to be terminated, which can be obtained with the `ps`_ command.\n",
    "\n",
    "**Syntax:**\n"
   ]
  },
  {
   "cell_type": "code",
   "execution_count": null,
   "metadata": {
    "hideCode": true
   },
   "outputs": [],
   "source": [
    "# Run the command and display output\n",
    "q = 'help kill'\n",
    "podes = await core.runCmdLine(q)"
   ]
  },
  {
   "cell_type": "raw",
   "metadata": {},
   "source": [
    ".. _syn-locs:\n",
    "\n",
    "locs\n",
    "----\n",
    "\n",
    "The ``locs`` command prints a json-compatible dictionary of local CLI variables where the value is a repr of the object.  This includes the local Synapse version, as well as the remote Synapse version.\n",
    "\n",
    "**Syntax:**\n"
   ]
  },
  {
   "cell_type": "code",
   "execution_count": null,
   "metadata": {
    "hideCode": true
   },
   "outputs": [],
   "source": [
    "# Run the command and display output\n",
    "q = 'help locs'\n",
    "podes = await core.runCmdLine(q)"
   ]
  },
  {
   "cell_type": "raw",
   "metadata": {},
   "source": [
    "**Example:**\n",
    "\n",
    "- List the current local CLI variables."
   ]
  },
  {
   "cell_type": "code",
   "execution_count": null,
   "metadata": {
    "hideCode": true
   },
   "outputs": [],
   "source": [
    "# Run the command and display output\n",
    "q = 'locs'\n",
    "podes = await core.runCmdLine(q)"
   ]
  },
  {
   "cell_type": "raw",
   "metadata": {},
   "source": [
    ".. _syn-log:\n",
    "\n",
    "log\n",
    "---\n",
    "\n",
    "The ``log`` command creates a local log of `storm`_ commands executed during your current session.\n",
    "\n",
    "**Syntax:**\n"
   ]
  },
  {
   "cell_type": "code",
   "execution_count": null,
   "metadata": {
    "hideCode": true
   },
   "outputs": [],
   "source": [
    "# Run the command and display output\n",
    "q = 'help log'\n",
    "podes = await core.runCmdLine(q)"
   ]
  },
  {
   "cell_type": "raw",
   "metadata": {},
   "source": [
    ".. _syn-ps:\n",
    "\n",
    "ps\n",
    "--\n",
    "\n",
    ".. NOTE::\n",
    "\n",
    "  The cmdr ``ps`` command is being deprecated in favor of the equivalent Storm ``ps.list`` command. Users are stronlgy encouraged to use the Storm-based equivalent instead. See the :ref:`storm-ps` section of the :ref:`storm-ref-cmd` document for details.\n",
    "\n",
    "The ``ps`` command displays the tasks/queries currently running in a Cortex.\n",
    "\n",
    "**Syntax:**\n"
   ]
  },
  {
   "cell_type": "code",
   "execution_count": null,
   "metadata": {
    "hideCode": true
   },
   "outputs": [],
   "source": [
    "# Run the command and display output\n",
    "q = 'help ps'\n",
    "podes = await core.runCmdLine(q)"
   ]
  },
  {
   "cell_type": "raw",
   "metadata": {},
   "source": [
    ".. _syn-quit:\n",
    "\n",
    "quit\n",
    "----\n",
    "\n",
    "The ``quit`` command terminates the current Synapse session and exits from the command line interpreter.\n",
    "\n",
    "**Syntax:**\n"
   ]
  },
  {
   "cell_type": "code",
   "execution_count": null,
   "metadata": {
    "hideCode": true
   },
   "outputs": [],
   "source": [
    "# Run the command and display output\n",
    "q = 'help quit'\n",
    "podes = await core.runCmdLine(q)"
   ]
  },
  {
   "cell_type": "raw",
   "metadata": {},
   "source": [
    ".. _syn-storm:\n",
    "\n",
    "storm\n",
    "-----\n",
    "\n",
    "The ``storm`` command executes a Synapse Storm query. Storm is the native Synapse query language used to lift, modify, model and analyze data in a Cortex and execute any loaded Synapse modules. The Storm query language is covered in detail starting with the :ref:`storm-ref-intro` section of the Synapse User Guide.\n",
    "\n",
    "**Syntax:**\n"
   ]
  },
  {
   "cell_type": "code",
   "execution_count": null,
   "metadata": {
    "hideCode": true
   },
   "outputs": [],
   "source": [
    "# Run the command and display output\n",
    "q = 'help storm'\n",
    "podes = await core.runCmdLine(q)"
   ]
  },
  {
   "cell_type": "raw",
   "metadata": {},
   "source": [
    ".. _syn-trigger:\n",
    "\n",
    "trigger\n",
    "-------\n",
    "\n",
    ".. NOTE::\n",
    "\n",
    "  The cmdr ``trigger`` command is being deprecated in favor of the equivalent Storm ``trigger.*`` commands (e.g., ``trigger.add``, ``trigger.list``, etc.). Users are stronlgy encouraged to use the Storm-based equivalents instead. See the :ref:`storm-trigger` section of the :ref:`storm-ref-cmd` document for details.\n",
    "  \n",
    "The ``trigger`` command manipulates triggers in a Cortex. A trigger is a rule stored in a Cortex that enables the automatic execution of a Storm query when a particular event occurs (e.g., an IP address node being added to the Cortex).\n",
    "\n",
    "``trigger`` has multiple subcommands, including:\n",
    "\n",
    "- `trigger help`_\n",
    "- `trigger add`_\n",
    "- `trigger list`_\n",
    "- `trigger mod`_\n",
    "- `trigger disable`_\n",
    "- `trigger enable`_\n",
    "- `trigger del`_\n",
    "\n",
    "**Syntax:**\n"
   ]
  },
  {
   "cell_type": "code",
   "execution_count": null,
   "metadata": {
    "hideCode": true
   },
   "outputs": [],
   "source": [
    "# Run the command and display output\n",
    "q = 'help trigger'\n",
    "podes = await core.runCmdLine(q)"
   ]
  },
  {
   "cell_type": "raw",
   "metadata": {},
   "source": [
    "trigger help\n",
    "++++++++++++\n",
    "\n",
    "``trigger`` includes detailed help describing its individual subcommands.\n",
    "\n",
    "**Syntax:**\n"
   ]
  },
  {
   "cell_type": "code",
   "execution_count": null,
   "metadata": {
    "hideCode": true
   },
   "outputs": [],
   "source": [
    "# Run the command and display output\n",
    "q = 'trigger -h'\n",
    "podes = await core.runCmdLine(q)"
   ]
  },
  {
   "cell_type": "raw",
   "metadata": {},
   "source": [
    "trigger add\n",
    "+++++++++++\n",
    "\n",
    "``trigger add`` adds a new trigger to a Cortex.\n",
    "\n",
    "**Syntax:**\n"
   ]
  },
  {
   "cell_type": "code",
   "execution_count": null,
   "metadata": {
    "hideCode": true
   },
   "outputs": [],
   "source": [
    "# Run the command and display output\n",
    "q = 'trigger add -h'\n",
    "podes = await core.runCmdLine(q)"
   ]
  },
  {
   "cell_type": "raw",
   "metadata": {},
   "source": [
    "trigger list\n",
    "++++++++++++\n",
    "\n",
    "``trigger list`` lists the current triggers in a Cortex.\n",
    "\n",
    "**Syntax:**\n"
   ]
  },
  {
   "cell_type": "code",
   "execution_count": null,
   "metadata": {
    "hideCode": true
   },
   "outputs": [],
   "source": [
    "# Run the command and display output\n",
    "q = 'trigger list -h'\n",
    "podes = await core.runCmdLine(q)"
   ]
  },
  {
   "cell_type": "raw",
   "metadata": {},
   "source": [
    "trigger mod\n",
    "+++++++++++\n",
    "\n",
    "``trigger mod`` allows you to modify the `storm`_ query associated with a given trigger. ``trigger mod`` requires the iden (ID, identifier) prefix of the cron job to be modified, which can be obtained with the `trigger list`_ command.\n",
    "\n",
    "Once created, a trigger’s condition, object, and tag parameters cannot be modified. To change these parameters, a new trigger must be added and the old trigger removed.\n",
    "\n",
    "**Syntax:**\n"
   ]
  },
  {
   "cell_type": "code",
   "execution_count": null,
   "metadata": {
    "hideCode": true
   },
   "outputs": [],
   "source": [
    "# Run the command and display output\n",
    "q = 'trigger mod -h'\n",
    "podes = await core.runCmdLine(q)"
   ]
  },
  {
   "cell_type": "raw",
   "metadata": {},
   "source": [
    "trigger disable\n",
    "+++++++++++++++\n",
    "\n",
    "``trigger disable`` allows you to deactivate a trigger without removing it from the Cortex."
   ]
  },
  {
   "cell_type": "code",
   "execution_count": null,
   "metadata": {
    "hideCode": true
   },
   "outputs": [],
   "source": [
    "# Run the command and display output\n",
    "q = 'trigger disable -h'\n",
    "podes = await core.runCmdLine(q)"
   ]
  },
  {
   "cell_type": "raw",
   "metadata": {
    "hideCode": false
   },
   "source": [
    "trigger enable\n",
    "++++++++++++++\n",
    "\n",
    "``trigger enable`` allows you to activate a trigger so it is available for execution. Triggers are enabled by default."
   ]
  },
  {
   "cell_type": "code",
   "execution_count": null,
   "metadata": {
    "hideCode": true
   },
   "outputs": [],
   "source": [
    "# Run the command and display output\n",
    "q = 'trigger enable -h'\n",
    "podes = await core.runCmdLine(q)"
   ]
  },
  {
   "cell_type": "raw",
   "metadata": {},
   "source": [
    "trigger del\n",
    "+++++++++++\n",
    "\n",
    "``trigger del`` removes the specified trigger from a Cortex. ``trigger del`` requires the iden (ID, identifier) prefix of the cron job to be modified, which can be obtained with the `trigger list`_ command.\n",
    "\n",
    "**Syntax:**\n"
   ]
  },
  {
   "cell_type": "code",
   "execution_count": null,
   "metadata": {
    "hideCode": true
   },
   "outputs": [],
   "source": [
    "# Run the command and display output\n",
    "q = 'trigger del -h'\n",
    "podes = await core.runCmdLine(q)"
   ]
  },
  {
   "cell_type": "code",
   "execution_count": null,
   "metadata": {
    "hideCode": true,
    "hideOutput": true
   },
   "outputs": [],
   "source": [
    "# Close cortex because done\n",
    "_ = await core.fini()"
   ]
  }
 ],
 "metadata": {
  "celltoolbar": "Hide code",
  "kernelspec": {
   "display_name": "Python 3",
   "language": "python",
   "name": "python3"
  },
  "language_info": {
   "codemirror_mode": {
    "name": "ipython",
    "version": 3
   },
   "file_extension": ".py",
   "mimetype": "text/x-python",
   "name": "python",
   "nbconvert_exporter": "python",
   "pygments_lexer": "ipython3",
   "version": "3.7.7"
  }
 },
 "nbformat": 4,
 "nbformat_minor": 2
}
