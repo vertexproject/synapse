{
 "cells": [
  {
   "cell_type": "code",
   "execution_count": 2,
   "metadata": {
    "hideCode": true
   },
   "outputs": [],
   "source": [
    "import os, sys\n",
    "try:\n",
    "    from synapse.lib.jupyter import *\n",
    "except ImportError as e:\n",
    "    # Insert the root path of the repository to sys.path.\n",
    "    # This assumes the notebook is located three directories away\n",
    "    # From the root synapse directory. It may need to be varied\n",
    "    synroot = os.path.abspath('../../../')\n",
    "    sys.path.insert(0, synroot)\n",
    "    from synapse.lib.jupyter import *"
   ]
  },
  {
   "cell_type": "code",
   "execution_count": 19,
   "metadata": {
    "hideCode": true,
    "hideOutput": false
   },
   "outputs": [],
   "source": [
    "#Create a cortex which should contain the runt nodes for the data model\n",
    "core = await getTempCoreCmdr()"
   ]
  },
  {
   "cell_type": "raw",
   "metadata": {},
   "source": [
    ".. highlight:: none\n",
    "\n",
    ".. _syn-ref-cmd:\n",
    "\n",
    "Synapse Reference - cmdr Commands\n",
    "====================================\n",
    "\n",
    "The Synapse CLI (cmdr) contains a set of built-in commands that can be used to interact with a Synapse Cortex. This section details the usage for each built-in Synapse command.\n",
    "\n",
    "See :ref:`syn-tools-cmdr` for background on using ``cmdr`` and interacting with the Synapse CLI.\n",
    "\n",
    "The following Synapse commands are currently supported:\n",
    "\n",
    "- `help`_\n",
    "- `at`_\n",
    "- `cron`_\n",
    "- `hive`_\n",
    "- `kill`_\n",
    "- `locs`_\n",
    "- `log`_\n",
    "- `ps`_\n",
    "- `quit`_\n",
    "- `storm`_\n",
    "- `trigger`_\n",
    "\n",
    ".. _syn_help:\n",
    "\n",
    "help\n",
    "----\n",
    "\n",
    "The ``help`` command displays the list of available built-in commands and a brief message describing each command. Help on individual commands is available via ``help <command>``.\n",
    "\n",
    "**Syntax:**\n"
   ]
  },
  {
   "cell_type": "code",
   "execution_count": 4,
   "metadata": {
    "hideCode": true
   },
   "outputs": [
    {
     "name": "stdout",
     "output_type": "stream",
     "text": [
      "cli> help\n",
      "at      - Adds a non-recurring cron job.\n",
      "cron    - Manages cron jobs in a cortex.\n",
      "help    - List commands and display help output.\n",
      "hive    - Manipulates values in a cell's Hive.\n",
      "kill    - Kill a running task/query within the cortex.\n",
      "locs    - List the current locals for a given CLI object.\n",
      "log     - Add a storm log to the local command session.\n",
      "ps      - List running tasks in the cortex.\n",
      "quit    - Quit the current command line interpreter.\n",
      "storm   - Execute a storm query.\n",
      "trigger - Manipulate triggers in a cortex.\n"
     ]
    }
   ],
   "source": [
    "# Run the command and display output\n",
    "q = 'help'\n",
    "podes = await core.runCmdLine(q)"
   ]
  },
  {
   "cell_type": "raw",
   "metadata": {},
   "source": [
    ".. _syn-at:\n",
    "\n",
    "at\n",
    "--\n",
    "\n",
    "The ``at`` command allows you to schedule a `storm`_ query to execute within a Cortex at one or more specified times. Once created, tasks / queries scheduled with ``at`` are managed using the `cron`_ command. At jobs, like cron jobs, remain in a Cortex until explicitly removed.\n",
    "\n",
    "**Syntax:**\n"
   ]
  },
  {
   "cell_type": "code",
   "execution_count": 5,
   "metadata": {
    "hideCode": true
   },
   "outputs": [
    {
     "name": "stdout",
     "output_type": "stream",
     "text": [
      "cli> help at\n",
      "=== at\n",
      "\n",
      "Adds a non-recurring cron job.\n",
      "\n",
      "It will execute a Storm query at one or more specified times.\n",
      "\n",
      "List/details/deleting cron jobs created with 'at' use the same commands as\n",
      "other cron jobs:  cron list/stat/del respectively.\n",
      "\n",
      "Syntax:\n",
      "    at (time|+time delta)+ {query}\n",
      "\n",
      "Notes:\n",
      "    This command accepts one or more time specifications followed by exactly\n",
      "    one storm query in curly braces.  Each time specification may be in synapse\n",
      "    time delta format (e.g + 1 day) or synapse time format (e.g.\n",
      "    20501217030432101).  Seconds will be ignored, as cron jobs' granularity is\n",
      "    limited to minutes.\n",
      "\n",
      "    All times are interpreted as UTC.\n",
      "\n",
      "    The other option for time specification is a relative time from now.  This\n",
      "    consists of a plus sign, a positive integer, then one of 'minutes, hours,\n",
      "    days'.\n",
      "\n",
      "    Note that the record for a cron job is stored until explicitly deleted via\n",
      "    \"cron del\".\n",
      "\n",
      "Examples:\n",
      "    # Run a storm query in 5 minutes\n",
      "    at +5 minutes {[inet:ipv4=1]}\n",
      "\n",
      "    # Run a storm query tomorrow and in a week\n",
      "    at +1 day +7 days {[inet:ipv4=1]}\n",
      "\n",
      "    # Run a query at the end of the year Zulu\n",
      "    at 20181231Z2359 {[inet:ipv4=1]}\n",
      "\n"
     ]
    }
   ],
   "source": [
    "# Run the command and display output\n",
    "q = 'help at'\n",
    "podes = await core.runCmdLine(q)"
   ]
  },
  {
   "cell_type": "raw",
   "metadata": {},
   "source": [
    ".. _syn-cron:\n",
    "\n",
    "cron\n",
    "----\n",
    "\n",
    "The ``cron`` command allows you to schedule a `storm`_ query to execute within a Cortex on a recurring basis. ``cron`` has multiple subcommands, including:\n",
    "\n",
    "- `cron help`_\n",
    "- `cron add`_\n",
    "- `cron list`_\n",
    "- `cron stat`_\n",
    "- `cron mod`_\n",
    "- `cron del`_\n",
    "\n",
    "**Syntax:**\n"
   ]
  },
  {
   "cell_type": "code",
   "execution_count": 6,
   "metadata": {
    "hideCode": true
   },
   "outputs": [
    {
     "name": "stdout",
     "output_type": "stream",
     "text": [
      "cli> help cron\n",
      "=== cron\n",
      "\n",
      "Manages cron jobs in a cortex.\n",
      "\n",
      "Cron jobs are rules persistently stored in a cortex such that storm queries\n",
      "automatically run on a time schedule.\n",
      "\n",
      "Cron jobs may be be recurring or one-time.  Use the 'at' command to add\n",
      "one-time jobs.\n",
      "\n",
      "A subcommand is required.  Use 'cron -h' for more detailed help.  \n"
     ]
    }
   ],
   "source": [
    "# Run the command and display output\n",
    "q = 'help cron'\n",
    "podes = await core.runCmdLine(q)"
   ]
  },
  {
   "cell_type": "raw",
   "metadata": {},
   "source": [
    "cron help\n",
    "+++++++++\n",
    "\n",
    "``cron`` includes detailed help describing its individual subcommands.\n",
    "\n",
    "**Syntax:**\n"
   ]
  },
  {
   "cell_type": "code",
   "execution_count": 7,
   "metadata": {
    "hideCode": true
   },
   "outputs": [
    {
     "name": "stdout",
     "output_type": "stream",
     "text": [
      "cli> cron -h\n",
      "usage: cron [-h] {list,add,del,stat,mod} ...\n",
      "\n",
      "Manages cron jobs in a cortex.\n",
      "\n",
      "Cron jobs are rules persistently stored in a cortex such that storm queries\n",
      "automatically run on a time schedule.\n",
      "\n",
      "Cron jobs may be be recurring or one-time.  Use the 'at' command to add\n",
      "one-time jobs.\n",
      "\n",
      "A subcommand is required.  Use 'cron -h' for more detailed help.  \n",
      "\n",
      "optional arguments:\n",
      "  -h, --help            show this help message and exit\n",
      "\n",
      "subcommands:\n",
      "  {list,add,del,stat,mod}\n",
      "    list                List cron jobs you're allowed to manipulate\n",
      "    add                 add a cron job\n",
      "    del                 delete a cron job\n",
      "    stat                details a cron job\n",
      "    mod                 change an existing cron jobquery\n",
      "\n"
     ]
    }
   ],
   "source": [
    "# Run the command and display output\n",
    "q = 'cron -h'\n",
    "podes = await core.runCmdLine(q)"
   ]
  },
  {
   "cell_type": "raw",
   "metadata": {},
   "source": [
    "cron add\n",
    "++++++++\n",
    "\n",
    "``cron add`` adds a cron job to a Cortex.\n",
    "\n",
    "**Syntax:**\n"
   ]
  },
  {
   "cell_type": "code",
   "execution_count": 8,
   "metadata": {
    "hideCode": true
   },
   "outputs": [
    {
     "name": "stdout",
     "output_type": "stream",
     "text": [
      "cli> cron add -h\n",
      "usage: \n",
      "Add a recurring cron job to a cortex.\n",
      "\n",
      "Syntax:\n",
      "    cron add [optional arguments] {query}\n",
      "\n",
      "    --minute, -M int[,int...][=]\n",
      "    --hour, -H\n",
      "    --day, -d\n",
      "    --month, -m\n",
      "    --year, -y\n",
      "\n",
      "       *or:*\n",
      "\n",
      "    [--hourly <min> |\n",
      "     --daily <hour>:<min> |\n",
      "     --monthly <day>:<hour>:<min> |\n",
      "     --yearly <month>:<day>:<hour>:<min>]\n",
      "\n",
      "Notes:\n",
      "    All times are interpreted as UTC.\n",
      "\n",
      "    All arguments are interpreted as the job period, unless the value ends in\n",
      "    an equals sign, in which case the argument is interpreted as the recurrence\n",
      "    period.  Only one recurrence period parameter may be specified.\n",
      "\n",
      "    Currently, a fixed unit must not be larger than a specified recurrence\n",
      "    period.  i.e. '--hour 7 --minute +15' (every 15 minutes from 7-8am?) is not\n",
      "    supported.\n",
      "\n",
      "    Value values for fixed hours are 0-23 on a 24-hour clock where midnight is 0.\n",
      "\n",
      "    If the --day parameter value does not start with in '+' and is an integer, it is\n",
      "    interpreted as a fixed day of the month.  A negative integer may be\n",
      "    specified to count from the end of the month with -1 meaning the last day\n",
      "    of the month.  All fixed day values are clamped to valid days, so for\n",
      "    example '-d 31' will run on February 28.\n",
      "\n",
      "    If the fixed day parameter is a value in ([Mon, Tue, Wed, Thu, Fri, Sat,\n",
      "    Sun] if locale is set to English) it is interpreted as a fixed day of the\n",
      "    week.\n",
      "\n",
      "    Otherwise, if the parameter value starts with a '+', then it is interpreted\n",
      "    as an recurrence interval of that many days.\n",
      "\n",
      "    If no plus-sign-starting parameter is specified, the recurrence period\n",
      "    defaults to the unit larger than all the fixed parameters.   e.g. '-M 5'\n",
      "    means every hour at 5 minutes past, and -H 3, -M 1 means 3:01 every day.\n",
      "\n",
      "    At least one optional parameter must be provided.\n",
      "\n",
      "    All parameters accept multiple comma-separated values.  If multiple\n",
      "    parameters have multiple values, all combinations of those values are used.\n",
      "\n",
      "    All fixed units not specified lower than the recurrence period default to\n",
      "    the lowest valid value, e.g. -m +2 will be scheduled at 12:00am the first of\n",
      "    every other month.  One exception is the largest fixed value is day of the\n",
      "    week, then the default period is set to be a week.\n",
      "\n",
      "    A month period with a day of week fixed value is not currently supported.\n",
      "\n",
      "    Fixed-value year (i.e. --year 2019) is not supported.  See the 'at'\n",
      "    command for one-time cron jobs.\n",
      "\n",
      "    As an alternative to the above options, one may use exactly one of\n",
      "    --hourly, --daily, --monthly, --yearly with a colon-separated list of\n",
      "    fixed parameters for the value.  It is an error to use both the individual\n",
      "    options and these aliases at the same time.\n",
      "\n",
      "Examples:\n",
      "    Run a query every last day of the month at 3 am\n",
      "    cron add -H 3 -d-1 {#foo}\n",
      "\n",
      "    Run a query every 8 hours\n",
      "    cron add -H +8 {#foo}\n",
      "\n",
      "    Run a query every Wednesday and Sunday at midnight and noon\n",
      "    cron add -H 0,12 -d Wed,Sun {#foo}\n",
      "\n",
      "    Run a query every other day at 3:57pm\n",
      "    cron add -d +2 -M 57 -H 15 {#foo}\n",
      "\n",
      "positional arguments:\n",
      "  query                 Storm query in curly braces\n",
      "\n",
      "optional arguments:\n",
      "  -h, --help            show this help message and exit\n",
      "  --minute MINUTE, -M MINUTE\n",
      "  --hour HOUR, -H HOUR\n",
      "  --day DAY, -d DAY     day of week, day of month or number of days\n",
      "  --month MONTH, -m MONTH\n",
      "  --year YEAR, -y YEAR\n",
      "  --hourly HOURLY\n",
      "  --daily DAILY\n",
      "  --monthly MONTHLY\n",
      "  --yearly YEARLY\n",
      "\n"
     ]
    }
   ],
   "source": [
    "# Run the command and display output\n",
    "q = 'cron add -h'\n",
    "podes = await core.runCmdLine(q)"
   ]
  },
  {
   "cell_type": "raw",
   "metadata": {},
   "source": [
    "cron list\n",
    "+++++++++\n",
    "\n",
    "``cron list`` lists existing cron jobs in a Cortex that the current user can view / modify based on their permissions.\n",
    "\n",
    "**Syntax:**\n"
   ]
  },
  {
   "cell_type": "code",
   "execution_count": 9,
   "metadata": {
    "hideCode": true
   },
   "outputs": [
    {
     "name": "stdout",
     "output_type": "stream",
     "text": [
      "cli> cron list -h\n",
      "usage: \n",
      "List existing cron jobs in a cortex.\n",
      "\n",
      "Syntax:\n",
      "    cron list\n",
      "\n",
      "Example:\n",
      "    cli> cron list\n",
      "    user       iden       recurs? now? # start last start       last end         query\n",
      "    <None>     4ad2218a.. N       N          1 2018-12-14T15:53 2018-12-14T15:53 #foo\n",
      "    <None>     f6b6aebd.. Y       N          3 2018-12-14T16:25 2018-12-14T16:25 #foo\n",
      "\n",
      "optional arguments:\n",
      "  -h, --help  show this help message and exit\n",
      "\n"
     ]
    }
   ],
   "source": [
    "# Run the command and display output\n",
    "q = 'cron list -h'\n",
    "podes = await core.runCmdLine(q)"
   ]
  },
  {
   "cell_type": "raw",
   "metadata": {},
   "source": [
    "cron stat\n",
    "+++++++++\n",
    "\n",
    "``cron stat`` displays statistics about a cron job. ``cron stat`` requires the iden (ID, identifier) prefix of the cron job to be displayed, which can be obtained with the `cron list`_ command.\n",
    "\n",
    "**Syntax:**\n"
   ]
  },
  {
   "cell_type": "code",
   "execution_count": 10,
   "metadata": {
    "hideCode": true
   },
   "outputs": [
    {
     "name": "stdout",
     "output_type": "stream",
     "text": [
      "cli> cron stat -h\n",
      "usage: \n",
      "Gives detailed information about a single cron job.\n",
      "\n",
      "Syntax:\n",
      "    cron stat <iden prefix>\n",
      "\n",
      "Notes:\n",
      "    Any prefix that matches exactly one valid cron job iden is accepted.\n",
      "\n",
      "positional arguments:\n",
      "  prefix      Cron job iden prefix\n",
      "\n",
      "optional arguments:\n",
      "  -h, --help  show this help message and exit\n",
      "\n"
     ]
    }
   ],
   "source": [
    "# Run the command and display output\n",
    "q = 'cron stat -h'\n",
    "podes = await core.runCmdLine(q)"
   ]
  },
  {
   "cell_type": "raw",
   "metadata": {},
   "source": [
    "cron mod\n",
    "++++++++\n",
    "\n",
    "``cron mod`` allows you to modify the `storm`_ query executed by a cron job. ``cron mod`` requires the iden (ID, identifier) prefix of the cron job to be modified, which can be obtained with the `cron list`_ command.\n",
    "\n",
    "Once created, a cron job’s schedule (including jobs created with `at`_ ) cannot be modified. A new job must be added and the old job removed.\n",
    "\n",
    "**Syntax:**\n"
   ]
  },
  {
   "cell_type": "code",
   "execution_count": 11,
   "metadata": {
    "hideCode": true
   },
   "outputs": [
    {
     "name": "stdout",
     "output_type": "stream",
     "text": [
      "cli> cron mod -h\n",
      "usage: \n",
      "Changes an existing cron job's query.\n",
      "\n",
      "Syntax:\n",
      "    cron mod <iden prefix> <new query>\n",
      "\n",
      "Notes:\n",
      "    Any prefix that matches exactly one valid cron iden is accepted.\n",
      "\n",
      "positional arguments:\n",
      "  prefix      Cron job iden prefix\n",
      "  query       New Storm query in curly braces\n",
      "\n",
      "optional arguments:\n",
      "  -h, --help  show this help message and exit\n",
      "\n"
     ]
    }
   ],
   "source": [
    "# Run the command and display output\n",
    "q = 'cron mod -h'\n",
    "podes = await core.runCmdLine(q)"
   ]
  },
  {
   "cell_type": "raw",
   "metadata": {},
   "source": [
    "cron del\n",
    "++++++++\n",
    "\n",
    "``cron del`` deletes the specified cron job. Cron jobs remain in a Cortex until explicitly removed. ``cron del`` requires the iden (ID, identifier) prefix of the cron job to be removed, which can be obtained with the `cron list`_ command.\n",
    "\n",
    "**Syntax:**\n"
   ]
  },
  {
   "cell_type": "code",
   "execution_count": 12,
   "metadata": {
    "hideCode": true
   },
   "outputs": [
    {
     "name": "stdout",
     "output_type": "stream",
     "text": [
      "cli> cron del -h\n",
      "usage: \n",
      "Deletes a single cron job.\n",
      "\n",
      "Syntax:\n",
      "    cron del <iden prefix>\n",
      "\n",
      "Notes:\n",
      "    Any prefix that matches exactly one valid cron job iden is accepted.\n",
      "\n",
      "positional arguments:\n",
      "  prefix      Cron job iden prefix\n",
      "\n",
      "optional arguments:\n",
      "  -h, --help  show this help message and exit\n",
      "\n"
     ]
    }
   ],
   "source": [
    "# Run the command and display output\n",
    "q = 'cron del -h'\n",
    "podes = await core.runCmdLine(q)"
   ]
  },
  {
   "cell_type": "raw",
   "metadata": {},
   "source": [
    ".. _syn-hive:\n",
    "\n",
    "hive\n",
    "----\n",
    "\n",
    "The ``hive`` command allows you to view, create, edit, and remove data stored in a Cell's Hive. ``hive`` has multiple subcommands, including:\n",
    "\n",
    "\n",
    "\n",
    "The ``cron`` command allows you to schedule a `storm`_ query to execute within a Cortex on a recurring basis. ``cron`` has multiple subcommands, including:\n",
    "\n",
    "- `hive help`_\n",
    "- `hive ls`_\n",
    "- `hive get`_\n",
    "- `hive edit`_\n",
    "- `hive rm`_\n",
    "\n",
    "**Syntax:**"
   ]
  },
  {
   "cell_type": "code",
   "execution_count": 13,
   "metadata": {
    "hideCode": true
   },
   "outputs": [
    {
     "name": "stdout",
     "output_type": "stream",
     "text": [
      "cli> help hive\n",
      "=== hive\n",
      "\n",
      "Manipulates values in a cell's Hive.\n",
      "\n",
      "A Hive is a hierarchy persistent storage mechanism typically used for configuration data.\n",
      "\n"
     ]
    }
   ],
   "source": [
    "# Run the command and display output\n",
    "q = 'help hive'\n",
    "podes = await core.runCmdLine(q)"
   ]
  },
  {
   "cell_type": "raw",
   "metadata": {},
   "source": [
    ".. _hive-help:\n",
    "\n",
    "hive help\n",
    "+++++++++\n",
    "\n",
    "``hive`` includes detailed help describing its individual subcommands.\n",
    "\n",
    "**Syntax:**"
   ]
  },
  {
   "cell_type": "code",
   "execution_count": 14,
   "metadata": {
    "hideCode": true
   },
   "outputs": [
    {
     "name": "stdout",
     "output_type": "stream",
     "text": [
      "cli> hive --help\n",
      "usage: hive [-h] {ls,get,rm,edit} ...\n",
      "\n",
      "Manipulates values in a cell's Hive.\n",
      "\n",
      "A Hive is a hierarchy persistent storage mechanism typically used for configuration data.\n",
      "\n",
      "optional arguments:\n",
      "  -h, --help        show this help message and exit\n",
      "\n",
      "subcommands:\n",
      "  {ls,get,rm,edit}\n",
      "    ls              List entries in the hive\n",
      "    get             Get any entry in the hive\n",
      "    rm              Delete a key in the hive\n",
      "    edit            Sets/creates a key\n",
      "\n"
     ]
    }
   ],
   "source": [
    "# Run the command and display output\n",
    "q = 'hive --help'\n",
    "podes = await core.runCmdLine(q)"
   ]
  },
  {
   "cell_type": "raw",
   "metadata": {},
   "source": [
    ".. _hive-ls:\n",
    "\n",
    "hive ls\n",
    "+++++++\n",
    "\n",
    "``hive ls`` lists the current entries in a specified Hive path.\n",
    "\n",
    "**Syntax:**"
   ]
  },
  {
   "cell_type": "code",
   "execution_count": 15,
   "metadata": {
    "hideCode": true
   },
   "outputs": [
    {
     "name": "stdout",
     "output_type": "stream",
     "text": [
      "cli> hive ls -h\n",
      "usage: \n",
      "Lists all the keys underneath a particular key in the hive.\n",
      "\n",
      "Syntax:\n",
      "    hive ls [path]\n",
      "\n",
      "Notes:\n",
      "    If path is not specified, the root is listed.\n",
      "\n",
      "positional arguments:\n",
      "  path        Hive path\n",
      "\n",
      "optional arguments:\n",
      "  -h, --help  show this help message and exit\n",
      "\n"
     ]
    }
   ],
   "source": [
    "# Run the command and display output\n",
    "q = 'hive ls -h'\n",
    "podes = await core.runCmdLine(q)"
   ]
  },
  {
   "cell_type": "raw",
   "metadata": {},
   "source": [
    ".. _hive-get:\n",
    "\n",
    "hive get\n",
    "++++++++\n",
    "\n",
    "``hive get`` retrieves the contents of a specified Hive key and either displays them at the CLI or saves them to the specified file.\n",
    "\n",
    "**Syntax:**"
   ]
  },
  {
   "cell_type": "code",
   "execution_count": 16,
   "metadata": {
    "hideCode": true
   },
   "outputs": [
    {
     "name": "stdout",
     "output_type": "stream",
     "text": [
      "cli> hive get -h\n",
      "usage: \n",
      "Display or save to file the contents of a key in the hive.\n",
      "\n",
      "Syntax:\n",
      "    hive get [--file] [--json] {path}\n",
      "\n",
      "positional arguments:\n",
      "  path                  Hive path\n",
      "\n",
      "optional arguments:\n",
      "  -h, --help            show this help message and exit\n",
      "  -f FILE, --file FILE  Save the data to a file. Only works for str values.\n",
      "  --json                Emit output as json\n",
      "\n"
     ]
    }
   ],
   "source": [
    "# Run the command and display output\n",
    "q = 'hive get -h'\n",
    "podes = await core.runCmdLine(q)"
   ]
  },
  {
   "cell_type": "raw",
   "metadata": {},
   "source": [
    ".. _hive-edit:\n",
    "\n",
    "hive edit\n",
    "+++++++++\n",
    "\n",
    "``hive edit`` allows you to create or modify key in the Hive. The key contents can be viewed and modified in a text editor or uploaded from a file.\n",
    "\n",
    "**Syntax:**"
   ]
  },
  {
   "cell_type": "code",
   "execution_count": 17,
   "metadata": {
    "hideCode": true
   },
   "outputs": [
    {
     "name": "stdout",
     "output_type": "stream",
     "text": [
      "cli> hive edit -h\n",
      "usage: \n",
      "Edits or creates a key in the cell's hive.\n",
      "\n",
      "Syntax:\n",
      "    hive edit {path} [--string] ({value} | --editor | -f {filename})\n",
      "\n",
      "Notes:\n",
      "    One may specify the value directly on the command line, from a file, or use an editor.  For the --editor option,\n",
      "    the environment variable VISUAL or EDITOR must be set.\n",
      "\n",
      "positional arguments:\n",
      "  path                  Hive path\n",
      "  value                 Value to set\n",
      "\n",
      "optional arguments:\n",
      "  -h, --help            show this help message and exit\n",
      "  --string              Edit value as a single string\n",
      "  --editor              Opens an editor to set the value\n",
      "  --file FILE, -f FILE  Copies the contents of the file to the path\n",
      "\n"
     ]
    }
   ],
   "source": [
    "# Run the command and display output\n",
    "q = 'hive edit -h'\n",
    "podes = await core.runCmdLine(q)"
   ]
  },
  {
   "cell_type": "raw",
   "metadata": {},
   "source": [
    ".. _hive-rm:\n",
    "\n",
    "hive rm\n",
    "+++++++\n",
    "\n",
    "``hive rm`` deletes the specified key (or directory) from a Hive.\n",
    "\n",
    "\n",
    "**Syntax:**"
   ]
  },
  {
   "cell_type": "code",
   "execution_count": 18,
   "metadata": {
    "hideCode": true
   },
   "outputs": [
    {
     "name": "stdout",
     "output_type": "stream",
     "text": [
      "cli> hive rm -h\n",
      "usage: \n",
      "Deletes a key in the cell's hive.\n",
      "\n",
      "Syntax:\n",
      "    hive rm {path}\n",
      "\n",
      "Notes:\n",
      "    Delete will recursively delete all subkeys underneath path if they exist.\n",
      "\n",
      "positional arguments:\n",
      "  path        Hive path\n",
      "\n",
      "optional arguments:\n",
      "  -h, --help  show this help message and exit\n",
      "\n"
     ]
    }
   ],
   "source": [
    "# Run the command and display output\n",
    "q = 'hive rm -h'\n",
    "podes = await core.runCmdLine(q)"
   ]
  },
  {
   "cell_type": "raw",
   "metadata": {},
   "source": [
    ".. _syn-kill:\n",
    "\n",
    "kill\n",
    "----\n",
    "\n",
    "The ``kill`` command terminates a task/query executing within a Cortex. ``kill`` requires the iden (ID, identifier) or iden prefix of the task to be terminated, which can be obtained with the `ps`_ command.\n",
    "\n",
    "**Syntax:**\n"
   ]
  },
  {
   "cell_type": "code",
   "execution_count": 20,
   "metadata": {
    "hideCode": true
   },
   "outputs": [
    {
     "name": "stdout",
     "output_type": "stream",
     "text": [
      "cli> help kill\n",
      "=== kill\n",
      "\n",
      "    Kill a running task/query within the cortex.\n",
      "\n",
      "    Syntax:\n",
      "        kill <iden>\n",
      "\n",
      "    Users may specify a partial iden GUID in order to kill\n",
      "    exactly one matching process based on the partial guid.\n",
      "    \n"
     ]
    }
   ],
   "source": [
    "# Run the command and display output\n",
    "q = 'help kill'\n",
    "podes = await core.runCmdLine(q)"
   ]
  },
  {
   "cell_type": "raw",
   "metadata": {},
   "source": [
    ".. _syn-locs:\n",
    "\n",
    "locs\n",
    "----\n",
    "\n",
    "The ``locs`` command prints a json-compatible dictionary of local CLI variables where the value is a repr of the object.\n",
    "\n",
    "**Syntax:**\n"
   ]
  },
  {
   "cell_type": "code",
   "execution_count": 21,
   "metadata": {
    "hideCode": true
   },
   "outputs": [
    {
     "name": "stdout",
     "output_type": "stream",
     "text": [
      "cli> help locs\n",
      "=== locs\n",
      "\n",
      "    List the current locals for a given CLI object.\n",
      "    \n"
     ]
    }
   ],
   "source": [
    "# Run the command and display output\n",
    "q = 'help locs'\n",
    "podes = await core.runCmdLine(q)"
   ]
  },
  {
   "cell_type": "raw",
   "metadata": {},
   "source": [
    ".. _syn-log:\n",
    "\n",
    "log\n",
    "---\n",
    "\n",
    "The ``log`` command creates a local log of `storm`_ commands executed during your current session.\n",
    "\n",
    "**Syntax:**\n"
   ]
  },
  {
   "cell_type": "code",
   "execution_count": 22,
   "metadata": {
    "hideCode": true
   },
   "outputs": [
    {
     "name": "stdout",
     "output_type": "stream",
     "text": [
      "cli> help log\n",
      "=== log\n",
      "\n",
      "    Add a storm log to the local command session.\n",
      "\n",
      "    Syntax:\n",
      "        log (--on|--off) [--splices-only] [--format (mpk|jsonl)] [--path /path/to/file]\n",
      "\n",
      "    Required Arguments:\n",
      "        --on: Enables logging of storm messages to a file.\n",
      "        --off: Disables message logging and closes the current storm file.\n",
      "\n",
      "    Optional Arguments:\n",
      "        --splices-only: Only records splices. Does not record any other messages.\n",
      "        --format: The format used to save messages to disk. Defaults to msgpack (mpk).\n",
      "        --path: The path to the log file.  This will append messages to a existing file.\n",
      "\n",
      "    Notes:\n",
      "        By default, the log file contains all messages received from the execution of\n",
      "        a Storm query by the current CLI. By default, these messages are saved to a\n",
      "        file located in ~/.syn/stormlogs/storm_(date).(format).\n",
      "\n",
      "    Examples:\n",
      "        # Enable logging all messages to mpk files (default)\n",
      "        log --on\n",
      "\n",
      "        # Disable logging and close the current file\n",
      "        log --off\n",
      "\n",
      "        # Enable logging, but only log splices. Log them as jsonl instead of mpk.\n",
      "        log --on --splices-only --format jsonl\n",
      "\n",
      "        # Enable logging, but log to a custom path:\n",
      "        log --on --path /my/aweome/log/directory/storm20010203.mpk\n",
      "\n",
      "    \n"
     ]
    }
   ],
   "source": [
    "# Run the command and display output\n",
    "q = 'help log'\n",
    "podes = await core.runCmdLine(q)"
   ]
  },
  {
   "cell_type": "raw",
   "metadata": {},
   "source": [
    ".. _syn-ps:\n",
    "\n",
    "ps\n",
    "--\n",
    "\n",
    "The ``ps`` command displays the tasks/queries currently running in a Cortex.\n",
    "\n",
    "**Syntax:**\n"
   ]
  },
  {
   "cell_type": "code",
   "execution_count": 23,
   "metadata": {
    "hideCode": true
   },
   "outputs": [
    {
     "name": "stdout",
     "output_type": "stream",
     "text": [
      "cli> help ps\n",
      "=== ps\n",
      "\n",
      "    List running tasks in the cortex.\n",
      "    \n"
     ]
    }
   ],
   "source": [
    "# Run the command and display output\n",
    "q = 'help ps'\n",
    "podes = await core.runCmdLine(q)"
   ]
  },
  {
   "cell_type": "raw",
   "metadata": {},
   "source": [
    ".. _syn-quit:\n",
    "\n",
    "quit\n",
    "----\n",
    "\n",
    "The ``quit`` command terminates the current Synapse session and exits from the command line interpreter.\n",
    "\n",
    "**Syntax:**\n"
   ]
  },
  {
   "cell_type": "code",
   "execution_count": 24,
   "metadata": {
    "hideCode": true
   },
   "outputs": [
    {
     "name": "stdout",
     "output_type": "stream",
     "text": [
      "cli> help quit\n",
      "=== quit\n",
      "\n",
      "    Quit the current command line interpreter.\n",
      "\n",
      "    Example:\n",
      "\n",
      "        quit\n",
      "    \n"
     ]
    }
   ],
   "source": [
    "# Run the command and display output\n",
    "q = 'help quit'\n",
    "podes = await core.runCmdLine(q)"
   ]
  },
  {
   "cell_type": "raw",
   "metadata": {},
   "source": [
    ".. _syn-storm:\n",
    "\n",
    "storm\n",
    "-----\n",
    "\n",
    "The ``storm`` command executes a Synapse Storm query. Storm is the native Synapse query language used to lift, modify, model and analyze data in a Cortex and execute any loaded Synapse modules. The Storm query language is covered in detail starting with the :ref:`storm-ref-intro` section of the Synapse User Guide.\n",
    "\n",
    "**Syntax:**\n"
   ]
  },
  {
   "cell_type": "code",
   "execution_count": 25,
   "metadata": {
    "hideCode": true
   },
   "outputs": [
    {
     "name": "stdout",
     "output_type": "stream",
     "text": [
      "cli> help storm\n",
      "=== storm\n",
      "\n",
      "    Execute a storm query.\n",
      "\n",
      "    Syntax:\n",
      "        storm <query>\n",
      "\n",
      "    Arguments:\n",
      "        query: The storm query\n",
      "\n",
      "    Optional Arguments:\n",
      "        --hide-tags: Do not print tags\n",
      "        --hide-props: Do not print secondary properties\n",
      "        --hide-unknown: Do not print messages which do not have known handlers.\n",
      "        --raw: Print the nodes in their raw format\n",
      "            (overrides --hide-tags and --hide-props)\n",
      "        --debug: Display cmd debug information along with nodes in raw format\n",
      "            (overrides --hide-tags, --hide-props and raw)\n",
      "        --path: Get path information about returned nodes.\n",
      "        --graph: Get graph information about returned nodes.\n",
      "\n",
      "    Examples:\n",
      "        storm inet:ipv4=1.2.3.4\n",
      "        storm --debug inet:ipv4=1.2.3.4\n",
      "    \n"
     ]
    }
   ],
   "source": [
    "# Run the command and display output\n",
    "q = 'help storm'\n",
    "podes = await core.runCmdLine(q)"
   ]
  },
  {
   "cell_type": "raw",
   "metadata": {},
   "source": [
    ".. _syn-trigger:\n",
    "\n",
    "trigger\n",
    "-------\n",
    "\n",
    "The ``trigger`` command manipulates triggers in a Cortex. A trigger is a rule stored in a Cortex that enables the automatic execution of a Storm query when a particular event occurs (e.g., an IP address node being added to the Cortex).\n",
    "\n",
    "``trigger`` has multiple subcommands, including:\n",
    "\n",
    "- `trigger help`_\n",
    "- `trigger add`_\n",
    "- `trigger list`_\n",
    "- `trigger mod`_\n",
    "- `trigger del`_\n",
    "\n",
    "**Syntax:**\n"
   ]
  },
  {
   "cell_type": "code",
   "execution_count": 26,
   "metadata": {
    "hideCode": true
   },
   "outputs": [
    {
     "name": "stdout",
     "output_type": "stream",
     "text": [
      "cli> help trigger\n",
      "=== trigger\n",
      "\n",
      "Manipulate triggers in a cortex.\n",
      "\n",
      "Triggers are rules persistently stored in a cortex such that storm queries\n",
      "automatically run when a particular event happens.\n",
      "\n",
      "A subcommand is required.  Use `trigger -h` for more detailed help.\n",
      "\n"
     ]
    }
   ],
   "source": [
    "# Run the command and display output\n",
    "q = 'help trigger'\n",
    "podes = await core.runCmdLine(q)"
   ]
  },
  {
   "cell_type": "raw",
   "metadata": {},
   "source": [
    "trigger help\n",
    "++++++++++++\n",
    "\n",
    "``trigger`` includes detailed help describing its individual subcommands.\n",
    "\n",
    "**Syntax:**\n"
   ]
  },
  {
   "cell_type": "code",
   "execution_count": 27,
   "metadata": {
    "hideCode": true
   },
   "outputs": [
    {
     "name": "stdout",
     "output_type": "stream",
     "text": [
      "cli> trigger -h\n",
      "usage: trigger [-h] {list,add,del,mod} ...\n",
      "\n",
      "Manipulate triggers in a cortex.\n",
      "\n",
      "Triggers are rules persistently stored in a cortex such that storm queries\n",
      "automatically run when a particular event happens.\n",
      "\n",
      "A subcommand is required.  Use `trigger -h` for more detailed help.\n",
      "\n",
      "optional arguments:\n",
      "  -h, --help          show this help message and exit\n",
      "\n",
      "subcommands:\n",
      "  {list,add,del,mod}\n",
      "    list              List triggers you're allowed to manipulate\n",
      "    add               add a trigger\n",
      "    del               delete a trigger\n",
      "    mod               change an existing trigger query\n",
      "\n"
     ]
    }
   ],
   "source": [
    "# Run the command and display output\n",
    "q = 'trigger -h'\n",
    "podes = await core.runCmdLine(q)"
   ]
  },
  {
   "cell_type": "raw",
   "metadata": {},
   "source": [
    "trigger add\n",
    "+++++++++++\n",
    "\n",
    "``trigger add`` adds a new trigger to a Cortex.\n",
    "\n",
    "**Syntax:**\n"
   ]
  },
  {
   "cell_type": "code",
   "execution_count": 28,
   "metadata": {
    "hideCode": true
   },
   "outputs": [
    {
     "name": "stdout",
     "output_type": "stream",
     "text": [
      "cli> trigger add -h\n",
      "usage: \n",
      "Add triggers in a cortex.\n",
      "\n",
      "Syntax: trigger add condition <object> [#tag] query\n",
      "\n",
      "Notes:\n",
      "    Valid values for condition are:\n",
      "        * tag:add\n",
      "        * tag:del\n",
      "        * node:add\n",
      "        * node:del\n",
      "        * prop:set\n",
      "\n",
      "When condition is tag:add or tag:del, you may optionally provide a form name\n",
      "to restrict the trigger to fire only on tags added or deleted from nodes of\n",
      "those forms.\n",
      "\n",
      "Tag names must start with #.\n",
      "\n",
      "The added tag is provided to the query as an embedded variable '$tag'.\n",
      "\n",
      "Simple one level tag globbing is supported, only at the end after a period,\n",
      "that is aka.* matches aka.foo and aka.bar but not aka.foo.bar.  aka* is not\n",
      "supported.\n",
      "\n",
      "Examples:\n",
      "    # Adds a tag to every inet:ipv4 added\n",
      "    trigger add node:add inet:ipv4 {[ +#mytag ]}\n",
      "\n",
      "    # Adds a tag #todo to every node as it is tagged #aka\n",
      "    trigger add tag:add #aka {[ +#todo ]}\n",
      "\n",
      "    # Adds a tag #todo to every inet:ipv4 as it is tagged #aka\n",
      "    trigger add tag:add inet:ipv4 #aka {[ +#todo ]}\n",
      "\n",
      "positional arguments:\n",
      "  {node:add,node:del,tag:del,prop:set,tag:add}\n",
      "                        Condition on which to trigger\n",
      "  arguments             [form] [#tag] [prop] {query}\n",
      "\n",
      "optional arguments:\n",
      "  -h, --help            show this help message and exit\n",
      "\n"
     ]
    }
   ],
   "source": [
    "# Run the command and display output\n",
    "q = 'trigger add -h'\n",
    "podes = await core.runCmdLine(q)"
   ]
  },
  {
   "cell_type": "raw",
   "metadata": {},
   "source": [
    "trigger list\n",
    "++++++++++++\n",
    "\n",
    "``trigger list`` lists the current triggers in a Cortex.\n",
    "\n",
    "**Syntax:**\n"
   ]
  },
  {
   "cell_type": "code",
   "execution_count": 29,
   "metadata": {
    "hideCode": true
   },
   "outputs": [
    {
     "name": "stdout",
     "output_type": "stream",
     "text": [
      "cli> trigger list -h\n",
      "usage: \n",
      "List existing triggers in a cortex.\n",
      "\n",
      "Syntax:\n",
      "    trigger list\n",
      "\n",
      "Example:\n",
      "    cli> trigger list\n",
      "    user       iden         cond      object                    storm query\n",
      "    <None>     739719ff..   prop:set  test:type10.intprop            [ test:int=6 ]\n",
      "\n",
      "optional arguments:\n",
      "  -h, --help  show this help message and exit\n",
      "\n"
     ]
    }
   ],
   "source": [
    "# Run the command and display output\n",
    "q = 'trigger list -h'\n",
    "podes = await core.runCmdLine(q)"
   ]
  },
  {
   "cell_type": "raw",
   "metadata": {},
   "source": [
    "trigger mod\n",
    "+++++++++++\n",
    "\n",
    "``trigger mod`` allows you to modify the `storm`_ query associated with a given trigger. ``trigger mod`` requires the iden (ID, identifier) prefix of the cron job to be modified, which can be obtained with the `trigger list`_ command.\n",
    "\n",
    "Once created, a trigger’s condition, object, and tag parameters cannot be modified. To change these parameters, a new trigger must be added and the old trigger removed.\n",
    "\n",
    "**Syntax:**\n"
   ]
  },
  {
   "cell_type": "code",
   "execution_count": 30,
   "metadata": {
    "hideCode": true
   },
   "outputs": [
    {
     "name": "stdout",
     "output_type": "stream",
     "text": [
      "cli> trigger mod -h\n",
      "usage: \n",
      "Changes an existing trigger's query.\n",
      "\n",
      "Syntax:\n",
      "    trigger mod <iden prefix> <new query>\n",
      "\n",
      "Notes:\n",
      "    Any prefix that matches exactly one valid trigger iden is accepted.\n",
      "\n",
      "positional arguments:\n",
      "  prefix      Trigger iden prefix\n",
      "  query       Storm query in curly braces\n",
      "\n",
      "optional arguments:\n",
      "  -h, --help  show this help message and exit\n",
      "\n"
     ]
    }
   ],
   "source": [
    "# Run the command and display output\n",
    "q = 'trigger mod -h'\n",
    "podes = await core.runCmdLine(q)"
   ]
  },
  {
   "cell_type": "raw",
   "metadata": {},
   "source": [
    "trigger del\n",
    "+++++++++++\n",
    "\n",
    "``trigger del`` removes the specified trigger from a Cortex. ``trigger del`` requires the iden (ID, identifier) prefix of the cron job to be modified, which can be obtained with the `trigger list`_ command.\n",
    "\n",
    "**Syntax:**\n"
   ]
  },
  {
   "cell_type": "code",
   "execution_count": 31,
   "metadata": {
    "hideCode": true
   },
   "outputs": [
    {
     "name": "stdout",
     "output_type": "stream",
     "text": [
      "cli> trigger del -h\n",
      "usage: \n",
      "Delete an existing trigger.\n",
      "\n",
      "Syntax:\n",
      "    trigger del <iden prefix>\n",
      "\n",
      "Notes:\n",
      "    Any prefix that matches exactly one valid trigger iden is accepted.\n",
      "\n",
      "positional arguments:\n",
      "  prefix      Trigger iden prefix\n",
      "\n",
      "optional arguments:\n",
      "  -h, --help  show this help message and exit\n",
      "\n"
     ]
    }
   ],
   "source": [
    "# Run the command and display output\n",
    "q = 'trigger del -h'\n",
    "podes = await core.runCmdLine(q)"
   ]
  },
  {
   "cell_type": "code",
   "execution_count": 32,
   "metadata": {
    "hideCode": true,
    "hideOutput": true
   },
   "outputs": [],
   "source": [
    "# Close cortex because done\n",
    "_ = await core.fini()"
   ]
  }
 ],
 "metadata": {
  "celltoolbar": "Hide code",
  "kernelspec": {
   "display_name": "Python 3",
   "language": "python",
   "name": "python3"
  },
  "language_info": {
   "codemirror_mode": {
    "name": "ipython",
    "version": 3
   },
   "file_extension": ".py",
   "mimetype": "text/x-python",
   "name": "python",
   "nbconvert_exporter": "python",
   "pygments_lexer": "ipython3",
   "version": "3.7.0"
  }
 },
 "nbformat": 4,
 "nbformat_minor": 2
}
