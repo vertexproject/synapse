{
 "cells": [
  {
   "cell_type": "code",
   "execution_count": null,
   "metadata": {
    "hideCode": true
   },
   "outputs": [],
   "source": [
    "import os, sys\n",
    "try:\n",
    "    from synapse.lib.jupyter import *\n",
    "except ImportError as e:\n",
    "    # Insert the root path of the repository to sys.path.\n",
    "    # This assumes the notebook is located three directories away\n",
    "    # From the root synapse directory. It may need to be varied\n",
    "    synroot = os.path.abspath('../../../')\n",
    "    sys.path.insert(0, synroot)\n",
    "    from synapse.lib.jupyter import *"
   ]
  },
  {
   "cell_type": "code",
   "execution_count": null,
   "metadata": {
    "hideCode": true
   },
   "outputs": [],
   "source": [
    "# Create a cortex\n",
    "core = await getTempCoreCmdr()"
   ]
  },
  {
   "cell_type": "raw",
   "metadata": {},
   "source": [
    ".. highlight:: none\n",
    "\n",
    ".. _storm-ref-subquery:\n",
    "\n",
    "Storm Reference - Subqueries\n",
    "============================\n",
    "\n",
    "This section discusses the following topics:\n",
    "\n",
    "- `Subquery`_\n",
    "- `Subquery Filter`_\n",
    "\n",
    "Subquery\n",
    "--------\n",
    "\n",
    "A **subquery** is a Storm query that is executed inside of another Storm query. Curly braces ( ``{ }`` ) are used to enclose the embedded query.\n",
    "\n",
    "\n",
    ".. NOTE::\n",
    "  Curly braces are a Storm syntax element that simply indicates \"a Storm query is enclosed here\". They can be used to denote a subquery, but have other uses as well.\n",
    "\n",
    "Recall from :ref:`storm-op-concepts` that a Storm query can consist of multiple elements (lift, filter, pivot, pipe to command, etc.). This sequence of Storm operations acts as a \"pipeline\" through which the nodes in the query pass. Regardless of the number of nodes you start with (i.e., the number of nodes in your initial lift), each node is processed individually by each element in the query, from left to right.\n",
    "\n",
    "The elements in the query can be thought of as \"gates\". The nodes \"inbound\" to each gate are processed by that gate in some way. For example, if the \"gate\" is a filter operation, some nodes may be allowed to pass, while others are dropped (\"consumed\"), based on the filter. If the gate is a pivot, the inbound node is dropped while the node that is the \"target\" of the pivot is picked up and added to the pipeline.\n",
    "\n",
    "Note that in a standard Storm query (as described above) the set of nodes at any given point in the query is constantly changing - the \"working set\" of nodes is transformed by the various operations. The nodes that \"go in\" to a particular operation in the query are generally not the same ones that \"come out\". Note also that as described, this process is **linear** (hence \"pipeline\").\n",
    "\n",
    "A **subquery** is another element that can be used as part of a longer Storm query, only in this case the \"element\" is itself an entire Storm query (as opposed to a filter, pivot, or Storm command).\n",
    "\n",
    "One advantage of a subquery is that the actions that occur inside the subquery do not affect the \"main\" Storm execution pipeline - the nodes that \"go in\" to a subquery are the same nodes that \"come out\", regardless of what operations occur within the subquery itself. In this way, a subquery can allow you to \"branch off\" the main Storm execution pipeline, \"do a thing\" off to the side, and then return to the main execution pipeline as though nothing happened; you resume at the point you left off, with the same set of nodes in the pipeline as when you left.\n",
    "\n",
    "If you want the nodes that result from the subquery operations to be returned, the ``yield`` option can be used to do so. Note that yielding the subquery nodes is **in addition to** the set of nodes that passed in to the subquery (not \"instead of\" the inbound nodes). If you **only** want the nodes resulting from the subquery, you probably don’t need a subquery and can just use a standard Storm query instead.\n",
    "\n",
    ".. NOTE::\n",
    "  Any **actions** performed inside of a subquery will persist. For example, any modifications made to nodes inside a subquery (setting or modifying properties, applying tags, even creating new nodes) will remain; those changes will be present in the Cortex.\n",
    "  \n",
    "  In addition, when setting or updating a :ref:`gloss-variable` inside a subquery, the variable can pass back \"out\" of the subquery and be available to the main Storm query.\n",
    "  \n",
    "  What remains unchanged is that the set of nodes inbound to the subquery will be the same set of nodes available (inbound) to the next element in the main Storm query - whatever happens inside the subquery does not affect the set of nodes in the **pipeline** (barring the use of ``yield`` of course).\n",
    "\n",
    "This ability to \"do a thing off to the side\" inside of a Storm query pipeline can add efficiencies to certain queries, allowing you to perform some action inline that would otherwise require a second, separate query to perform. While subqueries have their uses in \"standard\" Storm, they are particularly useful for more advanced Storm use cases involving variables and control flow.\n",
    "\n",
    ".. NOTE::\n",
    "  A subquery is typically used to perform some action related to the Storm query in which it is embedded. But there is no requirement for this to be the case. The subquery can contain any valid Storm, so you could (for example) write a subquery that lifts ten arbitrary email addresses ( ``{ inet:email | limit 10 }`` ) in the middle of a longer query. There’s not much point to this, but Storm will dutifully lift the nodes, discard them (unless the ``yield`` option is used), and continue on.\n",
    "\n",
    "Finally, one important characteristic of a subquery is that **it requires inbound nodes in order to execute.** That is, the subquery is meant to be an element in a larger Storm pipeline, not a stand-alone query, and not the first element in a longer query. Even though the subquery does not affect the inbound nodes (that is, the nodes \"pass through\" the subquery and are still available as inbound nodes to the next query element), nodes must still be \"fired into\" the subquery for the subquery action(s) to take place.\n",
    "\n",
    "For example, the following query will return zero nodes, even though the ``yield`` directive is present. Because no nodes are \"inbound\" to cause the subquery to execute, the embedded Storm is never run:"
   ]
  },
  {
   "cell_type": "code",
   "execution_count": null,
   "metadata": {
    "hideCode": true
   },
   "outputs": [],
   "source": [
    "# Make some nodes\n",
    "q = '[inet:email=alice@woot.com inet:email=bob@woot.com inet:email=mallory@woot.com inet:email=eve@woot.com inet:email=alice@derp.net inet:email=bob@derp.net inet:email=mallory@derp.net inet:email=eve@derp.net inet:email=alice@zomg.org inet:email=bob@zomg.org]'\n",
    "podes = await core.eval(q, num=10, cmdr=False)"
   ]
  },
  {
   "cell_type": "code",
   "execution_count": null,
   "metadata": {
    "hideCode": true
   },
   "outputs": [],
   "source": [
    "# Run query\n",
    "q = 'yield { inet:email | limit 10 }'\n",
    "podes = await core.eval(q, num=0, cmdr=True)"
   ]
  },
  {
   "cell_type": "raw",
   "metadata": {},
   "source": [
    "**Syntax:**\n",
    "\n",
    "*<query>* [ **yield** ] **{** *<query>* **}** [ *<query>* ]\n",
    "\n",
    "*<query>* [ **yield** ] **{** *<query>* [ **{** *<query>* **}** ] **}** [ *<query>* ]\n",
    "\n",
    "**Examples:**\n",
    "\n",
    "- Pivot from a set of DNS A records to their associated IPs and then to additional DNS A records associated with those IPs. Use a subquery to check whether any of the IPs are RFC1918 addresses (i.e., have ``:type=private``) and if so, tag the IP as non-routable."
   ]
  },
  {
   "cell_type": "code",
   "execution_count": null,
   "metadata": {
    "hideCode": true
   },
   "outputs": [],
   "source": [
    "# Make some nodes\n",
    "q = '[inet:dns:a=(woot.com,1.2.3.4) inet:dns:a=(woot.com,192.168.1.100) inet:dns:a=(derp.org,1.2.3.4)]'\n",
    "podes = await core.eval(q, num=3, cmdr=False)"
   ]
  },
  {
   "cell_type": "code",
   "execution_count": null,
   "metadata": {
    "hideCode": true
   },
   "outputs": [],
   "source": [
    "# Define and print test query\n",
    "q = '<inet:dns:a> '\n",
    "q1 = 'inet:dns:a:fqdn=woot.com '\n",
    "q2 = '-> inet:ipv4 { +:type=private [ +#nonroutable ] } -> inet:dns:a'\n",
    "print(q + q2)\n",
    "# Execute the query to test it and get the packed nodes (podes).\n",
    "podes = await core.eval(q1 + q2, num=3, cmdr=False)"
   ]
  },
  {
   "cell_type": "raw",
   "metadata": {},
   "source": [
    "- Pivot from a set of IP addresses to any servers associated with those IPs. Use a subquery to check whether the IP has a location (``:loc``) property, and if not, call a third-party geolocation service to attempt to identify a location and set the property. (**Note:** Synapse does not include a geolocation service in its public distribution; this example assumes such a service has been implemented and is called using an extended Storm command named ``ipgeoloc``.)"
   ]
  },
  {
   "cell_type": "code",
   "execution_count": null,
   "metadata": {
    "hideCode": true
   },
   "outputs": [],
   "source": [
    "# Make some nodes\n",
    "q = '[ (inet:ipv4=12.34.56.78 :loc=us.oh) (inet:ipv4=44.44.44.44) (inet:server=tcp://12.34.56.78:80) (inet:server=tcp://44.44.44.44:443)]'\n",
    "podes = await core.eval(q, num=4, cmdr=False)"
   ]
  },
  {
   "cell_type": "code",
   "execution_count": null,
   "metadata": {
    "hideCode": true
   },
   "outputs": [],
   "source": [
    "# Define and print test query\n",
    "q = '<inet:ipv4> '\n",
    "q1 = 'inet:ipv4 '\n",
    "q2 = '{ -:loc | ipgeoloc } -> inet:server'\n",
    "q3 = '-> inet:server'\n",
    "print(q + q2)\n",
    "# Execute the query to test it and get the packed nodes (podes).\n",
    "podes = await core.eval(q1 + q3, num=2, cmdr=False)"
   ]
  },
  {
   "cell_type": "raw",
   "metadata": {},
   "source": [
    "- Pivot from a set of FQDNs to any files (binaries) that query those FQDNs. Use a subquery with the ``yield`` option to return the file nodes as well as the original FQDNs."
   ]
  },
  {
   "cell_type": "code",
   "execution_count": null,
   "metadata": {
    "hideCode": true
   },
   "outputs": [],
   "source": [
    "# Make some nodes\n",
    "q = '[ (inet:fqdn=macsol.org) (file:bytes=sha256:cc5f23669712ce42efa66054acefbe29a967c53e59206fbc78670672ea3978bd) (inet:dns:request=495a07881e3825d7d1f9c4622a16e71b :exe=cc5f23669712ce42efa66054acefbe29a967c53e59206fbc78670672ea3978bd :query:name=macsol.org :query:name:fqdn=macsol.org) ]'\n",
    "podes = await core.eval(q, num=3, cmdr=False)"
   ]
  },
  {
   "cell_type": "code",
   "execution_count": null,
   "metadata": {
    "hideCode": true
   },
   "outputs": [],
   "source": [
    "# Define and print test query\n",
    "q = '<inet:fqdn> '\n",
    "q1 = 'inet:fqdn=macsol.org '\n",
    "q2 = 'yield { -> inet:dns:request:query:name +:exe -> file:bytes }'\n",
    "print(q + q2)\n",
    "# Execute the query to test it and get the packed nodes (podes).\n",
    "podes = await core.eval(q1 + q2, num=2, cmdr=False)"
   ]
  },
  {
   "cell_type": "raw",
   "metadata": {},
   "source": [
    ".. NOTE::\n",
    "  The “pivot and join” operator ( ``-+>`` ) allows you to combine a set of inbound nodes with the set of nodes reached by the pivot into a single result set. However, the operator only allows you to join sets of nodes that are \"one degree\" (one pivot) apart. The subquery syntax above effectively allows you to join two sets of nodes that are more than one pivot apart.\n",
    "\n",
    "**Usage Notes:**\n",
    "\n",
    "- Subqueries can be nested; you can place subqueries inside of subqueries.\n",
    "- When the ``yield`` option is used, Storm will return the nodes from the subquery first, followed by the nodes from the original working set."
   ]
  },
  {
   "cell_type": "raw",
   "metadata": {},
   "source": [
    "Subquery Filter\n",
    "---------------\n",
    "\n",
    "A **subquery filter** is a filter where the filter itself is a Storm expression.\n",
    "\n",
    "Standard Storm filter operations are designed to operate on the nodes in the current working set, that is, the nodes actively passing through the Storm pipeline. Regardless of whether the filter uses a :ref:`gloss-standard-comp-op` or :ref:`gloss-extended-comp-op`, the filter evaluates some aspect of the node itself such as its primary or secondary property(ies), or whether or not the node has a particular tag.\n",
    "\n",
    "A subquery filter allows you to use a subquery to filter the current set of nodes based on their relationship to other nodes, or on the properties or tags of \"nearby\" nodes. The subquery content is still evaluated \"off to the side\"; any pivots, filters, or other operations performed inside the subquery are still \"contained within\" the subquery. But the nodes passing through the main Storm pipeline are **evaluated against** the contents of the subquery, and are then filtered - passed or dropped - based on that evaluation.\n",
    "\n",
    "For additional detail on subquery filters and examples of their use, refer to the :ref:`filter-subquery` section of the :ref:`storm-ref-filter` guide."
   ]
  },
  {
   "cell_type": "code",
   "execution_count": null,
   "metadata": {
    "hideCode": true
   },
   "outputs": [],
   "source": [
    "# Close cortex because done\n",
    "_ = await core.fini()"
   ]
  }
 ],
 "metadata": {
  "celltoolbar": "Hide code",
  "kernelspec": {
   "display_name": "Python 3",
   "language": "python",
   "name": "python3"
  },
  "language_info": {
   "codemirror_mode": {
    "name": "ipython",
    "version": 3
   },
   "file_extension": ".py",
   "mimetype": "text/x-python",
   "name": "python",
   "nbconvert_exporter": "python",
   "pygments_lexer": "ipython3",
   "version": "3.7.7"
  }
 },
 "nbformat": 4,
 "nbformat_minor": 2
}
