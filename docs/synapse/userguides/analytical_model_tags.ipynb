{
 "cells": [
  {
   "cell_type": "code",
   "execution_count": 2,
   "metadata": {
    "hideCode": true,
    "hideOutput": true
   },
   "outputs": [],
   "source": [
    "import os, sys\n",
    "try:\n",
    "    from synapse.lib.jupyter import *\n",
    "except ImportError as e:\n",
    "    # Insert the root path of the repository to sys.path.\n",
    "    # This assumes the notebook is located three directories away\n",
    "    # From the root synapse directory. It may need to be varied\n",
    "    synroot = os.path.abspath('../../../')\n",
    "    sys.path.insert(0, synroot)\n",
    "    from synapse.lib.jupyter import *"
   ]
  },
  {
   "cell_type": "code",
   "execution_count": 3,
   "metadata": {
    "hideCode": true,
    "hideOutput": true
   },
   "outputs": [],
   "source": [
    "#Create a cortex which should contain the runt nodes for the data model\n",
    "core = await getTempCoreCmdr()"
   ]
  },
  {
   "cell_type": "raw",
   "metadata": {},
   "source": [
    ".. highlight:: none\n",
    "\n",
    ".. _analytical-model-tags:\n",
    "\n",
    "Analytical Model - Tag Concepts\n",
    "===============================\n",
    "\n",
    "Recall from :ref:`data-model-terms` that two of the key components within Synapse are nodes and tags. Broadly speaking:\n",
    "\n",
    "- **Nodes** commonly represent \"facts\" or \"observables\": things that are objectively true or verifiable and not subject to change.\n",
    "- **Tags** commonly represent information that may change or evolve over time. In some cases this information may be a fact that is true for a given period, but then is no longer true (such as the association of an IP address with a specialized service such as Tor). In most cases, tags represent assessments or analytical evaluations: conclusions drawn from observables that may change in light of new data or re-evaluation of existing data.\n",
    "\n",
    "The types, forms, and properties that define nodes make up the Synapse **data model.** The **tags** representing labels applied to those nodes can be thought of as the **analytical model** used to record observations or assessments about that data. This section provides some additional background on tags before a more in-depth discussion on their use:\n",
    "\n",
    "- `Tags as Nodes`_\n",
    "- `Tags as Labels`_\n",
    "\n",
    "Tags as Nodes\n",
    "-------------\n",
    "\n",
    "While tags primarily record analytical observations, tags are also nodes within the Synapse data model. Every tag is a node of the form ``syn:tag`` (whose type is ``syn:tag``).\n",
    "\n",
    "A tag node's primary property (``<form> = <valu>``) is the name of the tag; so the tag ``foo.bar`` has the primary property ``syn:tag = foo.bar``. The dotted notation can be used to construct \"tag hierarchies\" that can represent varying levels of specificity (see below).\n",
    "\n",
    "This example shows the **node** for the tag ``syn:tag = aka.feye.thr.apt1``:"
   ]
  },
  {
   "cell_type": "code",
   "execution_count": 4,
   "metadata": {
    "hideCode": true,
    "hideOutput": true
   },
   "outputs": [
    {
     "name": "stdout",
     "output_type": "stream",
     "text": [
      "cli> storm [syn:tag=aka.feye.thr.apt1 :title=\"APT1 (FireEye)\" :doc=\"Indicator or activity FireEye calls (or associates with) the APT1 threat group.\"]\n",
      "\n",
      "syn:tag=aka.feye.thr.apt1\n",
      "        .created = 2019/03/13 22:36:03.184\n",
      "        :base = apt1\n",
      "        :depth = 3\n",
      "        :doc = Indicator or activity FireEye calls (or associates with) the APT1 threat group.\n",
      "        :title = APT1 (FireEye)\n",
      "        :up = aka.feye.thr\n",
      "complete. 1 nodes in 10 ms (100/sec).\n"
     ]
    }
   ],
   "source": [
    "# Make a tag node\n",
    "q = '[syn:tag=aka.feye.thr.apt1 :title=\"APT1 (FireEye)\" :doc=\"Indicator or activity FireEye calls (or associates with) the APT1 threat group.\"]'\n",
    "# Run the query and test\n",
    "podes = await core.eval(q, num=1, cmdr=True)"
   ]
  },
  {
   "cell_type": "code",
   "execution_count": 5,
   "metadata": {
    "hideCode": true,
    "scrolled": true
   },
   "outputs": [
    {
     "name": "stdout",
     "output_type": "stream",
     "text": [
      "cli> storm syn:tag=aka.feye.thr.apt1\n",
      "\n",
      "syn:tag=aka.feye.thr.apt1\n",
      "        .created = 2019/03/13 22:36:03.184\n",
      "        :base = apt1\n",
      "        :depth = 3\n",
      "        :doc = Indicator or activity FireEye calls (or associates with) the APT1 threat group.\n",
      "        :title = APT1 (FireEye)\n",
      "        :up = aka.feye.thr\n",
      "complete. 1 nodes in 5 ms (200/sec).\n"
     ]
    }
   ],
   "source": [
    "# Define test query\n",
    "q = 'syn:tag=aka.feye.thr.apt1'\n",
    "# Execute the query and test\n",
    "podes = await core.eval(q, num=1, cmdr=True)"
   ]
  },
  {
   "cell_type": "raw",
   "metadata": {},
   "source": [
    "The following properties are present for this node:\n",
    "\n",
    "- ``.created``, which is a universal property showing when the node was added to a Cortex.\n",
    "- ``:title`` and ``:doc``, which are meant to store concise and more detailed (if necessary) definitions for the tag, respectively. Applying explicit definitions to tag nodes limits ambiguity and helps ensure tags are being applied (and interpreted) correctly by Synapse analysts and other users.\n",
    "\n",
    "The ``:depth``, ``:up``, and ``:base`` secondary properties help to lift and pivot across tag nodes:\n",
    "\n",
    "- ``:depth`` is the \"location\" of the tag in a given dotted tag hierarchy, with the count starting from zero. A single-element tag (``syn:tag = aka``) has ``:depth = 0``, while a three-element tag (``syn:tag = aka.feye.thr``) has ``:depth = 2``.\n",
    "\n",
    "- ``:base`` is the final (rightmost) element in the dotted tag hierarchy.\n",
    "\n",
    "- ``:up`` is the tag one \"level\" up in the dotted tag hierarchy.\n",
    "\n",
    "Additional information on viewing and pivoting across tags can be found in :ref:`storm-ref-model-introspect`. For detail on the Storm query language, see :ref:`storm-ref-intro`.\n",
    "\n",
    "Tags (``syn:tag`` forms) have a number of type-specific behaviors within Synapse with respect to how they are indexed, created, and manipulated via Storm. Most important for practical purposes is that ``syn:tag`` nodes are created \"on the fly\" when a tag is applied to another node. That is, the ``syn:tag`` node does not need to be created manually before the tag can be used; the act of applying a tag will cause the creation of the appropriate ``syn:tag`` node (or nodes).\n",
    "\n",
    "See the ``syn:tag`` section within :ref:`storm-ref-type-specific` for additional detail on tags and tag behavior within Synapse and Storm.\n",
    "\n",
    "Tags as Labels\n",
    "--------------\n",
    "\n",
    "Synapse does not include any pre-populated tags (``syn:form = <tag>``), just as it does not include any pre-populated domains (``inet:fqdn = <domain>``). Because tags can be highly specific to both a given knowledge domain and to the type of analysis being done within that domain, organizations have the flexibility to create a tag structure that is most useful to them.\n",
    "\n",
    "A tag node's value (``syn:tag = <valu>``) is simply a string and can be set to any user-defined alphanumeric value. However, the strings are designed to use a dotted naming convention, with the period ( ``.`` ) used as a separator character to delimit individual elements of a tag if necessary. This dotted notation means it is possible to create tag hierarchies of arbitrary depth that support increasingly detailed or specific observations. For example, the top level tag ``foo`` can represent a broad set of observations, while ``foo.bar`` and ``foo.baz`` could represent subsets of ``foo`` or more specific observations related to ``foo``.\n",
    "\n",
    "Within this hierarchy, specific terms are used for the tag and its various components:\n",
    "\n",
    "- **Leaf tag:** The full tag path / longest tag in a given tag hierarchy.\n",
    "- **Root tag:** The top / leftmost element in a given tag hierarchy.\n",
    "- **Base tag:** The bottom / rightmost element in a given tag hierarchy.\n",
    "\n",
    "For the tag ``foo.bar.baz``:\n",
    "\n",
    "- ``foo.bar.baz`` is the leaf tag / leaf.\n",
    "- ``foo`` is the root tag / root.\n",
    "- ``baz`` is the base tag / base.\n",
    "\n",
    "When you apply a tag to a node, all of the tags **above** that tag in the tag hierarchy are automatically applied as well (and the appropriate ``syn:tag`` forms are created if they do not exist). That is, when you apply tag ``foo.bar.baz`` to a node, Synapse automatically applies the tags ``foo.bar`` and ``foo`` as well. Because tags are meant to be hierarchical, if the specific assessment ``foo.bar.baz`` is applicable to a node and ``foo.bar.baz`` is a subset of ``foo``, it follows that the broader assessment ``foo`` is applicable as well.\n",
    "\n",
    "When you delete (remove) a tag from a node, the tag and all tags **below** it in the hierarchy are deleted. If you delete the tag ``foo.bar.baz`` from a node, the tags ``foo.bar`` and ``foo`` will remain. However, if you delete the tag ``foo`` from a node with the tag ``foo.bar.baz``, then all three tags (``foo``, ``foo.bar``, and ``foo.bar.baz``) are deleted.\n",
    "\n",
    "See the ``syn:tag`` section within :ref:`storm-ref-type-specific` for additional detail on tags and tag behavior within Synapse and Storm.\n",
    "\n",
    "See :ref:`analytical-model-tags-analysis` and :ref:`design-analytical-model` for additional considerations for tag use and creating tag hierarchies.\n",
    "\n",
    "Tag Timestamps\n",
    "++++++++++++++\n",
    "\n",
    "Applying a tag to a node has a particular meaning; it typically represents the recording of an assessment about that node with respect to the existing data in the Cortex. Many assessments are binary in the sense that they are either always true or always false; in these cases, the presence or absence of a tag is sufficient to accurately reflect the current analytical assessment, based on available data.\n",
    "\n",
    "There are other cases where an assessment may be true only for a period of time or within a specified time frame. Internet infrastructure is one example; whether an IP address is part of an anonymization service such as Tor can be annotated using tags (e.g., ``cno.infra.anon.tor``). However, this information can change over time as the IP address is reallocated to a different client or repurposed for another use. Although the relevant tag can be applied while the IP is a Tor node and removed when that is no longer true, completely removing the tag causes us to lose the historical knowledge that the IP was a Tor node **at one time.**\n",
    "\n",
    "To address these use cases, Synapse supports the optional use of **timestamps** (technically, time intervals) with tags applied to nodes. These timestamps can represent \"when\" (first known / last known times) the **assessment represented by the tag** was relevant for the node to which the tag is applied. (These timestamps are analogous to the ``.seen`` universal property that can be used to represent the first and last known times the **data represented by a node** was true / real / in existence.)\n",
    "\n",
    "Applying a timestamp to a tag affects that specific tag only. The timestamps are not automatically propagated to tags higher up (or lower down) in the tag tree. This is because the specific tag to which the timestamps are applied is the most relevant with respect to those timestamps; tags elsewhere in the tree may have different shades of meaning and the timestamps may not apply to those tags in the same way (or at all).\n",
    "\n",
    "Like ``.seen`` properties, tag timestamps represent a time **range** and not necessarily specific instances (other than the \"first known\" and \"last known\" observations). This means that the assessment represented by the tag is not guaranteed to have been true throughout the entire date range (though depending on the meaning of the tag, that may in fact be the case). That said, the use of timestamps allows much greater granularity in recording analytical observations in cases where the timing of an assessment (\"when\" something was true or applicable) is relevant.\n",
    "\n",
    "**Example - Tor Exit Nodes**\n",
    "\n",
    "Many web sites provide lists of Tor nodes or allow users to query IP addresses to determine whether they are Tor nodes. These sites may provide a \"first seen\" date for when the IP was first identified as part of the Tor network. The \"first seen\" date and date the site was queried (assuming the site status is current) can be used as timestamps for \"when\" the tag ``cno.infra.anon.tor`` was applicable to that IP address.\n",
    "\n",
    "If we have a data source that verifies that IP address ``197.231.221.211`` was a Tor exit node between December 19, 2017 and February 15, 2019, we can apply the tag ``#cno.anon.tor.exit`` with the appropriate time range as follows:"
   ]
  },
  {
   "cell_type": "code",
   "execution_count": 11,
   "metadata": {
    "hideCode": true,
    "hideOutput": true
   },
   "outputs": [
    {
     "name": "stdout",
     "output_type": "stream",
     "text": [
      "cli> storm [inet:ipv4=197.231.221.211 :asn=37560 :loc=lr.lo.voinjama :latlong=\"8.4219,-9.7478\" :dns:rev=exit1.ipredator.se +#cno.anon.tor.exit = (2017/12/19, 2019/02/15) ]\n",
      "\n",
      "inet:ipv4=197.231.221.211\n",
      "        .created = 2019/03/13 22:36:20.189\n",
      "        :asn = 37560\n",
      "        :dns:rev = exit1.ipredator.se\n",
      "        :latlong = 8.4219,-9.7478\n",
      "        :loc = lr.lo.voinjama\n",
      "        :type = unicast\n",
      "        #cno.anon.tor.exit = (2017/12/19 00:00:00.000, 2019/02/15 00:00:00.000)\n",
      "complete. 1 nodes in 13 ms (76/sec).\n"
     ]
    }
   ],
   "source": [
    "# Make a node\n",
    "q = '[inet:ipv4=197.231.221.211 :asn=37560 :loc=lr.lo.voinjama :latlong=\"8.4219,-9.7478\" :dns:rev=exit1.ipredator.se +#cno.anon.tor.exit = (2017/12/19, 2019/02/15) ]'\n",
    "# Run the query and test\n",
    "podes = await core.eval(q, num=1, cmdr=True)"
   ]
  },
  {
   "cell_type": "code",
   "execution_count": 12,
   "metadata": {
    "hideCode": true
   },
   "outputs": [
    {
     "name": "stdout",
     "output_type": "stream",
     "text": [
      "cli> storm inet:ipv4 = 197.231.221.211 [ +#cno.anon.tor.exit = (2017/12/19, 2019/02/15) ]\n",
      "\n",
      "inet:ipv4=197.231.221.211\n",
      "        .created = 2019/03/13 22:36:20.189\n",
      "        :asn = 37560\n",
      "        :dns:rev = exit1.ipredator.se\n",
      "        :latlong = 8.4219,-9.7478\n",
      "        :loc = lr.lo.voinjama\n",
      "        :type = unicast\n",
      "        #cno.anon.tor.exit = (2017/12/19 00:00:00.000, 2019/02/15 00:00:00.000)\n",
      "complete. 1 nodes in 6 ms (166/sec).\n"
     ]
    }
   ],
   "source": [
    "# Define test query\n",
    "q = 'inet:ipv4 = 197.231.221.211 [ +#cno.anon.tor.exit = (2017/12/19, 2019/02/15) ]'\n",
    "# Execute the query and test\n",
    "podes = await core.eval(q, num=1, cmdr=True)"
   ]
  },
  {
   "cell_type": "raw",
   "metadata": {},
   "source": [
    "Tag Display\n",
    "+++++++++++\n",
    "\n",
    "By default, Storm displays only the leaf tags applied to a node in the node’s output. Recall that applying the tag ``foo.bar.baz`` also applies the tags ``foo`` and ``foo.bar``; however these are not shown in the Storm output by default (full details of a node, including **all** tags applied to the node, can be viewed with the ``--raw`` or ``--debug`` options to the :ref:`syn-storm` command). Any timestamps associated with a tag are displayed in parentheses following the tag:"
   ]
  },
  {
   "cell_type": "code",
   "execution_count": 10,
   "metadata": {
    "hideCode": true,
    "hideOutput": false
   },
   "outputs": [
    {
     "name": "stdout",
     "output_type": "stream",
     "text": [
      "cli> storm inet:ipv4 = 197.231.221.211\n",
      "\n",
      "inet:ipv4=197.231.221.211\n",
      "        .created = 2019/03/12 22:26:11.411\n",
      "        :asn = 37560\n",
      "        :dns:rev = exit1.ipredator.se\n",
      "        :latlong = 8.4219,-9.7478\n",
      "        :loc = lr.lo.voinjama\n",
      "        :type = unicast\n",
      "        #cno.anon.tor.exit = (2017/12/19 00:00:00.000, 2019/02/15 00:00:00.000)\n",
      "complete. 1 nodes in 5 ms (200/sec).\n"
     ]
    }
   ],
   "source": [
    "# Define test query\n",
    "q = 'inet:ipv4 = 197.231.221.211'\n",
    "# Execute the query and test\n",
    "podes = await core.eval(q, num=1, cmdr=True)"
   ]
  },
  {
   "cell_type": "code",
   "execution_count": 11,
   "metadata": {
    "hideCode": true,
    "hideOutput": true
   },
   "outputs": [],
   "source": [
    "# Close cortex because done\n",
    "_ = await core.fini()"
   ]
  }
 ],
 "metadata": {
  "celltoolbar": "Hide code",
  "kernelspec": {
   "display_name": "Python 3",
   "language": "python",
   "name": "python3"
  },
  "language_info": {
   "codemirror_mode": {
    "name": "ipython",
    "version": 3
   },
   "file_extension": ".py",
   "mimetype": "text/x-python",
   "name": "python",
   "nbconvert_exporter": "python",
   "pygments_lexer": "ipython3",
   "version": "3.7.0"
  }
 },
 "nbformat": 4,
 "nbformat_minor": 2
}
