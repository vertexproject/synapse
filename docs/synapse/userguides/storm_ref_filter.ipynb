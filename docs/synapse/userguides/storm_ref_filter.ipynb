{
 "cells": [
  {
   "cell_type": "code",
   "execution_count": 1,
   "metadata": {
    "hideCode": true
   },
   "outputs": [],
   "source": [
    "import os, sys\n",
    "try:\n",
    "    from synapse.lib.jupyter import *\n",
    "except ImportError as e:\n",
    "    # Insert the root path of the repository to sys.path.\n",
    "    # This assumes the notebook is located three directories away\n",
    "    # From the root synapse directory. It may need to be varied\n",
    "    synroot = os.path.abspath('../../../')\n",
    "    sys.path.insert(0, synroot)\n",
    "    from synapse.lib.jupyter import *"
   ]
  },
  {
   "cell_type": "raw",
   "metadata": {},
   "source": [
    ".. _storm-ref-filter:\n",
    "\n",
    "Storm Reference - Filtering\n",
    "===========================\n",
    "\n",
    "Filter operations are performed on the output of a previous Storm query. A filter operation downselects from the working set of nodes by either including or excluding a subset of nodes based on a set of criteria.\n",
    "\n",
    "- ``+`` specifies an **inclusion** filter. The filter downselects the working set to **only** those nodes that match the specified criteria.\n",
    "- ``-`` specifies an **exclusion** filter. The filter downselects the working set to all nodes **except** those that match the specified criteria.\n",
    "\n",
    "The types of filter operations within Storm are highly flexible and consist of the following:\n",
    "\n",
    "- `Simple Filters`_\n",
    "- `Filters Using Standard Comparison Operators`_\n",
    "- `Filters Using Extended Comparison Operators`_\n",
    "- `Compound Filters`_\n",
    "- `Subquery Filters`_\n",
    "\n",
    "In most cases, the criteria and available comparators for lift operations (:ref:`storm-ref-lift`) are also available for filter operations.\n",
    "\n",
    ".. NOTE::\n",
    "   When filtering based on a secondary property (*<prop>*) or secondary property value (*<prop> = <pval>*), the property can be specified using the relative property name only (``:baz`` vs. ``foo:bar:baz``) unless the full property name is required for disambiguation. In the examples below, both syntaxes (i.e., using the full property name and the relative property name) are provided where appropriate for completeness. See the :ref:`bkd-data-model` for additional discussion of properties.\n",
    "\n",
    "See :ref:`storm-ref-syntax` for an explanation of the syntax format used below.\n",
    "\n",
    "See :ref:`storm-ref-type-specific` for details on special syntax or handling for specific data types.\n",
    "\n",
    "Simple Filters\n",
    "--------------\n",
    "\n",
    "\"Simple\" filters refers to the most \"basic\" filter operations: that is, operations to include ( ``+`` ) or exclude ( ``-`` ) a subset of nodes based on:\n",
    "\n",
    "- The presence of a specific primary or secondary property in the working set.\n",
    "- The presence of a specific primary property value or secondary property value in the working set.\n",
    "- The presence of a specific tag on nodes in the working set.\n",
    "\n",
    "The only difference between \"simple\" filters and \"filters using comparison operators\" is that we have defined simple filters as those that use the equals ( ``=`` ) comparator, which is the easiest comparator to use to explain basic filtering concepts.\n",
    "\n",
    "**Syntax:**\n",
    "\n",
    "*<query>* **+** | **-** *<form>* | *<form>* **=** *<valu>* | *<prop>* | *<prop>* **=** *<pval>* | *<tag>*\n",
    "\n",
    "**Examples:**\n",
    "\n",
    "*Filter by Form (<form>):*\n",
    "\n",
    "- Downselect to include only domains:\n"
   ]
  },
  {
   "cell_type": "code",
   "execution_count": 2,
   "metadata": {
    "hideCode": true,
    "hideOutput": true
   },
   "outputs": [
    {
     "name": "stdout",
     "output_type": "stream",
     "text": [
      "cli> storm [inet:fqdn=woot.com inet:fqdn=vertex.link inet:fqdn=google.com inet:ipv4=1.2.3.4 inet:ipv4=5.6.7.8]\n",
      "\n",
      "inet:fqdn=woot.com\n",
      "        .created = 2019/01/02 21:34:20.794\n",
      "        :domain = com\n",
      "        :host = woot\n",
      "        :issuffix = False\n",
      "        :iszone = True\n",
      "        :zone = woot.com\n",
      "inet:fqdn=vertex.link\n",
      "        .created = 2019/01/02 21:34:20.796\n",
      "        :domain = link\n",
      "        :host = vertex\n",
      "        :issuffix = False\n",
      "        :iszone = True\n",
      "        :zone = vertex.link\n",
      "inet:fqdn=google.com\n",
      "        .created = 2019/01/02 21:34:20.797\n",
      "        :domain = com\n",
      "        :host = google\n",
      "        :issuffix = False\n",
      "        :iszone = True\n",
      "        :zone = google.com\n",
      "inet:ipv4=1.2.3.4\n",
      "        .created = 2019/01/02 21:34:20.799\n",
      "        :asn = 0\n",
      "        :loc = ??\n",
      "        :type = unicast\n",
      "inet:ipv4=5.6.7.8\n",
      "        .created = 2019/01/02 21:34:20.800\n",
      "        :asn = 0\n",
      "        :loc = ??\n",
      "        :type = unicast\n",
      "complete. 5 nodes in 17 ms (294/sec).\n"
     ]
    }
   ],
   "source": [
    "# Get a temp cortex and preload some data into it.\n",
    "core = await getTempCoreCmdr()\n",
    "q = '[inet:fqdn=woot.com inet:fqdn=vertex.link inet:fqdn=google.com inet:ipv4=1.2.3.4 inet:ipv4=5.6.7.8]'\n",
    "# This runs the query via the CLI, rips out the nodes, makes sure we got 3 nodes on the output :)\n",
    "podes = await core.eval(q, num=5, cmdr=True)\n",
    "# print(f'I got {len(podes)} podes!')\n",
    "# This runs the query directly, no CLI output\n",
    "# newpodes = await core.eval(q, num=4, cmdr=False)\n",
    "# print(f'I got {len(newpodes)} podes the second time!!')\n",
    "# await core.fini()"
   ]
  },
  {
   "cell_type": "code",
   "execution_count": 3,
   "metadata": {
    "hideCode": true
   },
   "outputs": [
    {
     "name": "stdout",
     "output_type": "stream",
     "text": [
      "<query> +inet:fqdn\n"
     ]
    }
   ],
   "source": [
    "# Use previous temp cortex, define and print test query\n",
    "q = '<query> '\n",
    "q1 = '.created '\n",
    "q2 = '+inet:fqdn'\n",
    "print(q + q2)\n",
    "# Execute the query to test it and get the packed nodes (podes).\n",
    "podes = await core.eval(q1 + q2, num=5, cmdr=False)"
   ]
  },
  {
   "cell_type": "raw",
   "metadata": {},
   "source": [
    "# *Filter by Primary Property Value:*\n",
    "\n",
    "- Downselect to exclude the domain ``google.com``:"
   ]
  },
  {
   "cell_type": "code",
   "execution_count": 4,
   "metadata": {
    "hideCode": true
   },
   "outputs": [
    {
     "name": "stdout",
     "output_type": "stream",
     "text": [
      "<query> -inet:fqdn=google.com\n"
     ]
    }
   ],
   "source": [
    "# Use previous temp cortex, define and print test query\n",
    "q = '<query> '\n",
    "q1 = 'inet:fqdn'\n",
    "q2 = '-inet:fqdn=google.com'\n",
    "print(q + q2)\n",
    "# Execute the query to test it and get the packed nodes (podes).\n",
    "podes = await core.eval(q1 + q2, num=4, cmdr=False)"
   ]
  },
  {
   "cell_type": "raw",
   "metadata": {},
   "source": [
    "*Filter by Presence of Secondary Property:*\n",
    "\n",
    "- Downselect to exclude DNS SOA records with an \"email\" property:"
   ]
  },
  {
   "cell_type": "code",
   "execution_count": 5,
   "metadata": {
    "hideCode": true,
    "hideOutput": true
   },
   "outputs": [
    {
     "name": "stdout",
     "output_type": "stream",
     "text": [
      "cli> storm [inet:dns:soa=\"*\" :fqdn=google.com :ns=ns1.google.com]\n",
      "\n",
      "inet:dns:soa=cca8cb4fba815f65c74b9b7cc3cf7d5d\n",
      "        .created = 2019/01/02 21:34:20.867\n",
      "        :fqdn = google.com\n",
      "        :ns = ns1.google.com\n",
      "complete. 1 nodes in 13 ms (76/sec).\n",
      "cli> storm [inet:dns:soa=\"*\" :fqdn=woot.com :ns=ns1.woot.com]\n",
      "\n",
      "inet:dns:soa=eb895b0a024e3f1854a3272f4e1cdd6d\n",
      "        .created = 2019/01/02 21:34:20.884\n",
      "        :fqdn = woot.com\n",
      "        :ns = ns1.woot.com\n",
      "complete. 1 nodes in 11 ms (90/sec).\n",
      "cli> storm [inet:dns:soa=\"*\" :fqdn=vertex.link :email=admin@vertex.link]\n",
      "\n",
      "inet:dns:soa=96be29a44bedd0bc562d62c3b27a2b5f\n",
      "        .created = 2019/01/02 21:34:20.909\n",
      "        :email = admin@vertex.link\n",
      "        :fqdn = vertex.link\n",
      "complete. 1 nodes in 12 ms (83/sec).\n"
     ]
    }
   ],
   "source": [
    "# Make some SOA records:\n",
    "q = '[inet:dns:soa=\"*\" :fqdn=google.com :ns=ns1.google.com]'\n",
    "q1 = '[inet:dns:soa=\"*\" :fqdn=woot.com :ns=ns1.woot.com]'\n",
    "q2 = '[inet:dns:soa=\"*\" :fqdn=vertex.link :email=admin@vertex.link]'\n",
    "# Run the query and test\n",
    "podes = await core.eval(q, num=1, cmdr=True)\n",
    "podes = await core.eval(q1, num=1, cmdr=True)\n",
    "podes = await core.eval(q2, num=1, cmdr=True)"
   ]
  },
  {
   "cell_type": "code",
   "execution_count": 6,
   "metadata": {
    "hideCode": true
   },
   "outputs": [
    {
     "name": "stdout",
     "output_type": "stream",
     "text": [
      "<query> -inet:dns:soa:email\n"
     ]
    }
   ],
   "source": [
    "# Define and print test query\n",
    "q = '<query> '\n",
    "q1 = 'inet:dns:soa '\n",
    "q2 = '-inet:dns:soa:email'\n",
    "print(q + q2)\n",
    "# Execute the query to test it and get the packed nodes (podes).\n",
    "podes = await core.eval(q1 + q2, num=2, cmdr=False)"
   ]
  },
  {
   "cell_type": "code",
   "execution_count": 7,
   "metadata": {
    "hideCode": true
   },
   "outputs": [
    {
     "name": "stdout",
     "output_type": "stream",
     "text": [
      "<query> -:email\n"
     ]
    }
   ],
   "source": [
    "# Define and print test query\n",
    "q = '<query> '\n",
    "q1 = 'inet:dns:soa '\n",
    "q2 = '-:email'\n",
    "print(q + q2)\n",
    "# Execute the query to test it and get the packed nodes (podes).\n",
    "podes = await core.eval(q1 + q2, num=2, cmdr=False)"
   ]
  },
  {
   "cell_type": "raw",
   "metadata": {},
   "source": [
    "*Filter by Secondary Property Value:*\n",
    "\n",
    "- Downselect to include only those domains that are also logical zones:"
   ]
  },
  {
   "cell_type": "code",
   "execution_count": 8,
   "metadata": {
    "hideCode": true,
    "hideOutput": true
   },
   "outputs": [
    {
     "name": "stdout",
     "output_type": "stream",
     "text": [
      "cli> storm [inet:fqdn=www.woot.com inet:fqdn=mail.vertex.link inet:fqdn=code.google.com]\n",
      "\n",
      "inet:fqdn=www.woot.com\n",
      "        .created = 2019/01/02 21:34:20.967\n",
      "        :domain = woot.com\n",
      "        :host = www\n",
      "        :issuffix = False\n",
      "        :iszone = False\n",
      "        :zone = woot.com\n",
      "inet:fqdn=mail.vertex.link\n",
      "        .created = 2019/01/02 21:34:20.970\n",
      "        :domain = vertex.link\n",
      "        :host = mail\n",
      "        :issuffix = False\n",
      "        :iszone = False\n",
      "        :zone = vertex.link\n",
      "inet:fqdn=code.google.com\n",
      "        .created = 2019/01/02 21:34:20.973\n",
      "        :domain = google.com\n",
      "        :host = code\n",
      "        :issuffix = False\n",
      "        :iszone = False\n",
      "        :zone = google.com\n",
      "complete. 3 nodes in 19 ms (157/sec).\n"
     ]
    }
   ],
   "source": [
    "# Make some subdomains:\n",
    "q = '[inet:fqdn=www.woot.com inet:fqdn=mail.vertex.link inet:fqdn=code.google.com]'\n",
    "# Run the query and test\n",
    "podes = await core.eval(q, num=3, cmdr=True)"
   ]
  },
  {
   "cell_type": "code",
   "execution_count": 9,
   "metadata": {
    "hideCode": true
   },
   "outputs": [
    {
     "name": "stdout",
     "output_type": "stream",
     "text": [
      "<query> +inet:fqdn:iszone=1\n"
     ]
    }
   ],
   "source": [
    "# Define and print test query\n",
    "q = '<query> '\n",
    "q1 = 'inet:fqdn '\n",
    "q2 = '+inet:fqdn:iszone=1'\n",
    "print(q + q2)\n",
    "# Execute the query to test it and get the packed nodes (podes).\n",
    "podes = await core.eval(q1 + q2, num=3, cmdr=False)"
   ]
  },
  {
   "cell_type": "code",
   "execution_count": 10,
   "metadata": {
    "hideCode": true
   },
   "outputs": [
    {
     "name": "stdout",
     "output_type": "stream",
     "text": [
      "<query> +:iszone=1\n"
     ]
    }
   ],
   "source": [
    "# Define and print test query\n",
    "q = '<query> '\n",
    "q1 = 'inet:fqdn '\n",
    "q2 = '+:iszone=1'\n",
    "print(q + q2)\n",
    "# Execute the query to test it and get the packed nodes (podes).\n",
    "podes = await core.eval(q1 + q2, num=3, cmdr=False)"
   ]
  },
  {
   "cell_type": "raw",
   "metadata": {},
   "source": [
    "*Filter by Presence of Universal Property:*\n",
    "\n",
    "- Downselect to include only those domains with a ``.seen`` property:"
   ]
  },
  {
   "cell_type": "code",
   "execution_count": 11,
   "metadata": {
    "hideCode": true,
    "hideOutput": true
   },
   "outputs": [
    {
     "name": "stdout",
     "output_type": "stream",
     "text": [
      "cli> storm inet:fqdn=google.com [.seen=(\"2014/07/25 19:29:19.000\",\"2019/01/02 12:29:45.500\")]\n",
      "\n",
      "inet:fqdn=google.com\n",
      "        .created = 2019/01/02 21:34:20.797\n",
      "        .seen = ('2014/07/25 19:29:19.000', '2019/01/02 12:29:45.500')\n",
      "        :domain = com\n",
      "        :host = google\n",
      "        :issuffix = False\n",
      "        :iszone = True\n",
      "        :zone = google.com\n",
      "complete. 1 nodes in 8 ms (125/sec).\n"
     ]
    }
   ],
   "source": [
    "# Modify some domains\n",
    "q = 'inet:fqdn=google.com [.seen=(\"2014/07/25 19:29:19.000\",\"2019/01/02 12:29:45.500\")]'\n",
    "# Run the query and test\n",
    "podes = await core.eval(q, num=1, cmdr=True)"
   ]
  },
  {
   "cell_type": "code",
   "execution_count": 12,
   "metadata": {
    "hideCode": true
   },
   "outputs": [
    {
     "name": "stdout",
     "output_type": "stream",
     "text": [
      "<query> +inet:fqdn.seen\n"
     ]
    }
   ],
   "source": [
    "# Define and print test query\n",
    "q = '<query> '\n",
    "q1 = 'inet:fqdn '\n",
    "q2 = '+inet:fqdn.seen'\n",
    "print(q + q2)\n",
    "# Execute the query to test it and get the packed nodes (podes).\n",
    "podes = await core.eval(q1 + q2, num=1, cmdr=False)"
   ]
  },
  {
   "cell_type": "code",
   "execution_count": 13,
   "metadata": {
    "hideCode": true
   },
   "outputs": [
    {
     "name": "stdout",
     "output_type": "stream",
     "text": [
      "<query> +.seen\n"
     ]
    }
   ],
   "source": [
    "# Define and print test query\n",
    "q = '<query> '\n",
    "q1 = 'inet:fqdn '\n",
    "q2 = '+.seen'\n",
    "print(q + q2)\n",
    "# Execute the query to test it and get the packed nodes (podes).\n",
    "podes = await core.eval(q1 + q2, num=1, cmdr=False)"
   ]
  },
  {
   "cell_type": "raw",
   "metadata": {},
   "source": [
    "*Filter by tag:*\n",
    "\n",
    "- Downselect to exclude nodes tagged as associated with Tor:"
   ]
  },
  {
   "cell_type": "code",
   "execution_count": 14,
   "metadata": {
    "hideCode": true,
    "hideOutput": true,
    "scrolled": true
   },
   "outputs": [
    {
     "name": "stdout",
     "output_type": "stream",
     "text": [
      "cli> storm [inet:ipv4=54.38.219.150 inet:ipv4=151.242.192.84 +#cno.infra.anon.tor]\n",
      "\n",
      "inet:ipv4=54.38.219.150\n",
      "        .created = 2019/01/02 21:34:21.162\n",
      "        :asn = 0\n",
      "        :loc = ??\n",
      "        :type = unicast\n",
      "        #cno.infra.anon.tor\n",
      "inet:ipv4=151.242.192.84\n",
      "        .created = 2019/01/02 21:34:21.166\n",
      "        :asn = 0\n",
      "        :loc = ??\n",
      "        :type = unicast\n",
      "        #cno.infra.anon.tor\n",
      "complete. 2 nodes in 15 ms (133/sec).\n"
     ]
    }
   ],
   "source": [
    "# Make some nodes\n",
    "q = '[inet:ipv4=54.38.219.150 inet:ipv4=151.242.192.84 +#cno.infra.anon.tor]'\n",
    "# Run the query and test\n",
    "podes = await core.eval(q, num=2, cmdr=True)"
   ]
  },
  {
   "cell_type": "code",
   "execution_count": 15,
   "metadata": {
    "hideCode": true
   },
   "outputs": [
    {
     "name": "stdout",
     "output_type": "stream",
     "text": [
      "<query> -#cno.infra.anon.tor\n"
     ]
    }
   ],
   "source": [
    "# Define and print test query\n",
    "q = '<query> '\n",
    "q1 = 'inet:ipv4 '\n",
    "q2 = '-#cno.infra.anon.tor'\n",
    "print(q + q2)\n",
    "# Execute the query to test it and get the packed nodes (podes).\n",
    "podes = await core.eval(q1 + q2, num=2, cmdr=False)"
   ]
  },
  {
   "cell_type": "raw",
   "metadata": {},
   "source": [
    "**Usage Notes:**\n",
    "\n",
    "- The comparator (comparison operator) specifies how *<form>* or *<prop>* is evaluted with respect to *<valu>* or *<pval>*. The most common operator is equals (``=``), although other comparators are available (see below)."
   ]
  },
  {
   "cell_type": "code",
   "execution_count": 16,
   "metadata": {
    "hideCode": true,
    "hideOutput": true
   },
   "outputs": [
    {
     "data": {
      "text/plain": [
       "0"
      ]
     },
     "execution_count": 16,
     "metadata": {},
     "output_type": "execute_result"
    }
   ],
   "source": [
    "# Close cortex because done\n",
    "await core.fini()"
   ]
  },
  {
   "cell_type": "code",
   "execution_count": 17,
   "metadata": {
    "hideCode": true
   },
   "outputs": [],
   "source": [
    "import os, sys\n",
    "try:\n",
    "    from synapse.lib.jupyter import *\n",
    "except ImportError as e:\n",
    "    # Insert the root path of the repository to sys.path.\n",
    "    # This assumes the notebook is located three directories away\n",
    "    # From the root synapse directory. It may need to be varied\n",
    "    synroot = os.path.abspath('../../../')\n",
    "    sys.path.insert(0, synroot)\n",
    "    from synapse.lib.jupyter import *"
   ]
  },
  {
   "cell_type": "raw",
   "metadata": {},
   "source": [
    "Filters Using Standard Comparison Operators\n",
    "-------------------------------------------\n",
    "\n",
    "Filter operations can be performed using any of the standard mathematical / logical comparison operators (comparators):\n",
    "\n",
    "- ``=``: equals (described above)\n",
    "- ``!=`` : not equals\n",
    "- ``<`` : less than\n",
    "- ``>`` : greater than\n",
    "- ``<=`` : less than or equal to\n",
    "- ``>=`` : greater than or equal to\n",
    "\n",
    "**Syntax:**\n",
    "\n",
    "*<query>* **+** | **-** *<form>* | *<prop>* *<comparator>* *<valu>* | *<pval>*\n",
    "\n",
    "**Examples:**\n",
    "\n",
    "*Filter by Not Equals:*\n",
    "\n",
    "- Downselect to exclude the domain ``google.com``:"
   ]
  },
  {
   "cell_type": "code",
   "execution_count": 18,
   "metadata": {
    "hideCode": true,
    "hideOutput": true
   },
   "outputs": [
    {
     "name": "stdout",
     "output_type": "stream",
     "text": [
      "cli> storm [inet:fqdn=woot.com inet:fqdn=vertex.link inet:fqdn=google.com inet:ipv4=1.2.3.4 inet:ipv4=5.6.7.8]\n",
      "\n",
      "inet:fqdn=woot.com\n",
      "        .created = 2019/01/02 21:34:21.492\n",
      "        :domain = com\n",
      "        :host = woot\n",
      "        :issuffix = False\n",
      "        :iszone = True\n",
      "        :zone = woot.com\n",
      "inet:fqdn=vertex.link\n",
      "        .created = 2019/01/02 21:34:21.494\n",
      "        :domain = link\n",
      "        :host = vertex\n",
      "        :issuffix = False\n",
      "        :iszone = True\n",
      "        :zone = vertex.link\n",
      "inet:fqdn=google.com\n",
      "        .created = 2019/01/02 21:34:21.495\n",
      "        :domain = com\n",
      "        :host = google\n",
      "        :issuffix = False\n",
      "        :iszone = True\n",
      "        :zone = google.com\n",
      "inet:ipv4=1.2.3.4\n",
      "        .created = 2019/01/02 21:34:21.497\n",
      "        :asn = 0\n",
      "        :loc = ??\n",
      "        :type = unicast\n",
      "inet:ipv4=5.6.7.8\n",
      "        .created = 2019/01/02 21:34:21.499\n",
      "        :asn = 0\n",
      "        :loc = ??\n",
      "        :type = unicast\n",
      "complete. 5 nodes in 18 ms (277/sec).\n"
     ]
    }
   ],
   "source": [
    "# Get a temp cortex and preload some data into it.\n",
    "core = await getTempCoreCmdr()\n",
    "q = '[inet:fqdn=woot.com inet:fqdn=vertex.link inet:fqdn=google.com inet:ipv4=1.2.3.4 inet:ipv4=5.6.7.8]'\n",
    "# This runs the query via the CLI, rips out the nodes, makes sure we got 3 nodes on the output :)\n",
    "podes = await core.eval(q, num=5, cmdr=True)\n",
    "# print(f'I got {len(podes)} podes!')\n",
    "# This runs the query directly, no CLI output\n",
    "# newpodes = await core.eval(q, num=4, cmdr=False)\n",
    "# print(f'I got {len(newpodes)} podes the second time!!')\n",
    "# await core.fini()"
   ]
  },
  {
   "cell_type": "code",
   "execution_count": 19,
   "metadata": {
    "hideCode": true
   },
   "outputs": [
    {
     "name": "stdout",
     "output_type": "stream",
     "text": [
      "<query> +inet:fqdn != google.com\n"
     ]
    }
   ],
   "source": [
    "# Define and print test query\n",
    "q = '<query> '\n",
    "q1 = 'inet:fqdn '\n",
    "q2 = '+inet:fqdn != google.com'\n",
    "print(q + q2)\n",
    "# Execute the query to test it and get the packed nodes (podes).\n",
    "podes = await core.eval(q1 + q2, num=4, cmdr=False)"
   ]
  },
  {
   "cell_type": "raw",
   "metadata": {},
   "source": [
    "*Filer by Less Than:*\n",
    "\n",
    "- Downselect to include only WHOIS records collected prior to January 1, 2017: "
   ]
  },
  {
   "cell_type": "code",
   "execution_count": 20,
   "metadata": {
    "hideCode": true,
    "hideOutput": true
   },
   "outputs": [
    {
     "name": "stdout",
     "output_type": "stream",
     "text": [
      "cli> storm [inet:whois:rec=(woot.com,2015/09/30) :text=\"domain name: woot.com\"]\n",
      "\n",
      "inet:whois:rec=('woot.com', '2015/09/30 00:00:00.000')\n",
      "        .created = 2019/01/02 21:34:21.542\n",
      "        :asof = 2015/09/30 00:00:00.000\n",
      "        :fqdn = woot.com\n",
      "        :registrant = ??\n",
      "        :registrar = ??\n",
      "        :text = domain name: woot.com\n",
      "complete. 1 nodes in 11 ms (90/sec).\n",
      "cli> storm [inet:whois:rec=(woot.com,2016/12/31) :text=\"domain name: woot.com\"]\n",
      "\n",
      "inet:whois:rec=('woot.com', '2016/12/31 00:00:00.000')\n",
      "        .created = 2019/01/02 21:34:21.559\n",
      "        :asof = 2016/12/31 00:00:00.000\n",
      "        :fqdn = woot.com\n",
      "        :registrant = ??\n",
      "        :registrar = ??\n",
      "        :text = domain name: woot.com\n",
      "complete. 1 nodes in 11 ms (90/sec).\n",
      "cli> storm [inet:whois:rec=(woot.com,2017/01/01) :text=\"domain name: woot.com\"]\n",
      "\n",
      "inet:whois:rec=('woot.com', '2017/01/01 00:00:00.000')\n",
      "        .created = 2019/01/02 21:34:21.579\n",
      "        :asof = 2017/01/01 00:00:00.000\n",
      "        :fqdn = woot.com\n",
      "        :registrant = ??\n",
      "        :registrar = ??\n",
      "        :text = domain name: woot.com\n",
      "complete. 1 nodes in 10 ms (100/sec).\n",
      "cli> storm [inet:whois:rec=(woot.com,2017/10/30) :text=\"domain name: woot.com\"]\n",
      "\n",
      "inet:whois:rec=('woot.com', '2017/10/30 00:00:00.000')\n",
      "        .created = 2019/01/02 21:34:21.607\n",
      "        :asof = 2017/10/30 00:00:00.000\n",
      "        :fqdn = woot.com\n",
      "        :registrant = ??\n",
      "        :registrar = ??\n",
      "        :text = domain name: woot.com\n",
      "complete. 1 nodes in 11 ms (90/sec).\n"
     ]
    }
   ],
   "source": [
    "# Make some WHOIS records\n",
    "q = '[inet:whois:rec=(woot.com,2015/09/30) :text=\"domain name: woot.com\"]'\n",
    "q1 = '[inet:whois:rec=(woot.com,2016/12/31) :text=\"domain name: woot.com\"]'\n",
    "q2 = '[inet:whois:rec=(woot.com,2017/01/01) :text=\"domain name: woot.com\"]'\n",
    "q3 = '[inet:whois:rec=(woot.com,2017/10/30) :text=\"domain name: woot.com\"]'\n",
    "# Run the query and test\n",
    "podes = await core.eval(q, num=1, cmdr=True)\n",
    "podes = await core.eval(q1, num=1, cmdr=True)\n",
    "podes = await core.eval(q2, num=1, cmdr=True)\n",
    "podes = await core.eval(q3, num=1, cmdr=True)"
   ]
  },
  {
   "cell_type": "code",
   "execution_count": 21,
   "metadata": {
    "hideCode": true
   },
   "outputs": [
    {
     "name": "stdout",
     "output_type": "stream",
     "text": [
      "<query> +inet:whois:rec:asof < 2017/01/01\n"
     ]
    }
   ],
   "source": [
    "# Define and print test query\n",
    "q = '<query> '\n",
    "q1 = 'inet:whois:rec '\n",
    "q2 = '+inet:whois:rec:asof < 2017/01/01'\n",
    "print(q + q2)\n",
    "# Execute the query to test it and get the packed nodes (podes).\n",
    "podes = await core.eval(q1 + q2, num=2, cmdr=False)"
   ]
  },
  {
   "cell_type": "code",
   "execution_count": 22,
   "metadata": {
    "hideCode": true
   },
   "outputs": [
    {
     "name": "stdout",
     "output_type": "stream",
     "text": [
      "<query> +:asof < 2017/01/01\n"
     ]
    }
   ],
   "source": [
    "# Define and print test query\n",
    "q = '<query> '\n",
    "q1 = 'inet:whois:rec '\n",
    "q2 = '+:asof < 2017/01/01'\n",
    "print(q + q2)\n",
    "# Execute the query to test it and get the packed nodes (podes).\n",
    "podes = await core.eval(q1 + q2, num=2, cmdr=False)"
   ]
  },
  {
   "cell_type": "raw",
   "metadata": {},
   "source": [
    "*Filter by Greater Than:*\n",
    "\n",
    "- Filter to exclude files larger than 4096 bytes:"
   ]
  },
  {
   "cell_type": "code",
   "execution_count": 23,
   "metadata": {
    "hideCode": true,
    "hideOutput": true
   },
   "outputs": [
    {
     "name": "stdout",
     "output_type": "stream",
     "text": [
      "cli> storm [file:bytes=sha256:68168583a7778d3c8512f8d6ae47a44618c58537dd5af8eff7da41da0c000c0c :size=4096]\n",
      "\n",
      "file:bytes=sha256:68168583a7778d3c8512f8d6ae47a44618c58537dd5af8eff7da41da0c000c0c\n",
      "        .created = 2019/01/02 21:34:21.700\n",
      "        :mime = ??\n",
      "        :sha256 = 68168583a7778d3c8512f8d6ae47a44618c58537dd5af8eff7da41da0c000c0c\n",
      "        :size = 4096\n",
      "complete. 1 nodes in 12 ms (83/sec).\n",
      "cli> storm [file:bytes=sha256:809fa843160f6d4d7fca42ec1edfc1dd5dc1eef79f85cacc93bf20a69187c51c :size=1024]\n",
      "\n",
      "file:bytes=sha256:809fa843160f6d4d7fca42ec1edfc1dd5dc1eef79f85cacc93bf20a69187c51c\n",
      "        .created = 2019/01/02 21:34:21.718\n",
      "        :mime = ??\n",
      "        :sha256 = 809fa843160f6d4d7fca42ec1edfc1dd5dc1eef79f85cacc93bf20a69187c51c\n",
      "        :size = 1024\n",
      "complete. 1 nodes in 9 ms (111/sec).\n",
      "cli> storm [file:bytes=sha256:0a040124ffeccf0031369c57ca7b1dd70f61c71d9b10710bdc6adb53d0eefd81 :size=16384]\n",
      "\n",
      "file:bytes=sha256:0a040124ffeccf0031369c57ca7b1dd70f61c71d9b10710bdc6adb53d0eefd81\n",
      "        .created = 2019/01/02 21:34:21.740\n",
      "        :mime = ??\n",
      "        :sha256 = 0a040124ffeccf0031369c57ca7b1dd70f61c71d9b10710bdc6adb53d0eefd81\n",
      "        :size = 16384\n",
      "complete. 1 nodes in 11 ms (90/sec).\n"
     ]
    }
   ],
   "source": [
    "# Make some files\n",
    "q = '[file:bytes=sha256:68168583a7778d3c8512f8d6ae47a44618c58537dd5af8eff7da41da0c000c0c :size=4096]'\n",
    "q1 = '[file:bytes=sha256:809fa843160f6d4d7fca42ec1edfc1dd5dc1eef79f85cacc93bf20a69187c51c :size=1024]'\n",
    "q2 = '[file:bytes=sha256:0a040124ffeccf0031369c57ca7b1dd70f61c71d9b10710bdc6adb53d0eefd81 :size=16384]'\n",
    "# Run the query and test\n",
    "podes = await core.eval(q, num=1, cmdr=True)\n",
    "podes = await core.eval(q1, num=1, cmdr=True)\n",
    "podes = await core.eval(q2, num=1, cmdr=True)"
   ]
  },
  {
   "cell_type": "code",
   "execution_count": 26,
   "metadata": {
    "hideCode": true
   },
   "outputs": [
    {
     "name": "stdout",
     "output_type": "stream",
     "text": [
      "<query> -file:bytes:size > 4096\n"
     ]
    }
   ],
   "source": [
    "# Define and print test query\n",
    "q = '<query> '\n",
    "q1 = 'file:bytes '\n",
    "q2 = '-file:bytes:size > 4096'\n",
    "print(q + q2)\n",
    "# Execute the query to test it and get the packed nodes (podes).\n",
    "podes = await core.eval(q1 + q2, num=2, cmdr=False)"
   ]
  },
  {
   "cell_type": "raw",
   "metadata": {},
   "source": [
    "*Filter by Less Than or Equal To:*\n",
    "\n",
    "- Downlselect to include only WHOIS nodes for domains created on or before noon on January 1, 2018:"
   ]
  },
  {
   "cell_type": "code",
   "execution_count": 27,
   "metadata": {
    "hideCode": true,
    "hideOutput": true
   },
   "outputs": [
    {
     "name": "stdout",
     "output_type": "stream",
     "text": [
      "cli> storm [inet:whois:rec=(hurr.com,2018/12/30) :created=\"2018/01/01 12:00\"]\n",
      "\n",
      "inet:whois:rec=('hurr.com', '2018/12/30 00:00:00.000')\n",
      "        .created = 2019/01/02 21:48:52.595\n",
      "        :asof = 2018/12/30 00:00:00.000\n",
      "        :created = 2018/01/01 12:00:00.000\n",
      "        :fqdn = hurr.com\n",
      "        :registrant = ??\n",
      "        :registrar = ??\n",
      "complete. 1 nodes in 21 ms (47/sec).\n",
      "cli> storm [inet:whois:rec=(derp.com,2018/12/30) :created=\"2016/05/13 09:37\"]\n",
      "\n",
      "inet:whois:rec=('derp.com', '2018/12/30 00:00:00.000')\n",
      "        .created = 2019/01/02 21:48:52.616\n",
      "        :asof = 2018/12/30 00:00:00.000\n",
      "        :created = 2016/05/13 09:37:00.000\n",
      "        :fqdn = derp.com\n",
      "        :registrant = ??\n",
      "        :registrar = ??\n",
      "complete. 1 nodes in 11 ms (90/sec).\n",
      "cli> storm [inet:whois:rec=(umwut.com,2018/12/30) :created=\"2018/08/17 19:42\"]\n",
      "\n",
      "inet:whois:rec=('umwut.com', '2018/12/30 00:00:00.000')\n",
      "        .created = 2019/01/02 21:48:52.639\n",
      "        :asof = 2018/12/30 00:00:00.000\n",
      "        :created = 2018/08/17 19:42:00.000\n",
      "        :fqdn = umwut.com\n",
      "        :registrant = ??\n",
      "        :registrar = ??\n",
      "complete. 1 nodes in 14 ms (71/sec).\n"
     ]
    }
   ],
   "source": [
    "# Make some WHOIS records\n",
    "q = '[inet:whois:rec=(hurr.com,2018/12/30) :created=\"2018/01/01 12:00\"]'\n",
    "q1 = '[inet:whois:rec=(derp.com,2018/12/30) :created=\"2016/05/13 09:37\"]'\n",
    "q2 = '[inet:whois:rec=(umwut.com,2018/12/30) :created=\"2018/08/17 19:42\"]'\n",
    "# Run the query and test\n",
    "podes = await core.eval(q, num=1, cmdr=True)\n",
    "podes = await core.eval(q1, num=1, cmdr=True)\n",
    "podes = await core.eval(q2, num=1, cmdr=True)"
   ]
  },
  {
   "cell_type": "code",
   "execution_count": 28,
   "metadata": {
    "hideCode": true
   },
   "outputs": [
    {
     "name": "stdout",
     "output_type": "stream",
     "text": [
      "<query> +inet:whois:rec:created <= \"2018/01/01 12:00\"\n"
     ]
    }
   ],
   "source": [
    "# Define and print test query\n",
    "q = '<query> '\n",
    "q1 = 'inet:whois:rec '\n",
    "q2 = '+inet:whois:rec:created <= \"2018/01/01 12:00\"'\n",
    "print(q + q2)\n",
    "# Execute the query to test it and get the packed nodes (podes).\n",
    "podes = await core.eval(q1 + q2, num=2, cmdr=False)"
   ]
  },
  {
   "cell_type": "code",
   "execution_count": 29,
   "metadata": {
    "hideCode": true
   },
   "outputs": [
    {
     "name": "stdout",
     "output_type": "stream",
     "text": [
      "<query> +:created <= \"2018/01/01 12:00\"\n"
     ]
    }
   ],
   "source": [
    "# Define and print test query\n",
    "q = '<query> '\n",
    "q1 = 'inet:whois:rec '\n",
    "q2 = '+:created <= \"2018/01/01 12:00\"'\n",
    "print(q + q2)\n",
    "# Execute the query to test it and get the packed nodes (podes).\n",
    "podes = await core.eval(q1 + q2, num=2, cmdr=False)"
   ]
  },
  {
   "cell_type": "raw",
   "metadata": {},
   "source": [
    "*Filter by Greater Than or Equal To:*\n",
    "\n",
    "- Downlselect to include only people born on or after January 1, 1980:"
   ]
  },
  {
   "cell_type": "code",
   "execution_count": 30,
   "metadata": {
    "hideCode": true,
    "hideOutput": true
   },
   "outputs": [
    {
     "name": "stdout",
     "output_type": "stream",
     "text": [
      "cli> storm [ps:person=\"*\" :dob=1980/01/01]\n",
      "\n",
      "ps:person=f65db837721a2d5cf78b2139682b1b9a\n",
      "        .created = 2019/01/02 21:52:06.238\n",
      "        :dob = 1980/01/01 00:00:00.000\n",
      "complete. 1 nodes in 21 ms (47/sec).\n",
      "cli> storm [ps:person=\"*\" :dob=1975/01/19]\n",
      "\n",
      "ps:person=e4d1fa9a700ae412507490973fcd09e7\n",
      "        .created = 2019/01/02 21:52:06.274\n",
      "        :dob = 1975/01/19 00:00:00.000\n",
      "complete. 1 nodes in 11 ms (90/sec).\n",
      "cli> storm [ps:person=\"*\" :dob=1987/06/12]\n",
      "\n",
      "ps:person=e7fd1d4148138c6d1c9897e169cd49f9\n",
      "        .created = 2019/01/02 21:52:06.294\n",
      "        :dob = 1987/06/12 00:00:00.000\n",
      "complete. 1 nodes in 8 ms (125/sec).\n"
     ]
    }
   ],
   "source": [
    "# Make some person nodes\n",
    "q = '[ps:person=\"*\" :dob=1980/01/01]'\n",
    "q1 = '[ps:person=\"*\" :dob=1975/01/19]'\n",
    "q2 = '[ps:person=\"*\" :dob=1987/06/12]'\n",
    "# Run the query and test\n",
    "podes = await core.eval(q, num=1, cmdr=True)\n",
    "podes = await core.eval(q1, num=1, cmdr=True)\n",
    "podes = await core.eval(q2, num=1, cmdr=True)"
   ]
  },
  {
   "cell_type": "code",
   "execution_count": 32,
   "metadata": {
    "hideCode": true
   },
   "outputs": [
    {
     "name": "stdout",
     "output_type": "stream",
     "text": [
      "<query> +ps:person:dob >= 1980/01/01\n"
     ]
    }
   ],
   "source": [
    "# Define and print test query\n",
    "q = '<query> '\n",
    "q1 = 'ps:person '\n",
    "q2 = '+ps:person:dob >= 1980/01/01'\n",
    "print(q + q2)\n",
    "# Execute the query to test it and get the packed nodes (podes).\n",
    "podes = await core.eval(q1 + q2, num=2, cmdr=False)"
   ]
  },
  {
   "cell_type": "code",
   "execution_count": 33,
   "metadata": {
    "hideCode": true
   },
   "outputs": [
    {
     "name": "stdout",
     "output_type": "stream",
     "text": [
      "<query> +:dob >= 1980/01/01\n"
     ]
    }
   ],
   "source": [
    "# Define and print test query\n",
    "q = '<query> '\n",
    "q1 = 'ps:person '\n",
    "q2 = '+:dob >= 1980/01/01'\n",
    "print(q + q2)\n",
    "# Execute the query to test it and get the packed nodes (podes).\n",
    "podes = await core.eval(q1 + q2, num=2, cmdr=False)"
   ]
  },
  {
   "cell_type": "raw",
   "metadata": {},
   "source": [
    "**Usage Notes:**\n",
    "\n",
    "- Storm supports both equals ( ``=`` ) and not equals ( ``!=`` ) comparators for filtering, although use of not equals is not strictly necessary. Because filters are either inclusive ( ``+`` ) or exclusive ( ``-`` ), equivalent filter logic for “not equals” can be performed with “equals”. That is, “include domains not equal to google.com” (``+inet:fqdn != google.com``) is equivalent to “exclude the domain google.com” (``-inet:fqdn = google.com``)."
   ]
  },
  {
   "cell_type": "code",
   "execution_count": 34,
   "metadata": {
    "hideCode": true,
    "hideOutput": true
   },
   "outputs": [
    {
     "data": {
      "text/plain": [
       "0"
      ]
     },
     "execution_count": 34,
     "metadata": {},
     "output_type": "execute_result"
    }
   ],
   "source": [
    "# Close cortex because done\n",
    "await core.fini()"
   ]
  },
  {
   "cell_type": "code",
   "execution_count": 35,
   "metadata": {
    "hideCode": true
   },
   "outputs": [],
   "source": [
    "import os, sys\n",
    "try:\n",
    "    from synapse.lib.jupyter import *\n",
    "except ImportError as e:\n",
    "    # Insert the root path of the repository to sys.path.\n",
    "    # This assumes the notebook is located three directories away\n",
    "    # From the root synapse directory. It may need to be varied\n",
    "    synroot = os.path.abspath('../../../')\n",
    "    sys.path.insert(0, synroot)\n",
    "    from synapse.lib.jupyter import *"
   ]
  },
  {
   "cell_type": "raw",
   "metadata": {},
   "source": [
    "Filters Using Extended Comparison Operators\n",
    "-------------------------------------------\n",
    "\n",
    "Storm supports a set of extended comparison operators (comparators) for specialized filter operations. In most cases, the same extended comparators are available for both lifting and filtering:\n",
    "\n",
    "- `Filter by Regular Expression (~=)`_\n",
    "- `Filter by Prefix (^=)`_\n",
    "- `Filter by Time or Interval (@=)`_\n",
    "- `Filter by Range (*range)`_\n",
    "- `Filter by Set Membership (*in)`_\n",
    "- `Filter by Proximity (*near)`_\n",
    "- `Filter by Tag (#)`_\n",
    "\n",
    "Filter by Regular Expression (~=)\n",
    "+++++++++++++++++++++++++++++++++\n",
    "\n",
    "The extended comparator ``~=`` is used to filter nodes based on standard regular expressions.\n",
    "\n",
    "**Syntax:**\n",
    "\n",
    "*<query>* **+** | **-** *<form>* | *<prop>* **~=** *<regex>*\n",
    "\n",
    "**Examples:**\n",
    "\n",
    "*Filter by Regular Expression:*\n",
    "\n",
    "- Downselect to include only mutexes that start with the string “Net”:"
   ]
  },
  {
   "cell_type": "code",
   "execution_count": 36,
   "metadata": {
    "hideCode": true,
    "hideOutput": true
   },
   "outputs": [
    {
     "name": "stdout",
     "output_type": "stream",
     "text": [
      "cli> storm [it:dev:mutex=\"NetBotServer Is Running!\" it:dev:mutex=\"Netbot2012 Is Running!\" it:dev:mutex=\"***MUTEX***\"]\n",
      "\n",
      "it:dev:mutex=NetBotServer Is Running!\n",
      "        .created = 2019/01/02 22:01:59.708\n",
      "it:dev:mutex=Netbot2012 Is Running!\n",
      "        .created = 2019/01/02 22:01:59.708\n",
      "it:dev:mutex=***MUTEX***\n",
      "        .created = 2019/01/02 22:01:59.709\n",
      "complete. 3 nodes in 10 ms (300/sec).\n"
     ]
    }
   ],
   "source": [
    "# Get a temp cortex and preload some data into it.\n",
    "core = await getTempCoreCmdr()\n",
    "q = '[it:dev:mutex=\"NetBotServer Is Running!\" it:dev:mutex=\"Netbot2012 Is Running!\" it:dev:mutex=\"***MUTEX***\"]'\n",
    "# This runs the query via the CLI, rips out the nodes, makes sure we got 3 nodes on the output :)\n",
    "podes = await core.eval(q, num=3, cmdr=True)\n",
    "# print(f'I got {len(podes)} podes!')\n",
    "# This runs the query directly, no CLI output\n",
    "# newpodes = await core.eval(q, num=4, cmdr=False)\n",
    "# print(f'I got {len(newpodes)} podes the second time!!')\n",
    "# await core.fini()"
   ]
  },
  {
   "cell_type": "code",
   "execution_count": 38,
   "metadata": {},
   "outputs": [
    {
     "name": "stdout",
     "output_type": "stream",
     "text": [
      "<query> +it:dev:mutex ~= \"^Net\"\n"
     ]
    }
   ],
   "source": [
    "# Define and print test query\n",
    "q = '<query> '\n",
    "q1 = 'it:dev:mutex '\n",
    "q2 = '+it:dev:mutex ~= \"^Net\"'\n",
    "print(q + q2)\n",
    "# Execute the query to test it and get the packed nodes (podes).\n",
    "podes = await core.eval(q1 + q2, num=2, cmdr=False)"
   ]
  },
  {
   "cell_type": "raw",
   "metadata": {},
   "source": [
    "**Usage Notes:**\n",
    "\n",
    "- Filtering using regular expressions is performed by matching the regex against the relevant property of each node in the working set. Because filtering is performed on a subset of data from the Cortex (i.e., the working set) there should be no noticeable performance impact with a regex filter. However, **prefix filtering** (see below) is supported for string types and can be used as a more efficient alternative in some cases.\n",
    "\n",
    "Filter by Prefix (^=)\n",
    "+++++++++++++++++++++\n",
    "\n",
    "Synapse performs prefix indexing on string types, which optimizes filtering nodes whose *<valu>* or *<pval>* starts with a given prefix. The extended comparator ``^=`` is used to filter nodes by prefix.\n",
    "\n",
    "**Syntax:**\n",
    "\n",
    "*<query>* **+** | **-** *<form>* [  **:** *<prop>* ] **^=** *<prefix>*\n",
    "\n",
    "**Examples:**\n",
    "\n",
    "*Filter by primary property by prefix:*\n",
    "\n",
    "- Downselect to include only usernames that start with ``pinky``:"
   ]
  },
  {
   "cell_type": "code",
   "execution_count": 39,
   "metadata": {},
   "outputs": [
    {
     "name": "stdout",
     "output_type": "stream",
     "text": [
      "cli> storm [inet:user=pinky inet:user=pinkydinky inet:user=brain inet:user=inkypinky]\n",
      "\n",
      "inet:user=pinky\n",
      "        .created = 2019/01/02 22:10:00.337\n",
      "inet:user=pinkydinky\n",
      "        .created = 2019/01/02 22:10:00.338\n",
      "inet:user=brain\n",
      "        .created = 2019/01/02 22:10:00.339\n",
      "inet:user=inkypinky\n",
      "        .created = 2019/01/02 22:10:00.342\n",
      "complete. 4 nodes in 28 ms (142/sec).\n"
     ]
    }
   ],
   "source": [
    "# Make some user nodes\n",
    "q = '[inet:user=pinky inet:user=pinkydinky inet:user=brain inet:user=inkypinky]'\n",
    "# Run the query and test\n",
    "podes = await core.eval(q, num=4, cmdr=True)"
   ]
  },
  {
   "cell_type": "code",
   "execution_count": 40,
   "metadata": {},
   "outputs": [
    {
     "name": "stdout",
     "output_type": "stream",
     "text": [
      "<query> +inet:user ^= pinky\n"
     ]
    }
   ],
   "source": [
    "# Define and print test query\n",
    "q = '<query> '\n",
    "q1 = 'inet:user '\n",
    "q2 = '+inet:user ^= pinky'\n",
    "print(q + q2)\n",
    "# Execute the query to test it and get the packed nodes (podes).\n",
    "podes = await core.eval(q1 + q2, num=2, cmdr=False)"
   ]
  },
  {
   "cell_type": "raw",
   "metadata": {},
   "source": [
    "Compound Filters\n",
    "----------------\n",
    "\n",
    "Subquery Filters\n",
    "----------------\n"
   ]
  }
 ],
 "metadata": {
  "celltoolbar": "Hide code",
  "kernelspec": {
   "display_name": "Python 3",
   "language": "python",
   "name": "python3"
  },
  "language_info": {
   "codemirror_mode": {
    "name": "ipython",
    "version": 3
   },
   "file_extension": ".py",
   "mimetype": "text/x-python",
   "name": "python",
   "nbconvert_exporter": "python",
   "pygments_lexer": "ipython3",
   "version": "3.7.0"
  }
 },
 "nbformat": 4,
 "nbformat_minor": 2
}
