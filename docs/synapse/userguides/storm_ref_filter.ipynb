{
 "cells": [
  {
   "cell_type": "code",
   "execution_count": 1,
   "metadata": {
    "hideCode": true
   },
   "outputs": [],
   "source": [
    "import os, sys\n",
    "try:\n",
    "    from synapse.lib.jupyter import *\n",
    "except ImportError as e:\n",
    "    # Insert the root path of the repository to sys.path.\n",
    "    # This assumes the notebook is located three directories away\n",
    "    # From the root synapse directory. It may need to be varied\n",
    "    synroot = os.path.abspath('../../../')\n",
    "    sys.path.insert(0, synroot)\n",
    "    from synapse.lib.jupyter import *"
   ]
  },
  {
   "cell_type": "raw",
   "metadata": {},
   "source": [
    ".. _storm-ref-filter:\n",
    "\n",
    "Storm Reference - Filtering\n",
    "===========================\n",
    "\n",
    "Filter operations are performed on the output of a previous Storm query. A filter operation downselects from the working set of nodes by either including or excluding a subset of nodes based on a set of criteria.\n",
    "\n",
    "- ``+`` specifies an **inclusion** filter. The filter downselects the working set to **only** those nodes that match the specified criteria.\n",
    "- ``-`` specifies an **exclusion** filter. The filter downselects the working set to all nodes **except** those that match the specified criteria.\n",
    "\n",
    "The types of filter operations within Storm are highly flexible and consist of the following:\n",
    "\n",
    "- `Simple Filters`_\n",
    "- `Filters Using Standard Comparison Operators`_\n",
    "- `Filters Using Extended Comparison Operators`_\n",
    "- `Compound Filters`_\n",
    "- `Subquery Filters`_\n",
    "\n",
    "In most cases, the criteria and available comparators for lift operations (:ref:`storm-ref-lift`) are also available for filter operations.\n",
    "\n",
    ".. NOTE::\n",
    "   When filtering based on a secondary property (*<prop>*) or secondary property value (*<prop> = <pval>*), the property can be specified using the relative property name only (``:baz`` vs. ``foo:bar:baz``) unless the full property name is required for disambiguation. In the examples below, both syntaxes (i.e., using the full property name and the relative property name) are provided where appropriate for completeness. See the :ref:`bkd-data-model` for additional discussion of properties.\n",
    "\n",
    "See :ref:`storm-ref-syntax` for an explanation of the syntax format used below.\n",
    "\n",
    "See :ref:`storm-ref-type-specific` for details on special syntax or handling for specific data types.\n",
    "\n",
    "Simple Filters\n",
    "--------------\n",
    "\n",
    "\"Simple\" filters refers to the most \"basic\" filter operations: that is, operations to include ( ``+`` ) or exclude ( ``-`` ) a subset of nodes based on:\n",
    "\n",
    "- The presence of a specific primary or secondary property in the working set.\n",
    "- The presence of a specific primary property value or secondary property value in the working set.\n",
    "- The presence of a specific tag on nodes in the working set.\n",
    "\n",
    "The only difference between \"simple\" filters and \"filters using comparison operators\" is that we have defined simple filters as those that use the equals ( ``=`` ) comparator, which is the easiest comparator to use to explain basic filtering concepts.\n",
    "\n",
    "**Syntax:**\n",
    "\n",
    "*<query>* **+** | **-** *<form>* | *<form>* **=** *<valu>* | *<prop>* | *<prop>* **=** *<pval>* | *<tag>*\n",
    "\n",
    "**Examples:**\n",
    "\n",
    "*Filter by Form (<form>):*\n",
    "\n",
    "- Downselect to include only domains:\n"
   ]
  },
  {
   "cell_type": "code",
   "execution_count": 2,
   "metadata": {
    "hideCode": true,
    "hideOutput": true
   },
   "outputs": [
    {
     "name": "stdout",
     "output_type": "stream",
     "text": [
      "cli> storm [inet:fqdn=woot.com inet:fqdn=vertex.link inet:fqdn=google.com inet:ipv4=1.2.3.4 inet:ipv4=5.6.7.8]\n",
      "\n",
      "inet:fqdn=woot.com\n",
      "        .created = 2019/01/03 22:55:57.797\n",
      "        :domain = com\n",
      "        :host = woot\n",
      "        :issuffix = False\n",
      "        :iszone = True\n",
      "        :zone = woot.com\n",
      "inet:fqdn=vertex.link\n",
      "        .created = 2019/01/03 22:55:57.800\n",
      "        :domain = link\n",
      "        :host = vertex\n",
      "        :issuffix = False\n",
      "        :iszone = True\n",
      "        :zone = vertex.link\n",
      "inet:fqdn=google.com\n",
      "        .created = 2019/01/03 22:55:57.802\n",
      "        :domain = com\n",
      "        :host = google\n",
      "        :issuffix = False\n",
      "        :iszone = True\n",
      "        :zone = google.com\n",
      "inet:ipv4=1.2.3.4\n",
      "        .created = 2019/01/03 22:55:57.805\n",
      "        :asn = 0\n",
      "        :loc = ??\n",
      "        :type = unicast\n",
      "inet:ipv4=5.6.7.8\n",
      "        .created = 2019/01/03 22:55:57.808\n",
      "        :asn = 0\n",
      "        :loc = ??\n",
      "        :type = unicast\n",
      "complete. 5 nodes in 22 ms (227/sec).\n"
     ]
    }
   ],
   "source": [
    "# Get a temp cortex and preload some data into it.\n",
    "core = await getTempCoreCmdr()\n",
    "q = '[inet:fqdn=woot.com inet:fqdn=vertex.link inet:fqdn=google.com inet:ipv4=1.2.3.4 inet:ipv4=5.6.7.8]'\n",
    "# This runs the query via the CLI, rips out the nodes, makes sure we got 3 nodes on the output :)\n",
    "podes = await core.eval(q, num=5, cmdr=True)\n",
    "# print(f'I got {len(podes)} podes!')\n",
    "# This runs the query directly, no CLI output\n",
    "# newpodes = await core.eval(q, num=4, cmdr=False)\n",
    "# print(f'I got {len(newpodes)} podes the second time!!')\n",
    "# await core.fini()"
   ]
  },
  {
   "cell_type": "code",
   "execution_count": 3,
   "metadata": {
    "hideCode": true
   },
   "outputs": [
    {
     "name": "stdout",
     "output_type": "stream",
     "text": [
      "<query> +inet:fqdn\n"
     ]
    }
   ],
   "source": [
    "# Use previous temp cortex, define and print test query\n",
    "q = '<query> '\n",
    "q1 = '.created '\n",
    "q2 = '+inet:fqdn'\n",
    "print(q + q2)\n",
    "# Execute the query to test it and get the packed nodes (podes).\n",
    "podes = await core.eval(q1 + q2, num=5, cmdr=False)"
   ]
  },
  {
   "cell_type": "raw",
   "metadata": {},
   "source": [
    "*Filter by Primary Property Value:*\n",
    "\n",
    "- Downselect to exclude the domain ``google.com``:"
   ]
  },
  {
   "cell_type": "code",
   "execution_count": 4,
   "metadata": {
    "hideCode": true
   },
   "outputs": [
    {
     "name": "stdout",
     "output_type": "stream",
     "text": [
      "<query> -inet:fqdn=google.com\n"
     ]
    }
   ],
   "source": [
    "# Use previous temp cortex, define and print test query\n",
    "q = '<query> '\n",
    "q1 = 'inet:fqdn'\n",
    "q2 = '-inet:fqdn=google.com'\n",
    "print(q + q2)\n",
    "# Execute the query to test it and get the packed nodes (podes).\n",
    "podes = await core.eval(q1 + q2, num=4, cmdr=False)"
   ]
  },
  {
   "cell_type": "raw",
   "metadata": {},
   "source": [
    "*Filter by Presence of Secondary Property:*\n",
    "\n",
    "- Downselect to exclude DNS SOA records with an \"email\" property:"
   ]
  },
  {
   "cell_type": "code",
   "execution_count": 5,
   "metadata": {
    "hideCode": true,
    "hideOutput": true
   },
   "outputs": [
    {
     "name": "stdout",
     "output_type": "stream",
     "text": [
      "cli> storm [inet:dns:soa=\"*\" :fqdn=google.com :ns=ns1.google.com]\n",
      "\n",
      "inet:dns:soa=3e99debd00b8708be79e35f5c30977e2\n",
      "        .created = 2019/01/03 22:55:57.878\n",
      "        :fqdn = google.com\n",
      "        :ns = ns1.google.com\n",
      "complete. 1 nodes in 11 ms (90/sec).\n",
      "cli> storm [inet:dns:soa=\"*\" :fqdn=woot.com :ns=ns1.woot.com]\n",
      "\n",
      "inet:dns:soa=19f6ea4aaff900dcef2f89c5471d5a26\n",
      "        .created = 2019/01/03 22:55:57.894\n",
      "        :fqdn = woot.com\n",
      "        :ns = ns1.woot.com\n",
      "complete. 1 nodes in 10 ms (100/sec).\n",
      "cli> storm [inet:dns:soa=\"*\" :fqdn=vertex.link :email=admin@vertex.link]\n",
      "\n",
      "inet:dns:soa=88a35c0caed2679c282d0bb6f7e00c46\n",
      "        .created = 2019/01/03 22:55:57.910\n",
      "        :email = admin@vertex.link\n",
      "        :fqdn = vertex.link\n",
      "complete. 1 nodes in 10 ms (100/sec).\n"
     ]
    }
   ],
   "source": [
    "# Make some SOA records:\n",
    "q = '[inet:dns:soa=\"*\" :fqdn=google.com :ns=ns1.google.com]'\n",
    "q1 = '[inet:dns:soa=\"*\" :fqdn=woot.com :ns=ns1.woot.com]'\n",
    "q2 = '[inet:dns:soa=\"*\" :fqdn=vertex.link :email=admin@vertex.link]'\n",
    "# Run the query and test\n",
    "podes = await core.eval(q, num=1, cmdr=True)\n",
    "podes = await core.eval(q1, num=1, cmdr=True)\n",
    "podes = await core.eval(q2, num=1, cmdr=True)"
   ]
  },
  {
   "cell_type": "code",
   "execution_count": 6,
   "metadata": {
    "hideCode": true
   },
   "outputs": [
    {
     "name": "stdout",
     "output_type": "stream",
     "text": [
      "<query> -inet:dns:soa:email\n"
     ]
    }
   ],
   "source": [
    "# Define and print test query\n",
    "q = '<query> '\n",
    "q1 = 'inet:dns:soa '\n",
    "q2 = '-inet:dns:soa:email'\n",
    "print(q + q2)\n",
    "# Execute the query to test it and get the packed nodes (podes).\n",
    "podes = await core.eval(q1 + q2, num=2, cmdr=False)"
   ]
  },
  {
   "cell_type": "code",
   "execution_count": 7,
   "metadata": {
    "hideCode": true
   },
   "outputs": [
    {
     "name": "stdout",
     "output_type": "stream",
     "text": [
      "<query> -:email\n"
     ]
    }
   ],
   "source": [
    "# Define and print test query\n",
    "q = '<query> '\n",
    "q1 = 'inet:dns:soa '\n",
    "q2 = '-:email'\n",
    "print(q + q2)\n",
    "# Execute the query to test it and get the packed nodes (podes).\n",
    "podes = await core.eval(q1 + q2, num=2, cmdr=False)"
   ]
  },
  {
   "cell_type": "raw",
   "metadata": {},
   "source": [
    "*Filter by Secondary Property Value:*\n",
    "\n",
    "- Downselect to include only those domains that are also logical zones:"
   ]
  },
  {
   "cell_type": "code",
   "execution_count": 8,
   "metadata": {
    "hideCode": true,
    "hideOutput": true
   },
   "outputs": [
    {
     "name": "stdout",
     "output_type": "stream",
     "text": [
      "cli> storm [inet:fqdn=www.woot.com inet:fqdn=mail.vertex.link inet:fqdn=code.google.com]\n",
      "\n",
      "inet:fqdn=www.woot.com\n",
      "        .created = 2019/01/03 22:55:57.974\n",
      "        :domain = woot.com\n",
      "        :host = www\n",
      "        :issuffix = False\n",
      "        :iszone = False\n",
      "        :zone = woot.com\n",
      "inet:fqdn=mail.vertex.link\n",
      "        .created = 2019/01/03 22:55:57.976\n",
      "        :domain = vertex.link\n",
      "        :host = mail\n",
      "        :issuffix = False\n",
      "        :iszone = False\n",
      "        :zone = vertex.link\n",
      "inet:fqdn=code.google.com\n",
      "        .created = 2019/01/03 22:55:57.978\n",
      "        :domain = google.com\n",
      "        :host = code\n",
      "        :issuffix = False\n",
      "        :iszone = False\n",
      "        :zone = google.com\n",
      "complete. 3 nodes in 15 ms (200/sec).\n"
     ]
    }
   ],
   "source": [
    "# Make some subdomains:\n",
    "q = '[inet:fqdn=www.woot.com inet:fqdn=mail.vertex.link inet:fqdn=code.google.com]'\n",
    "# Run the query and test\n",
    "podes = await core.eval(q, num=3, cmdr=True)"
   ]
  },
  {
   "cell_type": "code",
   "execution_count": 9,
   "metadata": {
    "hideCode": true
   },
   "outputs": [
    {
     "name": "stdout",
     "output_type": "stream",
     "text": [
      "<query> +inet:fqdn:iszone=1\n"
     ]
    }
   ],
   "source": [
    "# Define and print test query\n",
    "q = '<query> '\n",
    "q1 = 'inet:fqdn '\n",
    "q2 = '+inet:fqdn:iszone=1'\n",
    "print(q + q2)\n",
    "# Execute the query to test it and get the packed nodes (podes).\n",
    "podes = await core.eval(q1 + q2, num=3, cmdr=False)"
   ]
  },
  {
   "cell_type": "code",
   "execution_count": 10,
   "metadata": {
    "hideCode": true
   },
   "outputs": [
    {
     "name": "stdout",
     "output_type": "stream",
     "text": [
      "<query> +:iszone=1\n"
     ]
    }
   ],
   "source": [
    "# Define and print test query\n",
    "q = '<query> '\n",
    "q1 = 'inet:fqdn '\n",
    "q2 = '+:iszone=1'\n",
    "print(q + q2)\n",
    "# Execute the query to test it and get the packed nodes (podes).\n",
    "podes = await core.eval(q1 + q2, num=3, cmdr=False)"
   ]
  },
  {
   "cell_type": "raw",
   "metadata": {},
   "source": [
    "*Filter by Presence of Universal Property:*\n",
    "\n",
    "- Downselect to include only those domains with a ``.seen`` property:"
   ]
  },
  {
   "cell_type": "code",
   "execution_count": 11,
   "metadata": {
    "hideCode": true,
    "hideOutput": true
   },
   "outputs": [
    {
     "name": "stdout",
     "output_type": "stream",
     "text": [
      "cli> storm inet:fqdn=google.com [.seen=(\"2014/07/25 19:29:19.000\",\"2019/01/02 12:29:45.500\")]\n",
      "\n",
      "inet:fqdn=google.com\n",
      "        .created = 2019/01/03 22:55:57.802\n",
      "        .seen = ('2014/07/25 19:29:19.000', '2019/01/02 12:29:45.500')\n",
      "        :domain = com\n",
      "        :host = google\n",
      "        :issuffix = False\n",
      "        :iszone = True\n",
      "        :zone = google.com\n",
      "complete. 1 nodes in 10 ms (100/sec).\n"
     ]
    }
   ],
   "source": [
    "# Modify some domains\n",
    "q = 'inet:fqdn=google.com [.seen=(\"2014/07/25 19:29:19.000\",\"2019/01/02 12:29:45.500\")]'\n",
    "# Run the query and test\n",
    "podes = await core.eval(q, num=1, cmdr=True)"
   ]
  },
  {
   "cell_type": "code",
   "execution_count": 12,
   "metadata": {
    "hideCode": true
   },
   "outputs": [
    {
     "name": "stdout",
     "output_type": "stream",
     "text": [
      "<query> +inet:fqdn.seen\n"
     ]
    }
   ],
   "source": [
    "# Define and print test query\n",
    "q = '<query> '\n",
    "q1 = 'inet:fqdn '\n",
    "q2 = '+inet:fqdn.seen'\n",
    "print(q + q2)\n",
    "# Execute the query to test it and get the packed nodes (podes).\n",
    "podes = await core.eval(q1 + q2, num=1, cmdr=False)"
   ]
  },
  {
   "cell_type": "code",
   "execution_count": 13,
   "metadata": {
    "hideCode": true
   },
   "outputs": [
    {
     "name": "stdout",
     "output_type": "stream",
     "text": [
      "<query> +.seen\n"
     ]
    }
   ],
   "source": [
    "# Define and print test query\n",
    "q = '<query> '\n",
    "q1 = 'inet:fqdn '\n",
    "q2 = '+.seen'\n",
    "print(q + q2)\n",
    "# Execute the query to test it and get the packed nodes (podes).\n",
    "podes = await core.eval(q1 + q2, num=1, cmdr=False)"
   ]
  },
  {
   "cell_type": "raw",
   "metadata": {},
   "source": [
    "*Filter by tag:*\n",
    "\n",
    "- Downselect to exclude nodes tagged as associated with Tor:"
   ]
  },
  {
   "cell_type": "code",
   "execution_count": 14,
   "metadata": {
    "hideCode": true,
    "hideOutput": true,
    "scrolled": true
   },
   "outputs": [
    {
     "name": "stdout",
     "output_type": "stream",
     "text": [
      "cli> storm [inet:ipv4=54.38.219.150 inet:ipv4=151.242.192.84 +#cno.infra.anon.tor]\n",
      "\n",
      "inet:ipv4=54.38.219.150\n",
      "        .created = 2019/01/03 22:55:58.097\n",
      "        :asn = 0\n",
      "        :loc = ??\n",
      "        :type = unicast\n",
      "        #cno.infra.anon.tor\n",
      "inet:ipv4=151.242.192.84\n",
      "        .created = 2019/01/03 22:55:58.102\n",
      "        :asn = 0\n",
      "        :loc = ??\n",
      "        :type = unicast\n",
      "        #cno.infra.anon.tor\n",
      "complete. 2 nodes in 16 ms (125/sec).\n"
     ]
    }
   ],
   "source": [
    "# Make some nodes\n",
    "q = '[inet:ipv4=54.38.219.150 inet:ipv4=151.242.192.84 +#cno.infra.anon.tor]'\n",
    "# Run the query and test\n",
    "podes = await core.eval(q, num=2, cmdr=True)"
   ]
  },
  {
   "cell_type": "code",
   "execution_count": 15,
   "metadata": {
    "hideCode": true
   },
   "outputs": [
    {
     "name": "stdout",
     "output_type": "stream",
     "text": [
      "<query> -#cno.infra.anon.tor\n"
     ]
    }
   ],
   "source": [
    "# Define and print test query\n",
    "q = '<query> '\n",
    "q1 = 'inet:ipv4 '\n",
    "q2 = '-#cno.infra.anon.tor'\n",
    "print(q + q2)\n",
    "# Execute the query to test it and get the packed nodes (podes).\n",
    "podes = await core.eval(q1 + q2, num=2, cmdr=False)"
   ]
  },
  {
   "cell_type": "raw",
   "metadata": {},
   "source": [
    "**Usage Notes:**\n",
    "\n",
    "- The comparator (comparison operator) specifies how *<form>* or *<prop>* is evaluted with respect to *<valu>* or *<pval>*. The most common comparator is equals (``=``), although other comparators are available (see below)."
   ]
  },
  {
   "cell_type": "code",
   "execution_count": 16,
   "metadata": {
    "hideCode": true,
    "hideOutput": true
   },
   "outputs": [
    {
     "data": {
      "text/plain": [
       "0"
      ]
     },
     "execution_count": 16,
     "metadata": {},
     "output_type": "execute_result"
    }
   ],
   "source": [
    "# Close cortex because done\n",
    "await core.fini()"
   ]
  },
  {
   "cell_type": "code",
   "execution_count": 17,
   "metadata": {
    "hideCode": true
   },
   "outputs": [],
   "source": [
    "import os, sys\n",
    "try:\n",
    "    from synapse.lib.jupyter import *\n",
    "except ImportError as e:\n",
    "    # Insert the root path of the repository to sys.path.\n",
    "    # This assumes the notebook is located three directories away\n",
    "    # From the root synapse directory. It may need to be varied\n",
    "    synroot = os.path.abspath('../../../')\n",
    "    sys.path.insert(0, synroot)\n",
    "    from synapse.lib.jupyter import *"
   ]
  },
  {
   "cell_type": "raw",
   "metadata": {},
   "source": [
    "Filters Using Standard Comparison Operators\n",
    "-------------------------------------------\n",
    "\n",
    "Filter operations can be performed using any of the standard mathematical / logical comparison operators (comparators):\n",
    "\n",
    "- ``=``: equals (described above)\n",
    "- ``!=`` : not equals\n",
    "- ``<`` : less than\n",
    "- ``>`` : greater than\n",
    "- ``<=`` : less than or equal to\n",
    "- ``>=`` : greater than or equal to\n",
    "\n",
    "**Syntax:**\n",
    "\n",
    "*<query>* **+** | **-** *<form>* | *<prop>* *<comparator>* *<valu>* | *<pval>*\n",
    "\n",
    "**Examples:**\n",
    "\n",
    "*Filter by Not Equals:*\n",
    "\n",
    "- Downselect to exclude the domain ``google.com``:"
   ]
  },
  {
   "cell_type": "code",
   "execution_count": 18,
   "metadata": {
    "hideCode": true,
    "hideOutput": true
   },
   "outputs": [
    {
     "name": "stdout",
     "output_type": "stream",
     "text": [
      "cli> storm [inet:fqdn=woot.com inet:fqdn=vertex.link inet:fqdn=google.com inet:ipv4=1.2.3.4 inet:ipv4=5.6.7.8]\n",
      "\n",
      "inet:fqdn=woot.com\n",
      "        .created = 2019/01/03 22:55:58.371\n",
      "        :domain = com\n",
      "        :host = woot\n",
      "        :issuffix = False\n",
      "        :iszone = True\n",
      "        :zone = woot.com\n",
      "inet:fqdn=vertex.link\n",
      "        .created = 2019/01/03 22:55:58.374\n",
      "        :domain = link\n",
      "        :host = vertex\n",
      "        :issuffix = False\n",
      "        :iszone = True\n",
      "        :zone = vertex.link\n",
      "inet:fqdn=google.com\n",
      "        .created = 2019/01/03 22:55:58.376\n",
      "        :domain = com\n",
      "        :host = google\n",
      "        :issuffix = False\n",
      "        :iszone = True\n",
      "        :zone = google.com\n",
      "inet:ipv4=1.2.3.4\n",
      "        .created = 2019/01/03 22:55:58.379\n",
      "        :asn = 0\n",
      "        :loc = ??\n",
      "        :type = unicast\n",
      "inet:ipv4=5.6.7.8\n",
      "        .created = 2019/01/03 22:55:58.381\n",
      "        :asn = 0\n",
      "        :loc = ??\n",
      "        :type = unicast\n",
      "complete. 5 nodes in 23 ms (217/sec).\n"
     ]
    }
   ],
   "source": [
    "# Get a temp cortex and preload some data into it.\n",
    "core = await getTempCoreCmdr()\n",
    "q = '[inet:fqdn=woot.com inet:fqdn=vertex.link inet:fqdn=google.com inet:ipv4=1.2.3.4 inet:ipv4=5.6.7.8]'\n",
    "# This runs the query via the CLI, rips out the nodes, makes sure we got 3 nodes on the output :)\n",
    "podes = await core.eval(q, num=5, cmdr=True)\n",
    "# print(f'I got {len(podes)} podes!')\n",
    "# This runs the query directly, no CLI output\n",
    "# newpodes = await core.eval(q, num=4, cmdr=False)\n",
    "# print(f'I got {len(newpodes)} podes the second time!!')\n",
    "# await core.fini()"
   ]
  },
  {
   "cell_type": "code",
   "execution_count": 19,
   "metadata": {
    "hideCode": true
   },
   "outputs": [
    {
     "name": "stdout",
     "output_type": "stream",
     "text": [
      "<query> +inet:fqdn != google.com\n"
     ]
    }
   ],
   "source": [
    "# Define and print test query\n",
    "q = '<query> '\n",
    "q1 = 'inet:fqdn '\n",
    "q2 = '+inet:fqdn != google.com'\n",
    "print(q + q2)\n",
    "# Execute the query to test it and get the packed nodes (podes).\n",
    "podes = await core.eval(q1 + q2, num=4, cmdr=False)"
   ]
  },
  {
   "cell_type": "raw",
   "metadata": {},
   "source": [
    "*Filer by Less Than:*\n",
    "\n",
    "- Downselect to include only WHOIS records collected prior to January 1, 2017: "
   ]
  },
  {
   "cell_type": "code",
   "execution_count": 20,
   "metadata": {
    "hideCode": true,
    "hideOutput": true
   },
   "outputs": [
    {
     "name": "stdout",
     "output_type": "stream",
     "text": [
      "cli> storm [inet:whois:rec=(woot.com,2015/09/30) :text=\"domain name: woot.com\"]\n",
      "\n",
      "inet:whois:rec=('woot.com', '2015/09/30 00:00:00.000')\n",
      "        .created = 2019/01/03 22:55:58.423\n",
      "        :asof = 2015/09/30 00:00:00.000\n",
      "        :fqdn = woot.com\n",
      "        :registrant = ??\n",
      "        :registrar = ??\n",
      "        :text = domain name: woot.com\n",
      "complete. 1 nodes in 11 ms (90/sec).\n",
      "cli> storm [inet:whois:rec=(woot.com,2016/12/31) :text=\"domain name: woot.com\"]\n",
      "\n",
      "inet:whois:rec=('woot.com', '2016/12/31 00:00:00.000')\n",
      "        .created = 2019/01/03 22:55:58.439\n",
      "        :asof = 2016/12/31 00:00:00.000\n",
      "        :fqdn = woot.com\n",
      "        :registrant = ??\n",
      "        :registrar = ??\n",
      "        :text = domain name: woot.com\n",
      "complete. 1 nodes in 10 ms (100/sec).\n",
      "cli> storm [inet:whois:rec=(woot.com,2017/01/01) :text=\"domain name: woot.com\"]\n",
      "\n",
      "inet:whois:rec=('woot.com', '2017/01/01 00:00:00.000')\n",
      "        .created = 2019/01/03 22:55:58.456\n",
      "        :asof = 2017/01/01 00:00:00.000\n",
      "        :fqdn = woot.com\n",
      "        :registrant = ??\n",
      "        :registrar = ??\n",
      "        :text = domain name: woot.com\n",
      "complete. 1 nodes in 22 ms (45/sec).\n",
      "cli> storm [inet:whois:rec=(woot.com,2017/10/30) :text=\"domain name: woot.com\"]\n",
      "\n",
      "inet:whois:rec=('woot.com', '2017/10/30 00:00:00.000')\n",
      "        .created = 2019/01/03 22:55:58.485\n",
      "        :asof = 2017/10/30 00:00:00.000\n",
      "        :fqdn = woot.com\n",
      "        :registrant = ??\n",
      "        :registrar = ??\n",
      "        :text = domain name: woot.com\n",
      "complete. 1 nodes in 12 ms (83/sec).\n"
     ]
    }
   ],
   "source": [
    "# Make some WHOIS records\n",
    "q = '[inet:whois:rec=(woot.com,2015/09/30) :text=\"domain name: woot.com\"]'\n",
    "q1 = '[inet:whois:rec=(woot.com,2016/12/31) :text=\"domain name: woot.com\"]'\n",
    "q2 = '[inet:whois:rec=(woot.com,2017/01/01) :text=\"domain name: woot.com\"]'\n",
    "q3 = '[inet:whois:rec=(woot.com,2017/10/30) :text=\"domain name: woot.com\"]'\n",
    "# Run the query and test\n",
    "podes = await core.eval(q, num=1, cmdr=True)\n",
    "podes = await core.eval(q1, num=1, cmdr=True)\n",
    "podes = await core.eval(q2, num=1, cmdr=True)\n",
    "podes = await core.eval(q3, num=1, cmdr=True)"
   ]
  },
  {
   "cell_type": "code",
   "execution_count": 21,
   "metadata": {
    "hideCode": true
   },
   "outputs": [
    {
     "name": "stdout",
     "output_type": "stream",
     "text": [
      "<query> +inet:whois:rec:asof < 2017/01/01\n"
     ]
    }
   ],
   "source": [
    "# Define and print test query\n",
    "q = '<query> '\n",
    "q1 = 'inet:whois:rec '\n",
    "q2 = '+inet:whois:rec:asof < 2017/01/01'\n",
    "print(q + q2)\n",
    "# Execute the query to test it and get the packed nodes (podes).\n",
    "podes = await core.eval(q1 + q2, num=2, cmdr=False)"
   ]
  },
  {
   "cell_type": "code",
   "execution_count": 22,
   "metadata": {
    "hideCode": true
   },
   "outputs": [
    {
     "name": "stdout",
     "output_type": "stream",
     "text": [
      "<query> +:asof < 2017/01/01\n"
     ]
    }
   ],
   "source": [
    "# Define and print test query\n",
    "q = '<query> '\n",
    "q1 = 'inet:whois:rec '\n",
    "q2 = '+:asof < 2017/01/01'\n",
    "print(q + q2)\n",
    "# Execute the query to test it and get the packed nodes (podes).\n",
    "podes = await core.eval(q1 + q2, num=2, cmdr=False)"
   ]
  },
  {
   "cell_type": "raw",
   "metadata": {},
   "source": [
    "*Filter by Greater Than:*\n",
    "\n",
    "- Downselect to exclude files larger than 4096 bytes:"
   ]
  },
  {
   "cell_type": "code",
   "execution_count": 23,
   "metadata": {
    "hideCode": true,
    "hideOutput": true
   },
   "outputs": [
    {
     "name": "stdout",
     "output_type": "stream",
     "text": [
      "cli> storm [file:bytes=sha256:68168583a7778d3c8512f8d6ae47a44618c58537dd5af8eff7da41da0c000c0c :size=4096]\n",
      "\n",
      "file:bytes=sha256:68168583a7778d3c8512f8d6ae47a44618c58537dd5af8eff7da41da0c000c0c\n",
      "        .created = 2019/01/03 22:55:58.567\n",
      "        :mime = ??\n",
      "        :sha256 = 68168583a7778d3c8512f8d6ae47a44618c58537dd5af8eff7da41da0c000c0c\n",
      "        :size = 4096\n",
      "complete. 1 nodes in 12 ms (83/sec).\n",
      "cli> storm [file:bytes=sha256:809fa843160f6d4d7fca42ec1edfc1dd5dc1eef79f85cacc93bf20a69187c51c :size=1024]\n",
      "\n",
      "file:bytes=sha256:809fa843160f6d4d7fca42ec1edfc1dd5dc1eef79f85cacc93bf20a69187c51c\n",
      "        .created = 2019/01/03 22:55:58.595\n",
      "        :mime = ??\n",
      "        :sha256 = 809fa843160f6d4d7fca42ec1edfc1dd5dc1eef79f85cacc93bf20a69187c51c\n",
      "        :size = 1024\n",
      "complete. 1 nodes in 15 ms (66/sec).\n",
      "cli> storm [file:bytes=sha256:0a040124ffeccf0031369c57ca7b1dd70f61c71d9b10710bdc6adb53d0eefd81 :size=16384]\n",
      "\n",
      "file:bytes=sha256:0a040124ffeccf0031369c57ca7b1dd70f61c71d9b10710bdc6adb53d0eefd81\n",
      "        .created = 2019/01/03 22:55:58.619\n",
      "        :mime = ??\n",
      "        :sha256 = 0a040124ffeccf0031369c57ca7b1dd70f61c71d9b10710bdc6adb53d0eefd81\n",
      "        :size = 16384\n",
      "complete. 1 nodes in 13 ms (76/sec).\n"
     ]
    }
   ],
   "source": [
    "# Make some files\n",
    "q = '[file:bytes=sha256:68168583a7778d3c8512f8d6ae47a44618c58537dd5af8eff7da41da0c000c0c :size=4096]'\n",
    "q1 = '[file:bytes=sha256:809fa843160f6d4d7fca42ec1edfc1dd5dc1eef79f85cacc93bf20a69187c51c :size=1024]'\n",
    "q2 = '[file:bytes=sha256:0a040124ffeccf0031369c57ca7b1dd70f61c71d9b10710bdc6adb53d0eefd81 :size=16384]'\n",
    "# Run the query and test\n",
    "podes = await core.eval(q, num=1, cmdr=True)\n",
    "podes = await core.eval(q1, num=1, cmdr=True)\n",
    "podes = await core.eval(q2, num=1, cmdr=True)"
   ]
  },
  {
   "cell_type": "code",
   "execution_count": 24,
   "metadata": {
    "hideCode": true
   },
   "outputs": [
    {
     "name": "stdout",
     "output_type": "stream",
     "text": [
      "<query> -file:bytes:size > 4096\n"
     ]
    }
   ],
   "source": [
    "# Define and print test query\n",
    "q = '<query> '\n",
    "q1 = 'file:bytes '\n",
    "q2 = '-file:bytes:size > 4096'\n",
    "print(q + q2)\n",
    "# Execute the query to test it and get the packed nodes (podes).\n",
    "podes = await core.eval(q1 + q2, num=2, cmdr=False)"
   ]
  },
  {
   "cell_type": "code",
   "execution_count": 25,
   "metadata": {
    "hideCode": true
   },
   "outputs": [
    {
     "name": "stdout",
     "output_type": "stream",
     "text": [
      "<query> -:size > 4096\n"
     ]
    }
   ],
   "source": [
    "# Define and print test query\n",
    "q = '<query> '\n",
    "q1 = 'file:bytes '\n",
    "q2 = '-:size > 4096'\n",
    "print(q + q2)\n",
    "# Execute the query to test it and get the packed nodes (podes).\n",
    "podes = await core.eval(q1 + q2, num=2, cmdr=False)"
   ]
  },
  {
   "cell_type": "raw",
   "metadata": {},
   "source": [
    "*Filter by Less Than or Equal To:*\n",
    "\n",
    "- Downlselect to include only WHOIS nodes for domains created on or before noon on January 1, 2018:"
   ]
  },
  {
   "cell_type": "code",
   "execution_count": 26,
   "metadata": {
    "hideCode": true,
    "hideOutput": true
   },
   "outputs": [
    {
     "name": "stdout",
     "output_type": "stream",
     "text": [
      "cli> storm [inet:whois:rec=(hurr.com,2018/12/30) :created=\"2018/01/01 12:00\"]\n",
      "\n",
      "inet:whois:rec=('hurr.com', '2018/12/30 00:00:00.000')\n",
      "        .created = 2019/01/03 22:55:58.692\n",
      "        :asof = 2018/12/30 00:00:00.000\n",
      "        :created = 2018/01/01 12:00:00.000\n",
      "        :fqdn = hurr.com\n",
      "        :registrant = ??\n",
      "        :registrar = ??\n",
      "complete. 1 nodes in 13 ms (76/sec).\n",
      "cli> storm [inet:whois:rec=(derp.com,2018/12/30) :created=\"2016/05/13 09:37\"]\n",
      "\n",
      "inet:whois:rec=('derp.com', '2018/12/30 00:00:00.000')\n",
      "        .created = 2019/01/03 22:55:58.711\n",
      "        :asof = 2018/12/30 00:00:00.000\n",
      "        :created = 2016/05/13 09:37:00.000\n",
      "        :fqdn = derp.com\n",
      "        :registrant = ??\n",
      "        :registrar = ??\n",
      "complete. 1 nodes in 11 ms (90/sec).\n",
      "cli> storm [inet:whois:rec=(umwut.com,2018/12/30) :created=\"2018/08/17 19:42\"]\n",
      "\n",
      "inet:whois:rec=('umwut.com', '2018/12/30 00:00:00.000')\n",
      "        .created = 2019/01/03 22:55:58.726\n",
      "        :asof = 2018/12/30 00:00:00.000\n",
      "        :created = 2018/08/17 19:42:00.000\n",
      "        :fqdn = umwut.com\n",
      "        :registrant = ??\n",
      "        :registrar = ??\n",
      "complete. 1 nodes in 11 ms (90/sec).\n"
     ]
    }
   ],
   "source": [
    "# Make some WHOIS records\n",
    "q = '[inet:whois:rec=(hurr.com,2018/12/30) :created=\"2018/01/01 12:00\"]'\n",
    "q1 = '[inet:whois:rec=(derp.com,2018/12/30) :created=\"2016/05/13 09:37\"]'\n",
    "q2 = '[inet:whois:rec=(umwut.com,2018/12/30) :created=\"2018/08/17 19:42\"]'\n",
    "# Run the query and test\n",
    "podes = await core.eval(q, num=1, cmdr=True)\n",
    "podes = await core.eval(q1, num=1, cmdr=True)\n",
    "podes = await core.eval(q2, num=1, cmdr=True)"
   ]
  },
  {
   "cell_type": "code",
   "execution_count": 27,
   "metadata": {
    "hideCode": true
   },
   "outputs": [
    {
     "name": "stdout",
     "output_type": "stream",
     "text": [
      "<query> +inet:whois:rec:created <= \"2018/01/01 12:00\"\n"
     ]
    }
   ],
   "source": [
    "# Define and print test query\n",
    "q = '<query> '\n",
    "q1 = 'inet:whois:rec '\n",
    "q2 = '+inet:whois:rec:created <= \"2018/01/01 12:00\"'\n",
    "print(q + q2)\n",
    "# Execute the query to test it and get the packed nodes (podes).\n",
    "podes = await core.eval(q1 + q2, num=2, cmdr=False)"
   ]
  },
  {
   "cell_type": "code",
   "execution_count": 28,
   "metadata": {
    "hideCode": true
   },
   "outputs": [
    {
     "name": "stdout",
     "output_type": "stream",
     "text": [
      "<query> +:created <= \"2018/01/01 12:00\"\n"
     ]
    }
   ],
   "source": [
    "# Define and print test query\n",
    "q = '<query> '\n",
    "q1 = 'inet:whois:rec '\n",
    "q2 = '+:created <= \"2018/01/01 12:00\"'\n",
    "print(q + q2)\n",
    "# Execute the query to test it and get the packed nodes (podes).\n",
    "podes = await core.eval(q1 + q2, num=2, cmdr=False)"
   ]
  },
  {
   "cell_type": "raw",
   "metadata": {},
   "source": [
    "*Filter by Greater Than or Equal To:*\n",
    "\n",
    "- Downlselect to include only people born on or after January 1, 1980:"
   ]
  },
  {
   "cell_type": "code",
   "execution_count": 29,
   "metadata": {
    "hideCode": true,
    "hideOutput": true
   },
   "outputs": [
    {
     "name": "stdout",
     "output_type": "stream",
     "text": [
      "cli> storm [ps:person=\"*\" :dob=1980/01/01]\n",
      "\n",
      "ps:person=00d7d2f4d3644d2a784659321d48b017\n",
      "        .created = 2019/01/03 22:55:58.788\n",
      "        :dob = 1980/01/01 00:00:00.000\n",
      "complete. 1 nodes in 9 ms (111/sec).\n",
      "cli> storm [ps:person=\"*\" :dob=1975/01/19]\n",
      "\n",
      "ps:person=03df2185c89221cf9c4c9d9e0c9f14b8\n",
      "        .created = 2019/01/03 22:55:58.803\n",
      "        :dob = 1975/01/19 00:00:00.000\n",
      "complete. 1 nodes in 7 ms (142/sec).\n",
      "cli> storm [ps:person=\"*\" :dob=1987/06/12]\n",
      "\n",
      "ps:person=ee3bd97c109834759c0e6c2e62b78407\n",
      "        .created = 2019/01/03 22:55:58.819\n",
      "        :dob = 1987/06/12 00:00:00.000\n",
      "complete. 1 nodes in 10 ms (100/sec).\n"
     ]
    }
   ],
   "source": [
    "# Make some person nodes\n",
    "q = '[ps:person=\"*\" :dob=1980/01/01]'\n",
    "q1 = '[ps:person=\"*\" :dob=1975/01/19]'\n",
    "q2 = '[ps:person=\"*\" :dob=1987/06/12]'\n",
    "# Run the query and test\n",
    "podes = await core.eval(q, num=1, cmdr=True)\n",
    "podes = await core.eval(q1, num=1, cmdr=True)\n",
    "podes = await core.eval(q2, num=1, cmdr=True)"
   ]
  },
  {
   "cell_type": "code",
   "execution_count": 30,
   "metadata": {
    "hideCode": true
   },
   "outputs": [
    {
     "name": "stdout",
     "output_type": "stream",
     "text": [
      "<query> +ps:person:dob >= 1980/01/01\n"
     ]
    }
   ],
   "source": [
    "# Define and print test query\n",
    "q = '<query> '\n",
    "q1 = 'ps:person '\n",
    "q2 = '+ps:person:dob >= 1980/01/01'\n",
    "print(q + q2)\n",
    "# Execute the query to test it and get the packed nodes (podes).\n",
    "podes = await core.eval(q1 + q2, num=2, cmdr=False)"
   ]
  },
  {
   "cell_type": "code",
   "execution_count": 31,
   "metadata": {
    "hideCode": true
   },
   "outputs": [
    {
     "name": "stdout",
     "output_type": "stream",
     "text": [
      "<query> +:dob >= 1980/01/01\n"
     ]
    }
   ],
   "source": [
    "# Define and print test query\n",
    "q = '<query> '\n",
    "q1 = 'ps:person '\n",
    "q2 = '+:dob >= 1980/01/01'\n",
    "print(q + q2)\n",
    "# Execute the query to test it and get the packed nodes (podes).\n",
    "podes = await core.eval(q1 + q2, num=2, cmdr=False)"
   ]
  },
  {
   "cell_type": "raw",
   "metadata": {},
   "source": [
    "**Usage Notes:**\n",
    "\n",
    "- Storm supports both equals ( ``=`` ) and not equals ( ``!=`` ) comparators for filtering, although use of not equals is not strictly necessary. Because filters are either inclusive ( ``+`` ) or exclusive ( ``-`` ), equivalent filter logic for “not equals” can be performed with “equals”. That is, “include domains not equal to google.com” (``+inet:fqdn != google.com``) is equivalent to “exclude the domain google.com” (``-inet:fqdn = google.com``)."
   ]
  },
  {
   "cell_type": "code",
   "execution_count": 32,
   "metadata": {
    "hideCode": true,
    "hideOutput": true
   },
   "outputs": [
    {
     "data": {
      "text/plain": [
       "0"
      ]
     },
     "execution_count": 32,
     "metadata": {},
     "output_type": "execute_result"
    }
   ],
   "source": [
    "# Close cortex because done\n",
    "await core.fini()"
   ]
  },
  {
   "cell_type": "code",
   "execution_count": 33,
   "metadata": {
    "hideCode": true
   },
   "outputs": [],
   "source": [
    "import os, sys\n",
    "try:\n",
    "    from synapse.lib.jupyter import *\n",
    "except ImportError as e:\n",
    "    # Insert the root path of the repository to sys.path.\n",
    "    # This assumes the notebook is located three directories away\n",
    "    # From the root synapse directory. It may need to be varied\n",
    "    synroot = os.path.abspath('../../../')\n",
    "    sys.path.insert(0, synroot)\n",
    "    from synapse.lib.jupyter import *"
   ]
  },
  {
   "cell_type": "raw",
   "metadata": {},
   "source": [
    "Filters Using Extended Comparison Operators\n",
    "-------------------------------------------\n",
    "\n",
    "Storm supports a set of extended comparison operators (comparators) for specialized filter operations. In most cases, the same extended comparators are available for both lifting and filtering:\n",
    "\n",
    "- `Filter by Regular Expression (~=)`_\n",
    "- `Filter by Prefix (^=)`_\n",
    "- `Filter by Time or Interval (@=)`_\n",
    "- `Filter by Range (*range=)`_\n",
    "- `Filter by Set Membership (*in=)`_\n",
    "- `Filter by Proximity (*near=)`_\n",
    "- `Filter by Tag (#)`_\n",
    "\n",
    "Filter by Regular Expression (~=)\n",
    "+++++++++++++++++++++++++++++++++\n",
    "\n",
    "The extended comparator ``~=`` is used to filter nodes based on standard regular expressions.\n",
    "\n",
    "**Syntax:**\n",
    "\n",
    "*<query>* **+** | **-** *<form>* | *<prop>* **~=** *<regex>*\n",
    "\n",
    "**Examples:**\n",
    "\n",
    "*Filter by Regular Expression:*\n",
    "\n",
    "- Downselect to include only mutexes that start with the string “Net”:"
   ]
  },
  {
   "cell_type": "code",
   "execution_count": 34,
   "metadata": {
    "hideCode": true,
    "hideOutput": true
   },
   "outputs": [
    {
     "name": "stdout",
     "output_type": "stream",
     "text": [
      "cli> storm [it:dev:mutex=\"NetBotServer Is Running!\" it:dev:mutex=\"Netbot2012 Is Running!\" it:dev:mutex=\"***MUTEX***\"]\n",
      "\n",
      "it:dev:mutex=NetBotServer Is Running!\n",
      "        .created = 2019/01/03 22:55:59.156\n",
      "it:dev:mutex=Netbot2012 Is Running!\n",
      "        .created = 2019/01/03 22:55:59.158\n",
      "it:dev:mutex=***MUTEX***\n",
      "        .created = 2019/01/03 22:55:59.159\n",
      "complete. 3 nodes in 15 ms (200/sec).\n"
     ]
    }
   ],
   "source": [
    "# Get a temp cortex and preload some data into it.\n",
    "core = await getTempCoreCmdr()\n",
    "q = '[it:dev:mutex=\"NetBotServer Is Running!\" it:dev:mutex=\"Netbot2012 Is Running!\" it:dev:mutex=\"***MUTEX***\"]'\n",
    "# This runs the query via the CLI, rips out the nodes, makes sure we got 3 nodes on the output :)\n",
    "podes = await core.eval(q, num=3, cmdr=True)\n",
    "# print(f'I got {len(podes)} podes!')\n",
    "# This runs the query directly, no CLI output\n",
    "# newpodes = await core.eval(q, num=4, cmdr=False)\n",
    "# print(f'I got {len(newpodes)} podes the second time!!')\n",
    "# await core.fini()"
   ]
  },
  {
   "cell_type": "code",
   "execution_count": 35,
   "metadata": {
    "hideCode": true
   },
   "outputs": [
    {
     "name": "stdout",
     "output_type": "stream",
     "text": [
      "<query> +it:dev:mutex ~= \"^Net\"\n"
     ]
    }
   ],
   "source": [
    "# Define and print test query\n",
    "q = '<query> '\n",
    "q1 = 'it:dev:mutex '\n",
    "q2 = '+it:dev:mutex ~= \"^Net\"'\n",
    "print(q + q2)\n",
    "# Execute the query to test it and get the packed nodes (podes).\n",
    "podes = await core.eval(q1 + q2, num=2, cmdr=False)"
   ]
  },
  {
   "cell_type": "raw",
   "metadata": {},
   "source": [
    "**Usage Notes:**\n",
    "\n",
    "- Filtering using regular expressions is performed by matching the regex against the relevant property of each node in the working set. Because filtering is performed on a subset of data from the Cortex (i.e., the working set) there should be no noticeable performance impact with a regex filter. However, **prefix filtering** (see below) is supported for string types and can be used as a more efficient alternative in some cases.\n",
    "\n",
    "Filter by Prefix (^=)\n",
    "+++++++++++++++++++++\n",
    "\n",
    "Synapse performs prefix indexing on string types, which optimizes filtering nodes whose *<valu>* or *<pval>* starts with a given prefix. The extended comparator ``^=`` is used to filter nodes by prefix.\n",
    "\n",
    "**Syntax:**\n",
    "\n",
    "*<query>* **+** | **-** *<form>* [  **:** *<prop>* ] **^=** *<prefix>*\n",
    "\n",
    "**Examples:**\n",
    "\n",
    "*Filter by primary property by prefix:*\n",
    "\n",
    "- Downselect to include only usernames that start with \"pinky\":"
   ]
  },
  {
   "cell_type": "code",
   "execution_count": 36,
   "metadata": {
    "hideCode": true,
    "hideOutput": true
   },
   "outputs": [
    {
     "name": "stdout",
     "output_type": "stream",
     "text": [
      "cli> storm [inet:user=pinky inet:user=pinkydinky inet:user=brain inet:user=inkypinky]\n",
      "\n",
      "inet:user=pinky\n",
      "        .created = 2019/01/03 22:55:59.207\n",
      "inet:user=pinkydinky\n",
      "        .created = 2019/01/03 22:55:59.207\n",
      "inet:user=brain\n",
      "        .created = 2019/01/03 22:55:59.208\n",
      "inet:user=inkypinky\n",
      "        .created = 2019/01/03 22:55:59.208\n",
      "complete. 4 nodes in 10 ms (400/sec).\n"
     ]
    }
   ],
   "source": [
    "# Make some user nodes\n",
    "q = '[inet:user=pinky inet:user=pinkydinky inet:user=brain inet:user=inkypinky]'\n",
    "# Run the query and test\n",
    "podes = await core.eval(q, num=4, cmdr=True)"
   ]
  },
  {
   "cell_type": "code",
   "execution_count": 37,
   "metadata": {
    "hideCode": true
   },
   "outputs": [
    {
     "name": "stdout",
     "output_type": "stream",
     "text": [
      "<query> +inet:user ^= pinky\n"
     ]
    }
   ],
   "source": [
    "# Define and print test query\n",
    "q = '<query> '\n",
    "q1 = 'inet:user '\n",
    "q2 = '+inet:user ^= pinky'\n",
    "print(q + q2)\n",
    "# Execute the query to test it and get the packed nodes (podes).\n",
    "podes = await core.eval(q1 + q2, num=2, cmdr=False)"
   ]
  },
  {
   "cell_type": "raw",
   "metadata": {},
   "source": [
    "*Filter by secondary property by prefix:*\n",
    "\n",
    "- Downselect to include only organizations whose name starts with \"International\":"
   ]
  },
  {
   "cell_type": "code",
   "execution_count": 38,
   "metadata": {
    "hideCode": true,
    "hideOutput": true,
    "scrolled": true
   },
   "outputs": [
    {
     "name": "stdout",
     "output_type": "stream",
     "text": [
      "cli> storm [ou:org=\"*\" :name=\"International House of Pancakes\"]\n",
      "\n",
      "ou:org=560baaa9f9a88758c71c0dbaf3274918\n",
      "        .created = 2019/01/03 22:55:59.258\n",
      "        :name = international house of pancakes\n",
      "complete. 1 nodes in 10 ms (100/sec).\n",
      "cli> storm [ou:org=\"*\" :name=\"International Society of Funny Walks\"]\n",
      "\n",
      "ou:org=b0496c25b65b5a40efae81efd7b70fde\n",
      "        .created = 2019/01/03 22:55:59.272\n",
      "        :name = international society of funny walks\n",
      "complete. 1 nodes in 7 ms (142/sec).\n",
      "cli> storm [ou:org=\"*\" :name=\"Interrogators Anonymous\"]\n",
      "\n",
      "ou:org=9dfde1146bc746a765525e925c217cc2\n",
      "        .created = 2019/01/03 22:55:59.283\n",
      "        :name = interrogators anonymous\n",
      "complete. 1 nodes in 9 ms (111/sec).\n"
     ]
    }
   ],
   "source": [
    "# Make some orgs:\n",
    "q = '[ou:org=\"*\" :name=\"International House of Pancakes\"]'\n",
    "q1 = '[ou:org=\"*\" :name=\"International Society of Funny Walks\"]'\n",
    "q2 = '[ou:org=\"*\" :name=\"Interrogators Anonymous\"]'\n",
    "# Execute query and test\n",
    "podes = await core.eval(q, num=1, cmdr=True)\n",
    "podes = await core.eval(q1, num=1, cmdr=True)\n",
    "podes = await core.eval(q2, num=1, cmdr=True)"
   ]
  },
  {
   "cell_type": "code",
   "execution_count": 39,
   "metadata": {
    "hideCode": true
   },
   "outputs": [
    {
     "name": "stdout",
     "output_type": "stream",
     "text": [
      "<query> +ou:org:name ^= international\n"
     ]
    }
   ],
   "source": [
    "# Define and print test query\n",
    "q = '<query> '\n",
    "q1 = 'ou:org '\n",
    "q2 = '+ou:org:name ^= international'\n",
    "print(q + q2)\n",
    "# Execute the query to test it and get the packed nodes (podes).\n",
    "podes = await core.eval(q1 + q2, num=2, cmdr=False)"
   ]
  },
  {
   "cell_type": "code",
   "execution_count": 40,
   "metadata": {
    "hideCode": true
   },
   "outputs": [
    {
     "name": "stdout",
     "output_type": "stream",
     "text": [
      "<query> +:name ^= international\n"
     ]
    }
   ],
   "source": [
    "# Define and print test query\n",
    "q = '<query> '\n",
    "q1 = 'ou:org '\n",
    "q2 = '+:name ^= international'\n",
    "print(q + q2)\n",
    "# Execute the query to test it and get the packed nodes (podes).\n",
    "podes = await core.eval(q1 + q2, num=2, cmdr=False)"
   ]
  },
  {
   "cell_type": "raw",
   "metadata": {},
   "source": [
    "**Usage Notes:**\n",
    "\n",
    "- Extended string types that support dotted notation (such as the ``loc`` or ``syn:tag`` types) have custom behaviors with respect to lifting and filtering by prefix. See the respective sections in :ref:`storm-ref-type-specific` for additional details.\n",
    "\n",
    "Filter by Time or Interval (@=)\n",
    "+++++++++++++++++++++++++++++++\n",
    "\n",
    "The time extended comparator (``@=``) supports filtering nodes based on comparisons among various combinations of timestamps and date/time ranges (intervals).\n",
    "\n",
    "See :ref:`storm-ref-type-specific` for additional detail on the use of ``time`` and ``ival`` data types.\n",
    "\n",
    "**Syntax:**\n",
    "\n",
    "*<query>* **+** | **-** *<prop>* **@=(** *<ival_min>* **,** *<ival_max>* **)**\n",
    "\n",
    "*<query>* **+** | **-** *<prop>* **@=** *<time>*\n",
    "\n",
    "**Examples:**\n",
    "\n",
    "*Filter by comparing an interval to an interval:*\n",
    "\n",
    "- Downselect to include only those DNS A records whose ``.seen`` values fall between July 1, 2018 and August 1, 2018:\n"
   ]
  },
  {
   "cell_type": "code",
   "execution_count": 41,
   "metadata": {
    "hideCode": true,
    "hideOutput": true,
    "scrolled": true
   },
   "outputs": [
    {
     "name": "stdout",
     "output_type": "stream",
     "text": [
      "cli> storm [inet:dns:a=(woot.com,1.2.3.4) .seen=(2018/06/12,2018/07/02)]\n",
      "\n",
      "inet:dns:a=('woot.com', '1.2.3.4')\n",
      "        .created = 2019/01/03 22:55:59.339\n",
      "        .seen = ('2018/06/12 00:00:00.000', '2018/07/02 00:00:00.000')\n",
      "        :fqdn = woot.com\n",
      "        :ipv4 = 1.2.3.4\n",
      "complete. 1 nodes in 12 ms (83/sec).\n",
      "cli> storm [inet:dns:a=(woot.com,5.6.7.8) .seen=(2018/10/01,2018/11/13)]\n",
      "\n",
      "inet:dns:a=('woot.com', '5.6.7.8')\n",
      "        .created = 2019/01/03 22:55:59.356\n",
      "        .seen = ('2018/10/01 00:00:00.000', '2018/11/13 00:00:00.000')\n",
      "        :fqdn = woot.com\n",
      "        :ipv4 = 5.6.7.8\n",
      "complete. 1 nodes in 11 ms (90/sec).\n",
      "cli> storm [inet:dns:a=(woot.com,8.8.8.8) .seen=(2018/07/24,2018/07/25)]\n",
      "\n",
      "inet:dns:a=('woot.com', '8.8.8.8')\n",
      "        .created = 2019/01/03 22:55:59.371\n",
      "        .seen = ('2018/07/24 00:00:00.000', '2018/07/25 00:00:00.000')\n",
      "        :fqdn = woot.com\n",
      "        :ipv4 = 8.8.8.8\n",
      "complete. 1 nodes in 10 ms (100/sec).\n",
      "cli> storm [inet:dns:a=(woot.com,12.34.56.78) .seen=(2018/08/01,2018/08/15)]\n",
      "\n",
      "inet:dns:a=('woot.com', '12.34.56.78')\n",
      "        .created = 2019/01/03 22:55:59.391\n",
      "        .seen = ('2018/08/01 00:00:00.000', '2018/08/15 00:00:00.000')\n",
      "        :fqdn = woot.com\n",
      "        :ipv4 = 12.34.56.78\n",
      "complete. 1 nodes in 14 ms (71/sec).\n"
     ]
    }
   ],
   "source": [
    "# Make some DNS A records:\n",
    "q = '[inet:dns:a=(woot.com,1.2.3.4) .seen=(2018/06/12,2018/07/02)]'\n",
    "q1 = '[inet:dns:a=(woot.com,5.6.7.8) .seen=(2018/10/01,2018/11/13)]'\n",
    "q2 = '[inet:dns:a=(woot.com,8.8.8.8) .seen=(2018/07/24,2018/07/25)]'\n",
    "q3 = '[inet:dns:a=(woot.com,12.34.56.78) .seen=(2018/08/01,2018/08/15)]'\n",
    "# Execute query and test\n",
    "podes = await core.eval(q, num=1, cmdr=True)\n",
    "podes = await core.eval(q1, num=1, cmdr=True)\n",
    "podes = await core.eval(q2, num=1, cmdr=True)\n",
    "podes = await core.eval(q3, num=1, cmdr=True)"
   ]
  },
  {
   "cell_type": "code",
   "execution_count": 42,
   "metadata": {
    "hideCode": true
   },
   "outputs": [
    {
     "name": "stdout",
     "output_type": "stream",
     "text": [
      "<query> +inet:dns:a.seen@=(2018/07/01, 2018/08/01)\n"
     ]
    }
   ],
   "source": [
    "# Define and print test query\n",
    "q = '<query> '\n",
    "q1 = 'inet:dns:a:fqdn=woot.com '\n",
    "q2 = '+inet:dns:a.seen@=(2018/07/01, 2018/08/01)'\n",
    "print(q + q2)\n",
    "# Execute the query to test it and get the packed nodes (podes).\n",
    "podes = await core.eval(q1 + q2, num=2, cmdr=False)"
   ]
  },
  {
   "cell_type": "code",
   "execution_count": 43,
   "metadata": {
    "hideCode": true
   },
   "outputs": [
    {
     "name": "stdout",
     "output_type": "stream",
     "text": [
      "<query> +.seen@=(2018/07/01, 2018/08/01)\n"
     ]
    }
   ],
   "source": [
    "# Define and print test query\n",
    "q = '<query> '\n",
    "q1 = 'inet:dns:a:fqdn=woot.com '\n",
    "q2 = '+.seen@=(2018/07/01, 2018/08/01)'\n",
    "print(q + q2)\n",
    "# Execute the query to test it and get the packed nodes (podes).\n",
    "podes = await core.eval(q1 + q2, num=2, cmdr=False)"
   ]
  },
  {
   "cell_type": "raw",
   "metadata": {},
   "source": [
    "- Downselect to include only those nodes (e.g., IP addresses) that were associated with Tor between June 1, 2016 and September 30, 2016 (note the interval here applies to the **tag** representing Tor):"
   ]
  },
  {
   "cell_type": "code",
   "execution_count": 44,
   "metadata": {
    "hideCode": true,
    "hideOutput": true
   },
   "outputs": [
    {
     "name": "stdout",
     "output_type": "stream",
     "text": [
      "cli> storm [inet:ipv4=54.38.219.150 +#cno.infra.anon.tor=(2016/05/24,2016/07/01)]\n",
      "\n",
      "inet:ipv4=54.38.219.150\n",
      "        .created = 2019/01/03 22:55:59.472\n",
      "        :asn = 0\n",
      "        :loc = ??\n",
      "        :type = unicast\n",
      "        #cno.infra.anon.tor = (2016/05/24 00:00:00.000, 2016/07/01 00:00:00.000)\n",
      "complete. 1 nodes in 13 ms (76/sec).\n",
      "cli> storm [inet:ipv4=151.242.192.84 +#cno.infra.anon.tor=(2016/08/26,2016/09/23)]\n",
      "\n",
      "inet:ipv4=151.242.192.84\n",
      "        .created = 2019/01/03 22:55:59.497\n",
      "        :asn = 0\n",
      "        :loc = ??\n",
      "        :type = unicast\n",
      "        #cno.infra.anon.tor = (2016/08/26 00:00:00.000, 2016/09/23 00:00:00.000)\n",
      "complete. 1 nodes in 11 ms (90/sec).\n",
      "cli> storm [inet:ipv4=217.83.101.150 +#cno.infra.anon.tor=(2016/12/15,2017/01/06)]\n",
      "\n",
      "inet:ipv4=217.83.101.150\n",
      "        .created = 2019/01/03 22:55:59.512\n",
      "        :asn = 0\n",
      "        :loc = ??\n",
      "        :type = unicast\n",
      "        #cno.infra.anon.tor = (2016/12/15 00:00:00.000, 2017/01/06 00:00:00.000)\n",
      "complete. 1 nodes in 13 ms (76/sec).\n",
      "cli> storm [inet:ipv4=186.94.132.148 +#cno.infra.anon.tor=(2016/08/02,2016/08/10)]\n",
      "\n",
      "inet:ipv4=186.94.132.148\n",
      "        .created = 2019/01/03 22:55:59.534\n",
      "        :asn = 0\n",
      "        :loc = ??\n",
      "        :type = unicast\n",
      "        #cno.infra.anon.tor = (2016/08/02 00:00:00.000, 2016/08/10 00:00:00.000)\n",
      "complete. 1 nodes in 12 ms (83/sec).\n"
     ]
    }
   ],
   "source": [
    "# Make some tagged Tor nodes:\n",
    "q = '[inet:ipv4=54.38.219.150 +#cno.infra.anon.tor=(2016/05/24,2016/07/01)]'\n",
    "q1 = '[inet:ipv4=151.242.192.84 +#cno.infra.anon.tor=(2016/08/26,2016/09/23)]'\n",
    "q2 = '[inet:ipv4=217.83.101.150 +#cno.infra.anon.tor=(2016/12/15,2017/01/06)]'\n",
    "q3 = '[inet:ipv4=186.94.132.148 +#cno.infra.anon.tor=(2016/08/02,2016/08/10)]'\n",
    "# Execute query and test\n",
    "podes = await core.eval(q, num=1, cmdr=True)\n",
    "podes = await core.eval(q1, num=1, cmdr=True)\n",
    "podes = await core.eval(q2, num=1, cmdr=True)\n",
    "podes = await core.eval(q3, num=1, cmdr=True)"
   ]
  },
  {
   "cell_type": "code",
   "execution_count": 45,
   "metadata": {
    "hideCode": true
   },
   "outputs": [
    {
     "name": "stdout",
     "output_type": "stream",
     "text": [
      "<query> +#cno.infra.anon.tor@=(2016/06/01, 2016/09/30)\n"
     ]
    }
   ],
   "source": [
    "# Define and print test query\n",
    "q = '<query> '\n",
    "q1 = 'inet:ipv4 '\n",
    "q2 = '+#cno.infra.anon.tor@=(2016/06/01, 2016/09/30)'\n",
    "print(q + q2)\n",
    "# Execute the query to test it and get the packed nodes (podes).\n",
    "podes = await core.eval(q1 + q2, num=3, cmdr=False)"
   ]
  },
  {
   "cell_type": "raw",
   "metadata": {},
   "source": [
    "*Filter by comparing a timestamp to an interval:*\n",
    "\n",
    "- Downselect to include only those DNS request nodes whose requests occurred between 2:00 PM November 12, 2017 and 9:30 AM November 14, 2017:"
   ]
  },
  {
   "cell_type": "code",
   "execution_count": 46,
   "metadata": {
    "hideCode": true,
    "hideOutput": true
   },
   "outputs": [
    {
     "name": "stdout",
     "output_type": "stream",
     "text": [
      "cli> storm [inet:dns:request=\"*\" :query=(tcp://8.8.8.8,woot.com,1) :time=\"2017/11/12 11:23\"]\n",
      "\n",
      "inet:dns:request=a18c8ab6cd5d7445c34eaad451dae964\n",
      "        .created = 2019/01/03 22:55:59.589\n",
      "        :query = ('tcp://8.8.8.8', 'woot.com', '1')\n",
      "        :query:name = woot.com\n",
      "        :query:name:fqdn = woot.com\n",
      "        :query:type = 1\n",
      "        :time = 2017/11/12 11:23:00.000\n",
      "complete. 1 nodes in 13 ms (76/sec).\n",
      "cli> storm [inet:dns:request=\"*\" :query=(tcp://8.8.8.8,woot.com,1) :time=\"2017/11/12 14:00\"]\n",
      "\n",
      "inet:dns:request=be15d64d157304a2e4842d35db84d0c6\n",
      "        .created = 2019/01/03 22:55:59.608\n",
      "        :query = ('tcp://8.8.8.8', 'woot.com', '1')\n",
      "        :query:name = woot.com\n",
      "        :query:name:fqdn = woot.com\n",
      "        :query:type = 1\n",
      "        :time = 2017/11/12 14:00:00.000\n",
      "complete. 1 nodes in 9 ms (111/sec).\n",
      "cli> storm [inet:dns:request=\"*\" :query=(tcp://8.8.8.8,woot.com,1) :time=\"2017/11/14 09:30\"]\n",
      "\n",
      "inet:dns:request=cc5260637b9fb6f2e62d4b6793388991\n",
      "        .created = 2019/01/03 22:55:59.624\n",
      "        :query = ('tcp://8.8.8.8', 'woot.com', '1')\n",
      "        :query:name = woot.com\n",
      "        :query:name:fqdn = woot.com\n",
      "        :query:type = 1\n",
      "        :time = 2017/11/14 09:30:00.000\n",
      "complete. 1 nodes in 8 ms (125/sec).\n",
      "cli> storm [inet:dns:request=\"*\" :query=(tcp://8.8.8.8,woot.com,1) :time=\"2017/11/15 23:38\"]\n",
      "\n",
      "inet:dns:request=565afd061cc95446c63117ce892c7b7e\n",
      "        .created = 2019/01/03 22:55:59.636\n",
      "        :query = ('tcp://8.8.8.8', 'woot.com', '1')\n",
      "        :query:name = woot.com\n",
      "        :query:name:fqdn = woot.com\n",
      "        :query:type = 1\n",
      "        :time = 2017/11/15 23:38:00.000\n",
      "complete. 1 nodes in 7 ms (142/sec).\n",
      "cli> storm [inet:dns:request=\"*\" :query=(tcp://8.8.8.8,woot.com,1) :time=\"2017/11/13 08:15\"]\n",
      "\n",
      "inet:dns:request=86c7fafa1c844f9fa7786c7698206268\n",
      "        .created = 2019/01/03 22:55:59.649\n",
      "        :query = ('tcp://8.8.8.8', 'woot.com', '1')\n",
      "        :query:name = woot.com\n",
      "        :query:name:fqdn = woot.com\n",
      "        :query:type = 1\n",
      "        :time = 2017/11/13 08:15:00.000\n",
      "complete. 1 nodes in 10 ms (100/sec).\n"
     ]
    }
   ],
   "source": [
    "# Make some DNS request nodes:\n",
    "q = '[inet:dns:request=\"*\" :query=(tcp://8.8.8.8,woot.com,1) :time=\"2017/11/12 11:23\"]'\n",
    "q1 = '[inet:dns:request=\"*\" :query=(tcp://8.8.8.8,woot.com,1) :time=\"2017/11/12 14:00\"]'\n",
    "q2 = '[inet:dns:request=\"*\" :query=(tcp://8.8.8.8,woot.com,1) :time=\"2017/11/14 09:30\"]'\n",
    "q3 = '[inet:dns:request=\"*\" :query=(tcp://8.8.8.8,woot.com,1) :time=\"2017/11/15 23:38\"]'\n",
    "q4 = '[inet:dns:request=\"*\" :query=(tcp://8.8.8.8,woot.com,1) :time=\"2017/11/13 08:15\"]'\n",
    "# Execute query and test\n",
    "podes = await core.eval(q, num=1, cmdr=True)\n",
    "podes = await core.eval(q1, num=1, cmdr=True)\n",
    "podes = await core.eval(q2, num=1, cmdr=True)\n",
    "podes = await core.eval(q3, num=1, cmdr=True)\n",
    "podes = await core.eval(q4, num=1, cmdr=True)"
   ]
  },
  {
   "cell_type": "code",
   "execution_count": 47,
   "metadata": {
    "hideCode": true
   },
   "outputs": [
    {
     "name": "stdout",
     "output_type": "stream",
     "text": [
      "<query> +inet:dns:request:time@=(\"2017/11/12 14:00:00\", \"2017/11/14 09:30:00\")\n"
     ]
    }
   ],
   "source": [
    "# Define and print test query\n",
    "q = '<query> '\n",
    "q1 = 'inet:dns:request '\n",
    "q2 = '+inet:dns:request:time@=(\"2017/11/12 14:00:00\", \"2017/11/14 09:30:00\")'\n",
    "print(q + q2)\n",
    "# Execute the query to test it and get the packed nodes (podes).\n",
    "podes = await core.eval(q1 + q2, num=2, cmdr=False)"
   ]
  },
  {
   "cell_type": "code",
   "execution_count": 48,
   "metadata": {
    "hideCode": true
   },
   "outputs": [
    {
     "name": "stdout",
     "output_type": "stream",
     "text": [
      "<query> +:time@=(\"2017/11/12 14:00:00\", \"2017/11/14 09:30:00\")\n"
     ]
    }
   ],
   "source": [
    "# Define and print test query\n",
    "q = '<query> '\n",
    "q1 = 'inet:dns:request '\n",
    "q2 = '+:time@=(\"2017/11/12 14:00:00\", \"2017/11/14 09:30:00\")'\n",
    "print(q + q2)\n",
    "# Execute the query to test it and get the packed nodes (podes).\n",
    "podes = await core.eval(q1 + q2, num=2, cmdr=False)"
   ]
  },
  {
   "cell_type": "raw",
   "metadata": {},
   "source": [
    "*Filter by comparing an interval to a timestamp:*\n",
    "\n",
    "- Downselect to include only those DNS A records whose resolution time windows include the date December 1, 2017:"
   ]
  },
  {
   "cell_type": "code",
   "execution_count": 49,
   "metadata": {
    "hideCode": true,
    "hideOutput": true
   },
   "outputs": [
    {
     "name": "stdout",
     "output_type": "stream",
     "text": [
      "cli> storm [inet:dns:a=(woot.com,4.3.2.1) .seen=(2017/08/19,2017/12/06)]\n",
      "\n",
      "inet:dns:a=('woot.com', '4.3.2.1')\n",
      "        .created = 2019/01/03 22:55:59.702\n",
      "        .seen = ('2017/08/19 00:00:00.000', '2017/12/06 00:00:00.000')\n",
      "        :fqdn = woot.com\n",
      "        :ipv4 = 4.3.2.1\n",
      "complete. 1 nodes in 10 ms (100/sec).\n",
      "cli> storm [inet:dns:a=(woot.com,8.7.6.5) .seen=(\"2017/12/01 00:00:00\", \"2017/12/01 23:59:59\")]\n",
      "\n",
      "inet:dns:a=('woot.com', '8.7.6.5')\n",
      "        .created = 2019/01/03 22:55:59.717\n",
      "        .seen = ('2017/12/01 00:00:00.000', '2017/12/01 23:59:59.000')\n",
      "        :fqdn = woot.com\n",
      "        :ipv4 = 8.7.6.5\n",
      "complete. 1 nodes in 10 ms (100/sec).\n",
      "cli> storm [inet:dns:a=(woot.com,78.56.34.12) .seen=(2017/12/02,2018/08/15)]\n",
      "\n",
      "inet:dns:a=('woot.com', '78.56.34.12')\n",
      "        .created = 2019/01/03 22:55:59.736\n",
      "        .seen = ('2017/12/02 00:00:00.000', '2018/08/15 00:00:00.000')\n",
      "        :fqdn = woot.com\n",
      "        :ipv4 = 78.56.34.12\n",
      "complete. 1 nodes in 13 ms (76/sec).\n"
     ]
    }
   ],
   "source": [
    "# Make some moar DNS A records:\n",
    "q = '[inet:dns:a=(woot.com,4.3.2.1) .seen=(2017/08/19,2017/12/06)]'\n",
    "q1 = '[inet:dns:a=(woot.com,8.7.6.5) .seen=(\"2017/12/01 00:00:00\", \"2017/12/01 23:59:59\")]'\n",
    "q2 = '[inet:dns:a=(woot.com,78.56.34.12) .seen=(2017/12/02,2018/08/15)]'\n",
    "# Execute query and test\n",
    "podes = await core.eval(q, num=1, cmdr=True)\n",
    "podes = await core.eval(q1, num=1, cmdr=True)\n",
    "podes = await core.eval(q2, num=1, cmdr=True)"
   ]
  },
  {
   "cell_type": "code",
   "execution_count": 50,
   "metadata": {
    "hideCode": true
   },
   "outputs": [
    {
     "name": "stdout",
     "output_type": "stream",
     "text": [
      "<query> +inet:dns:a.seen@=2017/12/01\n"
     ]
    }
   ],
   "source": [
    "# Define and print test query\n",
    "q = '<query> '\n",
    "q1 = 'inet:dns:a '\n",
    "q2 = '+inet:dns:a.seen@=2017/12/01'\n",
    "print(q + q2)\n",
    "# Execute the query to test it and get the packed nodes (podes).\n",
    "podes = await core.eval(q1 + q2, num=2, cmdr=False)"
   ]
  },
  {
   "cell_type": "code",
   "execution_count": 51,
   "metadata": {
    "hideCode": true
   },
   "outputs": [
    {
     "name": "stdout",
     "output_type": "stream",
     "text": [
      "<query> +.seen@=2017/12/01\n"
     ]
    }
   ],
   "source": [
    "# Define and print test query\n",
    "q = '<query> '\n",
    "q1 = 'inet:dns:a '\n",
    "q2 = '+.seen@=2017/12/01'\n",
    "print(q + q2)\n",
    "# Execute the query to test it and get the packed nodes (podes).\n",
    "podes = await core.eval(q1 + q2, num=2, cmdr=False)"
   ]
  },
  {
   "cell_type": "raw",
   "metadata": {},
   "source": [
    "*Filter by comparing a timestamp to a timestamp:*\n",
    "\n",
    "- Downselect to include only those WHOIS records whose domain was registered (created) on March 19, 1986 at 5:00 AM:"
   ]
  },
  {
   "cell_type": "code",
   "execution_count": 52,
   "metadata": {
    "hideCode": true,
    "hideOutput": true
   },
   "outputs": [
    {
     "name": "stdout",
     "output_type": "stream",
     "text": [
      "cli> storm [inet:whois:rec=(ibm.com,2018/03/09) :created=\"1986/03/19 05:00:00\"]\n",
      "\n",
      "inet:whois:rec=('ibm.com', '2018/03/09 00:00:00.000')\n",
      "        .created = 2019/01/03 22:55:59.801\n",
      "        :asof = 2018/03/09 00:00:00.000\n",
      "        :created = 1986/03/19 05:00:00.000\n",
      "        :fqdn = ibm.com\n",
      "        :registrant = ??\n",
      "        :registrar = ??\n",
      "complete. 1 nodes in 12 ms (83/sec).\n",
      "cli> storm [inet:whois:rec=(vertex.link,2014/08/16) :created=\"2014/08/15 23:07:48\"]\n",
      "\n",
      "inet:whois:rec=('vertex.link', '2014/08/16 00:00:00.000')\n",
      "        .created = 2019/01/03 22:55:59.824\n",
      "        :asof = 2014/08/16 00:00:00.000\n",
      "        :created = 2014/08/15 23:07:48.000\n",
      "        :fqdn = vertex.link\n",
      "        :registrant = ??\n",
      "        :registrar = ??\n",
      "complete. 1 nodes in 16 ms (62/sec).\n",
      "cli> storm [inet:whois:rec=(google.com,2017/11/08) :created=\"1997/09/15 00:00:00\"]\n",
      "\n",
      "inet:whois:rec=('google.com', '2017/11/08 00:00:00.000')\n",
      "        .created = 2019/01/03 22:55:59.841\n",
      "        :asof = 2017/11/08 00:00:00.000\n",
      "        :created = 1997/09/15 00:00:00.000\n",
      "        :fqdn = google.com\n",
      "        :registrant = ??\n",
      "        :registrar = ??\n",
      "complete. 1 nodes in 10 ms (100/sec).\n"
     ]
    }
   ],
   "source": [
    "# Make some WHOIS records:\n",
    "q = '[inet:whois:rec=(ibm.com,2018/03/09) :created=\"1986/03/19 05:00:00\"]'\n",
    "q1 = '[inet:whois:rec=(vertex.link,2014/08/16) :created=\"2014/08/15 23:07:48\"]'\n",
    "q2 = '[inet:whois:rec=(google.com,2017/11/08) :created=\"1997/09/15 00:00:00\"]'\n",
    "# Execute query and test\n",
    "podes = await core.eval(q, num=1, cmdr=True)\n",
    "podes = await core.eval(q1, num=1, cmdr=True)\n",
    "podes = await core.eval(q2, num=1, cmdr=True)"
   ]
  },
  {
   "cell_type": "code",
   "execution_count": 53,
   "metadata": {
    "hideCode": true
   },
   "outputs": [
    {
     "name": "stdout",
     "output_type": "stream",
     "text": [
      "<query> +inet:whois:rec:created@=\"1986/03/19 05:00:00\"\n"
     ]
    }
   ],
   "source": [
    "# Define and print test query\n",
    "q = '<query> '\n",
    "q1 = 'inet:whois:rec '\n",
    "q2 = '+inet:whois:rec:created@=\"1986/03/19 05:00:00\"'\n",
    "print(q + q2)\n",
    "# Execute the query to test it and get the packed nodes (podes).\n",
    "podes = await core.eval(q1 + q2, num=1, cmdr=False)"
   ]
  },
  {
   "cell_type": "code",
   "execution_count": 54,
   "metadata": {
    "hideCode": true
   },
   "outputs": [
    {
     "name": "stdout",
     "output_type": "stream",
     "text": [
      "<query> +:created@=\"1986/03/19 05:00:00\"\n"
     ]
    }
   ],
   "source": [
    "# Define and print test query\n",
    "q = '<query> '\n",
    "q1 = 'inet:whois:rec '\n",
    "q2 = '+:created@=\"1986/03/19 05:00:00\"'\n",
    "print(q + q2)\n",
    "# Execute the query to test it and get the packed nodes (podes).\n",
    "podes = await core.eval(q1 + q2, num=1, cmdr=False)"
   ]
  },
  {
   "cell_type": "raw",
   "metadata": {},
   "source": [
    "*Filter using  an interval with relative times:*\n",
    "\n",
    "- Downselect to include only those ``inet:whois:email`` nodes that were observed between January 1, 2018 and the present:"
   ]
  },
  {
   "cell_type": "code",
   "execution_count": 55,
   "metadata": {
    "hideCode": true,
    "hideOutput": true,
    "scrolled": true
   },
   "outputs": [
    {
     "name": "stdout",
     "output_type": "stream",
     "text": [
      "cli> storm [inet:whois:email=(vertex.link,me@vertex.link) .seen=(2014/08/16,2016/08/15)]\n",
      "\n",
      "inet:whois:email=('vertex.link', 'me@vertex.link')\n",
      "        .created = 2019/01/03 22:55:59.919\n",
      "        .seen = ('2014/08/16 00:00:00.000', '2016/08/15 00:00:00.000')\n",
      "        :email = me@vertex.link\n",
      "        :fqdn = vertex.link\n",
      "complete. 1 nodes in 15 ms (66/sec).\n",
      "cli> storm [inet:whois:email=(syncdomain.info,domains@virustracker.info) .seen=(2013/10/20,2016/10/19)]\n",
      "\n",
      "inet:whois:email=('syncdomain.info', 'domains@virustracker.info')\n",
      "        .created = 2019/01/03 22:55:59.938\n",
      "        .seen = ('2013/10/20 00:00:00.000', '2016/10/19 00:00:00.000')\n",
      "        :email = domains@virustracker.info\n",
      "        :fqdn = syncdomain.info\n",
      "complete. 1 nodes in 14 ms (71/sec).\n",
      "cli> storm [inet:whois:email=(natoint.com,domains@hugedomains.com) .seen=(2018/11/28,2018/11/29)]\n",
      "\n",
      "inet:whois:email=('natoint.com', 'domains@hugedomains.com')\n",
      "        .created = 2019/01/03 22:55:59.967\n",
      "        .seen = ('2018/11/28 00:00:00.000', '2018/11/29 00:00:00.000')\n",
      "        :email = domains@hugedomains.com\n",
      "        :fqdn = natoint.com\n",
      "complete. 1 nodes in 13 ms (76/sec).\n",
      "cli> storm [inet:whois:email=(gunsmonitor.com,khanevadehirani.ir@gmail.com) .seen=(2017/05/16,2018/02/01)]\n",
      "\n",
      "inet:whois:email=('gunsmonitor.com', 'khanevadehirani.ir@gmail.com')\n",
      "        .created = 2019/01/03 22:55:59.993\n",
      "        .seen = ('2017/05/16 00:00:00.000', '2018/02/01 00:00:00.000')\n",
      "        :email = khanevadehirani.ir@gmail.com\n",
      "        :fqdn = gunsmonitor.com\n",
      "complete. 1 nodes in 20 ms (50/sec).\n"
     ]
    }
   ],
   "source": [
    "# Make some nodes:\n",
    "q = '[inet:whois:email=(vertex.link,me@vertex.link) .seen=(2014/08/16,2016/08/15)]'\n",
    "q1 = '[inet:whois:email=(syncdomain.info,domains@virustracker.info) .seen=(2013/10/20,2016/10/19)]'\n",
    "q2 = '[inet:whois:email=(natoint.com,domains@hugedomains.com) .seen=(2018/11/28,2018/11/29)]'\n",
    "q3 = '[inet:whois:email=(gunsmonitor.com,khanevadehirani.ir@gmail.com) .seen=(2017/05/16,2018/02/01)]'\n",
    "# Execute query and test\n",
    "podes = await core.eval(q, num=1, cmdr=True)\n",
    "podes = await core.eval(q1, num=1, cmdr=True)\n",
    "podes = await core.eval(q2, num=1, cmdr=True)\n",
    "podes = await core.eval(q3, num=1, cmdr=True)"
   ]
  },
  {
   "cell_type": "code",
   "execution_count": 56,
   "metadata": {
    "hideCode": true
   },
   "outputs": [
    {
     "name": "stdout",
     "output_type": "stream",
     "text": [
      "<query> +inet:whois:email.seen@=(2018/01/01, now)\n"
     ]
    }
   ],
   "source": [
    "# Define and print test query\n",
    "q = '<query> '\n",
    "q1 = 'inet:whois:email '\n",
    "q2 = '+inet:whois:email.seen@=(2018/01/01, now)'\n",
    "print(q + q2)\n",
    "# Execute the query to test it and get the packed nodes (podes).\n",
    "podes = await core.eval(q1 + q2, num=2, cmdr=False)"
   ]
  },
  {
   "cell_type": "code",
   "execution_count": 57,
   "metadata": {
    "hideCode": true
   },
   "outputs": [
    {
     "name": "stdout",
     "output_type": "stream",
     "text": [
      "<query> +.seen@=(2018/01/01, now)\n"
     ]
    }
   ],
   "source": [
    "# Define and print test query\n",
    "q = '<query> '\n",
    "q1 = 'inet:whois:email '\n",
    "q2 = '+.seen@=(2018/01/01, now)'\n",
    "print(q + q2)\n",
    "# Execute the query to test it and get the packed nodes (podes).\n",
    "podes = await core.eval(q1 + q2, num=2, cmdr=False)"
   ]
  },
  {
   "cell_type": "raw",
   "metadata": {},
   "source": [
    "- Downselect to include only DNS requests whose requests occurred within one week after October 15, 2018:"
   ]
  },
  {
   "cell_type": "code",
   "execution_count": 58,
   "metadata": {
    "hideCode": true,
    "hideOutput": true
   },
   "outputs": [
    {
     "name": "stdout",
     "output_type": "stream",
     "text": [
      "cli> storm [inet:dns:request=\"*\" :query=(tcp://8.8.8.8,woot.com,1) :time=\"2018/10/14 12:23\"]\n",
      "\n",
      "inet:dns:request=30d35abd83340786ee6d18405a15ce38\n",
      "        .created = 2019/01/03 22:56:00.059\n",
      "        :query = ('tcp://8.8.8.8', 'woot.com', '1')\n",
      "        :query:name = woot.com\n",
      "        :query:name:fqdn = woot.com\n",
      "        :query:type = 1\n",
      "        :time = 2018/10/14 12:23:00.000\n",
      "complete. 1 nodes in 8 ms (125/sec).\n",
      "cli> storm [inet:dns:request=\"*\" :query=(tcp://8.8.8.8,woot.com,1) :time=\"2018/10/15 00:00\"]\n",
      "\n",
      "inet:dns:request=b00feed6a63ace0127cde52dba9e6b55\n",
      "        .created = 2019/01/03 22:56:00.072\n",
      "        :query = ('tcp://8.8.8.8', 'woot.com', '1')\n",
      "        :query:name = woot.com\n",
      "        :query:name:fqdn = woot.com\n",
      "        :query:type = 1\n",
      "        :time = 2018/10/15 00:00:00.000\n",
      "complete. 1 nodes in 7 ms (142/sec).\n",
      "cli> storm [inet:dns:request=\"*\" :query=(tcp://8.8.8.8,woot.com,1) :time=\"2018/10/20 23:59\"]\n",
      "\n",
      "inet:dns:request=63cd599fe4fd8008ab3d0935c9ec8831\n",
      "        .created = 2019/01/03 22:56:00.086\n",
      "        :query = ('tcp://8.8.8.8', 'woot.com', '1')\n",
      "        :query:name = woot.com\n",
      "        :query:name:fqdn = woot.com\n",
      "        :query:type = 1\n",
      "        :time = 2018/10/20 23:59:00.000\n",
      "complete. 1 nodes in 9 ms (111/sec).\n",
      "cli> storm [inet:dns:request=\"*\" :query=(tcp://8.8.8.8,woot.com,1) :time=\"2018/10/22 00:00\"]\n",
      "\n",
      "inet:dns:request=7c7bc3a7e196b47692a5ba7e12dc2619\n",
      "        .created = 2019/01/03 22:56:00.099\n",
      "        :query = ('tcp://8.8.8.8', 'woot.com', '1')\n",
      "        :query:name = woot.com\n",
      "        :query:name:fqdn = woot.com\n",
      "        :query:type = 1\n",
      "        :time = 2018/10/22 00:00:00.000\n",
      "complete. 1 nodes in 8 ms (125/sec).\n",
      "cli> storm [inet:dns:request=\"*\" :query=(tcp://8.8.8.8,woot.com,1) :time=\"2018/10/18 08:15\"]\n",
      "\n",
      "inet:dns:request=5d8f5ff8e30ae0e799e5ebaf56dd3796\n",
      "        .created = 2019/01/03 22:56:00.112\n",
      "        :query = ('tcp://8.8.8.8', 'woot.com', '1')\n",
      "        :query:name = woot.com\n",
      "        :query:name:fqdn = woot.com\n",
      "        :query:type = 1\n",
      "        :time = 2018/10/18 08:15:00.000\n",
      "complete. 1 nodes in 7 ms (142/sec).\n"
     ]
    }
   ],
   "source": [
    "# Make some moar DNS request nodes:\n",
    "q = '[inet:dns:request=\"*\" :query=(tcp://8.8.8.8,woot.com,1) :time=\"2018/10/14 12:23\"]'\n",
    "q1 = '[inet:dns:request=\"*\" :query=(tcp://8.8.8.8,woot.com,1) :time=\"2018/10/15 00:00\"]'\n",
    "q2 = '[inet:dns:request=\"*\" :query=(tcp://8.8.8.8,woot.com,1) :time=\"2018/10/20 23:59\"]'\n",
    "q3 = '[inet:dns:request=\"*\" :query=(tcp://8.8.8.8,woot.com,1) :time=\"2018/10/22 00:00\"]'\n",
    "q4 = '[inet:dns:request=\"*\" :query=(tcp://8.8.8.8,woot.com,1) :time=\"2018/10/18 08:15\"]'\n",
    "# Execute query and test\n",
    "podes = await core.eval(q, num=1, cmdr=True)\n",
    "podes = await core.eval(q1, num=1, cmdr=True)\n",
    "podes = await core.eval(q2, num=1, cmdr=True)\n",
    "podes = await core.eval(q3, num=1, cmdr=True)\n",
    "podes = await core.eval(q4, num=1, cmdr=True)"
   ]
  },
  {
   "cell_type": "code",
   "execution_count": 59,
   "metadata": {
    "hideCode": true
   },
   "outputs": [
    {
     "name": "stdout",
     "output_type": "stream",
     "text": [
      "<query> +inet:dns:request:time@=(2018/10/15, \"+ 7 days\")\n"
     ]
    }
   ],
   "source": [
    "# Define and print test query\n",
    "q = '<query> '\n",
    "q1 = 'inet:dns:request '\n",
    "q2 = '+inet:dns:request:time@=(2018/10/15, \"+ 7 days\")'\n",
    "print(q + q2)\n",
    "# Execute the query to test it and get the packed nodes (podes).\n",
    "podes = await core.eval(q1 + q2, num=3, cmdr=False)"
   ]
  },
  {
   "cell_type": "code",
   "execution_count": 60,
   "metadata": {
    "hideCode": true
   },
   "outputs": [
    {
     "name": "stdout",
     "output_type": "stream",
     "text": [
      "<query> +:time@=(2018/10/15, \"+ 7 days\")\n"
     ]
    }
   ],
   "source": [
    "# Define and print test query\n",
    "q = '<query> '\n",
    "q1 = 'inet:dns:request '\n",
    "q2 = '+:time@=(2018/10/15, \"+ 7 days\")'\n",
    "print(q + q2)\n",
    "# Execute the query to test it and get the packed nodes (podes).\n",
    "podes = await core.eval(q1 + q2, num=3, cmdr=False)"
   ]
  },
  {
   "cell_type": "raw",
   "metadata": {},
   "source": [
    "**Usage Notes:**\n",
    "\n",
    "- When specifying an interval, the minimum value is included in the interval but the maximum value is **not** (the equivalent of “greater than or equal to *<min>* and less than *<max>*”). This behavior is slightly different than that for ``*range=``, which includes **both** the minimum and maximum.\n",
    "- When comparing an **interval to an interval,** Storm will return nodes whose interval has **any** overlap with the specified interval.\n",
    "\n",
    "  - For example, a filter interval of September 1, 2018 to October 1, 2018 (``2018/09/01, 2018/10/01``) will match nodes with **any** of the following intervals:\n",
    "  \n",
    "    - August 12, 2018 to September 6, 2018 (``2018/08/12, 2018/09/06``).\n",
    "    - September 13, 2018 to September 17, 2018 (``2018/09/13, 2018/09/17``).\n",
    "    - September 30, 20180 to November 5, 2018 (``2018/09/30, 2018/11/05``).\n",
    "\n",
    "- When comparing a **timestamp to an interval,** Storm will return nodes whose timestamp falls **within** the specified interval.\n",
    "- When comparing an **interval to a timestamp,** Storm will return nodes whose interval **encompasses** the specified timestamp.\n",
    "- When comparing a **timestamp to a timestamp,** interval ( ``@=`` ) syntax is supported, although the equals comparator ( ``=`` ) can simply be used.\n",
    "- Because tags can be given timestamps (min / max interval values), interval filters can also be used with tags.\n",
    "\n",
    "\n",
    "Filter by Range (*range=)\n",
    "+++++++++++++++++++++++++\n",
    "\n",
    "The range extended comparator (``*range=``) supports filtering nodes whose *<form> = <valu>* or *<prop> = <pval>* fall within a specified range of values. The comparator can be used with types such as integers and times, including types that are extensions of those types, such as IP addresses.\n",
    "\n",
    "**Syntax:**\n",
    "\n",
    "*<query* **+** | **-** *<form>* | *<prop>* ***range = (** *<range_min>* **,** *<range_max>* **)**\n",
    "\n",
    "**Examples:**\n",
    "\n",
    "*Filter by primary property in range:*\n",
    "\n",
    "- Downselect to include all IP addresses between 192.168.0.0 and 192.168.0.10:\n"
   ]
  },
  {
   "cell_type": "code",
   "execution_count": 61,
   "metadata": {
    "hideCode": true,
    "hideOutput": true
   },
   "outputs": [
    {
     "name": "stdout",
     "output_type": "stream",
     "text": [
      "cli> storm [inet:ipv4=192.168.0.0/24]\n",
      "\n",
      "inet:ipv4=192.168.0.0\n",
      "        .created = 2019/01/03 22:56:00.167\n",
      "        :asn = 0\n",
      "        :loc = ??\n",
      "        :type = private\n",
      "inet:ipv4=192.168.0.1\n",
      "        .created = 2019/01/03 22:56:00.168\n",
      "        :asn = 0\n",
      "        :loc = ??\n",
      "        :type = private\n",
      "inet:ipv4=192.168.0.2\n",
      "        .created = 2019/01/03 22:56:00.169\n",
      "        :asn = 0\n",
      "        :loc = ??\n",
      "        :type = private\n",
      "inet:ipv4=192.168.0.3\n",
      "        .created = 2019/01/03 22:56:00.170\n",
      "        :asn = 0\n",
      "        :loc = ??\n",
      "        :type = private\n",
      "inet:ipv4=192.168.0.4\n",
      "        .created = 2019/01/03 22:56:00.173\n",
      "        :asn = 0\n",
      "        :loc = ??\n",
      "        :type = private\n",
      "inet:ipv4=192.168.0.5\n",
      "        .created = 2019/01/03 22:56:00.175\n",
      "        :asn = 0\n",
      "        :loc = ??\n",
      "        :type = private\n",
      "inet:ipv4=192.168.0.6\n",
      "        .created = 2019/01/03 22:56:00.177\n",
      "        :asn = 0\n",
      "        :loc = ??\n",
      "        :type = private\n",
      "inet:ipv4=192.168.0.7\n",
      "        .created = 2019/01/03 22:56:00.178\n",
      "        :asn = 0\n",
      "        :loc = ??\n",
      "        :type = private\n",
      "inet:ipv4=192.168.0.8\n",
      "        .created = 2019/01/03 22:56:00.181\n",
      "        :asn = 0\n",
      "        :loc = ??\n",
      "        :type = private\n",
      "inet:ipv4=192.168.0.9\n",
      "        .created = 2019/01/03 22:56:00.181\n",
      "        :asn = 0\n",
      "        :loc = ??\n",
      "        :type = private\n",
      "inet:ipv4=192.168.0.10\n",
      "        .created = 2019/01/03 22:56:00.183\n",
      "        :asn = 0\n",
      "        :loc = ??\n",
      "        :type = private\n",
      "inet:ipv4=192.168.0.11\n",
      "        .created = 2019/01/03 22:56:00.184\n",
      "        :asn = 0\n",
      "        :loc = ??\n",
      "        :type = private\n",
      "inet:ipv4=192.168.0.12\n",
      "        .created = 2019/01/03 22:56:00.186\n",
      "        :asn = 0\n",
      "        :loc = ??\n",
      "        :type = private\n",
      "inet:ipv4=192.168.0.13\n",
      "        .created = 2019/01/03 22:56:00.186\n",
      "        :asn = 0\n",
      "        :loc = ??\n",
      "        :type = private\n",
      "inet:ipv4=192.168.0.14\n",
      "        .created = 2019/01/03 22:56:00.188\n",
      "        :asn = 0\n",
      "        :loc = ??\n",
      "        :type = private\n",
      "inet:ipv4=192.168.0.15\n",
      "        .created = 2019/01/03 22:56:00.189\n",
      "        :asn = 0\n",
      "        :loc = ??\n",
      "        :type = private\n",
      "inet:ipv4=192.168.0.16\n",
      "        .created = 2019/01/03 22:56:00.191\n",
      "        :asn = 0\n",
      "        :loc = ??\n",
      "        :type = private\n",
      "inet:ipv4=192.168.0.17\n",
      "        .created = 2019/01/03 22:56:00.191\n",
      "        :asn = 0\n",
      "        :loc = ??\n",
      "        :type = private\n",
      "inet:ipv4=192.168.0.18\n",
      "        .created = 2019/01/03 22:56:00.193\n",
      "        :asn = 0\n",
      "        :loc = ??\n",
      "        :type = private\n",
      "inet:ipv4=192.168.0.19\n",
      "        .created = 2019/01/03 22:56:00.194\n",
      "        :asn = 0\n",
      "        :loc = ??\n",
      "        :type = private\n",
      "inet:ipv4=192.168.0.20\n",
      "        .created = 2019/01/03 22:56:00.196\n",
      "        :asn = 0\n",
      "        :loc = ??\n",
      "        :type = private\n",
      "inet:ipv4=192.168.0.21\n",
      "        .created = 2019/01/03 22:56:00.196\n",
      "        :asn = 0\n",
      "        :loc = ??\n",
      "        :type = private\n",
      "inet:ipv4=192.168.0.22\n",
      "        .created = 2019/01/03 22:56:00.199\n",
      "        :asn = 0\n",
      "        :loc = ??\n",
      "        :type = private\n",
      "inet:ipv4=192.168.0.23\n",
      "        .created = 2019/01/03 22:56:00.201\n",
      "        :asn = 0\n",
      "        :loc = ??\n",
      "        :type = private\n",
      "inet:ipv4=192.168.0.24\n",
      "        .created = 2019/01/03 22:56:00.202\n",
      "        :asn = 0\n",
      "        :loc = ??\n",
      "        :type = private\n",
      "inet:ipv4=192.168.0.25\n",
      "        .created = 2019/01/03 22:56:00.204\n",
      "        :asn = 0\n",
      "        :loc = ??\n",
      "        :type = private\n",
      "inet:ipv4=192.168.0.26\n",
      "        .created = 2019/01/03 22:56:00.205\n",
      "        :asn = 0\n",
      "        :loc = ??\n",
      "        :type = private\n",
      "inet:ipv4=192.168.0.27\n",
      "        .created = 2019/01/03 22:56:00.206\n",
      "        :asn = 0\n",
      "        :loc = ??\n",
      "        :type = private\n",
      "inet:ipv4=192.168.0.28\n",
      "        .created = 2019/01/03 22:56:00.208\n",
      "        :asn = 0\n",
      "        :loc = ??\n",
      "        :type = private\n",
      "inet:ipv4=192.168.0.29\n",
      "        .created = 2019/01/03 22:56:00.208\n",
      "        :asn = 0\n",
      "        :loc = ??\n",
      "        :type = private\n",
      "inet:ipv4=192.168.0.30\n",
      "        .created = 2019/01/03 22:56:00.210\n",
      "        :asn = 0\n",
      "        :loc = ??\n",
      "        :type = private\n",
      "inet:ipv4=192.168.0.31\n",
      "        .created = 2019/01/03 22:56:00.211\n",
      "        :asn = 0\n",
      "        :loc = ??\n",
      "        :type = private\n",
      "inet:ipv4=192.168.0.32\n",
      "        .created = 2019/01/03 22:56:00.213\n",
      "        :asn = 0\n",
      "        :loc = ??\n",
      "        :type = private\n",
      "inet:ipv4=192.168.0.33\n",
      "        .created = 2019/01/03 22:56:00.213\n",
      "        :asn = 0\n",
      "        :loc = ??\n",
      "        :type = private\n",
      "inet:ipv4=192.168.0.34\n",
      "        .created = 2019/01/03 22:56:00.215\n",
      "        :asn = 0\n",
      "        :loc = ??\n",
      "        :type = private\n",
      "inet:ipv4=192.168.0.35\n",
      "        .created = 2019/01/03 22:56:00.216\n",
      "        :asn = 0\n",
      "        :loc = ??\n",
      "        :type = private\n",
      "inet:ipv4=192.168.0.36\n",
      "        .created = 2019/01/03 22:56:00.218\n",
      "        :asn = 0\n",
      "        :loc = ??\n",
      "        :type = private\n",
      "inet:ipv4=192.168.0.37\n",
      "        .created = 2019/01/03 22:56:00.219\n",
      "        :asn = 0\n",
      "        :loc = ??\n",
      "        :type = private\n",
      "inet:ipv4=192.168.0.38\n",
      "        .created = 2019/01/03 22:56:00.220\n",
      "        :asn = 0\n",
      "        :loc = ??\n",
      "        :type = private\n",
      "inet:ipv4=192.168.0.39\n",
      "        .created = 2019/01/03 22:56:00.221\n",
      "        :asn = 0\n",
      "        :loc = ??\n",
      "        :type = private\n",
      "inet:ipv4=192.168.0.40\n",
      "        .created = 2019/01/03 22:56:00.222\n",
      "        :asn = 0\n",
      "        :loc = ??\n",
      "        :type = private\n",
      "inet:ipv4=192.168.0.41\n",
      "        .created = 2019/01/03 22:56:00.223\n",
      "        :asn = 0\n",
      "        :loc = ??\n",
      "        :type = private\n",
      "inet:ipv4=192.168.0.42\n",
      "        .created = 2019/01/03 22:56:00.224\n",
      "        :asn = 0\n",
      "        :loc = ??\n",
      "        :type = private\n",
      "inet:ipv4=192.168.0.43\n",
      "        .created = 2019/01/03 22:56:00.225\n",
      "        :asn = 0\n",
      "        :loc = ??\n",
      "        :type = private\n",
      "inet:ipv4=192.168.0.44\n",
      "        .created = 2019/01/03 22:56:00.226\n",
      "        :asn = 0\n",
      "        :loc = ??\n",
      "        :type = private\n",
      "inet:ipv4=192.168.0.45\n",
      "        .created = 2019/01/03 22:56:00.227\n",
      "        :asn = 0\n",
      "        :loc = ??\n",
      "        :type = private\n",
      "inet:ipv4=192.168.0.46\n",
      "        .created = 2019/01/03 22:56:00.228\n",
      "        :asn = 0\n",
      "        :loc = ??\n",
      "        :type = private\n",
      "inet:ipv4=192.168.0.47\n",
      "        .created = 2019/01/03 22:56:00.229\n",
      "        :asn = 0\n",
      "        :loc = ??\n",
      "        :type = private\n",
      "inet:ipv4=192.168.0.48\n",
      "        .created = 2019/01/03 22:56:00.230\n",
      "        :asn = 0\n",
      "        :loc = ??\n",
      "        :type = private\n",
      "inet:ipv4=192.168.0.49\n",
      "        .created = 2019/01/03 22:56:00.231\n",
      "        :asn = 0\n",
      "        :loc = ??\n",
      "        :type = private\n",
      "inet:ipv4=192.168.0.50\n",
      "        .created = 2019/01/03 22:56:00.233\n",
      "        :asn = 0\n",
      "        :loc = ??\n",
      "        :type = private\n",
      "inet:ipv4=192.168.0.51\n",
      "        .created = 2019/01/03 22:56:00.234\n",
      "        :asn = 0\n",
      "        :loc = ??\n",
      "        :type = private\n",
      "inet:ipv4=192.168.0.52\n",
      "        .created = 2019/01/03 22:56:00.235\n",
      "        :asn = 0\n",
      "        :loc = ??\n",
      "        :type = private\n",
      "inet:ipv4=192.168.0.53\n",
      "        .created = 2019/01/03 22:56:00.236\n",
      "        :asn = 0\n",
      "        :loc = ??\n",
      "        :type = private\n",
      "inet:ipv4=192.168.0.54\n",
      "        .created = 2019/01/03 22:56:00.237\n",
      "        :asn = 0\n",
      "        :loc = ??\n",
      "        :type = private\n",
      "inet:ipv4=192.168.0.55\n",
      "        .created = 2019/01/03 22:56:00.238\n",
      "        :asn = 0\n",
      "        :loc = ??\n",
      "        :type = private\n",
      "inet:ipv4=192.168.0.56\n",
      "        .created = 2019/01/03 22:56:00.239\n",
      "        :asn = 0\n",
      "        :loc = ??\n",
      "        :type = private\n",
      "inet:ipv4=192.168.0.57\n",
      "        .created = 2019/01/03 22:56:00.240\n",
      "        :asn = 0\n",
      "        :loc = ??\n",
      "        :type = private\n",
      "inet:ipv4=192.168.0.58\n",
      "        .created = 2019/01/03 22:56:00.242\n",
      "        :asn = 0\n",
      "        :loc = ??\n",
      "        :type = private\n",
      "inet:ipv4=192.168.0.59\n",
      "        .created = 2019/01/03 22:56:00.243\n",
      "        :asn = 0\n",
      "        :loc = ??\n",
      "        :type = private\n",
      "inet:ipv4=192.168.0.60\n",
      "        .created = 2019/01/03 22:56:00.244\n",
      "        :asn = 0\n",
      "        :loc = ??\n",
      "        :type = private\n",
      "inet:ipv4=192.168.0.61\n",
      "        .created = 2019/01/03 22:56:00.245\n",
      "        :asn = 0\n",
      "        :loc = ??\n",
      "        :type = private\n",
      "inet:ipv4=192.168.0.62\n",
      "        .created = 2019/01/03 22:56:00.246\n",
      "        :asn = 0\n",
      "        :loc = ??\n",
      "        :type = private\n",
      "inet:ipv4=192.168.0.63\n",
      "        .created = 2019/01/03 22:56:00.247\n",
      "        :asn = 0\n",
      "        :loc = ??\n",
      "        :type = private\n",
      "inet:ipv4=192.168.0.64\n",
      "        .created = 2019/01/03 22:56:00.250\n",
      "        :asn = 0\n",
      "        :loc = ??\n",
      "        :type = private\n",
      "inet:ipv4=192.168.0.65\n",
      "        .created = 2019/01/03 22:56:00.251\n",
      "        :asn = 0\n",
      "        :loc = ??\n",
      "        :type = private\n",
      "inet:ipv4=192.168.0.66\n",
      "        .created = 2019/01/03 22:56:00.253\n",
      "        :asn = 0\n",
      "        :loc = ??\n",
      "        :type = private\n",
      "inet:ipv4=192.168.0.67\n",
      "        .created = 2019/01/03 22:56:00.256\n",
      "        :asn = 0\n",
      "        :loc = ??\n",
      "        :type = private\n",
      "inet:ipv4=192.168.0.68\n",
      "        .created = 2019/01/03 22:56:00.258\n",
      "        :asn = 0\n",
      "        :loc = ??\n",
      "        :type = private\n",
      "inet:ipv4=192.168.0.69\n",
      "        .created = 2019/01/03 22:56:00.260\n",
      "        :asn = 0\n",
      "        :loc = ??\n",
      "        :type = private\n"
     ]
    },
    {
     "name": "stdout",
     "output_type": "stream",
     "text": [
      "inet:ipv4=192.168.0.70\n",
      "        .created = 2019/01/03 22:56:00.264\n",
      "        :asn = 0\n",
      "        :loc = ??\n",
      "        :type = private\n",
      "inet:ipv4=192.168.0.71\n",
      "        .created = 2019/01/03 22:56:00.265\n",
      "        :asn = 0\n",
      "        :loc = ??\n",
      "        :type = private\n",
      "inet:ipv4=192.168.0.72\n",
      "        .created = 2019/01/03 22:56:00.266\n",
      "        :asn = 0\n",
      "        :loc = ??\n",
      "        :type = private\n",
      "inet:ipv4=192.168.0.73\n",
      "        .created = 2019/01/03 22:56:00.267\n",
      "        :asn = 0\n",
      "        :loc = ??\n",
      "        :type = private\n",
      "inet:ipv4=192.168.0.74\n",
      "        .created = 2019/01/03 22:56:00.269\n",
      "        :asn = 0\n",
      "        :loc = ??\n",
      "        :type = private\n",
      "inet:ipv4=192.168.0.75\n",
      "        .created = 2019/01/03 22:56:00.269\n",
      "        :asn = 0\n",
      "        :loc = ??\n",
      "        :type = private\n",
      "inet:ipv4=192.168.0.76\n",
      "        .created = 2019/01/03 22:56:00.270\n",
      "        :asn = 0\n",
      "        :loc = ??\n",
      "        :type = private\n",
      "inet:ipv4=192.168.0.77\n",
      "        .created = 2019/01/03 22:56:00.271\n",
      "        :asn = 0\n",
      "        :loc = ??\n",
      "        :type = private\n",
      "inet:ipv4=192.168.0.78\n",
      "        .created = 2019/01/03 22:56:00.272\n",
      "        :asn = 0\n",
      "        :loc = ??\n",
      "        :type = private\n",
      "inet:ipv4=192.168.0.79\n",
      "        .created = 2019/01/03 22:56:00.273\n",
      "        :asn = 0\n",
      "        :loc = ??\n",
      "        :type = private\n",
      "inet:ipv4=192.168.0.80\n",
      "        .created = 2019/01/03 22:56:00.274\n",
      "        :asn = 0\n",
      "        :loc = ??\n",
      "        :type = private\n",
      "inet:ipv4=192.168.0.81\n",
      "        .created = 2019/01/03 22:56:00.274\n",
      "        :asn = 0\n",
      "        :loc = ??\n",
      "        :type = private\n",
      "inet:ipv4=192.168.0.82\n",
      "        .created = 2019/01/03 22:56:00.276\n",
      "        :asn = 0\n",
      "        :loc = ??\n",
      "        :type = private\n",
      "inet:ipv4=192.168.0.83\n",
      "        .created = 2019/01/03 22:56:00.276\n",
      "        :asn = 0\n",
      "        :loc = ??\n",
      "        :type = private\n",
      "inet:ipv4=192.168.0.84\n",
      "        .created = 2019/01/03 22:56:00.280\n",
      "        :asn = 0\n",
      "        :loc = ??\n",
      "        :type = private\n",
      "inet:ipv4=192.168.0.85\n",
      "        .created = 2019/01/03 22:56:00.283\n",
      "        :asn = 0\n",
      "        :loc = ??\n",
      "        :type = private\n",
      "inet:ipv4=192.168.0.86\n",
      "        .created = 2019/01/03 22:56:00.286\n",
      "        :asn = 0\n",
      "        :loc = ??\n",
      "        :type = private\n",
      "inet:ipv4=192.168.0.87\n",
      "        .created = 2019/01/03 22:56:00.287\n",
      "        :asn = 0\n",
      "        :loc = ??\n",
      "        :type = private\n",
      "inet:ipv4=192.168.0.88\n",
      "        .created = 2019/01/03 22:56:00.289\n",
      "        :asn = 0\n",
      "        :loc = ??\n",
      "        :type = private\n",
      "inet:ipv4=192.168.0.89\n",
      "        .created = 2019/01/03 22:56:00.290\n",
      "        :asn = 0\n",
      "        :loc = ??\n",
      "        :type = private\n",
      "inet:ipv4=192.168.0.90\n",
      "        .created = 2019/01/03 22:56:00.294\n",
      "        :asn = 0\n",
      "        :loc = ??\n",
      "        :type = private\n",
      "inet:ipv4=192.168.0.91\n",
      "        .created = 2019/01/03 22:56:00.297\n",
      "        :asn = 0\n",
      "        :loc = ??\n",
      "        :type = private\n",
      "inet:ipv4=192.168.0.92\n",
      "        .created = 2019/01/03 22:56:00.298\n",
      "        :asn = 0\n",
      "        :loc = ??\n",
      "        :type = private\n",
      "inet:ipv4=192.168.0.93\n",
      "        .created = 2019/01/03 22:56:00.299\n",
      "        :asn = 0\n",
      "        :loc = ??\n",
      "        :type = private\n",
      "inet:ipv4=192.168.0.94\n",
      "        .created = 2019/01/03 22:56:00.301\n",
      "        :asn = 0\n",
      "        :loc = ??\n",
      "        :type = private\n",
      "inet:ipv4=192.168.0.95\n",
      "        .created = 2019/01/03 22:56:00.301\n",
      "        :asn = 0\n",
      "        :loc = ??\n",
      "        :type = private\n",
      "inet:ipv4=192.168.0.96\n",
      "        .created = 2019/01/03 22:56:00.302\n",
      "        :asn = 0\n",
      "        :loc = ??\n",
      "        :type = private\n",
      "inet:ipv4=192.168.0.97\n",
      "        .created = 2019/01/03 22:56:00.303\n",
      "        :asn = 0\n",
      "        :loc = ??\n",
      "        :type = private\n",
      "inet:ipv4=192.168.0.98\n",
      "        .created = 2019/01/03 22:56:00.304\n",
      "        :asn = 0\n",
      "        :loc = ??\n",
      "        :type = private\n",
      "inet:ipv4=192.168.0.99\n",
      "        .created = 2019/01/03 22:56:00.304\n",
      "        :asn = 0\n",
      "        :loc = ??\n",
      "        :type = private\n",
      "inet:ipv4=192.168.0.100\n",
      "        .created = 2019/01/03 22:56:00.305\n",
      "        :asn = 0\n",
      "        :loc = ??\n",
      "        :type = private\n",
      "inet:ipv4=192.168.0.101\n",
      "        .created = 2019/01/03 22:56:00.306\n",
      "        :asn = 0\n",
      "        :loc = ??\n",
      "        :type = private\n",
      "inet:ipv4=192.168.0.102\n",
      "        .created = 2019/01/03 22:56:00.307\n",
      "        :asn = 0\n",
      "        :loc = ??\n",
      "        :type = private\n",
      "inet:ipv4=192.168.0.103\n",
      "        .created = 2019/01/03 22:56:00.308\n",
      "        :asn = 0\n",
      "        :loc = ??\n",
      "        :type = private\n",
      "inet:ipv4=192.168.0.104\n",
      "        .created = 2019/01/03 22:56:00.309\n",
      "        :asn = 0\n",
      "        :loc = ??\n",
      "        :type = private\n",
      "inet:ipv4=192.168.0.105\n",
      "        .created = 2019/01/03 22:56:00.309\n",
      "        :asn = 0\n",
      "        :loc = ??\n",
      "        :type = private\n",
      "inet:ipv4=192.168.0.106\n",
      "        .created = 2019/01/03 22:56:00.314\n",
      "        :asn = 0\n",
      "        :loc = ??\n",
      "        :type = private\n",
      "inet:ipv4=192.168.0.107\n",
      "        .created = 2019/01/03 22:56:00.315\n",
      "        :asn = 0\n",
      "        :loc = ??\n",
      "        :type = private\n",
      "inet:ipv4=192.168.0.108\n",
      "        .created = 2019/01/03 22:56:00.320\n",
      "        :asn = 0\n",
      "        :loc = ??\n",
      "        :type = private\n",
      "inet:ipv4=192.168.0.109\n",
      "        .created = 2019/01/03 22:56:00.321\n",
      "        :asn = 0\n",
      "        :loc = ??\n",
      "        :type = private\n",
      "inet:ipv4=192.168.0.110\n",
      "        .created = 2019/01/03 22:56:00.324\n",
      "        :asn = 0\n",
      "        :loc = ??\n",
      "        :type = private\n",
      "inet:ipv4=192.168.0.111\n",
      "        .created = 2019/01/03 22:56:00.326\n",
      "        :asn = 0\n",
      "        :loc = ??\n",
      "        :type = private\n",
      "inet:ipv4=192.168.0.112\n",
      "        .created = 2019/01/03 22:56:00.329\n",
      "        :asn = 0\n",
      "        :loc = ??\n",
      "        :type = private\n",
      "inet:ipv4=192.168.0.113\n",
      "        .created = 2019/01/03 22:56:00.331\n",
      "        :asn = 0\n",
      "        :loc = ??\n",
      "        :type = private\n",
      "inet:ipv4=192.168.0.114\n",
      "        .created = 2019/01/03 22:56:00.332\n",
      "        :asn = 0\n",
      "        :loc = ??\n",
      "        :type = private\n",
      "inet:ipv4=192.168.0.115\n",
      "        .created = 2019/01/03 22:56:00.333\n",
      "        :asn = 0\n",
      "        :loc = ??\n",
      "        :type = private\n",
      "inet:ipv4=192.168.0.116\n",
      "        .created = 2019/01/03 22:56:00.334\n",
      "        :asn = 0\n",
      "        :loc = ??\n",
      "        :type = private\n",
      "inet:ipv4=192.168.0.117\n",
      "        .created = 2019/01/03 22:56:00.335\n",
      "        :asn = 0\n",
      "        :loc = ??\n",
      "        :type = private\n",
      "inet:ipv4=192.168.0.118\n",
      "        .created = 2019/01/03 22:56:00.337\n",
      "        :asn = 0\n",
      "        :loc = ??\n",
      "        :type = private\n",
      "inet:ipv4=192.168.0.119\n",
      "        .created = 2019/01/03 22:56:00.338\n",
      "        :asn = 0\n",
      "        :loc = ??\n",
      "        :type = private\n",
      "inet:ipv4=192.168.0.120\n",
      "        .created = 2019/01/03 22:56:00.340\n",
      "        :asn = 0\n",
      "        :loc = ??\n",
      "        :type = private\n",
      "inet:ipv4=192.168.0.121\n",
      "        .created = 2019/01/03 22:56:00.342\n",
      "        :asn = 0\n",
      "        :loc = ??\n",
      "        :type = private\n",
      "inet:ipv4=192.168.0.122\n",
      "        .created = 2019/01/03 22:56:00.343\n",
      "        :asn = 0\n",
      "        :loc = ??\n",
      "        :type = private\n",
      "inet:ipv4=192.168.0.123\n",
      "        .created = 2019/01/03 22:56:00.346\n",
      "        :asn = 0\n",
      "        :loc = ??\n",
      "        :type = private\n",
      "inet:ipv4=192.168.0.124\n",
      "        .created = 2019/01/03 22:56:00.354\n",
      "        :asn = 0\n",
      "        :loc = ??\n",
      "        :type = private\n",
      "inet:ipv4=192.168.0.125\n",
      "        .created = 2019/01/03 22:56:00.357\n",
      "        :asn = 0\n",
      "        :loc = ??\n",
      "        :type = private\n",
      "inet:ipv4=192.168.0.126\n",
      "        .created = 2019/01/03 22:56:00.359\n",
      "        :asn = 0\n",
      "        :loc = ??\n",
      "        :type = private\n",
      "inet:ipv4=192.168.0.127\n",
      "        .created = 2019/01/03 22:56:00.362\n",
      "        :asn = 0\n",
      "        :loc = ??\n",
      "        :type = private\n",
      "inet:ipv4=192.168.0.128\n",
      "        .created = 2019/01/03 22:56:00.366\n",
      "        :asn = 0\n",
      "        :loc = ??\n",
      "        :type = private\n",
      "inet:ipv4=192.168.0.129\n",
      "        .created = 2019/01/03 22:56:00.367\n",
      "        :asn = 0\n",
      "        :loc = ??\n",
      "        :type = private\n",
      "inet:ipv4=192.168.0.130\n",
      "        .created = 2019/01/03 22:56:00.369\n",
      "        :asn = 0\n",
      "        :loc = ??\n",
      "        :type = private\n",
      "inet:ipv4=192.168.0.131\n",
      "        .created = 2019/01/03 22:56:00.369\n",
      "        :asn = 0\n",
      "        :loc = ??\n",
      "        :type = private\n",
      "inet:ipv4=192.168.0.132\n",
      "        .created = 2019/01/03 22:56:00.371\n",
      "        :asn = 0\n",
      "        :loc = ??\n",
      "        :type = private\n",
      "inet:ipv4=192.168.0.133\n",
      "        .created = 2019/01/03 22:56:00.371\n",
      "        :asn = 0\n",
      "        :loc = ??\n",
      "        :type = private\n",
      "inet:ipv4=192.168.0.134\n",
      "        .created = 2019/01/03 22:56:00.373\n",
      "        :asn = 0\n",
      "        :loc = ??\n",
      "        :type = private\n",
      "inet:ipv4=192.168.0.135\n",
      "        .created = 2019/01/03 22:56:00.373\n",
      "        :asn = 0\n",
      "        :loc = ??\n",
      "        :type = private\n"
     ]
    },
    {
     "name": "stdout",
     "output_type": "stream",
     "text": [
      "inet:ipv4=192.168.0.136\n",
      "        .created = 2019/01/03 22:56:00.375\n",
      "        :asn = 0\n",
      "        :loc = ??\n",
      "        :type = private\n",
      "inet:ipv4=192.168.0.137\n",
      "        .created = 2019/01/03 22:56:00.376\n",
      "        :asn = 0\n",
      "        :loc = ??\n",
      "        :type = private\n",
      "inet:ipv4=192.168.0.138\n",
      "        .created = 2019/01/03 22:56:00.381\n",
      "        :asn = 0\n",
      "        :loc = ??\n",
      "        :type = private\n",
      "inet:ipv4=192.168.0.139\n",
      "        .created = 2019/01/03 22:56:00.382\n",
      "        :asn = 0\n",
      "        :loc = ??\n",
      "        :type = private\n",
      "inet:ipv4=192.168.0.140\n",
      "        .created = 2019/01/03 22:56:00.387\n",
      "        :asn = 0\n",
      "        :loc = ??\n",
      "        :type = private\n",
      "inet:ipv4=192.168.0.141\n",
      "        .created = 2019/01/03 22:56:00.388\n",
      "        :asn = 0\n",
      "        :loc = ??\n",
      "        :type = private\n",
      "inet:ipv4=192.168.0.142\n",
      "        .created = 2019/01/03 22:56:00.391\n",
      "        :asn = 0\n",
      "        :loc = ??\n",
      "        :type = private\n",
      "inet:ipv4=192.168.0.143\n",
      "        .created = 2019/01/03 22:56:00.392\n",
      "        :asn = 0\n",
      "        :loc = ??\n",
      "        :type = private\n",
      "inet:ipv4=192.168.0.144\n",
      "        .created = 2019/01/03 22:56:00.394\n",
      "        :asn = 0\n",
      "        :loc = ??\n",
      "        :type = private\n",
      "inet:ipv4=192.168.0.145\n",
      "        .created = 2019/01/03 22:56:00.395\n",
      "        :asn = 0\n",
      "        :loc = ??\n",
      "        :type = private\n",
      "inet:ipv4=192.168.0.146\n",
      "        .created = 2019/01/03 22:56:00.397\n",
      "        :asn = 0\n",
      "        :loc = ??\n",
      "        :type = private\n",
      "inet:ipv4=192.168.0.147\n",
      "        .created = 2019/01/03 22:56:00.398\n",
      "        :asn = 0\n",
      "        :loc = ??\n",
      "        :type = private\n",
      "inet:ipv4=192.168.0.148\n",
      "        .created = 2019/01/03 22:56:00.399\n",
      "        :asn = 0\n",
      "        :loc = ??\n",
      "        :type = private\n",
      "inet:ipv4=192.168.0.149\n",
      "        .created = 2019/01/03 22:56:00.400\n",
      "        :asn = 0\n",
      "        :loc = ??\n",
      "        :type = private\n",
      "inet:ipv4=192.168.0.150\n",
      "        .created = 2019/01/03 22:56:00.400\n",
      "        :asn = 0\n",
      "        :loc = ??\n",
      "        :type = private\n",
      "inet:ipv4=192.168.0.151\n",
      "        .created = 2019/01/03 22:56:00.401\n",
      "        :asn = 0\n",
      "        :loc = ??\n",
      "        :type = private\n",
      "inet:ipv4=192.168.0.152\n",
      "        .created = 2019/01/03 22:56:00.402\n",
      "        :asn = 0\n",
      "        :loc = ??\n",
      "        :type = private\n",
      "inet:ipv4=192.168.0.153\n",
      "        .created = 2019/01/03 22:56:00.402\n",
      "        :asn = 0\n",
      "        :loc = ??\n",
      "        :type = private\n",
      "inet:ipv4=192.168.0.154\n",
      "        .created = 2019/01/03 22:56:00.404\n",
      "        :asn = 0\n",
      "        :loc = ??\n",
      "        :type = private\n",
      "inet:ipv4=192.168.0.155\n",
      "        .created = 2019/01/03 22:56:00.404\n",
      "        :asn = 0\n",
      "        :loc = ??\n",
      "        :type = private\n",
      "inet:ipv4=192.168.0.156\n",
      "        .created = 2019/01/03 22:56:00.407\n",
      "        :asn = 0\n",
      "        :loc = ??\n",
      "        :type = private\n",
      "inet:ipv4=192.168.0.157\n",
      "        .created = 2019/01/03 22:56:00.408\n",
      "        :asn = 0\n",
      "        :loc = ??\n",
      "        :type = private\n",
      "inet:ipv4=192.168.0.158\n",
      "        .created = 2019/01/03 22:56:00.410\n",
      "        :asn = 0\n",
      "        :loc = ??\n",
      "        :type = private\n",
      "inet:ipv4=192.168.0.159\n",
      "        .created = 2019/01/03 22:56:00.413\n",
      "        :asn = 0\n",
      "        :loc = ??\n",
      "        :type = private\n",
      "inet:ipv4=192.168.0.160\n",
      "        .created = 2019/01/03 22:56:00.416\n",
      "        :asn = 0\n",
      "        :loc = ??\n",
      "        :type = private\n",
      "inet:ipv4=192.168.0.161\n",
      "        .created = 2019/01/03 22:56:00.419\n",
      "        :asn = 0\n",
      "        :loc = ??\n",
      "        :type = private\n",
      "inet:ipv4=192.168.0.162\n",
      "        .created = 2019/01/03 22:56:00.422\n",
      "        :asn = 0\n",
      "        :loc = ??\n",
      "        :type = private\n",
      "inet:ipv4=192.168.0.163\n",
      "        .created = 2019/01/03 22:56:00.425\n",
      "        :asn = 0\n",
      "        :loc = ??\n",
      "        :type = private\n",
      "inet:ipv4=192.168.0.164\n",
      "        .created = 2019/01/03 22:56:00.429\n",
      "        :asn = 0\n",
      "        :loc = ??\n",
      "        :type = private\n",
      "inet:ipv4=192.168.0.165\n",
      "        .created = 2019/01/03 22:56:00.430\n",
      "        :asn = 0\n",
      "        :loc = ??\n",
      "        :type = private\n",
      "inet:ipv4=192.168.0.166\n",
      "        .created = 2019/01/03 22:56:00.432\n",
      "        :asn = 0\n",
      "        :loc = ??\n",
      "        :type = private\n",
      "inet:ipv4=192.168.0.167\n",
      "        .created = 2019/01/03 22:56:00.433\n",
      "        :asn = 0\n",
      "        :loc = ??\n",
      "        :type = private\n",
      "inet:ipv4=192.168.0.168\n",
      "        .created = 2019/01/03 22:56:00.434\n",
      "        :asn = 0\n",
      "        :loc = ??\n",
      "        :type = private\n",
      "inet:ipv4=192.168.0.169\n",
      "        .created = 2019/01/03 22:56:00.435\n",
      "        :asn = 0\n",
      "        :loc = ??\n",
      "        :type = private\n",
      "inet:ipv4=192.168.0.170\n",
      "        .created = 2019/01/03 22:56:00.436\n",
      "        :asn = 0\n",
      "        :loc = ??\n",
      "        :type = private\n",
      "inet:ipv4=192.168.0.171\n",
      "        .created = 2019/01/03 22:56:00.437\n",
      "        :asn = 0\n",
      "        :loc = ??\n",
      "        :type = private\n",
      "inet:ipv4=192.168.0.172\n",
      "        .created = 2019/01/03 22:56:00.438\n",
      "        :asn = 0\n",
      "        :loc = ??\n",
      "        :type = private\n",
      "inet:ipv4=192.168.0.173\n",
      "        .created = 2019/01/03 22:56:00.438\n",
      "        :asn = 0\n",
      "        :loc = ??\n",
      "        :type = private\n",
      "inet:ipv4=192.168.0.174\n",
      "        .created = 2019/01/03 22:56:00.440\n",
      "        :asn = 0\n",
      "        :loc = ??\n",
      "        :type = private\n",
      "inet:ipv4=192.168.0.175\n",
      "        .created = 2019/01/03 22:56:00.441\n",
      "        :asn = 0\n",
      "        :loc = ??\n",
      "        :type = private\n",
      "inet:ipv4=192.168.0.176\n",
      "        .created = 2019/01/03 22:56:00.443\n",
      "        :asn = 0\n",
      "        :loc = ??\n",
      "        :type = private\n",
      "inet:ipv4=192.168.0.177\n",
      "        .created = 2019/01/03 22:56:00.443\n",
      "        :asn = 0\n",
      "        :loc = ??\n",
      "        :type = private\n",
      "inet:ipv4=192.168.0.178\n",
      "        .created = 2019/01/03 22:56:00.447\n",
      "        :asn = 0\n",
      "        :loc = ??\n",
      "        :type = private\n",
      "inet:ipv4=192.168.0.179\n",
      "        .created = 2019/01/03 22:56:00.447\n",
      "        :asn = 0\n",
      "        :loc = ??\n",
      "        :type = private\n",
      "inet:ipv4=192.168.0.180\n",
      "        .created = 2019/01/03 22:56:00.451\n",
      "        :asn = 0\n",
      "        :loc = ??\n",
      "        :type = private\n",
      "inet:ipv4=192.168.0.181\n",
      "        .created = 2019/01/03 22:56:00.455\n",
      "        :asn = 0\n",
      "        :loc = ??\n",
      "        :type = private\n",
      "inet:ipv4=192.168.0.182\n",
      "        .created = 2019/01/03 22:56:00.459\n",
      "        :asn = 0\n",
      "        :loc = ??\n",
      "        :type = private\n",
      "inet:ipv4=192.168.0.183\n",
      "        .created = 2019/01/03 22:56:00.461\n",
      "        :asn = 0\n",
      "        :loc = ??\n",
      "        :type = private\n",
      "inet:ipv4=192.168.0.184\n",
      "        .created = 2019/01/03 22:56:00.464\n",
      "        :asn = 0\n",
      "        :loc = ??\n",
      "        :type = private\n",
      "inet:ipv4=192.168.0.185\n",
      "        .created = 2019/01/03 22:56:00.464\n",
      "        :asn = 0\n",
      "        :loc = ??\n",
      "        :type = private\n",
      "inet:ipv4=192.168.0.186\n",
      "        .created = 2019/01/03 22:56:00.466\n",
      "        :asn = 0\n",
      "        :loc = ??\n",
      "        :type = private\n",
      "inet:ipv4=192.168.0.187\n",
      "        .created = 2019/01/03 22:56:00.467\n",
      "        :asn = 0\n",
      "        :loc = ??\n",
      "        :type = private\n",
      "inet:ipv4=192.168.0.188\n",
      "        .created = 2019/01/03 22:56:00.468\n",
      "        :asn = 0\n",
      "        :loc = ??\n",
      "        :type = private\n",
      "inet:ipv4=192.168.0.189\n",
      "        .created = 2019/01/03 22:56:00.469\n",
      "        :asn = 0\n",
      "        :loc = ??\n",
      "        :type = private\n",
      "inet:ipv4=192.168.0.190\n",
      "        .created = 2019/01/03 22:56:00.471\n",
      "        :asn = 0\n",
      "        :loc = ??\n",
      "        :type = private\n",
      "inet:ipv4=192.168.0.191\n",
      "        .created = 2019/01/03 22:56:00.472\n",
      "        :asn = 0\n",
      "        :loc = ??\n",
      "        :type = private\n",
      "inet:ipv4=192.168.0.192\n",
      "        .created = 2019/01/03 22:56:00.473\n",
      "        :asn = 0\n",
      "        :loc = ??\n",
      "        :type = private\n",
      "inet:ipv4=192.168.0.193\n",
      "        .created = 2019/01/03 22:56:00.474\n",
      "        :asn = 0\n",
      "        :loc = ??\n",
      "        :type = private\n",
      "inet:ipv4=192.168.0.194\n",
      "        .created = 2019/01/03 22:56:00.475\n",
      "        :asn = 0\n",
      "        :loc = ??\n",
      "        :type = private\n",
      "inet:ipv4=192.168.0.195\n",
      "        .created = 2019/01/03 22:56:00.475\n",
      "        :asn = 0\n",
      "        :loc = ??\n",
      "        :type = private\n",
      "inet:ipv4=192.168.0.196\n",
      "        .created = 2019/01/03 22:56:00.476\n",
      "        :asn = 0\n",
      "        :loc = ??\n",
      "        :type = private\n",
      "inet:ipv4=192.168.0.197\n",
      "        .created = 2019/01/03 22:56:00.477\n",
      "        :asn = 0\n",
      "        :loc = ??\n",
      "        :type = private\n",
      "inet:ipv4=192.168.0.198\n",
      "        .created = 2019/01/03 22:56:00.480\n",
      "        :asn = 0\n",
      "        :loc = ??\n",
      "        :type = private\n",
      "inet:ipv4=192.168.0.199\n",
      "        .created = 2019/01/03 22:56:00.481\n",
      "        :asn = 0\n",
      "        :loc = ??\n",
      "        :type = private\n",
      "inet:ipv4=192.168.0.200\n",
      "        .created = 2019/01/03 22:56:00.483\n",
      "        :asn = 0\n",
      "        :loc = ??\n",
      "        :type = private\n",
      "inet:ipv4=192.168.0.201\n",
      "        .created = 2019/01/03 22:56:00.485\n",
      "        :asn = 0\n",
      "        :loc = ??\n",
      "        :type = private\n",
      "inet:ipv4=192.168.0.202\n",
      "        .created = 2019/01/03 22:56:00.486\n",
      "        :asn = 0\n",
      "        :loc = ??\n",
      "        :type = private\n",
      "inet:ipv4=192.168.0.203\n",
      "        .created = 2019/01/03 22:56:00.487\n",
      "        :asn = 0\n",
      "        :loc = ??\n",
      "        :type = private\n",
      "inet:ipv4=192.168.0.204\n",
      "        .created = 2019/01/03 22:56:00.488\n",
      "        :asn = 0\n",
      "        :loc = ??\n",
      "        :type = private\n",
      "inet:ipv4=192.168.0.205\n",
      "        .created = 2019/01/03 22:56:00.489\n",
      "        :asn = 0\n",
      "        :loc = ??\n",
      "        :type = private\n",
      "inet:ipv4=192.168.0.206\n",
      "        .created = 2019/01/03 22:56:00.490\n",
      "        :asn = 0\n",
      "        :loc = ??\n",
      "        :type = private\n",
      "inet:ipv4=192.168.0.207\n",
      "        .created = 2019/01/03 22:56:00.491\n",
      "        :asn = 0\n",
      "        :loc = ??\n",
      "        :type = private\n",
      "inet:ipv4=192.168.0.208\n",
      "        .created = 2019/01/03 22:56:00.492\n",
      "        :asn = 0\n",
      "        :loc = ??\n",
      "        :type = private\n",
      "inet:ipv4=192.168.0.209\n",
      "        .created = 2019/01/03 22:56:00.493\n",
      "        :asn = 0\n",
      "        :loc = ??\n",
      "        :type = private\n",
      "inet:ipv4=192.168.0.210\n",
      "        .created = 2019/01/03 22:56:00.494\n",
      "        :asn = 0\n",
      "        :loc = ??\n",
      "        :type = private\n",
      "inet:ipv4=192.168.0.211\n",
      "        .created = 2019/01/03 22:56:00.495\n",
      "        :asn = 0\n",
      "        :loc = ??\n",
      "        :type = private\n"
     ]
    },
    {
     "name": "stdout",
     "output_type": "stream",
     "text": [
      "inet:ipv4=192.168.0.212\n",
      "        .created = 2019/01/03 22:56:00.496\n",
      "        :asn = 0\n",
      "        :loc = ??\n",
      "        :type = private\n",
      "inet:ipv4=192.168.0.213\n",
      "        .created = 2019/01/03 22:56:00.497\n",
      "        :asn = 0\n",
      "        :loc = ??\n",
      "        :type = private\n",
      "inet:ipv4=192.168.0.214\n",
      "        .created = 2019/01/03 22:56:00.498\n",
      "        :asn = 0\n",
      "        :loc = ??\n",
      "        :type = private\n",
      "inet:ipv4=192.168.0.215\n",
      "        .created = 2019/01/03 22:56:00.499\n",
      "        :asn = 0\n",
      "        :loc = ??\n",
      "        :type = private\n",
      "inet:ipv4=192.168.0.216\n",
      "        .created = 2019/01/03 22:56:00.501\n",
      "        :asn = 0\n",
      "        :loc = ??\n",
      "        :type = private\n",
      "inet:ipv4=192.168.0.217\n",
      "        .created = 2019/01/03 22:56:00.502\n",
      "        :asn = 0\n",
      "        :loc = ??\n",
      "        :type = private\n",
      "inet:ipv4=192.168.0.218\n",
      "        .created = 2019/01/03 22:56:00.504\n",
      "        :asn = 0\n",
      "        :loc = ??\n",
      "        :type = private\n",
      "inet:ipv4=192.168.0.219\n",
      "        .created = 2019/01/03 22:56:00.504\n",
      "        :asn = 0\n",
      "        :loc = ??\n",
      "        :type = private\n",
      "inet:ipv4=192.168.0.220\n",
      "        .created = 2019/01/03 22:56:00.505\n",
      "        :asn = 0\n",
      "        :loc = ??\n",
      "        :type = private\n",
      "inet:ipv4=192.168.0.221\n",
      "        .created = 2019/01/03 22:56:00.506\n",
      "        :asn = 0\n",
      "        :loc = ??\n",
      "        :type = private\n",
      "inet:ipv4=192.168.0.222\n",
      "        .created = 2019/01/03 22:56:00.507\n",
      "        :asn = 0\n",
      "        :loc = ??\n",
      "        :type = private\n",
      "inet:ipv4=192.168.0.223\n",
      "        .created = 2019/01/03 22:56:00.508\n",
      "        :asn = 0\n",
      "        :loc = ??\n",
      "        :type = private\n",
      "inet:ipv4=192.168.0.224\n",
      "        .created = 2019/01/03 22:56:00.509\n",
      "        :asn = 0\n",
      "        :loc = ??\n",
      "        :type = private\n",
      "inet:ipv4=192.168.0.225\n",
      "        .created = 2019/01/03 22:56:00.510\n",
      "        :asn = 0\n",
      "        :loc = ??\n",
      "        :type = private\n",
      "inet:ipv4=192.168.0.226\n",
      "        .created = 2019/01/03 22:56:00.511\n",
      "        :asn = 0\n",
      "        :loc = ??\n",
      "        :type = private\n",
      "inet:ipv4=192.168.0.227\n",
      "        .created = 2019/01/03 22:56:00.512\n",
      "        :asn = 0\n",
      "        :loc = ??\n",
      "        :type = private\n",
      "inet:ipv4=192.168.0.228\n",
      "        .created = 2019/01/03 22:56:00.513\n",
      "        :asn = 0\n",
      "        :loc = ??\n",
      "        :type = private\n",
      "inet:ipv4=192.168.0.229\n",
      "        .created = 2019/01/03 22:56:00.514\n",
      "        :asn = 0\n",
      "        :loc = ??\n",
      "        :type = private\n",
      "inet:ipv4=192.168.0.230\n",
      "        .created = 2019/01/03 22:56:00.515\n",
      "        :asn = 0\n",
      "        :loc = ??\n",
      "        :type = private\n",
      "inet:ipv4=192.168.0.231\n",
      "        .created = 2019/01/03 22:56:00.515\n",
      "        :asn = 0\n",
      "        :loc = ??\n",
      "        :type = private\n",
      "inet:ipv4=192.168.0.232\n",
      "        .created = 2019/01/03 22:56:00.517\n",
      "        :asn = 0\n",
      "        :loc = ??\n",
      "        :type = private\n",
      "inet:ipv4=192.168.0.233\n",
      "        .created = 2019/01/03 22:56:00.517\n",
      "        :asn = 0\n",
      "        :loc = ??\n",
      "        :type = private\n",
      "inet:ipv4=192.168.0.234\n",
      "        .created = 2019/01/03 22:56:00.518\n",
      "        :asn = 0\n",
      "        :loc = ??\n",
      "        :type = private\n",
      "inet:ipv4=192.168.0.235\n",
      "        .created = 2019/01/03 22:56:00.519\n",
      "        :asn = 0\n",
      "        :loc = ??\n",
      "        :type = private\n",
      "inet:ipv4=192.168.0.236\n",
      "        .created = 2019/01/03 22:56:00.521\n",
      "        :asn = 0\n",
      "        :loc = ??\n",
      "        :type = private\n",
      "inet:ipv4=192.168.0.237\n",
      "        .created = 2019/01/03 22:56:00.521\n",
      "        :asn = 0\n",
      "        :loc = ??\n",
      "        :type = private\n",
      "inet:ipv4=192.168.0.238\n",
      "        .created = 2019/01/03 22:56:00.523\n",
      "        :asn = 0\n",
      "        :loc = ??\n",
      "        :type = private\n",
      "inet:ipv4=192.168.0.239\n",
      "        .created = 2019/01/03 22:56:00.524\n",
      "        :asn = 0\n",
      "        :loc = ??\n",
      "        :type = private\n",
      "inet:ipv4=192.168.0.240\n",
      "        .created = 2019/01/03 22:56:00.525\n",
      "        :asn = 0\n",
      "        :loc = ??\n",
      "        :type = private\n",
      "inet:ipv4=192.168.0.241\n",
      "        .created = 2019/01/03 22:56:00.526\n",
      "        :asn = 0\n",
      "        :loc = ??\n",
      "        :type = private\n",
      "inet:ipv4=192.168.0.242\n",
      "        .created = 2019/01/03 22:56:00.527\n",
      "        :asn = 0\n",
      "        :loc = ??\n",
      "        :type = private\n",
      "inet:ipv4=192.168.0.243\n",
      "        .created = 2019/01/03 22:56:00.528\n",
      "        :asn = 0\n",
      "        :loc = ??\n",
      "        :type = private\n",
      "inet:ipv4=192.168.0.244\n",
      "        .created = 2019/01/03 22:56:00.529\n",
      "        :asn = 0\n",
      "        :loc = ??\n",
      "        :type = private\n",
      "inet:ipv4=192.168.0.245\n",
      "        .created = 2019/01/03 22:56:00.529\n",
      "        :asn = 0\n",
      "        :loc = ??\n",
      "        :type = private\n",
      "inet:ipv4=192.168.0.246\n",
      "        .created = 2019/01/03 22:56:00.531\n",
      "        :asn = 0\n",
      "        :loc = ??\n",
      "        :type = private\n",
      "inet:ipv4=192.168.0.247\n",
      "        .created = 2019/01/03 22:56:00.531\n",
      "        :asn = 0\n",
      "        :loc = ??\n",
      "        :type = private\n",
      "inet:ipv4=192.168.0.248\n",
      "        .created = 2019/01/03 22:56:00.532\n",
      "        :asn = 0\n",
      "        :loc = ??\n",
      "        :type = private\n",
      "inet:ipv4=192.168.0.249\n",
      "        .created = 2019/01/03 22:56:00.533\n",
      "        :asn = 0\n",
      "        :loc = ??\n",
      "        :type = private\n",
      "inet:ipv4=192.168.0.250\n",
      "        .created = 2019/01/03 22:56:00.534\n",
      "        :asn = 0\n",
      "        :loc = ??\n",
      "        :type = private\n",
      "inet:ipv4=192.168.0.251\n",
      "        .created = 2019/01/03 22:56:00.534\n",
      "        :asn = 0\n",
      "        :loc = ??\n",
      "        :type = private\n",
      "inet:ipv4=192.168.0.252\n",
      "        .created = 2019/01/03 22:56:00.536\n",
      "        :asn = 0\n",
      "        :loc = ??\n",
      "        :type = private\n",
      "inet:ipv4=192.168.0.253\n",
      "        .created = 2019/01/03 22:56:00.537\n",
      "        :asn = 0\n",
      "        :loc = ??\n",
      "        :type = private\n",
      "inet:ipv4=192.168.0.254\n",
      "        .created = 2019/01/03 22:56:00.538\n",
      "        :asn = 0\n",
      "        :loc = ??\n",
      "        :type = private\n",
      "inet:ipv4=192.168.0.255\n",
      "        .created = 2019/01/03 22:56:00.539\n",
      "        :asn = 0\n",
      "        :loc = ??\n",
      "        :type = private\n",
      "complete. 256 nodes in 386 ms (663/sec).\n"
     ]
    }
   ],
   "source": [
    "# Make some IPs:\n",
    "q = '[inet:ipv4=192.168.0.0/24]'\n",
    "# Execute query and test\n",
    "podes = await core.eval(q, num=256, cmdr=True)"
   ]
  },
  {
   "cell_type": "code",
   "execution_count": 62,
   "metadata": {
    "hideCode": true
   },
   "outputs": [
    {
     "name": "stdout",
     "output_type": "stream",
     "text": [
      "<query> +inet:ipv4*range=(192.168.0.0, 192.168.0.10)\n"
     ]
    }
   ],
   "source": [
    "# Define and print test query\n",
    "q = '<query> '\n",
    "q1 = 'inet:ipv4 '\n",
    "q2 = '+inet:ipv4*range=(192.168.0.0, 192.168.0.10)'\n",
    "print(q + q2)\n",
    "# Execute the query to test it and get the packed nodes (podes).\n",
    "podes = await core.eval(q1 + q2, num=11, cmdr=False)"
   ]
  },
  {
   "cell_type": "raw",
   "metadata": {},
   "source": [
    "*Filter by secondary property in range:*\n",
    "\n",
    "- Downselect to include files whose size in bytes is within the specified range:"
   ]
  },
  {
   "cell_type": "code",
   "execution_count": 63,
   "metadata": {
    "hideCode": true,
    "hideOutput": true,
    "scrolled": true
   },
   "outputs": [
    {
     "name": "stdout",
     "output_type": "stream",
     "text": [
      "cli> storm [file:bytes=sha256:809fa843160f6d4d7fca42ec1edfc1dd5dc1eef79f85cacc93bf20a69187c51c :size=1024]\n",
      "\n",
      "file:bytes=sha256:809fa843160f6d4d7fca42ec1edfc1dd5dc1eef79f85cacc93bf20a69187c51c\n",
      "        .created = 2019/01/03 22:56:00.597\n",
      "        :mime = ??\n",
      "        :sha256 = 809fa843160f6d4d7fca42ec1edfc1dd5dc1eef79f85cacc93bf20a69187c51c\n",
      "        :size = 1024\n",
      "complete. 1 nodes in 10 ms (100/sec).\n",
      "cli> storm [file:bytes=sha256:36a9e7f1c95b82ffb99743e0c5c4ce95d83c9a430aac59f84ef3cbfab6145068 :size=1]\n",
      "\n",
      "file:bytes=sha256:36a9e7f1c95b82ffb99743e0c5c4ce95d83c9a430aac59f84ef3cbfab6145068\n",
      "        .created = 2019/01/03 22:56:00.613\n",
      "        :mime = ??\n",
      "        :sha256 = 36a9e7f1c95b82ffb99743e0c5c4ce95d83c9a430aac59f84ef3cbfab6145068\n",
      "        :size = 1\n",
      "complete. 1 nodes in 6 ms (166/sec).\n",
      "cli> storm [file:bytes=sha256:ee5629ad60b1f2645144efff4e919e371fcbd51df0edb803a342b0cf57cddce7 :size=65001]\n",
      "\n",
      "file:bytes=sha256:ee5629ad60b1f2645144efff4e919e371fcbd51df0edb803a342b0cf57cddce7\n",
      "        .created = 2019/01/03 22:56:00.625\n",
      "        :mime = ??\n",
      "        :sha256 = ee5629ad60b1f2645144efff4e919e371fcbd51df0edb803a342b0cf57cddce7\n",
      "        :size = 65001\n",
      "complete. 1 nodes in 7 ms (142/sec).\n",
      "cli> storm [file:bytes=sha256:e708cd312b2b87c6ecc62fe2d33071380a90e60f6f98cf37f1e178127d2c3241 :size=100002]\n",
      "\n",
      "file:bytes=sha256:e708cd312b2b87c6ecc62fe2d33071380a90e60f6f98cf37f1e178127d2c3241\n",
      "        .created = 2019/01/03 22:56:00.636\n",
      "        :mime = ??\n",
      "        :sha256 = e708cd312b2b87c6ecc62fe2d33071380a90e60f6f98cf37f1e178127d2c3241\n",
      "        :size = 100002\n",
      "complete. 1 nodes in 6 ms (166/sec).\n"
     ]
    }
   ],
   "source": [
    "# Make some files\n",
    "q = '[file:bytes=sha256:809fa843160f6d4d7fca42ec1edfc1dd5dc1eef79f85cacc93bf20a69187c51c :size=1024]'\n",
    "q1 = '[file:bytes=sha256:36a9e7f1c95b82ffb99743e0c5c4ce95d83c9a430aac59f84ef3cbfab6145068 :size=1]'\n",
    "q2 = '[file:bytes=sha256:ee5629ad60b1f2645144efff4e919e371fcbd51df0edb803a342b0cf57cddce7 :size=65001]'\n",
    "q3 = '[file:bytes=sha256:e708cd312b2b87c6ecc62fe2d33071380a90e60f6f98cf37f1e178127d2c3241 :size=100002]'\n",
    "# Execute query and test\n",
    "podes = await core.eval(q, num=1, cmdr=True)\n",
    "podes = await core.eval(q1, num=1, cmdr=True)\n",
    "podes = await core.eval(q2, num=1, cmdr=True)\n",
    "podes = await core.eval(q3, num=1, cmdr=True)"
   ]
  },
  {
   "cell_type": "code",
   "execution_count": 64,
   "metadata": {
    "hideCode": true
   },
   "outputs": [
    {
     "name": "stdout",
     "output_type": "stream",
     "text": [
      "<query> +file:bytes:size*range=(1000, 100000)\n"
     ]
    }
   ],
   "source": [
    "# Define and print test query\n",
    "q = '<query> '\n",
    "q1 = 'file:bytes '\n",
    "q2 = '+file:bytes:size*range=(1000, 100000)'\n",
    "print(q + q2)\n",
    "# Execute the query to test it and get the packed nodes (podes).\n",
    "podes = await core.eval(q1 + q2, num=2, cmdr=False)"
   ]
  },
  {
   "cell_type": "code",
   "execution_count": 65,
   "metadata": {
    "hideCode": true
   },
   "outputs": [
    {
     "name": "stdout",
     "output_type": "stream",
     "text": [
      "<query> +:size*range=(1000, 100000)\n"
     ]
    }
   ],
   "source": [
    "# Define and print test query\n",
    "q = '<query> '\n",
    "q1 = 'file:bytes '\n",
    "q2 = '+:size*range=(1000, 100000)'\n",
    "print(q + q2)\n",
    "# Execute the query to test it and get the packed nodes (podes).\n",
    "podes = await core.eval(q1 + q2, num=2, cmdr=False)"
   ]
  },
  {
   "cell_type": "raw",
   "metadata": {},
   "source": [
    "- Downselect to include WHOIS records that were captured between the specified dates:"
   ]
  },
  {
   "cell_type": "code",
   "execution_count": 66,
   "metadata": {
    "hideCode": true
   },
   "outputs": [
    {
     "name": "stdout",
     "output_type": "stream",
     "text": [
      "<query> +inet:whois:rec:asof*range=(2013/11/29, 2016/06/14)\n"
     ]
    }
   ],
   "source": [
    "# Use WHOIS records created previously\n",
    "# Define and print test query\n",
    "q = '<query> '\n",
    "q1 = 'inet:whois:rec '\n",
    "q2 = '+inet:whois:rec:asof*range=(2013/11/29, 2016/06/14)'\n",
    "print(q + q2)\n",
    "# Execute the query to test it and get the packed nodes (podes).\n",
    "podes = await core.eval(q1 + q2, num=1, cmdr=False)"
   ]
  },
  {
   "cell_type": "code",
   "execution_count": 67,
   "metadata": {
    "hideCode": true
   },
   "outputs": [
    {
     "name": "stdout",
     "output_type": "stream",
     "text": [
      "<query> +:asof*range=(2013/11/29, 2016/06/14)\n"
     ]
    }
   ],
   "source": [
    "# Use WHOIS records created previously\n",
    "# Define and print test query\n",
    "q = '<query> '\n",
    "q1 = 'inet:whois:rec '\n",
    "q2 = '+:asof*range=(2013/11/29, 2016/06/14)'\n",
    "print(q + q2)\n",
    "# Execute the query to test it and get the packed nodes (podes).\n",
    "podes = await core.eval(q1 + q2, num=1, cmdr=False)"
   ]
  },
  {
   "cell_type": "raw",
   "metadata": {},
   "source": [
    "**Usage Notes:**\n",
    "\n",
    "- When specifying a range (``*range=``), both the minimum and maximum values are **included** in the range (the equivalent of “greater than or equal to *<min>* and less than or equal to *<max>*”). This behavior is slightly different than that for time interval (``@=``), which includes the minimum but not the maximum.\n",
    "- Currently, ``*range=`` supports the use of relative times (``\"+1 day\"``, ``\"-6 hours\"``) as parameters (i.e., Storm will accept those parameters without throwing an error). However, for the ``*range=`` extended operator specifically, relative times are currently normed relative to ``now`` - so ``\"+1 day\"`` is normed as ``now +1 day``, which may return undesirable results. We recommend against using relative times with ``*range=`` until this is addressed.\n",
    "\n",
    "Filter by Set Membership (*in=)\n",
    "+++++++++++++++++++++++++++++++\n",
    "\n",
    "The set membership extended comparator (``*in=``) supports filtering nodes whose *<form> = <valu>* or *<prop> = <pval>* matches any of a set of specified values. The comparator can be used with any type.\n",
    "\n",
    "**Syntax:**\n",
    "\n",
    "*<query>* **+** | **-** *<form>* | *<prop>* ***in = (** *<set_1>* **,** *<set_2>* **,** ... **)**\n",
    "\n",
    "**Examples:**\n",
    "\n",
    "*Filter by primary property in set:*\n",
    "\n",
    "- Downselect to include IP addresses matching any of the specified values:\n"
   ]
  },
  {
   "cell_type": "code",
   "execution_count": 68,
   "metadata": {
    "hideCode": true,
    "scrolled": true
   },
   "outputs": [
    {
     "name": "stdout",
     "output_type": "stream",
     "text": [
      "cli> storm [inet:ipv4=127.0.0.1 inet:ipv4=192.168.0.100 inet:ipv4=255.255.255.254]\n",
      "\n",
      "inet:ipv4=127.0.0.1\n",
      "        .created = 2019/01/03 22:56:00.767\n",
      "        :asn = 0\n",
      "        :loc = ??\n",
      "        :type = loopback\n",
      "inet:ipv4=192.168.0.100\n",
      "        .created = 2019/01/03 22:56:00.305\n",
      "        :asn = 0\n",
      "        :loc = ??\n",
      "        :type = private\n",
      "inet:ipv4=255.255.255.254\n",
      "        .created = 2019/01/03 22:56:00.768\n",
      "        :asn = 0\n",
      "        :loc = ??\n",
      "        :type = private\n",
      "complete. 3 nodes in 10 ms (300/sec).\n"
     ]
    }
   ],
   "source": [
    "# Make some moar IPs\n",
    "q = '[inet:ipv4=127.0.0.1 inet:ipv4=192.168.0.100 inet:ipv4=255.255.255.254]'\n",
    "# Execute query and test\n",
    "podes = await core.eval(q, num=3, cmdr=True)"
   ]
  },
  {
   "cell_type": "code",
   "execution_count": 69,
   "metadata": {
    "hideCode": true
   },
   "outputs": [
    {
     "name": "stdout",
     "output_type": "stream",
     "text": [
      "<query> +inet:ipv4*in=(127.0.0.1, 192.168.0.100, 255.255.255.254)\n"
     ]
    }
   ],
   "source": [
    "# Define and print test query\n",
    "q = '<query> '\n",
    "q1 = 'inet:ipv4 '\n",
    "q2 = '+inet:ipv4*in=(127.0.0.1, 192.168.0.100, 255.255.255.254)'\n",
    "print(q + q2)\n",
    "# Execute the query to test it and get the packed nodes (podes).\n",
    "podes = await core.eval(q1 + q2, num=3, cmdr=False)"
   ]
  },
  {
   "cell_type": "raw",
   "metadata": {},
   "source": [
    "*Filter by secondary property in set:*\n",
    "\n",
    "- Downselect to include files whose size in bytes matches any of the specified values:"
   ]
  },
  {
   "cell_type": "code",
   "execution_count": 70,
   "metadata": {
    "hideCode": true,
    "hideOutput": true
   },
   "outputs": [
    {
     "name": "stdout",
     "output_type": "stream",
     "text": [
      "cli> storm [file:bytes=sha256:68168583a7778d3c8512f8d6ae47a44618c58537dd5af8eff7da41da0c000c0c :size=4096]\n",
      "\n",
      "file:bytes=sha256:68168583a7778d3c8512f8d6ae47a44618c58537dd5af8eff7da41da0c000c0c\n",
      "        .created = 2019/01/03 22:56:00.869\n",
      "        :mime = ??\n",
      "        :sha256 = 68168583a7778d3c8512f8d6ae47a44618c58537dd5af8eff7da41da0c000c0c\n",
      "        :size = 4096\n",
      "complete. 1 nodes in 8 ms (125/sec).\n",
      "cli> storm [file:bytes=sha256:0a040124ffeccf0031369c57ca7b1dd70f61c71d9b10710bdc6adb53d0eefd81 :size=16384]\n",
      "\n",
      "file:bytes=sha256:0a040124ffeccf0031369c57ca7b1dd70f61c71d9b10710bdc6adb53d0eefd81\n",
      "        .created = 2019/01/03 22:56:00.887\n",
      "        :mime = ??\n",
      "        :sha256 = 0a040124ffeccf0031369c57ca7b1dd70f61c71d9b10710bdc6adb53d0eefd81\n",
      "        :size = 16384\n",
      "complete. 1 nodes in 10 ms (100/sec).\n",
      "cli> storm [file:bytes=sha256:2e248baca79a14f6a62a6bb962a68f7b6f1dfea4641beb39f8e7f0ec5bb47e36 :size=65536]\n",
      "\n",
      "file:bytes=sha256:2e248baca79a14f6a62a6bb962a68f7b6f1dfea4641beb39f8e7f0ec5bb47e36\n",
      "        .created = 2019/01/03 22:56:00.902\n",
      "        :mime = ??\n",
      "        :sha256 = 2e248baca79a14f6a62a6bb962a68f7b6f1dfea4641beb39f8e7f0ec5bb47e36\n",
      "        :size = 65536\n",
      "complete. 1 nodes in 6 ms (166/sec).\n"
     ]
    }
   ],
   "source": [
    "# Make some files\n",
    "q = '[file:bytes=sha256:68168583a7778d3c8512f8d6ae47a44618c58537dd5af8eff7da41da0c000c0c :size=4096]'\n",
    "q1 = '[file:bytes=sha256:0a040124ffeccf0031369c57ca7b1dd70f61c71d9b10710bdc6adb53d0eefd81 :size=16384]'\n",
    "q2 = '[file:bytes=sha256:2e248baca79a14f6a62a6bb962a68f7b6f1dfea4641beb39f8e7f0ec5bb47e36 :size=65536]'\n",
    "# Execute query and test\n",
    "podes = await core.eval(q, num=1, cmdr=True)\n",
    "podes = await core.eval(q1, num=1, cmdr=True)\n",
    "podes = await core.eval(q2, num=1, cmdr=True)"
   ]
  },
  {
   "cell_type": "code",
   "execution_count": 71,
   "metadata": {
    "hideCode": true
   },
   "outputs": [
    {
     "name": "stdout",
     "output_type": "stream",
     "text": [
      "<query> +file:bytes:size*in=(4096, 16384, 65536)\n"
     ]
    }
   ],
   "source": [
    "# Define and print test query\n",
    "q = '<query> '\n",
    "q1 = 'file:bytes '\n",
    "q2 = '+file:bytes:size*in=(4096, 16384, 65536)'\n",
    "print(q + q2)\n",
    "# Execute the query to test it and get the packed nodes (podes).\n",
    "podes = await core.eval(q1 + q2, num=3, cmdr=False)"
   ]
  },
  {
   "cell_type": "code",
   "execution_count": 72,
   "metadata": {
    "hideCode": true
   },
   "outputs": [
    {
     "name": "stdout",
     "output_type": "stream",
     "text": [
      "<query> +:size*in=(4096, 16384, 65536)\n"
     ]
    }
   ],
   "source": [
    "# Define and print test query\n",
    "q = '<query> '\n",
    "q1 = 'file:bytes '\n",
    "q2 = '+:size*in=(4096, 16384, 65536)'\n",
    "print(q + q2)\n",
    "# Execute the query to test it and get the packed nodes (podes).\n",
    "podes = await core.eval(q1 + q2, num=3, cmdr=False)"
   ]
  },
  {
   "cell_type": "raw",
   "metadata": {},
   "source": [
    "- Downselect to exclude tags that end in ``foo``, ``bar``, or ``baz``:"
   ]
  },
  {
   "cell_type": "code",
   "execution_count": 73,
   "metadata": {
    "hideCode": true,
    "hideOutput": true
   },
   "outputs": [
    {
     "name": "stdout",
     "output_type": "stream",
     "text": [
      "cli> storm [syn:tag=aaa.foo syn:tag=aaa.foo.bar syn:tag=bbb.ccc.baz syn:tag=aaa.foo.hurr syn:tag=ddd.derp]\n",
      "\n",
      "syn:tag=aaa.foo\n",
      "        .created = 2019/01/03 22:56:00.957\n",
      "        :base = foo\n",
      "        :depth = 1\n",
      "        :doc = \n",
      "        :title = \n",
      "        :up = aaa\n",
      "syn:tag=aaa.foo.bar\n",
      "        .created = 2019/01/03 22:56:00.958\n",
      "        :base = bar\n",
      "        :depth = 2\n",
      "        :doc = \n",
      "        :title = \n",
      "        :up = aaa.foo\n",
      "syn:tag=bbb.ccc.baz\n",
      "        .created = 2019/01/03 22:56:00.960\n",
      "        :base = baz\n",
      "        :depth = 2\n",
      "        :doc = \n",
      "        :title = \n",
      "        :up = bbb.ccc\n",
      "syn:tag=aaa.foo.hurr\n",
      "        .created = 2019/01/03 22:56:00.962\n",
      "        :base = hurr\n",
      "        :depth = 2\n",
      "        :doc = \n",
      "        :title = \n",
      "        :up = aaa.foo\n",
      "syn:tag=ddd.derp\n",
      "        .created = 2019/01/03 22:56:00.964\n",
      "        :base = derp\n",
      "        :depth = 1\n",
      "        :doc = \n",
      "        :title = \n",
      "        :up = ddd\n",
      "complete. 5 nodes in 17 ms (294/sec).\n"
     ]
    }
   ],
   "source": [
    "# Make some tags\n",
    "q = '[syn:tag=aaa.foo syn:tag=aaa.foo.bar syn:tag=bbb.ccc.baz syn:tag=aaa.foo.hurr syn:tag=ddd.derp]'\n",
    "# Execute query and test\n",
    "podes = await core.eval(q, num=5, cmdr=True)"
   ]
  },
  {
   "cell_type": "code",
   "execution_count": 74,
   "metadata": {
    "hideCode": true
   },
   "outputs": [
    {
     "name": "stdout",
     "output_type": "stream",
     "text": [
      "<query> -syn:tag:base*in=(foo, bar, baz)\n"
     ]
    }
   ],
   "source": [
    "# Define and print test query\n",
    "# There are other tags already in the system so num=10\n",
    "q = '<query> '\n",
    "q1 = 'syn:tag '\n",
    "q2 = '-syn:tag:base*in=(foo, bar, baz)'\n",
    "print(q + q2)\n",
    "# Execute the query to test it and get the packed nodes (podes).\n",
    "podes = await core.eval(q1 + q2, num=10, cmdr=False)"
   ]
  },
  {
   "cell_type": "code",
   "execution_count": 75,
   "metadata": {
    "hideCode": true
   },
   "outputs": [
    {
     "name": "stdout",
     "output_type": "stream",
     "text": [
      "<query> -:base*in=(foo, bar, baz)\n"
     ]
    }
   ],
   "source": [
    "# Define and print test query\n",
    "# There are other tags already in the system so num=10\n",
    "q = '<query> '\n",
    "q1 = 'syn:tag '\n",
    "q2 = '-:base*in=(foo, bar, baz)'\n",
    "print(q + q2)\n",
    "# Execute the query to test it and get the packed nodes (podes).\n",
    "podes = await core.eval(q1 + q2, num=10, cmdr=False)"
   ]
  },
  {
   "cell_type": "raw",
   "metadata": {},
   "source": [
    "Filter by Proximity (*near=)\n",
    "++++++++++++++++++++++++++++\n",
    "\n",
    "The proximity extended comparator (``*near=``) supports filtering nodes by \"nearness\" to another node based on a specified property type. Currently, ``*near=`` supports proximity based on geospatial location (that is, nodes within a given radius of a specified latitude / longitude).\n",
    "\n",
    "**Syntax:**\n",
    "\n",
    "*<query>* **+** | **-** *<form>* | *<prop>* ***near = ((** *<lat>* **,** *<long>* **),** *<radius>* **)**\n",
    "\n",
    "**Examples:**\n",
    "\n",
    "*Filter by proximity:*\n",
    "\n",
    "- Downselect to include only Foo Corporation offices within 1km of a specific coffee shop:\n"
   ]
  },
  {
   "cell_type": "code",
   "execution_count": 76,
   "metadata": {
    "hideCode": true,
    "hideOutput": true,
    "scrolled": true
   },
   "outputs": [
    {
     "name": "stdout",
     "output_type": "stream",
     "text": [
      "cli> storm [geo:place=\"*\" :name=\"US Social Security Administration\" :latlong=\"47.60501254,-122.33426462\"]\n",
      "\n",
      "geo:place=72a0ce67f3b83152dfa126da87d83dd8\n",
      "        .created = 2019/01/03 22:56:01.014\n",
      "        :latlong = 47.60501254,-122.33426462\n",
      "        :name = us social security administration\n",
      "complete. 1 nodes in 8 ms (125/sec).\n",
      "cli> storm [geo:place=\"*\" :name=\"Seattle University\" :latlong=\"47.60837612,-122.31441833\"]\n",
      "\n",
      "geo:place=23ad2a4d377280046e11e87b2f64f53d\n",
      "        .created = 2019/01/03 22:56:01.026\n",
      "        :latlong = 47.60837612,-122.31441833\n",
      "        :name = seattle university\n",
      "complete. 1 nodes in 6 ms (166/sec).\n"
     ]
    }
   ],
   "source": [
    "# Make some geo:place nodes\n",
    "q = '[geo:place=\"*\" :name=\"US Social Security Administration\" :latlong=\"47.60501254,-122.33426462\"]'\n",
    "q1 = '[geo:place=\"*\" :name=\"Seattle University\" :latlong=\"47.60837612,-122.31441833\"]'\n",
    "# Execute query and test\n",
    "podes = await core.eval(q, num=1, cmdr=True)\n",
    "podes = await core.eval(q1, num=1, cmdr=True)"
   ]
  },
  {
   "cell_type": "code",
   "execution_count": 77,
   "metadata": {
    "hideCode": true
   },
   "outputs": [
    {
     "name": "stdout",
     "output_type": "stream",
     "text": [
      "<query> +geo:place:latlong*near=((47.6050632,-122.3339756),1km)\n"
     ]
    }
   ],
   "source": [
    "# Define and print test query\n",
    "q = '<query> '\n",
    "q1 = 'geo:place '\n",
    "q2 = '+geo:place:latlong*near=((47.6050632,-122.3339756),1km)'\n",
    "print(q + q2)\n",
    "# Execute the query to test it and get the packed nodes (podes).\n",
    "podes = await core.eval(q1 + q2, num=1, cmdr=False)"
   ]
  },
  {
   "cell_type": "code",
   "execution_count": 78,
   "metadata": {
    "hideCode": true
   },
   "outputs": [
    {
     "name": "stdout",
     "output_type": "stream",
     "text": [
      "<query> +:latlong*near=((47.6050632,-122.3339756),1km)\n"
     ]
    }
   ],
   "source": [
    "# Define and print test query\n",
    "q = '<query> '\n",
    "q1 = 'geo:place '\n",
    "q2 = '+:latlong*near=((47.6050632,-122.3339756),1km)'\n",
    "print(q + q2)\n",
    "# Execute the query to test it and get the packed nodes (podes).\n",
    "podes = await core.eval(q1 + q2, num=1, cmdr=False)"
   ]
  },
  {
   "cell_type": "raw",
   "metadata": {},
   "source": [
    "**Usage Notes:**\n",
    "\n",
    "- In the example above, the latitude and longitude of the desired location (i.e., the coffee shop) are explicitly specified as parameters to ``*near=``.\n",
    "- Radius can be specified in the following metric units. Values of less than 1 (e.g., 0.5km) must be specified with a leading zero:\n",
    "\n",
    "  - Kilometers (km)\n",
    "  - Meters (m)\n",
    "  - Centimeters (cm)\n",
    "  - Millimeters (mm)\n",
    "\n",
    "- The ``*near=`` comparator works by identifying nodes within a square bounding box centered at *<lat>, <long>*, then filters the nodes to be returned by ensuring that they are within the great-circle distance given by the *<radius>* argument.\n",
    "\n",
    "Filter by Tag (#)\n",
    "+++++++++++++++++\n",
    "\n",
    "The tag extended comparator (``#``) supports filtering nodes based on a given tag being applied to the node.\n",
    "\n",
    "**Syntax:**\n",
    "\n",
    "*<query>* **+** | **-** **#** *<tag>*\n",
    "\n",
    "**Examples:**\n",
    "\n",
    "- Downselect to include only nodes that FireEye says are part of the GREENCAT malware family:\n"
   ]
  },
  {
   "cell_type": "code",
   "execution_count": 79,
   "metadata": {
    "hideCode": true,
    "hideOutput": true
   },
   "outputs": [
    {
     "name": "stdout",
     "output_type": "stream",
     "text": [
      "cli> storm [file:bytes=sha256:da48960557dfa3aa41b09be150ce662daeb38133d981baea15bbac02fdd9aeeb +#aka.feye.mal.greencat]\n",
      "\n",
      "file:bytes=sha256:da48960557dfa3aa41b09be150ce662daeb38133d981baea15bbac02fdd9aeeb\n",
      "        .created = 2019/01/03 22:56:01.068\n",
      "        :mime = ??\n",
      "        :sha256 = da48960557dfa3aa41b09be150ce662daeb38133d981baea15bbac02fdd9aeeb\n",
      "        #aka.feye.mal.greencat\n",
      "complete. 1 nodes in 11 ms (90/sec).\n",
      "cli> storm [file:bytes=sha256:efce8c3f7dd1ee2b6c40fd84909e5d423bd75a908b546fdba7ef73480eea2871 +#aka.feye.mal.greencat]\n",
      "\n",
      "file:bytes=sha256:efce8c3f7dd1ee2b6c40fd84909e5d423bd75a908b546fdba7ef73480eea2871\n",
      "        .created = 2019/01/03 22:56:01.084\n",
      "        :mime = ??\n",
      "        :sha256 = efce8c3f7dd1ee2b6c40fd84909e5d423bd75a908b546fdba7ef73480eea2871\n",
      "        #aka.feye.mal.greencat\n",
      "complete. 1 nodes in 10 ms (100/sec).\n",
      "cli> storm [file:bytes=sha256:4b1a437fbe161b0f1dd4d9eca647b4b82f89e810f6eedef0c4f9176c89d0fea6 +#aka.feye.mal.greencat]\n",
      "\n",
      "file:bytes=sha256:4b1a437fbe161b0f1dd4d9eca647b4b82f89e810f6eedef0c4f9176c89d0fea6\n",
      "        .created = 2019/01/03 22:56:01.098\n",
      "        :mime = ??\n",
      "        :sha256 = 4b1a437fbe161b0f1dd4d9eca647b4b82f89e810f6eedef0c4f9176c89d0fea6\n",
      "        #aka.feye.mal.greencat\n",
      "complete. 1 nodes in 7 ms (142/sec).\n"
     ]
    }
   ],
   "source": [
    "# Make some tagged file nodes\n",
    "q = '[file:bytes=sha256:da48960557dfa3aa41b09be150ce662daeb38133d981baea15bbac02fdd9aeeb +#aka.feye.mal.greencat]'\n",
    "q1 = '[file:bytes=sha256:efce8c3f7dd1ee2b6c40fd84909e5d423bd75a908b546fdba7ef73480eea2871 +#aka.feye.mal.greencat]'\n",
    "q2 = '[file:bytes=sha256:4b1a437fbe161b0f1dd4d9eca647b4b82f89e810f6eedef0c4f9176c89d0fea6 +#aka.feye.mal.greencat]'\n",
    "# Execute query and test\n",
    "podes = await core.eval(q, num=1, cmdr=True)\n",
    "podes = await core.eval(q1, num=1, cmdr=True)\n",
    "podes = await core.eval(q2, num=1, cmdr=True)"
   ]
  },
  {
   "cell_type": "code",
   "execution_count": 80,
   "metadata": {
    "hideCode": true
   },
   "outputs": [
    {
     "name": "stdout",
     "output_type": "stream",
     "text": [
      "<query> +#aka.feye.mal.greencat\n"
     ]
    }
   ],
   "source": [
    "# Define and print test query\n",
    "q = '<query> '\n",
    "q1 = 'file:bytes '\n",
    "q2 = '+#aka.feye.mal.greencat'\n",
    "print(q + q2)\n",
    "# Execute the query to test it and get the packed nodes (podes).\n",
    "podes = await core.eval(q1 + q2, num=3, cmdr=False)"
   ]
  },
  {
   "cell_type": "raw",
   "metadata": {},
   "source": [
    "- Downselect to exclude nodes tagged as sinkholes:"
   ]
  },
  {
   "cell_type": "code",
   "execution_count": 81,
   "metadata": {
    "hideCode": true,
    "hideOutput": true,
    "scrolled": true
   },
   "outputs": [
    {
     "name": "stdout",
     "output_type": "stream",
     "text": [
      "cli> storm [inet:fqdn=unwashedsound.com inet:fqdn=korfilms.com inet:fqdn=bls00m.org +#cno.infra.sink.hole]\n",
      "\n",
      "inet:fqdn=unwashedsound.com\n",
      "        .created = 2019/01/03 22:56:01.127\n",
      "        :domain = com\n",
      "        :host = unwashedsound\n",
      "        :issuffix = False\n",
      "        :iszone = True\n",
      "        :zone = unwashedsound.com\n",
      "        #cno.infra.sink.hole\n",
      "inet:fqdn=korfilms.com\n",
      "        .created = 2019/01/03 22:56:01.130\n",
      "        :domain = com\n",
      "        :host = korfilms\n",
      "        :issuffix = False\n",
      "        :iszone = True\n",
      "        :zone = korfilms.com\n",
      "        #cno.infra.sink.hole\n",
      "inet:fqdn=bls00m.org\n",
      "        .created = 2019/01/03 22:56:01.135\n",
      "        :domain = org\n",
      "        :host = bls00m\n",
      "        :issuffix = False\n",
      "        :iszone = True\n",
      "        :zone = bls00m.org\n",
      "        #cno.infra.sink.hole\n",
      "complete. 3 nodes in 17 ms (176/sec).\n"
     ]
    }
   ],
   "source": [
    "# Make some tagged nodes\n",
    "q = '[inet:fqdn=unwashedsound.com inet:fqdn=korfilms.com inet:fqdn=bls00m.org +#cno.infra.sink.hole]'\n",
    "# Execute query and test\n",
    "podes = await core.eval(q, num=3, cmdr=True)"
   ]
  },
  {
   "cell_type": "code",
   "execution_count": 82,
   "metadata": {
    "hideCode": true
   },
   "outputs": [
    {
     "name": "stdout",
     "output_type": "stream",
     "text": [
      "<query> -#cno.infra.sink.hole\n"
     ]
    }
   ],
   "source": [
    "# Define and print test query\n",
    "q = '<query> '\n",
    "q1 = 'inet:fqdn '\n",
    "q2 = '-#cno.infra.sink.hole'\n",
    "print(q + q2)\n",
    "# Execute the query to test it and get the packed nodes (podes).\n",
    "podes = await core.eval(q1 + q2, num=14, cmdr=False)"
   ]
  },
  {
   "cell_type": "raw",
   "metadata": {},
   "source": [
    "**Usage Notes:**\n",
    "\n",
    "- When filtering by tag, only a single tag can be specified. To filter on multiple tags, use `Compound Filters`_.\n"
   ]
  },
  {
   "cell_type": "code",
   "execution_count": 83,
   "metadata": {
    "hideCode": true,
    "hideOutput": true
   },
   "outputs": [
    {
     "data": {
      "text/plain": [
       "0"
      ]
     },
     "execution_count": 83,
     "metadata": {},
     "output_type": "execute_result"
    }
   ],
   "source": [
    "# Close cortex because done\n",
    "await core.fini()"
   ]
  },
  {
   "cell_type": "code",
   "execution_count": 84,
   "metadata": {
    "hideCode": true,
    "hideOutput": false
   },
   "outputs": [],
   "source": [
    "import os, sys\n",
    "try:\n",
    "    from synapse.lib.jupyter import *\n",
    "except ImportError as e:\n",
    "    # Insert the root path of the repository to sys.path.\n",
    "    # This assumes the notebook is located three directories away\n",
    "    # From the root synapse directory. It may need to be varied\n",
    "    synroot = os.path.abspath('../../../')\n",
    "    sys.path.insert(0, synroot)\n",
    "    from synapse.lib.jupyter import *"
   ]
  },
  {
   "cell_type": "raw",
   "metadata": {},
   "source": [
    "Compound Filters\n",
    "----------------\n",
    "\n",
    "Storm allows the use of the logical operators **and**, **or**, and **not** (including **and not**) to construct compound filters. Parentheses can be used to group portions of the filter statement to indicate order of precedence and clarify logical operations when evaluating the filter.\n",
    "\n",
    "**Syntax:**\n",
    "\n",
    "*<query>* **+** | **-** **(** *<filter>* **and** | **or** | **not** | **and not** ... **)**\n",
    "\n",
    "**Examples:**\n",
    "\n",
    "- Downselect to exclude files that are less than or equal to 16384 bytes in size and were compiled prior to January 1, 2014:\n"
   ]
  },
  {
   "cell_type": "code",
   "execution_count": 85,
   "metadata": {
    "hideCode": true,
    "hideOutput": true,
    "scrolled": true
   },
   "outputs": [
    {
     "name": "stdout",
     "output_type": "stream",
     "text": [
      "cli> storm [file:bytes=sha256:ae086350239380f56470c19d6a200f7d251c7422c7bc5ce74730ee8bab8e6283 :size=16384 :mime:pe:compiled=\"2016/02/04 13:45:39.000\"]\n",
      "\n",
      "file:bytes=sha256:ae086350239380f56470c19d6a200f7d251c7422c7bc5ce74730ee8bab8e6283\n",
      "        .created = 2019/01/03 22:56:01.428\n",
      "        :mime = ??\n",
      "        :mime:pe:compiled = 2016/02/04 13:45:39.000\n",
      "        :sha256 = ae086350239380f56470c19d6a200f7d251c7422c7bc5ce74730ee8bab8e6283\n",
      "        :size = 16384\n",
      "complete. 1 nodes in 9 ms (111/sec).\n",
      "cli> storm [file:bytes=sha256:d066dffb3d0dee40cf81cbcfb6209d09a57de33a079bc644456cd180c5f170b6 :size=16384 :mime:pe:compiled=\"2012/09/11 08:47:47.000\"]\n",
      "\n",
      "file:bytes=sha256:d066dffb3d0dee40cf81cbcfb6209d09a57de33a079bc644456cd180c5f170b6\n",
      "        .created = 2019/01/03 22:56:01.441\n",
      "        :mime = ??\n",
      "        :mime:pe:compiled = 2012/09/11 08:47:47.000\n",
      "        :sha256 = d066dffb3d0dee40cf81cbcfb6209d09a57de33a079bc644456cd180c5f170b6\n",
      "        :size = 16384\n",
      "complete. 1 nodes in 9 ms (111/sec).\n",
      "cli> storm [file:bytes=sha256:e97d2583f858490d14a9c6d77cbc2b08b369fff10aa00d7c306abb41d9348246 :size=16896 :mime:pe:compiled=\"2017/04/27 03:20:43.000\"]\n",
      "\n",
      "file:bytes=sha256:e97d2583f858490d14a9c6d77cbc2b08b369fff10aa00d7c306abb41d9348246\n",
      "        .created = 2019/01/03 22:56:01.455\n",
      "        :mime = ??\n",
      "        :mime:pe:compiled = 2017/04/27 03:20:43.000\n",
      "        :sha256 = e97d2583f858490d14a9c6d77cbc2b08b369fff10aa00d7c306abb41d9348246\n",
      "        :size = 16896\n",
      "complete. 1 nodes in 8 ms (125/sec).\n",
      "cli> storm [file:bytes=sha256:ddebee8fe97252203e6c943fb4f9b37ade3d5fefe90edba7a37e4856056f8cd6 :size=73728 :mime:pe:compiled=\"2016/01/03 15:58:10.000\"]\n",
      "\n",
      "file:bytes=sha256:ddebee8fe97252203e6c943fb4f9b37ade3d5fefe90edba7a37e4856056f8cd6\n",
      "        .created = 2019/01/03 22:56:01.467\n",
      "        :mime = ??\n",
      "        :mime:pe:compiled = 2016/01/03 15:58:10.000\n",
      "        :sha256 = ddebee8fe97252203e6c943fb4f9b37ade3d5fefe90edba7a37e4856056f8cd6\n",
      "        :size = 73728\n",
      "complete. 1 nodes in 8 ms (125/sec).\n"
     ]
    }
   ],
   "source": [
    "# Get a temp cortex and amke some file nodes\n",
    "core = await getTempCoreCmdr()\n",
    "q = '[file:bytes=sha256:ae086350239380f56470c19d6a200f7d251c7422c7bc5ce74730ee8bab8e6283 :size=16384 :mime:pe:compiled=\"2016/02/04 13:45:39.000\"]'\n",
    "q1 = '[file:bytes=sha256:d066dffb3d0dee40cf81cbcfb6209d09a57de33a079bc644456cd180c5f170b6 :size=16384 :mime:pe:compiled=\"2012/09/11 08:47:47.000\"]'\n",
    "q2 = '[file:bytes=sha256:e97d2583f858490d14a9c6d77cbc2b08b369fff10aa00d7c306abb41d9348246 :size=16896 :mime:pe:compiled=\"2017/04/27 03:20:43.000\"]'\n",
    "q3 = '[file:bytes=sha256:ddebee8fe97252203e6c943fb4f9b37ade3d5fefe90edba7a37e4856056f8cd6 :size=73728 :mime:pe:compiled=\"2016/01/03 15:58:10.000\"]'\n",
    "# This runs the query via the CLI, rips out the nodes, makes sure we got 3 nodes on the output :)\n",
    "podes = await core.eval(q, num=1, cmdr=True)\n",
    "podes = await core.eval(q1, num=1, cmdr=True)\n",
    "podes = await core.eval(q2, num=1, cmdr=True)\n",
    "podes = await core.eval(q3, num=1, cmdr=True)\n",
    "# print(f'I got {len(podes)} podes!')\n",
    "# This runs the query directly, no CLI output\n",
    "# newpodes = await core.eval(q, num=4, cmdr=False)\n",
    "# print(f'I got {len(newpodes)} podes the second time!!')\n",
    "# await core.fini()"
   ]
  },
  {
   "cell_type": "code",
   "execution_count": 86,
   "metadata": {
    "hideCode": true
   },
   "outputs": [
    {
     "name": "stdout",
     "output_type": "stream",
     "text": [
      "<query> -(file:bytes:size <= 16384 and file:bytes:mime:pe:compiled < 2014/01/01)\n"
     ]
    }
   ],
   "source": [
    "# Define and print test query\n",
    "q = '<query> '\n",
    "q1 = 'file:bytes '\n",
    "q2 = '-(file:bytes:size <= 16384 and file:bytes:mime:pe:compiled < 2014/01/01)'\n",
    "print(q + q2)\n",
    "# Execute the query to test it and get the packed nodes (podes).\n",
    "podes = await core.eval(q1 + q2, num=3, cmdr=False)"
   ]
  },
  {
   "cell_type": "code",
   "execution_count": 87,
   "metadata": {
    "hideCode": true
   },
   "outputs": [
    {
     "name": "stdout",
     "output_type": "stream",
     "text": [
      "<query> -(:size <= 16384 and :mime:pe:compiled < 2014/01/01)\n"
     ]
    }
   ],
   "source": [
    "# Define and print test query\n",
    "q = '<query> '\n",
    "q1 = 'file:bytes '\n",
    "q2 = '-(:size <= 16384 and :mime:pe:compiled < 2014/01/01)'\n",
    "print(q + q2)\n",
    "# Execute the query to test it and get the packed nodes (podes).\n",
    "podes = await core.eval(q1 + q2, num=3, cmdr=False)"
   ]
  },
  {
   "cell_type": "raw",
   "metadata": {},
   "source": [
    "- Downselect to include only files or domains that FireEye claims are associated with APT1:"
   ]
  },
  {
   "cell_type": "code",
   "execution_count": 88,
   "metadata": {
    "hideCode": true,
    "hideOutput": true
   },
   "outputs": [
    {
     "name": "stdout",
     "output_type": "stream",
     "text": [
      "cli> storm [inet:fqdn=woot.com inet:fqdn=vertex.link inet:fqdn=google.com inet:ipv4=1.2.3.4 inet:ipv4=5.6.7.8]\n",
      "\n",
      "inet:fqdn=woot.com\n",
      "        .created = 2019/01/03 22:56:01.517\n",
      "        :domain = com\n",
      "        :host = woot\n",
      "        :issuffix = False\n",
      "        :iszone = True\n",
      "        :zone = woot.com\n",
      "inet:fqdn=vertex.link\n",
      "        .created = 2019/01/03 22:56:01.519\n",
      "        :domain = link\n",
      "        :host = vertex\n",
      "        :issuffix = False\n",
      "        :iszone = True\n",
      "        :zone = vertex.link\n",
      "inet:fqdn=google.com\n",
      "        .created = 2019/01/03 22:56:01.520\n",
      "        :domain = com\n",
      "        :host = google\n",
      "        :issuffix = False\n",
      "        :iszone = True\n",
      "        :zone = google.com\n",
      "inet:ipv4=1.2.3.4\n",
      "        .created = 2019/01/03 22:56:01.522\n",
      "        :asn = 0\n",
      "        :loc = ??\n",
      "        :type = unicast\n",
      "inet:ipv4=5.6.7.8\n",
      "        .created = 2019/01/03 22:56:01.523\n",
      "        :asn = 0\n",
      "        :loc = ??\n",
      "        :type = unicast\n",
      "complete. 5 nodes in 16 ms (312/sec).\n",
      "cli> storm [inet:fqdn=newsonet.net inet:fqdn=staycools.net +#aka.feye.thr.apt1]\n",
      "\n",
      "inet:fqdn=newsonet.net\n",
      "        .created = 2019/01/03 22:56:01.537\n",
      "        :domain = net\n",
      "        :host = newsonet\n",
      "        :issuffix = False\n",
      "        :iszone = True\n",
      "        :zone = newsonet.net\n",
      "        #aka.feye.thr.apt1\n",
      "inet:fqdn=staycools.net\n",
      "        .created = 2019/01/03 22:56:01.540\n",
      "        :domain = net\n",
      "        :host = staycools\n",
      "        :issuffix = False\n",
      "        :iszone = True\n",
      "        :zone = staycools.net\n",
      "        #aka.feye.thr.apt1\n",
      "complete. 2 nodes in 12 ms (166/sec).\n",
      "cli> storm [file:bytes=sha256:da48960557dfa3aa41b09be150ce662daeb38133d981baea15bbac02fdd9aeeb file:bytes=sha256:efce8c3f7dd1ee2b6c40fd84909e5d423bd75a908b546fdba7ef73480eea2871 +#aka.feye.thr.apt1]\n",
      "\n",
      "file:bytes=sha256:da48960557dfa3aa41b09be150ce662daeb38133d981baea15bbac02fdd9aeeb\n",
      "        .created = 2019/01/03 22:56:01.555\n",
      "        :mime = ??\n",
      "        :sha256 = da48960557dfa3aa41b09be150ce662daeb38133d981baea15bbac02fdd9aeeb\n",
      "        #aka.feye.thr.apt1\n",
      "file:bytes=sha256:efce8c3f7dd1ee2b6c40fd84909e5d423bd75a908b546fdba7ef73480eea2871\n",
      "        .created = 2019/01/03 22:56:01.556\n",
      "        :mime = ??\n",
      "        :sha256 = efce8c3f7dd1ee2b6c40fd84909e5d423bd75a908b546fdba7ef73480eea2871\n",
      "        #aka.feye.thr.apt1\n",
      "complete. 2 nodes in 10 ms (200/sec).\n"
     ]
    }
   ],
   "source": [
    "# Make some nodes and tagged nodes\n",
    "q = '[inet:fqdn=woot.com inet:fqdn=vertex.link inet:fqdn=google.com inet:ipv4=1.2.3.4 inet:ipv4=5.6.7.8]'\n",
    "q1 = '[inet:fqdn=newsonet.net inet:fqdn=staycools.net +#aka.feye.thr.apt1]'\n",
    "q2= '[file:bytes=sha256:da48960557dfa3aa41b09be150ce662daeb38133d981baea15bbac02fdd9aeeb file:bytes=sha256:efce8c3f7dd1ee2b6c40fd84909e5d423bd75a908b546fdba7ef73480eea2871 +#aka.feye.thr.apt1]'\n",
    "# Execute query and test\n",
    "podes = await core.eval(q, num=5, cmdr=True)\n",
    "podes = await core.eval(q1, num=2, cmdr=True)\n",
    "podes = await core.eval(q2, num=2, cmdr=True)"
   ]
  },
  {
   "cell_type": "code",
   "execution_count": 89,
   "metadata": {
    "hideCode": true,
    "scrolled": true
   },
   "outputs": [
    {
     "name": "stdout",
     "output_type": "stream",
     "text": [
      "<query> +((file:bytes or inet:fqdn) and #aka.feye.thr.apt1)\n"
     ]
    }
   ],
   "source": [
    "# Define and print test query\n",
    "q = '<query> '\n",
    "q1 = '.created '\n",
    "q2 = '+((file:bytes or inet:fqdn) and #aka.feye.thr.apt1)'\n",
    "print(q + q2)\n",
    "# Execute the query to test it and get the packed nodes (podes).\n",
    "podes = await core.eval(q1 + q2, num=4, cmdr=False)"
   ]
  },
  {
   "cell_type": "raw",
   "metadata": {},
   "source": [
    "- Downselect to include only files and domains that FireEye claims are associated with APT1 that are **not** sinkholed:"
   ]
  },
  {
   "cell_type": "code",
   "execution_count": 90,
   "metadata": {
    "hideCode": true,
    "hideOutput": true,
    "scrolled": true
   },
   "outputs": [
    {
     "name": "stdout",
     "output_type": "stream",
     "text": [
      "cli> storm inet:fqdn=staycools.net [+#cno.infra.sink.hole]\n",
      "\n",
      "inet:fqdn=staycools.net\n",
      "        .created = 2019/01/03 22:56:01.540\n",
      "        :domain = net\n",
      "        :host = staycools\n",
      "        :issuffix = False\n",
      "        :iszone = True\n",
      "        :zone = staycools.net\n",
      "        #aka.feye.thr.apt1\n",
      "        #cno.infra.sink.hole\n",
      "complete. 1 nodes in 11 ms (90/sec).\n",
      "cli> storm [inet:fqdn=firefoxupdata.com +#aka.feye.thr.apt1]\n",
      "\n",
      "inet:fqdn=firefoxupdata.com\n",
      "        .created = 2019/01/03 22:56:01.606\n",
      "        :domain = com\n",
      "        :host = firefoxupdata\n",
      "        :issuffix = False\n",
      "        :iszone = True\n",
      "        :zone = firefoxupdata.com\n",
      "        #aka.feye.thr.apt1\n",
      "complete. 1 nodes in 8 ms (125/sec).\n"
     ]
    }
   ],
   "source": [
    "# Make a few more tagged nodes\n",
    "q = 'inet:fqdn=staycools.net [+#cno.infra.sink.hole]'\n",
    "q1= '[inet:fqdn=firefoxupdata.com +#aka.feye.thr.apt1]'\n",
    "# Execute query and test\n",
    "podes = await core.eval(q, num=1, cmdr=True)\n",
    "podes = await core.eval(q1, num=1, cmdr=True)"
   ]
  },
  {
   "cell_type": "code",
   "execution_count": 91,
   "metadata": {
    "hideCode": true
   },
   "outputs": [
    {
     "name": "stdout",
     "output_type": "stream",
     "text": [
      "<query> +((file:bytes or inet:fqdn) and (#aka.feye.thr.apt1 and not #cno.infra.sink.hole))\n"
     ]
    }
   ],
   "source": [
    "# Define and print test query\n",
    "q = '<query> '\n",
    "q1 = '.created '\n",
    "q2 = '+((file:bytes or inet:fqdn) and (#aka.feye.thr.apt1 and not #cno.infra.sink.hole))'\n",
    "print(q + q2)\n",
    "# Execute the query to test it and get the packed nodes (podes).\n",
    "podes = await core.eval(q1 + q2, num=4, cmdr=False)"
   ]
  },
  {
   "cell_type": "raw",
   "metadata": {},
   "source": [
    "**Usage Notes:**\n",
    "\n",
    "- Logical operators must be specified in lower case.\n",
    "- Parentheses should be used to logically group portions of the filter statement for clarity."
   ]
  },
  {
   "cell_type": "code",
   "execution_count": 92,
   "metadata": {
    "hideCode": true,
    "hideOutput": true
   },
   "outputs": [
    {
     "data": {
      "text/plain": [
       "0"
      ]
     },
     "execution_count": 92,
     "metadata": {},
     "output_type": "execute_result"
    }
   ],
   "source": [
    "# Close cortex because done\n",
    "await core.fini()"
   ]
  },
  {
   "cell_type": "code",
   "execution_count": 93,
   "metadata": {
    "hideCode": true
   },
   "outputs": [],
   "source": [
    "import os, sys\n",
    "try:\n",
    "    from synapse.lib.jupyter import *\n",
    "except ImportError as e:\n",
    "    # Insert the root path of the repository to sys.path.\n",
    "    # This assumes the notebook is located three directories away\n",
    "    # From the root synapse directory. It may need to be varied\n",
    "    synroot = os.path.abspath('../../../')\n",
    "    sys.path.insert(0, synroot)\n",
    "    from synapse.lib.jupyter import *"
   ]
  },
  {
   "cell_type": "raw",
   "metadata": {},
   "source": [
    "Subquery Filters\n",
    "----------------\n",
    "\n",
    "Storm's subquery syntax (:ref:`storm-ref-subquery`) can be used to create filters. A subquery (denoted by curly braces ( ``{ }`` ) ) can be placed anywhere within a larger Storm query.\n",
    "\n",
    "When nodes are passed to a subquery filter:\n",
    "\n",
    "- Nodes are **consumed** (i.e., are **not** returned by the subquery) if they evaluate **false.**\n",
    "- Nodes are **not consumed** (i.e., are **returned** by the subquery) if they evaluate **true.**\n",
    "\n",
    "In this way subqueries act as complex filters, allowing the formation of advanced queries that would otherwise require methods such as saving the results of an initial query off to the side while running a second query, then loading the results of the first query back to the results of the second query.\n",
    "\n",
    "**Syntax:**\n",
    "\n",
    "*<query>* **+** | **-** **{** *<query>* **}**\n",
    "\n",
    "**Examples:**\n",
    "\n",
    "- From an initial set of domains, return only those domains that resolve to an IP address that Trend Micro associates with the Pawn Storm threat group (i.e., an IP address tagged `#aka.trend.thr.pawnstorm`):\n"
   ]
  },
  {
   "cell_type": "code",
   "execution_count": 94,
   "metadata": {
    "hideCode": true,
    "hideOutput": true,
    "scrolled": true
   },
   "outputs": [
    {
     "name": "stdout",
     "output_type": "stream",
     "text": [
      "cli> storm [inet:fqdn=polwizjer.com inet:fqdn=stats.polwizjer.com inet:fqdn=woot.com inet:fqdn=vertex.link inet:fqdn=google.com]\n",
      "\n",
      "inet:fqdn=polwizjer.com\n",
      "        .created = 2019/01/03 22:56:01.818\n",
      "        :domain = com\n",
      "        :host = polwizjer\n",
      "        :issuffix = False\n",
      "        :iszone = True\n",
      "        :zone = polwizjer.com\n",
      "inet:fqdn=stats.polwizjer.com\n",
      "        .created = 2019/01/03 22:56:01.819\n",
      "        :domain = polwizjer.com\n",
      "        :host = stats\n",
      "        :issuffix = False\n",
      "        :iszone = False\n",
      "        :zone = polwizjer.com\n",
      "inet:fqdn=woot.com\n",
      "        .created = 2019/01/03 22:56:01.820\n",
      "        :domain = com\n",
      "        :host = woot\n",
      "        :issuffix = False\n",
      "        :iszone = True\n",
      "        :zone = woot.com\n",
      "inet:fqdn=vertex.link\n",
      "        .created = 2019/01/03 22:56:01.823\n",
      "        :domain = link\n",
      "        :host = vertex\n",
      "        :issuffix = False\n",
      "        :iszone = True\n",
      "        :zone = vertex.link\n",
      "inet:fqdn=google.com\n",
      "        .created = 2019/01/03 22:56:01.824\n",
      "        :domain = com\n",
      "        :host = google\n",
      "        :issuffix = False\n",
      "        :iszone = True\n",
      "        :zone = google.com\n",
      "complete. 5 nodes in 16 ms (312/sec).\n",
      "cli> storm [inet:dns:a=(polwizjer.com,200.74.244.118) inet:dns:a=(stats.polwizjer.com,200.74.244.118)]\n",
      "\n",
      "inet:dns:a=('polwizjer.com', '200.74.244.118')\n",
      "        .created = 2019/01/03 22:56:01.840\n",
      "        :fqdn = polwizjer.com\n",
      "        :ipv4 = 200.74.244.118\n",
      "inet:dns:a=('stats.polwizjer.com', '200.74.244.118')\n",
      "        .created = 2019/01/03 22:56:01.840\n",
      "        :fqdn = stats.polwizjer.com\n",
      "        :ipv4 = 200.74.244.118\n",
      "complete. 2 nodes in 9 ms (222/sec).\n",
      "cli> storm [inet:dns:a=(woot.com,107.21.53.159) inet:dns:a=(vertex.link,138.197.64.146) inet:dns:a=(google.com,222.247.47.131)]\n",
      "\n",
      "inet:dns:a=('woot.com', '107.21.53.159')\n",
      "        .created = 2019/01/03 22:56:01.853\n",
      "        :fqdn = woot.com\n",
      "        :ipv4 = 107.21.53.159\n",
      "inet:dns:a=('vertex.link', '138.197.64.146')\n",
      "        .created = 2019/01/03 22:56:01.854\n",
      "        :fqdn = vertex.link\n",
      "        :ipv4 = 138.197.64.146\n",
      "inet:dns:a=('google.com', '222.247.47.131')\n",
      "        .created = 2019/01/03 22:56:01.856\n",
      "        :fqdn = google.com\n",
      "        :ipv4 = 222.247.47.131\n",
      "complete. 3 nodes in 11 ms (272/sec).\n",
      "cli> storm [inet:ipv4=200.74.244.118 +#aka.trend.thr.pawnstorm]\n",
      "\n",
      "inet:ipv4=200.74.244.118\n",
      "        .created = 2019/01/03 22:56:01.840\n",
      "        :asn = 0\n",
      "        :loc = ??\n",
      "        :type = unicast\n",
      "        #aka.trend.thr.pawnstorm\n",
      "complete. 1 nodes in 10 ms (100/sec).\n"
     ]
    }
   ],
   "source": [
    "# Get a temp cortex and make some nodes\n",
    "core = await getTempCoreCmdr()\n",
    "q = '[inet:fqdn=polwizjer.com inet:fqdn=stats.polwizjer.com inet:fqdn=woot.com inet:fqdn=vertex.link inet:fqdn=google.com]'\n",
    "q1 = '[inet:dns:a=(polwizjer.com,200.74.244.118) inet:dns:a=(stats.polwizjer.com,200.74.244.118)]'\n",
    "q2 = '[inet:dns:a=(woot.com,107.21.53.159) inet:dns:a=(vertex.link,138.197.64.146) inet:dns:a=(google.com,222.247.47.131)]'\n",
    "q3 = '[inet:ipv4=200.74.244.118 +#aka.trend.thr.pawnstorm]'\n",
    "# This runs the query via the CLI, rips out the nodes, makes sure we got 3 nodes on the output :)\n",
    "podes = await core.eval(q, num=5, cmdr=True)\n",
    "podes = await core.eval(q1, num=2, cmdr=True)\n",
    "podes = await core.eval(q2, num=3, cmdr=True)\n",
    "podes = await core.eval(q3, num=1, cmdr=True)"
   ]
  },
  {
   "cell_type": "code",
   "execution_count": 95,
   "metadata": {
    "hideCode": true
   },
   "outputs": [
    {
     "name": "stdout",
     "output_type": "stream",
     "text": [
      "<query> +{ -> inet:dns:a:fqdn :ipv4 -> inet:ipv4 +#aka.trend.thr.pawnstorm }\n"
     ]
    }
   ],
   "source": [
    "# Define and print test query\n",
    "q = '<query> '\n",
    "q1 = 'inet:fqdn '\n",
    "q2 = '+{ -> inet:dns:a:fqdn :ipv4 -> inet:ipv4 +#aka.trend.thr.pawnstorm }'\n",
    "print(q + q2)\n",
    "# Execute the query to test it and get the packed nodes (podes).\n",
    "podes = await core.eval(q1 + q2, num=2, cmdr=False)"
   ]
  },
  {
   "cell_type": "raw",
   "metadata": {},
   "source": [
    "From an initial set of IP addresses, return only those IPs registered to an Autonomous System (AS) whois name starts with “makonix”:"
   ]
  },
  {
   "cell_type": "code",
   "execution_count": 96,
   "metadata": {
    "hideCode": true,
    "hideOutput": true,
    "scrolled": true
   },
   "outputs": [
    {
     "name": "stdout",
     "output_type": "stream",
     "text": [
      "cli> storm [inet:asn=49486 :name=\"makonix sia\"]\n",
      "\n",
      "inet:asn=49486\n",
      "        .created = 2019/01/03 22:56:01.908\n",
      "        :name = makonix sia\n",
      "complete. 1 nodes in 14 ms (71/sec).\n",
      "cli> storm [inet:asn=52173 :name=\"makonix sia\"]\n",
      "\n",
      "inet:asn=52173\n",
      "        .created = 2019/01/03 22:56:01.926\n",
      "        :name = makonix sia\n",
      "complete. 1 nodes in 7 ms (142/sec).\n",
      "cli> storm [inet:asn=4808 :name=\"china unicom beijing province network\"]\n",
      "\n",
      "inet:asn=4808\n",
      "        .created = 2019/01/03 22:56:01.937\n",
      "        :name = china unicom beijing province network\n",
      "complete. 1 nodes in 6 ms (166/sec).\n",
      "cli> storm [inet:ipv4=94.100.11.8 inet:ipv4=94.100.6.167 :asn=49486]\n",
      "\n",
      "inet:ipv4=94.100.11.8\n",
      "        .created = 2019/01/03 22:56:01.948\n",
      "        :asn = 49486\n",
      "        :loc = ??\n",
      "        :type = unicast\n",
      "inet:ipv4=94.100.6.167\n",
      "        .created = 2019/01/03 22:56:01.948\n",
      "        :asn = 49486\n",
      "        :loc = ??\n",
      "        :type = unicast\n",
      "complete. 2 nodes in 9 ms (222/sec).\n",
      "cli> storm [inet:ipv4=185.61.149.70 inet:ipv4=185.86.149.139 :asn=52173]\n",
      "\n",
      "inet:ipv4=185.61.149.70\n",
      "        .created = 2019/01/03 22:56:01.962\n",
      "        :asn = 52173\n",
      "        :loc = ??\n",
      "        :type = unicast\n",
      "inet:ipv4=185.86.149.139\n",
      "        .created = 2019/01/03 22:56:01.962\n",
      "        :asn = 52173\n",
      "        :loc = ??\n",
      "        :type = unicast\n",
      "complete. 2 nodes in 9 ms (222/sec).\n",
      "cli> storm [inet:ipv4=114.255.13.66 inet:ipv4=123.59.170.35 :asn=4808]\n",
      "\n",
      "inet:ipv4=114.255.13.66\n",
      "        .created = 2019/01/03 22:56:01.976\n",
      "        :asn = 4808\n",
      "        :loc = ??\n",
      "        :type = unicast\n",
      "inet:ipv4=123.59.170.35\n",
      "        .created = 2019/01/03 22:56:01.977\n",
      "        :asn = 4808\n",
      "        :loc = ??\n",
      "        :type = unicast\n",
      "complete. 2 nodes in 9 ms (222/sec).\n"
     ]
    }
   ],
   "source": [
    "# Make some moar nodes\n",
    "q = '[inet:asn=49486 :name=\"makonix sia\"]'\n",
    "q1 = '[inet:asn=52173 :name=\"makonix sia\"]'\n",
    "q2 = '[inet:asn=4808 :name=\"china unicom beijing province network\"]'\n",
    "q3 = '[inet:ipv4=94.100.11.8 inet:ipv4=94.100.6.167 :asn=49486]'\n",
    "q4 = '[inet:ipv4=185.61.149.70 inet:ipv4=185.86.149.139 :asn=52173]'\n",
    "q5 = '[inet:ipv4=114.255.13.66 inet:ipv4=123.59.170.35 :asn=4808]'\n",
    "# This runs the query via the CLI, rips out the nodes, makes sure we got 3 nodes on the output :)\n",
    "podes = await core.eval(q, num=1, cmdr=True)\n",
    "podes = await core.eval(q1, num=1, cmdr=True)\n",
    "podes = await core.eval(q2, num=1, cmdr=True)\n",
    "podes = await core.eval(q3, num=2, cmdr=True)\n",
    "podes = await core.eval(q4, num=2, cmdr=True)\n",
    "podes = await core.eval(q5, num=2, cmdr=True)"
   ]
  },
  {
   "cell_type": "code",
   "execution_count": 97,
   "metadata": {
    "hideCode": true
   },
   "outputs": [
    {
     "name": "stdout",
     "output_type": "stream",
     "text": [
      "<query> +{ :asn -> inet:asn +:name^=\"makonix\" }\n"
     ]
    }
   ],
   "source": [
    "# Define and print test query\n",
    "q = '<query> '\n",
    "q1 = 'inet:ipv4 '\n",
    "q2 = '+{ :asn -> inet:asn +:name^=\"makonix\" }'\n",
    "print(q + q2)\n",
    "# Execute the query to test it and get the packed nodes (podes).\n",
    "podes = await core.eval(q1 + q2, num=4, cmdr=False)"
   ]
  },
  {
   "cell_type": "code",
   "execution_count": 98,
   "metadata": {
    "hideCode": true,
    "hideOutput": true
   },
   "outputs": [
    {
     "data": {
      "text/plain": [
       "0"
      ]
     },
     "execution_count": 98,
     "metadata": {},
     "output_type": "execute_result"
    }
   ],
   "source": [
    "# Close cortex because done\n",
    "await core.fini()"
   ]
  }
 ],
 "metadata": {
  "celltoolbar": "Hide code",
  "kernelspec": {
   "display_name": "Python 3",
   "language": "python",
   "name": "python3"
  },
  "language_info": {
   "codemirror_mode": {
    "name": "ipython",
    "version": 3
   },
   "file_extension": ".py",
   "mimetype": "text/x-python",
   "name": "python",
   "nbconvert_exporter": "python",
   "pygments_lexer": "ipython3",
   "version": "3.7.0"
  }
 },
 "nbformat": 4,
 "nbformat_minor": 2
}
