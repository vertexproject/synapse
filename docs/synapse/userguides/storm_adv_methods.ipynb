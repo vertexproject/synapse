{
 "cells": [
  {
   "cell_type": "code",
   "execution_count": null,
   "metadata": {
    "hideCode": true,
    "hideOutput": true
   },
   "outputs": [],
   "source": [
    "import os, sys\n",
    "try:\n",
    "    from synapse.lib.jupyter import *\n",
    "except ImportError as e:\n",
    "    # Insert the root path of the repository to sys.path.\n",
    "    # This assumes the notebook is located three directories away\n",
    "    # From the root synapse directory. It may need to be varied\n",
    "    synroot = os.path.abspath('../../../')\n",
    "    sys.path.insert(0, synroot)\n",
    "    from synapse.lib.jupyter import *"
   ]
  },
  {
   "cell_type": "code",
   "execution_count": null,
   "metadata": {
    "hideCode": true,
    "hideOutput": true
   },
   "outputs": [],
   "source": [
    "# Create a cortex\n",
    "core = await getTempCoreCmdr()"
   ]
  },
  {
   "cell_type": "raw",
   "metadata": {},
   "source": [
    ".. highlight:: none\n",
    "\n",
    ".. _storm-adv-methods:\n",
    "\n",
    "Storm Reference - Advanced - Methods\n",
    "====================================\n",
    "\n",
    "Some of Storm’s :ref:`vars-builtin` support **methods** used to perform various actions on the object represented by the variable.\n",
    "\n",
    "The built-in variables that support methods, along with their methods and examples, are listed below.\n",
    "\n",
    "The built-in :ref:`vars-global-lib` variable is used to access Storm libraries, described in :ref:`storm-adv-libs`.\n",
    "\n",
    ".. NOTE::\n",
    "\n",
    "  In the examples below, the ``$lib.print()`` library function is used to display the value returned when a specific built-in variable or method is called. This is done for illustrative purposes only; ``$lib.print()`` is not required in order to use variables or methods.\n",
    "\n",
    "In some instances we have also included \"use-case\" examples, where the variable or method is used in one or more sample queries to illustrate possible practical use cases. These represent exemplar Storm queries for how a variable or method might be used in practice. While we have attempted to use relatively simple examples for clarity, some examples may leverage additional Storm features such as subqueries, subquery filters, or flow control elements such as \"for\" loops or \"switch\" statements.\n",
    "\n",
    ".. _meth-node:\n",
    "\n",
    "$node\n",
    "-----\n",
    "\n",
    ":ref:`vars-node-node` is a built-in Storm variable that references **the current node in the Storm query pipeline.** ``$node`` can be used as a variable on its own or with the methods listed below.\n",
    "\n",
    ".. NOTE::\n",
    "\n",
    "  As the ``$node`` variable and related methods reference the current node in the Storm pipeline, the variable and its methods will contain (and return) a null value if the inbound result set is empty (i.e., contains no nodes).\n",
    "\n",
    "**Examples**\n",
    "\n",
    "- Print the value of ``$node`` for an ``inet:dns:a`` node:"
   ]
  },
  {
   "cell_type": "code",
   "execution_count": null,
   "metadata": {
    "hideCode": true,
    "hideOutput": true
   },
   "outputs": [],
   "source": [
    "# Make a node\n",
    "q = '[inet:dns:a=(woot.com,54.173.9.236) .seen=(\"2016/12/28 20:46:31.000\",\"2016/12/28 20:46:31.001\")]'\n",
    "podes = await core.eval(q, num=1, cmdr=False)"
   ]
  },
  {
   "cell_type": "code",
   "execution_count": null,
   "metadata": {
    "hideCode": true
   },
   "outputs": [],
   "source": [
    "# Define and print test query\n",
    "q = 'inet:dns:a=(woot.com,54.173.9.236) $lib.print($node)'\n",
    "q1 = '\\n'\n",
    "print(q + q1)\n",
    "# Execute the query to test it and get the packed nodes (podes).\n",
    "podes = await core.eval(q, num=1, cmdr=True)"
   ]
  },
  {
   "cell_type": "code",
   "execution_count": null,
   "metadata": {
    "hideCode": true,
    "hideOutput": true
   },
   "outputs": [],
   "source": [
    "# Make a node\n",
    "q = '[inet:fqdn=aunewsonline.com +#aka.feye.thr.apt1 +#cno.infra.sink.hole.kleissner=(2013/11/26,2016/11/26)]'\n",
    "podes = await core.eval(q, num=1, cmdr=False)"
   ]
  },
  {
   "cell_type": "raw",
   "metadata": {},
   "source": [
    "- Print the value of ``$node`` for an ``inet:fqdn`` node with tags present:"
   ]
  },
  {
   "cell_type": "code",
   "execution_count": null,
   "metadata": {
    "hideCode": true
   },
   "outputs": [],
   "source": [
    "# Define and print test query\n",
    "q = 'inet:fqdn=aunewsonline.com $lib.print($node)'\n",
    "q1 = '\\n'\n",
    "print(q + q1)\n",
    "# Execute the query to test it and get the packed nodes (podes).\n",
    "podes = await core.eval(q, num=1, cmdr=True)"
   ]
  },
  {
   "cell_type": "raw",
   "metadata": {},
   "source": [
    ".. NOTE::\n",
    "\n",
    "  The value of ``$node`` is the entire node object and associated properties and tags, as opposed to a specific aspect of the node, such as its iden or primary property value.\n",
    "  \n",
    "  As demonstrated below, some node constructors can \"intelligently\" leverage the relevant aspects of the full node object (the value of the ``$node`` variable) when creating new nodes.\n",
    "\n",
    "- Use the ``$node`` variable to create an ``edge:refs`` node showing that a news article references the domain woot[.]com:"
   ]
  },
  {
   "cell_type": "code",
   "execution_count": null,
   "metadata": {
    "hideCode": true,
    "hideOutput": true
   },
   "outputs": [],
   "source": [
    "# Make a node\n",
    "q = '[media:news=(d41d8cd98f00b204e9800998ecf8427e,)]'\n",
    "podes = await core.eval(q, num=1, cmdr=False)"
   ]
  },
  {
   "cell_type": "code",
   "execution_count": null,
   "metadata": {
    "hideCode": true
   },
   "outputs": [],
   "source": [
    "# Define and print test query\n",
    "q = 'media:news=a3759709982377809f28fc0555a38193 [ edge:refs=($node,(inet:fqdn,woot.com)) ]'\n",
    "print(q)\n",
    "# Execute the query to test it and get the packed nodes (podes).\n",
    "podes = await core.eval(q, num=2, cmdr=False)"
   ]
  },
  {
   "cell_type": "raw",
   "metadata": {},
   "source": [
    "In the example above, the :ref:`meth-node-ndef` method could have been used instead of ``$node`` to create the ``edge:refs`` node. In this case, the node constructor knows to use the ndef from the ``$node`` object to create the node."
   ]
  },
  {
   "cell_type": "raw",
   "metadata": {},
   "source": [
    "- Use the ``$node`` variable to create multiple whois name server records (``inet:whois:recns``) from a set of inbound recent whois record nodes for the domain woot[.]com:"
   ]
  },
  {
   "cell_type": "code",
   "execution_count": null,
   "metadata": {
    "hideCode": true,
    "hideOutput": true
   },
   "outputs": [],
   "source": [
    "# Make some nodes\n",
    "q = '[ (inet:whois:rec=(woot.com,2019/03/02) :text=ns1.differentdomain.com) (inet:whois:rec=(woot.com,2019/06/13) :text=ns1.somedomain.com) (inet:whois:rec=(woot.com,2019/09/12) :text=ns1.somedomain.com)]'\n",
    "podes = await core.eval(q, num=3, cmdr=False)"
   ]
  },
  {
   "cell_type": "code",
   "execution_count": null,
   "metadata": {
    "hideCode": true
   },
   "outputs": [],
   "source": [
    "# Define and print test query\n",
    "q = 'inet:whois:rec:fqdn=woot.com +:asof>=2019/06/13 [ inet:whois:recns=(ns1.somedomain.com,$node) ]'\n",
    "print(q)\n",
    "# Execute the query to test it and get the packed nodes (podes).\n",
    "podes = await core.eval(q, num=4, cmdr=False)"
   ]
  },
  {
   "cell_type": "raw",
   "metadata": {},
   "source": [
    "In the example above, the :ref:`meth-node-value` method could have been used instead of ``$node`` to create the ``inet:whois:recns`` nodes. In this case, the node constructor knows to use the primary property value from the ``inet:whois:rec`` nodes to create the ``inet:whois:recns`` nodes."
   ]
  },
  {
   "cell_type": "raw",
   "metadata": {},
   "source": [
    ".. _meth-node-data:\n",
    "\n",
    "$node.data\n",
    "++++++++++\n",
    "\n",
    "TBD\n",
    "\n",
    ".. _meth-node-data-set:\n",
    "\n",
    "$node.data.set()\n",
    "~~~~~~~~~~~~~~~~\n",
    "\n",
    "TBD\n",
    "\n",
    ".. _meth-node-data-get:\n",
    "\n",
    "$node.data.get()\n",
    "~~~~~~~~~~~~~~~~\n",
    "\n",
    "TBD\n",
    "\n",
    ".. _meth-node-data-list:\n",
    "\n",
    "$node.data.list()\n",
    "~~~~~~~~~~~~~~~~~\n",
    "\n",
    "TBD\n",
    "\n",
    ".. _meth-node-data-pop:\n",
    "\n",
    "$node.data.pop()\n",
    "~~~~~~~~~~~~~~~~\n",
    "\n",
    "TBD"
   ]
  },
  {
   "cell_type": "raw",
   "metadata": {},
   "source": [
    ".. _meth-node-form:\n",
    "\n",
    "$node.form()\n",
    "++++++++++++\n",
    "\n",
    "The ``$node.form()`` method returns the **form** of the current node in the Storm pipeline.\n",
    "\n",
    "The method takes no arguments.\n",
    "\n",
    "**Examples**\n",
    "\n",
    "- Print the form of an ``inet:dns:a`` node:"
   ]
  },
  {
   "cell_type": "code",
   "execution_count": null,
   "metadata": {
    "hideCode": true
   },
   "outputs": [],
   "source": [
    "# Define and print test query\n",
    "q = 'inet:dns:a=(woot.com,54.173.9.236) $lib.print($node.form())'\n",
    "q1 = '\\n'\n",
    "print(q + q1)\n",
    "# Execute the query to test it and get the packed nodes (podes).\n",
    "podes = await core.eval(q, num=1, cmdr=True)"
   ]
  },
  {
   "cell_type": "raw",
   "metadata": {},
   "source": [
    ".. _meth-node-globtags:\n",
    "\n",
    "$node.globtags()\n",
    "++++++++++++++++\n",
    "\n",
    "The ``$node.globtags()`` method returns a **list of string matches from the set of tags applied to the current node** in the Storm pipeline.\n",
    "\n",
    "The method takes a single argument consisting of a wildcard expression for the substring to match.\n",
    "      \n",
    "- The argument requires at least one wildcard ( ``*`` ) representing the substring(s) to match.\n",
    "- The method performs an **exclusive match** and returns **only** the matched substring(s), not the entire tag containing the substring match.\n",
    "- The wildcard ( ``*`` ) character can be used to match full or partial tag elements.\n",
    "- Single wildcards are constrained by tag element boundaries (i.e., the dot ( ``.`` ) character. Single wildcards can match an entire tag element or a partial string within an element.\n",
    "- The double wildcard ( ``**`` ) can be used to match across any number of tag elements; that is, the double wildcard is not constrained by the dot boundary.\n",
    "- If the string expression starts with a wildcard, it must be enclosed in quotes in accordance with the use of :ref:`literals`.\n",
    "\n",
    "See :ref:`meth-node-tags` to access full tags (vs. tag substrings).\n",
    "\n",
    "**Examples**\n",
    "\n",
    "- Print the set of top-level (root) tags from any tags applied to the current node:"
   ]
  },
  {
   "cell_type": "code",
   "execution_count": null,
   "metadata": {
    "hideCode": true,
    "hideOutput": true
   },
   "outputs": [],
   "source": [
    "# Add some tags to a node\n",
    "q = 'inet:fqdn=aunewsonline.com [ +#aka.symantec.thr.commentcrew +#cno.threat.t83.tc +#foo.bar.baz +#faz.baz +#foo.derp]'\n",
    "podes = await core.eval(q, num=1, cmdr=False)"
   ]
  },
  {
   "cell_type": "code",
   "execution_count": null,
   "metadata": {
    "hideCode": true
   },
   "outputs": [],
   "source": [
    "# Define and print test query\n",
    "q = 'inet:fqdn=aunewsonline.com $lib.print($node.globtags(\"*\"))'\n",
    "q1 = '\\n'\n",
    "print(q + q1)\n",
    "# Execute the query to test it and get the packed nodes (podes).\n",
    "podes = await core.eval(q, num=1, cmdr=True)"
   ]
  },
  {
   "cell_type": "raw",
   "metadata": {},
   "source": [
    "- Print the list of numbers associated with any threat group tags applied to the current node:"
   ]
  },
  {
   "cell_type": "code",
   "execution_count": null,
   "metadata": {
    "hideCode": true
   },
   "outputs": [],
   "source": [
    "# Define and print test query\n",
    "q = 'inet:fqdn=aunewsonline.com $lib.print($node.globtags(cno.threat.t*))'\n",
    "q1 = '\\n'\n",
    "print(q + q1)\n",
    "# Execute the query to test it and get the packed nodes (podes).\n",
    "podes = await core.eval(q, num=1, cmdr=True)"
   ]
  },
  {
   "cell_type": "raw",
   "metadata": {},
   "source": [
    "In the example above, ``$node.globtags()`` returns the matching substring only (\"83\"), which is the portion matching the wildcard; it does not return the \"t\" character."
   ]
  },
  {
   "cell_type": "raw",
   "metadata": {},
   "source": [
    "- Print the list of organizations and associated threat group names from any third-party alias (\"aka\") tags applied to the current node:"
   ]
  },
  {
   "cell_type": "code",
   "execution_count": null,
   "metadata": {
    "hideCode": true
   },
   "outputs": [],
   "source": [
    "# Define and print test query\n",
    "q = 'inet:fqdn=aunewsonline.com $lib.print($node.globtags(aka.*.thr.*))'\n",
    "q1 = '\\n'\n",
    "print(q + q1)\n",
    "# Execute the query to test it and get the packed nodes (podes).\n",
    "podes = await core.eval(q, num=1, cmdr=True)"
   ]
  },
  {
   "cell_type": "raw",
   "metadata": {},
   "source": [
    "- Print all sub-tags for any tags starting with \"foo\" applied to the current node:"
   ]
  },
  {
   "cell_type": "code",
   "execution_count": null,
   "metadata": {
    "hideCode": true
   },
   "outputs": [],
   "source": [
    "# Define and print test query\n",
    "q = 'inet:fqdn=aunewsonline.com $lib.print($node.globtags(foo.**))'\n",
    "q1 = '\\n'\n",
    "print(q + q1)\n",
    "# Execute the query to test it and get the packed nodes (podes).\n",
    "podes = await core.eval(q, num=1, cmdr=True)"
   ]
  },
  {
   "cell_type": "raw",
   "metadata": {},
   "source": [
    ".. _meth-node-iden:\n",
    "\n",
    "$node.iden()\n",
    "++++++++++++\n",
    "\n",
    "The ``$node.iden()`` method returns the :ref:`gloss-iden` of the current node in the Storm pipeline.\n",
    "\n",
    "The method takes no arguments.\n",
    "\n",
    "**Examples**\n",
    "\n",
    "- Print the iden of an ``inet:dns:a`` node:"
   ]
  },
  {
   "cell_type": "code",
   "execution_count": null,
   "metadata": {
    "hideCode": true
   },
   "outputs": [],
   "source": [
    "# Define and print test query\n",
    "q = 'inet:dns:a=(woot.com,54.173.9.236) $lib.print($node.iden())'\n",
    "q1 = '\\n'\n",
    "print(q + q1)\n",
    "# Execute the query to test it and get the packed nodes (podes).\n",
    "podes = await core.eval(q, num=1, cmdr=True)"
   ]
  },
  {
   "cell_type": "raw",
   "metadata": {},
   "source": [
    ".. _meth-node-isform:\n",
    "\n",
    "$node.isform()\n",
    "++++++++++++++\n",
    "\n",
    "The ``$node.isform()`` method returns a Boolean value (true / false) for whether the current node in the Storm pipeline is of a specified form.\n",
    "\n",
    "The method takes a single argument of a form name.\n",
    "\n",
    "**Examples**\n",
    "\n",
    "- Print the Boolean value for whether a node is an ``inet:dns:a`` form:"
   ]
  },
  {
   "cell_type": "code",
   "execution_count": null,
   "metadata": {
    "hideCode": true
   },
   "outputs": [],
   "source": [
    "# Define and print test query\n",
    "q = 'inet:dns:a=(woot.com,54.173.9.236) $lib.print($node.isform(inet:dns:a))'\n",
    "q1 = '\\n'\n",
    "print(q + q1)\n",
    "# Execute the query to test it and get the packed nodes (podes).\n",
    "podes = await core.eval(q, num=1, cmdr=True)"
   ]
  },
  {
   "cell_type": "raw",
   "metadata": {},
   "source": [
    "- Print the Boolean value for whether a node is an ``inet:fqdn`` form:"
   ]
  },
  {
   "cell_type": "code",
   "execution_count": null,
   "metadata": {
    "hideCode": true
   },
   "outputs": [],
   "source": [
    "# Define and print test query\n",
    "q = 'inet:dns:a=(woot.com,54.173.9.236) $lib.print($node.isform(inet:fqdn))'\n",
    "q1 = '\\n'\n",
    "print(q + q1)\n",
    "# Execute the query to test it and get the packed nodes (podes).\n",
    "podes = await core.eval(q, num=1, cmdr=True)"
   ]
  },
  {
   "cell_type": "raw",
   "metadata": {},
   "source": [
    ".. _meth-node-ndef:\n",
    "\n",
    "$node.ndef()\n",
    "++++++++++++\n",
    "\n",
    "The ``$node.ndef()`` method returns the :ref:`gloss-ndef` (\"node definition\") of the current node in the Storm pipeline.\n",
    "\n",
    "The method takes no arguments.\n",
    "\n",
    "**Examples**\n",
    "\n",
    "- Print the ndef of an ``inet:dns:a`` node:"
   ]
  },
  {
   "cell_type": "code",
   "execution_count": null,
   "metadata": {
    "hideCode": true
   },
   "outputs": [],
   "source": [
    "# Define and print test query\n",
    "q = 'inet:dns:a=(woot.com,54.173.9.236) $lib.print($node.ndef())'\n",
    "q1 = '\\n'\n",
    "print(q + q1)\n",
    "# Execute the query to test it and get the packed nodes (podes).\n",
    "podes = await core.eval(q, num=1, cmdr=True)"
   ]
  },
  {
   "cell_type": "raw",
   "metadata": {},
   "source": [
    ".. _meth-node-repr:\n",
    "\n",
    "$node.repr()\n",
    "++++++++++++\n",
    "\n",
    "The ``$node.repr()`` method returns the human-friendly :ref:`gloss-repr` (\"representation\") of the specified property of the current node in the Storm pipeline.\n",
    "\n",
    "The method can optionally take one argument.\n",
    "\n",
    "- If no arguments are provided, the method returns the repr of the node's primary property value.\n",
    "- If an argument is provided, it should be the string of the secondary property name (i.e., without the leading colon ( ``:`` ) from relative property syntax).\n",
    "- If a universal property string is provided, it must be preceded by the dot / period ( ``.`` ) and enclosed in quotes in accordance with the use of :ref:`literals`.\n",
    "\n",
    "See :ref:`meth-node-value` to return the raw value of a property.\n",
    "\n",
    "**Examples**\n",
    "\n",
    "- Print the repr of the primary property value of an ``inet:dns:a`` node:"
   ]
  },
  {
   "cell_type": "code",
   "execution_count": null,
   "metadata": {
    "hideCode": true
   },
   "outputs": [],
   "source": [
    "# Define and print test query\n",
    "q = 'inet:dns:a=(woot.com,54.173.9.236) $lib.print($node.repr())'\n",
    "q1 = '\\n'\n",
    "print(q + q1)\n",
    "# Execute the query to test it and get the packed nodes (podes).\n",
    "podes = await core.eval(q, num=1, cmdr=True)"
   ]
  },
  {
   "cell_type": "raw",
   "metadata": {},
   "source": [
    "- Print the repr of the ``:ipv4`` secondary property value of an ``inet:dns:a`` node:"
   ]
  },
  {
   "cell_type": "code",
   "execution_count": null,
   "metadata": {
    "hideCode": true
   },
   "outputs": [],
   "source": [
    "# Define and print test query\n",
    "q = 'inet:dns:a=(woot.com,54.173.9.236) $lib.print($node.repr(ipv4))'\n",
    "q1 = '\\n'\n",
    "print(q + q1)\n",
    "# Execute the query to test it and get the packed nodes (podes).\n",
    "podes = await core.eval(q, num=1, cmdr=True)"
   ]
  },
  {
   "cell_type": "raw",
   "metadata": {},
   "source": [
    "- Print the repr of the ``.seen`` universal property value of an ``inet:dns:a`` node:"
   ]
  },
  {
   "cell_type": "code",
   "execution_count": null,
   "metadata": {
    "hideCode": true
   },
   "outputs": [],
   "source": [
    "# Define and print test query\n",
    "q = 'inet:dns:a=(woot.com,54.173.9.236) $lib.print($node.repr(\".seen\"))'\n",
    "q1 = '\\n'\n",
    "print(q + q1)\n",
    "# Execute the query to test it and get the packed nodes (podes).\n",
    "podes = await core.eval(q, num=1, cmdr=True)"
   ]
  },
  {
   "cell_type": "raw",
   "metadata": {},
   "source": [
    ".. _meth-node-tags:\n",
    "\n",
    "$node.tags()\n",
    "++++++++++++\n",
    "\n",
    "The ``$node.tags()`` method returns a **list of the tags applied to the current node** in the Storm pipeline.\n",
    "\n",
    "The method can optionally take one argument.\n",
    "\n",
    "- If no arguments are provided, the method returns the full list of all tags applied to the node.\n",
    "- An optional argument consisting of a wildcard string expression can be used to match a subset of tags.\n",
    "  \n",
    "  - If a string is used with no wildcards, the string must be an exact match for the tag element.\n",
    "  - The wildcard ( ``*`` ) character can be used to match full or partial tag elements.\n",
    "  - The method performs an **inclusive match** and returns the full tag for all tags that match the provided expression.\n",
    "  - Single wildcards are constrained by tag element boundaries (i.e., the dot ( ``.`` ) character). Single wildcards can match an entire tag element or a partial string within an element.\n",
    "  - The double wildcard ( ``**`` ) can be used to match across any number of tag elements; that is, the double wildcard is not constrained by the dot boundary.\n",
    "  - If the string expression starts with a wildcard, it must be enclosed in quotes in accordance with the use of :ref:`literals`.\n",
    "\n",
    "See :ref:`meth-node-globtags` to access tag substrings (vs. full tags).\n",
    "\n",
    "**Examples**\n",
    "\n",
    "- Print the list of all tags associated with an ``inet:fqdn`` node:"
   ]
  },
  {
   "cell_type": "code",
   "execution_count": null,
   "metadata": {
    "hideCode": true
   },
   "outputs": [],
   "source": [
    "# Define and print test query\n",
    "q = 'inet:fqdn=aunewsonline.com $lib.print($node.tags())'\n",
    "q1 = '\\n'\n",
    "print(q + q1)\n",
    "# Execute the query to test it and get the packed nodes (podes).\n",
    "podes = await core.eval(q, num=1, cmdr=True)"
   ]
  },
  {
   "cell_type": "raw",
   "metadata": {},
   "source": [
    "- Print the tag matching the string \"cno\" if present on an ``inet:fqdn`` node:"
   ]
  },
  {
   "cell_type": "code",
   "execution_count": null,
   "metadata": {
    "hideCode": true
   },
   "outputs": [],
   "source": [
    "# Define and print test query\n",
    "q = 'inet:fqdn=aunewsonline.com $lib.print($node.tags(cno))'\n",
    "q1 = '\\n'\n",
    "print(q + q1)\n",
    "# Execute the query to test it and get the packed nodes (podes).\n",
    "podes = await core.eval(q, num=1, cmdr=True)"
   ]
  },
  {
   "cell_type": "raw",
   "metadata": {},
   "source": [
    "- Print the list of all tags two elements in length that start with \"foo\":"
   ]
  },
  {
   "cell_type": "code",
   "execution_count": null,
   "metadata": {
    "hideCode": true
   },
   "outputs": [],
   "source": [
    "# Define and print test query\n",
    "q = 'inet:fqdn=aunewsonline.com $lib.print($node.tags(foo.*))'\n",
    "q1 = '\\n'\n",
    "print(q + q1)\n",
    "# Execute the query to test it and get the packed nodes (podes).\n",
    "podes = await core.eval(q, num=1, cmdr=True)"
   ]
  },
  {
   "cell_type": "raw",
   "metadata": {},
   "source": [
    "- Print the list of all tags of any length that start with \"f\":"
   ]
  },
  {
   "cell_type": "code",
   "execution_count": null,
   "metadata": {
    "hideCode": true
   },
   "outputs": [],
   "source": [
    "# Define and print test query\n",
    "q = 'inet:fqdn=aunewsonline.com $lib.print($node.tags(f**))'\n",
    "q1 = '\\n'\n",
    "print(q + q1)\n",
    "# Execute the query to test it and get the packed nodes (podes).\n",
    "podes = await core.eval(q, num=1, cmdr=True)"
   ]
  },
  {
   "cell_type": "raw",
   "metadata": {},
   "source": [
    "- Print the list of all tags of any length whose first element starts with \"a\" and whose third element is \"thr\":"
   ]
  },
  {
   "cell_type": "code",
   "execution_count": null,
   "metadata": {
    "hideCode": true
   },
   "outputs": [],
   "source": [
    "# Define and print test query\n",
    "q = 'inet:fqdn=aunewsonline.com $lib.print($node.tags(a*.*.thr.**))'\n",
    "q1 = '\\n'\n",
    "print(q + q1)\n",
    "# Execute the query to test it and get the packed nodes (podes).\n",
    "podes = await core.eval(q, num=1, cmdr=True)"
   ]
  },
  {
   "cell_type": "raw",
   "metadata": {},
   "source": [
    ".. _meth-node-value:\n",
    "\n",
    "$node.value()\n",
    "+++++++++++++\n",
    "\n",
    "The ``$node.value()`` method returns the raw value of the primary property of the current node in the Storm pipeline.\n",
    "\n",
    "The method takes no arguments.\n",
    "\n",
    "See :ref:`meth-node-repr` to return the human-friendly value of a property.\n",
    "\n",
    ".. NOTE::\n",
    "\n",
    "  The ``$node.value()`` method is only used to return the primary property value of a node. Secondary property values can be accessed via a user-defined variable (i.e., ``$myvar = :<prop>``).\n",
    "\n",
    "**Examples**\n",
    "\n",
    "- Print the value of the primary property value of an ``inet:dns:a`` node:"
   ]
  },
  {
   "cell_type": "code",
   "execution_count": null,
   "metadata": {
    "hideCode": true
   },
   "outputs": [],
   "source": [
    "# Define and print test query\n",
    "q = 'inet:dns:a=(woot.com,54.173.9.236) $lib.print($node.value())'\n",
    "q1 = '\\n'\n",
    "print(q + q1)\n",
    "# Execute the query to test it and get the packed nodes (podes).\n",
    "podes = await core.eval(q, num=1, cmdr=True)"
   ]
  },
  {
   "cell_type": "raw",
   "metadata": {},
   "source": [
    ".. _meth-path:\n",
    "\n",
    "$path\n",
    "-----\n",
    "\n",
    ":ref:`vars-node-path` is a built-in Storm variable that **references the path of a node as it travels through the pipeline of a Storm query.**\n",
    "\n",
    "The ``$path`` variable is generally not used on its own, but in conjunction with its methods."
   ]
  },
  {
   "cell_type": "raw",
   "metadata": {},
   "source": [
    ".. _meth-path-idens:\n",
    "\n",
    "$path.idens()\n",
    "+++++++++++++\n",
    "\n",
    "The ``$path.idens()`` method returns the list of idens (:ref:`gloss-iden`) of each node in a node's path through a Storm query.\n",
    "\n",
    "The method takes no arguments.\n",
    "\n",
    "**Examples**\n",
    "\n",
    "- Print the list of iden(s) for the path of a single lifted node:"
   ]
  },
  {
   "cell_type": "code",
   "execution_count": null,
   "metadata": {
    "hideCode": true
   },
   "outputs": [],
   "source": [
    "# Define and print test query\n",
    "q = 'inet:fqdn=aunewsonline.com $lib.print($path.idens())'\n",
    "q1 = '\\n'\n",
    "print(q + q1)\n",
    "# Execute the query to test it and get the packed nodes (podes).\n",
    "podes = await core.eval(q, num=1, cmdr=True)"
   ]
  },
  {
   "cell_type": "raw",
   "metadata": {},
   "source": [
    ".. NOTE::\n",
    "\n",
    "  A lift operation contains no pivots (i.e., no \"path\"), so the method returns only the iden of the lifted node.\n",
    "\n",
    "\n",
    "- Print the list of idens for the path of a single node through two pivots to a single end node:"
   ]
  },
  {
   "cell_type": "code",
   "execution_count": null,
   "metadata": {
    "hideCode": true,
    "hideOutput": true
   },
   "outputs": [],
   "source": [
    "# Make some nodes:\n",
    "q = '[ (inet:dns:a=(aunewsonline.com,67.215.66.149)) (inet:dns:a=(aunewsonline.com,184.168.221.92)) (inet:dns:a=(aunewsonline.com,104.239.213.7)) ]'\n",
    "podes = await core.eval(q, num=3, cmdr=False)"
   ]
  },
  {
   "cell_type": "code",
   "execution_count": null,
   "metadata": {
    "hideCode": true
   },
   "outputs": [],
   "source": [
    "# Define and print test query\n",
    "q = 'inet:fqdn=aunewsonline.com -> inet:dns:a +:ipv4=67.215.66.149 -> inet:ipv4 $lib.print($path.idens())'\n",
    "q1 = '\\n'\n",
    "print(q + q1)\n",
    "# Execute the query to test it and get the packed nodes (podes).\n",
    "podes = await core.eval(q, num=1, cmdr=True)"
   ]
  },
  {
   "cell_type": "raw",
   "metadata": {},
   "source": [
    "The example above returns the idens of the original ``inet:fqdn`` node, the ``inet:dns:a`` node with the specified IP, and the ``inet:ipv4`` node.\n",
    "\n",
    "- Print the list of idens for the path of a single node through two pivots to three different end nodes (i.e., three paths):"
   ]
  },
  {
   "cell_type": "code",
   "execution_count": null,
   "metadata": {
    "hideCode": true
   },
   "outputs": [],
   "source": [
    "# Define and print test query\n",
    "q = 'inet:fqdn=aunewsonline.com -> inet:dns:a -> inet:ipv4 $lib.print($path.idens())'\n",
    "q1 = '\\n'\n",
    "print(q + q1)\n",
    "# Execute the query to test it and get the packed nodes (podes).\n",
    "podes = await core.eval(q, num=3, cmdr=True)"
   ]
  },
  {
   "cell_type": "raw",
   "metadata": {},
   "source": [
    "In the example above, the FQDN has three DNS A records, thus there are three different paths that the original node takes through the query."
   ]
  },
  {
   "cell_type": "raw",
   "metadata": {},
   "source": [
    ".. _meth-path-trace:\n",
    "\n",
    "$path.trace()\n",
    "+++++++++++++\n",
    "\n",
    "TBD"
   ]
  },
  {
   "cell_type": "code",
   "execution_count": null,
   "metadata": {
    "hideCode": true,
    "hideOutput": true
   },
   "outputs": [],
   "source": [
    "# Close cortex because done\n",
    "_ = await core.fini()"
   ]
  }
 ],
 "metadata": {
  "celltoolbar": "Hide code",
  "kernelspec": {
   "display_name": "Python 3",
   "language": "python",
   "name": "python3"
  },
  "language_info": {
   "codemirror_mode": {
    "name": "ipython",
    "version": 3
   },
   "file_extension": ".py",
   "mimetype": "text/x-python",
   "name": "python",
   "nbconvert_exporter": "python",
   "pygments_lexer": "ipython3",
   "version": "3.7.1"
  }
 },
 "nbformat": 4,
 "nbformat_minor": 2
}
