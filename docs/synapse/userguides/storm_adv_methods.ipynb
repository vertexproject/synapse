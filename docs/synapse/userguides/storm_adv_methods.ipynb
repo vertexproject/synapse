{
 "cells": [
  {
   "cell_type": "code",
   "execution_count": null,
   "metadata": {
    "hideCode": true,
    "hideOutput": true
   },
   "outputs": [],
   "source": [
    "import os, sys\n",
    "try:\n",
    "    from synapse.lib.jupyter import *\n",
    "except ImportError as e:\n",
    "    # Insert the root path of the repository to sys.path.\n",
    "    # This assumes the notebook is located three directories away\n",
    "    # From the root synapse directory. It may need to be varied\n",
    "    synroot = os.path.abspath('../../../')\n",
    "    sys.path.insert(0, synroot)\n",
    "    from synapse.lib.jupyter import *"
   ]
  },
  {
   "cell_type": "code",
   "execution_count": null,
   "metadata": {
    "hideCode": true
   },
   "outputs": [],
   "source": [
    "# Create a cortex\n",
    "core = await getTempCoreCmdr()"
   ]
  },
  {
   "cell_type": "raw",
   "metadata": {},
   "source": [
    ".. highlight:: none\n",
    "\n",
    ".. _storm-adv-methods:\n",
    "\n",
    "Storm Reference - Advanced - Methods\n",
    "====================================\n",
    "\n",
    "Some of Storm’s built-in variables (:ref:`vars-builtin`) support **methods** used to perform various actions on the object represented by the variable.\n",
    "\n",
    "The built-in variables that support methods, along with their methods and examples, are listed below.\n",
    "\n",
    "The built-in :ref:`vars-global-lib` variable is used to access Storm libraries, described in :ref:`storm-adv-libs`.\n",
    "\n",
    "See :ref:`storm-ref-syntax` for an explanation of the syntax format used below.\n",
    "\n",
    "In the examples below, the :ref:`lib-print` library is used to display the value returned when a specific built-in variable or method is called. This is done for illustrative purposes only; ``$lib.print()`` is not required in order to use variables or methods.\n",
    "\n",
    "In some cases we have also included \"use-case\" examples, where the variable or method is used in one or more sample queries to illustrate possible practical use cases. These represent exemplar Storm queries for how a variable or method might be used in practice. While we have attempted to use relatively simple examples for clarity, some examples may leverage additional Storm features such as subqueries, subquery filters, or flow control elements such as \"for\" loops or \"switch\" statements.\n",
    "\n",
    ".. _meth-node:\n",
    "\n",
    "$node\n",
    "-----\n",
    "\n",
    ":ref:`vars-node-node` is a built-in Storm variable that references **the current node in the Storm query pipeline.** ``$node`` can be used as a variable on its own or with the methods listed below.\n",
    "\n",
    ".. NOTE::\n",
    "\n",
    "  As the ``$node`` variable and related methods reference the current node in the Storm pipeline, the variable and its methods will contain / return a null value if the inbound result set is empty (i.e., contains no nodes).\n",
    "\n",
    "Examples\n",
    "~~~~~~~~\n",
    "\n",
    "*Display the value of ``$node``:*\n",
    "\n",
    " - Print the value of ``$node`` for an ``inet:dns:a`` node:"
   ]
  },
  {
   "cell_type": "code",
   "execution_count": null,
   "metadata": {
    "hideCode": true,
    "hideOutput": true
   },
   "outputs": [],
   "source": [
    "# Make a node\n",
    "q = '[inet:dns:a=(woot.com,54.173.9.236) .seen=(\"2016/12/28 20:46:31.000\",\"2016/12/28 20:46:31.001\")]'\n",
    "podes = await core.eval(q, num=1, cmdr=False)"
   ]
  },
  {
   "cell_type": "code",
   "execution_count": null,
   "metadata": {
    "hideCode": true
   },
   "outputs": [],
   "source": [
    "# Define and print test query\n",
    "q = 'inet:dns:a=(woot.com,54.173.9.236) $lib.print($node)'\n",
    "q1 = '\\n'\n",
    "print(q + q1)\n",
    "# Execute the query to test it and get the packed nodes (podes).\n",
    "podes = await core.eval(q, num=1, cmdr=True)"
   ]
  },
  {
   "cell_type": "raw",
   "metadata": {},
   "source": [
    " - Print the value of ``$node`` for an ``inet:fqdn`` node with tags present:"
   ]
  },
  {
   "cell_type": "code",
   "execution_count": null,
   "metadata": {
    "hideCode": true,
    "hideOutput": true
   },
   "outputs": [],
   "source": [
    "# Make a node\n",
    "q = '[inet:fqdn=aunewsonline.com +#aka.feye.thr.apt1 +#cno.infra.sink.hole.kleissner=(2013/11/26,2016/11/26)]'\n",
    "podes = await core.eval(q, num=1, cmdr=False)"
   ]
  },
  {
   "cell_type": "code",
   "execution_count": null,
   "metadata": {
    "hideCode": true
   },
   "outputs": [],
   "source": [
    "# Define and print test query\n",
    "q = 'inet:fqdn=aunewsonline.com $lib.print($node)'\n",
    "q1 = '\\n'\n",
    "print(q + q1)\n",
    "# Execute the query to test it and get the packed nodes (podes).\n",
    "podes = await core.eval(q, num=1, cmdr=True)"
   ]
  },
  {
   "cell_type": "raw",
   "metadata": {},
   "source": [
    ".. NOTE::\n",
    "\n",
    "  The value of ``$node`` is the entire node object and associated properties and tags, as opposed to a specific aspect of the node, such as its iden or primary property value.\n",
    "  \n",
    "  As demonstrated below, some node constructors can \"intelligently\" leverage the relevant aspects of the full node object (the value of the ``$node`` variable) when creating new nodes.\n",
    "\n",
    "*Simplify node creation*\n",
    "\n",
    " - Use the ``$node`` variable to create an ``edge:refs`` node showing that a news article references the domain woot[.]com:"
   ]
  },
  {
   "cell_type": "code",
   "execution_count": null,
   "metadata": {
    "hideCode": true,
    "hideOutput": true
   },
   "outputs": [],
   "source": [
    "# Make a node\n",
    "q = '[media:news=(d41d8cd98f00b204e9800998ecf8427e)]'\n",
    "podes = await core.eval(q, num=1, cmdr=False)"
   ]
  },
  {
   "cell_type": "code",
   "execution_count": null,
   "metadata": {
    "hideCode": true
   },
   "outputs": [],
   "source": [
    "# Define and print test query\n",
    "q = 'media:news=a3759709982377809f28fc0555a38193 [ edge:refs=($node,(inet:fqdn,woot.com)) ]'\n",
    "print(q)\n",
    "# Execute the query to test it and get the packed nodes (podes).\n",
    "podes = await core.eval(q, num=2, cmdr=False)"
   ]
  },
  {
   "cell_type": "raw",
   "metadata": {},
   "source": [
    "*Simplify bulk node creation*\n",
    "\n",
    " - Use the ``$node`` variable to create multiple whois name server records (``inet:whois:recns``) from a set of inbound recent whois record nodes for the domain woot[.]com:"
   ]
  },
  {
   "cell_type": "code",
   "execution_count": null,
   "metadata": {
    "hideCode": true,
    "hideOutput": true
   },
   "outputs": [],
   "source": [
    "# Make some nodes\n",
    "q = '[ (inet:whois:rec=(woot.com,2019/03/02) :text=ns1.differentdomain.com) (inet:whois:rec=(woot.com,2019/06/13) :text=ns1.somedomain.com) (inet:whois:rec=(woot.com,2019/09/12) :text=ns1.somedomain.com)]'\n",
    "podes = await core.eval(q, num=3, cmdr=False)"
   ]
  },
  {
   "cell_type": "code",
   "execution_count": null,
   "metadata": {
    "hideCode": true
   },
   "outputs": [],
   "source": [
    "# Define and print test query\n",
    "q = 'inet:whois:rec:fqdn=woot.com +:asof>=2019/06/13 [ inet:whois:recns=(ns1.somedomain.com,$node) ]'\n",
    "print(q)\n",
    "# Execute the query to test it and get the packed nodes (podes).\n",
    "podes = await core.eval(q, num=4, cmdr=False)"
   ]
  },
  {
   "cell_type": "raw",
   "metadata": {},
   "source": [
    ".. _meth-node-data:\n",
    "\n",
    "$node.data\n",
    "++++++++++\n",
    "\n",
    "TBD\n",
    "\n",
    ".. _meth-node-data-set:\n",
    "\n",
    "$node.data.set()\n",
    "~~~~~~~~~~~~~~~~\n",
    "\n",
    "TBD\n",
    "\n",
    ".. _meth-node-data-get:\n",
    "\n",
    "$node.data.get()\n",
    "~~~~~~~~~~~~~~~~\n",
    "\n",
    "TBD\n",
    "\n",
    ".. _meth-node-data-list:\n",
    "\n",
    "$node.data.list()\n",
    "~~~~~~~~~~~~~~~~~\n",
    "\n",
    "TBD\n",
    "\n",
    ".. _meth-node-data-pop:\n",
    "\n",
    "$node.data.pop()\n",
    "~~~~~~~~~~~~~~~~\n",
    "\n",
    "TBD"
   ]
  },
  {
   "cell_type": "raw",
   "metadata": {},
   "source": [
    ".. _meth-node-form:\n",
    "\n",
    "$node.form()\n",
    "++++++++++++\n",
    "\n",
    "The ``$node.form()`` method returns the **form** of the current node in the Storm pipeline.\n",
    "\n",
    "The method takes no arguments.\n",
    "\n",
    "- Print the form of an ``inet:dns:a`` node:"
   ]
  },
  {
   "cell_type": "code",
   "execution_count": null,
   "metadata": {
    "hideCode": true
   },
   "outputs": [],
   "source": [
    "# Define and print test query\n",
    "q = 'inet:dns:a=(woot.com,54.173.9.236) $lib.print($node.form())'\n",
    "q1 = '\\n'\n",
    "print(q + q1)\n",
    "# Execute the query to test it and get the packed nodes (podes).\n",
    "podes = await core.eval(q, num=1, cmdr=True)"
   ]
  },
  {
   "cell_type": "raw",
   "metadata": {},
   "source": [
    ".. _meth-node-globtags:\n",
    "\n",
    "$node.globtags()\n",
    "++++++++++++++++\n",
    "\n",
    "TBD"
   ]
  },
  {
   "cell_type": "code",
   "execution_count": null,
   "metadata": {},
   "outputs": [],
   "source": []
  },
  {
   "cell_type": "raw",
   "metadata": {},
   "source": [
    ".. _meth-node-iden:\n",
    "\n",
    "$node.iden()\n",
    "++++++++++++\n",
    "\n",
    "The ``$node.iden()`` method returns the **iden** of the current node in the Storm pipeline.\n",
    "\n",
    "The method takes no arguments.\n",
    "\n",
    "- Print the iden of an ``inet:dns:a`` node:"
   ]
  },
  {
   "cell_type": "code",
   "execution_count": null,
   "metadata": {
    "hideCode": true
   },
   "outputs": [],
   "source": [
    "# Define and print test query\n",
    "q = 'inet:dns:a=(woot.com,54.173.9.236) $lib.print($node.iden())'\n",
    "q1 = '\\n'\n",
    "print(q + q1)\n",
    "# Execute the query to test it and get the packed nodes (podes).\n",
    "podes = await core.eval(q, num=1, cmdr=True)"
   ]
  },
  {
   "cell_type": "raw",
   "metadata": {},
   "source": [
    ".. _meth-node-isform:\n",
    "\n",
    "$node.isform()\n",
    "++++++++++++++\n",
    "\n",
    "TBD"
   ]
  },
  {
   "cell_type": "raw",
   "metadata": {},
   "source": [
    ".. _meth-node-ndef:\n",
    "\n",
    "$node.ndef()\n",
    "++++++++++++\n",
    "\n",
    "The ``$node.ndef()`` method returns the :ref:`gloss-ndef` (\"node definition\") of the current node in the Storm pipeline.\n",
    "\n",
    "The method takes no arguments.\n",
    "\n",
    "- Print the ndef of an ``inet:dns:a`` node:"
   ]
  },
  {
   "cell_type": "code",
   "execution_count": null,
   "metadata": {
    "hideCode": true
   },
   "outputs": [],
   "source": [
    "# Define and print test query\n",
    "q = 'inet:dns:a=(woot.com,54.173.9.236) $lib.print($node.ndef())'\n",
    "q1 = '\\n'\n",
    "print(q + q1)\n",
    "# Execute the query to test it and get the packed nodes (podes).\n",
    "podes = await core.eval(q, num=1, cmdr=True)"
   ]
  },
  {
   "cell_type": "raw",
   "metadata": {},
   "source": [
    ".. _meth-node-repr:\n",
    "\n",
    "$node.repr()\n",
    "++++++++++++\n",
    "\n",
    "The ``$node.repr()`` method returns the human-friendly :ref:`gloss-repr` (\"representation\") of the specified property of the current node in the Storm pipeline.\n",
    "\n",
    "The method takes one optional argument.\n",
    "\n",
    " - If no arguments are provided, the method returns the repr of the node's primary property value.\n",
    " - If an argument is provided, it should be the string of the secondary property name (i.e., without the leading colon ( ``:`` ) from relative property syntax).\n",
    "  - If a universal property string is provided, it must be preceded by the dot / period ( ``.`` ) and enclosed in quotes in accordance with the use of :ref:`literals`.\n",
    "\n",
    "- Print the repr of the primary property value of an ``inet:dns:a`` node:"
   ]
  },
  {
   "cell_type": "code",
   "execution_count": null,
   "metadata": {
    "hideCode": true
   },
   "outputs": [],
   "source": [
    "# Define and print test query\n",
    "q = 'inet:dns:a=(woot.com,54.173.9.236) $lib.print($node.repr())'\n",
    "q1 = '\\n'\n",
    "print(q + q1)\n",
    "# Execute the query to test it and get the packed nodes (podes).\n",
    "podes = await core.eval(q, num=1, cmdr=True)"
   ]
  },
  {
   "cell_type": "raw",
   "metadata": {},
   "source": [
    "- Print the repr of the ``:ipv4`` secondary property value of an ``inet:dns:a`` node:"
   ]
  },
  {
   "cell_type": "code",
   "execution_count": null,
   "metadata": {
    "hideCode": true
   },
   "outputs": [],
   "source": [
    "# Define and print test query\n",
    "q = 'inet:dns:a=(woot.com,54.173.9.236) $lib.print($node.repr(ipv4))'\n",
    "q1 = '\\n'\n",
    "print(q + q1)\n",
    "# Execute the query to test it and get the packed nodes (podes).\n",
    "podes = await core.eval(q, num=1, cmdr=True)"
   ]
  },
  {
   "cell_type": "raw",
   "metadata": {},
   "source": [
    "- Print the repr of the ``.seen`` universal property value of an ``inet:dns:a`` node:"
   ]
  },
  {
   "cell_type": "code",
   "execution_count": null,
   "metadata": {
    "hideCode": true
   },
   "outputs": [],
   "source": [
    "# Define and print test query\n",
    "q = 'inet:dns:a=(woot.com,54.173.9.236) $lib.print($node.repr(\".seen\"))'\n",
    "q1 = '\\n'\n",
    "print(q + q1)\n",
    "# Execute the query to test it and get the packed nodes (podes).\n",
    "podes = await core.eval(q, num=1, cmdr=True)"
   ]
  },
  {
   "cell_type": "raw",
   "metadata": {},
   "source": [
    ".. _meth-node-tags:\n",
    "\n",
    "$node.tags()\n",
    "++++++++++++\n",
    "\n",
    "The ``$node.tags()`` method returns a list of the tags applied to the current node in the Storm pipeline.\n",
    "\n",
    "The method takes one optional argument.\n",
    "\n",
    " - If no arguments are provided, the method returns the full list of all tags.\n",
    " - An optional argument can be used to match a subset of tags. ``$node.tags()`` ><STUFF GOES HERE>\n",
    "\n",
    "\n",
    "<MORE STUFF>"
   ]
  },
  {
   "cell_type": "raw",
   "metadata": {},
   "source": [
    ".. _meth-node-value:\n",
    "\n",
    "$node.value()\n",
    "+++++++++++++\n",
    "\n",
    "The ``$node.value()`` method returns the raw value of the primary property of the current node in the Storm pipeline.\n",
    "\n",
    "The method takes no arguments.\n",
    "\n",
    ".. NOTE::\n",
    "\n",
    "  The ``$node.value()`` method is only used to return the primary property value of a node because secondary property values can be accessed via a user-defined variable (i.e., ``$myvar = :<prop>``).\n",
    "\n",
    "\n",
    "- Print the value of the primary property value of an ``inet:dns:a`` node:"
   ]
  },
  {
   "cell_type": "code",
   "execution_count": null,
   "metadata": {},
   "outputs": [],
   "source": [
    "# Define and print test query\n",
    "q = 'inet:dns:a=(woot.com,54.173.9.236) $lib.print($node.value())'\n",
    "q1 = '\\n'\n",
    "print(q + q1)\n",
    "# Execute the query to test it and get the packed nodes (podes).\n",
    "podes = await core.eval(q, num=1, cmdr=True)"
   ]
  },
  {
   "cell_type": "raw",
   "metadata": {},
   "source": [
    ".. _meth-path:\n",
    "\n",
    "$path\n",
    "-----\n",
    "\n",
    ".. _meth-path-idens:\n",
    "\n",
    "$path.idens()\n",
    "+++++++++++++\n",
    "\n",
    ".. _meth-path-trace:\n",
    "\n",
    "$path.trace()\n",
    "+++++++++++++"
   ]
  }
 ],
 "metadata": {
  "celltoolbar": "Hide code",
  "kernelspec": {
   "display_name": "Python 3",
   "language": "python",
   "name": "python3"
  },
  "language_info": {
   "codemirror_mode": {
    "name": "ipython",
    "version": 3
   },
   "file_extension": ".py",
   "mimetype": "text/x-python",
   "name": "python",
   "nbconvert_exporter": "python",
   "pygments_lexer": "ipython3",
   "version": "3.7.1"
  }
 },
 "nbformat": 4,
 "nbformat_minor": 2
}
