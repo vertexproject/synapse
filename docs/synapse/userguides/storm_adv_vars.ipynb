{
 "cells": [
  {
   "cell_type": "code",
   "execution_count": null,
   "metadata": {},
   "outputs": [],
   "source": []
  },
  {
   "cell_type": "code",
   "execution_count": null,
   "metadata": {
    "hideCode": true,
    "hideOutput": true
   },
   "outputs": [],
   "source": [
    "import os, sys\n",
    "try:\n",
    "    from synapse.lib.jupyter import *\n",
    "except ImportError as e:\n",
    "    # Insert the root path of the repository to sys.path.\n",
    "    # This assumes the notebook is located three directories away\n",
    "    # From the root synapse directory. It may need to be varied\n",
    "    synroot = os.path.abspath('../../../')\n",
    "    sys.path.insert(0, synroot)\n",
    "    from synapse.lib.jupyter import *"
   ]
  },
  {
   "cell_type": "code",
   "execution_count": null,
   "metadata": {
    "hideCode": true,
    "hideOutput": true
   },
   "outputs": [],
   "source": [
    "# Create a cortex\n",
    "core = await getTempCoreCmdr()"
   ]
  },
  {
   "cell_type": "raw",
   "metadata": {},
   "source": [
    ".. highlight:: none\n",
    "\n",
    ".. _storm-adv-vars:\n",
    "\n",
    "Storm Reference - Advanced - Variables\n",
    "======================================\n",
    "\n",
    "Storm supports the use of **variables.** A :ref:`gloss-variable` is a value that can change depending on conditions or on information passed to the Storm query. (Contrast this with a :ref:`gloss-constant`, which is a value that is fixed and does not change.)\n",
    "\n",
    "Variables can be used in a variety of ways, from providing simpler or more efficient ways to reference node properties, to facilitating bulk operations, to performing complex tasks or writing extensions to Synapse in Storm.\n",
    "\n",
    "These documents approach variables and their use from a **user** standpoint and aim to provide sufficient background for users to understand and begin to use variables. They do not provide an in-depth discussion of variables and their use from a fully developer-oriented perspective.\n",
    "\n",
    "- `Storm Operating Concepts`_\n",
    "- `Variable Concepts`_\n",
    "\n",
    "  - `Variable Scope`_\n",
    "  - `Call Frame`_\n",
    "  - `Runtsafe vs. Non-Runtsafe`_\n",
    "\n",
    "- `Types of Variables`_\n",
    "\n",
    "  - `Built-In Variables`_\n",
    "  - `User-Defined Variables`_\n",
    "\n",
    ".. _op-concepts:\n",
    "\n",
    "Storm Operating Concepts\n",
    "------------------------\n",
    "\n",
    "When leveraging variables in Storm, it is important to keep in mind the high-level :ref:`storm-op-concepts`. Specifically:\n",
    "\n",
    "- Storm operations (e.g., lifts, filters, pivots, etc.) are performed on **nodes.**\n",
    "- Operations can be **chained** and are executed in order from left to right.\n",
    "- Storm acts as an **execution pipeline,** with each node passed individually and independently through the chain of Storm operations.\n",
    "- Most Storm operations **consume** nodes — that is, a given operation (such as a filter or pivot) acts upon the inbound node in some way and returns only the node or set of nodes that result from that operation.\n",
    "\n",
    "These principles apply to variables that reference nodes (or node properties) in Storm just as they apply to nodes, and so affect the way variables behave within Storm queries.\n",
    "\n",
    ".. _var-concepts:\n",
    "\n",
    "Variable Concepts\n",
    "-----------------\n",
    "\n",
    ".. _var-scope:\n",
    "\n",
    "Variable Scope\n",
    "++++++++++++++\n",
    "\n",
    "A variable’s **scope** is its lifetime and under what conditions it may be accessed. There are two dimensions that impact a variable’s scope: its **call frame** and its **runtime safety** (\"runtsafety\").\n",
    "\n",
    ".. _var-call-frame:\n",
    "\n",
    "Call Frame\n",
    "++++++++++\n",
    "\n",
    "A variable’s **call frame** is where the variable is used. The main Storm query starts with its own call frame, and each call to a \"pure\" Storm command, function, or subquery creates a new call frame. The new call frame gets a copy of all the variables from the calling call frame. Changes to existing variables or the creation of new variables within the new call frame do not impact the calling scope.\n",
    "\n",
    "Runtsafe vs. Non-Runtsafe\n",
    "+++++++++++++++++++++++++\n",
    "\n",
    "An important distinction to keep in mind when using variables in Storm is whether the variable is runtime-safe (\":ref:`gloss-runtsafe`\") or non-runtime safe (\":ref:`gloss-non-runtsafe`\").\n",
    "\n",
    "A variable that is **runtsafe** has a value independent of any nodes passing through the Storm pipeline. For example, a variable whose value is explicitly set, such as ``$string = mystring`` or ``$ipv4 = 8.8.8.8``  is considered runtsafe because the value does not change / is not affected by the specific node passing through the Storm pipeline.\n",
    "\n",
    "A variable that is **non-runtsafe** has a value derived from a node passing through the Storm pipeline. For example, a variable whose value is set to a node property value may change based on the specific node passing through the Storm pipeline. In other words, if your Storm query is operating on a set of DNS A nodes (``inet:dns:a``) and you define the variable ``$fqdn = :fqdn`` (setting the variable to the value of the ``:fqdn`` secondary property), the value of the variable will change based on the specific value of that property for each ``inet:dns:a`` node in the pipeline.\n",
    "\n",
    "All non-runtsafe variables are **scoped** to an individual node as it passes through the Storm pipeline. This means that a variable’s value based on a given node is not available when processing a different node (at least not without using special commands, methods, or libraries). In other words, the path of a particular node as it passes through the Storm pipeline is its own scope.\n",
    "\n",
    "The \"safe\" in non-runtsafe should **not** be interpreted as meaning the use of non-runtsafe variables is somehow \"risky\" or involves insecure programming or processing of data. It simply means the value of the variable is not safe from changing (i.e., it may change) as the Storm pipeline progresses.\n",
    "\n",
    ".. _var-types:\n",
    "\n",
    "Types of Variables\n",
    "------------------\n",
    "\n",
    "Storm supports two types of variables:\n",
    "\n",
    "- **Built-in variables.** Built-in variables facilitate many common Storm operations. They may vary in their scope and in the context in which they can be used.\n",
    "- **User-defined variables** User-defined variables are named and defined by the user. They are most often limited in scope and facilitate operations within a specific Storm query.\n",
    "\n",
    ".. _vars-builtin:\n",
    "\n",
    "Built-In Variables\n",
    "++++++++++++++++++\n",
    "\n",
    "Storm includes a set of built-in variables and associated variable methods (:ref:`storm-adv-methods`) and libraries (:ref:`storm-adv-libs`) that facilitate Cortex-wide, node-specific, and context-specific operations.\n",
    "\n",
    "Built-in variables differ from user-defined variables in that built-in variable names:\n",
    "\n",
    "- are initialized at Cortex start,\n",
    "- are reserved,\n",
    "- can be accessed automatically (i.e., without needing to define them) from within Storm, and\n",
    "- persist across user sessions and Cortex reboots.\n",
    "\n",
    ".. _vars-global:\n",
    "\n",
    "Global Variables\n",
    "~~~~~~~~~~~~~~~~\n",
    "\n",
    "Global variables operate independently of any node. That is, they can be invoked in a Storm query in the absence of any nodes in the Storm execution pipeline (though they can also be leveraged when performing operations on nodes).\n",
    "\n",
    ".. _vars-global-lib:\n",
    "\n",
    "$lib\n",
    "####\n",
    "\n",
    "The library variable ( ``$lib`` ) is a built-in variable that provides access to the global Storm library. In Storm, libraries are accessed using built-in variable names (e.g., ``$lib.print()``).\n",
    "\n",
    "See :ref:`storm-adv-libs` for descriptions of the libraries available within Storm.\n",
    "\n",
    ".. _vars-node:\n",
    "\n",
    "Node-Specific Variables\n",
    "~~~~~~~~~~~~~~~~~~~~~~~\n",
    "\n",
    "Storm includes node-specific variables that are designed to operate on or in conjunction with nodes and require one or more nodes in the Storm pipeline.\n",
    "\n",
    ".. NOTE::\n",
    "\n",
    "  Node-specific variables are always non-runtsafe.\n",
    "\n",
    ".. _vars-node-node:\n",
    "\n",
    "$node\n",
    "#####\n",
    "\n",
    "The node variable (``$node``) is a built-in Storm variable that **references the current node in the Storm query.** Specifically, this variable contains the inbound node’s node object, and provides access to the node’s attributes, properties, and associated attribute and property values.\n",
    "\n",
    "Invoking this variable during a Storm query is useful when you want to:\n",
    "\n",
    "- access the raw and entire node object,\n",
    "- store the value of the current node before pivoting to another node, or\n",
    "- use an aspect of the current node in subsequent query operations.\n",
    "\n",
    "The ``$node`` variable supports a number of built-in methods that can be used to access specific data or properties associated with a node. See the :ref:`meth-node` section of the :ref:`storm-adv-methods` document for additional detail and examples.\n",
    "\n",
    ".. _vars-node-path:\n",
    "\n",
    "$path\n",
    "#####\n",
    "\n",
    "The path variable (``$path``) is a built-in Storm variable that **references the path of a node as it travels through the pipeline of a Storm query.**\n",
    "\n",
    "The ``$path`` variable is not used on its own, but in conjunction with its methods. See the :ref:`meth-path` section of the :ref:`storm-adv-methods` documents for additional detail and examples.\n",
    "\n",
    ".. _vars-trigger:\n",
    "\n",
    "Trigger-Specific Variables\n",
    "~~~~~~~~~~~~~~~~~~~~~~~~~~\n",
    "\n",
    "A :ref:`gloss-trigger` is used to support automation within a Cortex. Triggers use events (such as the creation of a node, setting the value of a node’s property, or applying a tag to a node) to fire (\"trigger\") the execution of a predefined Storm query. Storm uses a built-in variable specifically within the context of trigger-initiated Storm queries.\n",
    "\n",
    ".. _vars-trigger-tag:\n",
    "\n",
    "$tag\n",
    "####\n",
    "\n",
    "Within the context of triggers that fire on ``tag:add`` events, the ``$tag`` variable represents the name of the tag that caused the trigger to fire.\n",
    "\n",
    "For example:\n",
    "\n",
    "You write a trigger to fire when any tag matching the expression ``#foo.bar.*`` is added to a ``file:bytes`` node. The trigger executes the following Storm command:\n",
    "\n",
    ".. parsed-literal::\n",
    "\n",
    "  -> hash:md5 [ +#$tag ]\n",
    "\n",
    "Because the trigger uses a wildcard expression, it will fire on any tag that matches that expression (e.g., ``#foo.bar.hurr``, ``#foo.bar.derp``, etc.). The Storm snippet above will take the inbound ``file:bytes`` node, pivot to the file’s associated MD5 node (``hash:md5``), and apply the same tag that fired the trigger to the MD5.\n",
    "\n",
    "See the :ref:`auto-triggers` section of the :ref:`storm-ref-automation` document and the Storm :ref:`storm-trigger` command for a more detailed discussion of triggers and associated Storm commands.\n",
    "\n",
    ".. _vars-csvtool:\n",
    "\n",
    "CSVTool-Specific Variables\n",
    "~~~~~~~~~~~~~~~~~~~~~~~~~~\n",
    "\n",
    "Synapse's **CSVTool** is used to ingest (import) data into or export data from a Cortex using comma-separated value (CSV) format. Storm includes a built-in variable to facilitate bulk data ingest using CSV.\n",
    "\n",
    ".. _vars-csvtool-rows:\n",
    "\n",
    "$rows\n",
    "#####\n",
    "\n",
    "The ``$rows`` variable refers to the set of rows in a CSV file. When ingesting data into a Cortex, CSVTool reads a CSV file and a file containing a Storm query that tells CSVTool how to process the CSV data. The Storm query is typically constructed to iterate over the set of rows (``$rows``) using a \"for\" loop that uses user-defined variables to reference each field (column) in the CSV data.\n",
    "\n",
    "For example:\n",
    "\n",
    ".. parsed-literal::\n",
    "\n",
    "  for ($var1, $var2, $var3, $var4) in $rows { <do stuff> }\n",
    "\n",
    "See :ref:`syn-tools-csvtool` for a more detailed discussion of CSVTool use and associated Storm syntax.\n",
    "\n",
    ".. _vars-user:\n",
    "\n",
    "User-Defined Variables\n",
    "++++++++++++++++++++++\n",
    "\n",
    "User-defined variables can be defined in one of two ways:\n",
    "\n",
    "- At runtime (i.e., within the scope of a specific Storm query). This is the most common use for user-defined variables.\n",
    "- Mapped via options passed to the Storm runtime (i.e., when using the ``--optifle`` option from Synapse cmdr or via Cortex API access). This method is less common. When defined in this manner, user-defined variables will behave as though they are built-in variables that are runtsafe.\n",
    "\n",
    ".. _vars-names:\n",
    "\n",
    "Variable Names\n",
    "~~~~~~~~~~~~~~\n",
    "\n",
    "All variable names in Storm (including built-in variables) begin with a dollar sign ( ``$`` ). A variable name can be any alphanumeric string, **except for** the name of a built-in variable (see :ref:`vars-builtin`), as those names are reserved. Variable names are case-sensitive; the variable ``$MyVar`` is different from ``$myvar``.\n",
    "\n",
    "\n",
    ".. NOTE::\n",
    "\n",
    "  Storm will not prevent you from using the name of a built-in variable to define a variable (such as ``$node = 7``). However, doing so may result in undesired effects or unexpected errors due to the variable name collision.\n",
    "\n",
    ".. _vars-define:\n",
    "\n",
    "Defining Variables\n",
    "~~~~~~~~~~~~~~~~~~\n",
    "\n",
    "Within Storm, a user-defined variable is defined using the syntax:\n",
    "\n",
    ".. parsed-literal::\n",
    "\n",
    "  $<varname> = <value>\n",
    "\n",
    "The variable name must be specified first, followed by the equals sign and the value of the variable itself.\n",
    "\n",
    "``<value>`` can be:\n",
    "\n",
    "- an explicit value / literal,\n",
    "- a node secondary or universal property,\n",
    "- a tag or tag property,\n",
    "- a built-in variable or method,\n",
    "- a library function,\n",
    "- a mathematical expression / \"dollar expression\", or\n",
    "- an embedded query.\n",
    "\n",
    "Examples\n",
    "~~~~~~~~\n",
    "\n",
    "Two types of examples are used below:\n",
    "\n",
    "- **Demonstrative example:** the ``$lib.print()`` library function is used to display the value of the user-defined variable being set. This is done for illustrative purposes only; ``$lib.print()`` is not required in order to use variables or methods.\n",
    "\n",
    "  Keep Storm's operation chaining, pipeline, and node consumption aspects in mind when reviewing the demonstrative examples below. When using ``$lib.print()`` to display the value of a variable, the queries below will:\n",
    "  \n",
    "    - Lift the specified node(s).\n",
    "    - Assign the variable. Note that assigning a variable has no impact on the nodes themselves.\n",
    "    - Print the variable's value.\n",
    "    - Return any nodes still in the pipeline. Because variable assignment doesn't impact the node(s), they are not consumed and so are returned (displayed) at the CLI.\n",
    "  \n",
    "  The effect of this process is that for each node in the Storm query pipeline, the output of ``$lib.print()`` is displayed, followed by the relevant node.\n",
    "\n",
    "- **Use-case example:** the user-defined variable is used in one or more sample queries to illustrate possible practical use cases. These represent exemplar Storm queries for how a variable or method might be used in practice. While we have attempted to use relatively simple examples for clarity, some examples may leverage additional Storm features such as subqueries, subquery filters, or flow control elements such as \"for\" loops or \"switch\" statements.\n",
    "\n",
    "*Assign a literal to a user-defined variable:*\n",
    "\n",
    "- Assign the value 5 to the variable ``$threshold``:"
   ]
  },
  {
   "cell_type": "code",
   "execution_count": null,
   "metadata": {
    "hideCode": true
   },
   "outputs": [],
   "source": [
    "# Define and print test query\n",
    "q = '$threshold=5 $lib.print($threshold)'\n",
    "q1 = '\\n'\n",
    "print(q + q1)\n",
    "# Execute the query to test it and get the packed nodes (podes).\n",
    "podes = await core.eval(q, num=0, cmdr=True)"
   ]
  },
  {
   "cell_type": "raw",
   "metadata": {},
   "source": [
    "- Tag any ``file:bytes`` nodes that have a number of AV signature hits higher than a given threshold for review:"
   ]
  },
  {
   "cell_type": "code",
   "execution_count": null,
   "metadata": {
    "hideCode": true,
    "hideOutput": true
   },
   "outputs": [],
   "source": [
    "# Make some nodes\n",
    "q = '[file:bytes=sha256:0000746c55336cd8d34885545f9347d96607d0391fbd3e76dae7f2b3447775b4 it:av:filehit=(sha256:0000746c55336cd8d34885545f9347d96607d0391fbd3e76dae7f2b3447775b4, (0bfef0179bf358f3fe7bad67fa529c77, trojan.gen.2)) it:av:filehit=(sha256:0000746c55336cd8d34885545f9347d96607d0391fbd3e76dae7f2b3447775b4, (325cd5a01724fa0c63907eac044f4961, trojan.agent/gen-onlinegames)) it:av:filehit=(sha256:0000746c55336cd8d34885545f9347d96607d0391fbd3e76dae7f2b3447775b4, (ac8d9645c6cdf123683a73a02e231052, w32/imestartup.a.gen!eldorado))]'\n",
    "q1 = '[file:bytes=sha256:00007694135237ec8dc5234007043814608f239befdfc8a61b992e4d09e0cf3f it:av:filehit=(sha256:00007694135237ec8dc5234007043814608f239befdfc8a61b992e4d09e0cf3f, (be9793d772d23269ab0c165af819e74a, troj_gen.r002c0gkj17)) it:av:filehit=(sha256:00007694135237ec8dc5234007043814608f239befdfc8a61b992e4d09e0cf3f, (eef2ccb70945fb28a45c7f14f2a0f11d, malicious.1b8fb7)) it:av:filehit=(sha256:00007694135237ec8dc5234007043814608f239befdfc8a61b992e4d09e0cf3f, (ce4e34d2f9207095aa7351986bbad357, trojan-ddos.win32.stormattack.c)) it:av:filehit=(sha256:00007694135237ec8dc5234007043814608f239befdfc8a61b992e4d09e0cf3f, (ed344310e3203ec4348c4ee549a3b188, \"trojan ( 00073eb11 )\")) it:av:filehit=(sha256:00007694135237ec8dc5234007043814608f239befdfc8a61b992e4d09e0cf3f, (f5b5daeda10e487fccc07463d9df6b47, tool.stormattack.win32.10)) it:av:filehit=(sha256:00007694135237ec8dc5234007043814608f239befdfc8a61b992e4d09e0cf3f, (a0f25a5ba637d5c8e7c42911c4336085, trojan/w32.agent.61440.eii))]'\n",
    "podes = await core.eval(q, num=4, cmdr=False)\n",
    "podes = await core.eval(q1, num=7, cmdr=False)"
   ]
  },
  {
   "cell_type": "code",
   "execution_count": null,
   "metadata": {
    "hideCode": true
   },
   "outputs": [],
   "source": [
    "# Define and print test query\n",
    "q = '$threshold=5 file:bytes +{ -> it:av:filehit } >= $threshold [ +#review ]'\n",
    "print(q)\n",
    "# Execute the query to test it and get the packed nodes (podes).\n",
    "podes = await core.eval(q, num=1, cmdr=False)"
   ]
  },
  {
   "cell_type": "raw",
   "metadata": {},
   "source": [
    "*Assign a node secondary property to a user-defined variable:*\n",
    "\n",
    "- Assign the ``:user`` property from an Internet-based account (``inet:web:acct``) to the variable ``$user``:"
   ]
  },
  {
   "cell_type": "code",
   "execution_count": null,
   "metadata": {
    "hideCode": true,
    "hideOutput": true
   },
   "outputs": [],
   "source": [
    "# Make a node\n",
    "q = '[inet:web:acct=(twitter.com,bert) :email=bert@gmail.com]'\n",
    "podes = await core.eval(q, num=1, cmdr=False)"
   ]
  },
  {
   "cell_type": "code",
   "execution_count": null,
   "metadata": {
    "hideCode": true
   },
   "outputs": [],
   "source": [
    "# Define and print test query\n",
    "q = 'inet:web:acct=(twitter.com,bert) $user=:user $lib.print($user)'\n",
    "q1 = '\\n'\n",
    "print(q + q1)\n",
    "# Execute the query to test it and get the packed nodes (podes).\n",
    "podes = await core.eval(q, num=1, cmdr=True)"
   ]
  },
  {
   "cell_type": "raw",
   "metadata": {},
   "source": [
    "- Find email addresses associated with a set of Internet accounts where the username of the email address is the same as the username of the Internet account:"
   ]
  },
  {
   "cell_type": "code",
   "execution_count": null,
   "metadata": {
    "hideCode": true,
    "hideOutput": true
   },
   "outputs": [],
   "source": [
    "# Make another node\n",
    "q = '[inet:web:acct=(twitter.com,ernie) :email=noternie@gmail.com]'\n",
    "podes = await core.eval(q, num=1, cmdr=False)"
   ]
  },
  {
   "cell_type": "code",
   "execution_count": null,
   "metadata": {
    "hideCode": true
   },
   "outputs": [],
   "source": [
    "# Define and print test query\n",
    "q = 'inet:web:acct $user=:user -> inet:email +:user=$user'\n",
    "print(q)\n",
    "# Execute the query to test it and get the packed nodes (podes).\n",
    "podes = await core.eval(q, num=1, cmdr=False)"
   ]
  },
  {
   "cell_type": "raw",
   "metadata": {},
   "source": [
    "*Assign a node universal property to a user-defined variable:*\n",
    "\n",
    "- Assign the ``.seen`` universal property from a DNS A node to the variable ``$time``:"
   ]
  },
  {
   "cell_type": "code",
   "execution_count": null,
   "metadata": {
    "hideCode": true,
    "hideOutput": true
   },
   "outputs": [],
   "source": [
    "# Make a node\n",
    "q = '[inet:dns:a=(woot.com,1.2.3.4) .seen=(\"2018/11/27 03:28:14\",\"2019/08/15 18:32:47\")]'\n",
    "podes = await core.eval(q, num=1, cmdr=False)"
   ]
  },
  {
   "cell_type": "code",
   "execution_count": null,
   "metadata": {
    "hideCode": true
   },
   "outputs": [],
   "source": [
    "# Define and print test query\n",
    "q = 'inet:dns:a=(woot.com,1.2.3.4) $time=.seen $lib.print($time)'\n",
    "q1 = '\\n'\n",
    "print(q + q1)\n",
    "# Execute the query to test it and get the packed nodes (podes).\n",
    "podes = await core.eval(q, num=1, cmdr=True)"
   ]
  },
  {
   "cell_type": "raw",
   "metadata": {},
   "source": [
    ".. NOTE::\n",
    "\n",
    "  In the example above, the raw value of the ``.seen`` property is assigned to the ``$time`` variable. ``.seen`` is an interval (:ref:`type-ival`) type, consisting of a pair of minimum and maximum time values. These values are stored in Unix epoch millis, which are the values shown by the output of the ``$lib.print()`` function.\n"
   ]
  },
  {
   "cell_type": "raw",
   "metadata": {},
   "source": [
    "- Given a DNS A record, find other DNS A records that pointed to the same IP address in the same time window:"
   ]
  },
  {
   "cell_type": "code",
   "execution_count": null,
   "metadata": {
    "hideCode": true,
    "hideOutput": true
   },
   "outputs": [],
   "source": [
    "# Make some moar nodes\n",
    "q = '[ ( inet:dns:a=(hurr.net,1.2.3.4) .seen=(\"2018/12/09 06:02:53\",\"2019/01/03 11:27:01\") ) ( inet:dns:a=(derp.org,1.2.3.4) .seen=(\"2019/09/03 01:11:23\",\"2019/12/14 14:22:00\"))]'\n",
    "podes = await core.eval(q, num=2, cmdr=False)"
   ]
  },
  {
   "cell_type": "code",
   "execution_count": null,
   "metadata": {
    "hideCode": true
   },
   "outputs": [],
   "source": [
    "# Define and print test query\n",
    "q = 'inet:dns:a=(woot.com,1.2.3.4) $time=.seen -> inet:ipv4 -> inet:dns:a +.seen@=$time'\n",
    "print(q)\n",
    "# Execute the query to test it and get the packed nodes (podes).\n",
    "podes = await core.eval(q, num=2, cmdr=False)"
   ]
  },
  {
   "cell_type": "raw",
   "metadata": {},
   "source": [
    "*Assign a tag to a user-defined variable:*\n",
    "\n",
    "- Assign the explicit tag value ``cno.infra.anon.tor`` to the variable ``$tortag``:"
   ]
  },
  {
   "cell_type": "code",
   "execution_count": null,
   "metadata": {
    "hideCode": true
   },
   "outputs": [],
   "source": [
    "# Define and print test query\n",
    "q = '$tortag=cno.infra.anon.tor $lib.print($tortag)'\n",
    "q1 = '\\n'\n",
    "print(q + q1)\n",
    "# Execute the query to test it and get the packed nodes (podes).\n",
    "podes = await core.eval(q, num=0, cmdr=True)"
   ]
  },
  {
   "cell_type": "raw",
   "metadata": {},
   "source": [
    "- Tag IP addresses that Shodan  says are associated with Tor with the ``#cno.infra.anon.tor`` tag:"
   ]
  },
  {
   "cell_type": "code",
   "execution_count": null,
   "metadata": {
    "hideCode": true,
    "hideOutput": true
   },
   "outputs": [],
   "source": [
    "# Make some nodes\n",
    "q = '[ inet:ipv4=84.140.90.95 inet:ipv4=54.38.219.150 inet:ipv4=46.105.100.149 +#rep.shodan.tor ]'\n",
    "podes = await core.eval(q, num=3, cmdr=False)"
   ]
  },
  {
   "cell_type": "code",
   "execution_count": null,
   "metadata": {
    "hideCode": true
   },
   "outputs": [],
   "source": [
    "# Define and print test query\n",
    "q = '$tortag=cno.infra.anon.tor inet:ipv4#rep.shodan.tor [ +#$tortag ]'\n",
    "print(q)\n",
    "# Execute the query to test it and get the packed nodes (podes).\n",
    "podes = await core.eval(q, num=3, cmdr=False)"
   ]
  },
  {
   "cell_type": "raw",
   "metadata": {},
   "source": [
    "*Assign a tag timestamp to a user-defined variable:*\n",
    "\n",
    "- Assign the times associated with Threat Group 20’s use of a malicious domain to the variable ``$time``:"
   ]
  },
  {
   "cell_type": "code",
   "execution_count": null,
   "metadata": {
    "hideCode": true,
    "hideOutput": true
   },
   "outputs": [],
   "source": [
    "# Make a node\n",
    "q = '[inet:fqdn=evildomain.com +#cno.threat.t20.tc=(2015/09/08,2017/09/08)]'\n",
    "podes = await core.eval(q, num=1, cmdr=False)"
   ]
  },
  {
   "cell_type": "code",
   "execution_count": null,
   "metadata": {
    "hideCode": true
   },
   "outputs": [],
   "source": [
    "# Define and print test query\n",
    "q = 'inet:fqdn=evildomain.com $time=#cno.threat.t20.tc $lib.print($time)'\n",
    "q1 = '\\n'\n",
    "print(q + q1)\n",
    "# Execute the query to test it and get the packed nodes (podes).\n",
    "podes = await core.eval(q, num=1, cmdr=True)"
   ]
  },
  {
   "cell_type": "raw",
   "metadata": {},
   "source": [
    "- Find DNS A records for any subdomain associated with a Threat Group 20 zone during the time they controlled the zone:"
   ]
  },
  {
   "cell_type": "code",
   "execution_count": null,
   "metadata": {
    "hideCode": true,
    "hideOutput": true
   },
   "outputs": [],
   "source": [
    "# Make some moar nodes\n",
    "q = '[ (inet:dns:a=(www.evildomain.com,1.2.3.4) .seen=(2016/07/12,2016/12/13)) (inet:dns:a=(smtp.evildomain.com,5.6.7.8) .seen=(2016/04/04,2016/08/02)) (inet:dns:a=(evildomain.com,12.13.14.15) .seen=(2017/12/22,2019/12/22))]'\n",
    "podes = await core.eval(q, num=3, cmdr=False)"
   ]
  },
  {
   "cell_type": "code",
   "execution_count": null,
   "metadata": {
    "hideCode": true
   },
   "outputs": [],
   "source": [
    "# Define and print test query\n",
    "q = 'inet:fqdn#cno.threat.t20.tc $time=#cno.threat.t20.tc -> inet:fqdn:zone -> inet:dns:a +.seen@=$time'\n",
    "print(q)\n",
    "# Execute the query to test it and get the packed nodes (podes).\n",
    "podes = await core.eval(q, num=2, cmdr=False)"
   ]
  },
  {
   "cell_type": "raw",
   "metadata": {},
   "source": [
    "*Assign a tag property to a user-defined variable:*\n",
    "\n",
    "- Assign the risk value assigned by DomainTools to an FQDN to the variable ``$risk``:"
   ]
  },
  {
   "cell_type": "code",
   "execution_count": null,
   "metadata": {
    "hideCode": true,
    "hideOutput": true
   },
   "outputs": [],
   "source": [
    "# Create a custom tag property\n",
    "await core.core.addTagProp('risk', ('int', {'minval': 0, 'maxval': 100}), {'doc': 'Risk score'})"
   ]
  },
  {
   "cell_type": "code",
   "execution_count": null,
   "metadata": {
    "hideCode": true,
    "hideOutput": true
   },
   "outputs": [],
   "source": [
    "# Make a node\n",
    "q = '[inet:fqdn=badsite.org +#rep.domaintools:risk=85]'\n",
    "podes = await core.eval(q, num=1, cmdr=False)"
   ]
  },
  {
   "cell_type": "code",
   "execution_count": null,
   "metadata": {
    "hideCode": true
   },
   "outputs": [],
   "source": [
    "# Define and print test query\n",
    "q = 'inet:fqdn=badsite.org $risk=#rep.domaintools:risk $lib.print($risk)'\n",
    "q1 = '\\n'\n",
    "print(q + q1)\n",
    "# Execute the query to test it and get the packed nodes (podes).\n",
    "podes = await core.eval(q, num=1, cmdr=True)"
   ]
  },
  {
   "cell_type": "raw",
   "metadata": {},
   "source": [
    "- Given an FQDN with a risk score, find all FQDNs with an equal or higher risk score:"
   ]
  },
  {
   "cell_type": "code",
   "execution_count": null,
   "metadata": {
    "hideCode": true,
    "hideOutput": true
   },
   "outputs": [],
   "source": [
    "# Make some moar nodes:\n",
    "q = '[ (inet:fqdn=stillprettybad.com +#rep.domaintools:risk=92) (inet:fqdn=notsobad.net +#rep.domaintools:risk=67)]'\n",
    "podes = await core.eval(q, num=2, cmdr=False)"
   ]
  },
  {
   "cell_type": "code",
   "execution_count": null,
   "metadata": {
    "hideCode": true
   },
   "outputs": [],
   "source": [
    "# Define and print test query\n",
    "q = 'inet:fqdn=badsite.org $risk=#rep.domaintools:risk inet:fqdn#rep.domaintools:risk>=$risk'\n",
    "print(q)\n",
    "# Execute the query to test it and get the packed nodes (podes).\n",
    "podes = await core.eval(q, num=3, cmdr=False)"
   ]
  },
  {
   "cell_type": "raw",
   "metadata": {},
   "source": [
    "*Assign a built-in variable to a user-defined variable:*\n",
    "\n",
    "- Assign a ``ps:person`` node to the variable ``$person``:"
   ]
  },
  {
   "cell_type": "code",
   "execution_count": null,
   "metadata": {
    "hideCode": true,
    "hideOutput": true
   },
   "outputs": [],
   "source": [
    "# Make a node\n",
    "q = '[ps:person=\"0040a7600a7a4b59297a287d11173d5c\"]'\n",
    "podes = await core.eval(q, num=1, cmdr=False)"
   ]
  },
  {
   "cell_type": "code",
   "execution_count": null,
   "metadata": {
    "hideCode": true
   },
   "outputs": [],
   "source": [
    "# Define and print test query\n",
    "q = 'ps:person=0040a7600a7a4b59297a287d11173d5c $person=$node $lib.print($person)'\n",
    "q1 = '\\n'\n",
    "print(q + q1)\n",
    "# Execute the query to test it and get the packed nodes (podes).\n",
    "podes = await core.eval(q, num=1, cmdr=True)"
   ]
  },
  {
   "cell_type": "raw",
   "metadata": {},
   "source": [
    "- For a given person, find all objects the person \"has\" and all the news articles that reference that person (uses the Storm :ref:`storm-tee` command):"
   ]
  },
  {
   "cell_type": "code",
   "execution_count": null,
   "metadata": {
    "hideCode": true,
    "hideOutput": true
   },
   "outputs": [],
   "source": [
    "# Make some moar nodes:\n",
    "q = '[ (edge:has=((ps:person,0040a7600a7a4b59297a287d11173d5c),(inet:web:acct,(twitter.com,mytwitter)))) (edge:refs=((media:news,00076a3f20808a14cbaa01ad51111edc),(ps:person,0040a7600a7a4b59297a287d11173d5c)))]'\n",
    "podes = await core.eval(q, num=2, cmdr=False)"
   ]
  },
  {
   "cell_type": "code",
   "execution_count": null,
   "metadata": {
    "hideCode": true
   },
   "outputs": [],
   "source": [
    "# Define and print test query\n",
    "q = 'ps:person=0040a7600a7a4b59297a287d11173d5c $person = $node | tee { edge:has:n1=$person -> * } { edge:refs:n2=$person <- * +media:news }'\n",
    "print(q)\n",
    "# Execute the query to test it and get the packed nodes (podes).\n",
    "podes = await core.eval(q, num=2, cmdr=False)"
   ]
  },
  {
   "cell_type": "raw",
   "metadata": {},
   "source": [
    ".. NOTE::\n",
    "\n",
    "  See the :ref:`meth-node` section of the :ref:`storm-adv-methods` document for additional detail and examples when using the ``$node`` built-in variable and related methods."
   ]
  },
  {
   "cell_type": "raw",
   "metadata": {},
   "source": [
    "*Assign a built-in variable method to a user-defined variable:*\n",
    "\n",
    "- Assign the value of a domain node to the variable ``$fqdn``:"
   ]
  },
  {
   "cell_type": "code",
   "execution_count": null,
   "metadata": {
    "hideCode": true,
    "hideOutput": true
   },
   "outputs": [],
   "source": [
    "# Make a node:\n",
    "q = '[ inet:fqdn=mail.mydomain.com ]'\n",
    "podes = await core.eval(q, num=1, cmdr=False)"
   ]
  },
  {
   "cell_type": "code",
   "execution_count": null,
   "metadata": {
    "hideCode": true
   },
   "outputs": [],
   "source": [
    "# Define and print test query\n",
    "q = 'inet:fqdn=mail.mydomain.com $fqdn=$node.value() $lib.print($fqdn)'\n",
    "q1 = '\\n'\n",
    "print(q + q1)\n",
    "# Execute the query to test it and get the packed nodes (podes).\n",
    "podes = await core.eval(q, num=1, cmdr=True)"
   ]
  },
  {
   "cell_type": "raw",
   "metadata": {},
   "source": [
    "- Find the DNS A records associated with a given domain where the PTR record for the IP matches the FQDN:"
   ]
  },
  {
   "cell_type": "code",
   "execution_count": null,
   "metadata": {
    "hideCode": true,
    "hideOutput": true
   },
   "outputs": [],
   "source": [
    "# Make some moar nodes:\n",
    "q = '[ inet:dns:a=(mail.mydomain.com,11.12.13.14) inet:dns:a=(mail.mydomain.com,25.25.25.25) ( inet:ipv4=25.25.25.25 :dns:rev=mail.mydomain.com ) ]'\n",
    "podes = await core.eval(q, num=3, cmdr=False)"
   ]
  },
  {
   "cell_type": "code",
   "execution_count": null,
   "metadata": {
    "hideCode": true
   },
   "outputs": [],
   "source": [
    "# Define and print test query\n",
    "q = 'inet:fqdn=mail.mydomain.com $fqdn=$node.value() -> inet:dns:a +{ -> inet:ipv4 +:dns:rev=$fqdn }'\n",
    "print(q)\n",
    "# Execute the query to test it and get the packed nodes (podes).\n",
    "podes = await core.eval(q, num=1, cmdr=False)"
   ]
  },
  {
   "cell_type": "raw",
   "metadata": {},
   "source": [
    "*Assign a library function to a user-defined variable:*\n",
    "\n",
    "- Assign a value to the variable ``$mytag`` using a library function:"
   ]
  },
  {
   "cell_type": "code",
   "execution_count": null,
   "metadata": {
    "hideCode": true
   },
   "outputs": [],
   "source": [
    "# Define and print test query\n",
    "q = '$mytag = $lib.str.format(\"cno.mal.sofacy\") $lib.print($mytag)'\n",
    "q1 = '\\n'\n",
    "print(q + q1)\n",
    "# Execute the query to test it and get the packed nodes (podes).\n",
    "podes = await core.eval(q, num=0, cmdr=True)"
   ]
  },
  {
   "cell_type": "raw",
   "metadata": {},
   "source": [
    "- Assign a value to the variable ``$mytag`` using a library function (example 2):"
   ]
  },
  {
   "cell_type": "code",
   "execution_count": null,
   "metadata": {
    "hideCode": true,
    "hideOutput": true
   },
   "outputs": [],
   "source": [
    "# Make a node:\n",
    "q = '[ file:bytes=e3b0c44298fc1c149afbf4c8996fb92427ae41e4649b934ca495991b7852b855 +#code.fam.sofacy ]'\n",
    "podes = await core.eval(q, num=1, cmdr=False)"
   ]
  },
  {
   "cell_type": "code",
   "execution_count": null,
   "metadata": {
    "hideCode": true
   },
   "outputs": [],
   "source": [
    "# Define and print test query\n",
    "q = 'file:bytes=e3b0c44298fc1c149afbf4c8996fb92427ae41e4649b934ca495991b7852b855 for $tag in $node.tags(code.fam.*) { $malfam=$tag.split(\".\").index(2) $mytag=$lib.str.format(\"cno.mal.{malfam}\", malfam=$malfam) $lib.print($mytag) }'\n",
    "q1 = '\\n'\n",
    "print(q + q1)\n",
    "# Execute the query to test it and get the packed nodes (podes).\n",
    "podes = await core.eval(q, num=1, cmdr=True)"
   ]
  },
  {
   "cell_type": "raw",
   "metadata": {},
   "source": [
    "The above example leverages:\n",
    "\n",
    " - three variables (``$tag``, ``$malfam``, and ``$mytag``);\n",
    " - the :ref:`meth-node-tags` method;\n",
    " - the ``$lib.split()``, ``$lib.index()``, and ``$lib.str.format()`` library functions; as well as\n",
    " - a \"for\" loop.\n",
    "\n"
   ]
  },
  {
   "cell_type": "raw",
   "metadata": {},
   "source": [
    "- If a file is tagged as part of a malicious code (malware) family, then also tag the file to indicate it is part of that malware's ecosystem:"
   ]
  },
  {
   "cell_type": "code",
   "execution_count": null,
   "metadata": {
    "hideCode": true
   },
   "outputs": [],
   "source": [
    "# Define and print test query\n",
    "q = 'file:bytes=e3b0c44298fc1c149afbf4c8996fb92427ae41e4649b934ca495991b7852b855 for $tag in $node.tags(code.fam.*) { $malfam=$tag.split(\".\").index(2) $mytag=$lib.str.format(\"cno.mal.{malfam}\", malfam=$malfam) [ +#$mytag ] }'\n",
    "print(q)\n",
    "# Execute the query to test it and get the packed nodes (podes).\n",
    "podes = await core.eval(q, num=1, cmdr=False)"
   ]
  },
  {
   "cell_type": "raw",
   "metadata": {},
   "source": [
    ".. NOTE:\n",
    "\n",
    "  The above query could be written as a **trigger** (:ref:`uto-triggers`) so that any time a ``#code.fam.<family>`` tag was applied to a file, the corresponding ``#cno.mal.<family>`` tag would be applied automatically."
   ]
  },
  {
   "cell_type": "raw",
   "metadata": {},
   "source": [
    "*Use a mathematical expression / \"dollar expression\" as a variable:*\n",
    "\n",
    "- Use a mathematical expression to increment the variable ``$x``:"
   ]
  },
  {
   "cell_type": "code",
   "execution_count": null,
   "metadata": {
    "hideCode": true
   },
   "outputs": [],
   "source": [
    "# Define and print test query\n",
    "q = '$x=5 $x=$($x + 1) $lib.print($x)'\n",
    "q1 = '\\n'\n",
    "print(q + q1)\n",
    "# Execute the query to test it and get the packed nodes (podes).\n",
    "podes = await core.eval(q, num=0, cmdr=True)"
   ]
  },
  {
   "cell_type": "raw",
   "metadata": {},
   "source": [
    "- For any domain with a \"risk\" score from Talos, tag those with a score greater than 75 as \"high risk\":"
   ]
  },
  {
   "cell_type": "code",
   "execution_count": null,
   "metadata": {
    "hideCode": true,
    "hideOutput": true
   },
   "outputs": [],
   "source": [
    "# Make some nodes:\n",
    "q = '[ ( inet:fqdn=woot.com +#rep.talos:risk=36 ) ( inet:fqdn=derp.net +#rep.talos:risk=78 ) ( inet:fqdn=hurr.org +#rep.talos:risk=92 ) ]'\n",
    "podes = await core.eval(q, num=3, cmdr=False)"
   ]
  },
  {
   "cell_type": "code",
   "execution_count": null,
   "metadata": {
    "hideCode": true
   },
   "outputs": [],
   "source": [
    "# Define and print test query\n",
    "q = 'inet:fqdn#rep.talos:risk $risk=#rep.talos:risk if $($risk > 75) { [ +#high.risk ] }'\n",
    "print(q)\n",
    "# Execute the query to test it and get the packed nodes (podes).\n",
    "podes = await core.eval(q, num=3, cmdr=False)"
   ]
  },
  {
   "cell_type": "raw",
   "metadata": {},
   "source": [
    ".. NOTE::\n",
    "\n",
    "  In the examples above, the mathematical expressions ``$($x + 1)`` and ``$($risk > 75)`` are not themselves variables, despite starting with a dollar sign ( ``$`` ). The syntax convention of \"dollar expression\" ( ``$( <expression> )`` ) allows Storm to support the use of variables (like ``$x`` and ``$risk``) in mathematical and logical operations."
   ]
  },
  {
   "cell_type": "raw",
   "metadata": {},
   "source": [
    "*Assign an embedded query to a user-defined variable:*\n",
    "\n",
    "- TBD"
   ]
  },
  {
   "cell_type": "code",
   "execution_count": null,
   "metadata": {
    "hideCode": true,
    "hideOutput": true
   },
   "outputs": [],
   "source": [
    "# Close cortex because done\n",
    "_ = await core.fini()"
   ]
  }
 ],
 "metadata": {
  "celltoolbar": "Hide code",
  "kernelspec": {
   "display_name": "Python 3",
   "language": "python",
   "name": "python3"
  },
  "language_info": {
   "codemirror_mode": {
    "name": "ipython",
    "version": 3
   },
   "file_extension": ".py",
   "mimetype": "text/x-python",
   "name": "python",
   "nbconvert_exporter": "python",
   "pygments_lexer": "ipython3",
   "version": "3.7.7"
  }
 },
 "nbformat": 4,
 "nbformat_minor": 2
}
