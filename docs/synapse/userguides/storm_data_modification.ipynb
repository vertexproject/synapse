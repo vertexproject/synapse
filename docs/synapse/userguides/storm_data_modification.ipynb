{
 "cells": [
  {
   "cell_type": "markdown",
   "metadata": {},
   "source": [
    "setup code goes here"
   ]
  },
  {
   "cell_type": "code",
   "execution_count": 1,
   "metadata": {},
   "outputs": [],
   "source": [
    "import os\n",
    "import sys\n",
    "import shutil\n",
    "import asyncio\n",
    "import tempfile\n",
    "import threading\n",
    "import contextlib\n",
    "\n",
    "import unittest.mock as mock\n",
    "\n",
    "# Insert the root path of the repository to sys.path\n",
    "synroot = os.path.abspath('../../../')\n",
    "sys.path.insert(0, synroot)\n",
    "\n",
    "import synapse.glob as s_glob\n",
    "import synapse.common as s_common\n",
    "import synapse.cortex as s_cortex\n",
    "import synapse.lib.cmdr as s_cmdr\n",
    "import synapse.lib.node as s_node\n",
    "\n",
    "@contextlib.asynccontextmanager\n",
    "async def getTempCoreProxy():\n",
    "    with s_common.getTempDir() as dirn:\n",
    "        async with await s_cortex.Cortex.anit(dirn) as core:\n",
    "            async with core.getLocalProxy() as prox:\n",
    "                yield prox\n",
    "\n",
    "acm = getTempCoreProxy()\n",
    "core = await acm.__aenter__()\n",
    "\n",
    "# Preload some example data\n",
    "q = '[inet:ipv4=1.2.3.4 inet:ipv4=8.8.8.8 inet:ipv4=12.34.56.78 inet:fqdn=woot.com]'\n",
    "async for mesg in await core.storm(q):\n",
    "    pass\n",
    "    #print(mesg)\n",
    "    \n",
    "cmdr = await s_cmdr.getItemCmdr(core)\n",
    "cmdr.echoline = True\n",
    "# Hide unknown cmdr events (ie. splices)\n",
    "cmdr.locs['storm:hide-unknown'] = True"
   ]
  },
  {
   "cell_type": "markdown",
   "metadata": {},
   "source": [
    "# Storm Reference - Data Modification\n",
    "\n",
    "Storm can be used to directly modify the Synapse hypergraph by:\n",
    "\n",
    "* adding or deleting nodes;\n",
    "* setting, modifying, or deleting properties on nodes; and \n",
    "* adding or deleting tags from nodes.\n",
    "\n",
    "While the Synapse command line (cmdr) is not optimal for adding or modifying large amounts of data, users gain a powerful degree of flexibility and efficiency through the ability to create or modify data on the fly.\n",
    "\n",
    "For adding or modifying larger amounts of data, it is preferable to use the Synapse feed utility <link>, CSV tool <link>, or programmatic ingest of data to help automate the process.\n"
   ]
  },
  {
   "cell_type": "markdown",
   "metadata": {},
   "source": [
    "<div class=\"alert alert-block alert-warning\">\n",
    "<b>WARNING</b>\n",
    "The ability to add and modify data from the Synapse CLI is powerful and convenient, but also means users can inadvertently modify (or even delete) data inappropriately through mistyped syntax or premature striking of the “enter” key. While some built-in protections exist within Synapse itself it is important to remember that <b>there is no “are you sure?” prompt before a Storm query executes<b>.\n",
    "\n",
    "The following recommended “best practices” will help prevent inadvertent changes to the hypergraph:\n",
    "\n",
    "Use the Synapse permissions system <link> to enforce least privilege. Limit users to permissions appropriate for tasks they have been trained for / are responsible for.\n",
    "\n",
    "Limit potentially destructive permissions even for trained / trusted users. Require the use of the sudo <link> Storm command for significant / critical changes (such as the deletion of nodes).\n",
    "\n",
    "Use extreme caution when constructing complex Storm queries that may modify (or delete) large numbers of nodes. It is <b>strongly recommended<b> that you validate the output of a query by first running the query on its own to ensure it returns the expected results (set of nodes) before permanently modifying (or deleting) those nodes.\n",
    "</div>"
   ]
  },
  {
   "cell_type": "markdown",
   "metadata": {},
   "source": [
    "See Storm - Document Syntax Conventions <link> for an explanation of the syntax format used below."
   ]
  },
  {
   "cell_type": "markdown",
   "metadata": {},
   "source": [
    "## Edit Mode\n",
    "\n",
    "To modify data in a Cortex using Storm, you must enter “edit mode”. The use of **square brackets ( \\[ \\] )** within a Storm query can be thought of as entering “edit mode”, with the data in the brackets specifying the changes to be made. This is true for changes involving nodes, properties, and tags. The only exception is the deletion of nodes, which is done using the **delnode** <link> Storm command.\n",
    "\n",
    "The square brackets (\\[ \\]) used for the Storm data modification syntax indicate “perform the enclosed changes” in a generic way. The brackets are shorthand to request any of the following:\n",
    "\n",
    "* Add nodes.\n",
    "* Add or modify properties.\n",
    "* Delete properties.\n",
    "* Add tags.\n",
    "* Delete tags.\n",
    "\n",
    "This means that all of the above directives can be specified within a single set of brackets, in any combination and in any order."
   ]
  },
  {
   "cell_type": "markdown",
   "metadata": {},
   "source": [
    "<div class=\"alert alert-block alert-warning\">\n",
    "<b>WARNING</b>\n",
    "It is critical to remember that the </b>brackets are NOT a boundary that segregates nodes</b>; they simply indicate the start and end of data modification operations. They do </b>NOT</b> separate “nodes the modifications should apply to” from “nodes they should not apply to”. Storm operator chaining <link> with left-to-right processing order still applies. </b>Any modification request that operates on previous Storm output will operate on everything to the left of the modify operation, regardless of whether those nodes are within or outside the brackets</b>v.\n",
    "</div>"
   ]
  },
  {
   "cell_type": "markdown",
   "metadata": {},
   "source": [
    "Consider the following example:"
   ]
  },
  {
   "cell_type": "code",
   "execution_count": 2,
   "metadata": {},
   "outputs": [
    {
     "name": "stderr",
     "output_type": "stream",
     "text": [
      "Error during storm execution\n",
      "Traceback (most recent call last):\n",
      "  File \"/home/epiphyte/git/synapse/synapse/cortex.py\", line 1010, in runStorm\n",
      "    async for pode in snap.iterStormPodes(text, opts=opts, user=user):\n",
      "  File \"/home/epiphyte/git/synapse/synapse/lib/snap.py\", line 101, in iterStormPodes\n",
      "    async for node, path in self.storm(text, opts=opts, user=user):\n",
      "  File \"/home/epiphyte/git/synapse/synapse/lib/snap.py\", line 113, in storm\n",
      "    async for x in runt.iterStormQuery(query):\n",
      "  File \"/home/epiphyte/git/synapse/synapse/lib/storm.py\", line 132, in iterStormQuery\n",
      "    async for node, path in query.iterNodePaths(self):\n",
      "  File \"/home/epiphyte/git/synapse/synapse/lib/ast.py\", line 162, in iterNodePaths\n",
      "    async for node, path in genr:\n",
      "  File \"/home/epiphyte/git/synapse/synapse/lib/ast.py\", line 1578, in run\n",
      "    async for node, path in genr:\n",
      "  File \"/home/epiphyte/git/synapse/synapse/lib/ast.py\", line 1502, in run\n",
      "    async for node, path in genr:\n",
      "  File \"/home/epiphyte/git/synapse/synapse/lib/ast.py\", line 1525, in run\n",
      "    raise s_exc.NoSuchProp(name=name, form=node.form.name)\n",
      "synapse.exc.NoSuchProp: NoSuchProp: form='inet:fqdn' name='asn'\n"
     ]
    },
    {
     "name": "stdout",
     "output_type": "stream",
     "text": [
      "cli> storm inet:ipv4=12.34.56.78 inet:fqdn=woot.com [ inet:ipv4=1.2.3.4 :asn=10101 inet:fqdn=woowoo.com +#my.tag ]\n",
      "\n",
      "inet:ipv4=12.34.56.78\n",
      "        .created = 2018/12/12 01:57:43.380\n",
      "        :asn = 10101\n",
      "        :loc = ??\n",
      "        :type = unicast\n",
      "        #my.tag\n",
      "complete. 1 nodes in 16 ms (62/sec).\n",
      "hmmm\n"
     ]
    }
   ],
   "source": [
    "q = 'storm inet:ipv4=12.34.56.78 inet:fqdn=woot.com [ inet:ipv4=1.2.3.4 :asn=10101 inet:fqdn=woowoo.com +#my.tag ]'\n",
    "await cmdr.runCmdLine(q)\n",
    "# Assertion code about the output - woudl fail during execution\n",
    "podes = [pode async for pode in await core.eval('#my.tag')]\n",
    "# assert len(podes) == 4"
   ]
  },
  {
   "cell_type": "markdown",
   "metadata": {},
   "source": [
    "The above Storm query will:\n",
    "* lift the nodes for IP 12.34.56.78 and domain woot.com;\n",
    "* create the node for IP 1.2.3.4 (if it does not exist), or retrieve it if it does;\n",
    "* set the :asn property for IP 12.34.56.78 and IP 1.2.3.4;\n",
    "* create the node for domain woowoo.com (if it does not exist), or retrieve it if it does; and\n",
    "* apply the tag my.tag to IP 12.34.56.78, domain woot.com, IP 1.2.3.4 and domain woowoo.com.\n"
   ]
  },
  {
   "cell_type": "markdown",
   "metadata": {},
   "source": [
    "## Adding Nodes\n",
    "\n",
    "Operation to add the specified node(s) to a Cortex."
   ]
  },
  {
   "cell_type": "raw",
   "metadata": {},
   "source": [
    "Syntax:\n",
    "\n",
    "[ <form> = <valu> ... [ : <prop> = <pval> ...] ]\n",
    "\n",
    "[ <form> = ( <valu_1> , <valu_2> , ... ) [ : <prop> = <pval> ...] ]\n",
    "\n",
    "[ <form> = “ * ” [ : <prop> = <pval> ...] ]"
   ]
  },
  {
   "cell_type": "markdown",
   "metadata": {},
   "source": [
    "Examples:\n",
    "\n",
    "Create Simple Node:"
   ]
  },
  {
   "cell_type": "code",
   "execution_count": 3,
   "metadata": {},
   "outputs": [
    {
     "name": "stdout",
     "output_type": "stream",
     "text": [
      "cli> storm [ inet:fqdn = woot.com ]\n",
      "\n",
      "inet:fqdn=woot.com\n",
      "        .created = 2018/12/12 01:57:43.382\n",
      "        :domain = com\n",
      "        :host = woot\n",
      "        :issuffix = False\n",
      "        :iszone = True\n",
      "        :zone = woot.com\n",
      "complete. 1 nodes in 11 ms (90/sec).\n"
     ]
    }
   ],
   "source": [
    "# This example is actually prepopulated\n",
    "q = 'storm [ inet:fqdn = woot.com ]'\n",
    "await cmdr.runCmdLine(q)\n",
    "podes = [p async for p in await core.eval('inet:fqdn = woot.com')]\n",
    "assert len(podes) == 1"
   ]
  },
  {
   "cell_type": "markdown",
   "metadata": {},
   "source": [
    "Create Composite (comp) Node:"
   ]
  },
  {
   "cell_type": "code",
   "execution_count": 4,
   "metadata": {},
   "outputs": [
    {
     "name": "stdout",
     "output_type": "stream",
     "text": [
      "cli> storm [ inet:dns:a = ( woot.com , 12.34.56.78 ) ]\n",
      "\n",
      "inet:dns:a=('woot.com', '12.34.56.78')\n",
      "        .created = 2018/12/10 15:21:26.633\n",
      "        :fqdn = woot.com\n",
      "        :ipv4 = 12.34.56.78\n",
      "complete. 1 nodes in 13 ms (76/sec).\n"
     ]
    }
   ],
   "source": [
    "q = 'storm [ inet:dns:a = ( woot.com , 12.34.56.78 ) ]'\n",
    "await cmdr.runCmdLine(q)\n",
    "podes = [p async for p in await core.eval('inet:dns:a = ( woot.com , 12.34.56.78 )')]\n",
    "assert len(podes) == 1"
   ]
  },
  {
   "cell_type": "markdown",
   "metadata": {},
   "source": [
    "Create GUID Node:"
   ]
  },
  {
   "cell_type": "code",
   "execution_count": 5,
   "metadata": {},
   "outputs": [
    {
     "name": "stdout",
     "output_type": "stream",
     "text": [
      "cli> storm [ ou:org = \"*\" ]\n",
      "\n",
      "ou:org=7bc718b4e2466ac761cb2860c159f855\n",
      "        .created = 2018/12/10 15:21:26.679\n",
      "complete. 1 nodes in 13 ms (76/sec).\n"
     ]
    }
   ],
   "source": [
    "q ='storm [ ou:org = \"*\" ]'\n",
    "await cmdr.runCmdLine(q)\n",
    "podes = [p async for p in await core.eval('ou:org')]\n",
    "assert len(podes) == 1"
   ]
  },
  {
   "cell_type": "markdown",
   "metadata": {},
   "source": [
    "Create Digraph (“Edge”) Node:"
   ]
  },
  {
   "cell_type": "code",
   "execution_count": 6,
   "metadata": {},
   "outputs": [
    {
     "name": "stdout",
     "output_type": "stream",
     "text": [
      "cli> storm [ refs = ( (media:news, 00a1f0d928e25729b9e86e2d08c127ce), (inet:fqdn, woot.com) ) ]\n",
      "\n",
      "refs=((media:news, \"00a1f0d928e25729b9e86e2d08c127ce\"), (inet:fqdn, \"woot.com\"))\n",
      "        .created = 2018/12/10 15:21:26.749\n",
      "        :n1 = ('media:news', '00a1f0d928e25729b9e86e2d08c127ce')\n",
      "        :n1:form = media:news\n",
      "        :n2 = ('inet:fqdn', 'woot.com')\n",
      "        :n2:form = inet:fqdn\n",
      "complete. 1 nodes in 17 ms (58/sec).\n"
     ]
    }
   ],
   "source": [
    "q='storm [ refs = ( (media:news, 00a1f0d928e25729b9e86e2d08c127ce), (inet:fqdn, woot.com) ) ]'\n",
    "await cmdr.runCmdLine(q)\n",
    "podes = [p async for p in await core.eval('refs')]\n",
    "assert len(podes) == 1\n",
    "podes = [p async for p in await core.eval('media:news=00a1f0d928e25729b9e86e2d08c127ce')]\n",
    "assert len(podes) == 1"
   ]
  },
  {
   "cell_type": "markdown",
   "metadata": {},
   "source": [
    "Create Multiple Nodes at once:"
   ]
  },
  {
   "cell_type": "code",
   "execution_count": 7,
   "metadata": {},
   "outputs": [
    {
     "name": "stdout",
     "output_type": "stream",
     "text": [
      "cli> storm [ inet:fqdn = hehe.com inet:ipv4 = 127.0.0.1 hash:md5 = d41d8cd98f00b204e9800998ecf8427e]\n",
      "\n",
      "inet:fqdn=hehe.com\n",
      "        .created = 2018/12/10 15:21:26.839\n",
      "        :domain = com\n",
      "        :host = hehe\n",
      "        :issuffix = False\n",
      "        :iszone = True\n",
      "        :zone = hehe.com\n",
      "inet:ipv4=127.0.0.1\n",
      "        .created = 2018/12/10 15:21:26.846\n",
      "        :asn = 0\n",
      "        :loc = ??\n",
      "        :type = loopback\n",
      "hash:md5=d41d8cd98f00b204e9800998ecf8427e\n",
      "        .created = 2018/12/10 15:21:26.847\n",
      "complete. 3 nodes in 26 ms (115/sec).\n"
     ]
    }
   ],
   "source": [
    "# Three new nodes we haven't made before\n",
    "q = 'storm [ inet:fqdn = hehe.com inet:ipv4 = 127.0.0.1 hash:md5 = d41d8cd98f00b204e9800998ecf8427e]'\n",
    "now = s_common.now()\n",
    "await cmdr.runCmdLine(q)\n",
    "podes = [p async for p in await core.eval('.created >$now', opts={'vars': {'now': now}})]\n",
    "assert len(podes) == 3"
   ]
  },
  {
   "cell_type": "markdown",
   "metadata": {},
   "source": [
    "Create Simple Node with Secondary Properties:"
   ]
  },
  {
   "cell_type": "code",
   "execution_count": 8,
   "metadata": {},
   "outputs": [
    {
     "name": "stdout",
     "output_type": "stream",
     "text": [
      "cli> storm [ inet:ipv4 = 94.75.194.194 :loc = nl ]\n",
      "\n",
      "inet:ipv4=94.75.194.194\n",
      "        .created = 2018/12/10 15:21:26.929\n",
      "        :asn = 0\n",
      "        :loc = nl\n",
      "        :type = unicast\n",
      "complete. 1 nodes in 23 ms (43/sec).\n"
     ]
    }
   ],
   "source": [
    "q = 'storm [ inet:ipv4 = 94.75.194.194 :loc = nl ]'\n",
    "now = s_common.now()\n",
    "await cmdr.runCmdLine(q)\n",
    "podes = [p async for p in await core.eval('inet:ipv4:loc=nl')]\n",
    "assert len(podes) == 1"
   ]
  },
  {
   "cell_type": "markdown",
   "metadata": {},
   "source": [
    "Usage Notes:\n",
    "\n",
    "* Storm can create as many nodes as are specified within the brackets. It is not necessary to create only one node at a time.\n",
    "* For nodes specified within the brackets that do not already exist, Storm will create and return the node. For nodes that already exist, Storm will simply return that node.\n",
    "* When creating a <form> whose <valu> consists of multiple components, the components must be passed as a comma-separated list enclosed in parentheses.\n",
    "* When creating a node whose primary property is a GUID, an asterisk ( `*` ) can be used to instruct Storm to generate a randomly-generated GUID on node creation.\n"
   ]
  },
  {
   "cell_type": "markdown",
   "metadata": {},
   "source": [
    "## Modifying Nodes\n",
    "Once a node is created, its primary property (<form> = <valu>) cannot be modified. The only way to “change” a node’s primary property is to create a new node.\n",
    "\n",
    "“Changing” nodes therefore consists of adding, modifying, or deleting secondary properties (including universal properties).\n"
   ]
  },
  {
   "cell_type": "markdown",
   "metadata": {},
   "source": [
    "## Adding or Modifying Properties\n",
    "\n",
    "Operation to add (set) or change one or more properties on the specified node(s).\n",
    "\n",
    "The same syntax is used to apply a new property or modify an existing property."
   ]
  },
  {
   "cell_type": "raw",
   "metadata": {},
   "source": [
    "Syntax:\n",
    "\n",
    "<query> [ : <prop> = <pval> ... ]"
   ]
  },
  {
   "cell_type": "markdown",
   "metadata": {},
   "source": [
    "### Examples:\n",
    "\n",
    "Set (or modify) secondary property:"
   ]
  },
  {
   "cell_type": "code",
   "execution_count": 9,
   "metadata": {},
   "outputs": [
    {
     "name": "stdout",
     "output_type": "stream",
     "text": [
      "cli> storm inet:ipv4=12.34.56.78 [ :loc = us.oh.wilmington ]\n",
      "\n",
      "inet:ipv4=12.34.56.78\n",
      "        .created = 2018/12/10 15:21:26.549\n",
      "        :asn = 10101\n",
      "        :loc = us.oh.wilmington\n",
      "        :type = unicast\n",
      "        #my.tag\n",
      "complete. 1 nodes in 12 ms (83/sec).\n"
     ]
    }
   ],
   "source": [
    "q = 'inet:ipv4=12.34.56.78 [ :loc = us.oh.wilmington ]'\n",
    "await cmdr.runCmdLine(f'storm {q}')\n",
    "podes = [p async for p in await core.eval('inet:ipv4:loc=us.oh.wilmington')]\n",
    "assert len(podes) == 1                      "
   ]
  },
  {
   "cell_type": "markdown",
   "metadata": {},
   "source": [
    "Set (or modify) universal secondary property:"
   ]
  },
  {
   "cell_type": "code",
   "execution_count": 10,
   "metadata": {},
   "outputs": [
    {
     "name": "stdout",
     "output_type": "stream",
     "text": [
      "cli> storm inet:dns:a = (woot.com,  12.34.56.78) [ .seen=( 201708010123, 201708100456 ) ]\n",
      "\n",
      "inet:dns:a=('woot.com', '12.34.56.78')\n",
      "        .created = 2018/12/10 15:21:26.633\n",
      "        .seen = ('2017/08/01 01:23:00.000', '2017/08/10 04:56:00.000')\n",
      "        :fqdn = woot.com\n",
      "        :ipv4 = 12.34.56.78\n",
      "complete. 1 nodes in 15 ms (66/sec).\n"
     ]
    }
   ],
   "source": [
    "q = 'inet:dns:a = (woot.com,  12.34.56.78) [ .seen=( 201708010123, 201708100456 ) ]'\n",
    "await cmdr.runCmdLine(f'storm {q}')\n",
    "podes = [p async for p in await core.eval('inet:dns:a.seen')]\n",
    "assert len(podes) == 1  "
   ]
  },
  {
   "cell_type": "markdown",
   "metadata": {},
   "source": [
    "Set (or modify) interval property with open-ended maximum:"
   ]
  },
  {
   "cell_type": "code",
   "execution_count": 11,
   "metadata": {},
   "outputs": [
    {
     "name": "stdout",
     "output_type": "stream",
     "text": [
      "cli> storm inet:dns:a = (woot.com,  12.34.56.78) [ .seen=( 201708010123, \"?\" ) ]\n",
      "\n",
      "inet:dns:a=('woot.com', '12.34.56.78')\n",
      "        .created = 2018/12/10 15:21:26.633\n",
      "        .seen = ('2017/08/01 01:23:00.000', '?')\n",
      "        :fqdn = woot.com\n",
      "        :ipv4 = 12.34.56.78\n",
      "complete. 1 nodes in 17 ms (58/sec).\n"
     ]
    }
   ],
   "source": [
    "q = 'inet:dns:a = (woot.com,  12.34.56.78) [ .seen=( 201708010123, \"?\" ) ]'\n",
    "await cmdr.runCmdLine(f'storm {q}')\n",
    "podes = [p async for p in await core.eval('inet:dns:a.seen')]\n",
    "assert len(podes) == 1  "
   ]
  },
  {
   "cell_type": "markdown",
   "metadata": {},
   "source": [
    "Set (or modify) string property to null value:"
   ]
  },
  {
   "cell_type": "code",
   "execution_count": 12,
   "metadata": {},
   "outputs": [
    {
     "name": "stdout",
     "output_type": "stream",
     "text": [
      "cli> storm media:news = 00a1f0d928e25729b9e86e2d08c127ce [ :summary = \"\" ]\n",
      "\n",
      "media:news=00a1f0d928e25729b9e86e2d08c127ce\n",
      "        .created = 2018/12/10 15:21:26.747\n",
      "        :author = ?,?\n",
      "        :published = 1970/01/01 00:00:00.000\n",
      "        :summary = \n",
      "        :title = ??\n",
      "complete. 1 nodes in 8 ms (125/sec).\n"
     ]
    }
   ],
   "source": [
    "q = 'media:news = 00a1f0d928e25729b9e86e2d08c127ce [ :summary = \"\" ]'\n",
    "await cmdr.runCmdLine(f'storm {q}')\n",
    "podes = [p async for p in await core.eval('media:news=00a1f0d928e25729b9e86e2d08c127ce')]\n",
    "assert s_node.prop(podes[0], 'summary') == ''"
   ]
  },
  {
   "cell_type": "markdown",
   "metadata": {},
   "source": [
    "Usage Notes:\n",
    "* Additions or changes to properties are performed on the output of a previous Storm query. \n",
    "* Storm will set or change the specified properties for all nodes in the current working set (i.e., all nodes resulting from Storm syntax to the left of the <prop>=<pval> statement(s)) for which that property is valid, **whether those nodes are within or outside of the brackets**.\n",
    "* Specifying a property will set the <prop> = <pval> if it does not exist, or modify (overwrite) the <prop> = <pval> if it already exists.\n",
    "* Storm will set or modify the secondary property for all nodes returned by <query> for which that secondary property is a valid property. Nodes for which that property is not a valid secondary property will be ignored.\n",
    "* Secondary properties must be specified by their relative property name. For the form foo:bar and the property baz (e.g., foo:bar:baz) the relative property name is specified as :baz.\n",
    "* Storm can set or modify any property except those explicitly defined as read-only ('ro' : 1) in the data model. Attempts to modify read only properties will return an error.\n"
   ]
  },
  {
   "cell_type": "code",
   "execution_count": 13,
   "metadata": {},
   "outputs": [],
   "source": [
    "cmdr.fini()\n",
    "await acm.__aexit__(None, None, None)\n",
    "# print(proxy, proxy.isfini)#\n",
    "    "
   ]
  }
 ],
 "metadata": {
  "kernelspec": {
   "display_name": "Python 3",
   "language": "python",
   "name": "python3"
  },
  "language_info": {
   "codemirror_mode": {
    "name": "ipython",
    "version": 3
   },
   "file_extension": ".py",
   "mimetype": "text/x-python",
   "name": "python",
   "nbconvert_exporter": "python",
   "pygments_lexer": "ipython3",
   "version": "3.7.1"
  }
 },
 "nbformat": 4,
 "nbformat_minor": 2
}
