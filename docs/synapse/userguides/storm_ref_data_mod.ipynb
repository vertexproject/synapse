{
 "cells": [
  {
   "cell_type": "code",
   "execution_count": 1,
   "metadata": {
    "hideCode": true
   },
   "outputs": [],
   "source": [
    "import os, sys\n",
    "try:\n",
    "    from synapse.lib.jupyter import *\n",
    "except ImportError as e:\n",
    "    # Insert the root path of the repository to sys.path.\n",
    "    # This assumes the notebook is located three directories away\n",
    "    # From the root synapse directory. It may need to be varied\n",
    "    synroot = os.path.abspath('../../../')\n",
    "    sys.path.insert(0, synroot)\n",
    "    from synapse.lib.jupyter import *"
   ]
  },
  {
   "cell_type": "code",
   "execution_count": 2,
   "metadata": {
    "hideCode": true
   },
   "outputs": [],
   "source": [
    "# Get a temp cortex\n",
    "core = await getTempCoreCmdr()"
   ]
  },
  {
   "cell_type": "raw",
   "metadata": {},
   "source": [
    ".. highlight:: none\n",
    "\n",
    ".. _storm-ref-data-mod:\n",
    "\n",
    "Storm Reference - Data Modification\n",
    "===================================\n",
    "\n",
    "Storm can be used to directly modify the Synapse hypergraph by:\n",
    "\n",
    "- adding or deleting nodes;\n",
    "- setting, modifying, or deleting properties on nodes; and \n",
    "- adding or deleting tags from nodes.\n",
    "\n",
    "While :ref:`syn-storm` and the Synapse command line (cmdr - see :ref:`syn-ref-cmd`) are not optimal for adding or modifying large amounts of data, users gain a powerful degree of flexibility and efficiency through the ability to create or modify data on the fly.\n",
    "\n",
    "For adding or modifying larger amounts of data, it is preferable to use the Synapse feed utility (:ref:`syn-tools-feed`), the Synapse CSV tool (:ref:`syn-tools-csvtool`), or programmatic ingest of data to help automate the process.\n",
    "\n",
    ".. WARNING::\n",
    "  The ability to add and modify data directly from Storm is powerful and convenient, but also means users can inadvertently modify (or even delete) data inappropriately through mistyped syntax or premature striking of the \"enter\" key. While some built-in protections exist within Synapse itself it is important to remember that **there is no \"are you sure?\" prompt before a Storm query executes.**\n",
    "  \n",
    "  The following recommended best practices will help prevent inadvertent changes to a Cortex:\n",
    "  \n",
    "  - Use extreme caution when constructing complex Storm queries that may modify (or delete) large numbers of nodes. It is **strongly recommended** that you validate the output of a query by first running the query on its own to ensure it returns the expected results (set of nodes) before permanently modifying (or deleting) those nodes.\n",
    "  - Use the Synapse permissions system to enforce least privilege. Limit users to permissions appropriate for tasks they have been trained for / are responsible for. See :ref:`initial-roles` in the :ref:`quickstart` guide for a basic discussion of users, roles, and permissions.\n",
    "  - The Storm :ref:`storm-sudo` command could potentially be used in conjunction with limited default permissions to require administrator privileges to perform certain operations. However :ref:`storm-sudo` grants additional privileges beyond modifying data in a Cortex, so users should understand the implications if choosing this approach.\n",
    "\n",
    "See :ref:`storm-ref-syntax` for an explanation of the syntax format used below.\n",
    "\n",
    "See :ref:`storm-ref-type-specific` for details on special syntax or handling for specific data types (:ref:`data-type`).\n",
    "\n",
    "Edit Mode\n",
    "---------\n",
    "\n",
    "To modify data in a Cortex using Storm, you must enter \"edit mode\". The use of square brackets ( ``[ ]`` ) within a Storm query can be thought of as entering edit mode, with the data in the brackets specifying the changes to be made. This is true for changes involving nodes, properties, and tags. The only exception is the deletion of nodes, which is done using the Storm :ref:`storm-delnode` command.\n",
    "\n",
    "The square brackets used for the Storm data modification syntax indicate \"perform the enclosed changes\" in a generic way. The brackets are shorthand to request any of the following:\n",
    "\n",
    "- `Add Nodes`_\n",
    "- `Add or Modify Properties`_\n",
    "- `Delete Properties`_\n",
    "- `Add Tags`_\n",
    "- `Remove Tags`_\n",
    "\n",
    "This means that all of the above directives can be specified within a single set of brackets, in any combination and in any order. The only caveat is that a node must exist before it can be modified, so you must add a node before you add a secondary property or a tag. See `Combining Data Modification Operations`_ below for examples.\n",
    "\n",
    ".. WARNING::\n",
    "  It is critical to remember that **the brackets are NOT a boundary that segregates nodes;** the brackets simply indicate the start and end of data modification operations. They do **NOT** separate \"nodes the modifications should apply to\" from \"nodes they should not apply to\". Storm :ref:`storm-op-chain` with left-to-right processing order still applies. **Any modification request that operates on previous Storm output will operate on EVERYTHING to the left of the modify operation, regardless of whether those nodes are within or outside the brackets.**\n",
    "\n",
    "Consider the following examples:\n",
    "\n",
    "- ``inet:fqdn#aka.feye.thr.apt1 [ inet:fqdn=somedomain.com +#aka.eset.thr.sednit ]``\n",
    "  \n",
    "  The above Storm query will:\n",
    "  \n",
    "    - **Lift** all of the domains tagged ``#aka.feye.thr.apt1``.\n",
    "    - **Create** the node for domain ``somedomain.com`` (if it does not exist), or lift it if it does.\n",
    "    - **Apply the tag** ``aka.eset.thr.sednit`` to the domain ``somedomain.com`` **and** all of the domains tagged ``aka.feye.thr.apt1``\n",
    "\n",
    "\n",
    "- ``[inet:ipv4=1.2.3.4 :asn=1111 inet:ipv4=5.6.7.8 :asn=2222]``\n",
    "  \n",
    "  The above Storm query will:\n",
    "    \n",
    "    - **Create** (or lift) the node for IP ``1.2.3.4``.\n",
    "    - **Set** the node's ``:asn`` property to ``1111``.\n",
    "    - **Create** (or lift) the node for IP ``5.6.7.8``.\n",
    "    - **Set** the ``:asn`` property for **both** IPs to ``2222``.\n",
    "\n",
    "Add Nodes\n",
    "---------\n",
    "\n",
    "Operation to add the specified node(s) to a Cortex.\n",
    "\n",
    "**Syntax:**\n",
    "\n",
    "[ <form> = <valu> ... ]\n",
    "\n",
    "**Examples:**\n",
    "\n",
    "*Create a simple node:*"
   ]
  },
  {
   "cell_type": "code",
   "execution_count": 4,
   "metadata": {
    "hideCode": true
   },
   "outputs": [
    {
     "name": "stdout",
     "output_type": "stream",
     "text": [
      "[ inet:fqdn = woot.com ]\n"
     ]
    }
   ],
   "source": [
    "# Make some nodes\n",
    "q = '[ inet:fqdn = woot.com ]'\n",
    "# Display the syntax\n",
    "print(q)\n",
    "# Run the query and test\n",
    "podes = await core.eval(q, num=1, cmdr=False)"
   ]
  },
  {
   "cell_type": "raw",
   "metadata": {},
   "source": [
    "*Create a composite (comp) node:*"
   ]
  },
  {
   "cell_type": "code",
   "execution_count": 3,
   "metadata": {
    "hideCode": true
   },
   "outputs": [
    {
     "name": "stdout",
     "output_type": "stream",
     "text": [
      "[ inet:dns:a=(woot.com, 12.34.56.78) ]\n"
     ]
    }
   ],
   "source": [
    "# Make some nodes\n",
    "q = '[ inet:dns:a=(woot.com, 12.34.56.78) ]'\n",
    "# Display the syntax\n",
    "print(q)\n",
    "# Run the query and test\n",
    "podes = await core.eval(q, num=1, cmdr=False)"
   ]
  },
  {
   "cell_type": "raw",
   "metadata": {},
   "source": [
    "*Create a GUID node:*"
   ]
  },
  {
   "cell_type": "code",
   "execution_count": 5,
   "metadata": {
    "hideCode": true
   },
   "outputs": [
    {
     "name": "stdout",
     "output_type": "stream",
     "text": [
      "[ ou:org=2f92bc913918f6598bcf310972ebf32e]\n"
     ]
    }
   ],
   "source": [
    "# Make some nodes\n",
    "guid = '2f92bc913918f6598bcf310972ebf32e'\n",
    "q = f'[ ou:org={guid}]'\n",
    "# Display the syntax\n",
    "print(q)\n",
    "# Run the query and test\n",
    "podes = await core.eval(q, num=1, cmdr=False)"
   ]
  },
  {
   "cell_type": "code",
   "execution_count": 6,
   "metadata": {
    "hideCode": true
   },
   "outputs": [
    {
     "name": "stdout",
     "output_type": "stream",
     "text": [
      "[ ou:org=\"*\" ]\n"
     ]
    }
   ],
   "source": [
    "# Make some nodes\n",
    "q = '[ ou:org=\"*\" ]'\n",
    "# Display the syntax\n",
    "print(q)\n",
    "# Run the query and test\n",
    "podes = await core.eval(q, num=1, cmdr=False)\n",
    "assert podes[0][0] != ('ou:org', guid)"
   ]
  },
  {
   "cell_type": "raw",
   "metadata": {},
   "source": [
    "*Create a digraph (edge) node:*"
   ]
  },
  {
   "cell_type": "code",
   "execution_count": 7,
   "metadata": {
    "hideCode": true
   },
   "outputs": [
    {
     "name": "stdout",
     "output_type": "stream",
     "text": [
      "[ edge:refs=((media:news, 00a1f0d928e25729b9e86e2d08c127ce), (inet:fqdn, woot.com)) ]\n"
     ]
    }
   ],
   "source": [
    "# Make some nodes\n",
    "q = '[ edge:refs=((media:news, 00a1f0d928e25729b9e86e2d08c127ce), (inet:fqdn, woot.com)) ]'\n",
    "# Display the syntax\n",
    "print(q)\n",
    "# Run the query and test\n",
    "podes = await core.eval(q, num=1, cmdr=False)"
   ]
  },
  {
   "cell_type": "raw",
   "metadata": {},
   "source": [
    "*Create multiple nodes:*"
   ]
  },
  {
   "cell_type": "code",
   "execution_count": 8,
   "metadata": {
    "hideCode": true
   },
   "outputs": [
    {
     "name": "stdout",
     "output_type": "stream",
     "text": [
      "[ inet:fqdn=woot.com inet:ipv4=12.34.56.78 hash:md5=d41d8cd98f00b204e9800998ecf8427e ]\n"
     ]
    }
   ],
   "source": [
    "# Make some nodes\n",
    "q = '[ inet:fqdn=woot.com inet:ipv4=12.34.56.78 hash:md5=d41d8cd98f00b204e9800998ecf8427e ]'\n",
    "# Display the syntax\n",
    "print(q)\n",
    "# Run the query and test\n",
    "podes = await core.eval(q, num=3, cmdr=False)"
   ]
  },
  {
   "cell_type": "raw",
   "metadata": {},
   "source": [
    "**Usage Notes:**\n",
    "\n",
    "- Storm can create as many nodes as are specified within the brackets. It is not necessary to create only one node at a time.\n",
    "- For nodes specified within the brackets that do not already exist, Storm will create and return the node. For nodes that already exist, Storm will simply return that node.\n",
    "- When creating a *<form>* whose *<valu>* consists of multiple components, the components must be passed as a comma-separated list enclosed in parentheses.\n",
    "- Once a node is created, its primary property (*<form>* = *<valu>*) **cannot be modified.** The only way to \"change\" a node’s primary property is to create a new node (and optionally delete the old node). \"Modifying\" nodes therefore consists of adding, modifying, or deleting secondary properties (including universal properties) or adding or removing tags.\n",
    "\n",
    "Add or Modify Properties\n",
    "------------------------\n",
    "\n",
    "Operation to add (set) or change one or more properties on the specified node(s).\n",
    "\n",
    "The same syntax is used to apply a new property or modify an existing property.\n",
    "\n",
    "**Syntax:**\n",
    "\n",
    "*<query>* **[ :** *<prop>* **=** *<pval>* ... **]**\n",
    "\n",
    "**Examples:**\n",
    "\n",
    "*Add (or modify) secondary property:*"
   ]
  },
  {
   "cell_type": "code",
   "execution_count": 9,
   "metadata": {
    "hideCode": true
   },
   "outputs": [
    {
     "name": "stdout",
     "output_type": "stream",
     "text": [
      "<inet:ipv4> [ :loc=us.oh.wilmington ]\n"
     ]
    }
   ],
   "source": [
    "# Use previous data, define and print test query\n",
    "q = '<inet:ipv4> '\n",
    "q1 = 'inet:ipv4=12.34.56.78 '\n",
    "q2 = '[ :loc=us.oh.wilmington ]'\n",
    "print(q + q2)\n",
    "# Execute the query to test it and get the packed nodes (podes).\n",
    "podes = await core.eval(q1 + q2, num=1, cmdr=False)\n",
    "assert podes[0][1].get('props').get('loc') == 'us.oh.wilmington'"
   ]
  },
  {
   "cell_type": "raw",
   "metadata": {},
   "source": [
    "*Add (or modify) universal property:*"
   ]
  },
  {
   "cell_type": "code",
   "execution_count": 10,
   "metadata": {
    "hideCode": true
   },
   "outputs": [
    {
     "name": "stdout",
     "output_type": "stream",
     "text": [
      "<inet:dns:a> [ .seen=(\"2017/08/01 01:23\", \"2017/08/01 04:56\") ]\n"
     ]
    }
   ],
   "source": [
    "# Use previous data, define and print test query\n",
    "q = '<inet:dns:a> '\n",
    "q1 = 'inet:dns:a=(woot.com,12.34.56.78) '\n",
    "q2 = '[ .seen=(\"2017/08/01 01:23\", \"2017/08/01 04:56\") ]'\n",
    "print(q + q2)\n",
    "# Execute the query to test it and get the packed nodes (podes).\n",
    "podes = await core.eval(q1 + q2, num=1, cmdr=False)"
   ]
  },
  {
   "cell_type": "raw",
   "metadata": {},
   "source": [
    "*Add (or modify) a string property to a null value:*"
   ]
  },
  {
   "cell_type": "code",
   "execution_count": 11,
   "metadata": {
    "hideCode": true
   },
   "outputs": [
    {
     "name": "stdout",
     "output_type": "stream",
     "text": [
      "<media:news> [ :summary=\"\" ]\n"
     ]
    }
   ],
   "source": [
    "# Use previous data, define and print test query\n",
    "q = '<media:news> '\n",
    "q1 = 'media:news=00a1f0d928e25729b9e86e2d08c127ce '\n",
    "q2 = '[ :summary=\"\" ]'\n",
    "print(q + q2)\n",
    "# Execute the query to test it and get the packed nodes (podes).\n",
    "podes = await core.eval(q1 + q2, num=1, cmdr=False)\n",
    "assert podes[0][1].get('props').get('summary') == ''"
   ]
  },
  {
   "cell_type": "raw",
   "metadata": {},
   "source": [
    "**Usage Notes:**\n",
    "\n",
    "- Additions or modifications to properties are performed on the output of a previous Storm query. \n",
    "- Storm will set or change the specified properties for all nodes in the current working set (i.e., all nodes resulting from Storm syntax to the left of the *<prop> = <pval>* statement(s)) for which that property is valid, **whether those nodes are within or outside of the brackets.**\n",
    "- Specifying a property will set the *<prop> = <pval>* if it does not exist, or modify (overwrite) the *<prop> = <pval>* if it already exists. **There is no prompt to confirm overwriting of an existing property.**\n",
    "- Storm will return an error if the inbound set of nodes contains any forms for which *<prop>* is not a valid property. For example, attempting to set a ``:loc`` property when the inbound nodes contain both domains and IP addresses will return an error as ``:loc`` is not a valid secondary property for a domain (``inet:fqdn``).\n",
    "- Secondary properties **must** be specified by their relative property name. For example, for the form ``foo:bar`` with the property ``baz`` (i.e., ``foo:bar:baz``) the relative property name is specified as ``:baz``.\n",
    "- Storm can set or modify any secondary property (including universal properties) except those explicitly defined as read-only (``'ro' : 1``) in the data model. Attempts to modify read only properties will return an error.\n",
    "\n",
    "Delete Properties\n",
    "-----------------\n",
    "\n",
    "Operation to delete (fully remove) one or more properties from the specified node(s).\n",
    "\n",
    ".. WARNING::\n",
    "  Storm syntax to delete properties has the potential to be destructive if executed following an incorrect, badly formed, or mistyped query. Users are **strongly encouraged** to validate their query by first executing it on its own (without the delete property operation) to confirm it returns the expected nodes before adding the delete syntax. While the property deletion syntax cannot fully remove a node from the hypergraph, it is possible for a bad property deletion operation to irreversibly damage hypergraph pivoting and traversal.\n",
    "\n",
    "**Syntax:**\n",
    "\n",
    "*<query>* **[ -:** *<prop>* ... **]**\n",
    "\n",
    "**Examples:**\n",
    "\n",
    "*Delete a property:*"
   ]
  },
  {
   "cell_type": "code",
   "execution_count": 13,
   "metadata": {
    "hideCode": true,
    "hideOutput": true
   },
   "outputs": [
    {
     "name": "stdout",
     "output_type": "stream",
     "text": [
      "cli> storm [ inet:ipv4=94.75.194.194 :loc=nl :asn=60781 ]\n",
      "\n",
      "inet:ipv4=94.75.194.194\n",
      "        .created = 2019/03/20 16:01:49.975\n",
      "        :asn = 60781\n",
      "        :loc = nl\n",
      "        :type = unicast\n",
      "complete. 1 nodes in 7 ms (142/sec).\n"
     ]
    }
   ],
   "source": [
    "# Make a node\n",
    "q = '[ inet:ipv4=94.75.194.194 :loc=nl :asn=60781 ]'\n",
    "# Run the query and test\n",
    "podes = await core.eval(q, num=1, cmdr=True)\n",
    "assert podes[0][1].get('props').get('asn') == 60781\n",
    "assert podes[0][1].get('props').get('loc') == 'nl'"
   ]
  },
  {
   "cell_type": "code",
   "execution_count": 14,
   "metadata": {
    "hideCode": true
   },
   "outputs": [
    {
     "name": "stdout",
     "output_type": "stream",
     "text": [
      "<inet:ipv4> [ -:loc ]\n"
     ]
    }
   ],
   "source": [
    "# Use previous data, define and print test query\n",
    "q = '<inet:ipv4> '\n",
    "q1 = 'inet:ipv4=94.75.194.194 '\n",
    "q2 = '[ -:loc ]'\n",
    "print(q + q2)\n",
    "# Execute the query to test it and get the packed nodes (podes).\n",
    "podes = await core.eval(q1 + q2, num=1, cmdr=False)\n",
    "assert podes[0][1].get('props').get('loc') is None"
   ]
  },
  {
   "cell_type": "raw",
   "metadata": {},
   "source": [
    "*Delete multiple properties:*"
   ]
  },
  {
   "cell_type": "code",
   "execution_count": 15,
   "metadata": {
    "hideCode": true
   },
   "outputs": [
    {
     "name": "stdout",
     "output_type": "stream",
     "text": [
      "<media:news> [ -:author -:summary ]\n"
     ]
    }
   ],
   "source": [
    "# Use previous data, define and print test query\n",
    "q = '<media:news> '\n",
    "q1 = 'media:news=00a1f0d928e25729b9e86e2d08c127ce '\n",
    "q2 = '[ -:author -:summary ]'\n",
    "print(q + q2)\n",
    "# Execute the query to test it and get the packed nodes (podes).\n",
    "podes = await core.eval(q1 + q2, num=1, cmdr=False)\n",
    "assert podes[0][1].get('props').get('author') is None\n",
    "assert podes[0][1].get('props').get('summary') is None"
   ]
  },
  {
   "cell_type": "raw",
   "metadata": {},
   "source": [
    "**Usage Notes:**\n",
    "\n",
    "- Property deletions are performed on the output of a previous Storm query.\n",
    "- Storm will delete the specified property / properties for all nodes in the current working set (i.e., all nodes resulting from Storm syntax to the left of the *-:<prop>* statement), **whether those nodes are within or outside of the brackets.**\n",
    "- Deleting a property fully removes the property from the node; it does not set the property to a null value.\n",
    "- Properties which are read-only ( ``'ro' : 1`` ) as specified in the data model cannot be deleted.\n",
    "\n",
    "Delete Nodes\n",
    "------------\n",
    "\n",
    "Nodes can be deleted from a Cortex using the Storm :ref:`storm-delnode` command.\n",
    "\n",
    "Add Tags\n",
    "--------\n",
    "\n",
    "Operation to add one or more tags to the specified node(s).\n",
    "\n",
    "**Syntax:**\n",
    "\n",
    "*<query>* **[ +#** *<tag>* [ **=(** *<min_time>* **,** *<max_time>* **)** ] ... **]**\n",
    "\n",
    "**Examples:**\n",
    "\n",
    "*Add tags:*\n"
   ]
  },
  {
   "cell_type": "code",
   "execution_count": 17,
   "metadata": {
    "hideCode": true,
    "hideOutput": true
   },
   "outputs": [
    {
     "name": "stdout",
     "output_type": "stream",
     "text": [
      "cli> storm [inet:fqdn=blackcake.net]\n",
      "\n",
      "inet:fqdn=blackcake.net\n",
      "        .created = 2019/03/20 16:02:46.711\n",
      "        :domain = net\n",
      "        :host = blackcake\n",
      "        :issuffix = False\n",
      "        :iszone = True\n",
      "        :zone = blackcake.net\n",
      "complete. 1 nodes in 4 ms (250/sec).\n"
     ]
    }
   ],
   "source": [
    "# Make a node\n",
    "q = '[inet:fqdn=blackcake.net]'\n",
    "# Run the query and test\n",
    "podes = await core.eval(q, num=1, cmdr=True)"
   ]
  },
  {
   "cell_type": "code",
   "execution_count": 18,
   "metadata": {
    "hideCode": true
   },
   "outputs": [
    {
     "name": "stdout",
     "output_type": "stream",
     "text": [
      "<inet:fqdn> [ +#aka.feye.thr.apt1 +#cno.infra.sink.hole ]\n"
     ]
    }
   ],
   "source": [
    "# Use previous data, define and print test query\n",
    "q = '<inet:fqdn> '\n",
    "q1 = 'inet:fqdn=blackcake.net '\n",
    "q2 = '[ +#aka.feye.thr.apt1 +#cno.infra.sink.hole ]'\n",
    "print(q + q2)\n",
    "# Execute the query to test it and get the packed nodes (podes).\n",
    "podes = await core.eval(q1 + q2, num=1, cmdr=False)\n",
    "assert 'aka.feye.thr.apt1' in podes[0][1].get('tags')\n",
    "assert 'cno.infra.sink.hole' in podes[0][1].get('tags')"
   ]
  },
  {
   "cell_type": "raw",
   "metadata": {},
   "source": [
    "*Add tag with timestamps:*"
   ]
  },
  {
   "cell_type": "code",
   "execution_count": 19,
   "metadata": {
    "hideCode": true
   },
   "outputs": [
    {
     "name": "stdout",
     "output_type": "stream",
     "text": [
      "<inet:fqdn> [ +#cno.infra.sink.hole=(2014/11/06, 2016/11/06) ]\n"
     ]
    }
   ],
   "source": [
    "# Use previous data, define and print test query\n",
    "q = '<inet:fqdn> '\n",
    "q1 = 'inet:fqdn=blackcake.net '\n",
    "q2 = '[ +#cno.infra.sink.hole=(2014/11/06, 2016/11/06) ]'\n",
    "print(q + q2)\n",
    "# Execute the query to test it and get the packed nodes (podes).\n",
    "podes = await core.eval(q1 + q2, num=1, cmdr=False)\n",
    "assert podes[0][1].get('tags').get('cno.infra.sink.hole') != (None, None)"
   ]
  },
  {
   "cell_type": "raw",
   "metadata": {},
   "source": [
    "**Usage Notes:**\n",
    "\n",
    "- Tag additions are performed on the output of a previous Storm query.\n",
    "- Storm will add the specified tag(s) to all nodes in the current working set (i.e., all nodes resulting from Storm syntax to the left of the *+#<tag>* statement) **whether those nodes are within or outside of the brackets.**\n",
    "- Timestamps can be added to a tag to show an interval during which the tag was known to be valid or applicable to the node in question. In the second example above, the timestamps on the tag ``cno.infra.sink.hole`` are meant to indicate that the domain was sinkholed between 11/6/2014 and 11/6/2016.)\n",
    "- Timestamps are applied only to the tags to which they are explicitly added. For example, adding a timestamp to the tag ``#foo.bar.baz`` does **not** add the timestamp to tags ``#foo.bar`` and ``#foo``.\n",
    "- See the sections on time *<time>* and interval *<ival>* types in :ref:`storm-ref-type-specific` for additional details on times.\n",
    "\n",
    "Modify Tags\n",
    "-----------\n",
    "\n",
    "Tags are \"binary\" in that they are either applied to a node or they are not. The only modification that can be made to an existing tag is to add or update any associated timestamp, which can be done using the same syntax as `Add Tags`_.\n",
    "\n",
    "To \"change\" the tag applied to a node, you must add the new tag and delete the old one.\n",
    "\n",
    "The Storm :ref:`storm-movetag` command can be used to modify tags in bulk - that is, rename an entire set of tags, or move a tag to a different tag tree.\n",
    "\n",
    "Remove Tags\n",
    "-----------\n",
    "\n",
    "Operation to delete one or more tags from the specified node(s).\n",
    "\n",
    "Removing a tag from a node differs from deleting the node representing a tag (a ``syn:tag`` node), which can be done using the Storm :ref:`storm-delnode` command.\n",
    "\n",
    ".. WARNING::\n",
    "  Storm syntax to remove tags has the potential to be destructive if executed on an incorrect, badly formed, or mistyped query. Users are **strongly encouraged** to validate their query by first executing it on its own to confirm it returns the expected nodes before adding the tag deletion syntax.\n",
    "  \n",
    "  In addition, it is **essential** to understand how removing a tag at a given position in a tag tree affects other tags within that tree. Otherwise, tags may be improperly left in place (\"orphaned\") or inadvertently removed.\n",
    "\n",
    "**Syntax:**\n",
    "\n",
    "*<query>* **[ -#** *<tag>* ... **]**\n",
    "\n",
    "**Examples:**\n",
    "\n",
    "*Remove a tag:*"
   ]
  },
  {
   "cell_type": "code",
   "execution_count": 20,
   "metadata": {
    "hideCode": true,
    "hideOutput": true
   },
   "outputs": [
    {
     "name": "stdout",
     "output_type": "stream",
     "text": [
      "cli> storm [inet:ipv4=54.38.219.150 +#cno.infra.anon.tor]\n",
      "\n",
      "inet:ipv4=54.38.219.150\n",
      "        .created = 2019/03/20 16:04:06.349\n",
      "        :asn = 0\n",
      "        :loc = ??\n",
      "        :type = unicast\n",
      "        #cno.infra.anon.tor\n",
      "complete. 1 nodes in 8 ms (125/sec).\n"
     ]
    }
   ],
   "source": [
    "# Make a node\n",
    "q = '[inet:ipv4=54.38.219.150 +#cno.infra.anon.tor]'\n",
    "# Run the query and test\n",
    "podes = await core.eval(q, num=1, cmdr=True)"
   ]
  },
  {
   "cell_type": "code",
   "execution_count": 21,
   "metadata": {
    "hideCode": true
   },
   "outputs": [
    {
     "name": "stdout",
     "output_type": "stream",
     "text": [
      "<inet:ipv4> [ -#cno.infra.anon.tor ]\n"
     ]
    }
   ],
   "source": [
    "# Define and print test query\n",
    "q = '<inet:ipv4> '\n",
    "q1 = 'inet:ipv4=54.38.219.150 '\n",
    "q2 = '[ -#cno.infra.anon.tor ]'\n",
    "print(q + q2)\n",
    "# Execute the query to test it and get the packed nodes (podes).\n",
    "podes = await core.eval(q1 + q2, num=1, cmdr=False)\n",
    "assert 'cno.infra.anon.tor' not in podes[0][1].get('tags')"
   ]
  },
  {
   "cell_type": "raw",
   "metadata": {},
   "source": [
    "**Usage Notes:**\n",
    "\n",
    "- Tag deletions are performed on the output of a previous Storm query.\n",
    "- Storm will delete the specified tag(s) from all nodes in the current working set (i.e., all nodes resulting from Storm syntax to the left of the -#<tag> statement), **whether those nodes are within or outside of the brackets.**\n",
    "- Deleting a leaf tag deletes **only** the leaf tag from the node. For example, ``[ -#foo.bar.baz ]`` will delete the tag ``#foo.bar.baz`` but leave the tags ``#foo.bar`` and ``#foo`` on the node.\n",
    "- Deleting a non-leaf tag deletes that tag and **all tags below it in the tag hierarchy** from the node. For example, ``[ -#foo ]`` used on a node with tags ``#foo.bar.baz`` and ``#foo.hurr.derp`` will remove **all** of the following tags:\n",
    "\n",
    "  - ``#foo.bar.baz``\n",
    "  - ``#foo.hurr.derp``\n",
    "  - ``#foo.bar``\n",
    "  - ``#foo.hurr``\n",
    "  - ``#foo``\n",
    "\n",
    "Combining Data Modification Operations\n",
    "--------------------------------------\n",
    "\n",
    "The square brackets representing edit mode are used for a wide range of operations, meaning it is possible to combine operations within a single set of brackets.\n",
    "\n",
    "**Examples:**\n",
    "\n",
    "*Create a node and add secondary properties:*\n"
   ]
  },
  {
   "cell_type": "code",
   "execution_count": 24,
   "metadata": {
    "hideCode": true
   },
   "outputs": [
    {
     "name": "stdout",
     "output_type": "stream",
     "text": [
      "[ inet:ipv4=94.75.194.194 :loc=nl :asn=60781 ]\n"
     ]
    }
   ],
   "source": [
    "# Make some nodes\n",
    "q = '[ inet:ipv4=94.75.194.194 :loc=nl :asn=60781 ]'\n",
    "# Display the syntax\n",
    "print(q)\n",
    "# Run the query and test\n",
    "podes = await core.eval(q, num=1, cmdr=False)\n",
    "assert podes[0][1].get('props').get('loc') == 'nl'\n",
    "assert podes[0][1].get('props').get('asn') == 60781"
   ]
  },
  {
   "cell_type": "raw",
   "metadata": {},
   "source": [
    "*Create a node and add a tag:*"
   ]
  },
  {
   "cell_type": "code",
   "execution_count": 25,
   "metadata": {
    "hideCode": true
   },
   "outputs": [
    {
     "name": "stdout",
     "output_type": "stream",
     "text": [
      "[ inet:fqdn=blackcake.net +#aka.feye.thr.apt1 ]\n"
     ]
    }
   ],
   "source": [
    "# Make some nodes\n",
    "q = '[ inet:fqdn=blackcake.net +#aka.feye.thr.apt1 ]'\n",
    "# Display the syntax\n",
    "print(q)\n",
    "# Run the query and test\n",
    "podes = await core.eval(q, num=1, cmdr=False)\n",
    "assert 'aka.feye.thr.apt1' in podes[0][1].get('tags')"
   ]
  },
  {
   "cell_type": "code",
   "execution_count": 26,
   "metadata": {
    "hideCode": true,
    "hideOutput": true
   },
   "outputs": [
    {
     "data": {
      "text/plain": [
       "0"
      ]
     },
     "execution_count": 26,
     "metadata": {},
     "output_type": "execute_result"
    }
   ],
   "source": [
    "# Close cortex because done\n",
    "await core.fini()"
   ]
  }
 ],
 "metadata": {
  "celltoolbar": "Hide code",
  "kernelspec": {
   "display_name": "Python 3",
   "language": "python",
   "name": "python3"
  },
  "language_info": {
   "codemirror_mode": {
    "name": "ipython",
    "version": 3
   },
   "file_extension": ".py",
   "mimetype": "text/x-python",
   "name": "python",
   "nbconvert_exporter": "python",
   "pygments_lexer": "ipython3",
   "version": "3.7.0"
  }
 },
 "nbformat": 4,
 "nbformat_minor": 2
}
