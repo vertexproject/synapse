{
 "cells": [
  {
   "cell_type": "code",
   "execution_count": null,
   "metadata": {
    "hideCode": true,
    "hideOutput": true
   },
   "outputs": [],
   "source": [
    "import os, sys\n",
    "try:\n",
    "    from synapse.lib.jupyter import *\n",
    "except ImportError as e:\n",
    "    # Insert the root path of the repository to sys.path.\n",
    "    # This assumes the notebook is located three directories away\n",
    "    # From the root synapse directory. It may need to be varied\n",
    "    synroot = os.path.abspath('../../../')\n",
    "    sys.path.insert(0, synroot)\n",
    "    from synapse.lib.jupyter import *"
   ]
  },
  {
   "cell_type": "code",
   "execution_count": null,
   "metadata": {
    "hideCode": true,
    "hideOutput": true
   },
   "outputs": [],
   "source": [
    "#Create a cortex which should contain the runt nodes for the data model\n",
    "core = await getTempCoreCmdr()"
   ]
  },
  {
   "cell_type": "raw",
   "metadata": {},
   "source": [
    ".. highlight:: none\n",
    "\n",
    ".. _storm-ref-type-specific:\n",
    "\n",
    "Storm Reference - Type-Specific Storm Behavior\n",
    "==============================================\n",
    "\n",
    "Some data types (:ref:`data-type`) within Synapse have additional optimizations. These include optimizations for:\n",
    "\n",
    "- indexing (how the type is stored for retrieval);\n",
    "- parsing (how the type can be specified for input);\n",
    "- insertion (how the type can be used to create or modify nodes);\n",
    "- operations (how the type can be lifted, filtered, or otherwise compared).\n",
    "\n",
    "Types that have been optimized in various ways are documented below along with any specialized operations that may be available for those types.\n",
    "\n",
    "This section is **not** a complete reference of all available types. In addition, this section does **not** address the full range of type enforcement constraints that may restrict the values that can be specified for a given type (such as via a constructor (``ctor``)). For details on available types and type constraints or enforcement, see the online documentation_ or the Synapse source code_.\n",
    "\n",
    "- `file:bytes`_ (file)\n",
    "- `guid`_ (globally unique identifier)\n",
    "- `inet:fqdn`_ (FQDN)\n",
    "- `inet:ipv4`_ (IPv4)\n",
    "- `ival`_ (time interval)\n",
    "- `loc`_ (location)\n",
    "- `str`_ (string)\n",
    "- `syn:tag`_ (tag)\n",
    "- `time`_ (date/time)\n",
    "\n",
    ".. _type-file:\n",
    "\n",
    "file\\:bytes\n",
    "-----------\n",
    "\n",
    "TBD\n",
    "\n",
    ".. _type-guid:\n",
    "\n",
    "guid\n",
    "----\n",
    "\n",
    "TBD\n",
    "\n",
    ".. _type-inet-fqdn:\n",
    "\n",
    "inet:\\fqdn\n",
    "----------\n",
    "\n",
    "**Fully qualified domain names** (FQDNs) are structured as a set of string elements separated by the dot ( ``.`` ) character. The Domain Name System acts as a \"reverse hierarchy\" (operating from right to left instead of from left to right) separated along the dot boundaries - i.e., ``com`` is the hierarchical root for domains such as ``google.com`` or ``microsoft.com``.\n",
    "\n",
    "Because of this logical structure, Synapse includes certain optimizations for working with ``inet:fqdn`` types:\n",
    "\n",
    "- Reverse string indexing on ``inet:fqdn`` types.\n",
    "- Default values for the secondary properties ``:issuffix`` and ``:iszone`` of a given ``inet:fqdn`` node based on the values of those properties for the node’s parent domain.\n",
    "\n",
    "Indexing\n",
    "++++++++\n",
    "\n",
    "Synapse performs **reverse string indexing** on ``inet:fqdn`` types. Domains are indexed in full reverse order - that is, the domain ``this.is.my.domain.com`` is indexed as ``moc.niamod.ym.si.siht`` to account for the \"reverse hierarchy\" implicit in the DNS structure.\n",
    "\n",
    "Parsing\n",
    "+++++++\n",
    "\n",
    "N/A\n",
    "\n",
    "Insertion\n",
    "+++++++++\n",
    "\n",
    "When ``inet:fqdn`` nodes are created (or modifications to certain properties are made), Synapse uses some built-in logic to set certain secondary properties related to zones of control (specifically, ``:issuffix``, ``:iszone``, and ``:zone``).\n",
    "\n",
    "The reverse hierarchy implicit in dotted FQDNs represents elements such as *<host>.<domain>.<suffix>*, but can also represent implicit or explicit **zones of control.** The term \"zone of control\" is loosely defined, and is not meant to represent control or authority by any specific organization or entity. Instead, \"zone of control\" can be thought of as a boundary within an individual FQDN hierarchy where control of a portion of the domain namespace shifts from one entity or owner to another.\n",
    "\n",
    "A simple example is the ``com`` top-level domain (managed by Verisign) vs. the domain ``microsoft.com`` (controlled by Microsoft Corporation). ``Com`` represents one zone of control where ``microsoft.com`` represents another.\n",
    "\n",
    "The ``inet:fqdn`` form in the Synapse data model uses several secondary properties that relate to zones of control:\n",
    "\n",
    "- ``:issuffix`` = primary zone of control\n",
    "- ``:iszone`` = secondary zone of control\n",
    "- ``:zone`` = authoritative zone for a given domain or subdomain\n",
    "\n",
    "(**Note:** contrast ``:zone`` with ``:domain`` which simply represents the next level \"up\" in the hierarchy from the current domain).\n",
    "\n",
    "Synapse uses the following logic for suffixes and zones upon ``inet:fqdn`` creation:\n",
    "\n",
    "1. All domains consisting of a single element (such as ``com``, ``museum``, ``us``, ``br``, etc.) are considered **suffixes** and receive the following default values:\n",
    "\n",
    "- ``:issuffix = 1``\n",
    "- ``:iszone = 0``\n",
    "- ``:zone = <none / property not created>``\n",
    "- ``:domain = <none / property not created>``\n",
    "\n",
    "2. Any domain whose **parent domain is a suffix** is considered a **zone** and receives the following default values:\n",
    "\n",
    "- ``:issuffix = 0``\n",
    "- ``:iszone = 1``\n",
    "- ``:zone = <set to self>``\n",
    "- ``:domain = <set to parent domain>``\n",
    "\n",
    "3. Any domain whose **parent domain is a zone** is considered a \"normal\" subdomain and receives the following default values:\n",
    "\n",
    "- ``:issuffix = 0``\n",
    "- ``:iszone = 0``\n",
    "- ``:zone = <set to parent domain>``\n",
    "- ``:domain = <set to parent domain>``\n",
    "\n",
    "4. Any domain whose parent domain is a \"normal\" subdomain receives the following default values:\n",
    "\n",
    "- ``:issuffix = 0``\n",
    "- ``:iszone = 0``\n",
    "- ``:zone = <set to first fqdn “up” the domain hierarchy with :iszone = 1>``\n",
    "- ``:domain = <set to parent domain>``\n",
    "\n",
    ".. Note::\n",
    "  The above logic is **recursive** over all nodes in a Cortex. Changing an ``:issuffix`` or ``:iszone`` property on an existing ``inet:fqdn`` node will not only modify that node, but also propagate any changes associated with those properties to any existing subdomains.\n",
    "\n",
    "Potential Limitations\n",
    "*********************\n",
    "\n",
    "This logic works well for single-element top-level domains (TLDs) (such as ``com`` vs ``microsoft.com``). However, it  does not address cases that may be relevant for certain types of analysis, such as:\n",
    "\n",
    "- **Top-level country code domains and their subdomains.** Under Synapse’s default logic ``uk`` is a suffix and ``co.uk`` is a zone. However, ``co.uk`` could **also** be considered a suffix in its own right, because subdomains such as ``somecompany.co.uk`` are under the control of the organization that registers them. In this case, ``uk`` would be a suffix, ``com.uk`` could be considered both a suffix **and** a zone, and ``somecompany.co.uk`` could be considered a zone.\n",
    "\n",
    "- **Special-case zones of control.** Some domains (such as those used to host web-based services) can be considered specialized zones of control. In these cases, the service provider typically owns the \"main\" domain (such as ``wordpress.com``) but individual customers can register personal subdomains for their hosted services (such as ``joesblog.wordpress.com``). The division between ``wordpress.com`` and individual customer subdomains could represent different zones of control. In this case, ``com`` would be a suffix, ``wordpress.com`` could be considered both a suffix **and** a zone, and ``joesblog.wordpress.com`` could be considered a zone.\n",
    "\n",
    "Examples such as these are **not accounted for** by Synapse’s suffix / zone logic. The definition of additional domains as suffixes and / or zones is an implementation decision (though once the relevant properties are set, the changes are propagated recursively as noted above).\n",
    "\n",
    "Operations\n",
    "++++++++++\n",
    "\n",
    "Because of Synapse’s reverse string indexing for ``inet:fqdn`` types, domains can be lifted based on matching any partial domain suffix string. The asterisk ( ``*`` ) is the extended operator used to perform this lift.\n",
    "\n",
    "**Examples**\n",
    "\n",
    "Lift all domains that end with (i.e., are subdomains of) ``.files.wordpress.com``:"
   ]
  },
  {
   "cell_type": "code",
   "execution_count": null,
   "metadata": {
    "hideCode": true
   },
   "outputs": [],
   "source": [
    "# Define and print test query\n",
    "q = 'inet:fqdn=\"*.files.wordpress.com\"'\n",
    "print(q)\n",
    "# Execute the query and test\n",
    "podes = await core.eval(q, cmdr=False)"
   ]
  },
  {
   "cell_type": "raw",
   "metadata": {},
   "source": [
    "- The above syntax would match the following values:\n",
    "\n",
    "  - ``foo.files.wordpress.com``\n",
    "  - ``bar.files.wordpress.com``\n",
    "  - ...etc.\n",
    "\n",
    "- The above syntax would **not** match the following values:\n",
    "\n",
    "  - ``files.wordpress.com``\n",
    "\n",
    "Lift all domains ending with ``s.wordpress.com``:"
   ]
  },
  {
   "cell_type": "code",
   "execution_count": null,
   "metadata": {
    "hideCode": true
   },
   "outputs": [],
   "source": [
    "# Define and print test query\n",
    "q = 'inet:fqdn=\"*s.wordpress.com\"'\n",
    "print(q)\n",
    "# Execute the query and test\n",
    "podes = await core.eval(q, cmdr=False)"
   ]
  },
  {
   "cell_type": "raw",
   "metadata": {},
   "source": [
    "- The above syntax would match the following values:\n",
    "\n",
    "  - ``cats.wordpress.com``\n",
    "  - ``dogs.wordpress.com``\n",
    "  - ``s.wordpress.com``\n",
    "  - ``www.tigers.wordpress.com``\n",
    "  - ...etc.\n",
    "\n",
    "- The above syntax would **not** match the following values:\n",
    "\n",
    "  - ``fish.wordpress.com``\n",
    "\n",
    "Lift all DNS A records for domains ending with ``.museum``:"
   ]
  },
  {
   "cell_type": "code",
   "execution_count": null,
   "metadata": {
    "hideCode": true
   },
   "outputs": [],
   "source": [
    "# Define and print test query\n",
    "q = 'inet:dns:a:fqdn=\"*.museum\"'\n",
    "print(q)\n",
    "# Execute the query and test\n",
    "podes = await core.eval(q, cmdr=False)"
   ]
  },
  {
   "cell_type": "raw",
   "metadata": {},
   "source": [
    "**Usage Notes**\n",
    "\n",
    "- Because the asterisk is a non-alphanumeric character, the string to be matched must be enclosed in single or double quotes (see :ref:`whitespace` and :ref:`literals`).\n",
    "- Because domains are reverse-indexed instead of prefix indexed, partial string matching can only occur based on the end (suffix) of a domain. It is not possible to lift by a string at the beginning of a domain. For example, ``inet:fqdn=\"yahoo*\"`` and ``inet:fqdn^=yahoo`` are both invalid.\n",
    "- Domains can be lifted or filtered using the regular expression (regex) extended operator (``~=``), though lifting in particular may impose a performance overhead (see :ref:`lift-regex` and :ref:`filter-regex`).\n",
    "- Suffix matching is not supported for filter operations (note that a \"lift by suffix\" is effectively a combined \"lift and filter\" operation).\n",
    "\n",
    ".. _type-inet-ipv4:\n",
    "\n",
    "inet\\:ipv4\n",
    "----------\n",
    "\n",
    "IPv4 addresses are stored as integers and represented (displayed) to users as dotted-decimal strings.\n",
    "\n",
    "Indexing\n",
    "++++++++\n",
    "\n",
    "IPv4 addresses are indexed as integers. This optimizes various comparison operations, including greater than / less than, range, etc.\n",
    "\n",
    "Parsing\n",
    "+++++++\n",
    "\n",
    "While IPv4 addresses are stored and indexed as integers, they can be input into Storm (and used within Storm operations) as any of the following.\n",
    "\n",
    "- integer: ``inet:ipv4 = 3232235521``\n",
    "- hex: ``inet:ipv4 = 0xC0A80001``\n",
    "- dotted-decimal string: ``inet:ipv4 = 192.168.0.1``\n",
    "- range: ``inet:ipv4 = 192.168.0.1-192.167.0.10``\n",
    "- CIDR: ``inet:ipv4 = 192.168.0.0/24``\n",
    "\n",
    "Insertion\n",
    "+++++++++\n",
    "\n",
    "The ability to specify IPv4 values using either range or CIDR format allows you to \"bulk create\" sets of ``inet:ipv4`` nodes without the need to specify each address individually.\n",
    "\n",
    "**Examples**\n",
    "\n",
    "Create ten ``inet:ipv4`` nodes:"
   ]
  },
  {
   "cell_type": "code",
   "execution_count": null,
   "metadata": {
    "hideCode": true
   },
   "outputs": [],
   "source": [
    "# Define and print test query\n",
    "q = '[ inet:ipv4 = 192.168.0.1-192.168.0.10 ]'\n",
    "print(q)\n",
    "# Execute the query and test\n",
    "podes = await core.eval(q, cmdr=False)"
   ]
  },
  {
   "cell_type": "raw",
   "metadata": {},
   "source": [
    "Create the 256 addresses in the range 192.168.0.0/24:"
   ]
  },
  {
   "cell_type": "code",
   "execution_count": null,
   "metadata": {
    "hideCode": true
   },
   "outputs": [],
   "source": [
    "# Define and print test query\n",
    "q = '[ inet:ipv4 = 192.168.0.0/24 ]'\n",
    "print(q)\n",
    "# Execute the query and test\n",
    "podes = await core.eval(q, cmdr=False)"
   ]
  },
  {
   "cell_type": "raw",
   "metadata": {},
   "source": [
    "Operations\n",
    "++++++++++\n",
    "\n",
    "Similar to node insertion, lifting or filtering IPV4 addresses by range or by CIDR notation will operate on every ``inet:ipv4`` node that exists within the Cortex and falls within the specified range or CIDR block. This allows operating on multiple contiguous IP addresses without the need to specify them individually.\n",
    "\n",
    "**Examples**\n",
    "\n",
    "Lift all ``inet:ipv4`` nodes within the specified range that exist within the Cortex:"
   ]
  },
  {
   "cell_type": "code",
   "execution_count": null,
   "metadata": {
    "hideCode": true
   },
   "outputs": [],
   "source": [
    "# Define and print test query\n",
    "q = 'inet:ipv4 = 169.254.18.24-169.254.18.64'\n",
    "print(q)\n",
    "# Execute the query and test\n",
    "podes = await core.eval(q, cmdr=False)"
   ]
  },
  {
   "cell_type": "raw",
   "metadata": {},
   "source": [
    "Filter a set of DNS A records to only include those whose IPv4 value is within the 172.16.* RFC1918 range:"
   ]
  },
  {
   "cell_type": "code",
   "execution_count": null,
   "metadata": {
    "hideCode": true
   },
   "outputs": [],
   "source": [
    "# Define and print test query\n",
    "q = '<inet:dns:a> +:ipv4 = 172.16.0.0/12'\n",
    "print(q)"
   ]
  },
  {
   "cell_type": "raw",
   "metadata": {},
   "source": [
    ".. _type-ival:\n",
    "\n",
    "ival\n",
    "----\n",
    "\n",
    "TBD\n",
    "\n",
    ".. _ type-loc:\n",
    "\n",
    "loc\n",
    "---\n",
    "\n",
    "``Loc`` is a specialized type used to represent geopolitical locations (i.e., locations within geopolitical boundaries) as a series of user-defined dot-separated hierarchical strings - for example, *<country>.<state / province>.<city>*. This allows specifying locations such as ``us.fl.miami``, ``gb.london``, and ``ca.on.toronto``.\n",
    "\n",
    "``Loc`` is an extension of the :ref:`type-str` type. However, because ``loc`` types use strings that comprise a dot-separated hierarchy, they exhibit slightly modified behavior from standard string types for certain operations.\n",
    "\n",
    "Indexing\n",
    "++++++++\n",
    "\n",
    "The ``loc`` type is an extension of the :ref:`type-str` type and so is **prefix-indexed** like other strings. However, the use of dot-separated boundaries impacts operations using ``loc`` values.\n",
    "\n",
    "``loc`` values are normalized to lowercase.\n",
    "\n",
    "Parsing\n",
    "+++++++\n",
    "\n",
    "``loc`` values can be input using any case (uppercase, lowercase, mixed case) but will normalized to lowercase. \n",
    "\n",
    "Components of a ``loc`` value must be separated by the dot ( ``.`` ) character. The dot is a reserved character for the ``loc`` type and is used to separate string elements along hierarchical boundaries. The use of the dot as a reserved boundary marker impacts operations using the ``loc`` type. Note that this means the dot cannot be used as part of a location string. For example, the following location value would be interpreted as a hierarchical location with four elements (``us``, ``fl``, ``st``, and ``petersburg``):\n",
    "\n",
    "- ``:loc = us.fl.st.petersburg``\n",
    "\n",
    "To appropriately represent the \"city\" element of the above location, an alternate syntax must be used. For example:\n",
    "\n",
    "- ``:loc = us.fl.stpetersburg``\n",
    "- ``:loc = \"us.fl.saint petersburg\"``\n",
    "- ...etc.\n",
    "\n",
    "As an extension of the ``str`` type, ``loc`` types are subject to Synapse’s restrictions regarding :ref:`whitespace` and :ref:`literals`.\n",
    "\n",
    "Insertion\n",
    "+++++++++\n",
    "\n",
    "Same as for parsing.\n",
    "\n",
    "As ``loc`` values are simply dot-separated strings, the use or enforcement of any specific convention for geolocation values and hierarchies is an implementation decision.\n",
    "\n",
    "Operations\n",
    "++++++++++\n",
    "\n",
    "The use of the dot character ( ``.`` ) as a reserved boundary marker impacts prefix (``^=``) and equivalent (``=``) operations using the ``loc`` type.\n",
    "\n",
    "String and string-derived types are **prefix-indexed** to optimize lifting or filtering strings that start with a given substring using the prefix (``^=``) extended comparator. For standard strings, the prefix comparator can be used with strings of arbitrary length. However, for string-derived types (including ``loc``) that use dotted hierarchical notation, **the prefix comparator operates along dot boundaries.**\n",
    "\n",
    "This is because the analytical significance of a location string is likely to fall on these hierarchical boundaries as opposed to an arbitrary substring prefix match. That is, it is more likely to be analytically meaningful to lift all locations within the US (``^=us``) or within Florida (``^=us.fl``) than it is to lift all locations in the US within states that start with “V” (``^=us.v``).\n",
    "\n",
    "Prefix comparison for ``loc`` types is useful because it easily allows lifting or filtering at any appropriate level of resolution within the dotted hierarchy:\n",
    "\n",
    "- Lift all organizations with locations in Brazil:"
   ]
  },
  {
   "cell_type": "code",
   "execution_count": null,
   "metadata": {
    "hideCode": true
   },
   "outputs": [],
   "source": [
    "# Define and print test query\n",
    "q = 'ou:org:loc^=br'\n",
    "print(q)\n",
    "# Execute the query and test\n",
    "podes = await core.eval(q, cmdr=False)"
   ]
  },
  {
   "cell_type": "raw",
   "metadata": {},
   "source": [
    "Lift all IP addresses geolocated in the the province of Ontario:"
   ]
  },
  {
   "cell_type": "code",
   "execution_count": null,
   "metadata": {
    "hideCode": true
   },
   "outputs": [],
   "source": [
    "# Define and print test query\n",
    "q = 'inet:ipv4:loc^=ca.on'\n",
    "print(q)\n",
    "# Execute the query and test\n",
    "podes = await core.eval(q, cmdr=False)"
   ]
  },
  {
   "cell_type": "raw",
   "metadata": {},
   "source": [
    "Lift all places in the city of Seattle:"
   ]
  },
  {
   "cell_type": "code",
   "execution_count": null,
   "metadata": {
    "hideCode": true
   },
   "outputs": [],
   "source": [
    "# Define and print test query\n",
    "q = 'geo:place:loc^=us.wa.seattle'\n",
    "print(q)\n",
    "# Execute the query and test\n",
    "podes = await core.eval(q, cmdr=False)"
   ]
  },
  {
   "cell_type": "raw",
   "metadata": {},
   "source": [
    "Note that specifying a more granular prefix value will **not** match values that are less granular. That is ``:loc^=ca.on`` will fail to match ``:loc=ca``.\n",
    "\n",
    "Similarly, use of the equals comparator (``=``) with ``loc`` types will match the **exact value only.** So ``:loc = us`` will match **only** ``:loc = us`` but not ``:loc = us.ca`` or ``:loc = us.il.chicago``.\n",
    "\n",
    "Because the prefix match operates on the dot boundary, attempting to lift or filter by a prefix string match that does **not** fall on a dot boundary will return **zero nodes.** For example, the filter syntax ``+:loc^=us.v`` will return zero nodes even if nodes with ``:loc = us.vt`` or ``:loc = us.va`` exist. (However, it would return nodes with ``:loc = us.v`` or ``:loc = us.v.foo`` if such nodes exist.)\n",
    "\n",
    "**Examples**\n",
    "\n",
    "Lift all organizations geolocated in Switzerland:"
   ]
  },
  {
   "cell_type": "code",
   "execution_count": null,
   "metadata": {
    "hideCode": true
   },
   "outputs": [],
   "source": [
    "# Define and print test query\n",
    "q = 'ou:org:loc^=ch'\n",
    "print(q)\n",
    "# Execute the query and test\n",
    "podes = await core.eval(q, cmdr=False)"
   ]
  },
  {
   "cell_type": "raw",
   "metadata": {},
   "source": [
    "In the above example, the Storm syntax would match the following location values:\n",
    "\n",
    "- ``:loc = ch``\n",
    "- ``:loc = ch.zurich``\n",
    "- ``:loc = ch.saint moritz``\n",
    "- ...etc.\n",
    "\n",
    "The Storm syntax would **not** match the following location values:\n",
    "\n",
    "- ``:loc = china``\n",
    "- ``:loc = chicago``\n",
    "\n",
    ".. _type-str:\n",
    "\n",
    "str\n",
    "---\n",
    "\n",
    "Indexing\n",
    "++++++++\n",
    "\n",
    "String (and string-derived) types are indexed by **prefix** (character-by-character from the beginning of the string). This allows matching on any initial substring.\n",
    "\n",
    "Parsing\n",
    "+++++++\n",
    "\n",
    "Some string types and string-derived types are normalized to all lowercase to facilitate pivoting across like values without case-sensitivity. For types that are normalized in this fashion, the string can be entered in mixed-case and will be automatically converted to lowercase.\n",
    "\n",
    "Strings are subject to Synapse’s restrictions regarding :ref:`whitespace` and :ref:`literals`.\n",
    "\n",
    "Insertion\n",
    "+++++++++\n",
    "\n",
    "Same as for parsing.\n",
    "\n",
    "Operations\n",
    "++++++++++\n",
    "\n",
    "Because of Synapse’s use of **prefix indexing,** string and string-derived types can be lifted or filtered based on matching an initial substring of any string using the prefix extended comparator (``^=``) (see :ref:`lift-prefix` and :ref:`filter-prefix`).\n",
    "\n",
    "Prefix matching is case-sensitive based on the specific type being matched. If the target property’s type is case-sensitive, the string to match must be entered in case-sensitive form. If the target property is case-insensitive (i.e., normalized to lowercase) the string to match can be entered in any case (upper, lower, or mixed) and will be automatically normalized by Synapse.\n",
    "\n",
    "**Examples**\n",
    "\n",
    "Lift all organizations whose name starts with the word \"Acme \":"
   ]
  },
  {
   "cell_type": "code",
   "execution_count": null,
   "metadata": {
    "hideCode": true
   },
   "outputs": [],
   "source": [
    "# Define and print test query\n",
    "q = 'ou:org:name^=\"acme \"'\n",
    "print(q)\n",
    "# Execute the query and test\n",
    "podes = await core.eval(q, cmdr=False)"
   ]
  },
  {
   "cell_type": "raw",
   "metadata": {},
   "source": [
    "Filter a set of Internet accounts to those with usernames starting with \"thereal\":"
   ]
  },
  {
   "cell_type": "code",
   "execution_count": null,
   "metadata": {
    "hideCode": true
   },
   "outputs": [],
   "source": [
    "# Define and print test query\n",
    "q = '<inet:web:acct> +:user^=thereal'\n",
    "print(q)"
   ]
  },
  {
   "cell_type": "raw",
   "metadata": {},
   "source": [
    ".. _type-syn-tag:\n",
    "\n",
    "syn:\\tag\n",
    "--------\n",
    "\n",
    "``syn:tag`` is a specialized type used for :ref:`data-tag` nodes within Synapse. Tags represent domain-specific, analytically relevant observations or assessments. They support a hierarchical namespace based on user-defined dot-separated strings. This hierarchy allows recording classes or categories of analytical observations that can be defined with increasing specificity. (See :ref:`analytical-model-tags` for more information.)\n",
    "\n",
    "``syn:tag`` is an extension of the :ref:`type-str` type. However, because ``syn:tag`` types use strings that comprise a dot-separated hierarchy, they exhibit slightly modified behavior from standard string types for certain operations.\n",
    "\n",
    "Indexing\n",
    "++++++++\n",
    "\n",
    "The ``syn:tag`` type is an extension of the :ref:`type-str` type and so is **prefix-indexed** like other strings. However, the use of dot-separated boundaries impacts some operations using ``syn:tag`` values.\n",
    "\n",
    "``syn:tag`` values are normalized to lowercase.\n",
    "\n",
    "Parsing\n",
    "+++++++\n",
    "\n",
    "``syn:tag`` values can contain lowercase characters and numerals. Spaces and ASCII symbols are not allowed.  (**Note:** Synapse includes support for Unicode words in tag strings; this includes most characters that can be part of a word in any language, as well as numbers and the underscore.)\n",
    "\n",
    "Components of a ``syn:tag`` value must be separated by the dot ( ``.`` ) character. The dot is a reserved character for the ``syn:tag`` type and is used to separate string elements along hierarchical boundaries. The use of the dot as a reserved boundary marker impacts some operations using the ``syn:tag`` type.\n",
    "\n",
    "``syn:tag`` values can be input using any case (uppercase, lowercase, mixed case) but will be normalized to lowercase.\n",
    "\n",
    "As ``syn:tag`` values cannot contain whitespace (spaces) or escaped characters, the Synapse restrictions regarding  :ref:`whitespace` and :ref:`literals` do not apply.\n",
    "\n",
    "**Examples**\n",
    "\n",
    "The following are all allowed ``syn:tag`` values:\n",
    "\n",
    "- ``syn:tag = foo.bar.baz``\n",
    "- ``syn:tag = hurr.123.derp``\n",
    "- ``syn:tag = my.1a2b3c.tag``\n",
    "\n",
    "The following ``syn:tag`` values are not allowed and will generate ``BadTypeValu`` errors:\n",
    "\n",
    "- ``syn:tag = this.is.my.@#$*(.tag``\n",
    "- ``syn:tag = \"some.threat group.tag\"``\n",
    "\n",
    "Insertion\n",
    "+++++++++\n",
    "\n",
    "A ``syn:tag`` node does not have to be created before the equivalent tag can be applied to another node. That is, applying a tag to a node will result in the automatic creation of the corresponding ``syn:tag`` node or nodes (assuming the appropriate user permissions). For example:"
   ]
  },
  {
   "cell_type": "code",
   "execution_count": null,
   "metadata": {
    "hideCode": true
   },
   "outputs": [],
   "source": [
    "# Define and print test query\n",
    "q = 'inet:fqdn=woot.com [+#some.new.tag]'\n",
    "print(q)\n",
    "# Execute the query and test\n",
    "podes = await core.eval(q, cmdr=False)"
   ]
  },
  {
   "cell_type": "raw",
   "metadata": {},
   "source": [
    "The above Storm syntax will both apply the tag ``#some.new.tag`` to the node ``inet:fqdn = woot.com`` and automatically create the node ``syn:tag = some.new.tag`` if it does not already exist (as well as ``syn:tag = some`` and ``syn:tag = some.new``).\n",
    "\n",
    "Operations\n",
    "+++++++++++\n",
    "\n",
    "The use of the dot character ( ``.`` ) as a reserved boundary marker impacts prefix (``^=``) and equivalent (``=``) operations using the ``syn:tag`` type.\n",
    "\n",
    "String and string-derived types are **prefix-indexed** to optimize lifting or filtering strings that start with a given substring using the prefix (``^=``) extended comparator. For standard strings, the prefix comparator can be used with strings of arbitrary length. However, for string-derived types (including ``syn:tag``) that use dotted hierarchical notation, **the prefix comparator operates along dot boundaries.**\n",
    "\n",
    "This is because the analytical significance of a tag is likely to fall on these hierarchical boundaries as opposed to an arbitrary substring prefix match. That is, it is more likely to be analytically meaningful to lift all nodes with that are related to sinkhole infrastructure (``syn:tag^=cno.infra.anon.sink``) than it is to lift all nodes with infrastructure tags that begin with \"s\" (``syn:tag^=cno.infra.anon.s``).\n",
    "\n",
    "Prefix comparison for ``syn:tag`` types is useful because it easily allows lifting or filtering at any appropriate level of resolution within a tag hierarchy:\n",
    "\n",
    "Lift all tags in the computer network operations tree:"
   ]
  },
  {
   "cell_type": "code",
   "execution_count": null,
   "metadata": {
    "hideCode": true
   },
   "outputs": [],
   "source": [
    "# Define and print test query\n",
    "q = 'syn:tag^=cno'\n",
    "print(q)\n",
    "# Execute the query and test\n",
    "podes = await core.eval(q, cmdr=False)"
   ]
  },
  {
   "cell_type": "raw",
   "metadata": {},
   "source": [
    "Lift all tags representing aliases (e.g., names of malware, threat groups, etc.) reported by Symantec:"
   ]
  },
  {
   "cell_type": "code",
   "execution_count": null,
   "metadata": {
    "hideCode": true
   },
   "outputs": [],
   "source": [
    "# Define and print test query\n",
    "q = 'syn:tag^=aka.symantec'\n",
    "print(q)\n",
    "# Execute the query and test\n",
    "podes = await core.eval(q, cmdr=False)"
   ]
  },
  {
   "cell_type": "raw",
   "metadata": {},
   "source": [
    "Lift all tags representing anonymous VPN infrastructure:"
   ]
  },
  {
   "cell_type": "code",
   "execution_count": null,
   "metadata": {
    "hideCode": true
   },
   "outputs": [],
   "source": [
    "# Define and print test query\n",
    "q = 'syn:tag^=cno.infra.anon.vpn'\n",
    "print(q)\n",
    "# Execute the query and test\n",
    "podes = await core.eval(q, cmdr=False)"
   ]
  },
  {
   "cell_type": "raw",
   "metadata": {},
   "source": [
    "Note that specifying a more granular prefix value will **not** match values that are less granular. That is, ``syn:tag^=cno.infra`` will fail to match ``syn:tag = cno``.\n",
    "\n",
    "Similarly, use of the equals comparator (``=``) with ``syn:tag`` types will match the **exact value only.** So ``syn:tag = aka`` will match **only** that tag but not ``syn:tag = aka.symantec`` or ``syn:tag = aka.trend.thr.pawnstorm``.\n",
    "\n",
    "Because the prefix match operates on the dot boundary, attempting to lift or filter by a prefix string match that does **not** fall on a dot boundary will return **zero nodes.** For example, the syntax ``syn:tag^=aka.t`` will return zero nodes even if nodes ``syn:tag = aka.talos`` or ``syn:tag = aka.trend`` exist. (However, it would return nodes ``syn:tag = aka.t`` or ``syn:tag = aka.t.foo`` if such nodes exist.)\n",
    "\n",
    "**Examples**\n",
    "\n",
    "Lift the ``syn:tag`` nodes whose *<valu>* begins with ``foo.bar``:"
   ]
  },
  {
   "cell_type": "code",
   "execution_count": null,
   "metadata": {
    "hideCode": true
   },
   "outputs": [],
   "source": [
    "# Define and print test query\n",
    "q = 'syn:tag^=foo.bar'\n",
    "print(q)\n",
    "# Execute the query and test\n",
    "podes = await core.eval(q, cmdr=False)"
   ]
  },
  {
   "cell_type": "raw",
   "metadata": {},
   "source": [
    "The above syntax would match (for example):\n",
    "\n",
    "- ``syn:tag = foo.bar``\n",
    "- ``syn:tag = foo.bar.baz``\n",
    "- ``syn:tag = foo.bar.aaa.bbb``\n",
    "- ...etc.\n",
    "\n",
    "The above syntax would **not** match (for example):\n",
    "\n",
    "- ``syn:tag = foo.barbaz``\n",
    "- ``syn:tag = foo.barrrabarra``\n",
    "- ...etc.\n",
    "\n",
    ".. _type-time:\n",
    "\n",
    "time\n",
    "----\n",
    "\n",
    "TBD"
   ]
  },
  {
   "cell_type": "raw",
   "metadata": {},
   "source": [
    ".. _documentation: https://vertexprojectsynapse.readthedocs.io/en/latest/autodocs/datamodel_types.html\n",
    ".. _code: https://github.com/vertexproject/synapse"
   ]
  },
  {
   "cell_type": "code",
   "execution_count": null,
   "metadata": {
    "hideCode": true
   },
   "outputs": [],
   "source": [
    "# Close cortex because done\n",
    "_ = await core.fini()"
   ]
  }
 ],
 "metadata": {
  "celltoolbar": "Hide code",
  "kernelspec": {
   "display_name": "Python 3",
   "language": "python",
   "name": "python3"
  },
  "language_info": {
   "codemirror_mode": {
    "name": "ipython",
    "version": 3
   },
   "file_extension": ".py",
   "mimetype": "text/x-python",
   "name": "python",
   "nbconvert_exporter": "python",
   "pygments_lexer": "ipython3",
   "version": "3.7.1"
  }
 },
 "nbformat": 4,
 "nbformat_minor": 2
}
