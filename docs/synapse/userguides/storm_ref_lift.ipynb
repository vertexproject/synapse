{
 "cells": [
  {
   "cell_type": "code",
   "execution_count": 1,
   "metadata": {
    "hideCode": true
   },
   "outputs": [],
   "source": [
    "import os, sys\n",
    "try:\n",
    "    from synapse.lib.jupyter import *\n",
    "except ImportError as e:\n",
    "    # Insert the root path of the repository to sys.path.\n",
    "    # This assumes the notebook is located three directories away\n",
    "    # From the root synapse directory. It may need to be varied\n",
    "    synroot = os.path.abspath('../../../')\n",
    "    sys.path.insert(0, synroot)\n",
    "    from synapse.lib.jupyter import *"
   ]
  },
  {
   "cell_type": "raw",
   "metadata": {},
   "source": [
    ".. _storm-ref-lift:\n",
    "\n",
    "Storm Reference - Lifting\n",
    "=========================\n",
    "\n",
    "Lift operations retrieve a set of nodes from a Synapse Cortex based on specified criteria. While all lift operations are retrieval operations, they can be broken down into “types” of lifts based on the criteria, comparison operator, or special handler used:\n",
    "\n",
    "- `Simple Lifts`_\n",
    "- `Lifts Using Standard Comparison Operators`_\n",
    "- `Lifts Using Extended Comparison Operators`_\n",
    "\n",
    "See :ref:`storm-ref-syntax` for an explanation of the syntax format used below.\n",
    "\n",
    "See :ref:`storm-ref-type-specific` for details on special syntax or handling for specific data types.\n",
    "\n",
    "Simple Lifts\n",
    "------------\n",
    "\n",
    "\"Simple\" lifts refers to the most \"basic\" lift operations. That is, operations to retrieve a set of nodes based on:\n",
    "\n",
    "- The presence of a specific primary or secondary property.\n",
    "- The presence of a specific primary property value or secondary property value.\n",
    "- The presence of a specific tag.\n",
    "\n",
    "The only difference between \"simple\" lifts and \"lifts using comparison operators\" is that we have defined simple lifts as those that use the equals ( ``=`` ) comparator, which is the easiest comparator to use to explain basic lift concepts.\n",
    "\n",
    "**Syntax:**\n",
    "\n",
    "*<form>* | *<form>* **=** *<valu>* | *<valu>* | *<prop>* | *<prop>* **=** *<pval>* | **#** *<tag>*\n",
    "\n",
    "**Examples:**\n",
    "\n",
    "*Lift by primary property (<form>):*\n",
    "\n",
    "- Lift all domain nodes:"
   ]
  },
  {
   "cell_type": "code",
   "execution_count": 2,
   "metadata": {
    "hideCode": true,
    "hideOutput": true,
    "scrolled": true
   },
   "outputs": [
    {
     "name": "stdout",
     "output_type": "stream",
     "text": [
      "cli> storm [inet:fqdn=woot.com inet:fqdn=vertex.link inet:fqdn=google.com]\n",
      "\n",
      "inet:fqdn=woot.com\n",
      "        .created = 2019/01/03 23:56:18.615\n",
      "        :domain = com\n",
      "        :host = woot\n",
      "        :issuffix = False\n",
      "        :iszone = True\n",
      "        :zone = woot.com\n",
      "inet:fqdn=vertex.link\n",
      "        .created = 2019/01/03 23:56:18.617\n",
      "        :domain = link\n",
      "        :host = vertex\n",
      "        :issuffix = False\n",
      "        :iszone = True\n",
      "        :zone = vertex.link\n",
      "inet:fqdn=google.com\n",
      "        .created = 2019/01/03 23:56:18.618\n",
      "        :domain = com\n",
      "        :host = google\n",
      "        :issuffix = False\n",
      "        :iszone = True\n",
      "        :zone = google.com\n",
      "complete. 3 nodes in 14 ms (214/sec).\n"
     ]
    }
   ],
   "source": [
    "# Get a temp cortex and preload some data into it.\n",
    "core = await getTempCoreCmdr()\n",
    "q = '[inet:fqdn=woot.com inet:fqdn=vertex.link inet:fqdn=google.com]'\n",
    "# This runs the query via the CLI, rips out the nodes, makes sure we got 3 nodes on the output :)\n",
    "podes = await core.eval(q, num=3, cmdr=True)\n",
    "# print(f'I got {len(podes)} podes!')\n",
    "# This runs the query directly, no CLI output\n",
    "# newpodes = await core.eval(q, num=4, cmdr=False)\n",
    "# print(f'I got {len(newpodes)} podes the second time!!')\n",
    "# await core.fini()"
   ]
  },
  {
   "cell_type": "code",
   "execution_count": 3,
   "metadata": {
    "hideCode": true,
    "hideOutput": false,
    "scrolled": false
   },
   "outputs": [
    {
     "name": "stdout",
     "output_type": "stream",
     "text": [
      "inet:fqdn\n"
     ]
    }
   ],
   "source": [
    "# Use previous temp cortex, define and print test query\n",
    "q = 'inet:fqdn'\n",
    "print(q)\n",
    "# Execute the query to test it and get the packed nodes (podes).\n",
    "podes = await core.eval(q, num=5, cmdr=False)"
   ]
  },
  {
   "cell_type": "raw",
   "metadata": {},
   "source": [
    "\n",
    "- Lift all mutex nodes:"
   ]
  },
  {
   "cell_type": "code",
   "execution_count": 4,
   "metadata": {
    "hideCode": true,
    "hideOutput": true
   },
   "outputs": [
    {
     "name": "stdout",
     "output_type": "stream",
     "text": [
      "cli> storm [it:dev:mutex=\"!@ADS@#$\" it:dev:mutex=\"***MUTEX***\" it:dev:mutex=\"***MUTEX***_SAIR\"]\n",
      "\n",
      "it:dev:mutex=!@ADS@#$\n",
      "        .created = 2019/01/03 23:56:18.663\n",
      "it:dev:mutex=***MUTEX***\n",
      "        .created = 2019/01/03 23:56:18.664\n",
      "it:dev:mutex=***MUTEX***_SAIR\n",
      "        .created = 2019/01/03 23:56:18.665\n",
      "complete. 3 nodes in 11 ms (272/sec).\n"
     ]
    }
   ],
   "source": [
    "# Make some mutexes\n",
    "q = '[it:dev:mutex=\"!@ADS@#$\" it:dev:mutex=\"***MUTEX***\" it:dev:mutex=\"***MUTEX***_SAIR\"]'\n",
    "# Run the query and test\n",
    "podes = await core.eval(q, num=3, cmdr=True)"
   ]
  },
  {
   "cell_type": "code",
   "execution_count": 5,
   "metadata": {
    "hideCode": true
   },
   "outputs": [
    {
     "name": "stdout",
     "output_type": "stream",
     "text": [
      "it:dev:mutex\n"
     ]
    }
   ],
   "source": [
    "# Define and print test query\n",
    "q = 'it:dev:mutex'\n",
    "print(q)\n",
    "# Execute the query and test\n",
    "podes = await core.eval(q, num=3, cmdr=False)"
   ]
  },
  {
   "cell_type": "raw",
   "metadata": {},
   "source": [
    "\n",
    "*Lift a specific node (<form> = <valu>):*\n",
    "\n",
    "- Lift the node for the domain ``google.com``:"
   ]
  },
  {
   "cell_type": "code",
   "execution_count": 6,
   "metadata": {
    "hideCode": true
   },
   "outputs": [
    {
     "name": "stdout",
     "output_type": "stream",
     "text": [
      "inet:fqdn = google.com\n"
     ]
    }
   ],
   "source": [
    "# Define and print test query\n",
    "q = 'inet:fqdn = google.com'\n",
    "print(q)\n",
    "# Execute the query and test\n",
    "podes = await core.eval(q, num=1, cmdr=False)"
   ]
  },
  {
   "cell_type": "raw",
   "metadata": {},
   "source": [
    "\n",
    "- Lift the node for a specific MD5 hash:"
   ]
  },
  {
   "cell_type": "code",
   "execution_count": 7,
   "metadata": {
    "hideCode": true,
    "hideOutput": true
   },
   "outputs": [
    {
     "name": "stdout",
     "output_type": "stream",
     "text": [
      "cli> storm [hash:md5=d41d8cd98f00b204e9800998ecf8427e]\n",
      "\n",
      "hash:md5=d41d8cd98f00b204e9800998ecf8427e\n",
      "        .created = 2019/01/03 23:56:18.717\n",
      "complete. 1 nodes in 10 ms (100/sec).\n"
     ]
    }
   ],
   "source": [
    "# Make a hash\n",
    "q = '[hash:md5=d41d8cd98f00b204e9800998ecf8427e]'\n",
    "# Run query and test\n",
    "podes = await core.eval(q, num=1, cmdr=True)"
   ]
  },
  {
   "cell_type": "code",
   "execution_count": 8,
   "metadata": {
    "hideCode": true,
    "scrolled": true
   },
   "outputs": [
    {
     "name": "stdout",
     "output_type": "stream",
     "text": [
      "hash:md5 = d41d8cd98f00b204e9800998ecf8427e\n"
     ]
    }
   ],
   "source": [
    "# Define and print test query\n",
    "q = 'hash:md5 = d41d8cd98f00b204e9800998ecf8427e'\n",
    "print(q)\n",
    "# Execute the query and test\n",
    "podes = await core.eval(q, num=1, cmdr=False)"
   ]
  },
  {
   "cell_type": "raw",
   "metadata": {},
   "source": [
    "\n",
    "*Lift a specific compound node:*\n",
    "\n",
    "- Lift the DNS A record showing that domain ``woot.com`` resolved to IP ``1.2.3.4``:"
   ]
  },
  {
   "cell_type": "code",
   "execution_count": 9,
   "metadata": {
    "hideCode": true,
    "hideOutput": true
   },
   "outputs": [
    {
     "name": "stdout",
     "output_type": "stream",
     "text": [
      "cli> storm [ inet:dns:a=(woot.com,1.2.3.4)]\n",
      "\n",
      "inet:dns:a=('woot.com', '1.2.3.4')\n",
      "        .created = 2019/01/03 23:56:18.761\n",
      "        :fqdn = woot.com\n",
      "        :ipv4 = 1.2.3.4\n",
      "complete. 1 nodes in 10 ms (100/sec).\n"
     ]
    }
   ],
   "source": [
    "# Make a DNS A node:\n",
    "q = '[ inet:dns:a=(woot.com,1.2.3.4)]'\n",
    "# Execute query and test\n",
    "podes = await core.eval(q, num=1, cmdr=True)"
   ]
  },
  {
   "cell_type": "code",
   "execution_count": 10,
   "metadata": {
    "hideCode": true,
    "scrolled": true
   },
   "outputs": [
    {
     "name": "stdout",
     "output_type": "stream",
     "text": [
      "inet:dns:a = (woot.com, 1.2.3.4)\n"
     ]
    }
   ],
   "source": [
    "# Define and print test query\n",
    "q = 'inet:dns:a = (woot.com, 1.2.3.4)'\n",
    "print(q)\n",
    "# Execute the query and test\n",
    "podes = await core.eval(q, num=1, cmdr=False)"
   ]
  },
  {
   "cell_type": "raw",
   "metadata": {},
   "source": [
    "\n",
    "*Lift a specific GUID node:*\n",
    "\n",
    "* Lift the organization node with the specified GUID:"
   ]
  },
  {
   "cell_type": "code",
   "execution_count": 11,
   "metadata": {
    "hideCode": true,
    "hideOutput": true
   },
   "outputs": [
    {
     "name": "stdout",
     "output_type": "stream",
     "text": [
      "cli> storm [ou:org=2f92bc913918f6598bcf310972ebf32e :alias=vertex :name=\"the vertex project llc\" :url=http://www.vertex.link :loc=us]\n",
      "\n",
      "ou:org=2f92bc913918f6598bcf310972ebf32e\n",
      "        .created = 2019/01/03 23:56:18.806\n",
      "        :alias = vertex\n",
      "        :loc = us\n",
      "        :name = the vertex project llc\n",
      "        :url = http://www.vertex.link\n",
      "complete. 1 nodes in 18 ms (55/sec).\n"
     ]
    }
   ],
   "source": [
    "# Make an org node:\n",
    "q = '[ou:org=2f92bc913918f6598bcf310972ebf32e :alias=vertex :name=\"the vertex project llc\" :url=http://www.vertex.link :loc=us]'\n",
    "# Execute query and test\n",
    "podes = await core.eval(q, num=1, cmdr=True)"
   ]
  },
  {
   "cell_type": "code",
   "execution_count": 12,
   "metadata": {
    "hideCode": true
   },
   "outputs": [
    {
     "name": "stdout",
     "output_type": "stream",
     "text": [
      "ou:org=2f92bc913918f6598bcf310972ebf32e\n"
     ]
    }
   ],
   "source": [
    "# Define and print test query\n",
    "q = 'ou:org=2f92bc913918f6598bcf310972ebf32e'\n",
    "print(q)\n",
    "# Execute the query and test\n",
    "podes = await core.eval(q, num=1, cmdr=False)"
   ]
  },
  {
   "cell_type": "raw",
   "metadata": {},
   "source": [
    "\n",
    "*Lift a specific digraph (edge) node:*\n",
    "\n",
    "- Lift the ``has`` node linking the person node representing \"Bob Smith\" to his email address:"
   ]
  },
  {
   "cell_type": "code",
   "execution_count": 13,
   "metadata": {
    "hideCode": true,
    "hideOutput": true
   },
   "outputs": [
    {
     "name": "stdout",
     "output_type": "stream",
     "text": [
      "cli> storm [has=((ps:person,12af06294ddf1a0ac8d6da34e1dabee4),(inet:email, bob.smith@gmail.com))]\n",
      "\n",
      "has=((ps:person, \"12af06294ddf1a0ac8d6da34e1dabee4\"), (inet:email, \"bob.smith@gmail.com\"))\n",
      "        .created = 2019/01/03 23:56:18.864\n",
      "        :n1 = ('ps:person', '12af06294ddf1a0ac8d6da34e1dabee4')\n",
      "        :n1:form = ps:person\n",
      "        :n2 = ('inet:email', 'bob.smith@gmail.com')\n",
      "        :n2:form = inet:email\n",
      "complete. 1 nodes in 12 ms (83/sec).\n"
     ]
    }
   ],
   "source": [
    "# Make a has node:\n",
    "q = '[has=((ps:person,12af06294ddf1a0ac8d6da34e1dabee4),(inet:email, bob.smith@gmail.com))]'\n",
    "# Execute query and test\n",
    "podes = await core.eval(q, num=1, cmdr=True)"
   ]
  },
  {
   "cell_type": "code",
   "execution_count": 14,
   "metadata": {
    "hideCode": true
   },
   "outputs": [
    {
     "name": "stdout",
     "output_type": "stream",
     "text": [
      "has=((ps:person,12af06294ddf1a0ac8d6da34e1dabee4),(inet:email, bob.smith@gmail.com))\n"
     ]
    }
   ],
   "source": [
    "# Define and print test query\n",
    "q = 'has=((ps:person,12af06294ddf1a0ac8d6da34e1dabee4),(inet:email, bob.smith@gmail.com))'\n",
    "print(q)\n",
    "# Execute the query and test\n",
    "podes = await core.eval(q, num=1, cmdr=False)"
   ]
  },
  {
   "cell_type": "raw",
   "metadata": {},
   "source": [
    "\n",
    "*Lift by primary property value alone (<valu>):*\n",
    "\n",
    "- Lift the domain ``woot.com``:"
   ]
  },
  {
   "cell_type": "code",
   "execution_count": 15,
   "metadata": {
    "hideCode": true
   },
   "outputs": [
    {
     "name": "stdout",
     "output_type": "stream",
     "text": [
      "woot.com\n"
     ]
    }
   ],
   "source": [
    "# Define and print test query\n",
    "q = 'woot.com'\n",
    "print(q)\n",
    "# Execute the query and test\n",
    "podes = await core.eval(q, num=1, cmdr=False)"
   ]
  },
  {
   "cell_type": "raw",
   "metadata": {},
   "source": [
    "\n",
    "*Lift by the presence of a secondaray property (<prop>):*\n",
    "\n",
    "- Lift the DNS SOA record nodes that have an email property:"
   ]
  },
  {
   "cell_type": "code",
   "execution_count": 16,
   "metadata": {
    "hideCode": true,
    "hideOutput": true
   },
   "outputs": [
    {
     "name": "stdout",
     "output_type": "stream",
     "text": [
      "cli> storm [inet:dns:soa=f511705bb7ba9147b5d1b2058309a53e :email=18929733163@189.cn :fqdn=linvpn11.com]\n",
      "\n",
      "inet:dns:soa=f511705bb7ba9147b5d1b2058309a53e\n",
      "        .created = 2019/01/03 23:56:18.942\n",
      "        :email = 18929733163@189.cn\n",
      "        :fqdn = linvpn11.com\n",
      "complete. 1 nodes in 19 ms (52/sec).\n",
      "cli> storm [inet:dns:soa=6b3bb9decf6f1593476b10937d4783db :ns=ns1.vpntunnel.se :fqdn=vpntunnel.se]\n",
      "\n",
      "inet:dns:soa=6b3bb9decf6f1593476b10937d4783db\n",
      "        .created = 2019/01/03 23:56:18.964\n",
      "        :fqdn = vpntunnel.se\n",
      "        :ns = ns1.vpntunnel.se\n",
      "complete. 1 nodes in 12 ms (83/sec).\n"
     ]
    }
   ],
   "source": [
    "# Make some SOA nodes:\n",
    "q = '[inet:dns:soa=f511705bb7ba9147b5d1b2058309a53e :email=18929733163@189.cn :fqdn=linvpn11.com]'\n",
    "q2 = '[inet:dns:soa=6b3bb9decf6f1593476b10937d4783db :ns=ns1.vpntunnel.se :fqdn=vpntunnel.se]'\n",
    "# Execute query and test\n",
    "podes = await core.eval(q, num=1, cmdr=True)\n",
    "podes = await core.eval(q2, num=1, cmdr=True)"
   ]
  },
  {
   "cell_type": "code",
   "execution_count": 17,
   "metadata": {
    "hideCode": true
   },
   "outputs": [
    {
     "name": "stdout",
     "output_type": "stream",
     "text": [
      "inet:dns:soa:email\n"
     ]
    }
   ],
   "source": [
    "# Define and print test query\n",
    "q = 'inet:dns:soa:email'\n",
    "print(q)\n",
    "# Execute the query and test\n",
    "podes = await core.eval(q, num=1, cmdr=False)"
   ]
  },
  {
   "cell_type": "raw",
   "metadata": {},
   "source": [
    "\n",
    "*Lift by a specific property value (<prop> = <pval>):*\n",
    "\n",
    "- Lift the organization node with the alias ``vertex``:"
   ]
  },
  {
   "cell_type": "code",
   "execution_count": 18,
   "metadata": {
    "hideCode": true
   },
   "outputs": [
    {
     "name": "stdout",
     "output_type": "stream",
     "text": [
      "ou:org:alias = vertex\n"
     ]
    }
   ],
   "source": [
    "# Define and print test query\n",
    "q = 'ou:org:alias = vertex'\n",
    "print(q)\n",
    "# Execute the query and test\n",
    "podes = await core.eval(q, num=1, cmdr=False)"
   ]
  },
  {
   "cell_type": "raw",
   "metadata": {},
   "source": [
    "\n",
    "- Lift all DNS A records for the domain ``blackcake.net``:"
   ]
  },
  {
   "cell_type": "code",
   "execution_count": 19,
   "metadata": {
    "hideCode": true,
    "hideOutput": true
   },
   "outputs": [
    {
     "name": "stdout",
     "output_type": "stream",
     "text": [
      "cli> storm [inet:dns:a=(blackcake.net,52.4.209.250) inet:dns:a=(blackcake.net,67.215.66.149) inet:dns:a=(blackcake.net,0.0.0.0)]\n",
      "\n",
      "inet:dns:a=('blackcake.net', '52.4.209.250')\n",
      "        .created = 2019/01/03 23:56:19.040\n",
      "        :fqdn = blackcake.net\n",
      "        :ipv4 = 52.4.209.250\n",
      "inet:dns:a=('blackcake.net', '67.215.66.149')\n",
      "        .created = 2019/01/03 23:56:19.042\n",
      "        :fqdn = blackcake.net\n",
      "        :ipv4 = 67.215.66.149\n",
      "inet:dns:a=('blackcake.net', '0.0.0.0')\n",
      "        .created = 2019/01/03 23:56:19.046\n",
      "        :fqdn = blackcake.net\n",
      "        :ipv4 = 0.0.0.0\n",
      "complete. 3 nodes in 22 ms (136/sec).\n"
     ]
    }
   ],
   "source": [
    "# Make some DNS A nodes:\n",
    "q = '[inet:dns:a=(blackcake.net,52.4.209.250) inet:dns:a=(blackcake.net,67.215.66.149) inet:dns:a=(blackcake.net,0.0.0.0)]'\n",
    "# Execute query and test\n",
    "podes = await core.eval(q, num=3, cmdr=True)"
   ]
  },
  {
   "cell_type": "code",
   "execution_count": 20,
   "metadata": {
    "hideCode": true
   },
   "outputs": [
    {
     "name": "stdout",
     "output_type": "stream",
     "text": [
      "inet:dns:a:fqdn = blackcake.net\n"
     ]
    }
   ],
   "source": [
    "# Define and print test query\n",
    "q = 'inet:dns:a:fqdn = blackcake.net'\n",
    "print(q)\n",
    "# Execute the query and test\n",
    "podes = await core.eval(q, num=3, cmdr=False)"
   ]
  },
  {
   "cell_type": "raw",
   "metadata": {},
   "source": [
    "\n",
    "- Lift all the files with a PE compiled time of ``1992-06-19 22:22:17``:"
   ]
  },
  {
   "cell_type": "code",
   "execution_count": 21,
   "metadata": {
    "hideCode": true,
    "hideOutput": true
   },
   "outputs": [
    {
     "name": "stdout",
     "output_type": "stream",
     "text": [
      "cli> storm [file:bytes=sha256:e4f8ce133d5c42e6c3adc09c120c2ec483a57e6839c6d9ee39e0b294102b867f :mime:pe:compiled=19920619222217]\n",
      "\n",
      "file:bytes=sha256:e4f8ce133d5c42e6c3adc09c120c2ec483a57e6839c6d9ee39e0b294102b867f\n",
      "        .created = 2019/01/03 23:56:19.099\n",
      "        :mime = ??\n",
      "        :mime:pe:compiled = 1992/06/19 22:22:17.000\n",
      "        :sha256 = e4f8ce133d5c42e6c3adc09c120c2ec483a57e6839c6d9ee39e0b294102b867f\n",
      "complete. 1 nodes in 9 ms (111/sec).\n",
      "cli> storm [file:bytes=sha256:a2dc8c1327a184013f1e188258813776e052ac7a68c96c058a723cac28c97bdd :mime:pe:compiled=19920619222217]\n",
      "\n",
      "file:bytes=sha256:a2dc8c1327a184013f1e188258813776e052ac7a68c96c058a723cac28c97bdd\n",
      "        .created = 2019/01/03 23:56:19.117\n",
      "        :mime = ??\n",
      "        :mime:pe:compiled = 1992/06/19 22:22:17.000\n",
      "        :sha256 = a2dc8c1327a184013f1e188258813776e052ac7a68c96c058a723cac28c97bdd\n",
      "complete. 1 nodes in 7 ms (142/sec).\n",
      "cli> storm [file:bytes=sha256:6119c92f5b5cb2cd953925e17ceb4a02a9007029dd27a35d44b116ff9718f814 :mime:pe:compiled=19700101032545]\n",
      "\n",
      "file:bytes=sha256:6119c92f5b5cb2cd953925e17ceb4a02a9007029dd27a35d44b116ff9718f814\n",
      "        .created = 2019/01/03 23:56:19.128\n",
      "        :mime = ??\n",
      "        :mime:pe:compiled = 1970/01/01 03:25:45.000\n",
      "        :sha256 = 6119c92f5b5cb2cd953925e17ceb4a02a9007029dd27a35d44b116ff9718f814\n",
      "complete. 1 nodes in 7 ms (142/sec).\n"
     ]
    }
   ],
   "source": [
    "# Make some file nodes:\n",
    "q = '[file:bytes=sha256:e4f8ce133d5c42e6c3adc09c120c2ec483a57e6839c6d9ee39e0b294102b867f :mime:pe:compiled=19920619222217]'\n",
    "q2 = '[file:bytes=sha256:a2dc8c1327a184013f1e188258813776e052ac7a68c96c058a723cac28c97bdd :mime:pe:compiled=19920619222217]'\n",
    "q3 = '[file:bytes=sha256:6119c92f5b5cb2cd953925e17ceb4a02a9007029dd27a35d44b116ff9718f814 :mime:pe:compiled=19700101032545]'\n",
    "# Execute query and test\n",
    "podes = await core.eval(q, num=1, cmdr=True)\n",
    "podes = await core.eval(q2, num=1, cmdr=True)\n",
    "podes = await core.eval(q3, num=1, cmdr=True)"
   ]
  },
  {
   "cell_type": "code",
   "execution_count": 22,
   "metadata": {
    "hideCode": true
   },
   "outputs": [
    {
     "name": "stdout",
     "output_type": "stream",
     "text": [
      "file:bytes:mime:pe:compiled = \"1992/06/19 22:22:17\"\n"
     ]
    }
   ],
   "source": [
    "# Define and print test query\n",
    "q = 'file:bytes:mime:pe:compiled = \"1992/06/19 22:22:17\"'\n",
    "print(q)\n",
    "# Execute the query and test\n",
    "podes = await core.eval(q, num=2, cmdr=False)"
   ]
  },
  {
   "cell_type": "raw",
   "metadata": {},
   "source": [
    "\n",
    "*Lift all nodes with a specific tag:*"
   ]
  },
  {
   "cell_type": "code",
   "execution_count": 23,
   "metadata": {
    "hideCode": true,
    "hideOutput": true
   },
   "outputs": [
    {
     "name": "stdout",
     "output_type": "stream",
     "text": [
      "cli> storm [inet:ipv4=54.38.219.150 inet:ipv4=151.242.192.84 inet:ipv4=217.83.101.150 +#cno.infra.anon.tor]\n",
      "\n",
      "inet:ipv4=54.38.219.150\n",
      "        .created = 2019/01/03 23:56:19.171\n",
      "        :asn = 0\n",
      "        :loc = ??\n",
      "        :type = unicast\n",
      "        #cno.infra.anon.tor\n",
      "inet:ipv4=151.242.192.84\n",
      "        .created = 2019/01/03 23:56:19.176\n",
      "        :asn = 0\n",
      "        :loc = ??\n",
      "        :type = unicast\n",
      "        #cno.infra.anon.tor\n",
      "inet:ipv4=217.83.101.150\n",
      "        .created = 2019/01/03 23:56:19.178\n",
      "        :asn = 0\n",
      "        :loc = ??\n",
      "        :type = unicast\n",
      "        #cno.infra.anon.tor\n",
      "complete. 3 nodes in 20 ms (150/sec).\n"
     ]
    }
   ],
   "source": [
    "# Make some tagged nodes:\n",
    "q = '[inet:ipv4=54.38.219.150 inet:ipv4=151.242.192.84 inet:ipv4=217.83.101.150 +#cno.infra.anon.tor]'\n",
    "# Execute query and test\n",
    "podes = await core.eval(q, num=3, cmdr=True)"
   ]
  },
  {
   "cell_type": "code",
   "execution_count": 24,
   "metadata": {
    "hideCode": true
   },
   "outputs": [
    {
     "name": "stdout",
     "output_type": "stream",
     "text": [
      "#cno.infra.anon.tor\n"
     ]
    }
   ],
   "source": [
    "# Define and print test query\n",
    "q = '#cno.infra.anon.tor'\n",
    "print(q)\n",
    "# Execute the query and test\n",
    "podes = await core.eval(q, num=3, cmdr=False)"
   ]
  },
  {
   "cell_type": "raw",
   "metadata": {},
   "source": [
    "**Usage Notes:**\n",
    "\n",
    "- Lifting nodes by form alone (e.g., lifting all ``inet:fqdn`` nodes or all ``inet:email`` nodes) is possible but generally impractical / undesirable as it will potentially return an extremely large data set.\n",
    "- Because of the risk of accidentally lifting all nodes of a given form, the Storm query planner will automatically optimize lifts that:\n",
    "  \n",
    "  - specify a form with no value (e.g., attempt to lift by form alone); and\n",
    "  - are immediately followed by a positive tag filter (``+#sometag``).\n",
    "  \n",
    "  - For example, the following queries are executed in the same manner by the Storm runtime:\n",
    "    \n",
    "    - Lift followed by tag filter: ``inet:fqdn +#hehe.haha``\n",
    "    - Lift by tag (described below): ``inet:fqdn#hehe.haha``\n",
    "\n",
    "- Lifting by form alone when piped to the Storm :ref:`storm-limit` command may be useful for returning a small number of “exemplar” nodes.\n",
    "- Lifting nodes by ``<form> = <valu>`` is the most common method of lifting a single node.\n",
    "- When lifting a form whose ``<valu>`` consists of multiple components (e.g., a compound node or digraph node), the components must be passed as a comma-separated list enclosed in parentheses.\n",
    "- For certain common forms, if you specify a ``<valu>`` without a ``<form>``, the Storm parser will attempt to determine the correct form based on the ``<valu>`` type. This means it is possible (for example) to lift domains by ``<valu>`` alone. However, this may also have unexpected results; attempting to lift the email address ``joe.smith@gmail.com`` without specifying the form ``inet:email`` will lift both the email address and the domain ``gmail.com``.\n",
    "- Lifting nodes by the presence of a secondary property alone (``<prop>``) may be impractical / undesirable (similar to lifting by form alone), but may be feasible in limited cases (i.e., where it is known that only a relatively small number of nodes have a given secondary property).\n",
    "- Lifting nodes by the value of a secondary property (``<prop> = <pval>``) is useful for lifting all nodes that share a secondary property with the same value; and may be used to lift individual nodes with unique or relatively unique secondary properties in cases where entering the primary property is impractical (such as for GUID nodes).\n",
    "- Lifting nodes by tag alone (``#<tag>``) lifts nodes of **all** forms with that tag. To lift specific forms only, use `Lift by Tag (#)`_ or an additional filter (see :ref:`storm-ref-filter`)."
   ]
  },
  {
   "cell_type": "code",
   "execution_count": 25,
   "metadata": {
    "hideCode": true,
    "hideOutput": true
   },
   "outputs": [
    {
     "data": {
      "text/plain": [
       "0"
      ]
     },
     "execution_count": 25,
     "metadata": {},
     "output_type": "execute_result"
    }
   ],
   "source": [
    "# Close cortex for next section\n",
    "await core.fini()"
   ]
  },
  {
   "cell_type": "code",
   "execution_count": 26,
   "metadata": {
    "hideCode": true
   },
   "outputs": [],
   "source": [
    "import os, sys\n",
    "try:\n",
    "    from synapse.lib.jupyter import *\n",
    "except ImportError as e:\n",
    "    # Insert the root path of the repository to sys.path.\n",
    "    # This assumes the notebook is located three directories away\n",
    "    # From the root synapse directory. It may need to be varied\n",
    "    synroot = os.path.abspath('../../../')\n",
    "    sys.path.insert(0, synroot)\n",
    "    from synapse.lib.jupyter import *"
   ]
  },
  {
   "cell_type": "raw",
   "metadata": {},
   "source": [
    "Lifts Using Standard Comparison Operators\n",
    "-----------------------------------------\n",
    "\n",
    "Lift operations can be performed using most of the standard mathematical / logical comparison operators (comparators), as well as lifting via regular expression:\n",
    "\n",
    "- ``=`` : equals (described above)\n",
    "- ``<`` : less than\n",
    "- ``>`` : greater than\n",
    "- ``<=`` : less than or equal to\n",
    "- ``>=`` : greater than or equal to\n",
    "\n",
    "Lifting by “not equal to” (``!=``) is not currently supported.\n",
    "\n",
    "**Syntax:**\n",
    "\n",
    "*<prop>* *<comparator>* *<pval>*\n",
    "\n",
    "**Examples:**\n",
    "\n",
    "*Lift using less than comparator:*\n",
    "\n",
    "- Lift domain WHOIS records where the domain's registration (created) date was before June 1, 2014:"
   ]
  },
  {
   "cell_type": "code",
   "execution_count": 27,
   "metadata": {
    "hideCode": true,
    "hideOutput": true
   },
   "outputs": [
    {
     "name": "stdout",
     "output_type": "stream",
     "text": [
      "cli> storm [inet:whois:rec=(vicp.hk,\"2007/12/20 00:00:00.000\") :created = \"2013/01/26 00:00:00.000\" :registrant = \"shanghai beiruixinxijishu\" :text = \"domain name: vicp.hk\"]\n",
      "\n",
      "inet:whois:rec=('vicp.hk', '2007/12/20 00:00:00.000')\n",
      "        .created = 2019/01/03 23:56:19.428\n",
      "        :asof = 2007/12/20 00:00:00.000\n",
      "        :created = 2013/01/26 00:00:00.000\n",
      "        :fqdn = vicp.hk\n",
      "        :registrant = shanghai beiruixinxijishu\n",
      "        :registrar = ??\n",
      "        :text = domain name: vicp.hk\n",
      "complete. 1 nodes in 13 ms (76/sec).\n",
      "cli> storm [inet:whois:rec=(lkqd.net,\"2018/05/30 09:24:19.000\") :created = \"2014/06/01 21:05:25.000\" :registrar = godaddy :text = \"domain name: lkqd.net\"]\n",
      "\n",
      "inet:whois:rec=('lkqd.net', '2018/05/30 09:24:19.000')\n",
      "        .created = 2019/01/03 23:56:19.443\n",
      "        :asof = 2018/05/30 09:24:19.000\n",
      "        :created = 2014/06/01 21:05:25.000\n",
      "        :fqdn = lkqd.net\n",
      "        :registrant = ??\n",
      "        :registrar = godaddy\n",
      "        :text = domain name: lkqd.net\n",
      "complete. 1 nodes in 10 ms (100/sec).\n"
     ]
    }
   ],
   "source": [
    "# Get a newtemp cortex to start fresh and preload some WHOIS records into it.\n",
    "core = await getTempCoreCmdr()\n",
    "q = '[inet:whois:rec=(vicp.hk,\"2007/12/20 00:00:00.000\") :created = \"2013/01/26 00:00:00.000\" :registrant = \"shanghai beiruixinxijishu\" :text = \"domain name: vicp.hk\"]'\n",
    "q2 = '[inet:whois:rec=(lkqd.net,\"2018/05/30 09:24:19.000\") :created = \"2014/06/01 21:05:25.000\" :registrar = godaddy :text = \"domain name: lkqd.net\"]'\n",
    "# Run the query via the CLI, rips out the nodes, makes sure we got 3 nodes on the output :)\n",
    "podes = await core.eval(q, num=1, cmdr=True)\n",
    "podes = await core.eval(q2, num=1, cmdr=True)\n",
    "# print(f'I got {len(podes)} podes!')\n",
    "# This runs the query directly, no CLI output\n",
    "# newpodes = await core.eval(q, num=4, cmdr=False)\n",
    "# print(f'I got {len(newpodes)} podes the second time!!')\n",
    "# await core.fini()"
   ]
  },
  {
   "cell_type": "code",
   "execution_count": 28,
   "metadata": {
    "hideCode": true
   },
   "outputs": [
    {
     "name": "stdout",
     "output_type": "stream",
     "text": [
      "inet:whois:rec:created < 2014/06/01\n"
     ]
    }
   ],
   "source": [
    "# Define and print test query\n",
    "q = 'inet:whois:rec:created < 2014/06/01'\n",
    "print(q)\n",
    "# Execute the query and test\n",
    "podes = await core.eval(q, num=1, cmdr=False)"
   ]
  },
  {
   "cell_type": "raw",
   "metadata": {},
   "source": [
    "\n",
    "*Lift using greater than comparator:*\n",
    "\n",
    "- Lift files whose size is larger than 1MB:"
   ]
  },
  {
   "cell_type": "code",
   "execution_count": 29,
   "metadata": {
    "hideCode": true,
    "hideOutput": true
   },
   "outputs": [
    {
     "name": "stdout",
     "output_type": "stream",
     "text": [
      "cli> storm [file:bytes=sha256:14c2e63dced9ca20e368e056644a6b56f5678b2d3824945563e57255e85135a3 :size=1048592]\n",
      "\n",
      "file:bytes=sha256:14c2e63dced9ca20e368e056644a6b56f5678b2d3824945563e57255e85135a3\n",
      "        .created = 2019/01/03 23:56:19.484\n",
      "        :mime = ??\n",
      "        :sha256 = 14c2e63dced9ca20e368e056644a6b56f5678b2d3824945563e57255e85135a3\n",
      "        :size = 1048592\n",
      "complete. 1 nodes in 9 ms (111/sec).\n",
      "cli> storm [file:bytes=sha256:8146e9d7fe580ebc04331af87fba7cb344094c0a60482f420b566f2df2a22229 :size=1048592]\n",
      "\n",
      "file:bytes=sha256:8146e9d7fe580ebc04331af87fba7cb344094c0a60482f420b566f2df2a22229\n",
      "        .created = 2019/01/03 23:56:19.497\n",
      "        :mime = ??\n",
      "        :sha256 = 8146e9d7fe580ebc04331af87fba7cb344094c0a60482f420b566f2df2a22229\n",
      "        :size = 1048592\n",
      "complete. 1 nodes in 8 ms (125/sec).\n",
      "cli> storm [file:bytes=sha256:e3b0c44298fc1c149afbf4c8996fb92427ae41e4649b934ca495991b7852b855 :size=0]\n",
      "\n",
      "file:bytes=sha256:e3b0c44298fc1c149afbf4c8996fb92427ae41e4649b934ca495991b7852b855\n",
      "        .created = 2019/01/03 23:56:19.512\n",
      "        :mime = ??\n",
      "        :sha256 = e3b0c44298fc1c149afbf4c8996fb92427ae41e4649b934ca495991b7852b855\n",
      "        :size = 0\n",
      "complete. 1 nodes in 11 ms (90/sec).\n",
      "cli> storm [file:bytes=sha256:36a9e7f1c95b82ffb99743e0c5c4ce95d83c9a430aac59f84ef3cbfab6145068 :size=1]\n",
      "\n",
      "file:bytes=sha256:36a9e7f1c95b82ffb99743e0c5c4ce95d83c9a430aac59f84ef3cbfab6145068\n",
      "        .created = 2019/01/03 23:56:19.531\n",
      "        :mime = ??\n",
      "        :sha256 = 36a9e7f1c95b82ffb99743e0c5c4ce95d83c9a430aac59f84ef3cbfab6145068\n",
      "        :size = 1\n",
      "complete. 1 nodes in 10 ms (100/sec).\n"
     ]
    }
   ],
   "source": [
    "# Make some files:\n",
    "q = '[file:bytes=sha256:14c2e63dced9ca20e368e056644a6b56f5678b2d3824945563e57255e85135a3 :size=1048592]'\n",
    "q2 = '[file:bytes=sha256:8146e9d7fe580ebc04331af87fba7cb344094c0a60482f420b566f2df2a22229 :size=1048592]'\n",
    "q3 = '[file:bytes=sha256:e3b0c44298fc1c149afbf4c8996fb92427ae41e4649b934ca495991b7852b855 :size=0]'\n",
    "q4 = '[file:bytes=sha256:36a9e7f1c95b82ffb99743e0c5c4ce95d83c9a430aac59f84ef3cbfab6145068 :size=1]'\n",
    "# Execute query and test\n",
    "podes = await core.eval(q, num=1, cmdr=True)\n",
    "podes = await core.eval(q2, num=1, cmdr=True)\n",
    "podes = await core.eval(q3, num=1, cmdr=True)\n",
    "podes = await core.eval(q4, num=1, cmdr=True)"
   ]
  },
  {
   "cell_type": "code",
   "execution_count": 30,
   "metadata": {
    "hideCode": true
   },
   "outputs": [
    {
     "name": "stdout",
     "output_type": "stream",
     "text": [
      "file:bytes:size > 1048576\n"
     ]
    }
   ],
   "source": [
    "# Define and print test query\n",
    "q = 'file:bytes:size > 1048576'\n",
    "print(q)\n",
    "# Execute the query and test\n",
    "podes = await core.eval(q, num=2, cmdr=False)"
   ]
  },
  {
   "cell_type": "raw",
   "metadata": {},
   "source": [
    "\n",
    "*Lift using less than or equal to comparator:*\n",
    "\n",
    "- Lift people (person nodes) born on or before January 1, 1980:"
   ]
  },
  {
   "cell_type": "code",
   "execution_count": 31,
   "metadata": {
    "hideCode": true,
    "hideOutput": true
   },
   "outputs": [
    {
     "name": "stdout",
     "output_type": "stream",
     "text": [
      "cli> storm [ps:person=\"*\" :dob=1974/05/14]\n",
      "\n",
      "ps:person=851c14b0d5f31e061eed2cc02db215b8\n",
      "        .created = 2019/01/03 23:56:19.575\n",
      "        :dob = 1974/05/14 00:00:00.000\n",
      "complete. 1 nodes in 11 ms (90/sec).\n",
      "cli> storm [ps:person=\"*\" :dob=1982/04/27]\n",
      "\n",
      "ps:person=4328bf48afeb328458c8cfcef4d2b3c6\n",
      "        .created = 2019/01/03 23:56:19.589\n",
      "        :dob = 1982/04/27 00:00:00.000\n",
      "complete. 1 nodes in 5 ms (200/sec).\n"
     ]
    }
   ],
   "source": [
    "# Make some people:\n",
    "q = '[ps:person=\"*\" :dob=1974/05/14]'\n",
    "q2 = '[ps:person=\"*\" :dob=1982/04/27]'\n",
    "# Execute query and test\n",
    "podes = await core.eval(q, num=1, cmdr=True)\n",
    "podes = await core.eval(q2, num=1, cmdr=True)"
   ]
  },
  {
   "cell_type": "code",
   "execution_count": 32,
   "metadata": {
    "hideCode": true
   },
   "outputs": [
    {
     "name": "stdout",
     "output_type": "stream",
     "text": [
      "ps:person:dob <= 1980/01/01\n"
     ]
    }
   ],
   "source": [
    "# Define and print test query\n",
    "q = 'ps:person:dob <= 1980/01/01'\n",
    "print(q)\n",
    "# Execute the query and test\n",
    "podes = await core.eval(q, num=1, cmdr=False)"
   ]
  },
  {
   "cell_type": "raw",
   "metadata": {},
   "source": [
    "\n",
    "*Lift using greater than or equal to comparator:*\n",
    "\n",
    "- Lift WHOIS records retrieved on or after December 1, 2018 at 12:00:"
   ]
  },
  {
   "cell_type": "code",
   "execution_count": 33,
   "metadata": {
    "hideCode": true,
    "hideOutput": true
   },
   "outputs": [
    {
     "name": "stdout",
     "output_type": "stream",
     "text": [
      "cli> storm [inet:whois:rec=(showustime.com, 2018/12/02) inet:whois:rec=(videosync.info,2018/12/02) inet:whois:rec=(earthsolution.org,1999/11/29)]\n",
      "\n",
      "inet:whois:rec=('showustime.com', '2018/12/02 00:00:00.000')\n",
      "        .created = 2019/01/03 23:56:19.627\n",
      "        :asof = 2018/12/02 00:00:00.000\n",
      "        :fqdn = showustime.com\n",
      "        :registrant = ??\n",
      "        :registrar = ??\n",
      "inet:whois:rec=('videosync.info', '2018/12/02 00:00:00.000')\n",
      "        .created = 2019/01/03 23:56:19.630\n",
      "        :asof = 2018/12/02 00:00:00.000\n",
      "        :fqdn = videosync.info\n",
      "        :registrant = ??\n",
      "        :registrar = ??\n",
      "inet:whois:rec=('earthsolution.org', '1999/11/29 00:00:00.000')\n",
      "        .created = 2019/01/03 23:56:19.633\n",
      "        :asof = 1999/11/29 00:00:00.000\n",
      "        :fqdn = earthsolution.org\n",
      "        :registrant = ??\n",
      "        :registrar = ??\n",
      "complete. 3 nodes in 19 ms (157/sec).\n"
     ]
    }
   ],
   "source": [
    "# Make some WHOIS records:\n",
    "q = '[inet:whois:rec=(showustime.com, 2018/12/02) inet:whois:rec=(videosync.info,2018/12/02) inet:whois:rec=(earthsolution.org,1999/11/29)]'\n",
    "# Execute query and test\n",
    "podes = await core.eval(q, num=3, cmdr=True)"
   ]
  },
  {
   "cell_type": "code",
   "execution_count": 34,
   "metadata": {
    "hideCode": true
   },
   "outputs": [
    {
     "name": "stdout",
     "output_type": "stream",
     "text": [
      "inet:whois:rec:asof >= \"2018/12/01 12:00\"\n"
     ]
    }
   ],
   "source": [
    "# Define and print test query\n",
    "q = 'inet:whois:rec:asof >= \"2018/12/01 12:00\"'\n",
    "print(q)\n",
    "# Execute the query and test\n",
    "podes = await core.eval(q, num=2, cmdr=False)"
   ]
  },
  {
   "cell_type": "code",
   "execution_count": 35,
   "metadata": {
    "hideCode": true,
    "hideOutput": true
   },
   "outputs": [
    {
     "data": {
      "text/plain": [
       "0"
      ]
     },
     "execution_count": 35,
     "metadata": {},
     "output_type": "execute_result"
    }
   ],
   "source": [
    "# Close cortex for next section\n",
    "await core.fini()"
   ]
  },
  {
   "cell_type": "code",
   "execution_count": 36,
   "metadata": {
    "hideCode": true
   },
   "outputs": [],
   "source": [
    "import os, sys\n",
    "try:\n",
    "    from synapse.lib.jupyter import *\n",
    "except ImportError as e:\n",
    "    # Insert the root path of the repository to sys.path.\n",
    "    # This assumes the notebook is located three directories away\n",
    "    # From the root synapse directory. It may need to be varied\n",
    "    synroot = os.path.abspath('../../../')\n",
    "    sys.path.insert(0, synroot)\n",
    "    from synapse.lib.jupyter import *"
   ]
  },
  {
   "cell_type": "raw",
   "metadata": {},
   "source": [
    "Lifts Using Extended Comparison Operators\n",
    "-----------------------------------------\n",
    "\n",
    "Storm supports a set of extended comparison operators (comparators) for specialized lift operations. In most cases, the same extended comparators are available for both lifting and filtering:\n",
    "\n",
    "- `Lift by Regular Expression (~=)`_\n",
    "- `Lift by Prefix (^=)`_\n",
    "- `Lift by Range (*range=)`_\n",
    "- `Lift by Set Membership (*in=)`_\n",
    "- `Lift by Proximity (*near=)`_\n",
    "- `Lift by Tag (#)`_\n",
    "- `Recursive Tag Lift (##)`_\n",
    "\n",
    "\n",
    "Lift by Regular Expression (~=)\n",
    "+++++++++++++++++++++++++++++++\n",
    "\n",
    "The extended comparator ``~=`` is used to lift nodes based on standard regular expressions.\n",
    "\n",
    ".. WARNING::\n",
    "  While lifting using regular expressions is possible, matching is performed via brute force comparison of the relevant properties. Lifting by regex may thus be time consuming when lifting over large data sets. `Lift by Prefix (^=)`_ is supported for string types and should be considered as a more efficient alternative when possible.\n",
    "\n",
    "**Syntax:**\n",
    "\n",
    "*<prop>* **~=** *<regex>*\n",
    "\n",
    "**Example:**\n",
    "\n",
    "- Lift files with PDB paths containing the string ``rouji``:"
   ]
  },
  {
   "cell_type": "code",
   "execution_count": 37,
   "metadata": {
    "hideCode": true,
    "hideOutput": true
   },
   "outputs": [
    {
     "name": "stdout",
     "output_type": "stream",
     "text": [
      "cli> storm [file:bytes=sha256:cebb47280cd00814e1c085c5bc3fbac0e9f91168999091f199a1b1d209edd814 :mime:pe:pdbpath=\"d:/my documents/visual studio projects/rouji/svcmain.pdb\"]\n",
      "\n",
      "file:bytes=sha256:cebb47280cd00814e1c085c5bc3fbac0e9f91168999091f199a1b1d209edd814\n",
      "        .created = 2019/01/03 23:56:19.915\n",
      "        :mime = ??\n",
      "        :mime:pe:pdbpath = d:/my documents/visual studio projects/rouji/svcmain.pdb\n",
      "        :sha256 = cebb47280cd00814e1c085c5bc3fbac0e9f91168999091f199a1b1d209edd814\n",
      "complete. 1 nodes in 11 ms (90/sec).\n",
      "cli> storm [file:bytes=sha256:56d9ed457136c85fba55cdd5ee3b7c21cb25ce0b1d7053d397cf4756fa7a422f :mime:pe:pdbpath=\"c:/users/milad/desktop/end crypter vb.net/tekide/obj/debug/tekide.pdb\"]\n",
      "\n",
      "file:bytes=sha256:56d9ed457136c85fba55cdd5ee3b7c21cb25ce0b1d7053d397cf4756fa7a422f\n",
      "        .created = 2019/01/03 23:56:19.931\n",
      "        :mime = ??\n",
      "        :mime:pe:pdbpath = c:/users/milad/desktop/end crypter vb.net/tekide/obj/debug/tekide.pdb\n",
      "        :sha256 = 56d9ed457136c85fba55cdd5ee3b7c21cb25ce0b1d7053d397cf4756fa7a422f\n",
      "complete. 1 nodes in 14 ms (71/sec).\n"
     ]
    }
   ],
   "source": [
    "# Get a newtemp cortex to start fresh.\n",
    "core = await getTempCoreCmdr()\n",
    "# Make some files:\n",
    "q = '[file:bytes=sha256:cebb47280cd00814e1c085c5bc3fbac0e9f91168999091f199a1b1d209edd814 :mime:pe:pdbpath=\"d:/my documents/visual studio projects/rouji/svcmain.pdb\"]'\n",
    "q2 = '[file:bytes=sha256:56d9ed457136c85fba55cdd5ee3b7c21cb25ce0b1d7053d397cf4756fa7a422f :mime:pe:pdbpath=\"c:/users/milad/desktop/end crypter vb.net/tekide/obj/debug/tekide.pdb\"]'\n",
    "# Execute query and test\n",
    "podes = await core.eval(q, num=1, cmdr=True)\n",
    "podes = await core.eval(q2, num=1, cmdr=True)"
   ]
  },
  {
   "cell_type": "code",
   "execution_count": 38,
   "metadata": {
    "hideCode": true
   },
   "outputs": [
    {
     "name": "stdout",
     "output_type": "stream",
     "text": [
      "file:bytes:mime:pe:pdbpath ~= \"rouji\"\n"
     ]
    }
   ],
   "source": [
    "# Define and print test query\n",
    "q = 'file:bytes:mime:pe:pdbpath ~= \"rouji\"'\n",
    "print(q)\n",
    "# Execute the query and test\n",
    "podes = await core.eval(q, num=1, cmdr=False)"
   ]
  },
  {
   "cell_type": "raw",
   "metadata": {},
   "source": [
    "Lift by Prefix (^=)\n",
    "+++++++++++++++++++\n",
    "\n",
    "Synapse performs prefix indexing on string types, which optimizes lifting nodes whose *<valu>* or *<pval>* starts with a given prefix. This improves performance by avoiding regex brute-forcing.  The extended comparator ``^=`` is used to lift nodes by prefix.\n",
    "\n",
    "**Syntax:**\n",
    "\n",
    "*<form>* [  **:** *<prop>* ] **^=** *<prefix>*\n",
    "\n",
    "**Examples:**\n",
    "\n",
    "*Lift primary property by prefix:*\n",
    "\n",
    "- Lift all usernames that start with \"pinky\":\n"
   ]
  },
  {
   "cell_type": "code",
   "execution_count": 39,
   "metadata": {
    "hideCode": true,
    "hideOutput": true
   },
   "outputs": [
    {
     "name": "stdout",
     "output_type": "stream",
     "text": [
      "cli> storm [inet:user=pinky inet:user=pinkyboo inet:user=pinkybrain inet:user=pinkydinky]\n",
      "\n",
      "inet:user=pinky\n",
      "        .created = 2019/01/03 23:56:19.981\n",
      "inet:user=pinkyboo\n",
      "        .created = 2019/01/03 23:56:19.982\n",
      "inet:user=pinkybrain\n",
      "        .created = 2019/01/03 23:56:19.982\n",
      "inet:user=pinkydinky\n",
      "        .created = 2019/01/03 23:56:19.983\n",
      "complete. 4 nodes in 12 ms (333/sec).\n"
     ]
    }
   ],
   "source": [
    "# Make some users:\n",
    "q = '[inet:user=pinky inet:user=pinkyboo inet:user=pinkybrain inet:user=pinkydinky]'\n",
    "# Execute query and test\n",
    "podes = await core.eval(q, num=4, cmdr=True)"
   ]
  },
  {
   "cell_type": "code",
   "execution_count": 40,
   "metadata": {
    "hideCode": true
   },
   "outputs": [
    {
     "name": "stdout",
     "output_type": "stream",
     "text": [
      "inet:user^=pinky\n"
     ]
    }
   ],
   "source": [
    "# Define and print test query\n",
    "q = 'inet:user^=pinky'\n",
    "print(q)\n",
    "# Execute the query and test\n",
    "podes = await core.eval(q, num=4, cmdr=False)"
   ]
  },
  {
   "cell_type": "raw",
   "metadata": {},
   "source": [
    "*Lift secondary property by prefix:*\n",
    "\n",
    "- Lift all organizations whose name starts with \"International\":\n"
   ]
  },
  {
   "cell_type": "code",
   "execution_count": 41,
   "metadata": {
    "hideCode": true,
    "hideOutput": true
   },
   "outputs": [
    {
     "name": "stdout",
     "output_type": "stream",
     "text": [
      "cli> storm [ou:org=\"*\" :name=\"International House of Pancakes\"]\n",
      "\n",
      "ou:org=21e6af92b48fbe66bc607f6949af8d99\n",
      "        .created = 2019/01/03 23:56:20.034\n",
      "        :name = international house of pancakes\n",
      "complete. 1 nodes in 12 ms (83/sec).\n",
      "cli> storm [ou:org=\"*\" :name=\"International Society of Funny Walks\"]\n",
      "\n",
      "ou:org=b44dd96fb08db26ae502723ab930df99\n",
      "        .created = 2019/01/03 23:56:20.054\n",
      "        :name = international society of funny walks\n",
      "complete. 1 nodes in 7 ms (142/sec).\n",
      "cli> storm [ou:org=\"*\" :name=\"Interrogators Anonymous\"]\n",
      "\n",
      "ou:org=380007545a3a41f4f42b9f67de0ea18a\n",
      "        .created = 2019/01/03 23:56:20.072\n",
      "        :name = interrogators anonymous\n",
      "complete. 1 nodes in 8 ms (125/sec).\n"
     ]
    }
   ],
   "source": [
    "# Make some orgs:\n",
    "q = '[ou:org=\"*\" :name=\"International House of Pancakes\"]'\n",
    "q1 = '[ou:org=\"*\" :name=\"International Society of Funny Walks\"]'\n",
    "q2 = '[ou:org=\"*\" :name=\"Interrogators Anonymous\"]'\n",
    "# Execute query and test\n",
    "podes = await core.eval(q, num=1, cmdr=True)\n",
    "podes = await core.eval(q1, num=1, cmdr=True)\n",
    "podes = await core.eval(q2, num=1, cmdr=True)"
   ]
  },
  {
   "cell_type": "code",
   "execution_count": 42,
   "metadata": {
    "hideCode": true
   },
   "outputs": [
    {
     "name": "stdout",
     "output_type": "stream",
     "text": [
      "ou:org:name^=international\n"
     ]
    }
   ],
   "source": [
    "# Define and print test query\n",
    "q = 'ou:org:name^=international'\n",
    "print(q)\n",
    "# Execute the query and test\n",
    "podes = await core.eval(q, num=2, cmdr=False)"
   ]
  },
  {
   "cell_type": "raw",
   "metadata": {},
   "source": [
    "**Usage Notes:**\n",
    "\n",
    "- Extended string types that support dotted notation (such as the ``loc`` or ``syn:tag`` types) have custom behaviors with respect to lifting and filtering by prefix. See the respective sections in :ref:`storm-ref-type-specific` for additional details.\n",
    "\n",
    "Lift by Range (*range=)\n",
    "+++++++++++++++++++++++\n",
    "\n",
    "The range extended comparator (``*range=``) supports lifting nodes whose *<form>* = *<valu>* or *<prop>* = *<pval>* fall within a specified range of values. The comparator can be used with types such as integers and times (including types that are extensions of those types, such as IP addresses).\n",
    "\n",
    "**Syntax:**\n",
    "\n",
    "*<form>* [ **:** *<prop>* ] ***range = (** *<range_min>* **,** *<range_max>* **)**\n",
    "\n",
    "**Examples:**\n",
    "\n",
    "*Lift by primary property in range:*\n",
    "\n",
    "- Lift all IP addresses between 192.168.0.0 and 192.168.0.10:\n"
   ]
  },
  {
   "cell_type": "code",
   "execution_count": 43,
   "metadata": {
    "hideCode": true,
    "hideOutput": true
   },
   "outputs": [
    {
     "name": "stdout",
     "output_type": "stream",
     "text": [
      "cli> storm [inet:ipv4=192.168.0.0/24]\n",
      "\n",
      "inet:ipv4=192.168.0.0\n",
      "        .created = 2019/01/03 23:56:20.108\n",
      "        :asn = 0\n",
      "        :loc = ??\n",
      "        :type = private\n",
      "inet:ipv4=192.168.0.1\n",
      "        .created = 2019/01/03 23:56:20.109\n",
      "        :asn = 0\n",
      "        :loc = ??\n",
      "        :type = private\n",
      "inet:ipv4=192.168.0.2\n",
      "        .created = 2019/01/03 23:56:20.110\n",
      "        :asn = 0\n",
      "        :loc = ??\n",
      "        :type = private\n",
      "inet:ipv4=192.168.0.3\n",
      "        .created = 2019/01/03 23:56:20.111\n",
      "        :asn = 0\n",
      "        :loc = ??\n",
      "        :type = private\n",
      "inet:ipv4=192.168.0.4\n",
      "        .created = 2019/01/03 23:56:20.114\n",
      "        :asn = 0\n",
      "        :loc = ??\n",
      "        :type = private\n",
      "inet:ipv4=192.168.0.5\n",
      "        .created = 2019/01/03 23:56:20.115\n",
      "        :asn = 0\n",
      "        :loc = ??\n",
      "        :type = private\n",
      "inet:ipv4=192.168.0.6\n",
      "        .created = 2019/01/03 23:56:20.118\n",
      "        :asn = 0\n",
      "        :loc = ??\n",
      "        :type = private\n",
      "inet:ipv4=192.168.0.7\n",
      "        .created = 2019/01/03 23:56:20.119\n",
      "        :asn = 0\n",
      "        :loc = ??\n",
      "        :type = private\n",
      "inet:ipv4=192.168.0.8\n",
      "        .created = 2019/01/03 23:56:20.120\n",
      "        :asn = 0\n",
      "        :loc = ??\n",
      "        :type = private\n",
      "inet:ipv4=192.168.0.9\n",
      "        .created = 2019/01/03 23:56:20.121\n",
      "        :asn = 0\n",
      "        :loc = ??\n",
      "        :type = private\n",
      "inet:ipv4=192.168.0.10\n",
      "        .created = 2019/01/03 23:56:20.122\n",
      "        :asn = 0\n",
      "        :loc = ??\n",
      "        :type = private\n",
      "inet:ipv4=192.168.0.11\n",
      "        .created = 2019/01/03 23:56:20.123\n",
      "        :asn = 0\n",
      "        :loc = ??\n",
      "        :type = private\n",
      "inet:ipv4=192.168.0.12\n",
      "        .created = 2019/01/03 23:56:20.124\n",
      "        :asn = 0\n",
      "        :loc = ??\n",
      "        :type = private\n",
      "inet:ipv4=192.168.0.13\n",
      "        .created = 2019/01/03 23:56:20.125\n",
      "        :asn = 0\n",
      "        :loc = ??\n",
      "        :type = private\n",
      "inet:ipv4=192.168.0.14\n",
      "        .created = 2019/01/03 23:56:20.127\n",
      "        :asn = 0\n",
      "        :loc = ??\n",
      "        :type = private\n",
      "inet:ipv4=192.168.0.15\n",
      "        .created = 2019/01/03 23:56:20.128\n",
      "        :asn = 0\n",
      "        :loc = ??\n",
      "        :type = private\n",
      "inet:ipv4=192.168.0.16\n",
      "        .created = 2019/01/03 23:56:20.130\n",
      "        :asn = 0\n",
      "        :loc = ??\n",
      "        :type = private\n",
      "inet:ipv4=192.168.0.17\n",
      "        .created = 2019/01/03 23:56:20.131\n",
      "        :asn = 0\n",
      "        :loc = ??\n",
      "        :type = private\n",
      "inet:ipv4=192.168.0.18\n",
      "        .created = 2019/01/03 23:56:20.135\n",
      "        :asn = 0\n",
      "        :loc = ??\n",
      "        :type = private\n",
      "inet:ipv4=192.168.0.19\n",
      "        .created = 2019/01/03 23:56:20.136\n",
      "        :asn = 0\n",
      "        :loc = ??\n",
      "        :type = private\n",
      "inet:ipv4=192.168.0.20\n",
      "        .created = 2019/01/03 23:56:20.138\n",
      "        :asn = 0\n",
      "        :loc = ??\n",
      "        :type = private\n",
      "inet:ipv4=192.168.0.21\n",
      "        .created = 2019/01/03 23:56:20.139\n",
      "        :asn = 0\n",
      "        :loc = ??\n",
      "        :type = private\n",
      "inet:ipv4=192.168.0.22\n",
      "        .created = 2019/01/03 23:56:20.140\n",
      "        :asn = 0\n",
      "        :loc = ??\n",
      "        :type = private\n",
      "inet:ipv4=192.168.0.23\n",
      "        .created = 2019/01/03 23:56:20.141\n",
      "        :asn = 0\n",
      "        :loc = ??\n",
      "        :type = private\n",
      "inet:ipv4=192.168.0.24\n",
      "        .created = 2019/01/03 23:56:20.143\n",
      "        :asn = 0\n",
      "        :loc = ??\n",
      "        :type = private\n",
      "inet:ipv4=192.168.0.25\n",
      "        .created = 2019/01/03 23:56:20.146\n",
      "        :asn = 0\n",
      "        :loc = ??\n",
      "        :type = private\n",
      "inet:ipv4=192.168.0.26\n",
      "        .created = 2019/01/03 23:56:20.148\n",
      "        :asn = 0\n",
      "        :loc = ??\n",
      "        :type = private\n",
      "inet:ipv4=192.168.0.27\n",
      "        .created = 2019/01/03 23:56:20.149\n",
      "        :asn = 0\n",
      "        :loc = ??\n",
      "        :type = private\n",
      "inet:ipv4=192.168.0.28\n",
      "        .created = 2019/01/03 23:56:20.151\n",
      "        :asn = 0\n",
      "        :loc = ??\n",
      "        :type = private\n",
      "inet:ipv4=192.168.0.29\n",
      "        .created = 2019/01/03 23:56:20.152\n",
      "        :asn = 0\n",
      "        :loc = ??\n",
      "        :type = private\n",
      "inet:ipv4=192.168.0.30\n",
      "        .created = 2019/01/03 23:56:20.154\n",
      "        :asn = 0\n",
      "        :loc = ??\n",
      "        :type = private\n",
      "inet:ipv4=192.168.0.31\n",
      "        .created = 2019/01/03 23:56:20.156\n",
      "        :asn = 0\n",
      "        :loc = ??\n",
      "        :type = private\n",
      "inet:ipv4=192.168.0.32\n",
      "        .created = 2019/01/03 23:56:20.157\n",
      "        :asn = 0\n",
      "        :loc = ??\n",
      "        :type = private\n",
      "inet:ipv4=192.168.0.33\n",
      "        .created = 2019/01/03 23:56:20.159\n",
      "        :asn = 0\n",
      "        :loc = ??\n",
      "        :type = private\n",
      "inet:ipv4=192.168.0.34\n",
      "        .created = 2019/01/03 23:56:20.160\n",
      "        :asn = 0\n",
      "        :loc = ??\n",
      "        :type = private\n",
      "inet:ipv4=192.168.0.35\n",
      "        .created = 2019/01/03 23:56:20.161\n",
      "        :asn = 0\n",
      "        :loc = ??\n",
      "        :type = private\n",
      "inet:ipv4=192.168.0.36\n",
      "        .created = 2019/01/03 23:56:20.163\n",
      "        :asn = 0\n",
      "        :loc = ??\n",
      "        :type = private\n",
      "inet:ipv4=192.168.0.37\n",
      "        .created = 2019/01/03 23:56:20.163\n",
      "        :asn = 0\n",
      "        :loc = ??\n",
      "        :type = private\n",
      "inet:ipv4=192.168.0.38\n",
      "        .created = 2019/01/03 23:56:20.165\n",
      "        :asn = 0\n",
      "        :loc = ??\n",
      "        :type = private\n",
      "inet:ipv4=192.168.0.39\n",
      "        .created = 2019/01/03 23:56:20.165\n",
      "        :asn = 0\n",
      "        :loc = ??\n",
      "        :type = private\n",
      "inet:ipv4=192.168.0.40\n",
      "        .created = 2019/01/03 23:56:20.166\n",
      "        :asn = 0\n",
      "        :loc = ??\n",
      "        :type = private\n",
      "inet:ipv4=192.168.0.41\n",
      "        .created = 2019/01/03 23:56:20.167\n",
      "        :asn = 0\n",
      "        :loc = ??\n",
      "        :type = private\n",
      "inet:ipv4=192.168.0.42\n",
      "        .created = 2019/01/03 23:56:20.168\n",
      "        :asn = 0\n",
      "        :loc = ??\n",
      "        :type = private\n",
      "inet:ipv4=192.168.0.43\n",
      "        .created = 2019/01/03 23:56:20.169\n",
      "        :asn = 0\n",
      "        :loc = ??\n",
      "        :type = private\n",
      "inet:ipv4=192.168.0.44\n",
      "        .created = 2019/01/03 23:56:20.170\n",
      "        :asn = 0\n",
      "        :loc = ??\n",
      "        :type = private\n",
      "inet:ipv4=192.168.0.45\n",
      "        .created = 2019/01/03 23:56:20.170\n",
      "        :asn = 0\n",
      "        :loc = ??\n",
      "        :type = private\n",
      "inet:ipv4=192.168.0.46\n",
      "        .created = 2019/01/03 23:56:20.171\n",
      "        :asn = 0\n",
      "        :loc = ??\n",
      "        :type = private\n",
      "inet:ipv4=192.168.0.47\n",
      "        .created = 2019/01/03 23:56:20.172\n",
      "        :asn = 0\n",
      "        :loc = ??\n",
      "        :type = private\n",
      "inet:ipv4=192.168.0.48\n",
      "        .created = 2019/01/03 23:56:20.174\n",
      "        :asn = 0\n",
      "        :loc = ??\n",
      "        :type = private\n",
      "inet:ipv4=192.168.0.49\n",
      "        .created = 2019/01/03 23:56:20.175\n",
      "        :asn = 0\n",
      "        :loc = ??\n",
      "        :type = private\n",
      "inet:ipv4=192.168.0.50\n",
      "        .created = 2019/01/03 23:56:20.176\n",
      "        :asn = 0\n",
      "        :loc = ??\n",
      "        :type = private\n",
      "inet:ipv4=192.168.0.51\n",
      "        .created = 2019/01/03 23:56:20.177\n",
      "        :asn = 0\n",
      "        :loc = ??\n",
      "        :type = private\n",
      "inet:ipv4=192.168.0.52\n",
      "        .created = 2019/01/03 23:56:20.178\n",
      "        :asn = 0\n",
      "        :loc = ??\n",
      "        :type = private\n",
      "inet:ipv4=192.168.0.53\n",
      "        .created = 2019/01/03 23:56:20.179\n",
      "        :asn = 0\n",
      "        :loc = ??\n",
      "        :type = private\n",
      "inet:ipv4=192.168.0.54\n",
      "        .created = 2019/01/03 23:56:20.180\n",
      "        :asn = 0\n",
      "        :loc = ??\n",
      "        :type = private\n",
      "inet:ipv4=192.168.0.55\n",
      "        .created = 2019/01/03 23:56:20.181\n",
      "        :asn = 0\n",
      "        :loc = ??\n",
      "        :type = private\n",
      "inet:ipv4=192.168.0.56\n",
      "        .created = 2019/01/03 23:56:20.183\n",
      "        :asn = 0\n",
      "        :loc = ??\n",
      "        :type = private\n",
      "inet:ipv4=192.168.0.57\n",
      "        .created = 2019/01/03 23:56:20.184\n",
      "        :asn = 0\n",
      "        :loc = ??\n",
      "        :type = private\n",
      "inet:ipv4=192.168.0.58\n",
      "        .created = 2019/01/03 23:56:20.186\n",
      "        :asn = 0\n",
      "        :loc = ??\n",
      "        :type = private\n",
      "inet:ipv4=192.168.0.59\n",
      "        .created = 2019/01/03 23:56:20.186\n",
      "        :asn = 0\n",
      "        :loc = ??\n",
      "        :type = private\n",
      "inet:ipv4=192.168.0.60\n",
      "        .created = 2019/01/03 23:56:20.188\n",
      "        :asn = 0\n",
      "        :loc = ??\n",
      "        :type = private\n",
      "inet:ipv4=192.168.0.61\n",
      "        .created = 2019/01/03 23:56:20.189\n",
      "        :asn = 0\n",
      "        :loc = ??\n",
      "        :type = private\n",
      "inet:ipv4=192.168.0.62\n",
      "        .created = 2019/01/03 23:56:20.191\n",
      "        :asn = 0\n",
      "        :loc = ??\n",
      "        :type = private\n",
      "inet:ipv4=192.168.0.63\n",
      "        .created = 2019/01/03 23:56:20.191\n",
      "        :asn = 0\n",
      "        :loc = ??\n",
      "        :type = private\n",
      "inet:ipv4=192.168.0.64\n",
      "        .created = 2019/01/03 23:56:20.193\n",
      "        :asn = 0\n",
      "        :loc = ??\n",
      "        :type = private\n",
      "inet:ipv4=192.168.0.65\n",
      "        .created = 2019/01/03 23:56:20.194\n",
      "        :asn = 0\n",
      "        :loc = ??\n",
      "        :type = private\n",
      "inet:ipv4=192.168.0.66\n",
      "        .created = 2019/01/03 23:56:20.195\n",
      "        :asn = 0\n",
      "        :loc = ??\n",
      "        :type = private\n",
      "inet:ipv4=192.168.0.67\n",
      "        .created = 2019/01/03 23:56:20.196\n",
      "        :asn = 0\n",
      "        :loc = ??\n",
      "        :type = private\n",
      "inet:ipv4=192.168.0.68\n",
      "        .created = 2019/01/03 23:56:20.198\n",
      "        :asn = 0\n",
      "        :loc = ??\n",
      "        :type = private\n",
      "inet:ipv4=192.168.0.69\n",
      "        .created = 2019/01/03 23:56:20.199\n",
      "        :asn = 0\n",
      "        :loc = ??\n",
      "        :type = private\n",
      "inet:ipv4=192.168.0.70\n",
      "        .created = 2019/01/03 23:56:20.200\n",
      "        :asn = 0\n",
      "        :loc = ??\n",
      "        :type = private\n",
      "inet:ipv4=192.168.0.71\n",
      "        .created = 2019/01/03 23:56:20.201\n",
      "        :asn = 0\n",
      "        :loc = ??\n",
      "        :type = private\n"
     ]
    },
    {
     "name": "stdout",
     "output_type": "stream",
     "text": [
      "inet:ipv4=192.168.0.72\n",
      "        .created = 2019/01/03 23:56:20.204\n",
      "        :asn = 0\n",
      "        :loc = ??\n",
      "        :type = private\n",
      "inet:ipv4=192.168.0.73\n",
      "        .created = 2019/01/03 23:56:20.205\n",
      "        :asn = 0\n",
      "        :loc = ??\n",
      "        :type = private\n",
      "inet:ipv4=192.168.0.74\n",
      "        .created = 2019/01/03 23:56:20.208\n",
      "        :asn = 0\n",
      "        :loc = ??\n",
      "        :type = private\n",
      "inet:ipv4=192.168.0.75\n",
      "        .created = 2019/01/03 23:56:20.209\n",
      "        :asn = 0\n",
      "        :loc = ??\n",
      "        :type = private\n",
      "inet:ipv4=192.168.0.76\n",
      "        .created = 2019/01/03 23:56:20.211\n",
      "        :asn = 0\n",
      "        :loc = ??\n",
      "        :type = private\n",
      "inet:ipv4=192.168.0.77\n",
      "        .created = 2019/01/03 23:56:20.211\n",
      "        :asn = 0\n",
      "        :loc = ??\n",
      "        :type = private\n",
      "inet:ipv4=192.168.0.78\n",
      "        .created = 2019/01/03 23:56:20.213\n",
      "        :asn = 0\n",
      "        :loc = ??\n",
      "        :type = private\n",
      "inet:ipv4=192.168.0.79\n",
      "        .created = 2019/01/03 23:56:20.214\n",
      "        :asn = 0\n",
      "        :loc = ??\n",
      "        :type = private\n",
      "inet:ipv4=192.168.0.80\n",
      "        .created = 2019/01/03 23:56:20.216\n",
      "        :asn = 0\n",
      "        :loc = ??\n",
      "        :type = private\n",
      "inet:ipv4=192.168.0.81\n",
      "        .created = 2019/01/03 23:56:20.217\n",
      "        :asn = 0\n",
      "        :loc = ??\n",
      "        :type = private\n",
      "inet:ipv4=192.168.0.82\n",
      "        .created = 2019/01/03 23:56:20.218\n",
      "        :asn = 0\n",
      "        :loc = ??\n",
      "        :type = private\n",
      "inet:ipv4=192.168.0.83\n",
      "        .created = 2019/01/03 23:56:20.219\n",
      "        :asn = 0\n",
      "        :loc = ??\n",
      "        :type = private\n",
      "inet:ipv4=192.168.0.84\n",
      "        .created = 2019/01/03 23:56:20.221\n",
      "        :asn = 0\n",
      "        :loc = ??\n",
      "        :type = private\n",
      "inet:ipv4=192.168.0.85\n",
      "        .created = 2019/01/03 23:56:20.222\n",
      "        :asn = 0\n",
      "        :loc = ??\n",
      "        :type = private\n",
      "inet:ipv4=192.168.0.86\n",
      "        .created = 2019/01/03 23:56:20.223\n",
      "        :asn = 0\n",
      "        :loc = ??\n",
      "        :type = private\n",
      "inet:ipv4=192.168.0.87\n",
      "        .created = 2019/01/03 23:56:20.225\n",
      "        :asn = 0\n",
      "        :loc = ??\n",
      "        :type = private\n",
      "inet:ipv4=192.168.0.88\n",
      "        .created = 2019/01/03 23:56:20.227\n",
      "        :asn = 0\n",
      "        :loc = ??\n",
      "        :type = private\n",
      "inet:ipv4=192.168.0.89\n",
      "        .created = 2019/01/03 23:56:20.230\n",
      "        :asn = 0\n",
      "        :loc = ??\n",
      "        :type = private\n",
      "inet:ipv4=192.168.0.90\n",
      "        .created = 2019/01/03 23:56:20.231\n",
      "        :asn = 0\n",
      "        :loc = ??\n",
      "        :type = private\n",
      "inet:ipv4=192.168.0.91\n",
      "        .created = 2019/01/03 23:56:20.232\n",
      "        :asn = 0\n",
      "        :loc = ??\n",
      "        :type = private\n",
      "inet:ipv4=192.168.0.92\n",
      "        .created = 2019/01/03 23:56:20.233\n",
      "        :asn = 0\n",
      "        :loc = ??\n",
      "        :type = private\n",
      "inet:ipv4=192.168.0.93\n",
      "        .created = 2019/01/03 23:56:20.233\n",
      "        :asn = 0\n",
      "        :loc = ??\n",
      "        :type = private\n",
      "inet:ipv4=192.168.0.94\n",
      "        .created = 2019/01/03 23:56:20.234\n",
      "        :asn = 0\n",
      "        :loc = ??\n",
      "        :type = private\n",
      "inet:ipv4=192.168.0.95\n",
      "        .created = 2019/01/03 23:56:20.235\n",
      "        :asn = 0\n",
      "        :loc = ??\n",
      "        :type = private\n",
      "inet:ipv4=192.168.0.96\n",
      "        .created = 2019/01/03 23:56:20.236\n",
      "        :asn = 0\n",
      "        :loc = ??\n",
      "        :type = private\n",
      "inet:ipv4=192.168.0.97\n",
      "        .created = 2019/01/03 23:56:20.237\n",
      "        :asn = 0\n",
      "        :loc = ??\n",
      "        :type = private\n",
      "inet:ipv4=192.168.0.98\n",
      "        .created = 2019/01/03 23:56:20.238\n",
      "        :asn = 0\n",
      "        :loc = ??\n",
      "        :type = private\n",
      "inet:ipv4=192.168.0.99\n",
      "        .created = 2019/01/03 23:56:20.239\n",
      "        :asn = 0\n",
      "        :loc = ??\n",
      "        :type = private\n",
      "inet:ipv4=192.168.0.100\n",
      "        .created = 2019/01/03 23:56:20.240\n",
      "        :asn = 0\n",
      "        :loc = ??\n",
      "        :type = private\n",
      "inet:ipv4=192.168.0.101\n",
      "        .created = 2019/01/03 23:56:20.241\n",
      "        :asn = 0\n",
      "        :loc = ??\n",
      "        :type = private\n",
      "inet:ipv4=192.168.0.102\n",
      "        .created = 2019/01/03 23:56:20.244\n",
      "        :asn = 0\n",
      "        :loc = ??\n",
      "        :type = private\n",
      "inet:ipv4=192.168.0.103\n",
      "        .created = 2019/01/03 23:56:20.245\n",
      "        :asn = 0\n",
      "        :loc = ??\n",
      "        :type = private\n",
      "inet:ipv4=192.168.0.104\n",
      "        .created = 2019/01/03 23:56:20.248\n",
      "        :asn = 0\n",
      "        :loc = ??\n",
      "        :type = private\n",
      "inet:ipv4=192.168.0.105\n",
      "        .created = 2019/01/03 23:56:20.249\n",
      "        :asn = 0\n",
      "        :loc = ??\n",
      "        :type = private\n",
      "inet:ipv4=192.168.0.106\n",
      "        .created = 2019/01/03 23:56:20.251\n",
      "        :asn = 0\n",
      "        :loc = ??\n",
      "        :type = private\n",
      "inet:ipv4=192.168.0.107\n",
      "        .created = 2019/01/03 23:56:20.252\n",
      "        :asn = 0\n",
      "        :loc = ??\n",
      "        :type = private\n",
      "inet:ipv4=192.168.0.108\n",
      "        .created = 2019/01/03 23:56:20.254\n",
      "        :asn = 0\n",
      "        :loc = ??\n",
      "        :type = private\n",
      "inet:ipv4=192.168.0.109\n",
      "        .created = 2019/01/03 23:56:20.255\n",
      "        :asn = 0\n",
      "        :loc = ??\n",
      "        :type = private\n",
      "inet:ipv4=192.168.0.110\n",
      "        .created = 2019/01/03 23:56:20.257\n",
      "        :asn = 0\n",
      "        :loc = ??\n",
      "        :type = private\n",
      "inet:ipv4=192.168.0.111\n",
      "        .created = 2019/01/03 23:56:20.258\n",
      "        :asn = 0\n",
      "        :loc = ??\n",
      "        :type = private\n",
      "inet:ipv4=192.168.0.112\n",
      "        .created = 2019/01/03 23:56:20.259\n",
      "        :asn = 0\n",
      "        :loc = ??\n",
      "        :type = private\n",
      "inet:ipv4=192.168.0.113\n",
      "        .created = 2019/01/03 23:56:20.260\n",
      "        :asn = 0\n",
      "        :loc = ??\n",
      "        :type = private\n",
      "inet:ipv4=192.168.0.114\n",
      "        .created = 2019/01/03 23:56:20.261\n",
      "        :asn = 0\n",
      "        :loc = ??\n",
      "        :type = private\n",
      "inet:ipv4=192.168.0.115\n",
      "        .created = 2019/01/03 23:56:20.261\n",
      "        :asn = 0\n",
      "        :loc = ??\n",
      "        :type = private\n",
      "inet:ipv4=192.168.0.116\n",
      "        .created = 2019/01/03 23:56:20.263\n",
      "        :asn = 0\n",
      "        :loc = ??\n",
      "        :type = private\n",
      "inet:ipv4=192.168.0.117\n",
      "        .created = 2019/01/03 23:56:20.263\n",
      "        :asn = 0\n",
      "        :loc = ??\n",
      "        :type = private\n",
      "inet:ipv4=192.168.0.118\n",
      "        .created = 2019/01/03 23:56:20.265\n",
      "        :asn = 0\n",
      "        :loc = ??\n",
      "        :type = private\n",
      "inet:ipv4=192.168.0.119\n",
      "        .created = 2019/01/03 23:56:20.265\n",
      "        :asn = 0\n",
      "        :loc = ??\n",
      "        :type = private\n",
      "inet:ipv4=192.168.0.120\n",
      "        .created = 2019/01/03 23:56:20.267\n",
      "        :asn = 0\n",
      "        :loc = ??\n",
      "        :type = private\n",
      "inet:ipv4=192.168.0.121\n",
      "        .created = 2019/01/03 23:56:20.267\n",
      "        :asn = 0\n",
      "        :loc = ??\n",
      "        :type = private\n",
      "inet:ipv4=192.168.0.122\n",
      "        .created = 2019/01/03 23:56:20.268\n",
      "        :asn = 0\n",
      "        :loc = ??\n",
      "        :type = private\n",
      "inet:ipv4=192.168.0.123\n",
      "        .created = 2019/01/03 23:56:20.269\n",
      "        :asn = 0\n",
      "        :loc = ??\n",
      "        :type = private\n",
      "inet:ipv4=192.168.0.124\n",
      "        .created = 2019/01/03 23:56:20.271\n",
      "        :asn = 0\n",
      "        :loc = ??\n",
      "        :type = private\n",
      "inet:ipv4=192.168.0.125\n",
      "        .created = 2019/01/03 23:56:20.271\n",
      "        :asn = 0\n",
      "        :loc = ??\n",
      "        :type = private\n",
      "inet:ipv4=192.168.0.126\n",
      "        .created = 2019/01/03 23:56:20.272\n",
      "        :asn = 0\n",
      "        :loc = ??\n",
      "        :type = private\n",
      "inet:ipv4=192.168.0.127\n",
      "        .created = 2019/01/03 23:56:20.273\n",
      "        :asn = 0\n",
      "        :loc = ??\n",
      "        :type = private\n",
      "inet:ipv4=192.168.0.128\n",
      "        .created = 2019/01/03 23:56:20.274\n",
      "        :asn = 0\n",
      "        :loc = ??\n",
      "        :type = private\n",
      "inet:ipv4=192.168.0.129\n",
      "        .created = 2019/01/03 23:56:20.275\n",
      "        :asn = 0\n",
      "        :loc = ??\n",
      "        :type = private\n",
      "inet:ipv4=192.168.0.130\n",
      "        .created = 2019/01/03 23:56:20.277\n",
      "        :asn = 0\n",
      "        :loc = ??\n",
      "        :type = private\n",
      "inet:ipv4=192.168.0.131\n",
      "        .created = 2019/01/03 23:56:20.279\n",
      "        :asn = 0\n",
      "        :loc = ??\n",
      "        :type = private\n",
      "inet:ipv4=192.168.0.132\n",
      "        .created = 2019/01/03 23:56:20.280\n",
      "        :asn = 0\n",
      "        :loc = ??\n",
      "        :type = private\n",
      "inet:ipv4=192.168.0.133\n",
      "        .created = 2019/01/03 23:56:20.281\n",
      "        :asn = 0\n",
      "        :loc = ??\n",
      "        :type = private\n",
      "inet:ipv4=192.168.0.134\n",
      "        .created = 2019/01/03 23:56:20.283\n",
      "        :asn = 0\n",
      "        :loc = ??\n",
      "        :type = private\n",
      "inet:ipv4=192.168.0.135\n",
      "        .created = 2019/01/03 23:56:20.284\n",
      "        :asn = 0\n",
      "        :loc = ??\n",
      "        :type = private\n",
      "inet:ipv4=192.168.0.136\n",
      "        .created = 2019/01/03 23:56:20.285\n",
      "        :asn = 0\n",
      "        :loc = ??\n",
      "        :type = private\n",
      "inet:ipv4=192.168.0.137\n",
      "        .created = 2019/01/03 23:56:20.286\n",
      "        :asn = 0\n",
      "        :loc = ??\n",
      "        :type = private\n"
     ]
    },
    {
     "name": "stdout",
     "output_type": "stream",
     "text": [
      "inet:ipv4=192.168.0.138\n",
      "        .created = 2019/01/03 23:56:20.287\n",
      "        :asn = 0\n",
      "        :loc = ??\n",
      "        :type = private\n",
      "inet:ipv4=192.168.0.139\n",
      "        .created = 2019/01/03 23:56:20.288\n",
      "        :asn = 0\n",
      "        :loc = ??\n",
      "        :type = private\n",
      "inet:ipv4=192.168.0.140\n",
      "        .created = 2019/01/03 23:56:20.289\n",
      "        :asn = 0\n",
      "        :loc = ??\n",
      "        :type = private\n",
      "inet:ipv4=192.168.0.141\n",
      "        .created = 2019/01/03 23:56:20.290\n",
      "        :asn = 0\n",
      "        :loc = ??\n",
      "        :type = private\n",
      "inet:ipv4=192.168.0.142\n",
      "        .created = 2019/01/03 23:56:20.292\n",
      "        :asn = 0\n",
      "        :loc = ??\n",
      "        :type = private\n",
      "inet:ipv4=192.168.0.143\n",
      "        .created = 2019/01/03 23:56:20.293\n",
      "        :asn = 0\n",
      "        :loc = ??\n",
      "        :type = private\n",
      "inet:ipv4=192.168.0.144\n",
      "        .created = 2019/01/03 23:56:20.294\n",
      "        :asn = 0\n",
      "        :loc = ??\n",
      "        :type = private\n",
      "inet:ipv4=192.168.0.145\n",
      "        .created = 2019/01/03 23:56:20.295\n",
      "        :asn = 0\n",
      "        :loc = ??\n",
      "        :type = private\n",
      "inet:ipv4=192.168.0.146\n",
      "        .created = 2019/01/03 23:56:20.296\n",
      "        :asn = 0\n",
      "        :loc = ??\n",
      "        :type = private\n",
      "inet:ipv4=192.168.0.147\n",
      "        .created = 2019/01/03 23:56:20.297\n",
      "        :asn = 0\n",
      "        :loc = ??\n",
      "        :type = private\n",
      "inet:ipv4=192.168.0.148\n",
      "        .created = 2019/01/03 23:56:20.298\n",
      "        :asn = 0\n",
      "        :loc = ??\n",
      "        :type = private\n",
      "inet:ipv4=192.168.0.149\n",
      "        .created = 2019/01/03 23:56:20.299\n",
      "        :asn = 0\n",
      "        :loc = ??\n",
      "        :type = private\n",
      "inet:ipv4=192.168.0.150\n",
      "        .created = 2019/01/03 23:56:20.300\n",
      "        :asn = 0\n",
      "        :loc = ??\n",
      "        :type = private\n",
      "inet:ipv4=192.168.0.151\n",
      "        .created = 2019/01/03 23:56:20.301\n",
      "        :asn = 0\n",
      "        :loc = ??\n",
      "        :type = private\n",
      "inet:ipv4=192.168.0.152\n",
      "        .created = 2019/01/03 23:56:20.304\n",
      "        :asn = 0\n",
      "        :loc = ??\n",
      "        :type = private\n",
      "inet:ipv4=192.168.0.153\n",
      "        .created = 2019/01/03 23:56:20.305\n",
      "        :asn = 0\n",
      "        :loc = ??\n",
      "        :type = private\n",
      "inet:ipv4=192.168.0.154\n",
      "        .created = 2019/01/03 23:56:20.307\n",
      "        :asn = 0\n",
      "        :loc = ??\n",
      "        :type = private\n",
      "inet:ipv4=192.168.0.155\n",
      "        .created = 2019/01/03 23:56:20.308\n",
      "        :asn = 0\n",
      "        :loc = ??\n",
      "        :type = private\n",
      "inet:ipv4=192.168.0.156\n",
      "        .created = 2019/01/03 23:56:20.310\n",
      "        :asn = 0\n",
      "        :loc = ??\n",
      "        :type = private\n",
      "inet:ipv4=192.168.0.157\n",
      "        .created = 2019/01/03 23:56:20.312\n",
      "        :asn = 0\n",
      "        :loc = ??\n",
      "        :type = private\n",
      "inet:ipv4=192.168.0.158\n",
      "        .created = 2019/01/03 23:56:20.313\n",
      "        :asn = 0\n",
      "        :loc = ??\n",
      "        :type = private\n",
      "inet:ipv4=192.168.0.159\n",
      "        .created = 2019/01/03 23:56:20.314\n",
      "        :asn = 0\n",
      "        :loc = ??\n",
      "        :type = private\n",
      "inet:ipv4=192.168.0.160\n",
      "        .created = 2019/01/03 23:56:20.316\n",
      "        :asn = 0\n",
      "        :loc = ??\n",
      "        :type = private\n",
      "inet:ipv4=192.168.0.161\n",
      "        .created = 2019/01/03 23:56:20.317\n",
      "        :asn = 0\n",
      "        :loc = ??\n",
      "        :type = private\n",
      "inet:ipv4=192.168.0.162\n",
      "        .created = 2019/01/03 23:56:20.319\n",
      "        :asn = 0\n",
      "        :loc = ??\n",
      "        :type = private\n",
      "inet:ipv4=192.168.0.163\n",
      "        .created = 2019/01/03 23:56:20.320\n",
      "        :asn = 0\n",
      "        :loc = ??\n",
      "        :type = private\n",
      "inet:ipv4=192.168.0.164\n",
      "        .created = 2019/01/03 23:56:20.321\n",
      "        :asn = 0\n",
      "        :loc = ??\n",
      "        :type = private\n",
      "inet:ipv4=192.168.0.165\n",
      "        .created = 2019/01/03 23:56:20.322\n",
      "        :asn = 0\n",
      "        :loc = ??\n",
      "        :type = private\n",
      "inet:ipv4=192.168.0.166\n",
      "        .created = 2019/01/03 23:56:20.323\n",
      "        :asn = 0\n",
      "        :loc = ??\n",
      "        :type = private\n",
      "inet:ipv4=192.168.0.167\n",
      "        .created = 2019/01/03 23:56:20.324\n",
      "        :asn = 0\n",
      "        :loc = ??\n",
      "        :type = private\n",
      "inet:ipv4=192.168.0.168\n",
      "        .created = 2019/01/03 23:56:20.325\n",
      "        :asn = 0\n",
      "        :loc = ??\n",
      "        :type = private\n",
      "inet:ipv4=192.168.0.169\n",
      "        .created = 2019/01/03 23:56:20.326\n",
      "        :asn = 0\n",
      "        :loc = ??\n",
      "        :type = private\n",
      "inet:ipv4=192.168.0.170\n",
      "        .created = 2019/01/03 23:56:20.327\n",
      "        :asn = 0\n",
      "        :loc = ??\n",
      "        :type = private\n",
      "inet:ipv4=192.168.0.171\n",
      "        .created = 2019/01/03 23:56:20.328\n",
      "        :asn = 0\n",
      "        :loc = ??\n",
      "        :type = private\n",
      "inet:ipv4=192.168.0.172\n",
      "        .created = 2019/01/03 23:56:20.329\n",
      "        :asn = 0\n",
      "        :loc = ??\n",
      "        :type = private\n",
      "inet:ipv4=192.168.0.173\n",
      "        .created = 2019/01/03 23:56:20.330\n",
      "        :asn = 0\n",
      "        :loc = ??\n",
      "        :type = private\n",
      "inet:ipv4=192.168.0.174\n",
      "        .created = 2019/01/03 23:56:20.331\n",
      "        :asn = 0\n",
      "        :loc = ??\n",
      "        :type = private\n",
      "inet:ipv4=192.168.0.175\n",
      "        .created = 2019/01/03 23:56:20.332\n",
      "        :asn = 0\n",
      "        :loc = ??\n",
      "        :type = private\n",
      "inet:ipv4=192.168.0.176\n",
      "        .created = 2019/01/03 23:56:20.333\n",
      "        :asn = 0\n",
      "        :loc = ??\n",
      "        :type = private\n",
      "inet:ipv4=192.168.0.177\n",
      "        .created = 2019/01/03 23:56:20.334\n",
      "        :asn = 0\n",
      "        :loc = ??\n",
      "        :type = private\n",
      "inet:ipv4=192.168.0.178\n",
      "        .created = 2019/01/03 23:56:20.336\n",
      "        :asn = 0\n",
      "        :loc = ??\n",
      "        :type = private\n",
      "inet:ipv4=192.168.0.179\n",
      "        .created = 2019/01/03 23:56:20.336\n",
      "        :asn = 0\n",
      "        :loc = ??\n",
      "        :type = private\n",
      "inet:ipv4=192.168.0.180\n",
      "        .created = 2019/01/03 23:56:20.338\n",
      "        :asn = 0\n",
      "        :loc = ??\n",
      "        :type = private\n",
      "inet:ipv4=192.168.0.181\n",
      "        .created = 2019/01/03 23:56:20.338\n",
      "        :asn = 0\n",
      "        :loc = ??\n",
      "        :type = private\n",
      "inet:ipv4=192.168.0.182\n",
      "        .created = 2019/01/03 23:56:20.340\n",
      "        :asn = 0\n",
      "        :loc = ??\n",
      "        :type = private\n",
      "inet:ipv4=192.168.0.183\n",
      "        .created = 2019/01/03 23:56:20.341\n",
      "        :asn = 0\n",
      "        :loc = ??\n",
      "        :type = private\n",
      "inet:ipv4=192.168.0.184\n",
      "        .created = 2019/01/03 23:56:20.342\n",
      "        :asn = 0\n",
      "        :loc = ??\n",
      "        :type = private\n",
      "inet:ipv4=192.168.0.185\n",
      "        .created = 2019/01/03 23:56:20.343\n",
      "        :asn = 0\n",
      "        :loc = ??\n",
      "        :type = private\n",
      "inet:ipv4=192.168.0.186\n",
      "        .created = 2019/01/03 23:56:20.345\n",
      "        :asn = 0\n",
      "        :loc = ??\n",
      "        :type = private\n",
      "inet:ipv4=192.168.0.187\n",
      "        .created = 2019/01/03 23:56:20.346\n",
      "        :asn = 0\n",
      "        :loc = ??\n",
      "        :type = private\n",
      "inet:ipv4=192.168.0.188\n",
      "        .created = 2019/01/03 23:56:20.348\n",
      "        :asn = 0\n",
      "        :loc = ??\n",
      "        :type = private\n",
      "inet:ipv4=192.168.0.189\n",
      "        .created = 2019/01/03 23:56:20.349\n",
      "        :asn = 0\n",
      "        :loc = ??\n",
      "        :type = private\n",
      "inet:ipv4=192.168.0.190\n",
      "        .created = 2019/01/03 23:56:20.350\n",
      "        :asn = 0\n",
      "        :loc = ??\n",
      "        :type = private\n",
      "inet:ipv4=192.168.0.191\n",
      "        .created = 2019/01/03 23:56:20.351\n",
      "        :asn = 0\n",
      "        :loc = ??\n",
      "        :type = private\n",
      "inet:ipv4=192.168.0.192\n",
      "        .created = 2019/01/03 23:56:20.352\n",
      "        :asn = 0\n",
      "        :loc = ??\n",
      "        :type = private\n",
      "inet:ipv4=192.168.0.193\n",
      "        .created = 2019/01/03 23:56:20.352\n",
      "        :asn = 0\n",
      "        :loc = ??\n",
      "        :type = private\n",
      "inet:ipv4=192.168.0.194\n",
      "        .created = 2019/01/03 23:56:20.353\n",
      "        :asn = 0\n",
      "        :loc = ??\n",
      "        :type = private\n",
      "inet:ipv4=192.168.0.195\n",
      "        .created = 2019/01/03 23:56:20.354\n",
      "        :asn = 0\n",
      "        :loc = ??\n",
      "        :type = private\n",
      "inet:ipv4=192.168.0.196\n",
      "        .created = 2019/01/03 23:56:20.355\n",
      "        :asn = 0\n",
      "        :loc = ??\n",
      "        :type = private\n",
      "inet:ipv4=192.168.0.197\n",
      "        .created = 2019/01/03 23:56:20.356\n",
      "        :asn = 0\n",
      "        :loc = ??\n",
      "        :type = private\n",
      "inet:ipv4=192.168.0.198\n",
      "        .created = 2019/01/03 23:56:20.358\n",
      "        :asn = 0\n",
      "        :loc = ??\n",
      "        :type = private\n",
      "inet:ipv4=192.168.0.199\n",
      "        .created = 2019/01/03 23:56:20.359\n",
      "        :asn = 0\n",
      "        :loc = ??\n",
      "        :type = private\n",
      "inet:ipv4=192.168.0.200\n",
      "        .created = 2019/01/03 23:56:20.360\n",
      "        :asn = 0\n",
      "        :loc = ??\n",
      "        :type = private\n",
      "inet:ipv4=192.168.0.201\n",
      "        .created = 2019/01/03 23:56:20.361\n",
      "        :asn = 0\n",
      "        :loc = ??\n",
      "        :type = private\n",
      "inet:ipv4=192.168.0.202\n",
      "        .created = 2019/01/03 23:56:20.362\n",
      "        :asn = 0\n",
      "        :loc = ??\n",
      "        :type = private\n",
      "inet:ipv4=192.168.0.203\n",
      "        .created = 2019/01/03 23:56:20.363\n",
      "        :asn = 0\n",
      "        :loc = ??\n",
      "        :type = private\n",
      "inet:ipv4=192.168.0.204\n",
      "        .created = 2019/01/03 23:56:20.364\n",
      "        :asn = 0\n",
      "        :loc = ??\n",
      "        :type = private\n",
      "inet:ipv4=192.168.0.205\n",
      "        .created = 2019/01/03 23:56:20.365\n",
      "        :asn = 0\n",
      "        :loc = ??\n",
      "        :type = private\n",
      "inet:ipv4=192.168.0.206\n",
      "        .created = 2019/01/03 23:56:20.367\n",
      "        :asn = 0\n",
      "        :loc = ??\n",
      "        :type = private\n",
      "inet:ipv4=192.168.0.207\n",
      "        .created = 2019/01/03 23:56:20.368\n",
      "        :asn = 0\n",
      "        :loc = ??\n",
      "        :type = private\n",
      "inet:ipv4=192.168.0.208\n",
      "        .created = 2019/01/03 23:56:20.370\n",
      "        :asn = 0\n",
      "        :loc = ??\n",
      "        :type = private\n",
      "inet:ipv4=192.168.0.209\n",
      "        .created = 2019/01/03 23:56:20.371\n",
      "        :asn = 0\n",
      "        :loc = ??\n",
      "        :type = private\n"
     ]
    },
    {
     "name": "stdout",
     "output_type": "stream",
     "text": [
      "inet:ipv4=192.168.0.210\n",
      "        .created = 2019/01/03 23:56:20.372\n",
      "        :asn = 0\n",
      "        :loc = ??\n",
      "        :type = private\n",
      "inet:ipv4=192.168.0.211\n",
      "        .created = 2019/01/03 23:56:20.373\n",
      "        :asn = 0\n",
      "        :loc = ??\n",
      "        :type = private\n",
      "inet:ipv4=192.168.0.212\n",
      "        .created = 2019/01/03 23:56:20.374\n",
      "        :asn = 0\n",
      "        :loc = ??\n",
      "        :type = private\n",
      "inet:ipv4=192.168.0.213\n",
      "        .created = 2019/01/03 23:56:20.376\n",
      "        :asn = 0\n",
      "        :loc = ??\n",
      "        :type = private\n",
      "inet:ipv4=192.168.0.214\n",
      "        .created = 2019/01/03 23:56:20.380\n",
      "        :asn = 0\n",
      "        :loc = ??\n",
      "        :type = private\n",
      "inet:ipv4=192.168.0.215\n",
      "        .created = 2019/01/03 23:56:20.381\n",
      "        :asn = 0\n",
      "        :loc = ??\n",
      "        :type = private\n",
      "inet:ipv4=192.168.0.216\n",
      "        .created = 2019/01/03 23:56:20.383\n",
      "        :asn = 0\n",
      "        :loc = ??\n",
      "        :type = private\n",
      "inet:ipv4=192.168.0.217\n",
      "        .created = 2019/01/03 23:56:20.384\n",
      "        :asn = 0\n",
      "        :loc = ??\n",
      "        :type = private\n",
      "inet:ipv4=192.168.0.218\n",
      "        .created = 2019/01/03 23:56:20.385\n",
      "        :asn = 0\n",
      "        :loc = ??\n",
      "        :type = private\n",
      "inet:ipv4=192.168.0.219\n",
      "        .created = 2019/01/03 23:56:20.386\n",
      "        :asn = 0\n",
      "        :loc = ??\n",
      "        :type = private\n",
      "inet:ipv4=192.168.0.220\n",
      "        .created = 2019/01/03 23:56:20.387\n",
      "        :asn = 0\n",
      "        :loc = ??\n",
      "        :type = private\n",
      "inet:ipv4=192.168.0.221\n",
      "        .created = 2019/01/03 23:56:20.388\n",
      "        :asn = 0\n",
      "        :loc = ??\n",
      "        :type = private\n",
      "inet:ipv4=192.168.0.222\n",
      "        .created = 2019/01/03 23:56:20.390\n",
      "        :asn = 0\n",
      "        :loc = ??\n",
      "        :type = private\n",
      "inet:ipv4=192.168.0.223\n",
      "        .created = 2019/01/03 23:56:20.391\n",
      "        :asn = 0\n",
      "        :loc = ??\n",
      "        :type = private\n",
      "inet:ipv4=192.168.0.224\n",
      "        .created = 2019/01/03 23:56:20.393\n",
      "        :asn = 0\n",
      "        :loc = ??\n",
      "        :type = private\n",
      "inet:ipv4=192.168.0.225\n",
      "        .created = 2019/01/03 23:56:20.393\n",
      "        :asn = 0\n",
      "        :loc = ??\n",
      "        :type = private\n",
      "inet:ipv4=192.168.0.226\n",
      "        .created = 2019/01/03 23:56:20.395\n",
      "        :asn = 0\n",
      "        :loc = ??\n",
      "        :type = private\n",
      "inet:ipv4=192.168.0.227\n",
      "        .created = 2019/01/03 23:56:20.396\n",
      "        :asn = 0\n",
      "        :loc = ??\n",
      "        :type = private\n",
      "inet:ipv4=192.168.0.228\n",
      "        .created = 2019/01/03 23:56:20.397\n",
      "        :asn = 0\n",
      "        :loc = ??\n",
      "        :type = private\n",
      "inet:ipv4=192.168.0.229\n",
      "        .created = 2019/01/03 23:56:20.398\n",
      "        :asn = 0\n",
      "        :loc = ??\n",
      "        :type = private\n",
      "inet:ipv4=192.168.0.230\n",
      "        .created = 2019/01/03 23:56:20.399\n",
      "        :asn = 0\n",
      "        :loc = ??\n",
      "        :type = private\n",
      "inet:ipv4=192.168.0.231\n",
      "        .created = 2019/01/03 23:56:20.400\n",
      "        :asn = 0\n",
      "        :loc = ??\n",
      "        :type = private\n",
      "inet:ipv4=192.168.0.232\n",
      "        .created = 2019/01/03 23:56:20.401\n",
      "        :asn = 0\n",
      "        :loc = ??\n",
      "        :type = private\n",
      "inet:ipv4=192.168.0.233\n",
      "        .created = 2019/01/03 23:56:20.401\n",
      "        :asn = 0\n",
      "        :loc = ??\n",
      "        :type = private\n",
      "inet:ipv4=192.168.0.234\n",
      "        .created = 2019/01/03 23:56:20.402\n",
      "        :asn = 0\n",
      "        :loc = ??\n",
      "        :type = private\n",
      "inet:ipv4=192.168.0.235\n",
      "        .created = 2019/01/03 23:56:20.403\n",
      "        :asn = 0\n",
      "        :loc = ??\n",
      "        :type = private\n",
      "inet:ipv4=192.168.0.236\n",
      "        .created = 2019/01/03 23:56:20.404\n",
      "        :asn = 0\n",
      "        :loc = ??\n",
      "        :type = private\n",
      "inet:ipv4=192.168.0.237\n",
      "        .created = 2019/01/03 23:56:20.405\n",
      "        :asn = 0\n",
      "        :loc = ??\n",
      "        :type = private\n",
      "inet:ipv4=192.168.0.238\n",
      "        .created = 2019/01/03 23:56:20.406\n",
      "        :asn = 0\n",
      "        :loc = ??\n",
      "        :type = private\n",
      "inet:ipv4=192.168.0.239\n",
      "        .created = 2019/01/03 23:56:20.406\n",
      "        :asn = 0\n",
      "        :loc = ??\n",
      "        :type = private\n",
      "inet:ipv4=192.168.0.240\n",
      "        .created = 2019/01/03 23:56:20.408\n",
      "        :asn = 0\n",
      "        :loc = ??\n",
      "        :type = private\n",
      "inet:ipv4=192.168.0.241\n",
      "        .created = 2019/01/03 23:56:20.408\n",
      "        :asn = 0\n",
      "        :loc = ??\n",
      "        :type = private\n",
      "inet:ipv4=192.168.0.242\n",
      "        .created = 2019/01/03 23:56:20.411\n",
      "        :asn = 0\n",
      "        :loc = ??\n",
      "        :type = private\n",
      "inet:ipv4=192.168.0.243\n",
      "        .created = 2019/01/03 23:56:20.412\n",
      "        :asn = 0\n",
      "        :loc = ??\n",
      "        :type = private\n",
      "inet:ipv4=192.168.0.244\n",
      "        .created = 2019/01/03 23:56:20.414\n",
      "        :asn = 0\n",
      "        :loc = ??\n",
      "        :type = private\n",
      "inet:ipv4=192.168.0.245\n",
      "        .created = 2019/01/03 23:56:20.415\n",
      "        :asn = 0\n",
      "        :loc = ??\n",
      "        :type = private\n",
      "inet:ipv4=192.168.0.246\n",
      "        .created = 2019/01/03 23:56:20.418\n",
      "        :asn = 0\n",
      "        :loc = ??\n",
      "        :type = private\n",
      "inet:ipv4=192.168.0.247\n",
      "        .created = 2019/01/03 23:56:20.418\n",
      "        :asn = 0\n",
      "        :loc = ??\n",
      "        :type = private\n",
      "inet:ipv4=192.168.0.248\n",
      "        .created = 2019/01/03 23:56:20.420\n",
      "        :asn = 0\n",
      "        :loc = ??\n",
      "        :type = private\n",
      "inet:ipv4=192.168.0.249\n",
      "        .created = 2019/01/03 23:56:20.421\n",
      "        :asn = 0\n",
      "        :loc = ??\n",
      "        :type = private\n",
      "inet:ipv4=192.168.0.250\n",
      "        .created = 2019/01/03 23:56:20.422\n",
      "        :asn = 0\n",
      "        :loc = ??\n",
      "        :type = private\n",
      "inet:ipv4=192.168.0.251\n",
      "        .created = 2019/01/03 23:56:20.423\n",
      "        :asn = 0\n",
      "        :loc = ??\n",
      "        :type = private\n",
      "inet:ipv4=192.168.0.252\n",
      "        .created = 2019/01/03 23:56:20.424\n",
      "        :asn = 0\n",
      "        :loc = ??\n",
      "        :type = private\n",
      "inet:ipv4=192.168.0.253\n",
      "        .created = 2019/01/03 23:56:20.425\n",
      "        :asn = 0\n",
      "        :loc = ??\n",
      "        :type = private\n",
      "inet:ipv4=192.168.0.254\n",
      "        .created = 2019/01/03 23:56:20.427\n",
      "        :asn = 0\n",
      "        :loc = ??\n",
      "        :type = private\n",
      "inet:ipv4=192.168.0.255\n",
      "        .created = 2019/01/03 23:56:20.428\n",
      "        :asn = 0\n",
      "        :loc = ??\n",
      "        :type = private\n",
      "complete. 256 nodes in 335 ms (764/sec).\n"
     ]
    }
   ],
   "source": [
    "# Make some nodes:\n",
    "q = '[inet:ipv4=192.168.0.0/24]'\n",
    "# Execute query and test\n",
    "podes = await core.eval(q, num=256, cmdr=True)"
   ]
  },
  {
   "cell_type": "code",
   "execution_count": 44,
   "metadata": {
    "hideCode": true,
    "scrolled": true
   },
   "outputs": [
    {
     "name": "stdout",
     "output_type": "stream",
     "text": [
      "inet:ipv4*range=(192.168.0.0, 192.168.0.10)\n"
     ]
    }
   ],
   "source": [
    "# Define and print test query\n",
    "q = 'inet:ipv4*range=(192.168.0.0, 192.168.0.10)'\n",
    "print(q)\n",
    "# Execute the query and test\n",
    "podes = await core.eval(q, num=11, cmdr=False)"
   ]
  },
  {
   "cell_type": "raw",
   "metadata": {},
   "source": [
    "*Lift by secondary property in range:*\n",
    "\n",
    "- Lift files whose size is between 1000 and 100000 bytes:\n"
   ]
  },
  {
   "cell_type": "code",
   "execution_count": 45,
   "metadata": {
    "hideCode": true,
    "hideOutput": true
   },
   "outputs": [
    {
     "name": "stdout",
     "output_type": "stream",
     "text": [
      "cli> storm [file:bytes=sha256:e3b0c44298fc1c149afbf4c8996fb92427ae41e4649b934ca495991b7852b855 :size=0]\n",
      "\n",
      "file:bytes=sha256:e3b0c44298fc1c149afbf4c8996fb92427ae41e4649b934ca495991b7852b855\n",
      "        .created = 2019/01/03 23:56:20.485\n",
      "        :mime = ??\n",
      "        :sha256 = e3b0c44298fc1c149afbf4c8996fb92427ae41e4649b934ca495991b7852b855\n",
      "        :size = 0\n",
      "complete. 1 nodes in 11 ms (90/sec).\n",
      "cli> storm [file:bytes=sha256:929c3316a91c62170e545986274dc6a36e6560ca5bf85a98e96662a5a3c5edb0 :size=1001]\n",
      "\n",
      "file:bytes=sha256:929c3316a91c62170e545986274dc6a36e6560ca5bf85a98e96662a5a3c5edb0\n",
      "        .created = 2019/01/03 23:56:20.501\n",
      "        :mime = ??\n",
      "        :sha256 = 929c3316a91c62170e545986274dc6a36e6560ca5bf85a98e96662a5a3c5edb0\n",
      "        :size = 1001\n",
      "complete. 1 nodes in 8 ms (125/sec).\n",
      "cli> storm [file:bytes=sha256:e7db39923c5244bfc96af4593794f8e85eb4b68da4f80c7b67cc887aa1ea4713 :size=5000]\n",
      "\n",
      "file:bytes=sha256:e7db39923c5244bfc96af4593794f8e85eb4b68da4f80c7b67cc887aa1ea4713\n",
      "        .created = 2019/01/03 23:56:20.518\n",
      "        :mime = ??\n",
      "        :sha256 = e7db39923c5244bfc96af4593794f8e85eb4b68da4f80c7b67cc887aa1ea4713\n",
      "        :size = 5000\n",
      "complete. 1 nodes in 8 ms (125/sec).\n",
      "cli> storm [file:bytes=sha256:e708cd312b2b87c6ecc62fe2d33071380a90e60f6f98cf37f1e178127d2c3241 :size=100002]\n",
      "\n",
      "file:bytes=sha256:e708cd312b2b87c6ecc62fe2d33071380a90e60f6f98cf37f1e178127d2c3241\n",
      "        .created = 2019/01/03 23:56:20.535\n",
      "        :mime = ??\n",
      "        :sha256 = e708cd312b2b87c6ecc62fe2d33071380a90e60f6f98cf37f1e178127d2c3241\n",
      "        :size = 100002\n",
      "complete. 1 nodes in 10 ms (100/sec).\n"
     ]
    }
   ],
   "source": [
    "# Make some files:\n",
    "q = '[file:bytes=sha256:e3b0c44298fc1c149afbf4c8996fb92427ae41e4649b934ca495991b7852b855 :size=0]'\n",
    "q1 = '[file:bytes=sha256:929c3316a91c62170e545986274dc6a36e6560ca5bf85a98e96662a5a3c5edb0 :size=1001]'\n",
    "q2 = '[file:bytes=sha256:e7db39923c5244bfc96af4593794f8e85eb4b68da4f80c7b67cc887aa1ea4713 :size=5000]'\n",
    "q3 = '[file:bytes=sha256:e708cd312b2b87c6ecc62fe2d33071380a90e60f6f98cf37f1e178127d2c3241 :size=100002]'\n",
    "# Execute query and test\n",
    "podes = await core.eval(q, num=1, cmdr=True)\n",
    "podes = await core.eval(q1, num=1, cmdr=True)\n",
    "podes = await core.eval(q2, num=1, cmdr=True)\n",
    "podes = await core.eval(q3, num=1, cmdr=True)"
   ]
  },
  {
   "cell_type": "code",
   "execution_count": 46,
   "metadata": {
    "hideCode": true,
    "scrolled": true
   },
   "outputs": [
    {
     "name": "stdout",
     "output_type": "stream",
     "text": [
      "file:bytes:size*range=(1000,100000)\n"
     ]
    }
   ],
   "source": [
    "# Define and print test query\n",
    "q = 'file:bytes:size*range=(1000,100000)'\n",
    "print(q)\n",
    "# Execute the query and test\n",
    "podes = await core.eval(q, num=2, cmdr=False)"
   ]
  },
  {
   "cell_type": "raw",
   "metadata": {},
   "source": [
    "- Lift WHOIS records that were captured between November 29, 2013 and June 14, 2016:\n"
   ]
  },
  {
   "cell_type": "code",
   "execution_count": 47,
   "metadata": {
    "hideCode": true,
    "hideOutput": true
   },
   "outputs": [
    {
     "name": "stdout",
     "output_type": "stream",
     "text": [
      "cli> storm [inet:whois:rec=(pe75.com,2013/11/29) :text=\"domain name: pe75.com\"]\n",
      "\n",
      "inet:whois:rec=('pe75.com', '2013/11/29 00:00:00.000')\n",
      "        .created = 2019/01/03 23:56:20.590\n",
      "        :asof = 2013/11/29 00:00:00.000\n",
      "        :fqdn = pe75.com\n",
      "        :registrant = ??\n",
      "        :registrar = ??\n",
      "        :text = domain name: pe75.com\n",
      "complete. 1 nodes in 14 ms (71/sec).\n",
      "cli> storm [inet:whois:rec=(youipcam.com,2013/11/29) :text=\"domain name: youipcam.com\"]\n",
      "\n",
      "inet:whois:rec=('youipcam.com', '2013/11/29 00:00:00.000')\n",
      "        .created = 2019/01/03 23:56:20.613\n",
      "        :asof = 2013/11/29 00:00:00.000\n",
      "        :fqdn = youipcam.com\n",
      "        :registrant = ??\n",
      "        :registrar = ??\n",
      "        :text = domain name: youipcam.com\n",
      "complete. 1 nodes in 12 ms (83/sec).\n",
      "cli> storm [inet:whois:rec=(17ti.net,2016/01/01) :text=\"domain name: 17ti.net\"]\n",
      "\n",
      "inet:whois:rec=('17ti.net', '2016/01/01 00:00:00.000')\n",
      "        .created = 2019/01/03 23:56:20.630\n",
      "        :asof = 2016/01/01 00:00:00.000\n",
      "        :fqdn = 17ti.net\n",
      "        :registrant = ??\n",
      "        :registrar = ??\n",
      "        :text = domain name: 17ti.net\n",
      "complete. 1 nodes in 12 ms (83/sec).\n",
      "cli> storm [inet:whois:rec=(africawebcast.com,1999/11/19) :text=\"domain name: africawebcast.com\"]\n",
      "\n",
      "inet:whois:rec=('africawebcast.com', '1999/11/19 00:00:00.000')\n",
      "        .created = 2019/01/03 23:56:20.653\n",
      "        :asof = 1999/11/19 00:00:00.000\n",
      "        :fqdn = africawebcast.com\n",
      "        :registrant = ??\n",
      "        :registrar = ??\n",
      "        :text = domain name: africawebcast.com\n",
      "complete. 1 nodes in 12 ms (83/sec).\n",
      "cli> storm [inet:whois:rec=(teads.tv,2017/03/02) :text=\"domain name: teads.tv\"]\n",
      "\n",
      "inet:whois:rec=('teads.tv', '2017/03/02 00:00:00.000')\n",
      "        .created = 2019/01/03 23:56:20.670\n",
      "        :asof = 2017/03/02 00:00:00.000\n",
      "        :fqdn = teads.tv\n",
      "        :registrant = ??\n",
      "        :registrar = ??\n",
      "        :text = domain name: teads.tv\n",
      "complete. 1 nodes in 12 ms (83/sec).\n"
     ]
    }
   ],
   "source": [
    "# Make some WHOIS records:\n",
    "q = '[inet:whois:rec=(pe75.com,2013/11/29) :text=\"domain name: pe75.com\"]'\n",
    "q1 = '[inet:whois:rec=(youipcam.com,2013/11/29) :text=\"domain name: youipcam.com\"]'\n",
    "q2 = '[inet:whois:rec=(17ti.net,2016/01/01) :text=\"domain name: 17ti.net\"]'\n",
    "q3 = '[inet:whois:rec=(africawebcast.com,1999/11/19) :text=\"domain name: africawebcast.com\"]'\n",
    "q4 = '[inet:whois:rec=(teads.tv,2017/03/02) :text=\"domain name: teads.tv\"]'\n",
    "# Execute query and test\n",
    "podes = await core.eval(q, num=1, cmdr=True)\n",
    "podes = await core.eval(q1, num=1, cmdr=True)\n",
    "podes = await core.eval(q2, num=1, cmdr=True)\n",
    "podes = await core.eval(q3, num=1, cmdr=True)\n",
    "podes = await core.eval(q4, num=1, cmdr=True)"
   ]
  },
  {
   "cell_type": "code",
   "execution_count": 48,
   "metadata": {
    "hideCode": true
   },
   "outputs": [
    {
     "name": "stdout",
     "output_type": "stream",
     "text": [
      "inet:whois:rec:asof*range=(2013/11/29, 2016/06/14)\n"
     ]
    }
   ],
   "source": [
    "# Define and print test query\n",
    "q = 'inet:whois:rec:asof*range=(2013/11/29, 2016/06/14)'\n",
    "print(q)\n",
    "# Execute the query and test\n",
    "podes = await core.eval(q, num=3, cmdr=False)"
   ]
  },
  {
   "cell_type": "raw",
   "metadata": {},
   "source": [
    "**Usage Notes:**\n",
    "\n",
    "- When specifying a range, both the minimum and maximum values are included in the range (the equivalent of \"greater than or equal to *<min>* and less than or equal to *<max>*\").\n",
    "- Currently, ``*range=`` supports the use of relative times (``\"+1 day\"``, ``\"-6 hours\"``) as parameters (i.e., Storm will accept those parameters without throwing an error). However, for the ``*range=`` extended operator specifically, relative times are currently normed relative to ``now`` - so ``\"+1 day\"`` is normed as ``now +1 day``, which may return undesirable results. We recommend against using relative times with ``*range=`` until this is addressed.\n",
    "\n",
    "Lift by Set Membership (*in=)\n",
    "+++++++++++++++++++++++++++++\n",
    "\n",
    "The set membership extended comparator (``*in=``) supports lifting nodes whose *<form> = <valu>* or *<prop> = <pval>* matches any of a set of specified values. The comparator can be used with any type.\n",
    "\n",
    "**Syntax:**\n",
    "\n",
    "*<form>* [ **:** *<prop>* ] ***in = (** *<set_1>* **,** *<set_2>* **,** ... **)**\n",
    "\n",
    "**Examples:**\n",
    "\n",
    "*Lift by primary property in a set:*\n",
    "\n",
    "- Lift IP addresses matching any of the specified values:\n"
   ]
  },
  {
   "cell_type": "code",
   "execution_count": 49,
   "metadata": {
    "hideCode": true,
    "hideOutput": true
   },
   "outputs": [
    {
     "name": "stdout",
     "output_type": "stream",
     "text": [
      "cli> storm [inet:ipv4=127.0.0.1 inet:ipv4=192.168.0.100 inet:ipv4=255.255.255.254]\n",
      "\n",
      "inet:ipv4=127.0.0.1\n",
      "        .created = 2019/01/03 23:56:20.712\n",
      "        :asn = 0\n",
      "        :loc = ??\n",
      "        :type = loopback\n",
      "inet:ipv4=192.168.0.100\n",
      "        .created = 2019/01/03 23:56:20.240\n",
      "        :asn = 0\n",
      "        :loc = ??\n",
      "        :type = private\n",
      "inet:ipv4=255.255.255.254\n",
      "        .created = 2019/01/03 23:56:20.713\n",
      "        :asn = 0\n",
      "        :loc = ??\n",
      "        :type = private\n",
      "complete. 3 nodes in 13 ms (230/sec).\n"
     ]
    }
   ],
   "source": [
    "# Make some moar IPs:\n",
    "q = '[inet:ipv4=127.0.0.1 inet:ipv4=192.168.0.100 inet:ipv4=255.255.255.254]'\n",
    "# Execute query and test\n",
    "podes = await core.eval(q, num=3, cmdr=True)"
   ]
  },
  {
   "cell_type": "code",
   "execution_count": 50,
   "metadata": {
    "hideCode": true
   },
   "outputs": [
    {
     "name": "stdout",
     "output_type": "stream",
     "text": [
      "inet:ipv4*in=(127.0.0.1, 192.168.0.100, 255.255.255.254)\n"
     ]
    }
   ],
   "source": [
    "# Define and print test query\n",
    "q = 'inet:ipv4*in=(127.0.0.1, 192.168.0.100, 255.255.255.254)'\n",
    "print(q)\n",
    "# Execute the query and test\n",
    "podes = await core.eval(q, num=3, cmdr=False)"
   ]
  },
  {
   "cell_type": "raw",
   "metadata": {},
   "source": [
    "*Lift by secondary property in a set:*\n",
    "\n",
    "- Lift files whose size in bytes matches any of the specified values:\n"
   ]
  },
  {
   "cell_type": "code",
   "execution_count": 51,
   "metadata": {
    "hideCode": true,
    "hideOutput": true
   },
   "outputs": [
    {
     "name": "stdout",
     "output_type": "stream",
     "text": [
      "cli> storm [file:bytes=sha256:68168583a7778d3c8512f8d6ae47a44618c58537dd5af8eff7da41da0c000c0c :size=4096]\n",
      "\n",
      "file:bytes=sha256:68168583a7778d3c8512f8d6ae47a44618c58537dd5af8eff7da41da0c000c0c\n",
      "        .created = 2019/01/03 23:56:20.769\n",
      "        :mime = ??\n",
      "        :sha256 = 68168583a7778d3c8512f8d6ae47a44618c58537dd5af8eff7da41da0c000c0c\n",
      "        :size = 4096\n",
      "complete. 1 nodes in 11 ms (90/sec).\n",
      "cli> storm [file:bytes=sha256:0a040124ffeccf0031369c57ca7b1dd70f61c71d9b10710bdc6adb53d0eefd81 :size=16384]\n",
      "\n",
      "file:bytes=sha256:0a040124ffeccf0031369c57ca7b1dd70f61c71d9b10710bdc6adb53d0eefd81\n",
      "        .created = 2019/01/03 23:56:20.812\n",
      "        :mime = ??\n",
      "        :sha256 = 0a040124ffeccf0031369c57ca7b1dd70f61c71d9b10710bdc6adb53d0eefd81\n",
      "        :size = 16384\n",
      "complete. 1 nodes in 17 ms (58/sec).\n",
      "cli> storm [file:bytes=sha256:2e248baca79a14f6a62a6bb962a68f7b6f1dfea4641beb39f8e7f0ec5bb47e36 :size=65536]\n",
      "\n",
      "file:bytes=sha256:2e248baca79a14f6a62a6bb962a68f7b6f1dfea4641beb39f8e7f0ec5bb47e36\n",
      "        .created = 2019/01/03 23:56:20.836\n",
      "        :mime = ??\n",
      "        :sha256 = 2e248baca79a14f6a62a6bb962a68f7b6f1dfea4641beb39f8e7f0ec5bb47e36\n",
      "        :size = 65536\n",
      "complete. 1 nodes in 10 ms (100/sec).\n"
     ]
    }
   ],
   "source": [
    "# Make some moar files:\n",
    "q = '[file:bytes=sha256:68168583a7778d3c8512f8d6ae47a44618c58537dd5af8eff7da41da0c000c0c :size=4096]'\n",
    "q1 = '[file:bytes=sha256:0a040124ffeccf0031369c57ca7b1dd70f61c71d9b10710bdc6adb53d0eefd81 :size=16384]'\n",
    "q2 = '[file:bytes=sha256:2e248baca79a14f6a62a6bb962a68f7b6f1dfea4641beb39f8e7f0ec5bb47e36 :size=65536]'\n",
    "# Execute query and test\n",
    "podes = await core.eval(q, num=1, cmdr=True)\n",
    "podes = await core.eval(q1, num=1, cmdr=True)\n",
    "podes = await core.eval(q2, num=1, cmdr=True)"
   ]
  },
  {
   "cell_type": "code",
   "execution_count": 52,
   "metadata": {
    "hideCode": true,
    "scrolled": true
   },
   "outputs": [
    {
     "name": "stdout",
     "output_type": "stream",
     "text": [
      "file:bytes:size*in=(4096, 16384, 65536)\n"
     ]
    }
   ],
   "source": [
    "# Define and print test query\n",
    "q = 'file:bytes:size*in=(4096, 16384, 65536)'\n",
    "print(q)\n",
    "# Execute the query and test\n",
    "podes = await core.eval(q, num=3, cmdr=False)"
   ]
  },
  {
   "cell_type": "raw",
   "metadata": {},
   "source": [
    "- Lift tags that end in ``foo``, ``bar``, or ``baz``:\n"
   ]
  },
  {
   "cell_type": "code",
   "execution_count": 53,
   "metadata": {
    "hideCode": true,
    "hideOutput": true
   },
   "outputs": [
    {
     "name": "stdout",
     "output_type": "stream",
     "text": [
      "cli> storm [syn:tag=aaa.foo syn:tag=aaa.bbb.bar syn:tag=ccc.baz syn:tag=aaa.bar.hurr syn:tag=baz.woop]\n",
      "\n",
      "syn:tag=aaa.foo\n",
      "        .created = 2019/01/03 23:56:20.899\n",
      "        :base = foo\n",
      "        :depth = 1\n",
      "        :doc = \n",
      "        :title = \n",
      "        :up = aaa\n",
      "syn:tag=aaa.bbb.bar\n",
      "        .created = 2019/01/03 23:56:20.901\n",
      "        :base = bar\n",
      "        :depth = 2\n",
      "        :doc = \n",
      "        :title = \n",
      "        :up = aaa.bbb\n",
      "syn:tag=ccc.baz\n",
      "        .created = 2019/01/03 23:56:20.916\n",
      "        :base = baz\n",
      "        :depth = 1\n",
      "        :doc = \n",
      "        :title = \n",
      "        :up = ccc\n",
      "syn:tag=aaa.bar.hurr\n",
      "        .created = 2019/01/03 23:56:20.920\n",
      "        :base = hurr\n",
      "        :depth = 2\n",
      "        :doc = \n",
      "        :title = \n",
      "        :up = aaa.bar\n",
      "syn:tag=baz.woop\n",
      "        .created = 2019/01/03 23:56:20.923\n",
      "        :base = woop\n",
      "        :depth = 1\n",
      "        :doc = \n",
      "        :title = \n",
      "        :up = baz\n",
      "complete. 5 nodes in 35 ms (142/sec).\n"
     ]
    }
   ],
   "source": [
    "# Make some tag nodes:\n",
    "q = '[syn:tag=aaa.foo syn:tag=aaa.bbb.bar syn:tag=ccc.baz syn:tag=aaa.bar.hurr syn:tag=baz.woop]'\n",
    "# Execute query and test\n",
    "podes = await core.eval(q, num=5, cmdr=True)"
   ]
  },
  {
   "cell_type": "code",
   "execution_count": 54,
   "metadata": {
    "hideCode": true
   },
   "outputs": [
    {
     "name": "stdout",
     "output_type": "stream",
     "text": [
      "syn:tag:base*in=(foo,bar,baz)\n"
     ]
    }
   ],
   "source": [
    "# Define and print test query\n",
    "q = 'syn:tag:base*in=(foo,bar,baz)'\n",
    "print(q)\n",
    "# Execute the query and test\n",
    "podes = await core.eval(q, num=5, cmdr=False)"
   ]
  },
  {
   "cell_type": "raw",
   "metadata": {},
   "source": [
    "Lift by Proximity (*near=)\n",
    "++++++++++++++++++++++++++\n",
    "\n",
    "The proximity extended comparator (``*near=``) supports lifting nodes by \"nearness\" to another node based on a specified property type. Currently, ``*near=`` supports proximity based on geospatial location (that is, nodes within a given radius of a specified latitude / longitude).\n",
    "\n",
    "**Syntax:**\n",
    "\n",
    "*<form>* [ **:** *<prop>* ] ***near = ((** *<lat>* **,** *<long>* **),** *<radius>* **)**\n",
    "\n",
    "**Examples:**\n",
    "\n",
    "- Lift locations (``geo:place`` nodes) within 500 meters of the Eiffel Tower:\n"
   ]
  },
  {
   "cell_type": "code",
   "execution_count": 55,
   "metadata": {
    "hideCode": true,
    "hideOutput": true
   },
   "outputs": [
    {
     "name": "stdout",
     "output_type": "stream",
     "text": [
      "cli> storm [geo:place=531665e149b54a8a160961f47faab360 :latlong=\"48.8589878,2.2989958\" :loc=fr.paris :name=\"the american library in paris\"]\n",
      "\n",
      "geo:place=531665e149b54a8a160961f47faab360\n",
      "        .created = 2019/01/03 23:56:20.970\n",
      "        :latlong = 48.8589878,2.2989958\n",
      "        :loc = fr.paris\n",
      "        :name = the american library in paris\n",
      "complete. 1 nodes in 9 ms (111/sec).\n",
      "cli> storm [geo:place=05d499e9aef335cc9d27be5aeed1ccfe :latlong=\"59.9124013,10.63733779\" :loc=no.lysaker :name=\"avast software\"]\n",
      "\n",
      "geo:place=05d499e9aef335cc9d27be5aeed1ccfe\n",
      "        .created = 2019/01/03 23:56:20.991\n",
      "        :latlong = 59.9124013,10.63733779\n",
      "        :loc = no.lysaker\n",
      "        :name = avast software\n",
      "complete. 1 nodes in 9 ms (111/sec).\n"
     ]
    }
   ],
   "source": [
    "# Make some geo:place nodes:\n",
    "q = '[geo:place=531665e149b54a8a160961f47faab360 :latlong=\"48.8589878,2.2989958\" :loc=fr.paris :name=\"the american library in paris\"]'\n",
    "q1 = '[geo:place=05d499e9aef335cc9d27be5aeed1ccfe :latlong=\"59.9124013,10.63733779\" :loc=no.lysaker :name=\"avast software\"]'\n",
    "# Execute query and test\n",
    "podes = await core.eval(q, num=1, cmdr=True)\n",
    "podes = await core.eval(q1, num=1, cmdr=True)"
   ]
  },
  {
   "cell_type": "code",
   "execution_count": 56,
   "metadata": {
    "hideCode": true,
    "scrolled": true
   },
   "outputs": [
    {
     "name": "stdout",
     "output_type": "stream",
     "text": [
      "geo:place:latlong*near=((48.8583701,2.2944813),500m)\n"
     ]
    }
   ],
   "source": [
    "# Define and print test query\n",
    "q = 'geo:place:latlong*near=((48.8583701,2.2944813),500m)'\n",
    "print(q)\n",
    "# Execute the query and test\n",
    "podes = await core.eval(q, num=1, cmdr=False)"
   ]
  },
  {
   "cell_type": "raw",
   "metadata": {},
   "source": [
    "**Usage Notes:**\n",
    "\n",
    "- In the example above, the latitude and longitude of the desired location (i.e., the Eiffel Tower) are explicitly specified as parameters to ``*near=``.\n",
    "- Radius can be specified in the following metric units. Values of less than 1 (e.g., 0.5km) must be specified with a leading zero:\n",
    "  \n",
    "  - Kilometers (km)\n",
    "  - Meters (m)\n",
    "  - Centimeters (cm)\n",
    "  - Millimeters (mm)\n",
    "\n",
    "- The ``*near=`` comparator works for geospatial data by lifting nodes within a square bounding box centered at *<lat>,<long>*, then filters the nodes to be returned by ensuring that they are within the great-circle distance given by the *<radius>* argument.\n",
    "\n",
    "Lift by Tag (#)\n",
    "+++++++++++++++\n",
    "\n",
    "The tag extended comparator (``#``) supports lifting nodes based on a given tag being applied to the node.\n",
    "\n",
    "**Syntax:**\n",
    "\n",
    "[ *<form>* ] **#** *<tag>*\n",
    "\n",
    "**Examples:**\n",
    "\n",
    "*Lift all nodes associated with Tor infrastructure:*\n"
   ]
  },
  {
   "cell_type": "code",
   "execution_count": 57,
   "metadata": {
    "hideCode": true,
    "hideOutput": true
   },
   "outputs": [
    {
     "name": "stdout",
     "output_type": "stream",
     "text": [
      "cli> storm [inet:ipv4=54.38.219.150 inet:ipv4=151.242.192.84 inet:ipv4=217.83.101.150 +#cno.infra.anon.tor]\n",
      "\n",
      "inet:ipv4=54.38.219.150\n",
      "        .created = 2019/01/03 23:56:21.053\n",
      "        :asn = 0\n",
      "        :loc = ??\n",
      "        :type = unicast\n",
      "        #cno.infra.anon.tor\n",
      "inet:ipv4=151.242.192.84\n",
      "        .created = 2019/01/03 23:56:21.057\n",
      "        :asn = 0\n",
      "        :loc = ??\n",
      "        :type = unicast\n",
      "        #cno.infra.anon.tor\n",
      "inet:ipv4=217.83.101.150\n",
      "        .created = 2019/01/03 23:56:21.058\n",
      "        :asn = 0\n",
      "        :loc = ??\n",
      "        :type = unicast\n",
      "        #cno.infra.anon.tor\n",
      "complete. 3 nodes in 15 ms (200/sec).\n"
     ]
    }
   ],
   "source": [
    "# Make some tagged nodes:\n",
    "q = '[inet:ipv4=54.38.219.150 inet:ipv4=151.242.192.84 inet:ipv4=217.83.101.150 +#cno.infra.anon.tor]'\n",
    "# Execute query and test\n",
    "podes = await core.eval(q, num=3, cmdr=True)"
   ]
  },
  {
   "cell_type": "code",
   "execution_count": 58,
   "metadata": {
    "hideCode": true
   },
   "outputs": [
    {
     "name": "stdout",
     "output_type": "stream",
     "text": [
      "#cno.infra.anon.tor\n"
     ]
    }
   ],
   "source": [
    "# Define and print test query\n",
    "q = '#cno.infra.anon.tor'\n",
    "print(q)\n",
    "# Execute the query and test\n",
    "podes = await core.eval(q, num=3, cmdr=False)"
   ]
  },
  {
   "cell_type": "raw",
   "metadata": {},
   "source": [
    "- Lift the domains that Palo Alto Networks says are associated with the OilRig threat group:\n"
   ]
  },
  {
   "cell_type": "code",
   "execution_count": 59,
   "metadata": {
    "hideCode": true,
    "hideOutput": true
   },
   "outputs": [
    {
     "name": "stdout",
     "output_type": "stream",
     "text": [
      "cli> storm [inet:fqdn=adobeproduct.com inet:fqdn=ntupdateserver.com inet:fqdn=fireeyeupdate.com +#aka.paloalto.thr.oilrig]\n",
      "\n",
      "inet:fqdn=adobeproduct.com\n",
      "        .created = 2019/01/03 23:56:21.105\n",
      "        :domain = com\n",
      "        :host = adobeproduct\n",
      "        :issuffix = False\n",
      "        :iszone = True\n",
      "        :zone = adobeproduct.com\n",
      "        #aka.paloalto.thr.oilrig\n",
      "inet:fqdn=ntupdateserver.com\n",
      "        .created = 2019/01/03 23:56:21.111\n",
      "        :domain = com\n",
      "        :host = ntupdateserver\n",
      "        :issuffix = False\n",
      "        :iszone = True\n",
      "        :zone = ntupdateserver.com\n",
      "        #aka.paloalto.thr.oilrig\n",
      "inet:fqdn=fireeyeupdate.com\n",
      "        .created = 2019/01/03 23:56:21.114\n",
      "        :domain = com\n",
      "        :host = fireeyeupdate\n",
      "        :issuffix = False\n",
      "        :iszone = True\n",
      "        :zone = fireeyeupdate.com\n",
      "        #aka.paloalto.thr.oilrig\n",
      "complete. 3 nodes in 24 ms (125/sec).\n"
     ]
    }
   ],
   "source": [
    "# Make some moar tagged nodes:\n",
    "q = '[inet:fqdn=adobeproduct.com inet:fqdn=ntupdateserver.com inet:fqdn=fireeyeupdate.com +#aka.paloalto.thr.oilrig]'\n",
    "# Execute query and test\n",
    "podes = await core.eval(q, num=3, cmdr=True)"
   ]
  },
  {
   "cell_type": "code",
   "execution_count": 61,
   "metadata": {
    "hideCode": true
   },
   "outputs": [
    {
     "name": "stdout",
     "output_type": "stream",
     "text": [
      "inet:fqdn#aka.paloalto.thr.oilrig\n"
     ]
    }
   ],
   "source": [
    "# Define and print test query\n",
    "q = 'inet:fqdn#aka.paloalto.thr.oilrig'\n",
    "print(q)\n",
    "# Execute the query and test\n",
    "podes = await core.eval(q, num=3, cmdr=False)"
   ]
  },
  {
   "cell_type": "raw",
   "metadata": {},
   "source": [
    "Recursive Tag Lift (##)\n",
    "+++++++++++++++++++++++\n",
    "\n",
    "The recursive tag extended comparator (``##``) supports lifting nodes tagged with any tag that is itself tagged with a given tag.\n",
    "\n",
    "Tags can be applied to ``syn:tag`` nodes; that is, tags can be used to tag other tags. The ability to \"tag the tags\" can be used to represent certain types of analytical relationships. For example:\n",
    "\n",
    "- ``syn:tag`` nodes representing threat groups can be tagged to indicate their assessed country of origin.\n",
    "- ``syn:tag`` nodes representing malware or tools can be tagged with their assessed availability (e.g., public, private, private but shared, etc.)\n",
    "\n",
    "A recursive tag lift performs the following actions:\n",
    "\n",
    "1. For the specified tag (``##<sometag>``), lift the nodes that have that tag (i.e., the equivalent of ``#<sometag>``), including any ``syn:tag`` nodes.\n",
    "2. For any lifted ``syn:tag`` nodes, lift all nodes tagged with those tags (including any additional ``syn:tag`` nodes).\n",
    "3. Repeat #2 until no more ``syn:tag`` nodes are lifted.\n",
    "4. Return the tagged nodes. Note that ``syn:tag`` nodes themselves are **not** returned.\n",
    "\n",
    "**Syntax:**\n",
    "\n",
    "**##** *<tag>*\n",
    "\n",
    "**Examples:**\n",
    "\n",
    "- Lift all nodes tagged with any tags (such as threat group tags) that FireEye claims are associated with Russia:\n"
   ]
  },
  {
   "cell_type": "code",
   "execution_count": null,
   "metadata": {
    "hideCode": true,
    "hideOutput": true
   },
   "outputs": [],
   "source": [
    "# Make some moar tagged nodes:\n",
    "q = '[syn:tag=aka.feye.thr.apt28 syn:tag=aka.feye.thr.apt29 syn:tag=aka.feye.thr.veles +#aka.feye.cc.ru]'\n",
    "q1= '[inet:fqdn=scanmalware.info +#aka.feye.thr.apt28]'\n",
    "q2= '[inet:ipv4=87.245.143.140 +#aka.feye.thr.veles]'\n",
    "# Execute query and test\n",
    "podes = await core.eval(q, num=3, cmdr=True)\n",
    "podes = await core.eval(q1, num=1, cmdr=True)\n",
    "podes = await core.eval(q2, num=1, cmdr=True)"
   ]
  },
  {
   "cell_type": "code",
   "execution_count": null,
   "metadata": {
    "hideCode": true
   },
   "outputs": [],
   "source": [
    "# Define and print test query\n",
    "q = '##aka.feye.cc.ru'\n",
    "print(q)\n",
    "# Execute the query and test\n",
    "podes = await core.eval(q, num=2, cmdr=False)"
   ]
  },
  {
   "cell_type": "raw",
   "metadata": {},
   "source": [
    "**Usage Notes:**\n",
    "\n",
    "In the example above, the tag ``aka.feye.cc.ru`` could be applied to ``syn:tag`` nodes representing FireEye’s “Russian” threat groups (e.g., ``aka.feye.thr.apt28``, ``aka.feye.thr.apt29``, etc.) Using a recursive tag lift allows you to easily lift all nodes tagged by **any** of those tags.\n"
   ]
  },
  {
   "cell_type": "code",
   "execution_count": null,
   "metadata": {
    "hideCode": true,
    "hideOutput": true
   },
   "outputs": [],
   "source": [
    "# Close cortex because done\n",
    "await core.fini()"
   ]
  }
 ],
 "metadata": {
  "celltoolbar": "Hide code",
  "kernelspec": {
   "display_name": "Python 3",
   "language": "python",
   "name": "python3"
  },
  "language_info": {
   "codemirror_mode": {
    "name": "ipython",
    "version": 3
   },
   "file_extension": ".py",
   "mimetype": "text/x-python",
   "name": "python",
   "nbconvert_exporter": "python",
   "pygments_lexer": "ipython3",
   "version": "3.7.0"
  }
 },
 "nbformat": 4,
 "nbformat_minor": 2
}
