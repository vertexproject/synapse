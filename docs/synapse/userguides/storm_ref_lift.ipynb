{
 "cells": [
  {
   "cell_type": "code",
   "execution_count": 1,
   "metadata": {
    "hideCode": true
   },
   "outputs": [],
   "source": [
    "import os, sys\n",
    "try:\n",
    "    from synapse.lib.jupyter import *\n",
    "except ImportError as e:\n",
    "    # Insert the root path of the repository to sys.path.\n",
    "    # This assumes the notebook is located three directories away\n",
    "    # From the root synapse directory. It may need to be varied\n",
    "    synroot = os.path.abspath('../../../')\n",
    "    sys.path.insert(0, synroot)\n",
    "    from synapse.lib.jupyter import *"
   ]
  },
  {
   "cell_type": "raw",
   "metadata": {},
   "source": [
    ".. highlight:: none\n",
    "\n",
    ".. _storm-ref-lift:\n",
    "\n",
    "Storm Reference - Lifting\n",
    "=========================\n",
    "\n",
    "Lift operations retrieve a set of nodes from a Synapse Cortex based on specified criteria. While all lift operations are retrieval operations, they can be broken down into “types” of lifts based on the criteria, comparison operator, or special handler used:\n",
    "\n",
    "- `Simple Lifts`_\n",
    "- `Lifts Using Standard Comparison Operators`_\n",
    "- `Lifts Using Extended Comparison Operators`_\n",
    "\n",
    "See :ref:`storm-ref-syntax` for an explanation of the syntax format used below.\n",
    "\n",
    "See :ref:`storm-ref-type-specific` for details on special syntax or handling for specific data types.\n",
    "\n",
    "Simple Lifts\n",
    "------------\n",
    "\n",
    "\"Simple\" lifts refers to the most \"basic\" lift operations. That is, operations to retrieve a set of nodes based on:\n",
    "\n",
    "- The presence of a specific primary or secondary property.\n",
    "- The presence of a specific primary property value or secondary property value.\n",
    "- The presence of a specific tag.\n",
    "\n",
    "The only difference between \"simple\" lifts and \"lifts using comparison operators\" is that we have defined simple lifts as those that use the equals ( ``=`` ) comparator, which is the easiest comparator to use to explain basic lift concepts.\n",
    "\n",
    "**Syntax:**\n",
    "\n",
    "*<form>* | *<form>* **=** *<valu>* | *<valu>* | *<prop>* | *<prop>* **=** *<pval>* | **#** *<tag>*\n",
    "\n",
    "**Examples:**\n",
    "\n",
    "*Lift by primary property (<form>):*\n",
    "\n",
    "- Lift all domain nodes:"
   ]
  },
  {
   "cell_type": "code",
   "execution_count": 2,
   "metadata": {
    "hideCode": true,
    "hideOutput": true
   },
   "outputs": [],
   "source": [
    "core = await getTempCoreCmdr()\n",
    "q = '[inet:fqdn=woot.com inet:fqdn=vertex.link inet:fqdn=google.com]'\n",
    "podes = await core.eval(q, num=3, cmdr=False)\n"
   ]
  },
  {
   "cell_type": "code",
   "execution_count": 3,
   "metadata": {
    "hideCode": true,
    "hideOutput": false
   },
   "outputs": [
    {
     "name": "stdout",
     "output_type": "stream",
     "text": [
      "inet:fqdn\n"
     ]
    }
   ],
   "source": [
    "# Use previous temp cortex, define and print test query\n",
    "q = 'inet:fqdn'\n",
    "print(q)\n",
    "# Execute the query to test it and get the packed nodes (podes).\n",
    "podes = await core.eval(q, num=5, cmdr=False)"
   ]
  },
  {
   "cell_type": "raw",
   "metadata": {},
   "source": [
    "\n",
    "- Lift all mutex nodes:"
   ]
  },
  {
   "cell_type": "code",
   "execution_count": 4,
   "metadata": {
    "hideCode": true,
    "hideOutput": true
   },
   "outputs": [
    {
     "name": "stdout",
     "output_type": "stream",
     "text": [
      "cli> storm [it:dev:mutex=\"!@ADS@#$\" it:dev:mutex=\"***MUTEX***\" it:dev:mutex=\"***MUTEX***_SAIR\"]\n",
      "\n",
      "it:dev:mutex=!@ADS@#$\n",
      "        .created = 2019/03/12 17:15:54.059\n",
      "it:dev:mutex=***MUTEX***\n",
      "        .created = 2019/03/12 17:15:54.060\n",
      "it:dev:mutex=***MUTEX***_SAIR\n",
      "        .created = 2019/03/12 17:15:54.061\n",
      "complete. 3 nodes in 6 ms (500/sec).\n"
     ]
    }
   ],
   "source": [
    "# Make some mutexes\n",
    "q = '[it:dev:mutex=\"!@ADS@#$\" it:dev:mutex=\"***MUTEX***\" it:dev:mutex=\"***MUTEX***_SAIR\"]'\n",
    "# Run the query and test\n",
    "podes = await core.eval(q, num=3, cmdr=True)"
   ]
  },
  {
   "cell_type": "code",
   "execution_count": 5,
   "metadata": {
    "hideCode": true
   },
   "outputs": [
    {
     "name": "stdout",
     "output_type": "stream",
     "text": [
      "it:dev:mutex\n"
     ]
    }
   ],
   "source": [
    "# Define and print test query\n",
    "q = 'it:dev:mutex'\n",
    "print(q)\n",
    "# Execute the query and test\n",
    "podes = await core.eval(q, num=3, cmdr=False)"
   ]
  },
  {
   "cell_type": "raw",
   "metadata": {},
   "source": [
    "\n",
    "*Lift a specific node (<form> = <valu>):*\n",
    "\n",
    "- Lift the node for the domain ``google.com``:"
   ]
  },
  {
   "cell_type": "code",
   "execution_count": null,
   "metadata": {
    "hideCode": true
   },
   "outputs": [],
   "source": [
    "# Define and print test query\n",
    "q = 'inet:fqdn = google.com'\n",
    "print(q)\n",
    "# Execute the query and test\n",
    "podes = await core.eval(q, num=1, cmdr=False)"
   ]
  },
  {
   "cell_type": "raw",
   "metadata": {},
   "source": [
    "\n",
    "- Lift the node for a specific MD5 hash:"
   ]
  },
  {
   "cell_type": "code",
   "execution_count": null,
   "metadata": {
    "hideCode": true,
    "hideOutput": true
   },
   "outputs": [],
   "source": [
    "# Make a hash\n",
    "q = '[hash:md5=d41d8cd98f00b204e9800998ecf8427e]'\n",
    "# Run query and test\n",
    "podes = await core.eval(q, num=1, cmdr=True)"
   ]
  },
  {
   "cell_type": "code",
   "execution_count": null,
   "metadata": {
    "hideCode": true
   },
   "outputs": [],
   "source": [
    "# Define and print test query\n",
    "q = 'hash:md5 = d41d8cd98f00b204e9800998ecf8427e'\n",
    "print(q)\n",
    "# Execute the query and test\n",
    "podes = await core.eval(q, num=1, cmdr=False)"
   ]
  },
  {
   "cell_type": "raw",
   "metadata": {},
   "source": [
    "\n",
    "*Lift a specific compound node:*\n",
    "\n",
    "- Lift the DNS A record showing that domain ``woot.com`` resolved to IP ``1.2.3.4``:"
   ]
  },
  {
   "cell_type": "code",
   "execution_count": null,
   "metadata": {
    "hideCode": true,
    "hideOutput": true
   },
   "outputs": [],
   "source": [
    "# Make a DNS A node:\n",
    "q = '[ inet:dns:a=(woot.com,1.2.3.4)]'\n",
    "# Execute query and test\n",
    "podes = await core.eval(q, num=1, cmdr=True)"
   ]
  },
  {
   "cell_type": "code",
   "execution_count": null,
   "metadata": {
    "hideCode": true
   },
   "outputs": [],
   "source": [
    "# Define and print test query\n",
    "q = 'inet:dns:a = (woot.com, 1.2.3.4)'\n",
    "print(q)\n",
    "# Execute the query and test\n",
    "podes = await core.eval(q, num=1, cmdr=False)"
   ]
  },
  {
   "cell_type": "raw",
   "metadata": {},
   "source": [
    "\n",
    "*Lift a specific GUID node:*\n",
    "\n",
    "* Lift the organization node with the specified GUID:"
   ]
  },
  {
   "cell_type": "code",
   "execution_count": null,
   "metadata": {
    "hideCode": true,
    "hideOutput": true
   },
   "outputs": [],
   "source": [
    "# Make an org node:\n",
    "q = '[ou:org=2f92bc913918f6598bcf310972ebf32e :alias=vertex :name=\"the vertex project llc\" :url=http://www.vertex.link :loc=us]'\n",
    "# Execute query and test\n",
    "podes = await core.eval(q, num=1, cmdr=True)"
   ]
  },
  {
   "cell_type": "code",
   "execution_count": null,
   "metadata": {
    "hideCode": true
   },
   "outputs": [],
   "source": [
    "# Define and print test query\n",
    "q = 'ou:org=2f92bc913918f6598bcf310972ebf32e'\n",
    "print(q)\n",
    "# Execute the query and test\n",
    "podes = await core.eval(q, num=1, cmdr=False)"
   ]
  },
  {
   "cell_type": "raw",
   "metadata": {},
   "source": [
    "\n",
    "*Lift a specific digraph (edge) node:*\n",
    "\n",
    "- Lift the ``edge:has`` node linking the person node representing \"Bob Smith\" to his email address:"
   ]
  },
  {
   "cell_type": "code",
   "execution_count": null,
   "metadata": {
    "hideCode": true,
    "hideOutput": true
   },
   "outputs": [],
   "source": [
    "# Make an edge:has node:\n",
    "q = '[edge:has=((ps:person,12af06294ddf1a0ac8d6da34e1dabee4),(inet:email, bob.smith@gmail.com))]'\n",
    "# Execute query and test\n",
    "podes = await core.eval(q, num=1, cmdr=True)"
   ]
  },
  {
   "cell_type": "code",
   "execution_count": null,
   "metadata": {
    "hideCode": true
   },
   "outputs": [],
   "source": [
    "# Define and print test query\n",
    "q = 'edge:has=((ps:person,12af06294ddf1a0ac8d6da34e1dabee4),(inet:email, bob.smith@gmail.com))'\n",
    "print(q)\n",
    "# Execute the query and test\n",
    "podes = await core.eval(q, num=1, cmdr=False)"
   ]
  },
  {
   "cell_type": "raw",
   "metadata": {},
   "source": [
    "\n",
    "*Lift by the presence of a secondaray property (<prop>):*\n",
    "\n",
    "- Lift the DNS SOA record nodes that have an email property:"
   ]
  },
  {
   "cell_type": "code",
   "execution_count": null,
   "metadata": {
    "hideCode": true,
    "hideOutput": true
   },
   "outputs": [],
   "source": [
    "# Make some SOA nodes:\n",
    "q = '[inet:dns:soa=f511705bb7ba9147b5d1b2058309a53e :email=18929733163@189.cn :fqdn=linvpn11.com]'\n",
    "q2 = '[inet:dns:soa=6b3bb9decf6f1593476b10937d4783db :ns=ns1.vpntunnel.se :fqdn=vpntunnel.se]'\n",
    "# Execute query and test\n",
    "podes = await core.eval(q, num=1, cmdr=True)\n",
    "podes = await core.eval(q2, num=1, cmdr=True)"
   ]
  },
  {
   "cell_type": "code",
   "execution_count": null,
   "metadata": {
    "hideCode": true
   },
   "outputs": [],
   "source": [
    "# Define and print test query\n",
    "q = 'inet:dns:soa:email'\n",
    "print(q)\n",
    "# Execute the query and test\n",
    "podes = await core.eval(q, num=1, cmdr=False)"
   ]
  },
  {
   "cell_type": "raw",
   "metadata": {},
   "source": [
    "\n",
    "*Lift by a specific property value (<prop> = <pval>):*\n",
    "\n",
    "- Lift the organization node with the alias ``vertex``:"
   ]
  },
  {
   "cell_type": "code",
   "execution_count": null,
   "metadata": {
    "hideCode": true
   },
   "outputs": [],
   "source": [
    "# Define and print test query\n",
    "q = 'ou:org:alias = vertex'\n",
    "print(q)\n",
    "# Execute the query and test\n",
    "podes = await core.eval(q, num=1, cmdr=False)"
   ]
  },
  {
   "cell_type": "raw",
   "metadata": {},
   "source": [
    "\n",
    "- Lift all DNS A records for the domain ``blackcake.net``:"
   ]
  },
  {
   "cell_type": "code",
   "execution_count": null,
   "metadata": {
    "hideCode": true,
    "hideOutput": true
   },
   "outputs": [],
   "source": [
    "# Make some DNS A nodes:\n",
    "q = '[inet:dns:a=(blackcake.net,52.4.209.250) inet:dns:a=(blackcake.net,67.215.66.149) inet:dns:a=(blackcake.net,0.0.0.0)]'\n",
    "# Execute query and test\n",
    "podes = await core.eval(q, num=3, cmdr=True)"
   ]
  },
  {
   "cell_type": "code",
   "execution_count": null,
   "metadata": {
    "hideCode": true
   },
   "outputs": [],
   "source": [
    "# Define and print test query\n",
    "q = 'inet:dns:a:fqdn = blackcake.net'\n",
    "print(q)\n",
    "# Execute the query and test\n",
    "podes = await core.eval(q, num=3, cmdr=False)"
   ]
  },
  {
   "cell_type": "raw",
   "metadata": {},
   "source": [
    "\n",
    "- Lift all the files with a PE compiled time of ``1992-06-19 22:22:17``:"
   ]
  },
  {
   "cell_type": "code",
   "execution_count": null,
   "metadata": {
    "hideCode": true,
    "hideOutput": true
   },
   "outputs": [],
   "source": [
    "# Make some file nodes:\n",
    "q = '[file:bytes=sha256:e4f8ce133d5c42e6c3adc09c120c2ec483a57e6839c6d9ee39e0b294102b867f :mime:pe:compiled=19920619222217]'\n",
    "q2 = '[file:bytes=sha256:a2dc8c1327a184013f1e188258813776e052ac7a68c96c058a723cac28c97bdd :mime:pe:compiled=19920619222217]'\n",
    "q3 = '[file:bytes=sha256:6119c92f5b5cb2cd953925e17ceb4a02a9007029dd27a35d44b116ff9718f814 :mime:pe:compiled=19700101032545]'\n",
    "# Execute query and test\n",
    "podes = await core.eval(q, num=1, cmdr=True)\n",
    "podes = await core.eval(q2, num=1, cmdr=True)\n",
    "podes = await core.eval(q3, num=1, cmdr=True)"
   ]
  },
  {
   "cell_type": "code",
   "execution_count": null,
   "metadata": {
    "hideCode": true
   },
   "outputs": [],
   "source": [
    "# Define and print test query\n",
    "q = 'file:bytes:mime:pe:compiled = \"1992/06/19 22:22:17\"'\n",
    "print(q)\n",
    "# Execute the query and test\n",
    "podes = await core.eval(q, num=2, cmdr=False)"
   ]
  },
  {
   "cell_type": "raw",
   "metadata": {},
   "source": [
    "\n",
    "*Lift all nodes with a specific tag:*"
   ]
  },
  {
   "cell_type": "code",
   "execution_count": null,
   "metadata": {
    "hideCode": true,
    "hideOutput": true
   },
   "outputs": [],
   "source": [
    "# Make some tagged nodes:\n",
    "q = '[inet:ipv4=54.38.219.150 inet:ipv4=151.242.192.84 inet:ipv4=217.83.101.150 +#cno.infra.anon.tor]'\n",
    "# Execute query and test\n",
    "podes = await core.eval(q, num=3, cmdr=True)"
   ]
  },
  {
   "cell_type": "code",
   "execution_count": null,
   "metadata": {
    "hideCode": true
   },
   "outputs": [],
   "source": [
    "# Define and print test query\n",
    "q = '#cno.infra.anon.tor'\n",
    "print(q)\n",
    "# Execute the query and test\n",
    "podes = await core.eval(q, num=3, cmdr=False)"
   ]
  },
  {
   "cell_type": "raw",
   "metadata": {},
   "source": [
    "**Usage Notes:**\n",
    "\n",
    "- Lifting nodes by form alone (e.g., lifting all ``inet:fqdn`` nodes or all ``inet:email`` nodes) is possible but generally impractical / undesirable as it will potentially return an extremely large data set.\n",
    "- Because of the risk of accidentally lifting all nodes of a given form, the Storm query planner will automatically optimize lifts that:\n",
    "  \n",
    "  - specify a form with no value (e.g., attempt to lift by form alone); and\n",
    "  - are immediately followed by a positive tag filter (``+#sometag``).\n",
    "  \n",
    "  - For example, the following queries are executed in the same manner by the Storm runtime:\n",
    "    \n",
    "    - Lift followed by tag filter: ``inet:fqdn +#hehe.haha``\n",
    "    - Lift by tag (described below): ``inet:fqdn#hehe.haha``\n",
    "\n",
    "- Lifting by form alone when piped to the Storm :ref:`storm-limit` command may be useful for returning a small number of “exemplar” nodes.\n",
    "- Lifting nodes by ``<form> = <valu>`` is the most common method of lifting a single node.\n",
    "- When lifting a form whose ``<valu>`` consists of multiple components (e.g., a compound node or digraph node), the components must be passed as a comma-separated list enclosed in parentheses.\n",
    "- Lifting nodes by the presence of a secondary property alone (``<prop>``) may be impractical / undesirable (similar to lifting by form alone), but may be feasible in limited cases (i.e., where it is known that only a relatively small number of nodes have a given secondary property).\n",
    "- Lifting nodes by the value of a secondary property (``<prop> = <pval>``) is useful for lifting all nodes that share a secondary property with the same value; and may be used to lift individual nodes with unique or relatively unique secondary properties in cases where entering the primary property is impractical (such as for GUID nodes).\n",
    "- Lifting nodes by tag alone (``#<tag>``) lifts nodes of **all** forms with that tag. To lift specific forms only, use `Lift by Tag (#)`_ or an additional filter (see :ref:`storm-ref-filter`)."
   ]
  },
  {
   "cell_type": "code",
   "execution_count": null,
   "metadata": {
    "hideCode": true,
    "hideOutput": true
   },
   "outputs": [],
   "source": [
    "# Close cortex for next section\n",
    "_ = await core.fini()"
   ]
  },
  {
   "cell_type": "raw",
   "metadata": {},
   "source": [
    "Lifts Using Standard Comparison Operators\n",
    "-----------------------------------------\n",
    "\n",
    "Lift operations can be performed using most of the standard mathematical / logical comparison operators (comparators), as well as lifting via regular expression:\n",
    "\n",
    "- ``=`` : equals (described above)\n",
    "- ``<`` : less than\n",
    "- ``>`` : greater than\n",
    "- ``<=`` : less than or equal to\n",
    "- ``>=`` : greater than or equal to\n",
    "\n",
    "Lifting by “not equal to” (``!=``) is not currently supported.\n",
    "\n",
    "**Syntax:**\n",
    "\n",
    "*<prop>* *<comparator>* *<pval>*\n",
    "\n",
    "**Examples:**\n",
    "\n",
    "*Lift using less than comparator:*\n",
    "\n",
    "- Lift domain WHOIS records where the domain's registration (created) date was before June 1, 2014:"
   ]
  },
  {
   "cell_type": "code",
   "execution_count": null,
   "metadata": {
    "hideCode": true,
    "hideOutput": true
   },
   "outputs": [],
   "source": [
    "# Get a newtemp cortex to start fresh and preload some WHOIS records into it.\n",
    "core = await getTempCoreCmdr()\n",
    "q = '[inet:whois:rec=(vicp.hk,\"2007/12/20 00:00:00.000\") :created = \"2013/01/26 00:00:00.000\" :registrant = \"shanghai beiruixinxijishu\" :text = \"domain name: vicp.hk\"]'\n",
    "q2 = '[inet:whois:rec=(lkqd.net,\"2018/05/30 09:24:19.000\") :created = \"2014/06/01 21:05:25.000\" :registrar = godaddy :text = \"domain name: lkqd.net\"]'\n",
    "# Run the query via the CLI, rips out the nodes, makes sure we got 3 nodes on the output :)\n",
    "podes = await core.eval(q, num=1, cmdr=True)\n",
    "podes = await core.eval(q2, num=1, cmdr=True)\n",
    "# print(f'I got {len(podes)} podes!')\n",
    "# This runs the query directly, no CLI output\n",
    "# newpodes = await core.eval(q, num=4, cmdr=False)\n",
    "# print(f'I got {len(newpodes)} podes the second time!!')\n",
    "# await core.fini()"
   ]
  },
  {
   "cell_type": "code",
   "execution_count": null,
   "metadata": {
    "hideCode": true
   },
   "outputs": [],
   "source": [
    "# Define and print test query\n",
    "q = 'inet:whois:rec:created < 2014/06/01'\n",
    "print(q)\n",
    "# Execute the query and test\n",
    "podes = await core.eval(q, num=1, cmdr=False)"
   ]
  },
  {
   "cell_type": "raw",
   "metadata": {},
   "source": [
    "\n",
    "*Lift using greater than comparator:*\n",
    "\n",
    "- Lift files whose size is larger than 1MB:"
   ]
  },
  {
   "cell_type": "code",
   "execution_count": null,
   "metadata": {
    "hideCode": true,
    "hideOutput": true
   },
   "outputs": [],
   "source": [
    "# Make some files:\n",
    "q = '[file:bytes=sha256:14c2e63dced9ca20e368e056644a6b56f5678b2d3824945563e57255e85135a3 :size=1048592]'\n",
    "q2 = '[file:bytes=sha256:8146e9d7fe580ebc04331af87fba7cb344094c0a60482f420b566f2df2a22229 :size=1048592]'\n",
    "q3 = '[file:bytes=sha256:e3b0c44298fc1c149afbf4c8996fb92427ae41e4649b934ca495991b7852b855 :size=0]'\n",
    "q4 = '[file:bytes=sha256:36a9e7f1c95b82ffb99743e0c5c4ce95d83c9a430aac59f84ef3cbfab6145068 :size=1]'\n",
    "# Execute query and test\n",
    "podes = await core.eval(q, num=1, cmdr=True)\n",
    "podes = await core.eval(q2, num=1, cmdr=True)\n",
    "podes = await core.eval(q3, num=1, cmdr=True)\n",
    "podes = await core.eval(q4, num=1, cmdr=True)"
   ]
  },
  {
   "cell_type": "code",
   "execution_count": null,
   "metadata": {
    "hideCode": true
   },
   "outputs": [],
   "source": [
    "# Define and print test query\n",
    "q = 'file:bytes:size > 1048576'\n",
    "print(q)\n",
    "# Execute the query and test\n",
    "podes = await core.eval(q, num=2, cmdr=False)"
   ]
  },
  {
   "cell_type": "raw",
   "metadata": {},
   "source": [
    "\n",
    "*Lift using less than or equal to comparator:*\n",
    "\n",
    "- Lift people (person nodes) born on or before January 1, 1980:"
   ]
  },
  {
   "cell_type": "code",
   "execution_count": null,
   "metadata": {
    "hideCode": true,
    "hideOutput": true
   },
   "outputs": [],
   "source": [
    "# Make some people:\n",
    "q = '[ps:person=\"*\" :dob=1974/05/14]'\n",
    "q2 = '[ps:person=\"*\" :dob=1982/04/27]'\n",
    "# Execute query and test\n",
    "podes = await core.eval(q, num=1, cmdr=True)\n",
    "podes = await core.eval(q2, num=1, cmdr=True)"
   ]
  },
  {
   "cell_type": "code",
   "execution_count": null,
   "metadata": {
    "hideCode": true
   },
   "outputs": [],
   "source": [
    "# Define and print test query\n",
    "q = 'ps:person:dob <= 1980/01/01'\n",
    "print(q)\n",
    "# Execute the query and test\n",
    "podes = await core.eval(q, num=1, cmdr=False)"
   ]
  },
  {
   "cell_type": "raw",
   "metadata": {},
   "source": [
    "\n",
    "*Lift using greater than or equal to comparator:*\n",
    "\n",
    "- Lift WHOIS records retrieved on or after December 1, 2018 at 12:00:"
   ]
  },
  {
   "cell_type": "code",
   "execution_count": null,
   "metadata": {
    "hideCode": true,
    "hideOutput": true
   },
   "outputs": [],
   "source": [
    "# Make some WHOIS records:\n",
    "q = '[inet:whois:rec=(showustime.com, 2018/12/02) inet:whois:rec=(videosync.info,2018/12/02) inet:whois:rec=(earthsolution.org,1999/11/29)]'\n",
    "# Execute query and test\n",
    "podes = await core.eval(q, num=3, cmdr=True)"
   ]
  },
  {
   "cell_type": "code",
   "execution_count": null,
   "metadata": {
    "hideCode": true
   },
   "outputs": [],
   "source": [
    "# Define and print test query\n",
    "q = 'inet:whois:rec:asof >= \"2018/12/01 12:00\"'\n",
    "print(q)\n",
    "# Execute the query and test\n",
    "podes = await core.eval(q, num=2, cmdr=False)"
   ]
  },
  {
   "cell_type": "code",
   "execution_count": null,
   "metadata": {
    "hideCode": true,
    "hideOutput": true
   },
   "outputs": [],
   "source": [
    "# Close cortex for next section\n",
    "await core.fini()"
   ]
  },
  {
   "cell_type": "code",
   "execution_count": null,
   "metadata": {
    "hideCode": true
   },
   "outputs": [],
   "source": [
    "import os, sys\n",
    "try:\n",
    "    from synapse.lib.jupyter import *\n",
    "except ImportError as e:\n",
    "    # Insert the root path of the repository to sys.path.\n",
    "    # This assumes the notebook is located three directories away\n",
    "    # From the root synapse directory. It may need to be varied\n",
    "    synroot = os.path.abspath('../../../')\n",
    "    sys.path.insert(0, synroot)\n",
    "    from synapse.lib.jupyter import *"
   ]
  },
  {
   "cell_type": "raw",
   "metadata": {},
   "source": [
    "Lifts Using Extended Comparison Operators\n",
    "-----------------------------------------\n",
    "\n",
    "Storm supports a set of extended comparison operators (comparators) for specialized lift operations. In most cases, the same extended comparators are available for both lifting and filtering:\n",
    "\n",
    "- `Lift by Regular Expression (~=)`_\n",
    "- `Lift by Prefix (^=)`_\n",
    "- `Lift by Range (*range=)`_\n",
    "- `Lift by Set Membership (*in=)`_\n",
    "- `Lift by Proximity (*near=)`_\n",
    "- `Lift by Tag (#)`_\n",
    "- `Recursive Tag Lift (##)`_\n",
    "\n",
    "\n",
    "Lift by Regular Expression (~=)\n",
    "+++++++++++++++++++++++++++++++\n",
    "\n",
    "The extended comparator ``~=`` is used to lift nodes based on standard regular expressions.\n",
    "\n",
    ".. WARNING::\n",
    "  While lifting using regular expressions is possible, matching is performed via brute force comparison of the relevant properties. Lifting by regex may thus be time consuming when lifting over large data sets. `Lift by Prefix (^=)`_ is supported for string types and should be considered as a more efficient alternative when possible.\n",
    "\n",
    "**Syntax:**\n",
    "\n",
    "*<prop>* **~=** *<regex>*\n",
    "\n",
    "**Example:**\n",
    "\n",
    "- Lift files with PDB paths containing the string ``rouji``:"
   ]
  },
  {
   "cell_type": "code",
   "execution_count": null,
   "metadata": {
    "hideCode": true,
    "hideOutput": true
   },
   "outputs": [],
   "source": [
    "# Get a newtemp cortex to start fresh.\n",
    "core = await getTempCoreCmdr()\n",
    "# Make some files:\n",
    "q = '[file:bytes=sha256:cebb47280cd00814e1c085c5bc3fbac0e9f91168999091f199a1b1d209edd814 :mime:pe:pdbpath=\"d:/my documents/visual studio projects/rouji/svcmain.pdb\"]'\n",
    "q2 = '[file:bytes=sha256:56d9ed457136c85fba55cdd5ee3b7c21cb25ce0b1d7053d397cf4756fa7a422f :mime:pe:pdbpath=\"c:/users/milad/desktop/end crypter vb.net/tekide/obj/debug/tekide.pdb\"]'\n",
    "# Execute query and test\n",
    "podes = await core.eval(q, num=1, cmdr=True)\n",
    "podes = await core.eval(q2, num=1, cmdr=True)"
   ]
  },
  {
   "cell_type": "code",
   "execution_count": null,
   "metadata": {
    "hideCode": true
   },
   "outputs": [],
   "source": [
    "# Define and print test query\n",
    "q = 'file:bytes:mime:pe:pdbpath ~= \"rouji\"'\n",
    "print(q)\n",
    "# Execute the query and test\n",
    "podes = await core.eval(q, num=1, cmdr=False)"
   ]
  },
  {
   "cell_type": "raw",
   "metadata": {},
   "source": [
    "Lift by Prefix (^=)\n",
    "+++++++++++++++++++\n",
    "\n",
    "Synapse performs prefix indexing on string types, which optimizes lifting nodes whose *<valu>* or *<pval>* starts with a given prefix. This improves performance by avoiding regex brute-forcing.  The extended comparator ``^=`` is used to lift nodes by prefix.\n",
    "\n",
    "**Syntax:**\n",
    "\n",
    "*<form>* [  **:** *<prop>* ] **^=** *<prefix>*\n",
    "\n",
    "**Examples:**\n",
    "\n",
    "*Lift primary property by prefix:*\n",
    "\n",
    "- Lift all usernames that start with \"pinky\":\n"
   ]
  },
  {
   "cell_type": "code",
   "execution_count": null,
   "metadata": {
    "hideCode": true,
    "hideOutput": true
   },
   "outputs": [],
   "source": [
    "# Make some users:\n",
    "q = '[inet:user=pinky inet:user=pinkyboo inet:user=pinkybrain inet:user=pinkydinky]'\n",
    "# Execute query and test\n",
    "podes = await core.eval(q, num=4, cmdr=True)"
   ]
  },
  {
   "cell_type": "code",
   "execution_count": null,
   "metadata": {
    "hideCode": true
   },
   "outputs": [],
   "source": [
    "# Define and print test query\n",
    "q = 'inet:user^=pinky'\n",
    "print(q)\n",
    "# Execute the query and test\n",
    "podes = await core.eval(q, num=4, cmdr=False)"
   ]
  },
  {
   "cell_type": "raw",
   "metadata": {},
   "source": [
    "*Lift secondary property by prefix:*\n",
    "\n",
    "- Lift all organizations whose name starts with \"International\":\n"
   ]
  },
  {
   "cell_type": "code",
   "execution_count": null,
   "metadata": {
    "hideCode": true,
    "hideOutput": true
   },
   "outputs": [],
   "source": [
    "# Make some orgs:\n",
    "q = '[ou:org=\"*\" :name=\"International House of Pancakes\"]'\n",
    "q1 = '[ou:org=\"*\" :name=\"International Society of Funny Walks\"]'\n",
    "q2 = '[ou:org=\"*\" :name=\"Interrogators Anonymous\"]'\n",
    "# Execute query and test\n",
    "podes = await core.eval(q, num=1, cmdr=True)\n",
    "podes = await core.eval(q1, num=1, cmdr=True)\n",
    "podes = await core.eval(q2, num=1, cmdr=True)"
   ]
  },
  {
   "cell_type": "code",
   "execution_count": null,
   "metadata": {
    "hideCode": true
   },
   "outputs": [],
   "source": [
    "# Define and print test query\n",
    "q = 'ou:org:name^=international'\n",
    "print(q)\n",
    "# Execute the query and test\n",
    "podes = await core.eval(q, num=2, cmdr=False)"
   ]
  },
  {
   "cell_type": "raw",
   "metadata": {},
   "source": [
    "**Usage Notes:**\n",
    "\n",
    "- Extended string types that support dotted notation (such as the ``loc`` or ``syn:tag`` types) have custom behaviors with respect to lifting and filtering by prefix. See the respective sections in :ref:`storm-ref-type-specific` for additional details.\n",
    "\n",
    "Lift by Range (\\*range=)\n",
    "++++++++++++++++++++++++\n",
    "\n",
    "The range extended comparator (``*range=``) supports lifting nodes whose *<form>* = *<valu>* or *<prop>* = *<pval>* fall within a specified range of values. The comparator can be used with types such as integers and times (including types that are extensions of those types, such as IP addresses).\n",
    "\n",
    "**Syntax:**\n",
    "\n",
    "*<form>* [ **:** *<prop>* ] ***range = (** *<range_min>* **,** *<range_max>* **)**\n",
    "\n",
    "**Examples:**\n",
    "\n",
    "*Lift by primary property in range:*\n",
    "\n",
    "- Lift all IP addresses between 192.168.0.0 and 192.168.0.10:\n"
   ]
  },
  {
   "cell_type": "code",
   "execution_count": null,
   "metadata": {
    "hideCode": true,
    "hideOutput": true
   },
   "outputs": [],
   "source": [
    "# Make some nodes:\n",
    "q = '[inet:ipv4=192.168.0.0/24]'\n",
    "# Execute query and test\n",
    "podes = await core.eval(q, num=256, cmdr=False)"
   ]
  },
  {
   "cell_type": "code",
   "execution_count": null,
   "metadata": {
    "hideCode": true
   },
   "outputs": [],
   "source": [
    "# Define and print test query\n",
    "q = 'inet:ipv4*range=(192.168.0.0, 192.168.0.10)'\n",
    "print(q)\n",
    "# Execute the query and test\n",
    "podes = await core.eval(q, num=11, cmdr=False)"
   ]
  },
  {
   "cell_type": "raw",
   "metadata": {},
   "source": [
    "*Lift by secondary property in range:*\n",
    "\n",
    "- Lift files whose size is between 1000 and 100000 bytes:\n"
   ]
  },
  {
   "cell_type": "code",
   "execution_count": null,
   "metadata": {
    "hideCode": true,
    "hideOutput": true
   },
   "outputs": [],
   "source": [
    "# Make some files:\n",
    "q = '[file:bytes=sha256:e3b0c44298fc1c149afbf4c8996fb92427ae41e4649b934ca495991b7852b855 :size=0]'\n",
    "q1 = '[file:bytes=sha256:929c3316a91c62170e545986274dc6a36e6560ca5bf85a98e96662a5a3c5edb0 :size=1001]'\n",
    "q2 = '[file:bytes=sha256:e7db39923c5244bfc96af4593794f8e85eb4b68da4f80c7b67cc887aa1ea4713 :size=5000]'\n",
    "q3 = '[file:bytes=sha256:e708cd312b2b87c6ecc62fe2d33071380a90e60f6f98cf37f1e178127d2c3241 :size=100002]'\n",
    "# Execute query and test\n",
    "podes = await core.eval(q, num=1, cmdr=True)\n",
    "podes = await core.eval(q1, num=1, cmdr=True)\n",
    "podes = await core.eval(q2, num=1, cmdr=True)\n",
    "podes = await core.eval(q3, num=1, cmdr=True)"
   ]
  },
  {
   "cell_type": "code",
   "execution_count": null,
   "metadata": {
    "hideCode": true
   },
   "outputs": [],
   "source": [
    "# Define and print test query\n",
    "q = 'file:bytes:size*range=(1000,100000)'\n",
    "print(q)\n",
    "# Execute the query and test\n",
    "podes = await core.eval(q, num=2, cmdr=False)"
   ]
  },
  {
   "cell_type": "raw",
   "metadata": {},
   "source": [
    "- Lift WHOIS records that were captured between November 29, 2013 and June 14, 2016:\n"
   ]
  },
  {
   "cell_type": "code",
   "execution_count": null,
   "metadata": {
    "hideCode": true,
    "hideOutput": true
   },
   "outputs": [],
   "source": [
    "# Make some WHOIS records:\n",
    "q = '[inet:whois:rec=(pe75.com,2013/11/29) :text=\"domain name: pe75.com\"]'\n",
    "q1 = '[inet:whois:rec=(youipcam.com,2013/11/29) :text=\"domain name: youipcam.com\"]'\n",
    "q2 = '[inet:whois:rec=(17ti.net,2016/01/01) :text=\"domain name: 17ti.net\"]'\n",
    "q3 = '[inet:whois:rec=(africawebcast.com,1999/11/19) :text=\"domain name: africawebcast.com\"]'\n",
    "q4 = '[inet:whois:rec=(teads.tv,2017/03/02) :text=\"domain name: teads.tv\"]'\n",
    "# Execute query and test\n",
    "podes = await core.eval(q, num=1, cmdr=True)\n",
    "podes = await core.eval(q1, num=1, cmdr=True)\n",
    "podes = await core.eval(q2, num=1, cmdr=True)\n",
    "podes = await core.eval(q3, num=1, cmdr=True)\n",
    "podes = await core.eval(q4, num=1, cmdr=True)"
   ]
  },
  {
   "cell_type": "code",
   "execution_count": null,
   "metadata": {
    "hideCode": true
   },
   "outputs": [],
   "source": [
    "# Define and print test query\n",
    "q = 'inet:whois:rec:asof*range=(2013/11/29, 2016/06/14)'\n",
    "print(q)\n",
    "# Execute the query and test\n",
    "podes = await core.eval(q, num=3, cmdr=False)"
   ]
  },
  {
   "cell_type": "raw",
   "metadata": {},
   "source": [
    "- Lift DNS requests made within one day of 12/01/2018:"
   ]
  },
  {
   "cell_type": "code",
   "execution_count": null,
   "metadata": {
    "hideCode": true,
    "hideOutput": true
   },
   "outputs": [],
   "source": [
    "# Make some DNS requests:\n",
    "q = '[inet:dns:request=\"*\" :query=(tcp://8.8.8.8, woot.com, 1) :time=\"2018/12/01 00:00:00\"]'\n",
    "q1 = '[inet:dns:request=\"*\" :query=(tcp://8.8.8.8, woot.com, 1) :time=\"2018/11/30 00:00:00\"]'\n",
    "q2 = '[inet:dns:request=\"*\" :query=(tcp://8.8.8.8, woot.com, 1) :time=\"2018/12/01 23:59:59\"]'\n",
    "q3 = '[inet:dns:request=\"*\" :query=(tcp://8.8.8.8, woot.com, 1) :time=\"2018/12/02 00:01:00\"]'\n",
    "q4 = '[inet:dns:request=\"*\" :query=(tcp://8.8.8.8, woot.com, 1) :time=\"2018/11/29 23:59:59\"]'\n",
    "# Execute query and test\n",
    "podes = await core.eval(q, num=1, cmdr=True)\n",
    "podes = await core.eval(q1, num=1, cmdr=True)\n",
    "podes = await core.eval(q2, num=1, cmdr=True)\n",
    "podes = await core.eval(q3, num=1, cmdr=True)\n",
    "podes = await core.eval(q4, num=1, cmdr=True)"
   ]
  },
  {
   "cell_type": "code",
   "execution_count": null,
   "metadata": {
    "hideCode": true
   },
   "outputs": [],
   "source": [
    "# Define and print test query\n",
    "q = 'inet:dns:request:time*range=(2018/12/01, \"+-1 day\")'\n",
    "print(q)\n",
    "# Execute the query and test\n",
    "podes = await core.eval(q, num=3, cmdr=False)"
   ]
  },
  {
   "cell_type": "raw",
   "metadata": {},
   "source": [
    "**Usage Notes:**\n",
    "\n",
    "- When specifying a range, both the minimum and maximum values are included in the range (the equivalent of \"greater than or equal to *<min>* and less than or equal to *<max>*\").\n",
    "\n",
    "Lift by Set Membership (\\*in=)\n",
    "++++++++++++++++++++++++++++++\n",
    "\n",
    "The set membership extended comparator (``*in=``) supports lifting nodes whose *<form> = <valu>* or *<prop> = <pval>* matches any of a set of specified values. The comparator can be used with any type.\n",
    "\n",
    "**Syntax:**\n",
    "\n",
    "*<form>* [ **:** *<prop>* ] ***in = (** *<set_1>* **,** *<set_2>* **,** ... **)**\n",
    "\n",
    "**Examples:**\n",
    "\n",
    "*Lift by primary property in a set:*\n",
    "\n",
    "- Lift IP addresses matching any of the specified values:\n"
   ]
  },
  {
   "cell_type": "code",
   "execution_count": null,
   "metadata": {
    "hideCode": true,
    "hideOutput": true
   },
   "outputs": [],
   "source": [
    "# Make some moar IPs:\n",
    "q = '[inet:ipv4=127.0.0.1 inet:ipv4=192.168.0.100 inet:ipv4=255.255.255.254]'\n",
    "# Execute query and test\n",
    "podes = await core.eval(q, num=3, cmdr=True)"
   ]
  },
  {
   "cell_type": "code",
   "execution_count": null,
   "metadata": {
    "hideCode": true
   },
   "outputs": [],
   "source": [
    "# Define and print test query\n",
    "q = 'inet:ipv4*in=(127.0.0.1, 192.168.0.100, 255.255.255.254)'\n",
    "print(q)\n",
    "# Execute the query and test\n",
    "podes = await core.eval(q, num=3, cmdr=False)"
   ]
  },
  {
   "cell_type": "raw",
   "metadata": {},
   "source": [
    "*Lift by secondary property in a set:*\n",
    "\n",
    "- Lift files whose size in bytes matches any of the specified values:\n"
   ]
  },
  {
   "cell_type": "code",
   "execution_count": null,
   "metadata": {
    "hideCode": true,
    "hideOutput": true
   },
   "outputs": [],
   "source": [
    "# Make some moar files:\n",
    "q = '[file:bytes=sha256:68168583a7778d3c8512f8d6ae47a44618c58537dd5af8eff7da41da0c000c0c :size=4096]'\n",
    "q1 = '[file:bytes=sha256:0a040124ffeccf0031369c57ca7b1dd70f61c71d9b10710bdc6adb53d0eefd81 :size=16384]'\n",
    "q2 = '[file:bytes=sha256:2e248baca79a14f6a62a6bb962a68f7b6f1dfea4641beb39f8e7f0ec5bb47e36 :size=65536]'\n",
    "# Execute query and test\n",
    "podes = await core.eval(q, num=1, cmdr=True)\n",
    "podes = await core.eval(q1, num=1, cmdr=True)\n",
    "podes = await core.eval(q2, num=1, cmdr=True)"
   ]
  },
  {
   "cell_type": "code",
   "execution_count": null,
   "metadata": {
    "hideCode": true
   },
   "outputs": [],
   "source": [
    "# Define and print test query\n",
    "q = 'file:bytes:size*in=(4096, 16384, 65536)'\n",
    "print(q)\n",
    "# Execute the query and test\n",
    "podes = await core.eval(q, num=3, cmdr=False)"
   ]
  },
  {
   "cell_type": "raw",
   "metadata": {},
   "source": [
    "- Lift tags that end in ``foo``, ``bar``, or ``baz``:\n"
   ]
  },
  {
   "cell_type": "code",
   "execution_count": null,
   "metadata": {
    "hideCode": true,
    "hideOutput": true
   },
   "outputs": [],
   "source": [
    "# Make some tag nodes:\n",
    "q = '[syn:tag=aaa.foo syn:tag=aaa.bbb.bar syn:tag=ccc.baz syn:tag=aaa.bar.hurr syn:tag=baz.woop]'\n",
    "# Execute query and test\n",
    "podes = await core.eval(q, num=5, cmdr=True)"
   ]
  },
  {
   "cell_type": "code",
   "execution_count": null,
   "metadata": {
    "hideCode": true
   },
   "outputs": [],
   "source": [
    "# Define and print test query\n",
    "q = 'syn:tag:base*in=(foo,bar,baz)'\n",
    "print(q)\n",
    "# Execute the query and test\n",
    "podes = await core.eval(q, num=5, cmdr=False)"
   ]
  },
  {
   "cell_type": "raw",
   "metadata": {},
   "source": [
    "Lift by Proximity (\\*near=)\n",
    "+++++++++++++++++++++++++++\n",
    "\n",
    "The proximity extended comparator (``*near=``) supports lifting nodes by \"nearness\" to another node based on a specified property type. Currently, ``*near=`` supports proximity based on geospatial location (that is, nodes within a given radius of a specified latitude / longitude).\n",
    "\n",
    "**Syntax:**\n",
    "\n",
    "*<form>* [ **:** *<prop>* ] ***near = ((** *<lat>* **,** *<long>* **),** *<radius>* **)**\n",
    "\n",
    "**Examples:**\n",
    "\n",
    "- Lift locations (``geo:place`` nodes) within 500 meters of the Eiffel Tower:\n"
   ]
  },
  {
   "cell_type": "code",
   "execution_count": null,
   "metadata": {
    "hideCode": true,
    "hideOutput": true
   },
   "outputs": [],
   "source": [
    "# Make some geo:place nodes:\n",
    "q = '[geo:place=531665e149b54a8a160961f47faab360 :latlong=\"48.8589878,2.2989958\" :loc=fr.paris :name=\"the american library in paris\"]'\n",
    "q1 = '[geo:place=05d499e9aef335cc9d27be5aeed1ccfe :latlong=\"59.9124013,10.63733779\" :loc=no.lysaker :name=\"avast software\"]'\n",
    "# Execute query and test\n",
    "podes = await core.eval(q, num=1, cmdr=True)\n",
    "podes = await core.eval(q1, num=1, cmdr=True)"
   ]
  },
  {
   "cell_type": "code",
   "execution_count": null,
   "metadata": {
    "hideCode": true
   },
   "outputs": [],
   "source": [
    "# Define and print test query\n",
    "q = 'geo:place:latlong*near=((48.8583701,2.2944813),500m)'\n",
    "print(q)\n",
    "# Execute the query and test\n",
    "podes = await core.eval(q, num=1, cmdr=False)"
   ]
  },
  {
   "cell_type": "raw",
   "metadata": {},
   "source": [
    "**Usage Notes:**\n",
    "\n",
    "- In the example above, the latitude and longitude of the desired location (i.e., the Eiffel Tower) are explicitly specified as parameters to ``*near=``.\n",
    "- Radius can be specified in the following metric units. Values of less than 1 (e.g., 0.5km) must be specified with a leading zero:\n",
    "  \n",
    "  - Kilometers (km)\n",
    "  - Meters (m)\n",
    "  - Centimeters (cm)\n",
    "  - Millimeters (mm)\n",
    "\n",
    "- The ``*near=`` comparator works for geospatial data by lifting nodes within a square bounding box centered at *<lat>,<long>*, then filters the nodes to be returned by ensuring that they are within the great-circle distance given by the *<radius>* argument.\n",
    "\n",
    "\n",
    ".. _lift-tag:\n",
    "\n",
    "Lift by Tag (#)\n",
    "+++++++++++++++\n",
    "\n",
    "The tag extended comparator (``#``) supports lifting nodes based on a given tag being applied to the node.\n",
    "\n",
    "**Syntax:**\n",
    "\n",
    "[ *<form>* ] **#** *<tag>*\n",
    "\n",
    "**Examples:**\n",
    "\n",
    "*Lift all nodes associated with Tor infrastructure:*\n"
   ]
  },
  {
   "cell_type": "code",
   "execution_count": null,
   "metadata": {
    "hideCode": true,
    "hideOutput": true
   },
   "outputs": [],
   "source": [
    "# Make some tagged nodes:\n",
    "q = '[inet:ipv4=54.38.219.150 inet:ipv4=151.242.192.84 inet:ipv4=217.83.101.150 +#cno.infra.anon.tor]'\n",
    "# Execute query and test\n",
    "podes = await core.eval(q, num=3, cmdr=True)"
   ]
  },
  {
   "cell_type": "code",
   "execution_count": null,
   "metadata": {
    "hideCode": true
   },
   "outputs": [],
   "source": [
    "# Define and print test query\n",
    "q = '#cno.infra.anon.tor'\n",
    "print(q)\n",
    "# Execute the query and test\n",
    "podes = await core.eval(q, num=3, cmdr=False)"
   ]
  },
  {
   "cell_type": "raw",
   "metadata": {},
   "source": [
    "- Lift the domains that Palo Alto Networks says are associated with the OilRig threat group:\n"
   ]
  },
  {
   "cell_type": "code",
   "execution_count": null,
   "metadata": {
    "hideCode": true,
    "hideOutput": true
   },
   "outputs": [],
   "source": [
    "# Make some moar tagged nodes:\n",
    "q = '[inet:fqdn=adobeproduct.com inet:fqdn=ntupdateserver.com inet:fqdn=fireeyeupdate.com +#aka.paloalto.thr.oilrig]'\n",
    "# Execute query and test\n",
    "podes = await core.eval(q, num=3, cmdr=True)"
   ]
  },
  {
   "cell_type": "code",
   "execution_count": null,
   "metadata": {
    "hideCode": true
   },
   "outputs": [],
   "source": [
    "# Define and print test query\n",
    "q = 'inet:fqdn#aka.paloalto.thr.oilrig'\n",
    "print(q)\n",
    "# Execute the query and test\n",
    "podes = await core.eval(q, num=3, cmdr=False)"
   ]
  },
  {
   "cell_type": "raw",
   "metadata": {},
   "source": [
    "Recursive Tag Lift (##)\n",
    "+++++++++++++++++++++++\n",
    "\n",
    "The recursive tag extended comparator (``##``) supports lifting nodes tagged with any tag that is itself tagged with a given tag.\n",
    "\n",
    "Tags can be applied to ``syn:tag`` nodes; that is, tags can be used to tag other tags. The ability to \"tag the tags\" can be used to represent certain types of analytical relationships. For example:\n",
    "\n",
    "- ``syn:tag`` nodes representing threat groups can be tagged to indicate their assessed country of origin.\n",
    "- ``syn:tag`` nodes representing malware or tools can be tagged with their assessed availability (e.g., public, private, private but shared, etc.)\n",
    "\n",
    "A recursive tag lift performs the following actions:\n",
    "\n",
    "1. For the specified tag (``##<sometag>``), lift the nodes that have that tag (i.e., the equivalent of ``#<sometag>``), including any ``syn:tag`` nodes.\n",
    "2. For any lifted ``syn:tag`` nodes, lift all nodes tagged with those tags (including any additional ``syn:tag`` nodes).\n",
    "3. Repeat #2 until no more ``syn:tag`` nodes are lifted.\n",
    "4. Return the tagged nodes. Note that ``syn:tag`` nodes themselves are **not** returned.\n",
    "\n",
    "**Syntax:**\n",
    "\n",
    "**##** *<tag>*\n",
    "\n",
    "**Examples:**\n",
    "\n",
    "- Lift all nodes tagged with any tags (such as threat group tags) that FireEye claims are associated with Russia:\n"
   ]
  },
  {
   "cell_type": "code",
   "execution_count": null,
   "metadata": {
    "hideCode": true,
    "hideOutput": true
   },
   "outputs": [],
   "source": [
    "# Make some moar tagged nodes:\n",
    "q = '[syn:tag=aka.feye.thr.apt28 syn:tag=aka.feye.thr.apt29 syn:tag=aka.feye.thr.veles +#aka.feye.cc.ru]'\n",
    "q1= '[inet:fqdn=scanmalware.info +#aka.feye.thr.apt28]'\n",
    "q2= '[inet:ipv4=87.245.143.140 +#aka.feye.thr.veles]'\n",
    "# Execute query and test\n",
    "podes = await core.eval(q, num=3, cmdr=True)\n",
    "podes = await core.eval(q1, num=1, cmdr=True)\n",
    "podes = await core.eval(q2, num=1, cmdr=True)"
   ]
  },
  {
   "cell_type": "code",
   "execution_count": null,
   "metadata": {
    "hideCode": true
   },
   "outputs": [],
   "source": [
    "# Define and print test query\n",
    "q = '##aka.feye.cc.ru'\n",
    "print(q)\n",
    "# Execute the query and test\n",
    "podes = await core.eval(q, num=2, cmdr=False)"
   ]
  },
  {
   "cell_type": "raw",
   "metadata": {},
   "source": [
    "**Usage Notes:**\n",
    "\n",
    "In the example above, the tag ``aka.feye.cc.ru`` could be applied to ``syn:tag`` nodes representing FireEye’s “Russian” threat groups (e.g., ``aka.feye.thr.apt28``, ``aka.feye.thr.apt29``, etc.) Using a recursive tag lift allows you to easily lift all nodes tagged by **any** of those tags.\n"
   ]
  },
  {
   "cell_type": "code",
   "execution_count": null,
   "metadata": {
    "hideCode": true,
    "hideOutput": true
   },
   "outputs": [],
   "source": [
    "# Close cortex because done\n",
    "_ = await core.fini()"
   ]
  }
 ],
 "metadata": {
  "celltoolbar": "Hide code",
  "kernelspec": {
   "display_name": "Python 3",
   "language": "python",
   "name": "python3"
  },
  "language_info": {
   "codemirror_mode": {
    "name": "ipython",
    "version": 3
   },
   "file_extension": ".py",
   "mimetype": "text/x-python",
   "name": "python",
   "nbconvert_exporter": "python",
   "pygments_lexer": "ipython3",
   "version": "3.7.0"
  }
 },
 "nbformat": 4,
 "nbformat_minor": 2
}
