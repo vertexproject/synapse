{
 "cells": [
  {
   "cell_type": "raw",
   "metadata": {},
   "source": [
    ".. highlight:: none\n",
    "\n",
    ".. _syn-tools-pullfile:\n",
    "\n",
    "Synapse Tools - pullfile\n",
    "========================\n",
    "\n",
    "The Synapse ``pullfile`` command can be used to retrieve (download) one or more files from a storage Axon (see Axon in the :ref:`devopsguide`).\n",
    "\n",
    "Syntax\n",
    "------\n",
    "\n",
    "``pullfile`` is executed from an operating system command shell. The command usage is as follows:\n",
    "\n",
    "::\n",
    "  \n",
    "  usage: synapse.tools.pullfile [-h] -a AXON [-o OUTPUT] [-l HASHES]\n",
    "\n",
    "\n",
    "Where:\n",
    "\n",
    "- ``AXON`` is the path to a storage Axon.\n",
    "\n",
    "  - See :ref:`cortex-connect` for the format to specify a path to an Axon (or Cortex).\n",
    "  - Axon (and Cortex) paths can also be specified using aliases defined in the user's ``.syn/aliases.yaml`` file.\n",
    "\n",
    "- ``OUTPUT`` is the optional directory path where the downloaded file(s) should be written.\n",
    "\n",
    "  - If no option is specified, the file(s) will be written to the current working directory.\n",
    "  - It is not possible to specify multiple ``-o`` options with a single ``pullfile`` command (i.e., a different ``-o`` option with each ``-l HASH``, for example). If multiple ``-o`` options are specified, the last ``OUTPUT`` path specified will be used.\n",
    "  - Files saved locally are named using their SHA256 hash value.\n",
    "\n",
    "- ``HASHES`` is the SHA256 hash(es) of the file(s) to be retrieved.\n",
    "\n",
    "  - Multiple hashes can be specified, but each must be listed with its own ``-l`` option (i.e., ``-l HASH_0 -l HASH_1 ... -l HASH_n``).\n",
    "\n",
    "Example\n",
    "-------\n",
    "\n",
    "Download the two files with the specified SHA256 hashes from the specified Axon to the local ``/home/user/Documents`` directory (replace the Axon path below with the path to your Axon. Note that the command is wrapped for readability):\n",
    "\n",
    "::\n",
    "  \n",
    "  python -m synapse.tools.pullfile -a tcp://axon.vertex.link:5555/axon00 \n",
    "    -o /home/user/Documents\n",
    "    -l 229cdde419ba9549023de39c6a0ca8af74b45fade2d7a22cdc4105a75cd40ab0\n",
    "    -l 52c672f45adacca4878461c1bdd5800af8518e675819a0bdcd5c64a72075a478\n",
    "\n",
    "Executing the command will result in various status messages showing the query and successful retrieval of the file(s):\n",
    "\n",
    "::\n",
    "  \n",
    "  Fetching 229cdde419ba9549023de39c6a0ca8af74b45fade2d7a22cdc4105a75cd40ab0 to file\n",
    "  Fetched 229cdde419ba9549023de39c6a0ca8af74b45fade2d7a22cdc4105a75cd40ab0 to file\n",
    "  Fetching 52c672f45adacca4878461c1bdd5800af8518e675819a0bdcd5c64a72075a478 to file\n",
    "  Fetched 52c672f45adacca4878461c1bdd5800af8518e675819a0bdcd5c64a72075a478 to file\n"
   ]
  }
 ],
 "metadata": {
  "kernelspec": {
   "display_name": "Python 3",
   "language": "python",
   "name": "python3"
  },
  "language_info": {
   "codemirror_mode": {
    "name": "ipython",
    "version": 3
   },
   "file_extension": ".py",
   "mimetype": "text/x-python",
   "name": "python",
   "nbconvert_exporter": "python",
   "pygments_lexer": "ipython3",
   "version": "3.7.3"
  }
 },
 "nbformat": 4,
 "nbformat_minor": 2
}
