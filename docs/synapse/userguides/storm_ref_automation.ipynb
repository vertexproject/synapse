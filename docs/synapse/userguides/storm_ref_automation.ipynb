{
 "cells": [
  {
   "cell_type": "raw",
   "metadata": {},
   "source": [
    ".. highlight:: none\n",
    "\n",
    ".. _storm-ref-automation:\n",
    "\n",
    "Storm Reference - Automation\n",
    "============================\n",
    "\n",
    ".. _auto-triggers:\n",
    "\n",
    "Triggers\n",
    "--------\n",
    "\n",
    "TBD\n",
    "\n",
    ".. _auto-cron:\n",
    "\n",
    "Cron\n",
    "----\n",
    "\n",
    "TBD"
   ]
  }
 ],
 "metadata": {
  "kernelspec": {
   "display_name": "Python 3",
   "language": "python",
   "name": "python3"
  },
  "language_info": {
   "codemirror_mode": {
    "name": "ipython",
    "version": 3
   },
   "file_extension": ".py",
   "mimetype": "text/x-python",
   "name": "python",
   "nbconvert_exporter": "python",
   "pygments_lexer": "ipython3",
   "version": "3.7.1"
  }
 },
 "nbformat": 4,
 "nbformat_minor": 2
}
