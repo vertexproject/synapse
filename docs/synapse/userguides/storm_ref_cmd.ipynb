{
 "cells": [
  {
   "cell_type": "code",
   "execution_count": null,
   "metadata": {
    "hideCode": true
   },
   "outputs": [],
   "source": [
    "import os, sys\n",
    "try:\n",
    "    from synapse.lib.jupyter import *\n",
    "except ImportError as e:\n",
    "    # Insert the root path of the repository to sys.path.\n",
    "    # This assumes the notebook is located three directories away\n",
    "    # From the root synapse directory. It may need to be varied\n",
    "    synroot = os.path.abspath('../../../')\n",
    "    sys.path.insert(0, synroot)\n",
    "    from synapse.lib.jupyter import *"
   ]
  },
  {
   "cell_type": "code",
   "execution_count": null,
   "metadata": {
    "hideCode": true,
    "hideOutput": true
   },
   "outputs": [],
   "source": [
    "# Get a temp cortex\n",
    "core = await getTempCoreCmdr()"
   ]
  },
  {
   "cell_type": "raw",
   "metadata": {},
   "source": [
    ".. highlight:: none\n",
    "\n",
    ".. _storm-ref-cmd:\n",
    "\n",
    "Storm Reference - Storm Commands\n",
    "================================\n",
    "\n",
    "Storm commands are built-in or custom commands that can be used with the Synapse :ref:`syn-storm` command itself. As such, Storm commands must be executed following the ``storm`` command:\n",
    "\n",
    "**storm** *<command>*\n",
    "\n",
    "or\n",
    "\n",
    "**storm** *<query>* **|** *<command>* [ **|** *<query>* ]\n",
    "\n",
    "The pipe symbol ( ``|`` ) is used to send (pipe) the output from a Storm query to any of the Storm commands, and to send the output from a Storm command back to a Storm query.\n",
    "\n",
    "**Built-in commands** are native to the Storm library and loaded by default within a given Cortex. Built-in commands comprise a set of helper commands that perform a variety of specialized tasks that are useful regardless of the types of data stored in the Cortex or the types of analysis performed.\n",
    "\n",
    "**Custom commands** are Storm commands that have been added to a Cortex to invoke the execution of dynamically loaded modules. Dynamically loaded modules are typically custom modules that have been added to Synapse to support domain-specific analysis. For example, a knowledge domain that requires tracking of IP addresses might have access to a third-party service such as Maxmind to obtain up-to-date data on the assigned Autonomous System (AS) or geographical location of a given IP address. A custom ``maxmind`` module and associated Storm command could be added to Synapse to query the Maxmind database and update the appropriate secondary properties on the associated ``inet:ipv4`` nodes directly from Storm.\n",
    "\n",
    "The full list of storm commands (built-in and custom) available in a given Cortex can be displayed with ``storm help``.\n",
    "\n",
    "Help for a specific Storm command can be displayed with ``storm <command> --help``.\n",
    "\n",
    "This section details the usage and syntax for built-in Storm commands. Many of the commands below, such as ``count``, ``limit``, ``max`` / ``min``, or ``delnode``, directly support analyst tasks within Storm. Other commands, such as those used to manage daemons, queues, packages, or services, may be primarily of interest to Syanpse administrators or developers.\n",
    "\n",
    "- `help`_\n",
    "- `count`_\n",
    "- `cron`_\n",
    "- `delnode`_\n",
    "- `dmon`_\n",
    "- `feed`_\n",
    "- `graph`_\n",
    "- `iden`_\n",
    "- `limit`_\n",
    "- `max`_\n",
    "- `min`_\n",
    "- `movetag`_\n",
    "- `package`_\n",
    "- `queue`_\n",
    "- `reindex`_\n",
    "- `scrape`_\n",
    "- `service`_\n",
    "- `sleep`_\n",
    "- `spin`_\n",
    "- `splice`_\n",
    "- `tee`_\n",
    "- `trigger`_\n",
    "- `uniq`_\n",
    "- `view`_\n",
    "\n",
    "See :ref:`storm-ref-syntax` for an explanation of the syntax format used below.\n",
    "\n",
    "The Storm query language is covered in detail starting with the :ref:`storm-ref-intro` section of the Synapse User Guide.\n",
    "\n",
    ".. NOTE::\n",
    "\n",
    "  Storm commands, including custom commands, are added to the Cortex as **runtime nodes** (\"runt nodes\" - see :ref:`gloss-node-runt`) of the form ``syn:cmd``. These runt nodes can be lifted and filtered just like standard nodes in a Cortex.\n",
    "\n",
    "**Example**\n",
    "\n",
    "Lift the ``syn:cmd`` node for the Storm ``movetag`` command:"
   ]
  },
  {
   "cell_type": "code",
   "execution_count": null,
   "metadata": {
    "hideCode": true
   },
   "outputs": [],
   "source": [
    "# Run the command and display output\n",
    "q = 'syn:cmd=movetag'\n",
    "podes = await core.eval(q, cmdr=True)"
   ]
  },
  {
   "cell_type": "raw",
   "metadata": {},
   "source": [
    ".. NOTE::\n",
    "\n",
    "  While the documentation for built-in Storm commands is relatively basic, the ``syn:cmd`` form within the data model includes additional secondary propeties that can be used to make commands (particularly custom commands) more \"self-documenting\" to users, because detail about the command can be introspected directly within the data model from within Storm. For example, the ``:input`` and ``:output`` properties can be used to specify a list (:ref:`type-array`) of forms that can be input (submitted) to the command and a list of forms that may be created by the command, respectively.\n"
   ]
  },
  {
   "cell_type": "raw",
   "metadata": {},
   "source": [
    ".. _storm-help:\n",
    "\n",
    "help\n",
    "----\n",
    "\n",
    "The ``help`` command (``storm help``) displays the list of available built-in commands and a brief message describing each command. Help on individual commands is available via ``<command> --help``.\n",
    "\n",
    "**Syntax:**"
   ]
  },
  {
   "cell_type": "code",
   "execution_count": null,
   "metadata": {
    "hideCode": true
   },
   "outputs": [],
   "source": [
    "# Run the command and display output\n",
    "q = 'help'\n",
    "podes = await core.eval(q, cmdr=True)"
   ]
  },
  {
   "cell_type": "raw",
   "metadata": {},
   "source": [
    ".. _storm-count:\n",
    "\n",
    "count\n",
    "-----\n",
    "\n",
    "The ``count`` command enumerates the number of nodes returned from a given Storm query and displays the resultant nodes and associated node count.\n",
    "\n",
    "**Syntax**"
   ]
  },
  {
   "cell_type": "code",
   "execution_count": null,
   "metadata": {
    "hideCode": true
   },
   "outputs": [],
   "source": [
    "# Run the command and display output\n",
    "q = 'count --help'\n",
    "podes = await core.eval(q, cmdr=True)"
   ]
  },
  {
   "cell_type": "raw",
   "metadata": {},
   "source": [
    "**Examples:**\n",
    "\n",
    "- Count the number of email address nodes:"
   ]
  },
  {
   "cell_type": "code",
   "execution_count": null,
   "metadata": {
    "hideCode": true,
    "hideOutput": true
   },
   "outputs": [],
   "source": [
    "# Make some email nodes\n",
    "q = '[inet:email=me@gmail.com inet:email=you@yahoo.com]'\n",
    "# Run the query and test\n",
    "podes = await core.eval(q, num=2, cmdr=False)"
   ]
  },
  {
   "cell_type": "code",
   "execution_count": null,
   "metadata": {
    "hideCode": true
   },
   "outputs": [],
   "source": [
    "# Define and print test query\n",
    "q = 'inet:email | count'\n",
    "print(q)\n",
    "# Execute the query and test\n",
    "podes = await core.eval(q, num=2, cmdr=False)"
   ]
  },
  {
   "cell_type": "raw",
   "metadata": {},
   "source": [
    "- Count the number of DNS A records for the domain woot.com:"
   ]
  },
  {
   "cell_type": "code",
   "execution_count": null,
   "metadata": {
    "hideCode": true,
    "hideOutput": true
   },
   "outputs": [],
   "source": [
    "# Make some DNS A records\n",
    "q = '[inet:dns:a=(woot.com,1.2.3.4) inet:dns:a=(woot.com,5.6.7.8)]'\n",
    "# Run the query and test\n",
    "podes = await core.eval(q, num=2, cmdr=False)"
   ]
  },
  {
   "cell_type": "code",
   "execution_count": null,
   "metadata": {
    "hideCode": true
   },
   "outputs": [],
   "source": [
    "# Define and print test query\n",
    "q = 'inet:dns:a:fqdn=woot.com | count'\n",
    "print(q)\n",
    "# Execute the query and test\n",
    "podes = await core.eval(q, num=2, cmdr=False)"
   ]
  },
  {
   "cell_type": "raw",
   "metadata": {},
   "source": [
    "**Usage Notes:**\n",
    "\n",
    "- ``count`` does not consume nodes, so Storm will stream the nodes being counted to the CLI output while the command executes. To count nodes without streaming the output, ``count`` can be piped to the `spin`_ command (i.e., *<query>* | count | spin). ``Spin`` consumes nodes and so will prevent nodes processed by the ``count`` command from streaming."
   ]
  },
  {
   "cell_type": "raw",
   "metadata": {},
   "source": [
    ".. _storm-cron:\n",
    "\n",
    "cron\n",
    "----\n",
    "\n",
    "Storm includes ``cron.*`` commands that allow you to create scheduled :ref:`gloss-cron` jobs. Within Synapse, jobs are Storm queries that execute within a Cortex on a recurring or non-recurring (``cron.at``) basis.\n",
    "\n",
    "- `cron.add`_\n",
    "- `cron.at`_\n",
    "- `cron.list`_\n",
    "- `cron.stat`_\n",
    "- `cron.mod`_\n",
    "- `cron.disable`_\n",
    "- `cron.enable`_\n",
    "- `cron.del`_\n",
    "\n",
    "Help for individual ``cron.*`` commands can be displayed using:\n",
    "\n",
    "  ``storm <command> --help | -h``\n",
    "\n",
    "Cron jobs (including jobs created with ``cron.at``) are added to the Cortex as **runtime nodes** (\"runt nodes\" - see :ref:`gloss-node-runt`) of the form ``syn:cron``. These runt nodes can be lifted and filtered just like standard nodes in a Cortex. See the :ref:`syn-ref-automation` document for additional information.\n",
    "\n",
    ".. NOTE::\n",
    "\n",
    "  The Storm ``cron.*`` commands replace the Synapse cmdr-based :ref:`syn-cron` command, which is being deprecated."
   ]
  },
  {
   "cell_type": "raw",
   "metadata": {},
   "source": [
    ".. _storm-cron-add:\n",
    "\n",
    "cron.add\n",
    "++++++++\n",
    "\n",
    "The ``cron.add`` command creates an individual cron job within a Cortex.\n",
    "\n",
    "**Syntax**"
   ]
  },
  {
   "cell_type": "code",
   "execution_count": null,
   "metadata": {
    "hideCode": true
   },
   "outputs": [],
   "source": [
    "# Run the command and display output\n",
    "q = 'cron.add --help'\n",
    "podes = await core.eval(q, cmdr=True)"
   ]
  },
  {
   "cell_type": "raw",
   "metadata": {},
   "source": [
    "**Example**\n",
    "\n",
    "Add a cron job to run on the first day of every month to lift all IPv4 nodes with missing geolocation data (i.e., the ``:loc`` property is set to the string ``??``) and submit them to the maxmind service.\n",
    "\n",
    ".. NOTE::\n",
    "  \n",
    "  This example assumes a Storm service or other module has been implemented to interface with Maxmind; such a service is not included in Synpase by default."
   ]
  },
  {
   "cell_type": "code",
   "execution_count": null,
   "metadata": {
    "hideCode": true
   },
   "outputs": [],
   "source": [
    "# Define query\n",
    "q = 'cron.add --day 1 { inet:ipv4:loc=\"??\" | maxmind }'\n",
    "# Execute the query\n",
    "podes = await core.eval(q, cmdr=True)"
   ]
  },
  {
   "cell_type": "raw",
   "metadata": {},
   "source": [
    ".. _storm-cron-at:\n",
    "\n",
    "cron.at\n",
    "+++++++\n",
    "\n",
    "The ``cron.at`` command creates a non-recurring cron job within a Cortex. Note that just like standard cron jobs, jobs created with ``cron.at`` will persist (remain in the list of cron jobs and as ``syn:cron`` runt nodes) until they are explicitly removed using ``cron.del``.\n",
    "\n",
    "**Syntax:**"
   ]
  },
  {
   "cell_type": "code",
   "execution_count": null,
   "metadata": {
    "hideCode": true
   },
   "outputs": [],
   "source": [
    "# Run the command and display output\n",
    "q = 'cron.at --help'\n",
    "podes = await core.eval(q, cmdr=True)"
   ]
  },
  {
   "cell_type": "raw",
   "metadata": {},
   "source": [
    "**Example**\n",
    "\n",
    "Add a non-recurring cron job to run at 0200 UTC to create the set of IPv4 addresses in the 172.16.0.0/16 range."
   ]
  },
  {
   "cell_type": "code",
   "execution_count": null,
   "metadata": {
    "hideCode": true
   },
   "outputs": [],
   "source": [
    "# Define query\n",
    "q = 'cron.at --hour 2 { [ inet:ipv4=172.16.0.0/16 ] }'\n",
    "# Execute the query\n",
    "podes = await core.eval(q, cmdr=True)"
   ]
  },
  {
   "cell_type": "raw",
   "metadata": {},
   "source": [
    ".. _storm-cron-list:\n",
    "\n",
    "cron.list\n",
    "+++++++++\n",
    "\n",
    "The ``cron.list`` command displays the set of cron jobs in the Cortex that the current user can view / modify based on their permissions.\n",
    "\n",
    "Cron jobs are displayed in alphanumeric order by job :ref:`gloss-iden`. Jobs are sorted upon Cortex initialization, so newly-created jobs will be displayed at the bottom of the list until the list is re-sorted the next time the Cortex is restarted.\n",
    "\n",
    ".. NOTE::\n",
    "\n",
    "  Jobs can also be viewed in runt node form as ``syn:cron`` nodes.\n",
    "\n",
    "**Syntax:**"
   ]
  },
  {
   "cell_type": "code",
   "execution_count": null,
   "metadata": {
    "hideCode": true
   },
   "outputs": [],
   "source": [
    "# Run the command and display output\n",
    "q = 'cron.list --help'\n",
    "podes = await core.eval(q, cmdr=True)"
   ]
  },
  {
   "cell_type": "raw",
   "metadata": {},
   "source": [
    "**Examples**\n",
    "\n",
    "*cron.list*\n",
    "\n",
    "List cron jobs (including non-recurring jobs created with ``cron.at``)."
   ]
  },
  {
   "cell_type": "code",
   "execution_count": null,
   "metadata": {
    "hideCode": true
   },
   "outputs": [],
   "source": [
    "# Define query\n",
    "q = 'cron.list'\n",
    "# Execute the query\n",
    "podes = await core.eval(q, cmdr=True)"
   ]
  },
  {
   "cell_type": "raw",
   "metadata": {},
   "source": [
    "**Notes:**\n",
    "\n",
    "The output of ``cron.list`` contains the following columns:\n",
    "\n",
    "- The username used to create the job.\n",
    "- The first eight characters of the job's identifier (iden).\n",
    "- Whether the job is currently enabled or disabled.\n",
    "- Whether the job is scheduled to repeat.\n",
    "- Whether the job is currently executing.\n",
    "- Whether the last job execution encountered an error.\n",
    "- The number of times the job has started.\n",
    "- The date and time of the job's last start and last end.\n",
    "- The query executed by the cron job."
   ]
  },
  {
   "cell_type": "raw",
   "metadata": {},
   "source": [
    "*cron jobs as runt nodes*\n",
    "\n",
    "List cron jobs whose Storm command contains the string \"maxmind\" by lifting ``syn:cron`` nodes."
   ]
  },
  {
   "cell_type": "code",
   "execution_count": null,
   "metadata": {
    "hideCode": true
   },
   "outputs": [],
   "source": [
    "# Define query\n",
    "q = 'syn:cron +:storm~=maxmind'\n",
    "# Execute the query\n",
    "podes = await core.eval(q, cmdr=True)"
   ]
  },
  {
   "cell_type": "raw",
   "metadata": {},
   "source": [
    "**Notes:**\n",
    "\n",
    "While runt nodes (:ref:`gloss-node-runt`) are typically read-only, ``syn:cron`` nodes include ``:name`` and ``:doc`` secondary properties that can be set and modified via Storm. This allows management of cron jobs by providing them with meaningful names / categoreies and / or descriptions of their purpose. Changes to these properties will persist even after a Cortex restart."
   ]
  },
  {
   "cell_type": "raw",
   "metadata": {},
   "source": [
    ".. _storm-cron-stat:\n",
    "\n",
    "cron.stat\n",
    "+++++++++\n",
    "\n",
    "The ``cron.stat`` command displays statistics for an individual cron job and provides more detail on an individual job vs. ``cron.list``, including any errors and the interval at which the job executes. To view the stats for a job, you must provide the first portion of the job's iden (i.e., enough of the iden that the job can be uniquely identified), which can be obtained using ``cron.list`` or by lifting the appropriate ``syn:cron`` node.\n",
    "\n",
    "**Syntax:**"
   ]
  },
  {
   "cell_type": "code",
   "execution_count": null,
   "metadata": {
    "hideCode": true
   },
   "outputs": [],
   "source": [
    "# Run the command and display output\n",
    "q = 'cron.stat --help'\n",
    "podes = await core.eval(q, cmdr=True)"
   ]
  },
  {
   "cell_type": "raw",
   "metadata": {},
   "source": [
    ".. _storm-cron-mod:\n",
    "\n",
    "cron.mod\n",
    "++++++++\n",
    "\n",
    "The ``cron.mod`` command modifies the Storm query associated with a specific cron job. To modify a job, you must provide the first portion of the job's iden (i.e., enough of the iden that the job can be uniquely identified), which can be obtained using ``cron.list`` or by lifting the appropriate ``syn:cron`` node.\n",
    "\n",
    "\n",
    ".. NOTE::\n",
    "\n",
    "  Other aspects of the cron job, such as its schedule for execution, cannot be modified once the job has been created. To change these aspects you must delete and re-add the job.\n",
    "\n",
    "**Syntax:**"
   ]
  },
  {
   "cell_type": "code",
   "execution_count": null,
   "metadata": {
    "hideCode": true
   },
   "outputs": [],
   "source": [
    "# Run the command and display output\n",
    "q = 'cron.mod --help'\n",
    "podes = await core.eval(q, cmdr=True)"
   ]
  },
  {
   "cell_type": "raw",
   "metadata": {},
   "source": [
    ".. _storm-cron-disable:\n",
    "\n",
    "cron.disable\n",
    "++++++++++++\n",
    "\n",
    "The ``cron.disable`` command disables a job and prevents it from executing without removing it from the Cortex. To disable a job, you must provide the first portion of the job's iden (i.e., enough of the iden that the job can be uniquely identified), which can be obtained using ``cron.list`` or by lifting the appropriate ``syn:cron`` node.\n",
    "\n",
    "**Syntax:**"
   ]
  },
  {
   "cell_type": "code",
   "execution_count": null,
   "metadata": {
    "hideCode": true
   },
   "outputs": [],
   "source": [
    "# Run the command and display output\n",
    "q = 'cron.disable --help'\n",
    "podes = await core.eval(q, cmdr=True)"
   ]
  },
  {
   "cell_type": "raw",
   "metadata": {},
   "source": [
    ".. _storm-cron-enable:\n",
    "\n",
    "cron.enable\n",
    "+++++++++++\n",
    "\n",
    "The ``cron.enable`` command enables a disabled cron job. To enable a job, you must provide the first portion of the job's iden (i.e., enough of the iden that the job can be uniquely identified), which can be obtained using ``cron.list`` or by lifting the appropriate ``syn:cron`` node.\n",
    "\n",
    ".. NOTE::\n",
    "\n",
    "  Cron jobs, including non-recurring jobs added with ``cron.at``, are enabled by default upon creation.\n",
    "\n",
    "**Syntax:**"
   ]
  },
  {
   "cell_type": "code",
   "execution_count": null,
   "metadata": {
    "hideCode": true
   },
   "outputs": [],
   "source": [
    "# Run the command and display output\n",
    "q = 'cron.enable --help'\n",
    "podes = await core.eval(q, cmdr=True)"
   ]
  },
  {
   "cell_type": "raw",
   "metadata": {},
   "source": [
    ".. _storm-cron-del:\n",
    "\n",
    "cron.del\n",
    "++++++++\n",
    "\n",
    "The ``cron.del`` command permanently removes a cron job from the Cortex. To delete a job, you must provide the first portion of the job's iden (i.e., enough of the iden that the job can be uniquely identified), which can be obtained using ``cron.list`` or by lifting the appropriate ``syn:cron`` node.\n",
    "\n",
    "**Syntax:**"
   ]
  },
  {
   "cell_type": "code",
   "execution_count": null,
   "metadata": {
    "hideCode": true
   },
   "outputs": [],
   "source": [
    "# Run the command and display output\n",
    "q = 'cron.del --help'\n",
    "podes = await core.eval(q, cmdr=True)"
   ]
  },
  {
   "cell_type": "raw",
   "metadata": {},
   "source": [
    ".. _storm-delnode:\n",
    "\n",
    "delnode\n",
    "-------\n",
    "\n",
    "The ``delnode`` command deletes a node or set of nodes from a Cortex.\n",
    "\n",
    ".. WARNING::\n",
    "  The Storm ``delnode`` command has the potential to be destructive if executed on an incorrect, badly formed, or mistyped query. Users are strongly encouraged to validate their query by first executing it on its own to confirm it returns the expected nodes before piping the query to the ``delnode`` command.\n",
    "\n",
    "**Syntax:**"
   ]
  },
  {
   "cell_type": "code",
   "execution_count": null,
   "metadata": {
    "hideCode": true
   },
   "outputs": [],
   "source": [
    "# Run the command and display output\n",
    "q = 'delnode --help'\n",
    "podes = await core.eval(q, cmdr=True)"
   ]
  },
  {
   "cell_type": "raw",
   "metadata": {},
   "source": [
    "**Examples:**\n",
    "\n",
    "- Delete the node for the domain woowoo.com:"
   ]
  },
  {
   "cell_type": "code",
   "execution_count": null,
   "metadata": {
    "hideCode": true,
    "hideOutput": true
   },
   "outputs": [],
   "source": [
    "# Make a node\n",
    "q = '[inet:fqdn=woowoo.com]'\n",
    "# Run the query and test\n",
    "podes = await core.eval(q, num=1, cmdr=False)"
   ]
  },
  {
   "cell_type": "code",
   "execution_count": null,
   "metadata": {
    "hideCode": true
   },
   "outputs": [],
   "source": [
    "# Define and print test query\n",
    "q = 'inet:fqdn=woowoo.com | delnode'\n",
    "print(q)\n",
    "# Execute the query and test\n",
    "podes = await core.eval(q, num=0, cmdr=False)"
   ]
  },
  {
   "cell_type": "raw",
   "metadata": {},
   "source": [
    "- Forcibly delete all nodes with the #testing tag:"
   ]
  },
  {
   "cell_type": "code",
   "execution_count": null,
   "metadata": {
    "hideCode": true,
    "hideOutput": true
   },
   "outputs": [],
   "source": [
    "# Make and tag some nodes\n",
    "q = '[inet:dns:a=(woowoo.com,1.2.3.4)]'\n",
    "q1 = '[inet:fqdn=woowoo.com inet:fqdn=hurr.com inet:fqdn=derp.com +#testing]'\n",
    "# Run the query and test\n",
    "podes = await core.eval(q, num=1, cmdr=False)\n",
    "podes = await core.eval(q1, num=3, cmdr=False)"
   ]
  },
  {
   "cell_type": "code",
   "execution_count": null,
   "metadata": {
    "hideCode": true
   },
   "outputs": [],
   "source": [
    "# Define and print test query\n",
    "q = '#testing | delnode --force'\n",
    "print(q)\n",
    "# Execute the query and test\n",
    "podes = await core.eval(q, num=0, cmdr=False)"
   ]
  },
  {
   "cell_type": "raw",
   "metadata": {},
   "source": [
    "**Usage Notes:**\n",
    "\n",
    "- ``delnode`` operates on the output of a previous Storm query.\n",
    "- ``delnode`` will attempt to perform some basic sanity-checking to help prevent egregious mistakes. For example, ``delnode`` will return an error if you attempt to delete a node that is still referenced by another node (such as an ``inet:fqdn`` that is referenced by an ``inet:dns:a`` node). Similarly, delnode will return an error if you attempt to delete a ``syn:tag`` node if that tag is still applied to other nodes. **However, delnode cannot prevent all mistakes.**\n",
    "  \n",
    "  - Edge / digraph nodes (such as ``edge:refs`` or ``edge:has``) are **exempt** from these \"reference checks\". It is possible to delete an edge node where ``n1`` and / or ``n2`` still exist and without affecting ``n1`` or ``n2``. This is generally desired behavior as the relationship between the nodes (the edge) may need to be removed without affecting the nodes themselves.\n",
    "  - However, the opposite is also true - since ``delnode`` does not check for references to edge nodes when deleting nodes, it is possible leave \"orphaned\" edge nodes with a missing ``n1`` or ``n2``.\n",
    "\n",
    "- The ``--force`` parameter will forcibly delete the nodes input to the command, regardless of any sanity-checking errors or other conditions. **This parameter should be used with extreme caution as it may result in broken references within the Cortex.**"
   ]
  },
  {
   "cell_type": "raw",
   "metadata": {},
   "source": [
    ".. _storm-dmon:\n",
    "\n",
    "dmon\n",
    "----\n",
    "\n",
    "Storm includes ``dmon.*`` commands that allow you work with daemons (see :ref:`gloss-daemon`).\n",
    "\n",
    "- `dmon.list`_\n",
    "\n",
    "Help for individual ``queue.*`` commands can be displayed using:\n",
    "\n",
    "  ``storm <command> --help | -h``"
   ]
  },
  {
   "cell_type": "raw",
   "metadata": {},
   "source": [
    ".. _storm-dmon-list:\n",
    "\n",
    "dmon.list\n",
    "+++++++++\n",
    "\n",
    "The ``dmon.list`` command displays the set of running dmon queries in the Cortex.\n",
    "\n",
    "**Syntax:**"
   ]
  },
  {
   "cell_type": "code",
   "execution_count": null,
   "metadata": {
    "hideCode": true
   },
   "outputs": [],
   "source": [
    "# Run the command and display output\n",
    "q = 'dmon.list --help'\n",
    "podes = await core.eval(q, cmdr=True)"
   ]
  },
  {
   "cell_type": "raw",
   "metadata": {},
   "source": [
    ".. _storm-feed:\n",
    "\n",
    "feed\n",
    "----\n",
    "\n",
    "Storm includes ``feed.*`` commands that allow you work with feeds (see :ref:`gloss-feed`).\n",
    "\n",
    "- `feed.list`_\n",
    "\n",
    "Help for individual ``queue.*`` commands can be displayed using:\n",
    "\n",
    "  ``storm <command> --help | -h``\n"
   ]
  },
  {
   "cell_type": "raw",
   "metadata": {},
   "source": [
    ".. _storm-feed-list:\n",
    "\n",
    "feed.list\n",
    "+++++++++\n",
    "\n",
    "The ``feed.list`` command displays available feed functions in the Cortex.\n",
    "\n",
    "**Syntax:**"
   ]
  },
  {
   "cell_type": "code",
   "execution_count": null,
   "metadata": {
    "hideCode": true
   },
   "outputs": [],
   "source": [
    "# Run the command and display output\n",
    "q = 'feed.list --help'\n",
    "podes = await core.eval(q, cmdr=True)"
   ]
  },
  {
   "cell_type": "raw",
   "metadata": {},
   "source": [
    ".. _storm-graph:\n",
    "\n",
    "graph\n",
    "-----\n",
    "\n",
    "The ``graph`` command generates a subgraph based on a specified set of nodes and parameters.\n",
    "\n",
    "**Syntax:**"
   ]
  },
  {
   "cell_type": "code",
   "execution_count": null,
   "metadata": {
    "hideCode": true
   },
   "outputs": [],
   "source": [
    "# Run the command and display output\n",
    "q = 'graph --help'\n",
    "podes = await core.eval(q, cmdr=True)"
   ]
  },
  {
   "cell_type": "raw",
   "metadata": {},
   "source": [
    "**Examples:**\n",
    "\n",
    "TBD"
   ]
  },
  {
   "cell_type": "raw",
   "metadata": {},
   "source": [
    ".. _storm-iden:\n",
    "\n",
    "iden\n",
    "----\n",
    "\n",
    "The ``iden`` command lifts one or more nodes by their node identifier (node ID / iden).\n",
    "\n",
    "**Syntax:**"
   ]
  },
  {
   "cell_type": "code",
   "execution_count": null,
   "metadata": {
    "hideCode": true
   },
   "outputs": [],
   "source": [
    "# Run the command and display output\n",
    "q = 'iden --help'\n",
    "podes = await core.eval(q, cmdr=True)"
   ]
  },
  {
   "cell_type": "raw",
   "metadata": {},
   "source": [
    "**Example:**\n",
    "\n",
    "- Lift the node with node ID d7fb3ae625e295c9279c034f5d91a7ad9132c79a9c2b16eecffc8d1609d75849:"
   ]
  },
  {
   "cell_type": "code",
   "execution_count": null,
   "metadata": {
    "hideCode": true
   },
   "outputs": [],
   "source": [
    "# Define and print test query\n",
    "q = 'iden d7fb3ae625e295c9279c034f5d91a7ad9132c79a9c2b16eecffc8d1609d75849'\n",
    "print(q)\n",
    "# Execute the query and test\n",
    "podes = await core.eval(q, num=1, cmdr=False)"
   ]
  },
  {
   "cell_type": "raw",
   "metadata": {},
   "source": [
    "**Usage Notes:**\n",
    "\n",
    "- The node ID (iden) for a given node can be obtained by lifting the node using the ``--debug`` or ``--raw`` option to the :ref:`syn-storm` command:\n",
    "\n",
    "  - ``storm --debug inet:fqdn=woot.com``"
   ]
  },
  {
   "cell_type": "raw",
   "metadata": {},
   "source": [
    ".. _storm-limit:\n",
    "\n",
    "limit\n",
    "-----\n",
    "\n",
    "The ``limit`` command restricts the number of nodes returned from a given Storm query to the specified number of nodes.\n",
    "\n",
    "**Syntax:**"
   ]
  },
  {
   "cell_type": "code",
   "execution_count": null,
   "metadata": {
    "hideCode": true
   },
   "outputs": [],
   "source": [
    "# Run the command and display output\n",
    "q = 'limit --help'\n",
    "podes = await core.eval(q, cmdr=True)"
   ]
  },
  {
   "cell_type": "raw",
   "metadata": {},
   "source": [
    "**Example:**\n",
    "\n",
    "- Lift ten IP address nodes:"
   ]
  },
  {
   "cell_type": "code",
   "execution_count": null,
   "metadata": {
    "hideCode": true,
    "hideOutput": true
   },
   "outputs": [],
   "source": [
    "# Make some nodes\n",
    "q = '[inet:ipv4=192.168.0.0/24]'\n",
    "# Run the query and test\n",
    "podes = await core.eval(q, num=256, cmdr=False)"
   ]
  },
  {
   "cell_type": "code",
   "execution_count": null,
   "metadata": {
    "hideCode": true
   },
   "outputs": [],
   "source": [
    "# Define and print test query\n",
    "q = 'inet:ipv4 | limit 10'\n",
    "print(q)\n",
    "# Execute the query and test\n",
    "podes = await core.eval(q, num=10, cmdr=False)"
   ]
  },
  {
   "cell_type": "raw",
   "metadata": {},
   "source": [
    "**Usage Notes:**\n",
    "\n",
    "- If the limit number specified (i.e., ``limit 100``) is greater than the total number of nodes returned from the Storm query, no limit will be applied to the resultant nodes (i.e., all nodes will be returned).\n",
    "- By design, ``limit`` imposes an artificial limit on the nodes returned by a query, which may impair effective analysis of data by restricting results. As such, ``limit`` is most useful for viewing a subset of a large result set or an exemplar node for a given form.\n",
    "- While ``limit`` returns a sampling of nodes, it is not statistically random for the purposes of population sampling for algorithmic use."
   ]
  },
  {
   "cell_type": "raw",
   "metadata": {},
   "source": [
    ".. _storm-max:\n",
    "\n",
    "max\n",
    "---\n",
    "\n",
    "The ``max`` command returns the node from a given set that contains the highest value for a specified secondary property, tag interval, or variable.\n",
    "\n",
    "**Syntax:**"
   ]
  },
  {
   "cell_type": "code",
   "execution_count": null,
   "metadata": {
    "hideCode": true
   },
   "outputs": [],
   "source": [
    "# Run the command and display output\n",
    "q = 'max --help'\n",
    "podes = await core.eval(q, cmdr=True)"
   ]
  },
  {
   "cell_type": "raw",
   "metadata": {},
   "source": [
    "**Examples:**\n",
    "\n",
    "- Return the DNS A record for woot.com with the most recent ``.seen`` value:"
   ]
  },
  {
   "cell_type": "code",
   "execution_count": null,
   "metadata": {
    "hideCode": true,
    "hideOutput": true
   },
   "outputs": [],
   "source": [
    "# Make some DNS A nodes\n",
    "q = '[inet:dns:a=(woot.com,107.21.53.159) .seen=(2014/08/13,2014/08/14)]'\n",
    "q1 = '[inet:dns:a=(woot.com,75.101.146.4) .seen=(2013/09/21,2013/09/22)]'\n",
    "q2 = '[inet:dns:a=(woot.com,52.206.255.234) .seen=(2018/01/23,2018/01/24)]'\n",
    "# Run the query and test\n",
    "podes = await core.eval(q, num=1, cmdr=False)\n",
    "podes = await core.eval(q1, num=1, cmdr=False)\n",
    "podes = await core.eval(q2, num=1, cmdr=False)"
   ]
  },
  {
   "cell_type": "code",
   "execution_count": null,
   "metadata": {
    "hideCode": true
   },
   "outputs": [],
   "source": [
    "# Define and print test query\n",
    "q = 'inet:dns:a:fqdn=woot.com | max .seen'\n",
    "print(q)\n",
    "# Execute the query and test\n",
    "podes = await core.eval(q, num=1, cmdr=False)\n",
    "max_seen =(1516665600000, 1516752000000)\n",
    "assert max_seen == podes[0][1].get('props', {}).get('.seen')"
   ]
  },
  {
   "cell_type": "raw",
   "metadata": {},
   "source": [
    "- Return the most recent WHOIS record for domain woot.com:"
   ]
  },
  {
   "cell_type": "code",
   "execution_count": null,
   "metadata": {
    "hideCode": true,
    "hideOutput": true
   },
   "outputs": [],
   "source": [
    "# Make some WHOIS records\n",
    "q = '[inet:whois:rec=(woot.com,2018/05/22) :text=\"domain name: woot.com\"]'\n",
    "q1 = '[inet:whois:rec=(woot.com,2018/01/17) :text=\"domain name: woot.com\"]'\n",
    "q2 = '[inet:whois:rec=(woot.com,2018/03/30) :text=\"domain name: woot.com\"]'\n",
    "# Run the query and test\n",
    "podes = await core.eval(q, num=1, cmdr=False)\n",
    "podes = await core.eval(q1, num=1, cmdr=False)\n",
    "podes = await core.eval(q2, num=1, cmdr=False)"
   ]
  },
  {
   "cell_type": "code",
   "execution_count": null,
   "metadata": {
    "hideCode": true,
    "hideOutput": false
   },
   "outputs": [],
   "source": [
    "# Define and print test query\n",
    "q = 'inet:whois:rec:fqdn=woot.com | max :asof'\n",
    "print(q)\n",
    "# Execute the query and test\n",
    "podes = await core.eval(q, num=1, cmdr=False)\n",
    "max_asof = 1526947200000\n",
    "assert max_asof == podes[0][1].get('props', {}).get('asof')"
   ]
  },
  {
   "cell_type": "raw",
   "metadata": {},
   "source": [
    ".. _storm-min:\n",
    "\n",
    "min\n",
    "---\n",
    "\n",
    "The ``min`` command returns the node from a given set that contains the lowest value for a specified secondary property, tag interval, or variable.\n",
    "\n",
    "**Syntax:**"
   ]
  },
  {
   "cell_type": "code",
   "execution_count": null,
   "metadata": {
    "hideCode": true
   },
   "outputs": [],
   "source": [
    "# Run the command and display output\n",
    "q = 'min --help'\n",
    "podes = await core.eval(q, cmdr=True)"
   ]
  },
  {
   "cell_type": "raw",
   "metadata": {},
   "source": [
    "**Examples:**\n",
    "\n",
    "- Return the DNS A record for woot.com with the oldest ``.seen`` value:"
   ]
  },
  {
   "cell_type": "code",
   "execution_count": null,
   "metadata": {
    "hideCode": true
   },
   "outputs": [],
   "source": [
    "# Define and print test query\n",
    "q = 'inet:dns:a:fqdn=woot.com | min .seen'\n",
    "print(q)\n",
    "# Execute the query and test\n",
    "podes = await core.eval(q, num=1, cmdr=False)\n",
    "min_seen = (1379721600000, 1379808000000)\n",
    "assert min_seen  == podes[0][1].get('props', {}).get('.seen')"
   ]
  },
  {
   "cell_type": "raw",
   "metadata": {},
   "source": [
    "- Return the oldest WHOIS record for domain woot.com:"
   ]
  },
  {
   "cell_type": "code",
   "execution_count": null,
   "metadata": {
    "hideCode": true
   },
   "outputs": [],
   "source": [
    "# Define and print test query\n",
    "q = 'inet:whois:rec:fqdn=woot.com | min :asof'\n",
    "print(q)\n",
    "# Execute the query and test\n",
    "podes = await core.eval(q, num=1, cmdr=False)\n",
    "min_asof = 1516147200000\n",
    "assert min_asof  == podes[0][1].get('props', {}).get('asof')"
   ]
  },
  {
   "cell_type": "raw",
   "metadata": {},
   "source": [
    ".. _storm-movetag:\n",
    "\n",
    "movetag\n",
    "-------\n",
    "\n",
    "The ``movetag`` command moves a Synapse tag and its associated tag tree from one location in a tag hierarchy to another location. It is equivalent to \"renaming\" a given tag and all of its subtags. Moving a tag consists of:\n",
    "\n",
    "- Creating the new ``syn:tag`` node(s).\n",
    "- Copying the definitions (``:title`` and ``:doc`` properties) from the old ``syn:tag`` node to the new ``syn:tag`` node.\n",
    "- Applying the new tag(s) to the nodes with the old tag(s).\n",
    "\n",
    "  - If the old tag(s) have associated timestamps / time intervals, they will be applied to the new tag(s).\n",
    "\n",
    "- Deleting the old tag(s) from the nodes.\n",
    "- Setting the ``:isnow`` property of the old ``syn:tag`` node(s) to reference the new ``syn:tag`` node.\n",
    "\n",
    "  - The old ``syn:tag`` nodes are **not** deleted.\n",
    "  - Once the ``:isnow`` property is set, attempts to apply the old tag will automatically result in the new tag being applied.\n",
    "\n",
    "**Syntax:**"
   ]
  },
  {
   "cell_type": "code",
   "execution_count": null,
   "metadata": {
    "hideCode": true
   },
   "outputs": [],
   "source": [
    "# Run the command and display output\n",
    "q = 'movetag --help'\n",
    "podes = await core.eval(q, cmdr=True)"
   ]
  },
  {
   "cell_type": "raw",
   "metadata": {},
   "source": [
    "**Examples:**\n",
    "\n",
    "- Move the tag named #research to #internal.research:"
   ]
  },
  {
   "cell_type": "code",
   "execution_count": null,
   "metadata": {
    "hideCode": true,
    "hideOutput": true
   },
   "outputs": [],
   "source": [
    "# Make some tagged nodes\n",
    "q = '[inet:fqdn=hurr.com inet:fqdn=derp.com inet:fqdn=umwut.com +#research]'\n",
    "# Run the query and test\n",
    "podes = await core.eval(q, num=3, cmdr=False)"
   ]
  },
  {
   "cell_type": "code",
   "execution_count": null,
   "metadata": {
    "hideCode": true
   },
   "outputs": [],
   "source": [
    "# Define and print test query\n",
    "q = 'movetag research internal.research'\n",
    "print(q)\n",
    "# Execute the query and test\n",
    "podes = await core.eval(q, num=0, cmdr=False)\n",
    "podes = await core.eval('#research', num=0, cmdr=False)\n",
    "podes = await core.eval('#internal.research', num=3, cmdr=False)"
   ]
  },
  {
   "cell_type": "raw",
   "metadata": {},
   "source": [
    "- Move the tag tree #aka.fireeye.malware to #aka.feye.mal:"
   ]
  },
  {
   "cell_type": "code",
   "execution_count": null,
   "metadata": {
    "hideCode": true,
    "hideOutput": true
   },
   "outputs": [],
   "source": [
    "# Make some tagged nodes\n",
    "q = '[inet:fqdn=newsonet.net inet:fqdn=staycools.net inet:fqdn=firefoxupdata.com +#aka.fireeye.malware]'\n",
    "# Run the query and test\n",
    "podes = await core.eval(q, num=3, cmdr=False)"
   ]
  },
  {
   "cell_type": "code",
   "execution_count": null,
   "metadata": {
    "hideCode": true
   },
   "outputs": [],
   "source": [
    "# Define and print test query\n",
    "q = 'movetag aka.fireeye.malware aka.feye.mal'\n",
    "print(q)\n",
    "# Execute the query and test\n",
    "podes = await core.eval(q, num=0, cmdr=False)\n",
    "podes = await core.eval('#aka', num=3, cmdr=False)\n",
    "podes = await core.eval('#aka.fireeye', num=3, cmdr=False)\n",
    "podes = await core.eval('#aka.fireeye.malware', num=0, cmdr=False)\n",
    "podes = await core.eval('#aka.feye', num=3, cmdr=False)\n",
    "podes = await core.eval('#aka.feye.mal', num=3, cmdr=False)"
   ]
  },
  {
   "cell_type": "raw",
   "metadata": {},
   "source": [
    "**Usage Notes:**\n",
    "\n",
    ".. WARNING::\n",
    "  ``movetag`` should be used with caution as when used incorrectly it can result in \"deleted\" (inadvertently moved / removed) or orphaned (inadvertently retained) tags. For example, in the second example query above, all ``aka.fireeye.malware`` tags are renamed ``aka.feye.mal``, but the tag ``aka.fireeye`` still exists and is still applied to all of the original nodes. In other words, the result of the above command will be that nodes previously tagged ``aka.fireeye.malware`` will now be tagged both ``aka.feye.mal`` **and** ``aka.fireeye``. Users may wish to test the command on sample data first to understand its effects before applying it in a live Cortex."
   ]
  },
  {
   "cell_type": "raw",
   "metadata": {},
   "source": [
    ".. _storm-pkg:\n",
    "\n",
    "package\n",
    "-------\n",
    "\n",
    "Storm includes ``pkg.*`` commands that allow you work with Storm packages (see :ref:`gloss-package`).\n",
    "\n",
    "- `pkg.list`_\n",
    "- `pkg.del`_\n",
    "\n",
    "Help for individual ``pkg.*`` commands can be displayed using:\n",
    "\n",
    "  ``storm <command> --help | -h``\n",
    "\n",
    "Packages typically contain extended Storm commands and Storm library code used to implement a Storm :ref:`gloss-service`."
   ]
  },
  {
   "cell_type": "raw",
   "metadata": {},
   "source": [
    ".. _storm-pkg-list:\n",
    "\n",
    "pkg.list\n",
    "++++++++\n",
    "\n",
    "The ``pkg.list`` command lists each Storm package loaded in the Cortex. Output is displayed in tabluar form and includes the package name and version information.\n",
    "\n",
    "**Syntax:**"
   ]
  },
  {
   "cell_type": "code",
   "execution_count": null,
   "metadata": {
    "hideCode": true
   },
   "outputs": [],
   "source": [
    "# Run the command and display output\n",
    "q = 'pkg.list --help'\n",
    "podes = await core.eval(q, cmdr=True)"
   ]
  },
  {
   "cell_type": "raw",
   "metadata": {},
   "source": [
    ".. _storm-pkg-del:\n",
    "\n",
    "pkg.del\n",
    "+++++++\n",
    "\n",
    "The ``pkg.del`` command removes a Storm package from the Cortex.\n",
    "\n",
    "**Syntax:**"
   ]
  },
  {
   "cell_type": "code",
   "execution_count": null,
   "metadata": {
    "hideCode": true
   },
   "outputs": [],
   "source": [
    "# Run the command and display output\n",
    "q = 'pkg.del --help'\n",
    "podes = await core.eval(q, cmdr=True)"
   ]
  },
  {
   "cell_type": "raw",
   "metadata": {},
   "source": [
    ".. _storm-queue:\n",
    "\n",
    "queue\n",
    "-----\n",
    "\n",
    "Storm includes ``queue.*`` commands that allow you work with queues (see :ref:`gloss-queue`).\n",
    "\n",
    "- `queue.add`_\n",
    "- `queue.list`_\n",
    "- `queue.del`_\n",
    "\n",
    "Help for individual ``queue.*`` commands can be displayed using:\n",
    "\n",
    "  ``storm <command> --help | -h``"
   ]
  },
  {
   "cell_type": "raw",
   "metadata": {},
   "source": [
    ".. _storm-queue-add:\n",
    "\n",
    "queue.add\n",
    "+++++++++\n",
    "\n",
    "The ``queue.add`` command adds a queue to the Cortex.\n",
    "\n",
    "**Syntax:**"
   ]
  },
  {
   "cell_type": "code",
   "execution_count": null,
   "metadata": {
    "hideCode": true
   },
   "outputs": [],
   "source": [
    "# Run the command and display output\n",
    "q = 'queue.add --help'\n",
    "podes = await core.eval(q, cmdr=True)"
   ]
  },
  {
   "cell_type": "raw",
   "metadata": {},
   "source": [
    ".. _storm-queue-list:\n",
    "\n",
    "queue.list\n",
    "++++++++++\n",
    "\n",
    "The ``queue.list`` command lists each queue in the Cortex.\n",
    "\n",
    "**Syntax:**"
   ]
  },
  {
   "cell_type": "code",
   "execution_count": null,
   "metadata": {
    "hideCode": true
   },
   "outputs": [],
   "source": [
    "# Run the command and display output\n",
    "q = 'queue.list --help'\n",
    "podes = await core.eval(q, cmdr=True)"
   ]
  },
  {
   "cell_type": "raw",
   "metadata": {},
   "source": [
    ".. _storm-queue-del:\n",
    "\n",
    "queue.del\n",
    "+++++++++\n",
    "\n",
    "The ``queue.del`` command removes a queue from the Cortex.\n",
    "\n",
    "**Syntax:**"
   ]
  },
  {
   "cell_type": "code",
   "execution_count": null,
   "metadata": {
    "hideCode": true
   },
   "outputs": [],
   "source": [
    "# Run the command and display output\n",
    "q = 'queue.del --help'\n",
    "podes = await core.eval(q, cmdr=True)"
   ]
  },
  {
   "cell_type": "raw",
   "metadata": {},
   "source": [
    ".. _storm-reindex:\n",
    "\n",
    "reindex\n",
    "-------\n",
    "\n",
    "The ``reindex`` command reindexes a given node property. This is an administrative command that is typically used when data model updates have been pushed to a Cortex and existing node properties must be migrated to the new model.\n",
    "\n",
    "**Syntax:**"
   ]
  },
  {
   "cell_type": "code",
   "execution_count": null,
   "metadata": {
    "hideCode": true
   },
   "outputs": [],
   "source": [
    "# Run the command and display output\n",
    "q = 'reindex --help'\n",
    "podes = await core.eval(q, cmdr=True)"
   ]
  },
  {
   "cell_type": "raw",
   "metadata": {},
   "source": [
    ".. _storm-scrape:\n",
    "\n",
    "scrape\n",
    "------\n",
    "\n",
    "The ``scrape`` command parses one or more secondary properties or variables of the inbound node(s), attempts to identify (\"scrape\") common forms from the content, and returns nodes for the identified forms (creating the nodes if they do not already exist). This is useful (for example) to extract forms such as email addresses, domains, URLs, hashes, etc. from unstructured text.\n",
    "\n",
    "``scrape`` can optionally link the scraped forms to the source node(s) via ``edge:refs`` nodes.\n",
    "\n",
    "By default, the scrape command will yield the nodes that it got as input to allow command chaining, however if executed with the option ``--yield`` the ``scrape`` command will yield the scraped nodes rather than the input nodes.  Additionally, if ``--yield`` is specified with ``--refs`` the command will yield the ``edge:refs`` nodes created rather than the scraped nodes."
   ]
  },
  {
   "cell_type": "code",
   "execution_count": null,
   "metadata": {
    "hideCode": true
   },
   "outputs": [],
   "source": [
    "# Run the command and display output\n",
    "q = 'scrape --help'\n",
    "podes = await core.eval(q, cmdr=True)"
   ]
  },
  {
   "cell_type": "raw",
   "metadata": {},
   "source": [
    "**Examples:**\n",
    "\n",
    "- Scrape common forms and create nodes from the body of domain WHOIS record(s) for domain woot.com:"
   ]
  },
  {
   "cell_type": "code",
   "execution_count": null,
   "metadata": {
    "hideCode": true,
    "hideOutput": true
   },
   "outputs": [],
   "source": [
    "# Make a whois record node\n",
    "q = '[inet:whois:rec=(woot.com,20191216)  :created=20000112 :updated =\"20190507\" :expires=20240112 :registrant=\"woot, inc.\" :registrar=\"markmonitor inc.\" :text=\"Here is some text that contains an email address abusecomplaints@markmonitor.com and a url http://www.markmonitor.com\"]'\n",
    "# Run the query and test\n",
    "podes = await core.eval(q, num=1, cmdr=False)"
   ]
  },
  {
   "cell_type": "code",
   "execution_count": null,
   "metadata": {
    "hideCode": true
   },
   "outputs": [],
   "source": [
    "# Define and print test query\n",
    "q = 'inet:whois:rec:fqdn=woot.com | scrape :text'\n",
    "print(q)\n",
    "# Execute the query and test\n",
    "podes = await core.eval(q, num=4, cmdr=False)"
   ]
  },
  {
   "cell_type": "raw",
   "metadata": {},
   "source": [
    "- Scrape common forms from the content of a set of Internet posts from a given account, link the created nodes to the original posts, and uniq the results:"
   ]
  },
  {
   "cell_type": "code",
   "execution_count": null,
   "metadata": {
    "hideCode": true,
    "hideOutput": true
   },
   "outputs": [],
   "source": [
    "# Make a node for a Twitter post\n",
    "q = '[inet:web:post=((twitter.com,finley1589),20160918105200) :acct=(twitter.com,finley1589) :time=20160918105200 :url=http://twitter.com/finley1589/statuses/777460180225261568 :text=\"THOSE THAT LOVE THE USA PRAY! https://t.co/q5EPZrxGKk RT #STOPIslam #TCOT #CCOT #MakeDCListen #TeaParty #Conservatives\"]'\n",
    "# Run the query and test\n",
    "podes = await core.eval(q, num=1, cmdr=False)"
   ]
  },
  {
   "cell_type": "code",
   "execution_count": null,
   "metadata": {
    "hideCode": true
   },
   "outputs": [],
   "source": [
    "# Define and print test query\n",
    "q = 'inet:web:post:acct=(twitter.com,finley1589) | scrape :text --refs --yield | uniq'\n",
    "print(q)\n",
    "# Execute the query and test\n",
    "podes = await core.eval(q, num=2, cmdr=False)"
   ]
  },
  {
   "cell_type": "raw",
   "metadata": {},
   "source": [
    "**Usage Notes:**\n",
    "\n",
    "- If no properties or variables are specified, ``scrape`` will attempt to scrape all properties by default.\n",
    "- If any scraped secondary properties are already recognizable / common properties, those properties will also be scraped (and optionally linked, if ``--refs`` is also specified). That is, scraping the ``:md5`` secondary property of a node will return a ``hash:md5`` node with that property's value.\n",
    "- ``scrape`` will only scrape node properties; it will not scrape the content of any files that may be referenced by those properties. For example, attempting to scrape the ``:file`` property of a ``media:news`` node will scrape and extract the **value** of the property (typically a SHA256 hash) if present; it will not extract indicators from the referenced file itself.\n",
    "- With respect to cyber threat data in particular, ``scrape`` cannot identify and extract \"defanged\" values such as \"hxxp://\" for URLs or \"woot[.]com\" for domains."
   ]
  },
  {
   "cell_type": "raw",
   "metadata": {},
   "source": [
    ".. _storm-service:\n",
    "\n",
    "service\n",
    "-------\n",
    "\n",
    "Storm includes ``service.*`` commands that allow you work with Storm services (see :ref:`gloss-service`).\n",
    "\n",
    "- `service.add`_\n",
    "- `service.list`_\n",
    "- `service.del`_\n",
    "\n",
    "Help for individual ``service.*`` commands can be displayed using:\n",
    "\n",
    "  ``storm <command> --help | -h``"
   ]
  },
  {
   "cell_type": "raw",
   "metadata": {},
   "source": [
    ".. _storm-service-add:\n",
    "\n",
    "service.add\n",
    "+++++++++++\n",
    "\n",
    "The ``service.add`` command adds a Storm service to the Cortex.\n",
    "\n",
    "**Syntax:**"
   ]
  },
  {
   "cell_type": "code",
   "execution_count": null,
   "metadata": {
    "hideCode": true
   },
   "outputs": [],
   "source": [
    "# Run the command and display output\n",
    "q = 'service.add --help'\n",
    "podes = await core.eval(q, cmdr=True)"
   ]
  },
  {
   "cell_type": "raw",
   "metadata": {},
   "source": [
    ".. _storm-service-list:\n",
    "\n",
    "service.list\n",
    "++++++++++++\n",
    "\n",
    "The ``service.list`` command lists each Storm service in the Cortex.\n",
    "\n",
    "**Syntax:**"
   ]
  },
  {
   "cell_type": "code",
   "execution_count": null,
   "metadata": {
    "hideCode": true
   },
   "outputs": [],
   "source": [
    "# Run the command and display output\n",
    "q = 'service.list --help'\n",
    "podes = await core.eval(q, cmdr=True)"
   ]
  },
  {
   "cell_type": "raw",
   "metadata": {},
   "source": [
    ".. _storm-service-del:\n",
    "\n",
    "service.del\n",
    "+++++++++++\n",
    "\n",
    "The ``service.del`` command removes a Storm service from the Cortex.\n",
    "\n",
    "**Syntax:**"
   ]
  },
  {
   "cell_type": "code",
   "execution_count": null,
   "metadata": {
    "hideCode": true
   },
   "outputs": [],
   "source": [
    "# Run the command and display output\n",
    "q = 'service.del --help'\n",
    "podes = await core.eval(q, cmdr=True)"
   ]
  },
  {
   "cell_type": "raw",
   "metadata": {},
   "source": [
    ".. _storm-sleep:\n",
    "\n",
    "sleep\n",
    "-----\n",
    "\n",
    "The ``sleep`` command adds a delay in returning each result for a given Storm query. By default, query results are streamed back and displayed as soon as they arrive for optimal performance. A ``sleep`` delay effectively slows the display of results.\n",
    "\n",
    "**Syntax:**"
   ]
  },
  {
   "cell_type": "code",
   "execution_count": null,
   "metadata": {
    "hideCode": true
   },
   "outputs": [],
   "source": [
    "# Run the command and display output\n",
    "q = 'sleep --help'\n",
    "podes = await core.eval(q, cmdr=True)"
   ]
  },
  {
   "cell_type": "raw",
   "metadata": {},
   "source": [
    "**Example:**\n",
    "\n",
    "- Retrieve domain nodes from a Cortex every second:"
   ]
  },
  {
   "cell_type": "code",
   "execution_count": null,
   "metadata": {
    "hideCode": true,
    "hideOutput": true
   },
   "outputs": [],
   "source": [
    "# Make some nodes\n",
    "q = '[inet:email=me@gmail.com inet:email=you@yahoo.com inet:email=him@live.com inet:email=her@gmx.com]'\n",
    "# Run the query and test\n",
    "podes = await core.eval(q, num=4, cmdr=False)"
   ]
  },
  {
   "cell_type": "code",
   "execution_count": null,
   "metadata": {
    "hideCode": true
   },
   "outputs": [],
   "source": [
    "# Define and print test query\n",
    "q = 'inet:email | sleep 1.0'\n",
    "print(q)\n",
    "# Execute the query and test\n",
    "podes = await core.eval(q, num=5, cmdr=False)"
   ]
  },
  {
   "cell_type": "raw",
   "metadata": {},
   "source": [
    ".. _storm-spin:\n",
    "\n",
    "spin\n",
    "----\n",
    "\n",
    "The ``spin`` command is used to suppress the output of a Storm query. ``Spin`` simply consumes all nodes sent to the command, so no nodes are output to the CLI. This allows you to execute a Storm query and view messages and results without displaying the associated nodes.\n",
    "\n",
    "**Syntax:**"
   ]
  },
  {
   "cell_type": "code",
   "execution_count": null,
   "metadata": {
    "hideCode": true
   },
   "outputs": [],
   "source": [
    "# Run the command and display output\n",
    "q = 'spin --help'\n",
    "podes = await core.eval(q, cmdr=True)"
   ]
  },
  {
   "cell_type": "raw",
   "metadata": {},
   "source": [
    "**Examples:**\n",
    "\n",
    "- Count the number of email addresses without displaying the inet:email nodes:"
   ]
  },
  {
   "cell_type": "code",
   "execution_count": null,
   "metadata": {
    "hideCode": true
   },
   "outputs": [],
   "source": [
    "# Define and print test query\n",
    "q = 'inet:email | count | spin'\n",
    "print(q)\n",
    "# Execute the query and test\n",
    "# This may not be a good test because it only checks that 'spin' returns zero nodes\n",
    "podes = await core.eval(q, num=0, cmdr=False)\n",
    "podes = await core.eval('inet:email | count', num=5, cmdr=False)"
   ]
  },
  {
   "cell_type": "raw",
   "metadata": {},
   "source": [
    "- Add the tag #int.research to any domain containing the string \"firefox\" but do not display the nodes."
   ]
  },
  {
   "cell_type": "code",
   "execution_count": null,
   "metadata": {
    "hideCode": true,
    "hideOutput": true
   },
   "outputs": [],
   "source": [
    "# Make some domains\n",
    "q = '[inet:fqdn=myfirefox.com inet:fqdn=fakefirefox.net inet:fqdn=usefirefoxbrowser.org]'\n",
    "# Run the query and test\n",
    "podes = await core.eval(q, num=3, cmdr=False)"
   ]
  },
  {
   "cell_type": "code",
   "execution_count": null,
   "metadata": {
    "hideCode": true
   },
   "outputs": [],
   "source": [
    "# Define and print test query\n",
    "q = 'inet:fqdn~=firefox [+#int.research] | spin'\n",
    "print(q)\n",
    "# Execute the query and test\n",
    "podes = await core.eval(q, num=0, cmdr=False)\n",
    "podes = await core.eval('inet:fqdn~=firefox', num=4, cmdr=False)"
   ]
  },
  {
   "cell_type": "raw",
   "metadata": {},
   "source": [
    ".. _storm-splice:\n",
    "\n",
    "splice\n",
    "------\n",
    "\n",
    "Storm includes ``splice.*`` commands that allow you work with splices (see :ref:`gloss-splice`).\n",
    "\n",
    "- `splice.list`_\n",
    "- `splice.undo`_\n",
    "\n",
    "Splices are represented as **runtime nodes** (\"runt nodes\" - see :ref:`gloss-node-runt`) of the form ``syn:splice``. These runt nodes can be lifted and filtered just like standard nodes in a Cortex.\n",
    "\n",
    "Help for individual ``splice.*`` commands can be displayed using:\n",
    "\n",
    "  ``storm <command> --help | -h``"
   ]
  },
  {
   "cell_type": "raw",
   "metadata": {},
   "source": [
    ".. _storm-splice-list:\n",
    "\n",
    "splice.list\n",
    "+++++++++++\n",
    "\n",
    "The ``splice.list`` command allows you to list (view) splices in the splice log. By default, splices are displayed starting with the most recent and working backwards through the log.\n",
    "\n",
    "**Syntax**"
   ]
  },
  {
   "cell_type": "code",
   "execution_count": null,
   "metadata": {
    "hideCode": true
   },
   "outputs": [],
   "source": [
    "# Run the command and display output\n",
    "q = 'splice.list --help'\n",
    "podes = await core.eval(q, cmdr=True)"
   ]
  },
  {
   "cell_type": "raw",
   "metadata": {},
   "source": [
    ".. _storm-splice-undo:\n",
    "\n",
    "splice.undo\n",
    "+++++++++++\n",
    "\n",
    "The ``splice.undo`` command allows a user with appropriate permissions to roll back or undo the specified set of splices (changes).\n",
    "\n",
    "**Syntax**"
   ]
  },
  {
   "cell_type": "code",
   "execution_count": null,
   "metadata": {
    "hideCode": true
   },
   "outputs": [],
   "source": [
    "# Run the command and display output\n",
    "q = 'splice.undo --help'\n",
    "podes = await core.eval(q, cmdr=True)"
   ]
  },
  {
   "cell_type": "raw",
   "metadata": {},
   "source": [
    ".. _storm-tee:\n",
    "\n",
    "tee\n",
    "---\n",
    "\n",
    "The ``tee`` command executes multiple Storm queries on the inbound nodes and returns the combined result set.\n",
    "\n",
    "**Syntax:**"
   ]
  },
  {
   "cell_type": "code",
   "execution_count": null,
   "metadata": {
    "hideCode": true
   },
   "outputs": [],
   "source": [
    "# Run the command and display output\n",
    "q = 'tee --help'\n",
    "podes = await core.eval(q, cmdr=True)"
   ]
  },
  {
   "cell_type": "raw",
   "metadata": {},
   "source": [
    "**Examples:**\n",
    "\n",
    "- Return the set of domains and IP addresses associated with a set of DNS A records."
   ]
  },
  {
   "cell_type": "code",
   "execution_count": null,
   "metadata": {
    "hideCode": true,
    "hideOutput": true
   },
   "outputs": [],
   "source": [
    "# Make some DNS A records\n",
    "q = '[inet:dns:a=(foo.mydomain.com,8.8.8.8) inet:dns:a=(bar.mydomain.com,34.56.78.90) inet:dns:a=(baz.mydomain.com,127.0.0.2)]'\n",
    "# Run the query and test\n",
    "podes = await core.eval(q, num=3, cmdr=False)"
   ]
  },
  {
   "cell_type": "code",
   "execution_count": null,
   "metadata": {
    "hideCode": true
   },
   "outputs": [],
   "source": [
    "# Define and print test query\n",
    "q = 'inet:fqdn:zone=mydomain.com -> inet:dns:a | tee { -> inet:fqdn } { -> inet:ipv4 }'\n",
    "print(q)\n",
    "# Execute the query and test\n",
    "podes = await core.eval(q, num=6, cmdr=False)"
   ]
  },
  {
   "cell_type": "raw",
   "metadata": {},
   "source": [
    "- Return the set of domains and IP addresses associated with a set of DNS A records along with the original DNS A records."
   ]
  },
  {
   "cell_type": "code",
   "execution_count": null,
   "metadata": {
    "hideCode": true
   },
   "outputs": [],
   "source": [
    "# Define and print test query\n",
    "q = 'inet:fqdn:zone=mydomain.com -> inet:dns:a | tee --join { -> inet:fqdn } { -> inet:ipv4 }'\n",
    "print(q)\n",
    "# Execute the query and test\n",
    "podes = await core.eval(q, num=9, cmdr=False)"
   ]
  },
  {
   "cell_type": "raw",
   "metadata": {},
   "source": [
    "**Usage Notes:**\n",
    "\n",
    "- ``tee`` can take an arbitrary number of Storm queries (i.e., 1 to n queries) as arguments."
   ]
  },
  {
   "cell_type": "raw",
   "metadata": {},
   "source": [
    ".. _storm-trigger:\n",
    "\n",
    "trigger\n",
    "-------\n",
    "\n",
    "Storm includes ``trigger.*`` commands that allow you to create automated event-driven triggers (see :ref:`gloss-trigger`) using the Storm query syntax.\n",
    "\n",
    "- `trigger.add`_\n",
    "- `trigger.list`_\n",
    "- `trigger.mod`_\n",
    "- `trigger.disable`_\n",
    "- `trigger.enable`_\n",
    "- `trigger.del`_\n",
    "\n",
    "Help for individual ``trigger.*`` commands can be displayed using:\n",
    "\n",
    "  ``storm <command> --help | -h``\n",
    "\n",
    "Triggers are added to the Cortex as **runtime nodes** (\"runt nodes\" - see :ref:`gloss-node-runt`) of the form ``syn:trigger``. These runt nodes can be lifted and filtered just like standard nodes in a Cortex. See the :ref:`syn-ref-automation` document for additional information.\n",
    "\n",
    ".. NOTE::\n",
    "\n",
    "  The Storm ``trigger.*`` commands replace the Synapse cmdr-based :ref:`syn-trigger` command, which is being deprecated."
   ]
  },
  {
   "cell_type": "raw",
   "metadata": {},
   "source": [
    ".. _storm-trigger-add:\n",
    "\n",
    "trigger.add\n",
    "+++++++++++\n",
    "\n",
    "The ``trigger.add`` command adds a trigger to a Cortex.\n",
    "\n",
    "**Syntax**"
   ]
  },
  {
   "cell_type": "code",
   "execution_count": null,
   "metadata": {
    "hideCode": true
   },
   "outputs": [],
   "source": [
    "# Run the command and display output\n",
    "q = 'trigger.add --help'\n",
    "podes = await core.eval(q, cmdr=True)"
   ]
  },
  {
   "cell_type": "raw",
   "metadata": {},
   "source": [
    "**Example**\n",
    "\n",
    "Create a trigger so that when the tag ``#foo`` is added to an ``inet:fqdn`` node, the tag ``#bar`` is added as well."
   ]
  },
  {
   "cell_type": "code",
   "execution_count": null,
   "metadata": {
    "hideCode": true
   },
   "outputs": [],
   "source": [
    "# Define query\n",
    "q = 'trigger.add tag:add --form inet:fqdn --tag foo --query { [ +#bar ] }'\n",
    "# Execute the query\n",
    "podes = await core.eval(q, cmdr=True)"
   ]
  },
  {
   "cell_type": "raw",
   "metadata": {},
   "source": [
    ".. _storm-trigger-list:\n",
    "\n",
    "trigger.list\n",
    "++++++++++++\n",
    "\n",
    "The ``trigger-list`` command displays the set of triggers in the Cortex that the current user can view / modify based on their permissions. Triggers are displayed at the cmdr CLI in tabular format, with columns including the user who created the trigger, the :ref:`gloss-iden` of the trigger, the condition that fires the trigger (i.e., ``node:add``), and the Storm query associated with the trigger.\n",
    "\n",
    "Triggers are displayed in alphanumeric order by iden. Triggers are sorted upon Cortex initialization, so newly-created triggers will be displayed at the bottom of the list until the list is re-sorted the next time the Cortex is restarted.\n",
    "\n",
    ".. NOTE::\n",
    "\n",
    "  Triggers can also be viewed in runt node form as ``syn:trigger`` nodes.\n",
    "\n",
    "**Syntax**"
   ]
  },
  {
   "cell_type": "code",
   "execution_count": null,
   "metadata": {
    "hideCode": true
   },
   "outputs": [],
   "source": [
    "# Run the command and display output\n",
    "q = 'trigger.list --help'\n",
    "podes = await core.eval(q, cmdr=True)"
   ]
  },
  {
   "cell_type": "raw",
   "metadata": {},
   "source": [
    "**Examples**\n",
    "\n",
    "*trigger.list*\n",
    "\n",
    "List triggers in a Cortex."
   ]
  },
  {
   "cell_type": "code",
   "execution_count": null,
   "metadata": {
    "hideCode": true
   },
   "outputs": [],
   "source": [
    "# Define query\n",
    "q = 'trigger.list'\n",
    "# Execute the query\n",
    "podes = await core.eval(q, cmdr=True)"
   ]
  },
  {
   "cell_type": "raw",
   "metadata": {},
   "source": [
    "**Notes:**\n",
    "\n",
    "The output of ``trigger.list`` contains the following columns:\n",
    "\n",
    "- The username used to create the trigger.\n",
    "- The first eight characters of the trigger's identifier (iden).\n",
    "- Whether the trigger is currently enabled or disabled.\n",
    "- The condition that causes the trigger to fire.\n",
    "- The object that the condition operates on, if any.\n",
    "- The tag or tag expression used by the condition (for ``tag:add`` or ``tag:del`` conditions).\n",
    "- The query to be executed when the trigger fires."
   ]
  },
  {
   "cell_type": "raw",
   "metadata": {},
   "source": [
    "*triggers as runt nodes*\n",
    "\n",
    "List triggers that fire on ``tag:add`` events by lifting ``syn:trigger`` nodes."
   ]
  },
  {
   "cell_type": "code",
   "execution_count": null,
   "metadata": {
    "hideCode": true
   },
   "outputs": [],
   "source": [
    "# Define query\n",
    "q = 'syn:trigger:cond=tag:add'\n",
    "# Execute the query\n",
    "podes = await core.eval(q, cmdr=True)"
   ]
  },
  {
   "cell_type": "raw",
   "metadata": {},
   "source": [
    "**Notes:**\n",
    "\n",
    "While runt nodes (:ref:`gloss-node-runt`) are typically read-only, ``syn:trigger`` nodes include ``:name`` and ``:doc`` secondary properties that can be set and modified via Storm. This allows management of triggers by providing them with meaningful names / categoreies and / or descriptions of their purpose. Changes to these properties will persist even after a Cortex restart."
   ]
  },
  {
   "cell_type": "raw",
   "metadata": {},
   "source": [
    ".. _storm-trigger-mod:\n",
    "\n",
    "trigger.mod\n",
    "+++++++++++\n",
    "\n",
    "The ``trigger.mod`` command modifies the Storm query associated with a specific trigger. To modify a trigger, you must provide the first portion of the trigger's iden (i.e., enough of the iden that the trigger can be uniquely identified), which can be obtained using ``trigger.list`` or by lifting the appropriate ``syn:trigger`` node.\n",
    "\n",
    ".. NOTE::\n",
    "\n",
    "  Other aspects of the trigger, such as the condition used to fire the trigger or the tag or property associated with the trigger, cannot be modified once the trigger has been created. To change these aspects, you must delete and re-add the trigger.\n",
    "\n",
    "**Syntax**"
   ]
  },
  {
   "cell_type": "code",
   "execution_count": null,
   "metadata": {
    "hideCode": true
   },
   "outputs": [],
   "source": [
    "# Run the command and display output\n",
    "q = 'trigger.mod --help'\n",
    "podes = await core.eval(q, cmdr=True)"
   ]
  },
  {
   "cell_type": "raw",
   "metadata": {},
   "source": [
    ".. _storm-trigger-disable:\n",
    "\n",
    "trigger.disable\n",
    "+++++++++++++++\n",
    "\n",
    "The ``trigger.disable`` command disables a trigger and prevents it from firing without removing it from the Cortex. To disable a trigger, you must provide the first portion of the trigger's iden (i.e., enough of the iden that the trigger can be uniquely identified), which can be obtained using ``trigger.list`` or by lifting the appropriate ``syn:trigger`` node.\n",
    "\n",
    "**Syntax**"
   ]
  },
  {
   "cell_type": "code",
   "execution_count": null,
   "metadata": {
    "hideCode": true
   },
   "outputs": [],
   "source": [
    "# Run the command and display output\n",
    "q = 'trigger.disable --help'\n",
    "podes = await core.eval(q, cmdr=True)"
   ]
  },
  {
   "cell_type": "raw",
   "metadata": {},
   "source": [
    ".. _storm-trigger-enable:\n",
    "\n",
    "trigger.enable\n",
    "++++++++++++++\n",
    "\n",
    "The ``trigger-enable`` command enables a disabled trigger. To enable a trigger, you must provide the first portion of the trigger's iden (i.e., enough of the iden that the trigger can be uniquely identified), which can be obtained using ``trigger.list`` or by lifting the appropriate ``syn:trigger`` node.\n",
    "\n",
    ".. NOTE::\n",
    "\n",
    "  Triggers are enabled by default upon creation.\n",
    "\n",
    "**Syntax**"
   ]
  },
  {
   "cell_type": "code",
   "execution_count": null,
   "metadata": {
    "hideCode": true
   },
   "outputs": [],
   "source": [
    "# Run the command and display output\n",
    "q = 'trigger.enable --help'\n",
    "podes = await core.eval(q, cmdr=True)"
   ]
  },
  {
   "cell_type": "raw",
   "metadata": {},
   "source": [
    ".. _storm-trigger-del:\n",
    "\n",
    "trigger.del\n",
    "+++++++++++\n",
    "\n",
    "The ``trigger.del`` command permanently removes a trigger from the Cortex. To delete a trigger, you must provide the first portion of the trigger's iden (i.e., enough of the iden that the trigger can be uniquely identified), which can be obtained using ``trigger.list`` or by lifting the appropriate ``syn:trigger`` node.\n",
    "\n",
    "**Syntax**"
   ]
  },
  {
   "cell_type": "code",
   "execution_count": null,
   "metadata": {
    "hideCode": true
   },
   "outputs": [],
   "source": [
    "# Run the command and display output\n",
    "q = 'trigger.del --help'\n",
    "podes = await core.eval(q, cmdr=True)"
   ]
  },
  {
   "cell_type": "raw",
   "metadata": {},
   "source": [
    ".. _storm-uniq:\n",
    "\n",
    "uniq\n",
    "----\n",
    "\n",
    "The ``uniq`` command removes duplicate results from a Storm query. Results are uniqued based on each node's node identifier (node ID / iden) so that only the first node with a given node ID is returned.\n",
    "\n",
    "**Syntax:**"
   ]
  },
  {
   "cell_type": "code",
   "execution_count": null,
   "metadata": {
    "hideCode": true
   },
   "outputs": [],
   "source": [
    "# Run the command and display output\n",
    "q = 'uniq --help'\n",
    "podes = await core.eval(q, cmdr=True)"
   ]
  },
  {
   "cell_type": "raw",
   "metadata": {},
   "source": [
    "**Examples:**\n",
    "\n",
    "- Lift all of the unique IP addresses that domains associated with the Fancy Bear threat group have resolved to:"
   ]
  },
  {
   "cell_type": "code",
   "execution_count": null,
   "metadata": {
    "hideCode": true,
    "hideOutput": true
   },
   "outputs": [],
   "source": [
    "# Make some tagged nodes and A records\n",
    "q = '[inet:fqdn=autoupdater.org inet:fqdn=actblues.com inet:fqdn=euronews24.info +#aka.threatconnect.thr.fancybear]'\n",
    "q1 = '[inet:dns:a=(autoupdater.org,1.2.3.4) inet:dns:a=(autoupdater.org,5.6.7.8) inet:dns:a=(actblues.com,5.6.7.8) inet:dns:a=(euronews24.info,1.2.3.4) inet:dns:a=(euronews24.info,8.8.8.8) inet:dns:a=(euronews24.info,255.255.255.254)]'\n",
    "# Run the query and test\n",
    "podes = await core.eval(q, num=3, cmdr=False)\n",
    "podes = await core.eval(q1, num=6, cmdr=False)"
   ]
  },
  {
   "cell_type": "code",
   "execution_count": null,
   "metadata": {
    "hideCode": true
   },
   "outputs": [],
   "source": [
    "# Define and print test query\n",
    "q = 'inet:fqdn#aka.threatconnect.thr.fancybear -> inet:dns:a -> inet:ipv4 | uniq'\n",
    "print(q)\n",
    "# Execute the query and test\n",
    "podes = await core.eval(q, num=4, cmdr=False)\n",
    "q = 'inet:fqdn#aka.threatconnect.thr.fancybear -> inet:dns:a -> inet:ipv4'\n",
    "podes = await core.eval(q, num=6, cmdr=False)"
   ]
  },
  {
   "cell_type": "raw",
   "metadata": {},
   "source": [
    ".. _storm-view:\n",
    "\n",
    "view\n",
    "----\n",
    "\n",
    "Storm includes ``view.*`` commands that allow you work with views (see :ref:`gloss-view`).\n",
    "\n",
    "- `view.add`_\n",
    "- `view.fork`_\n",
    "- `view.get`_\n",
    "- `view.list`_\n",
    "- `view.merge`_\n",
    "- `view.del`_\n",
    "\n",
    "Help for individual ``view.*`` commands can be displayed using:\n",
    "\n",
    "  ``storm <command> --help | -h``"
   ]
  },
  {
   "cell_type": "raw",
   "metadata": {},
   "source": [
    ".. _storm-view-add:\n",
    "\n",
    "view.add\n",
    "++++++++\n",
    "\n",
    "The ``view.add`` command adds a view to the Cortex.\n",
    "\n",
    "**Syntax**"
   ]
  },
  {
   "cell_type": "code",
   "execution_count": null,
   "metadata": {
    "hideCode": true
   },
   "outputs": [],
   "source": [
    "# Run the command and display output\n",
    "q = 'view.add --help'\n",
    "podes = await core.eval(q, cmdr=True)"
   ]
  },
  {
   "cell_type": "raw",
   "metadata": {},
   "source": [
    ".. _storm-view-fork:\n",
    "\n",
    "view.fork\n",
    "+++++++++\n",
    "\n",
    "The ``view.fork`` command forks an existing view from the Cortex. Forking a view creates a new view with a new writeable layer on top of the set of layers from the previous (forked) view.\n",
    "\n",
    "**Syntax**"
   ]
  },
  {
   "cell_type": "code",
   "execution_count": null,
   "metadata": {
    "hideCode": true
   },
   "outputs": [],
   "source": [
    "# Run the command and display output\n",
    "q = 'view.fork --help'\n",
    "podes = await core.eval(q, cmdr=True)"
   ]
  },
  {
   "cell_type": "raw",
   "metadata": {},
   "source": [
    ".. _storm-view-get:\n",
    "\n",
    "view.get\n",
    "++++++++\n",
    "\n",
    "The ``view.get`` command retrieves an existing view from the Cortex.\n",
    "\n",
    "**Syntax**"
   ]
  },
  {
   "cell_type": "code",
   "execution_count": null,
   "metadata": {
    "hideCode": true
   },
   "outputs": [],
   "source": [
    "# Run the command and display output\n",
    "q = 'view.get --help'\n",
    "podes = await core.eval(q, cmdr=True)"
   ]
  },
  {
   "cell_type": "raw",
   "metadata": {},
   "source": [
    ".. _storm-view-list:\n",
    "\n",
    "view.list\n",
    "+++++++++\n",
    "\n",
    "The ``view.list`` command lists the views in the Cortex.\n",
    "\n",
    "**Syntax**"
   ]
  },
  {
   "cell_type": "code",
   "execution_count": null,
   "metadata": {
    "hideCode": true
   },
   "outputs": [],
   "source": [
    "# Run the command and display output\n",
    "q = 'view.list --help'\n",
    "podes = await core.eval(q, cmdr=True)"
   ]
  },
  {
   "cell_type": "raw",
   "metadata": {},
   "source": [
    ".. _storm-view-merge:\n",
    "\n",
    "view.merge\n",
    "++++++++++\n",
    "\n",
    "The ``view.merge`` command merges data from a forked view into its parent view.\n",
    "\n",
    "**Syntax**"
   ]
  },
  {
   "cell_type": "code",
   "execution_count": null,
   "metadata": {
    "hideCode": true
   },
   "outputs": [],
   "source": [
    "# Run the command and display output\n",
    "q = 'view.merge --help'\n",
    "podes = await core.eval(q, cmdr=True)"
   ]
  },
  {
   "cell_type": "raw",
   "metadata": {},
   "source": [
    ".. _storm-view-del:\n",
    "\n",
    "view.del\n",
    "++++++++\n",
    "\n",
    "The ``view.del`` command permanently deletes a view from the Cortex.\n",
    "\n",
    "**Syntax**"
   ]
  },
  {
   "cell_type": "code",
   "execution_count": null,
   "metadata": {
    "hideCode": true
   },
   "outputs": [],
   "source": [
    "# Run the command and display output\n",
    "q = 'view.del --help'\n",
    "podes = await core.eval(q, cmdr=True)"
   ]
  },
  {
   "cell_type": "code",
   "execution_count": null,
   "metadata": {
    "hideCode": true,
    "hideOutput": true
   },
   "outputs": [],
   "source": [
    "# Close cortex because done\n",
    "_ = await core.fini()"
   ]
  }
 ],
 "metadata": {
  "celltoolbar": "Hide code",
  "kernelspec": {
   "display_name": "Python 3",
   "language": "python",
   "name": "python3"
  },
  "language_info": {
   "codemirror_mode": {
    "name": "ipython",
    "version": 3
   },
   "file_extension": ".py",
   "mimetype": "text/x-python",
   "name": "python",
   "nbconvert_exporter": "python",
   "pygments_lexer": "ipython3",
   "version": "3.7.1"
  }
 },
 "nbformat": 4,
 "nbformat_minor": 2
}
