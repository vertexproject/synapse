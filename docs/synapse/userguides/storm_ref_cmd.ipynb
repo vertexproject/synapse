{
 "cells": [
  {
   "cell_type": "code",
   "execution_count": 1,
   "metadata": {
    "hideCode": true
   },
   "outputs": [],
   "source": [
    "import os, sys\n",
    "try:\n",
    "    from synapse.lib.jupyter import *\n",
    "except ImportError as e:\n",
    "    # Insert the root path of the repository to sys.path.\n",
    "    # This assumes the notebook is located three directories away\n",
    "    # From the root synapse directory. It may need to be varied\n",
    "    synroot = os.path.abspath('../../../')\n",
    "    sys.path.insert(0, synroot)\n",
    "    from synapse.lib.jupyter import *"
   ]
  },
  {
   "cell_type": "code",
   "execution_count": 2,
   "metadata": {
    "hideCode": true,
    "hideOutput": true
   },
   "outputs": [
    {
     "name": "stdout",
     "output_type": "stream",
     "text": [
      "cli> storm [inet:fqdn=woot.com]\n",
      "\n",
      "inet:fqdn=woot.com\n",
      "        .created = 2019/01/01 21:22:32.780\n",
      "        :domain = com\n",
      "        :host = woot\n",
      "        :issuffix = False\n",
      "        :iszone = True\n",
      "        :zone = woot.com\n",
      "complete. 1 nodes in 9 ms (111/sec).\n"
     ]
    }
   ],
   "source": [
    "# Get a temp cortex and preload some data into it.\n",
    "core = await getTempCoreCmdr()\n",
    "q = '[inet:fqdn=woot.com]'\n",
    "# This runs the query via the CLI, rips out the nodes, makes sure we got 1 node on the output :)\n",
    "podes = await core.eval(q, num=1, cmdr=True)\n",
    "# print(f'I got {len(podes)} podes!')\n",
    "# This runs the query directly, no CLI output\n",
    "# newpodes = await core.eval(q, num=4, cmdr=False)\n",
    "# print(f'I got {len(newpodes)} podes the second time!!')\n",
    "# await core.fini()"
   ]
  },
  {
   "cell_type": "raw",
   "metadata": {},
   "source": [
    ".. _storm-ref-cmd:\n",
    "\n",
    "Storm Reference - Storm Commands\n",
    "================================\n",
    "\n",
    "Storm commands are built-in or custom commands that can be used with the Synapse :ref:`syn-storm` command itself. As such, Storm commands must be executed following the ``storm`` command:\n",
    "\n",
    "**storm** *<command>*\n",
    "\n",
    "or\n",
    "\n",
    "**storm** *<query>* **|** *<command>* [ **|** *<query>* ]\n",
    "\n",
    "The pipe symbol ( ``|`` ) is used to send (pipe) the output from a Storm query to any of the Storm commands, and to send the output from a Storm command back to a Storm query.\n",
    "\n",
    "**Built-in commands** are native to the Storm library and loaded by default within a given Cortex. Built-in commands comprise a set of helper commands that perform a variety of specialized tasks that are useful regardless of the types of data stored in the Cortex or the types of analysis performed.\n",
    "\n",
    "**Custom commands** are Storm commands that have been added to a Cortex to invoke the execution of dynamically loaded modules. Dynamically loaded modules are typically custom modules that have been added to Synapse to support domain-specific analysis. For example, a knowledge domain that requires tracking of IP addresses might have access to a third-party service such as Maxmind to obtain up-to-date data on the assigned Autonomous System (AS) or geographical location of a given IP address. A custom ``maxmind`` module and associated Storm command could be added to Synapse to query the Maxmind database and update the appropriate secondary properties on the associated ``inet:ipv4`` nodes directly from Storm.\n",
    "\n",
    "The full list of storm commands (built-in and custom) available in a given Cortex can be displayed with ``storm help``.\n",
    "\n",
    "Help for a specific Storm command can be displayed with ``storm <command> --help``.\n",
    "\n",
    "This section details the usage and syntax for built-in Storm commands:\n",
    "\n",
    "- `help`_\n",
    "- `count`_\n",
    "- `delnode`_\n",
    "- `graph`_\n",
    "- `iden`_\n",
    "- `limit`_\n",
    "- `max`_\n",
    "- `min`_\n",
    "- `movetag`_\n",
    "- `noderefs`_\n",
    "- `reindex`_\n",
    "- `sleep`_\n",
    "- `spin`_\n",
    "- `sudo`_\n",
    "- `uniq`_\n",
    "\n",
    "See :ref:`storm-ref-syntax` for an explanation of the syntax format used below.\n",
    "\n",
    "The Storm query language is covered in detail starting with the :ref:`storm-ref-intro` section of the Synapse User Guide.\n",
    "\n",
    ".. _storm-help:\n",
    "\n",
    "help\n",
    "----\n",
    "\n",
    "The ``help`` command (``storm help``) displays the list of available built-in commands and a brief message describing each command. Help on individual commands is available via ``<command> --help``.\n",
    "\n",
    "**Syntax:**\n"
   ]
  },
  {
   "cell_type": "code",
   "execution_count": 4,
   "metadata": {
    "hideCode": true
   },
   "outputs": [
    {
     "name": "stdout",
     "output_type": "stream",
     "text": [
      "cli> storm help\n",
      "\n",
      "count: Iterate through query results, and print the resulting number of nodes\n",
      "delnode: Delete nodes produced by the previous query logic.\n",
      "graph: Generate a subgraph from the given input nodes and command line options.\n",
      "help: List available commands and a brief description for each.\n",
      "iden: Lift nodes by iden.\n",
      "limit: Limit the number of nodes generated by the query in the given position.\n",
      "max: Consume nodes and yield only the one node with the highest value for a property.\n",
      "min: Consume nodes and yield only the one node with the lowest value for a property.\n",
      "movetag: Rename an entire tag tree and preserve time intervals.\n",
      "noderefs: Get nodes adjacent to inbound nodes, up to n degrees away.\n",
      "reindex: Use admin privileges to re index/normalize node properties.\n",
      "sleep: Introduce a delay between returning each result for the storm query.\n",
      "spin: Iterate through all query results, but do not yield any.\n",
      "sudo: Use admin privileges to bypass standard query permissions.\n",
      "uniq: Filter nodes by their uniq iden values.\n",
      "\n",
      "For detailed help on any command, use <cmd> --help\n",
      "complete. 0 nodes in 5 ms (0/sec).\n"
     ]
    }
   ],
   "source": [
    "# Run the command and display output\n",
    "q = 'help'\n",
    "podes = await core.eval(q, cmdr=True)"
   ]
  },
  {
   "cell_type": "raw",
   "metadata": {},
   "source": [
    ".. _storm-count:\n",
    "\n",
    "count\n",
    "-----\n",
    "\n",
    "The ``count`` command enumerates the number of nodes returned from a given Storm query and displays the resultant nodes and associated node count.\n",
    "\n",
    "** Syntax **"
   ]
  },
  {
   "cell_type": "code",
   "execution_count": 5,
   "metadata": {
    "hideCode": true
   },
   "outputs": [
    {
     "name": "stdout",
     "output_type": "stream",
     "text": [
      "cli> storm count --help\n",
      "\n",
      "usage: count [-h]\n",
      "\n",
      "    Iterate through query results, and print the resulting number of nodes\n",
      "    which were lifted. This does yield the nodes counted.\n",
      "\n",
      "    Example:\n",
      "\n",
      "        foo:bar:size=20 | count\n",
      "\n",
      "    \n",
      "\n",
      "optional arguments:\n",
      "  -h, --help  show this help message and exit\n",
      "\n",
      "complete. 0 nodes in 4 ms (0/sec).\n"
     ]
    }
   ],
   "source": [
    "# Run the command and display output\n",
    "q = 'count --help'\n",
    "podes = await core.eval(q, cmdr=True)"
   ]
  },
  {
   "cell_type": "raw",
   "metadata": {},
   "source": [
    "**Examples:**\n",
    "\n",
    "*Count the number of email address nodes:*\n"
   ]
  },
  {
   "cell_type": "code",
   "execution_count": 6,
   "metadata": {
    "hideCode": true,
    "hideOutput": true
   },
   "outputs": [
    {
     "name": "stdout",
     "output_type": "stream",
     "text": [
      "cli> storm [inet:email=me@gmail.com inet:email=you@yahoo.com]\n",
      "\n",
      "inet:email=me@gmail.com\n",
      "        .created = 2019/01/01 21:33:57.759\n",
      "        :fqdn = gmail.com\n",
      "        :user = me\n",
      "inet:email=you@yahoo.com\n",
      "        .created = 2019/01/01 21:33:57.761\n",
      "        :fqdn = yahoo.com\n",
      "        :user = you\n",
      "complete. 2 nodes in 15 ms (133/sec).\n"
     ]
    }
   ],
   "source": [
    "# Make some email nodes\n",
    "q = '[inet:email=me@gmail.com inet:email=you@yahoo.com]'\n",
    "# Run the query and test\n",
    "podes = await core.eval(q, num=2, cmdr=True)"
   ]
  },
  {
   "cell_type": "code",
   "execution_count": 7,
   "metadata": {
    "hideCode": true
   },
   "outputs": [
    {
     "name": "stdout",
     "output_type": "stream",
     "text": [
      "inet:email | count\n"
     ]
    }
   ],
   "source": [
    "# Define and print test query\n",
    "q = 'inet:email | count'\n",
    "print(q)\n",
    "# Execute the query and test\n",
    "podes = await core.eval(q, num=2, cmdr=False)"
   ]
  },
  {
   "cell_type": "raw",
   "metadata": {},
   "source": [
    "*Count the number of DNS A records in the Cortex for the domain woot.com:*\n"
   ]
  },
  {
   "cell_type": "code",
   "execution_count": 8,
   "metadata": {
    "hideCode": true,
    "hideOutput": true
   },
   "outputs": [
    {
     "name": "stdout",
     "output_type": "stream",
     "text": [
      "cli> storm [inet:dns:a=(woot.com,1.2.3.4) inet:dns:a=(woot.com,5.6.7.8)]\n",
      "\n",
      "inet:dns:a=('woot.com', '1.2.3.4')\n",
      "        .created = 2019/01/01 21:35:39.332\n",
      "        :fqdn = woot.com\n",
      "        :ipv4 = 1.2.3.4\n",
      "inet:dns:a=('woot.com', '5.6.7.8')\n",
      "        .created = 2019/01/01 21:35:39.335\n",
      "        :fqdn = woot.com\n",
      "        :ipv4 = 5.6.7.8\n",
      "complete. 2 nodes in 25 ms (80/sec).\n"
     ]
    }
   ],
   "source": [
    "# Make some DNS A records\n",
    "q = '[inet:dns:a=(woot.com,1.2.3.4) inet:dns:a=(woot.com,5.6.7.8)]'\n",
    "# Run the query and test\n",
    "podes = await core.eval(q, num=2, cmdr=True)"
   ]
  },
  {
   "cell_type": "code",
   "execution_count": 9,
   "metadata": {
    "hideCode": true
   },
   "outputs": [
    {
     "name": "stdout",
     "output_type": "stream",
     "text": [
      "inet:dns:a:fqdn=woot.com | count\n"
     ]
    }
   ],
   "source": [
    "# Define and print test query\n",
    "q = 'inet:dns:a:fqdn=woot.com | count'\n",
    "print(q)\n",
    "# Execute the query and test\n",
    "podes = await core.eval(q, num=2, cmdr=False)"
   ]
  },
  {
   "cell_type": "raw",
   "metadata": {},
   "source": [
    "**Usage Notes:**\n",
    "\n",
    "- ``count`` does not consume nodes, so Storm will stream the nodes being counted to the CLI output while the command executes. To count nodes without streaming the output, ``count`` can be piped to the `spin`_ command. ``Spin`` consumes nodes and so will prevent nodes processed by the ``count`` command from streaming.\n",
    "\n",
    ".. _storm-delnode:\n",
    "\n",
    "delnode\n",
    "-------\n",
    "\n",
    "The ``delnode`` command deletes a node or set of nodes from a Cortex.\n",
    "\n",
    ".. WARNING::\n",
    "  The Storm ``delnode`` command has the potential to be destructive if executed on an incorrect, badly formed, or mistyped query. Users are strongly encouraged to validate their query by first executing it on its own to confirm it returns the expected nodes before piping the query to the ``delnode`` command.\n",
    "\n",
    "**Syntax:**\n"
   ]
  },
  {
   "cell_type": "code",
   "execution_count": 10,
   "metadata": {
    "hideCode": true,
    "scrolled": true
   },
   "outputs": [
    {
     "name": "stdout",
     "output_type": "stream",
     "text": [
      "cli> storm delnode --help\n",
      "\n",
      "usage: delnode [-h] [--force]\n",
      "\n",
      "    Delete nodes produced by the previous query logic.\n",
      "\n",
      "    (no nodes are returned)\n",
      "\n",
      "    Example\n",
      "\n",
      "        inet:fqdn=vertex.link | delnode\n",
      "    \n",
      "\n",
      "optional arguments:\n",
      "  -h, --help  show this help message and exit\n",
      "  --force     Force delete even if it causes broken references (requires\n",
      "              admin).\n",
      "\n",
      "complete. 0 nodes in 3 ms (0/sec).\n"
     ]
    }
   ],
   "source": [
    "# Run the command and display output\n",
    "q = 'delnode --help'\n",
    "podes = await core.eval(q, cmdr=True)"
   ]
  },
  {
   "cell_type": "raw",
   "metadata": {},
   "source": [
    "**Examples:**\n",
    "\n",
    "*Delete the node for the domain woowoo.com:*\n"
   ]
  },
  {
   "cell_type": "code",
   "execution_count": 12,
   "metadata": {
    "hideCode": true,
    "hideOutput": true,
    "scrolled": true
   },
   "outputs": [
    {
     "name": "stdout",
     "output_type": "stream",
     "text": [
      "cli> storm [inet:fqdn=woowoo.com]\n",
      "\n",
      "inet:fqdn=woowoo.com\n",
      "        .created = 2019/01/01 21:44:34.841\n",
      "        :domain = com\n",
      "        :host = woowoo\n",
      "        :issuffix = False\n",
      "        :iszone = True\n",
      "        :zone = woowoo.com\n",
      "complete. 1 nodes in 26 ms (38/sec).\n"
     ]
    }
   ],
   "source": [
    "# Make a node\n",
    "q = '[inet:fqdn=woowoo.com]'\n",
    "# Run the query and test\n",
    "podes = await core.eval(q, num=1, cmdr=True)"
   ]
  },
  {
   "cell_type": "code",
   "execution_count": 13,
   "metadata": {
    "hideCode": true
   },
   "outputs": [
    {
     "name": "stdout",
     "output_type": "stream",
     "text": [
      "inet:fqdn=woowoo.com | delnode\n"
     ]
    }
   ],
   "source": [
    "# Define and print test query\n",
    "q = 'inet:fqdn=woowoo.com | delnode'\n",
    "print(q)\n",
    "# Execute the query and test\n",
    "podes = await core.eval(q, num=0, cmdr=False)"
   ]
  },
  {
   "cell_type": "raw",
   "metadata": {},
   "source": [
    "*Forcibly delete all nodes with the #testing tag:*"
   ]
  },
  {
   "cell_type": "code",
   "execution_count": 17,
   "metadata": {
    "hideCode": true,
    "hideOutput": true
   },
   "outputs": [
    {
     "name": "stdout",
     "output_type": "stream",
     "text": [
      "cli> storm [inet:dns:a=(woowoo.com,1.2.3.4)]\n",
      "\n",
      "inet:dns:a=('woowoo.com', '1.2.3.4')\n",
      "        .created = 2019/01/01 21:47:04.808\n",
      "        :fqdn = woowoo.com\n",
      "        :ipv4 = 1.2.3.4\n",
      "complete. 1 nodes in 3 ms (333/sec).\n",
      "cli> storm [inet:fqdn=woowoo.com inet:fqdn=hurr.com inet:fqdn=derp.com +#testing]\n",
      "\n",
      "inet:fqdn=woowoo.com\n",
      "        .created = 2019/01/01 21:47:04.806\n",
      "        :domain = com\n",
      "        :host = woowoo\n",
      "        :issuffix = False\n",
      "        :iszone = True\n",
      "        :zone = woowoo.com\n",
      "        #testing\n",
      "inet:fqdn=hurr.com\n",
      "        .created = 2019/01/01 21:48:03.823\n",
      "        :domain = com\n",
      "        :host = hurr\n",
      "        :issuffix = False\n",
      "        :iszone = True\n",
      "        :zone = hurr.com\n",
      "        #testing\n",
      "inet:fqdn=derp.com\n",
      "        .created = 2019/01/01 21:48:03.824\n",
      "        :domain = com\n",
      "        :host = derp\n",
      "        :issuffix = False\n",
      "        :iszone = True\n",
      "        :zone = derp.com\n",
      "        #testing\n",
      "complete. 3 nodes in 5 ms (600/sec).\n"
     ]
    }
   ],
   "source": [
    "# Make and tag some nodes\n",
    "q = '[inet:dns:a=(woowoo.com,1.2.3.4)]'\n",
    "q1 = '[inet:fqdn=woowoo.com inet:fqdn=hurr.com inet:fqdn=derp.com +#testing]'\n",
    "# Run the query and test\n",
    "podes = await core.eval(q, num=1, cmdr=True)\n",
    "podes = await core.eval(q1, num=3, cmdr=True)"
   ]
  },
  {
   "cell_type": "code",
   "execution_count": 19,
   "metadata": {
    "hideCode": true
   },
   "outputs": [
    {
     "name": "stdout",
     "output_type": "stream",
     "text": [
      "#testing | delnode --force\n"
     ]
    }
   ],
   "source": [
    "# Define and print test query\n",
    "q = '#testing | delnode --force'\n",
    "print(q)\n",
    "# Execute the query and test\n",
    "podes = await core.eval(q, num=0, cmdr=False)"
   ]
  },
  {
   "cell_type": "raw",
   "metadata": {},
   "source": [
    "**Usage Notes:**\n",
    "\n",
    "- ``delnode`` operates on the output of a previous Storm query.\n",
    "- ``delnode`` will attempt to perform some basic sanity-checking to help prevent egregious mistakes. For example, ``delnode`` will return an error if you attempt to delete a node that is still referenced by another node (such as an ``inet:fqdn`` that is referenced by an ``inet:dns:a`` node). Similarly, delnode will return an error if you attempt to delete a ``syn:tag`` node if that tag is still applied to other nodes. **However, delnode cannot prevent all mistakes.**\n",
    "- The ``--force`` parameter will forcibly delete the nodes input to the command, regardless of any sanity-checking errors or other conditions. **This parameter should be used with extreme caution.**"
   ]
  },
  {
   "cell_type": "raw",
   "metadata": {},
   "source": [
    ".. _storm-graph:\n",
    "\n",
    "graph\n",
    "-----\n",
    "\n",
    "The ``graph`` command generates a subgraph based on a specified set of nodes and parameters.\n",
    "\n",
    "**Syntax:**\n"
   ]
  },
  {
   "cell_type": "code",
   "execution_count": 23,
   "metadata": {
    "hideCode": true,
    "scrolled": true
   },
   "outputs": [
    {
     "name": "stdout",
     "output_type": "stream",
     "text": [
      "cli> storm graph --help\n",
      "\n",
      "usage: graph [-h] [--degrees DEGREES] [--pivot PIVOT] [--filter FILTER]\n",
      "             [--form-pivot FORM_PIVOT FORM_PIVOT]\n",
      "             [--form-filter FORM_FILTER FORM_FILTER]\n",
      "\n",
      "    Generate a subgraph from the given input nodes and command line options.\n",
      "    \n",
      "\n",
      "optional arguments:\n",
      "  -h, --help            show this help message and exit\n",
      "  --degrees DEGREES     How many degrees to graph out.\n",
      "  --pivot PIVOT         Specify a storm pivot for all nodes. (must quote)\n",
      "  --filter FILTER       Specify a storm filter for all nodes. (must quote)\n",
      "  --form-pivot FORM_PIVOT FORM_PIVOT\n",
      "                        Specify a <form> <pivot> form specific pivot.\n",
      "  --form-filter FORM_FILTER FORM_FILTER\n",
      "                        Specify a <form> <filter> form specific filter.\n",
      "\n",
      "complete. 0 nodes in 7 ms (0/sec).\n"
     ]
    }
   ],
   "source": [
    "# Run the command and display output\n",
    "q = 'graph --help'\n",
    "podes = await core.eval(q, cmdr=True)"
   ]
  },
  {
   "cell_type": "raw",
   "metadata": {},
   "source": [
    "**Examples:**\n",
    "\n",
    "TBD"
   ]
  },
  {
   "cell_type": "raw",
   "metadata": {},
   "source": [
    ".. _storm-iden:\n",
    "\n",
    "iden\n",
    "----\n",
    "\n",
    "The ``iden`` command lifts one or more nodes by their node identifier (node ID / iden).\n",
    "\n",
    "**Syntax:**\n"
   ]
  },
  {
   "cell_type": "code",
   "execution_count": 24,
   "metadata": {
    "hideCode": true
   },
   "outputs": [
    {
     "name": "stdout",
     "output_type": "stream",
     "text": [
      "cli> storm iden --help\n",
      "\n",
      "usage: iden [-h] [iden [iden ...]]\n",
      "\n",
      "    Lift nodes by iden.\n",
      "\n",
      "    Example:\n",
      "\n",
      "        iden b25bc9eec7e159dce879f9ec85fb791f83b505ac55b346fcb64c3c51e98d1175 | count\n",
      "    \n",
      "\n",
      "positional arguments:\n",
      "  iden        Iden to lift nodes by. May be specified multiple times.\n",
      "\n",
      "optional arguments:\n",
      "  -h, --help  show this help message and exit\n",
      "\n",
      "complete. 0 nodes in 4 ms (0/sec).\n"
     ]
    }
   ],
   "source": [
    "# Run the command and display output\n",
    "q = 'iden --help'\n",
    "podes = await core.eval(q, cmdr=True)"
   ]
  },
  {
   "cell_type": "raw",
   "metadata": {},
   "source": [
    "**Example:**\n",
    "\n",
    "*Lift the node with node ID d7fb3ae625e295c9279c034f5d91a7ad9132c79a9c2b16eecffc8d1609d75849:*"
   ]
  },
  {
   "cell_type": "code",
   "execution_count": 25,
   "metadata": {
    "hideCode": true
   },
   "outputs": [
    {
     "name": "stdout",
     "output_type": "stream",
     "text": [
      "iden d7fb3ae625e295c9279c034f5d91a7ad9132c79a9c2b16eecffc8d1609d75849\n"
     ]
    }
   ],
   "source": [
    "# Define and print test query\n",
    "q = 'iden d7fb3ae625e295c9279c034f5d91a7ad9132c79a9c2b16eecffc8d1609d75849'\n",
    "print(q)\n",
    "# Execute the query and test\n",
    "podes = await core.eval(q, num=1, cmdr=False)"
   ]
  },
  {
   "cell_type": "raw",
   "metadata": {},
   "source": [
    "**Usage Notes:**\n",
    "\n",
    "- The node ID (iden) for a given node can be obtained by lifting the node using the ``--raw`` option to the :ref:`syn-storm` command:\n",
    "\n",
    "  - ``storm --raw inet:fqdn=woot.com``\n",
    "\n",
    ".. _storm-limit:\n",
    "\n",
    "limit\n",
    "-----\n",
    "\n",
    "The ``limit`` command restricts the number of nodes returned from a given Storm query to the specified number of nodes.\n",
    "\n",
    "**Syntax:**"
   ]
  },
  {
   "cell_type": "code",
   "execution_count": 26,
   "metadata": {
    "hideCode": true
   },
   "outputs": [
    {
     "name": "stdout",
     "output_type": "stream",
     "text": [
      "cli> storm limit --help\n",
      "\n",
      "usage: limit [-h] count\n",
      "\n",
      "    Limit the number of nodes generated by the query in the given position.\n",
      "\n",
      "    Example:\n",
      "\n",
      "        inet:ipv4 | limit 10\n",
      "    \n",
      "\n",
      "positional arguments:\n",
      "  count       The maximum number of nodes to yield.\n",
      "\n",
      "optional arguments:\n",
      "  -h, --help  show this help message and exit\n",
      "\n",
      "complete. 0 nodes in 2 ms (0/sec).\n"
     ]
    }
   ],
   "source": [
    "# Run the command and display output\n",
    "q = 'limit --help'\n",
    "podes = await core.eval(q, cmdr=True)"
   ]
  },
  {
   "cell_type": "raw",
   "metadata": {},
   "source": [
    "**Example:**\n",
    "\n",
    "*Lift ten IP address nodes:*"
   ]
  },
  {
   "cell_type": "code",
   "execution_count": 27,
   "metadata": {
    "hideCode": true,
    "hideOutput": true
   },
   "outputs": [
    {
     "name": "stdout",
     "output_type": "stream",
     "text": [
      "cli> storm [inet:ipv4=192.168.0.0/24]\n",
      "\n",
      "inet:ipv4=192.168.0.0\n",
      "        .created = 2019/01/01 22:08:46.723\n",
      "        :asn = 0\n",
      "        :loc = ??\n",
      "        :type = private\n",
      "inet:ipv4=192.168.0.1\n",
      "        .created = 2019/01/01 22:08:46.723\n",
      "        :asn = 0\n",
      "        :loc = ??\n",
      "        :type = private\n",
      "inet:ipv4=192.168.0.2\n",
      "        .created = 2019/01/01 22:08:46.724\n",
      "        :asn = 0\n",
      "        :loc = ??\n",
      "        :type = private\n",
      "inet:ipv4=192.168.0.3\n",
      "        .created = 2019/01/01 22:08:46.724\n",
      "        :asn = 0\n",
      "        :loc = ??\n",
      "        :type = private\n",
      "inet:ipv4=192.168.0.4\n",
      "        .created = 2019/01/01 22:08:46.756\n",
      "        :asn = 0\n",
      "        :loc = ??\n",
      "        :type = private\n",
      "inet:ipv4=192.168.0.5\n",
      "        .created = 2019/01/01 22:08:46.757\n",
      "        :asn = 0\n",
      "        :loc = ??\n",
      "        :type = private\n",
      "inet:ipv4=192.168.0.6\n",
      "        .created = 2019/01/01 22:08:46.758\n",
      "        :asn = 0\n",
      "        :loc = ??\n",
      "        :type = private\n",
      "inet:ipv4=192.168.0.7\n",
      "        .created = 2019/01/01 22:08:46.759\n",
      "        :asn = 0\n",
      "        :loc = ??\n",
      "        :type = private\n",
      "inet:ipv4=192.168.0.8\n",
      "        .created = 2019/01/01 22:08:46.760\n",
      "        :asn = 0\n",
      "        :loc = ??\n",
      "        :type = private\n",
      "inet:ipv4=192.168.0.9\n",
      "        .created = 2019/01/01 22:08:46.761\n",
      "        :asn = 0\n",
      "        :loc = ??\n",
      "        :type = private\n",
      "inet:ipv4=192.168.0.10\n",
      "        .created = 2019/01/01 22:08:46.762\n",
      "        :asn = 0\n",
      "        :loc = ??\n",
      "        :type = private\n",
      "inet:ipv4=192.168.0.11\n",
      "        .created = 2019/01/01 22:08:46.763\n",
      "        :asn = 0\n",
      "        :loc = ??\n",
      "        :type = private\n",
      "inet:ipv4=192.168.0.12\n",
      "        .created = 2019/01/01 22:08:46.764\n",
      "        :asn = 0\n",
      "        :loc = ??\n",
      "        :type = private\n",
      "inet:ipv4=192.168.0.13\n",
      "        .created = 2019/01/01 22:08:46.764\n",
      "        :asn = 0\n",
      "        :loc = ??\n",
      "        :type = private\n",
      "inet:ipv4=192.168.0.14\n",
      "        .created = 2019/01/01 22:08:46.767\n",
      "        :asn = 0\n",
      "        :loc = ??\n",
      "        :type = private\n",
      "inet:ipv4=192.168.0.15\n",
      "        .created = 2019/01/01 22:08:46.769\n",
      "        :asn = 0\n",
      "        :loc = ??\n",
      "        :type = private\n",
      "inet:ipv4=192.168.0.16\n",
      "        .created = 2019/01/01 22:08:46.771\n",
      "        :asn = 0\n",
      "        :loc = ??\n",
      "        :type = private\n",
      "inet:ipv4=192.168.0.17\n",
      "        .created = 2019/01/01 22:08:46.772\n",
      "        :asn = 0\n",
      "        :loc = ??\n",
      "        :type = private\n",
      "inet:ipv4=192.168.0.18\n",
      "        .created = 2019/01/01 22:08:46.775\n",
      "        :asn = 0\n",
      "        :loc = ??\n",
      "        :type = private\n",
      "inet:ipv4=192.168.0.19\n",
      "        .created = 2019/01/01 22:08:46.776\n",
      "        :asn = 0\n",
      "        :loc = ??\n",
      "        :type = private\n",
      "inet:ipv4=192.168.0.20\n",
      "        .created = 2019/01/01 22:08:46.777\n",
      "        :asn = 0\n",
      "        :loc = ??\n",
      "        :type = private\n",
      "inet:ipv4=192.168.0.21\n",
      "        .created = 2019/01/01 22:08:46.778\n",
      "        :asn = 0\n",
      "        :loc = ??\n",
      "        :type = private\n",
      "inet:ipv4=192.168.0.22\n",
      "        .created = 2019/01/01 22:08:46.779\n",
      "        :asn = 0\n",
      "        :loc = ??\n",
      "        :type = private\n",
      "inet:ipv4=192.168.0.23\n",
      "        .created = 2019/01/01 22:08:46.780\n",
      "        :asn = 0\n",
      "        :loc = ??\n",
      "        :type = private\n",
      "inet:ipv4=192.168.0.24\n",
      "        .created = 2019/01/01 22:08:46.781\n",
      "        :asn = 0\n",
      "        :loc = ??\n",
      "        :type = private\n",
      "inet:ipv4=192.168.0.25\n",
      "        .created = 2019/01/01 22:08:46.781\n",
      "        :asn = 0\n",
      "        :loc = ??\n",
      "        :type = private\n",
      "inet:ipv4=192.168.0.26\n",
      "        .created = 2019/01/01 22:08:46.782\n",
      "        :asn = 0\n",
      "        :loc = ??\n",
      "        :type = private\n",
      "inet:ipv4=192.168.0.27\n",
      "        .created = 2019/01/01 22:08:46.783\n",
      "        :asn = 0\n",
      "        :loc = ??\n",
      "        :type = private\n",
      "inet:ipv4=192.168.0.28\n",
      "        .created = 2019/01/01 22:08:46.784\n",
      "        :asn = 0\n",
      "        :loc = ??\n",
      "        :type = private\n",
      "inet:ipv4=192.168.0.29\n",
      "        .created = 2019/01/01 22:08:46.785\n",
      "        :asn = 0\n",
      "        :loc = ??\n",
      "        :type = private\n",
      "inet:ipv4=192.168.0.30\n",
      "        .created = 2019/01/01 22:08:46.786\n",
      "        :asn = 0\n",
      "        :loc = ??\n",
      "        :type = private\n",
      "inet:ipv4=192.168.0.31\n",
      "        .created = 2019/01/01 22:08:46.787\n",
      "        :asn = 0\n",
      "        :loc = ??\n",
      "        :type = private\n",
      "inet:ipv4=192.168.0.32\n",
      "        .created = 2019/01/01 22:08:46.788\n",
      "        :asn = 0\n",
      "        :loc = ??\n",
      "        :type = private\n",
      "inet:ipv4=192.168.0.33\n",
      "        .created = 2019/01/01 22:08:46.788\n",
      "        :asn = 0\n",
      "        :loc = ??\n",
      "        :type = private\n",
      "inet:ipv4=192.168.0.34\n",
      "        .created = 2019/01/01 22:08:46.789\n",
      "        :asn = 0\n",
      "        :loc = ??\n",
      "        :type = private\n",
      "inet:ipv4=192.168.0.35\n",
      "        .created = 2019/01/01 22:08:46.790\n",
      "        :asn = 0\n",
      "        :loc = ??\n",
      "        :type = private\n",
      "inet:ipv4=192.168.0.36\n",
      "        .created = 2019/01/01 22:08:46.791\n",
      "        :asn = 0\n",
      "        :loc = ??\n",
      "        :type = private\n",
      "inet:ipv4=192.168.0.37\n",
      "        .created = 2019/01/01 22:08:46.792\n",
      "        :asn = 0\n",
      "        :loc = ??\n",
      "        :type = private\n",
      "inet:ipv4=192.168.0.38\n",
      "        .created = 2019/01/01 22:08:46.793\n",
      "        :asn = 0\n",
      "        :loc = ??\n",
      "        :type = private\n",
      "inet:ipv4=192.168.0.39\n",
      "        .created = 2019/01/01 22:08:46.794\n",
      "        :asn = 0\n",
      "        :loc = ??\n",
      "        :type = private\n",
      "inet:ipv4=192.168.0.40\n",
      "        .created = 2019/01/01 22:08:46.795\n",
      "        :asn = 0\n",
      "        :loc = ??\n",
      "        :type = private\n",
      "inet:ipv4=192.168.0.41\n",
      "        .created = 2019/01/01 22:08:46.795\n",
      "        :asn = 0\n",
      "        :loc = ??\n",
      "        :type = private\n",
      "inet:ipv4=192.168.0.42\n",
      "        .created = 2019/01/01 22:08:46.796\n",
      "        :asn = 0\n",
      "        :loc = ??\n",
      "        :type = private\n",
      "inet:ipv4=192.168.0.43\n",
      "        .created = 2019/01/01 22:08:46.797\n",
      "        :asn = 0\n",
      "        :loc = ??\n",
      "        :type = private\n",
      "inet:ipv4=192.168.0.44\n",
      "        .created = 2019/01/01 22:08:46.798\n",
      "        :asn = 0\n",
      "        :loc = ??\n",
      "        :type = private\n",
      "inet:ipv4=192.168.0.45\n",
      "        .created = 2019/01/01 22:08:46.799\n",
      "        :asn = 0\n",
      "        :loc = ??\n",
      "        :type = private\n",
      "inet:ipv4=192.168.0.46\n",
      "        .created = 2019/01/01 22:08:46.802\n",
      "        :asn = 0\n",
      "        :loc = ??\n",
      "        :type = private\n",
      "inet:ipv4=192.168.0.47\n",
      "        .created = 2019/01/01 22:08:46.802\n",
      "        :asn = 0\n",
      "        :loc = ??\n",
      "        :type = private\n",
      "inet:ipv4=192.168.0.48\n",
      "        .created = 2019/01/01 22:08:46.803\n",
      "        :asn = 0\n",
      "        :loc = ??\n",
      "        :type = private\n",
      "inet:ipv4=192.168.0.49\n",
      "        .created = 2019/01/01 22:08:46.804\n",
      "        :asn = 0\n",
      "        :loc = ??\n",
      "        :type = private\n",
      "inet:ipv4=192.168.0.50\n",
      "        .created = 2019/01/01 22:08:46.805\n",
      "        :asn = 0\n",
      "        :loc = ??\n",
      "        :type = private\n",
      "inet:ipv4=192.168.0.51\n",
      "        .created = 2019/01/01 22:08:46.806\n",
      "        :asn = 0\n",
      "        :loc = ??\n",
      "        :type = private\n",
      "inet:ipv4=192.168.0.52\n",
      "        .created = 2019/01/01 22:08:46.807\n",
      "        :asn = 0\n",
      "        :loc = ??\n",
      "        :type = private\n",
      "inet:ipv4=192.168.0.53\n",
      "        .created = 2019/01/01 22:08:46.808\n",
      "        :asn = 0\n",
      "        :loc = ??\n",
      "        :type = private\n",
      "inet:ipv4=192.168.0.54\n",
      "        .created = 2019/01/01 22:08:46.809\n",
      "        :asn = 0\n",
      "        :loc = ??\n",
      "        :type = private\n",
      "inet:ipv4=192.168.0.55\n",
      "        .created = 2019/01/01 22:08:46.809\n",
      "        :asn = 0\n",
      "        :loc = ??\n",
      "        :type = private\n",
      "inet:ipv4=192.168.0.56\n",
      "        .created = 2019/01/01 22:08:46.810\n",
      "        :asn = 0\n",
      "        :loc = ??\n",
      "        :type = private\n",
      "inet:ipv4=192.168.0.57\n",
      "        .created = 2019/01/01 22:08:46.811\n",
      "        :asn = 0\n",
      "        :loc = ??\n",
      "        :type = private\n",
      "inet:ipv4=192.168.0.58\n",
      "        .created = 2019/01/01 22:08:46.812\n",
      "        :asn = 0\n",
      "        :loc = ??\n",
      "        :type = private\n",
      "inet:ipv4=192.168.0.59\n",
      "        .created = 2019/01/01 22:08:46.813\n",
      "        :asn = 0\n",
      "        :loc = ??\n",
      "        :type = private\n",
      "inet:ipv4=192.168.0.60\n",
      "        .created = 2019/01/01 22:08:46.814\n",
      "        :asn = 0\n",
      "        :loc = ??\n",
      "        :type = private\n",
      "inet:ipv4=192.168.0.61\n",
      "        .created = 2019/01/01 22:08:46.815\n",
      "        :asn = 0\n",
      "        :loc = ??\n",
      "        :type = private\n",
      "inet:ipv4=192.168.0.62\n",
      "        .created = 2019/01/01 22:08:46.816\n",
      "        :asn = 0\n",
      "        :loc = ??\n",
      "        :type = private\n",
      "inet:ipv4=192.168.0.63\n",
      "        .created = 2019/01/01 22:08:46.816\n",
      "        :asn = 0\n",
      "        :loc = ??\n",
      "        :type = private\n",
      "inet:ipv4=192.168.0.64\n",
      "        .created = 2019/01/01 22:08:46.818\n",
      "        :asn = 0\n",
      "        :loc = ??\n",
      "        :type = private\n",
      "inet:ipv4=192.168.0.65\n",
      "        .created = 2019/01/01 22:08:46.818\n",
      "        :asn = 0\n",
      "        :loc = ??\n",
      "        :type = private\n",
      "inet:ipv4=192.168.0.66\n",
      "        .created = 2019/01/01 22:08:46.819\n",
      "        :asn = 0\n",
      "        :loc = ??\n",
      "        :type = private\n",
      "inet:ipv4=192.168.0.67\n",
      "        .created = 2019/01/01 22:08:46.820\n",
      "        :asn = 0\n",
      "        :loc = ??\n",
      "        :type = private\n",
      "inet:ipv4=192.168.0.68\n",
      "        .created = 2019/01/01 22:08:46.821\n",
      "        :asn = 0\n",
      "        :loc = ??\n",
      "        :type = private\n",
      "inet:ipv4=192.168.0.69\n",
      "        .created = 2019/01/01 22:08:46.822\n",
      "        :asn = 0\n",
      "        :loc = ??\n",
      "        :type = private\n",
      "inet:ipv4=192.168.0.70\n",
      "        .created = 2019/01/01 22:08:46.823\n",
      "        :asn = 0\n",
      "        :loc = ??\n",
      "        :type = private\n",
      "inet:ipv4=192.168.0.71\n",
      "        .created = 2019/01/01 22:08:46.823\n",
      "        :asn = 0\n",
      "        :loc = ??\n",
      "        :type = private\n",
      "inet:ipv4=192.168.0.72\n",
      "        .created = 2019/01/01 22:08:46.824\n",
      "        :asn = 0\n",
      "        :loc = ??\n",
      "        :type = private\n",
      "inet:ipv4=192.168.0.73\n",
      "        .created = 2019/01/01 22:08:46.825\n",
      "        :asn = 0\n",
      "        :loc = ??\n",
      "        :type = private\n",
      "inet:ipv4=192.168.0.74\n",
      "        .created = 2019/01/01 22:08:46.826\n",
      "        :asn = 0\n",
      "        :loc = ??\n",
      "        :type = private\n",
      "inet:ipv4=192.168.0.75\n",
      "        .created = 2019/01/01 22:08:46.827\n",
      "        :asn = 0\n",
      "        :loc = ??\n",
      "        :type = private\n",
      "inet:ipv4=192.168.0.76\n",
      "        .created = 2019/01/01 22:08:46.828\n",
      "        :asn = 0\n",
      "        :loc = ??\n",
      "        :type = private\n",
      "inet:ipv4=192.168.0.77\n",
      "        .created = 2019/01/01 22:08:46.829\n",
      "        :asn = 0\n",
      "        :loc = ??\n",
      "        :type = private\n",
      "inet:ipv4=192.168.0.78\n",
      "        .created = 2019/01/01 22:08:46.830\n",
      "        :asn = 0\n",
      "        :loc = ??\n",
      "        :type = private\n",
      "inet:ipv4=192.168.0.79\n",
      "        .created = 2019/01/01 22:08:46.830\n",
      "        :asn = 0\n",
      "        :loc = ??\n",
      "        :type = private\n",
      "inet:ipv4=192.168.0.80\n",
      "        .created = 2019/01/01 22:08:46.832\n",
      "        :asn = 0\n",
      "        :loc = ??\n",
      "        :type = private\n",
      "inet:ipv4=192.168.0.81\n",
      "        .created = 2019/01/01 22:08:46.832\n",
      "        :asn = 0\n",
      "        :loc = ??\n",
      "        :type = private\n",
      "inet:ipv4=192.168.0.82\n",
      "        .created = 2019/01/01 22:08:46.833\n",
      "        :asn = 0\n",
      "        :loc = ??\n",
      "        :type = private\n",
      "inet:ipv4=192.168.0.83\n",
      "        .created = 2019/01/01 22:08:46.834\n",
      "        :asn = 0\n",
      "        :loc = ??\n",
      "        :type = private\n",
      "inet:ipv4=192.168.0.84\n",
      "        .created = 2019/01/01 22:08:46.835\n",
      "        :asn = 0\n",
      "        :loc = ??\n",
      "        :type = private\n",
      "inet:ipv4=192.168.0.85\n",
      "        .created = 2019/01/01 22:08:46.836\n",
      "        :asn = 0\n",
      "        :loc = ??\n",
      "        :type = private\n",
      "inet:ipv4=192.168.0.86\n",
      "        .created = 2019/01/01 22:08:46.837\n",
      "        :asn = 0\n",
      "        :loc = ??\n",
      "        :type = private\n",
      "inet:ipv4=192.168.0.87\n",
      "        .created = 2019/01/01 22:08:46.837\n",
      "        :asn = 0\n",
      "        :loc = ??\n",
      "        :type = private\n",
      "inet:ipv4=192.168.0.88\n",
      "        .created = 2019/01/01 22:08:46.839\n",
      "        :asn = 0\n",
      "        :loc = ??\n",
      "        :type = private\n",
      "inet:ipv4=192.168.0.89\n",
      "        .created = 2019/01/01 22:08:46.839\n",
      "        :asn = 0\n",
      "        :loc = ??\n",
      "        :type = private\n",
      "inet:ipv4=192.168.0.90\n",
      "        .created = 2019/01/01 22:08:46.840\n",
      "        :asn = 0\n",
      "        :loc = ??\n",
      "        :type = private\n",
      "inet:ipv4=192.168.0.91\n",
      "        .created = 2019/01/01 22:08:46.841\n",
      "        :asn = 0\n",
      "        :loc = ??\n",
      "        :type = private\n",
      "inet:ipv4=192.168.0.92\n",
      "        .created = 2019/01/01 22:08:46.842\n",
      "        :asn = 0\n",
      "        :loc = ??\n",
      "        :type = private\n",
      "inet:ipv4=192.168.0.93\n",
      "        .created = 2019/01/01 22:08:46.843\n",
      "        :asn = 0\n",
      "        :loc = ??\n",
      "        :type = private\n",
      "inet:ipv4=192.168.0.94\n",
      "        .created = 2019/01/01 22:08:46.844\n",
      "        :asn = 0\n",
      "        :loc = ??\n",
      "        :type = private\n",
      "inet:ipv4=192.168.0.95\n",
      "        .created = 2019/01/01 22:08:46.845\n",
      "        :asn = 0\n",
      "        :loc = ??\n",
      "        :type = private\n",
      "inet:ipv4=192.168.0.96\n",
      "        .created = 2019/01/01 22:08:46.846\n",
      "        :asn = 0\n",
      "        :loc = ??\n",
      "        :type = private\n",
      "inet:ipv4=192.168.0.97\n",
      "        .created = 2019/01/01 22:08:46.846\n",
      "        :asn = 0\n",
      "        :loc = ??\n",
      "        :type = private\n",
      "inet:ipv4=192.168.0.98\n",
      "        .created = 2019/01/01 22:08:46.848\n",
      "        :asn = 0\n",
      "        :loc = ??\n",
      "        :type = private\n",
      "inet:ipv4=192.168.0.99\n",
      "        .created = 2019/01/01 22:08:46.848\n",
      "        :asn = 0\n",
      "        :loc = ??\n",
      "        :type = private\n",
      "inet:ipv4=192.168.0.100\n",
      "        .created = 2019/01/01 22:08:46.849\n",
      "        :asn = 0\n",
      "        :loc = ??\n",
      "        :type = private\n",
      "inet:ipv4=192.168.0.101\n",
      "        .created = 2019/01/01 22:08:46.850\n",
      "        :asn = 0\n",
      "        :loc = ??\n",
      "        :type = private\n",
      "inet:ipv4=192.168.0.102\n",
      "        .created = 2019/01/01 22:08:46.851\n",
      "        :asn = 0\n",
      "        :loc = ??\n",
      "        :type = private\n",
      "inet:ipv4=192.168.0.103\n",
      "        .created = 2019/01/01 22:08:46.852\n",
      "        :asn = 0\n",
      "        :loc = ??\n",
      "        :type = private\n",
      "inet:ipv4=192.168.0.104\n",
      "        .created = 2019/01/01 22:08:46.853\n",
      "        :asn = 0\n",
      "        :loc = ??\n",
      "        :type = private\n",
      "inet:ipv4=192.168.0.105\n",
      "        .created = 2019/01/01 22:08:46.854\n",
      "        :asn = 0\n",
      "        :loc = ??\n",
      "        :type = private\n",
      "inet:ipv4=192.168.0.106\n",
      "        .created = 2019/01/01 22:08:46.855\n",
      "        :asn = 0\n",
      "        :loc = ??\n",
      "        :type = private\n",
      "inet:ipv4=192.168.0.107\n",
      "        .created = 2019/01/01 22:08:46.855\n",
      "        :asn = 0\n",
      "        :loc = ??\n",
      "        :type = private\n",
      "inet:ipv4=192.168.0.108\n",
      "        .created = 2019/01/01 22:08:46.857\n",
      "        :asn = 0\n",
      "        :loc = ??\n",
      "        :type = private\n",
      "inet:ipv4=192.168.0.109\n",
      "        .created = 2019/01/01 22:08:46.857\n",
      "        :asn = 0\n",
      "        :loc = ??\n",
      "        :type = private\n",
      "inet:ipv4=192.168.0.110\n",
      "        .created = 2019/01/01 22:08:46.858\n",
      "        :asn = 0\n",
      "        :loc = ??\n",
      "        :type = private\n",
      "inet:ipv4=192.168.0.111\n",
      "        .created = 2019/01/01 22:08:46.859\n",
      "        :asn = 0\n",
      "        :loc = ??\n",
      "        :type = private\n",
      "inet:ipv4=192.168.0.112\n",
      "        .created = 2019/01/01 22:08:46.861\n",
      "        :asn = 0\n",
      "        :loc = ??\n",
      "        :type = private\n",
      "inet:ipv4=192.168.0.113\n",
      "        .created = 2019/01/01 22:08:46.861\n",
      "        :asn = 0\n",
      "        :loc = ??\n",
      "        :type = private\n",
      "inet:ipv4=192.168.0.114\n",
      "        .created = 2019/01/01 22:08:46.862\n",
      "        :asn = 0\n",
      "        :loc = ??\n",
      "        :type = private\n",
      "inet:ipv4=192.168.0.115\n",
      "        .created = 2019/01/01 22:08:46.863\n",
      "        :asn = 0\n",
      "        :loc = ??\n",
      "        :type = private\n",
      "inet:ipv4=192.168.0.116\n",
      "        .created = 2019/01/01 22:08:46.864\n",
      "        :asn = 0\n",
      "        :loc = ??\n",
      "        :type = private\n",
      "inet:ipv4=192.168.0.117\n",
      "        .created = 2019/01/01 22:08:46.865\n",
      "        :asn = 0\n",
      "        :loc = ??\n",
      "        :type = private\n",
      "inet:ipv4=192.168.0.118\n",
      "        .created = 2019/01/01 22:08:46.866\n",
      "        :asn = 0\n",
      "        :loc = ??\n",
      "        :type = private\n",
      "inet:ipv4=192.168.0.119\n",
      "        .created = 2019/01/01 22:08:46.867\n",
      "        :asn = 0\n",
      "        :loc = ??\n",
      "        :type = private\n",
      "inet:ipv4=192.168.0.120\n",
      "        .created = 2019/01/01 22:08:46.868\n",
      "        :asn = 0\n",
      "        :loc = ??\n",
      "        :type = private\n",
      "inet:ipv4=192.168.0.121\n",
      "        .created = 2019/01/01 22:08:46.868\n",
      "        :asn = 0\n",
      "        :loc = ??\n",
      "        :type = private\n",
      "inet:ipv4=192.168.0.122\n",
      "        .created = 2019/01/01 22:08:46.870\n",
      "        :asn = 0\n",
      "        :loc = ??\n",
      "        :type = private\n",
      "inet:ipv4=192.168.0.123\n",
      "        .created = 2019/01/01 22:08:46.870\n",
      "        :asn = 0\n",
      "        :loc = ??\n",
      "        :type = private\n",
      "inet:ipv4=192.168.0.124\n",
      "        .created = 2019/01/01 22:08:46.871\n",
      "        :asn = 0\n",
      "        :loc = ??\n",
      "        :type = private\n",
      "inet:ipv4=192.168.0.125\n",
      "        .created = 2019/01/01 22:08:46.872\n",
      "        :asn = 0\n",
      "        :loc = ??\n",
      "        :type = private\n",
      "inet:ipv4=192.168.0.126\n",
      "        .created = 2019/01/01 22:08:46.873\n",
      "        :asn = 0\n",
      "        :loc = ??\n",
      "        :type = private\n",
      "inet:ipv4=192.168.0.127\n",
      "        .created = 2019/01/01 22:08:46.874\n",
      "        :asn = 0\n",
      "        :loc = ??\n",
      "        :type = private\n",
      "inet:ipv4=192.168.0.128\n",
      "        .created = 2019/01/01 22:08:46.875\n",
      "        :asn = 0\n",
      "        :loc = ??\n",
      "        :type = private\n",
      "inet:ipv4=192.168.0.129\n",
      "        .created = 2019/01/01 22:08:46.876\n",
      "        :asn = 0\n",
      "        :loc = ??\n",
      "        :type = private\n",
      "inet:ipv4=192.168.0.130\n",
      "        .created = 2019/01/01 22:08:46.877\n",
      "        :asn = 0\n",
      "        :loc = ??\n",
      "        :type = private\n",
      "inet:ipv4=192.168.0.131\n",
      "        .created = 2019/01/01 22:08:46.877\n",
      "        :asn = 0\n",
      "        :loc = ??\n",
      "        :type = private\n",
      "inet:ipv4=192.168.0.132\n",
      "        .created = 2019/01/01 22:08:46.879\n",
      "        :asn = 0\n",
      "        :loc = ??\n",
      "        :type = private\n",
      "inet:ipv4=192.168.0.133\n",
      "        .created = 2019/01/01 22:08:46.879\n",
      "        :asn = 0\n",
      "        :loc = ??\n",
      "        :type = private\n",
      "inet:ipv4=192.168.0.134\n",
      "        .created = 2019/01/01 22:08:46.881\n",
      "        :asn = 0\n",
      "        :loc = ??\n",
      "        :type = private\n",
      "inet:ipv4=192.168.0.135\n",
      "        .created = 2019/01/01 22:08:46.881\n",
      "        :asn = 0\n",
      "        :loc = ??\n",
      "        :type = private\n",
      "inet:ipv4=192.168.0.136\n",
      "        .created = 2019/01/01 22:08:46.882\n",
      "        :asn = 0\n",
      "        :loc = ??\n",
      "        :type = private\n",
      "inet:ipv4=192.168.0.137\n",
      "        .created = 2019/01/01 22:08:46.883\n",
      "        :asn = 0\n",
      "        :loc = ??\n",
      "        :type = private\n",
      "inet:ipv4=192.168.0.138\n",
      "        .created = 2019/01/01 22:08:46.884\n",
      "        :asn = 0\n",
      "        :loc = ??\n",
      "        :type = private\n",
      "inet:ipv4=192.168.0.139\n",
      "        .created = 2019/01/01 22:08:46.885\n",
      "        :asn = 0\n",
      "        :loc = ??\n",
      "        :type = private\n",
      "inet:ipv4=192.168.0.140\n",
      "        .created = 2019/01/01 22:08:46.886\n",
      "        :asn = 0\n",
      "        :loc = ??\n",
      "        :type = private\n",
      "inet:ipv4=192.168.0.141\n",
      "        .created = 2019/01/01 22:08:46.887\n",
      "        :asn = 0\n",
      "        :loc = ??\n",
      "        :type = private\n",
      "inet:ipv4=192.168.0.142\n",
      "        .created = 2019/01/01 22:08:46.888\n",
      "        :asn = 0\n",
      "        :loc = ??\n",
      "        :type = private\n",
      "inet:ipv4=192.168.0.143\n",
      "        .created = 2019/01/01 22:08:46.889\n",
      "        :asn = 0\n",
      "        :loc = ??\n",
      "        :type = private\n",
      "inet:ipv4=192.168.0.144\n",
      "        .created = 2019/01/01 22:08:46.890\n",
      "        :asn = 0\n",
      "        :loc = ??\n",
      "        :type = private\n",
      "inet:ipv4=192.168.0.145\n",
      "        .created = 2019/01/01 22:08:46.891\n",
      "        :asn = 0\n",
      "        :loc = ??\n",
      "        :type = private\n",
      "inet:ipv4=192.168.0.146\n",
      "        .created = 2019/01/01 22:08:46.892\n",
      "        :asn = 0\n",
      "        :loc = ??\n",
      "        :type = private\n",
      "inet:ipv4=192.168.0.147\n",
      "        .created = 2019/01/01 22:08:46.893\n",
      "        :asn = 0\n",
      "        :loc = ??\n",
      "        :type = private\n",
      "inet:ipv4=192.168.0.148\n",
      "        .created = 2019/01/01 22:08:46.894\n",
      "        :asn = 0\n",
      "        :loc = ??\n",
      "        :type = private\n",
      "inet:ipv4=192.168.0.149\n",
      "        .created = 2019/01/01 22:08:46.894\n",
      "        :asn = 0\n",
      "        :loc = ??\n",
      "        :type = private\n",
      "inet:ipv4=192.168.0.150\n",
      "        .created = 2019/01/01 22:08:46.896\n",
      "        :asn = 0\n",
      "        :loc = ??\n",
      "        :type = private\n",
      "inet:ipv4=192.168.0.151\n",
      "        .created = 2019/01/01 22:08:46.896\n",
      "        :asn = 0\n",
      "        :loc = ??\n",
      "        :type = private\n",
      "inet:ipv4=192.168.0.152\n",
      "        .created = 2019/01/01 22:08:46.898\n",
      "        :asn = 0\n",
      "        :loc = ??\n",
      "        :type = private\n",
      "inet:ipv4=192.168.0.153\n",
      "        .created = 2019/01/01 22:08:46.898\n",
      "        :asn = 0\n",
      "        :loc = ??\n",
      "        :type = private\n",
      "inet:ipv4=192.168.0.154\n",
      "        .created = 2019/01/01 22:08:46.899\n",
      "        :asn = 0\n",
      "        :loc = ??\n",
      "        :type = private\n",
      "inet:ipv4=192.168.0.155\n",
      "        .created = 2019/01/01 22:08:46.900\n",
      "        :asn = 0\n",
      "        :loc = ??\n",
      "        :type = private\n",
      "inet:ipv4=192.168.0.156\n",
      "        .created = 2019/01/01 22:08:46.901\n",
      "        :asn = 0\n",
      "        :loc = ??\n",
      "        :type = private\n",
      "inet:ipv4=192.168.0.157\n",
      "        .created = 2019/01/01 22:08:46.902\n",
      "        :asn = 0\n",
      "        :loc = ??\n",
      "        :type = private\n",
      "inet:ipv4=192.168.0.158\n",
      "        .created = 2019/01/01 22:08:46.903\n",
      "        :asn = 0\n",
      "        :loc = ??\n",
      "        :type = private\n",
      "inet:ipv4=192.168.0.159\n",
      "        .created = 2019/01/01 22:08:46.903\n",
      "        :asn = 0\n",
      "        :loc = ??\n",
      "        :type = private\n",
      "inet:ipv4=192.168.0.160\n",
      "        .created = 2019/01/01 22:08:46.905\n",
      "        :asn = 0\n",
      "        :loc = ??\n",
      "        :type = private\n",
      "inet:ipv4=192.168.0.161\n",
      "        .created = 2019/01/01 22:08:46.905\n",
      "        :asn = 0\n",
      "        :loc = ??\n",
      "        :type = private\n",
      "inet:ipv4=192.168.0.162\n",
      "        .created = 2019/01/01 22:08:46.906\n",
      "        :asn = 0\n",
      "        :loc = ??\n",
      "        :type = private\n",
      "inet:ipv4=192.168.0.163\n",
      "        .created = 2019/01/01 22:08:46.907\n",
      "        :asn = 0\n",
      "        :loc = ??\n",
      "        :type = private\n",
      "inet:ipv4=192.168.0.164\n",
      "        .created = 2019/01/01 22:08:46.908\n",
      "        :asn = 0\n",
      "        :loc = ??\n",
      "        :type = private\n",
      "inet:ipv4=192.168.0.165\n",
      "        .created = 2019/01/01 22:08:46.909\n",
      "        :asn = 0\n",
      "        :loc = ??\n",
      "        :type = private\n",
      "inet:ipv4=192.168.0.166\n",
      "        .created = 2019/01/01 22:08:46.910\n",
      "        :asn = 0\n",
      "        :loc = ??\n",
      "        :type = private\n",
      "inet:ipv4=192.168.0.167\n",
      "        .created = 2019/01/01 22:08:46.910\n",
      "        :asn = 0\n",
      "        :loc = ??\n",
      "        :type = private\n",
      "inet:ipv4=192.168.0.168\n",
      "        .created = 2019/01/01 22:08:46.912\n",
      "        :asn = 0\n",
      "        :loc = ??\n",
      "        :type = private\n",
      "inet:ipv4=192.168.0.169\n",
      "        .created = 2019/01/01 22:08:46.912\n",
      "        :asn = 0\n",
      "        :loc = ??\n",
      "        :type = private\n",
      "inet:ipv4=192.168.0.170\n",
      "        .created = 2019/01/01 22:08:46.914\n",
      "        :asn = 0\n",
      "        :loc = ??\n",
      "        :type = private\n",
      "inet:ipv4=192.168.0.171\n",
      "        .created = 2019/01/01 22:08:46.914\n",
      "        :asn = 0\n",
      "        :loc = ??\n"
     ]
    },
    {
     "name": "stdout",
     "output_type": "stream",
     "text": [
      "        :type = private\n",
      "inet:ipv4=192.168.0.172\n",
      "        .created = 2019/01/01 22:08:46.915\n",
      "        :asn = 0\n",
      "        :loc = ??\n",
      "        :type = private\n",
      "inet:ipv4=192.168.0.173\n",
      "        .created = 2019/01/01 22:08:46.916\n",
      "        :asn = 0\n",
      "        :loc = ??\n",
      "        :type = private\n",
      "inet:ipv4=192.168.0.174\n",
      "        .created = 2019/01/01 22:08:46.917\n",
      "        :asn = 0\n",
      "        :loc = ??\n",
      "        :type = private\n",
      "inet:ipv4=192.168.0.175\n",
      "        .created = 2019/01/01 22:08:46.918\n",
      "        :asn = 0\n",
      "        :loc = ??\n",
      "        :type = private\n",
      "inet:ipv4=192.168.0.176\n",
      "        .created = 2019/01/01 22:08:46.921\n",
      "        :asn = 0\n",
      "        :loc = ??\n",
      "        :type = private\n",
      "inet:ipv4=192.168.0.177\n",
      "        .created = 2019/01/01 22:08:46.921\n",
      "        :asn = 0\n",
      "        :loc = ??\n",
      "        :type = private\n",
      "inet:ipv4=192.168.0.178\n",
      "        .created = 2019/01/01 22:08:46.923\n",
      "        :asn = 0\n",
      "        :loc = ??\n",
      "        :type = private\n",
      "inet:ipv4=192.168.0.179\n",
      "        .created = 2019/01/01 22:08:46.924\n",
      "        :asn = 0\n",
      "        :loc = ??\n",
      "        :type = private\n",
      "inet:ipv4=192.168.0.180\n",
      "        .created = 2019/01/01 22:08:46.926\n",
      "        :asn = 0\n",
      "        :loc = ??\n",
      "        :type = private\n",
      "inet:ipv4=192.168.0.181\n",
      "        .created = 2019/01/01 22:08:46.926\n",
      "        :asn = 0\n",
      "        :loc = ??\n",
      "        :type = private\n",
      "inet:ipv4=192.168.0.182\n",
      "        .created = 2019/01/01 22:08:46.928\n",
      "        :asn = 0\n",
      "        :loc = ??\n",
      "        :type = private\n",
      "inet:ipv4=192.168.0.183\n",
      "        .created = 2019/01/01 22:08:46.929\n",
      "        :asn = 0\n",
      "        :loc = ??\n",
      "        :type = private\n",
      "inet:ipv4=192.168.0.184\n",
      "        .created = 2019/01/01 22:08:46.931\n",
      "        :asn = 0\n",
      "        :loc = ??\n",
      "        :type = private\n",
      "inet:ipv4=192.168.0.185\n",
      "        .created = 2019/01/01 22:08:46.931\n",
      "        :asn = 0\n",
      "        :loc = ??\n",
      "        :type = private\n",
      "inet:ipv4=192.168.0.186\n",
      "        .created = 2019/01/01 22:08:46.933\n",
      "        :asn = 0\n",
      "        :loc = ??\n",
      "        :type = private\n",
      "inet:ipv4=192.168.0.187\n",
      "        .created = 2019/01/01 22:08:46.934\n",
      "        :asn = 0\n",
      "        :loc = ??\n",
      "        :type = private\n",
      "inet:ipv4=192.168.0.188\n",
      "        .created = 2019/01/01 22:08:46.935\n",
      "        :asn = 0\n",
      "        :loc = ??\n",
      "        :type = private\n",
      "inet:ipv4=192.168.0.189\n",
      "        .created = 2019/01/01 22:08:46.936\n",
      "        :asn = 0\n",
      "        :loc = ??\n",
      "        :type = private\n",
      "inet:ipv4=192.168.0.190\n",
      "        .created = 2019/01/01 22:08:46.938\n",
      "        :asn = 0\n",
      "        :loc = ??\n",
      "        :type = private\n",
      "inet:ipv4=192.168.0.191\n",
      "        .created = 2019/01/01 22:08:46.939\n",
      "        :asn = 0\n",
      "        :loc = ??\n",
      "        :type = private\n",
      "inet:ipv4=192.168.0.192\n",
      "        .created = 2019/01/01 22:08:46.940\n",
      "        :asn = 0\n",
      "        :loc = ??\n",
      "        :type = private\n",
      "inet:ipv4=192.168.0.193\n",
      "        .created = 2019/01/01 22:08:46.941\n",
      "        :asn = 0\n",
      "        :loc = ??\n",
      "        :type = private\n",
      "inet:ipv4=192.168.0.194\n",
      "        .created = 2019/01/01 22:08:46.943\n",
      "        :asn = 0\n",
      "        :loc = ??\n",
      "        :type = private\n",
      "inet:ipv4=192.168.0.195\n",
      "        .created = 2019/01/01 22:08:46.944\n",
      "        :asn = 0\n",
      "        :loc = ??\n",
      "        :type = private\n",
      "inet:ipv4=192.168.0.196\n",
      "        .created = 2019/01/01 22:08:46.947\n",
      "        :asn = 0\n",
      "        :loc = ??\n",
      "        :type = private\n",
      "inet:ipv4=192.168.0.197\n",
      "        .created = 2019/01/01 22:08:46.948\n",
      "        :asn = 0\n",
      "        :loc = ??\n",
      "        :type = private\n",
      "inet:ipv4=192.168.0.198\n",
      "        .created = 2019/01/01 22:08:46.951\n",
      "        :asn = 0\n",
      "        :loc = ??\n",
      "        :type = private\n",
      "inet:ipv4=192.168.0.199\n",
      "        .created = 2019/01/01 22:08:46.952\n",
      "        :asn = 0\n",
      "        :loc = ??\n",
      "        :type = private\n",
      "inet:ipv4=192.168.0.200\n",
      "        .created = 2019/01/01 22:08:46.954\n",
      "        :asn = 0\n",
      "        :loc = ??\n",
      "        :type = private\n",
      "inet:ipv4=192.168.0.201\n",
      "        .created = 2019/01/01 22:08:46.955\n",
      "        :asn = 0\n",
      "        :loc = ??\n",
      "        :type = private\n",
      "inet:ipv4=192.168.0.202\n",
      "        .created = 2019/01/01 22:08:46.957\n",
      "        :asn = 0\n",
      "        :loc = ??\n",
      "        :type = private\n",
      "inet:ipv4=192.168.0.203\n",
      "        .created = 2019/01/01 22:08:46.958\n",
      "        :asn = 0\n",
      "        :loc = ??\n",
      "        :type = private\n",
      "inet:ipv4=192.168.0.204\n",
      "        .created = 2019/01/01 22:08:46.962\n",
      "        :asn = 0\n",
      "        :loc = ??\n",
      "        :type = private\n",
      "inet:ipv4=192.168.0.205\n",
      "        .created = 2019/01/01 22:08:46.963\n",
      "        :asn = 0\n",
      "        :loc = ??\n",
      "        :type = private\n",
      "inet:ipv4=192.168.0.206\n",
      "        .created = 2019/01/01 22:08:46.965\n",
      "        :asn = 0\n",
      "        :loc = ??\n",
      "        :type = private\n",
      "inet:ipv4=192.168.0.207\n",
      "        .created = 2019/01/01 22:08:46.968\n",
      "        :asn = 0\n",
      "        :loc = ??\n",
      "        :type = private\n",
      "inet:ipv4=192.168.0.208\n",
      "        .created = 2019/01/01 22:08:46.970\n",
      "        :asn = 0\n",
      "        :loc = ??\n",
      "        :type = private\n",
      "inet:ipv4=192.168.0.209\n",
      "        .created = 2019/01/01 22:08:46.972\n",
      "        :asn = 0\n",
      "        :loc = ??\n",
      "        :type = private\n",
      "inet:ipv4=192.168.0.210\n",
      "        .created = 2019/01/01 22:08:46.974\n",
      "        :asn = 0\n",
      "        :loc = ??\n",
      "        :type = private\n",
      "inet:ipv4=192.168.0.211\n",
      "        .created = 2019/01/01 22:08:46.976\n",
      "        :asn = 0\n",
      "        :loc = ??\n",
      "        :type = private\n",
      "inet:ipv4=192.168.0.212\n",
      "        .created = 2019/01/01 22:08:46.978\n",
      "        :asn = 0\n",
      "        :loc = ??\n",
      "        :type = private\n",
      "inet:ipv4=192.168.0.213\n",
      "        .created = 2019/01/01 22:08:46.978\n",
      "        :asn = 0\n",
      "        :loc = ??\n",
      "        :type = private\n",
      "inet:ipv4=192.168.0.214\n",
      "        .created = 2019/01/01 22:08:46.980\n",
      "        :asn = 0\n",
      "        :loc = ??\n",
      "        :type = private\n",
      "inet:ipv4=192.168.0.215\n",
      "        .created = 2019/01/01 22:08:46.981\n",
      "        :asn = 0\n",
      "        :loc = ??\n",
      "        :type = private\n",
      "inet:ipv4=192.168.0.216\n",
      "        .created = 2019/01/01 22:08:46.982\n",
      "        :asn = 0\n",
      "        :loc = ??\n",
      "        :type = private\n",
      "inet:ipv4=192.168.0.217\n",
      "        .created = 2019/01/01 22:08:46.983\n",
      "        :asn = 0\n",
      "        :loc = ??\n",
      "        :type = private\n",
      "inet:ipv4=192.168.0.218\n",
      "        .created = 2019/01/01 22:08:46.985\n",
      "        :asn = 0\n",
      "        :loc = ??\n",
      "        :type = private\n",
      "inet:ipv4=192.168.0.219\n",
      "        .created = 2019/01/01 22:08:46.985\n",
      "        :asn = 0\n",
      "        :loc = ??\n",
      "        :type = private\n",
      "inet:ipv4=192.168.0.220\n",
      "        .created = 2019/01/01 22:08:46.988\n",
      "        :asn = 0\n",
      "        :loc = ??\n",
      "        :type = private\n",
      "inet:ipv4=192.168.0.221\n",
      "        .created = 2019/01/01 22:08:46.988\n",
      "        :asn = 0\n",
      "        :loc = ??\n",
      "        :type = private\n",
      "inet:ipv4=192.168.0.222\n",
      "        .created = 2019/01/01 22:08:46.990\n",
      "        :asn = 0\n",
      "        :loc = ??\n",
      "        :type = private\n",
      "inet:ipv4=192.168.0.223\n",
      "        .created = 2019/01/01 22:08:46.992\n",
      "        :asn = 0\n",
      "        :loc = ??\n",
      "        :type = private\n",
      "inet:ipv4=192.168.0.224\n",
      "        .created = 2019/01/01 22:08:46.994\n",
      "        :asn = 0\n",
      "        :loc = ??\n",
      "        :type = private\n",
      "inet:ipv4=192.168.0.225\n",
      "        .created = 2019/01/01 22:08:46.995\n",
      "        :asn = 0\n",
      "        :loc = ??\n",
      "        :type = private\n",
      "inet:ipv4=192.168.0.226\n",
      "        .created = 2019/01/01 22:08:46.997\n",
      "        :asn = 0\n",
      "        :loc = ??\n",
      "        :type = private\n",
      "inet:ipv4=192.168.0.227\n",
      "        .created = 2019/01/01 22:08:46.998\n",
      "        :asn = 0\n",
      "        :loc = ??\n",
      "        :type = private\n",
      "inet:ipv4=192.168.0.228\n",
      "        .created = 2019/01/01 22:08:47.000\n",
      "        :asn = 0\n",
      "        :loc = ??\n",
      "        :type = private\n",
      "inet:ipv4=192.168.0.229\n",
      "        .created = 2019/01/01 22:08:47.001\n",
      "        :asn = 0\n",
      "        :loc = ??\n",
      "        :type = private\n",
      "inet:ipv4=192.168.0.230\n",
      "        .created = 2019/01/01 22:08:47.003\n",
      "        :asn = 0\n",
      "        :loc = ??\n",
      "        :type = private\n",
      "inet:ipv4=192.168.0.231\n",
      "        .created = 2019/01/01 22:08:47.004\n",
      "        :asn = 0\n",
      "        :loc = ??\n",
      "        :type = private\n",
      "inet:ipv4=192.168.0.232\n",
      "        .created = 2019/01/01 22:08:47.007\n",
      "        :asn = 0\n",
      "        :loc = ??\n",
      "        :type = private\n",
      "inet:ipv4=192.168.0.233\n",
      "        .created = 2019/01/01 22:08:47.009\n",
      "        :asn = 0\n",
      "        :loc = ??\n",
      "        :type = private\n",
      "inet:ipv4=192.168.0.234\n",
      "        .created = 2019/01/01 22:08:47.011\n",
      "        :asn = 0\n",
      "        :loc = ??\n",
      "        :type = private\n",
      "inet:ipv4=192.168.0.235\n",
      "        .created = 2019/01/01 22:08:47.012\n",
      "        :asn = 0\n",
      "        :loc = ??\n",
      "        :type = private\n",
      "inet:ipv4=192.168.0.236\n",
      "        .created = 2019/01/01 22:08:47.014\n",
      "        :asn = 0\n",
      "        :loc = ??\n",
      "        :type = private\n",
      "inet:ipv4=192.168.0.237\n",
      "        .created = 2019/01/01 22:08:47.015\n",
      "        :asn = 0\n",
      "        :loc = ??\n",
      "        :type = private\n",
      "inet:ipv4=192.168.0.238\n",
      "        .created = 2019/01/01 22:08:47.017\n",
      "        :asn = 0\n",
      "        :loc = ??\n",
      "        :type = private\n",
      "inet:ipv4=192.168.0.239\n",
      "        .created = 2019/01/01 22:08:47.017\n",
      "        :asn = 0\n",
      "        :loc = ??\n",
      "        :type = private\n",
      "inet:ipv4=192.168.0.240\n",
      "        .created = 2019/01/01 22:08:47.019\n",
      "        :asn = 0\n",
      "        :loc = ??\n",
      "        :type = private\n",
      "inet:ipv4=192.168.0.241\n",
      "        .created = 2019/01/01 22:08:47.020\n",
      "        :asn = 0\n",
      "        :loc = ??\n",
      "        :type = private\n",
      "inet:ipv4=192.168.0.242\n",
      "        .created = 2019/01/01 22:08:47.021\n",
      "        :asn = 0\n",
      "        :loc = ??\n",
      "        :type = private\n",
      "inet:ipv4=192.168.0.243\n",
      "        .created = 2019/01/01 22:08:47.022\n",
      "        :asn = 0\n",
      "        :loc = ??\n",
      "        :type = private\n",
      "inet:ipv4=192.168.0.244\n",
      "        .created = 2019/01/01 22:08:47.024\n",
      "        :asn = 0\n",
      "        :loc = ??\n",
      "        :type = private\n",
      "inet:ipv4=192.168.0.245\n",
      "        .created = 2019/01/01 22:08:47.025\n",
      "        :asn = 0\n",
      "        :loc = ??\n",
      "        :type = private\n",
      "inet:ipv4=192.168.0.246\n",
      "        .created = 2019/01/01 22:08:47.026\n",
      "        :asn = 0\n",
      "        :loc = ??\n",
      "        :type = private\n",
      "inet:ipv4=192.168.0.247\n",
      "        .created = 2019/01/01 22:08:47.027\n",
      "        :asn = 0\n",
      "        :loc = ??\n",
      "        :type = private\n",
      "inet:ipv4=192.168.0.248\n",
      "        .created = 2019/01/01 22:08:47.029\n",
      "        :asn = 0\n",
      "        :loc = ??\n",
      "        :type = private\n",
      "inet:ipv4=192.168.0.249\n",
      "        .created = 2019/01/01 22:08:47.029\n",
      "        :asn = 0\n",
      "        :loc = ??\n",
      "        :type = private\n",
      "inet:ipv4=192.168.0.250\n",
      "        .created = 2019/01/01 22:08:47.031\n",
      "        :asn = 0\n",
      "        :loc = ??\n",
      "        :type = private\n",
      "inet:ipv4=192.168.0.251\n",
      "        .created = 2019/01/01 22:08:47.032\n",
      "        :asn = 0\n",
      "        :loc = ??\n",
      "        :type = private\n",
      "inet:ipv4=192.168.0.252\n",
      "        .created = 2019/01/01 22:08:47.035\n",
      "        :asn = 0\n",
      "        :loc = ??\n",
      "        :type = private\n",
      "inet:ipv4=192.168.0.253\n",
      "        .created = 2019/01/01 22:08:47.036\n",
      "        :asn = 0\n",
      "        :loc = ??\n",
      "        :type = private\n",
      "inet:ipv4=192.168.0.254\n",
      "        .created = 2019/01/01 22:08:47.038\n",
      "        :asn = 0\n",
      "        :loc = ??\n",
      "        :type = private\n",
      "inet:ipv4=192.168.0.255\n",
      "        .created = 2019/01/01 22:08:47.038\n",
      "        :asn = 0\n",
      "        :loc = ??\n",
      "        :type = private\n",
      "complete. 256 nodes in 330 ms (775/sec).\n"
     ]
    }
   ],
   "source": [
    "# Make some nodes\n",
    "q = '[inet:ipv4=192.168.0.0/24]'\n",
    "# Run the query and test\n",
    "podes = await core.eval(q, num=256, cmdr=True)"
   ]
  },
  {
   "cell_type": "code",
   "execution_count": 28,
   "metadata": {
    "hideCode": true
   },
   "outputs": [
    {
     "name": "stdout",
     "output_type": "stream",
     "text": [
      "inet:ipv4 | limit 10\n"
     ]
    }
   ],
   "source": [
    "# Define and print test query\n",
    "q = 'inet:ipv4 | limit 10'\n",
    "print(q)\n",
    "# Execute the query and test\n",
    "podes = await core.eval(q, num=10, cmdr=False)"
   ]
  },
  {
   "cell_type": "raw",
   "metadata": {},
   "source": [
    "**Usage Notes:**\n",
    "\n",
    "- If the limit number specified (i.e., ``limit 100``) is greater than the total number of nodes returned from the Storm query, no limit will be applied to the resultant nodes (i.e., all nodes will be returned).\n",
    "- By design, ``limit`` imposes an artificial limit on the nodes returned by a query, which may impair effective analysis of data by restricting results. As such, ``limit`` is most useful for viewing a subset of a large result set or an exemplar node for a given form.\n",
    "- While ``limit`` returns a sampling of nodes, it is not statistically random for the purposes of population sampling for algorithmic use.\n",
    "\n",
    ".. _storm-max:\n",
    "\n",
    "max\n",
    "---\n",
    "\n",
    "The ``max`` command returns the node from a given set that contains the highest value for a specified secondary property.\n",
    "\n",
    "**Syntax:**\n"
   ]
  },
  {
   "cell_type": "code",
   "execution_count": 29,
   "metadata": {
    "hideCode": true,
    "scrolled": true
   },
   "outputs": [
    {
     "name": "stdout",
     "output_type": "stream",
     "text": [
      "cli> storm max --help\n",
      "\n",
      "usage: max [-h] propname\n",
      "\n",
      "    Consume nodes and yield only the one node with the highest value for a property.\n",
      "\n",
      "    Examples:\n",
      "\n",
      "        file:bytes +#foo.bar | max size\n",
      "\n",
      "    \n",
      "\n",
      "positional arguments:\n",
      "  propname\n",
      "\n",
      "optional arguments:\n",
      "  -h, --help  show this help message and exit\n",
      "\n",
      "complete. 0 nodes in 2 ms (0/sec).\n"
     ]
    }
   ],
   "source": [
    "# Run the command and display output\n",
    "q = 'max --help'\n",
    "podes = await core.eval(q, cmdr=True)"
   ]
  },
  {
   "cell_type": "raw",
   "metadata": {},
   "source": [
    "**Examples:**\n",
    "\n",
    "*Return the DNS A record for woot.com with the most recent .seen value:*"
   ]
  },
  {
   "cell_type": "code",
   "execution_count": 30,
   "metadata": {
    "hideCode": true,
    "hideOutput": true
   },
   "outputs": [
    {
     "name": "stdout",
     "output_type": "stream",
     "text": [
      "cli> storm [inet:dns:a=(woot.com,107.21.53.159) .seen=(2014/08/13,2014/08/13)]\n",
      "\n",
      "inet:dns:a=('woot.com', '107.21.53.159')\n",
      "        .created = 2019/01/01 22:23:56.581\n",
      "        .seen = ('2014/08/13 00:00:00.000', '2014/08/13 00:00:00.000')\n",
      "        :fqdn = woot.com\n",
      "        :ipv4 = 107.21.53.159\n",
      "complete. 1 nodes in 23 ms (43/sec).\n",
      "cli> storm [inet:dns:a=(woot.com,75.101.146.4) .seen=(2013/09/21,2013/09/21)]\n",
      "\n",
      "inet:dns:a=('woot.com', '75.101.146.4')\n",
      "        .created = 2019/01/01 22:23:56.603\n",
      "        .seen = ('2013/09/21 00:00:00.000', '2013/09/21 00:00:00.000')\n",
      "        :fqdn = woot.com\n",
      "        :ipv4 = 75.101.146.4\n",
      "complete. 1 nodes in 11 ms (90/sec).\n",
      "cli> storm [inet:dns:a=(woot.com,52.206.255.234) .seen=(2018/01/23,2018/01/23)]\n",
      "\n",
      "inet:dns:a=('woot.com', '52.206.255.234')\n",
      "        .created = 2019/01/01 22:23:56.626\n",
      "        .seen = ('2018/01/23 00:00:00.000', '2018/01/23 00:00:00.000')\n",
      "        :fqdn = woot.com\n",
      "        :ipv4 = 52.206.255.234\n",
      "complete. 1 nodes in 8 ms (125/sec).\n"
     ]
    }
   ],
   "source": [
    "# Make some DNS A nodes\n",
    "q = '[inet:dns:a=(woot.com,107.21.53.159) .seen=(2014/08/13,2014/08/13)]'\n",
    "q1 = '[inet:dns:a=(woot.com,75.101.146.4) .seen=(2013/09/21,2013/09/21)]'\n",
    "q2 = '[inet:dns:a=(woot.com,52.206.255.234) .seen=(2018/01/23,2018/01/23)]'\n",
    "# Run the query and test\n",
    "podes = await core.eval(q, num=1, cmdr=True)\n",
    "podes = await core.eval(q1, num=1, cmdr=True)\n",
    "podes = await core.eval(q2, num=1, cmdr=True)"
   ]
  },
  {
   "cell_type": "code",
   "execution_count": 32,
   "metadata": {
    "hideCode": true,
    "scrolled": true
   },
   "outputs": [
    {
     "name": "stdout",
     "output_type": "stream",
     "text": [
      "inet:dns:a:fqdn=woot.com | max .seen\n"
     ]
    }
   ],
   "source": [
    "# Define and print test query\n",
    "q = 'inet:dns:a:fqdn=woot.com | max .seen'\n",
    "print(q)\n",
    "# Execute the query and test\n",
    "# Note this is actually a bad test b/c it doesn't check for the max value\n",
    "podes = await core.eval(q, num=1, cmdr=False)"
   ]
  },
  {
   "cell_type": "raw",
   "metadata": {},
   "source": [
    "*Return the most recent WHOIS record for domain woot.com:*"
   ]
  },
  {
   "cell_type": "code",
   "execution_count": 37,
   "metadata": {
    "hideCode": true,
    "hideOutput": true,
    "scrolled": true
   },
   "outputs": [
    {
     "name": "stdout",
     "output_type": "stream",
     "text": [
      "cli> storm [inet:whois:rec=(woot.com,2018/05/22) :text=\"domain name: woot.com\"]\n",
      "\n",
      "inet:whois:rec=('woot.com', '2018/05/22 00:00:00.000')\n",
      "        .created = 2019/01/01 22:41:19.592\n",
      "        :asof = 2018/05/22 00:00:00.000\n",
      "        :fqdn = woot.com\n",
      "        :registrant = ??\n",
      "        :registrar = ??\n",
      "        :text = domain name: woot.com\n",
      "complete. 1 nodes in 26 ms (38/sec).\n",
      "cli> storm [inet:whois:rec=(woot.com,2018/01/17) :text=\"domain name: woot.com\"]\n",
      "\n",
      "inet:whois:rec=('woot.com', '2018/01/17 00:00:00.000')\n",
      "        .created = 2019/01/01 22:41:19.628\n",
      "        :asof = 2018/01/17 00:00:00.000\n",
      "        :fqdn = woot.com\n",
      "        :registrant = ??\n",
      "        :registrar = ??\n",
      "        :text = domain name: woot.com\n",
      "complete. 1 nodes in 11 ms (90/sec).\n",
      "cli> storm [inet:whois:rec=(woot.com,2018/03/30) :text=\"domain name: woot.com\"]\n",
      "\n",
      "inet:whois:rec=('woot.com', '2018/03/30 00:00:00.000')\n",
      "        .created = 2019/01/01 22:41:19.642\n",
      "        :asof = 2018/03/30 00:00:00.000\n",
      "        :fqdn = woot.com\n",
      "        :registrant = ??\n",
      "        :registrar = ??\n",
      "        :text = domain name: woot.com\n",
      "complete. 1 nodes in 9 ms (111/sec).\n"
     ]
    }
   ],
   "source": [
    "# Make some WHOIS records\n",
    "q = '[inet:whois:rec=(woot.com,2018/05/22) :text=\"domain name: woot.com\"]'\n",
    "q1 = '[inet:whois:rec=(woot.com,2018/01/17) :text=\"domain name: woot.com\"]'\n",
    "q2 = '[inet:whois:rec=(woot.com,2018/03/30) :text=\"domain name: woot.com\"]'\n",
    "# Run the query and test\n",
    "podes = await core.eval(q, num=1, cmdr=True)\n",
    "podes = await core.eval(q1, num=1, cmdr=True)\n",
    "podes = await core.eval(q2, num=1, cmdr=True)"
   ]
  },
  {
   "cell_type": "code",
   "execution_count": 39,
   "metadata": {
    "hideCode": true,
    "hideOutput": false
   },
   "outputs": [
    {
     "name": "stdout",
     "output_type": "stream",
     "text": [
      "inet:whois:rec:fqdn=woot.com | max :asof\n"
     ]
    }
   ],
   "source": [
    "# Define and print test query\n",
    "q = 'inet:whois:rec:fqdn=woot.com | max :asof'\n",
    "print(q)\n",
    "# Execute the query and test\n",
    "# Note this is actually a bad test b/c it doesn't check for the max value\n",
    "podes = await core.eval(q, num=1, cmdr=False)"
   ]
  },
  {
   "cell_type": "raw",
   "metadata": {},
   "source": [
    ".. _storm-min:\n",
    "\n",
    "min\n",
    "---\n",
    "\n",
    "The ``min`` command returns the node from a given set that contains the lowest value for a specified secondary property.\n",
    "\n",
    "**Syntax:**\n"
   ]
  },
  {
   "cell_type": "code",
   "execution_count": 36,
   "metadata": {
    "hideCode": true
   },
   "outputs": [
    {
     "name": "stdout",
     "output_type": "stream",
     "text": [
      "cli> storm min --help\n",
      "\n",
      "usage: min [-h] propname\n",
      "\n",
      "    Consume nodes and yield only the one node with the lowest value for a property.\n",
      "\n",
      "    Examples:\n",
      "\n",
      "        file:bytes +#foo.bar | min size\n",
      "\n",
      "    \n",
      "\n",
      "positional arguments:\n",
      "  propname\n",
      "\n",
      "optional arguments:\n",
      "  -h, --help  show this help message and exit\n",
      "\n",
      "complete. 0 nodes in 3 ms (0/sec).\n"
     ]
    }
   ],
   "source": [
    "# Run the command and display output\n",
    "q = 'min --help'\n",
    "podes = await core.eval(q, cmdr=True)"
   ]
  },
  {
   "cell_type": "raw",
   "metadata": {},
   "source": [
    "**Examples:**\n",
    "\n",
    "*Return the DNS A record for woot.com with the most recent .seen value:*"
   ]
  },
  {
   "cell_type": "code",
   "execution_count": 41,
   "metadata": {
    "hideCode": true
   },
   "outputs": [
    {
     "name": "stdout",
     "output_type": "stream",
     "text": [
      "inet:dns:a:fqdn=woot.com | min .seen\n"
     ]
    }
   ],
   "source": [
    "# Define and print test query\n",
    "q = 'inet:dns:a:fqdn=woot.com | min .seen'\n",
    "print(q)\n",
    "# Execute the query and test\n",
    "# Note this is actually a bad test b/c it doesn't check for the min value\n",
    "podes = await core.eval(q, num=1, cmdr=False)"
   ]
  },
  {
   "cell_type": "raw",
   "metadata": {},
   "source": [
    "*Return the oldest WHOIS record for domain woot.com:*"
   ]
  },
  {
   "cell_type": "code",
   "execution_count": 43,
   "metadata": {
    "hideCode": true
   },
   "outputs": [
    {
     "name": "stdout",
     "output_type": "stream",
     "text": [
      "inet:whois:rec:fqdn=woot.com | min :asof\n"
     ]
    }
   ],
   "source": [
    "# Define and print test query\n",
    "q = 'inet:whois:rec:fqdn=woot.com | min :asof'\n",
    "print(q)\n",
    "# Execute the query and test\n",
    "# Note this is actually a bad test b/c it doesn't check for the min value\n",
    "podes = await core.eval(q, num=1, cmdr=False)"
   ]
  },
  {
   "cell_type": "raw",
   "metadata": {},
   "source": [
    ".. _storm-movetag:\n",
    "\n",
    "movetag\n",
    "-------\n",
    "\n",
    "The ``movetag`` command moves a Synapse tag and its associated tag tree from one location in a tag hierarcy to another location. It is equivalent to \"renaming\" a given tag and all of its subtags. Moving a tag consists of:\n",
    "\n",
    "- Creating the new ``syn:tag`` node(s).\n",
    "- Copying the definitions (``:title`` and ``:doc`` properties) from the old ``syn:tag`` node to the new ``syn:tag`` node.\n",
    "- Applying the new tag(s) to the nodes with the old tag(s).\n",
    "\n",
    "  - If the old tag(s) have associated timestamps / time intervals, they will be applied to the new tag(s).\n",
    "\n",
    "- Deleting the old tag(s) from the nodes.\n",
    "- Setting the ``:isnow`` property of the old ``syn:tag`` node(s) to reference the new ``syn:tag`` node.\n",
    "\n",
    "  - The old ``syn:tag`` nodes are **not** deleted.\n",
    "  - Once the ``:isnow`` property is set, attempts to apply the old tag will automatically result in the new tag being applied.\n",
    "\n",
    "**Syntax:**\n"
   ]
  },
  {
   "cell_type": "code",
   "execution_count": 44,
   "metadata": {
    "hideCode": true
   },
   "outputs": [
    {
     "name": "stdout",
     "output_type": "stream",
     "text": [
      "cli> storm movetag --help\n",
      "\n",
      "usage: movetag [-h] oldtag newtag\n",
      "\n",
      "    Rename an entire tag tree and preserve time intervals.\n",
      "\n",
      "    Example:\n",
      "\n",
      "        movetag #foo.bar #baz.faz.bar\n",
      "    \n",
      "\n",
      "positional arguments:\n",
      "  oldtag      The tag tree to rename.\n",
      "  newtag      The new tag tree name.\n",
      "\n",
      "optional arguments:\n",
      "  -h, --help  show this help message and exit\n",
      "\n",
      "complete. 0 nodes in 7 ms (0/sec).\n"
     ]
    }
   ],
   "source": [
    "# Run the command and display output\n",
    "q = 'movetag --help'\n",
    "podes = await core.eval(q, cmdr=True)"
   ]
  },
  {
   "cell_type": "raw",
   "metadata": {},
   "source": [
    "**Examples:**\n",
    "\n",
    "*Move the tag named #research to #internal.research:*"
   ]
  },
  {
   "cell_type": "code",
   "execution_count": 45,
   "metadata": {
    "hideCode": true,
    "hideOutput": true
   },
   "outputs": [
    {
     "name": "stdout",
     "output_type": "stream",
     "text": [
      "cli> storm [inet:fqdn=hurr.com inet:fqdn=derp.com inet:fqdn=umwut.com +#research]\n",
      "\n",
      "inet:fqdn=hurr.com\n",
      "        .created = 2019/01/01 22:54:26.886\n",
      "        :domain = com\n",
      "        :host = hurr\n",
      "        :issuffix = False\n",
      "        :iszone = True\n",
      "        :zone = hurr.com\n",
      "        #research\n",
      "inet:fqdn=derp.com\n",
      "        .created = 2019/01/01 22:54:26.888\n",
      "        :domain = com\n",
      "        :host = derp\n",
      "        :issuffix = False\n",
      "        :iszone = True\n",
      "        :zone = derp.com\n",
      "        #research\n",
      "inet:fqdn=umwut.com\n",
      "        .created = 2019/01/01 22:54:26.889\n",
      "        :domain = com\n",
      "        :host = umwut\n",
      "        :issuffix = False\n",
      "        :iszone = True\n",
      "        :zone = umwut.com\n",
      "        #research\n",
      "complete. 3 nodes in 13 ms (230/sec).\n"
     ]
    }
   ],
   "source": [
    "# Make some tagged nodes\n",
    "q = '[inet:fqdn=hurr.com inet:fqdn=derp.com inet:fqdn=umwut.com +#research]'\n",
    "# Run the query and test\n",
    "podes = await core.eval(q, num=3, cmdr=True)"
   ]
  },
  {
   "cell_type": "code",
   "execution_count": 49,
   "metadata": {
    "hideCode": true
   },
   "outputs": [
    {
     "name": "stdout",
     "output_type": "stream",
     "text": [
      "movetag #research #internal.research\n"
     ]
    }
   ],
   "source": [
    "# Define and print test query\n",
    "q = 'movetag #research #internal.research'\n",
    "print(q)\n",
    "# Execute the query and test\n",
    "# This may not be a good test because it only checks that there are no nodes left with the old tag\n",
    "podes = await core.eval(q, num=0, cmdr=False)"
   ]
  },
  {
   "cell_type": "code",
   "execution_count": 47,
   "metadata": {
    "hideCode": true,
    "hideOutput": true
   },
   "outputs": [
    {
     "name": "stdout",
     "output_type": "stream",
     "text": [
      "cli> storm [inet:fqdn=newsonet.net inet:fqdn=staycools.net inet:fqdn=firefoxupdata.com +#aka.fireeye.malware]\n",
      "\n",
      "inet:fqdn=newsonet.net\n",
      "        .created = 2019/01/01 22:58:11.935\n",
      "        :domain = net\n",
      "        :host = newsonet\n",
      "        :issuffix = False\n",
      "        :iszone = True\n",
      "        :zone = newsonet.net\n",
      "        #aka.fireeye.malware\n",
      "inet:fqdn=staycools.net\n",
      "        .created = 2019/01/01 22:58:11.938\n",
      "        :domain = net\n",
      "        :host = staycools\n",
      "        :issuffix = False\n",
      "        :iszone = True\n",
      "        :zone = staycools.net\n",
      "        #aka.fireeye.malware\n",
      "inet:fqdn=firefoxupdata.com\n",
      "        .created = 2019/01/01 22:58:11.940\n",
      "        :domain = com\n",
      "        :host = firefoxupdata\n",
      "        :issuffix = False\n",
      "        :iszone = True\n",
      "        :zone = firefoxupdata.com\n",
      "        #aka.fireeye.malware\n",
      "complete. 3 nodes in 17 ms (176/sec).\n"
     ]
    }
   ],
   "source": [
    "# Make some tagged nodes\n",
    "q = '[inet:fqdn=newsonet.net inet:fqdn=staycools.net inet:fqdn=firefoxupdata.com +#aka.fireeye.malware]'\n",
    "# Run the query and test\n",
    "podes = await core.eval(q, num=3, cmdr=True)"
   ]
  },
  {
   "cell_type": "code",
   "execution_count": 48,
   "metadata": {
    "hideCode": true,
    "scrolled": true
   },
   "outputs": [
    {
     "name": "stdout",
     "output_type": "stream",
     "text": [
      "movetag aka.fireeye.malware aka.feye.mal\n"
     ]
    }
   ],
   "source": [
    "# Define and print test query\n",
    "q = 'movetag aka.fireeye.malware aka.feye.mal'\n",
    "print(q)\n",
    "# Execute the query and test\n",
    "# This may not be a good test because it only checks that there are no nodes left with the old tag\n",
    "podes = await core.eval(q, num=0, cmdr=False)"
   ]
  },
  {
   "cell_type": "raw",
   "metadata": {},
   "source": [
    "**Usage Notes:**\n",
    "\n",
    ".. WARNING::\n",
    "  ``movetag`` should be used with caution as when used incorrectly it can result in \"deleted\" (inadvertently moved / removed) or orphaned (inadvertently retained) tags. For example, in the second example query above, all ``aka.fireeye.malware`` tags are renamed ``aka.feye.mal``, but the tag ``aka.fireeye`` still exists and is still applied to all of the original nodes. In other words, the result of the above command will be that nodes previously tagged ``aka.fireeye.malware`` will now be tagged both ``aka.feye.mal`` **and** ``aka.fireeye``. Users may wish to test the command on sample data first to understand its effects before applying it in a live Cortex."
   ]
  },
  {
   "cell_type": "raw",
   "metadata": {},
   "source": [
    ".. _storm-noderefs:\n",
    "\n",
    "noderefs\n",
    "--------\n",
    "\n",
    "The ``noderefs`` command returns all nodes that are adjacent to a given set of nodes (one degree away by default). \"Adjacent\" means nodes whose primary or secondary properties reference either a primary or secondary property of the set of input nodes.\n",
    "\n",
    "TBD\n",
    "\n",
    "**Syntax:**\n"
   ]
  },
  {
   "cell_type": "code",
   "execution_count": 50,
   "metadata": {
    "hideCode": true
   },
   "outputs": [
    {
     "name": "stdout",
     "output_type": "stream",
     "text": [
      "cli> storm noderefs --help\n",
      "\n",
      "usage: noderefs [-h] [-d DEGREES] [-te] [-j] [-otf OMIT_TRAVERSAL_FORM]\n",
      "                [-ott OMIT_TRAVERSAL_TAG] [-of OMIT_FORM] [-ot OMIT_TAG] [-u]\n",
      "\n",
      "    Get nodes adjacent to inbound nodes, up to n degrees away.\n",
      "\n",
      "    Examples:\n",
      "        The following examples show long-form options. Short form options exist and\n",
      "        should be easier for regular use.\n",
      "\n",
      "        Get all nodes 1 degree away from a input node:\n",
      "\n",
      "            ask inet:ipv4=1.2.3.4 | noderefs\n",
      "\n",
      "        Get all nodes 1 degree away from a input node and include the source node:\n",
      "\n",
      "            ask inet:ipv4=1.2.3.4 | noderefs --join\n",
      "\n",
      "        Get all nodes 3 degrees away from a input node and include the source node:\n",
      "\n",
      "            ask inet:ipv4=1.2.3.4 | noderefs --join --degrees 3\n",
      "\n",
      "        Do not include nodes of a given form in the output or traverse across them:\n",
      "\n",
      "            ask inet:ipv4=1.2.3.4 | noderefs --omit-form inet:dns:a\n",
      "\n",
      "        Do not traverse across nodes of a given form (but include them in the output):\n",
      "\n",
      "            ask inet:ipv4=1.2.3.4 | noderefs --omit-traversal-form inet:dns:a\n",
      "\n",
      "        Do not include nodes with a specific tag in the output or traverse across them:\n",
      "\n",
      "            ask inet:ipv4=1.2.3.4 | noderefs --omit-tag omit.nopiv\n",
      "\n",
      "        Do not traverse across nodes with a sepcific tag (but include them in the output):\n",
      "\n",
      "            ask inet:ipv4=1.2.3.4 | noderefs --omit-traversal-tag omit.nopiv\n",
      "\n",
      "        Accept multiple inbound nodes, and unique the output set of nodes across all input nodes:\n",
      "\n",
      "            ask inet:ipv4=1.2.3.4 inet:ipv4=1.2.3.5 | noderefs --degrees 4 --unique\n",
      "\n",
      "    \n",
      "\n",
      "optional arguments:\n",
      "  -h, --help            show this help message and exit\n",
      "  -d DEGREES, --degrees DEGREES\n",
      "                        Number of degrees to traverse from the source node.\n",
      "  -te, --traverse-edge  Traverse Edge type nodes, if encountered, to the\n",
      "                        opposite side of them, if the opposite side has not\n",
      "                        yet been encountered.\n",
      "  -j, --join            Include source nodes in the output of the refs\n",
      "                        command.\n",
      "  -otf OMIT_TRAVERSAL_FORM, --omit-traversal-form OMIT_TRAVERSAL_FORM\n",
      "                        Form to omit traversal of. Nodes of forms will still\n",
      "                        be the output.\n",
      "  -ott OMIT_TRAVERSAL_TAG, --omit-traversal-tag OMIT_TRAVERSAL_TAG\n",
      "                        Tags to omit traversal of. Nodes with these tags will\n",
      "                        still be in the output.\n",
      "  -of OMIT_FORM, --omit-form OMIT_FORM\n",
      "                        Forms which will not be included in the output or\n",
      "                        traversed.\n",
      "  -ot OMIT_TAG, --omit-tag OMIT_TAG\n",
      "                        Forms which have these tags will not not be included\n",
      "                        in the output or traversed.\n",
      "  -u, --unique          Unique the output across ALL input nodes, instead of\n",
      "                        each input node at a time.\n",
      "\n",
      "complete. 0 nodes in 6 ms (0/sec).\n"
     ]
    }
   ],
   "source": [
    "# Run the command and display output\n",
    "q = 'noderefs --help'\n",
    "podes = await core.eval(q, cmdr=True)"
   ]
  },
  {
   "cell_type": "raw",
   "metadata": {},
   "source": [
    "**Examples:**\n",
    "\n",
    "TBD"
   ]
  },
  {
   "cell_type": "raw",
   "metadata": {},
   "source": [
    ".. _storm-reindex:\n",
    "\n",
    "reindex\n",
    "-------\n",
    "\n",
    "The ``reindex`` command reindexes a given node property. This is an administrative command that is typically used when data model updates have been pushed to a Cortex and existing node properties must be migrated to the new model.\n",
    "\n",
    "**Syntax:**"
   ]
  },
  {
   "cell_type": "code",
   "execution_count": 51,
   "metadata": {
    "hideCode": true,
    "scrolled": true
   },
   "outputs": [
    {
     "name": "stdout",
     "output_type": "stream",
     "text": [
      "cli> storm reindex --help\n",
      "\n",
      "usage: reindex [-h] [--type TYPE] [--subs] [--form-counts]\n",
      "\n",
      "    Use admin privileges to re index/normalize node properties.\n",
      "\n",
      "    Example:\n",
      "\n",
      "        foo:bar | reindex --subs\n",
      "\n",
      "        reindex --type inet:ipv4\n",
      "\n",
      "    NOTE: This is mostly for model updates and migrations.\n",
      "          Use with caution and be very sure of what you are doing.\n",
      "    \n",
      "\n",
      "optional arguments:\n",
      "  -h, --help     show this help message and exit\n",
      "  --type TYPE    Re-index all properties of a specified type.\n",
      "  --subs         Re-parse and set sub props.\n",
      "  --form-counts  Re-calculate all form counts.\n",
      "\n",
      "complete. 0 nodes in 4 ms (0/sec).\n"
     ]
    }
   ],
   "source": [
    "# Run the command and display output\n",
    "q = 'reindex --help'\n",
    "podes = await core.eval(q, cmdr=True)"
   ]
  },
  {
   "cell_type": "raw",
   "metadata": {},
   "source": [
    "**Examples:**\n",
    "\n",
    "TBD"
   ]
  },
  {
   "cell_type": "raw",
   "metadata": {},
   "source": [
    ".. _storm-sleep:\n",
    "\n",
    "sleep\n",
    "-----\n",
    "\n",
    "The ``sleep`` command adds a delay in returning each result for a given Storm query. By default, query results are streamed back and displayed as soon as they arrive for optimal performance. A ``sleep`` delay effectively slows the display of results.\n",
    "\n",
    "**Syntax:**"
   ]
  },
  {
   "cell_type": "code",
   "execution_count": 52,
   "metadata": {
    "hideCode": true,
    "scrolled": false
   },
   "outputs": [
    {
     "name": "stdout",
     "output_type": "stream",
     "text": [
      "cli> storm sleep --help\n",
      "\n",
      "usage: sleep [-h] delay\n",
      "\n",
      "    Introduce a delay between returning each result for the storm query.\n",
      "\n",
      "    NOTE: This is mostly used for testing / debugging.\n",
      "\n",
      "    Example:\n",
      "\n",
      "        #foo.bar | sleep 0.5\n",
      "\n",
      "    \n",
      "\n",
      "positional arguments:\n",
      "  delay       Delay in floating point seconds.\n",
      "\n",
      "optional arguments:\n",
      "  -h, --help  show this help message and exit\n",
      "\n",
      "complete. 0 nodes in 3 ms (0/sec).\n"
     ]
    }
   ],
   "source": [
    "# Run the command and display output\n",
    "q = 'sleep --help'\n",
    "podes = await core.eval(q, cmdr=True)"
   ]
  },
  {
   "cell_type": "raw",
   "metadata": {},
   "source": [
    "**Example:**\n",
    "\n",
    "*Retrieve domain nodes from a Cortex every second:*"
   ]
  },
  {
   "cell_type": "code",
   "execution_count": 59,
   "metadata": {
    "hideCode": true,
    "hideOutput": true
   },
   "outputs": [
    {
     "name": "stdout",
     "output_type": "stream",
     "text": [
      "cli> storm [inet:email=me@gmail.com inet:email=you@yahoo.com inet:email=him@live.com inet:email=her@gmx.com]\n",
      "\n",
      "inet:email=me@gmail.com\n",
      "        .created = 2019/01/01 21:33:57.759\n",
      "        :fqdn = gmail.com\n",
      "        :user = me\n",
      "inet:email=you@yahoo.com\n",
      "        .created = 2019/01/01 21:33:57.761\n",
      "        :fqdn = yahoo.com\n",
      "        :user = you\n",
      "inet:email=him@live.com\n",
      "        .created = 2019/01/01 23:35:49.142\n",
      "        :fqdn = live.com\n",
      "        :user = him\n",
      "inet:email=her@gmx.com\n",
      "        .created = 2019/01/01 23:35:49.145\n",
      "        :fqdn = gmx.com\n",
      "        :user = her\n",
      "complete. 4 nodes in 4 ms (1000/sec).\n"
     ]
    }
   ],
   "source": [
    "# Make some nodes\n",
    "q = '[inet:email=me@gmail.com inet:email=you@yahoo.com inet:email=him@live.com inet:email=her@gmx.com]'\n",
    "# Run the query and test\n",
    "podes = await core.eval(q, num=4, cmdr=True)"
   ]
  },
  {
   "cell_type": "code",
   "execution_count": 60,
   "metadata": {
    "hideCode": true
   },
   "outputs": [
    {
     "name": "stdout",
     "output_type": "stream",
     "text": [
      "inet:email | sleep 1.0\n"
     ]
    }
   ],
   "source": [
    "# Define and print test query\n",
    "q = 'inet:email | sleep 1.0'\n",
    "print(q)\n",
    "# Execute the query and test\n",
    "# This may not be a good test because it only checks that there are no nodes left with the old tag\n",
    "podes = await core.eval(q, num=4, cmdr=False)"
   ]
  },
  {
   "cell_type": "raw",
   "metadata": {},
   "source": [
    ".. _storm-spin:\n",
    "\n",
    "spin\n",
    "----\n",
    "\n",
    "The ``spin`` command is used to suppress the output of a Storm query. ``Spin`` simply consumes all nodes sent to the command, so no nodes are output to the CLI. This allows you to execute a Storm query and view messages and results without displaying the associated nodes.\n",
    "\n",
    "**Syntax:**\n"
   ]
  },
  {
   "cell_type": "code",
   "execution_count": 57,
   "metadata": {
    "hideCode": true,
    "scrolled": true
   },
   "outputs": [
    {
     "name": "stdout",
     "output_type": "stream",
     "text": [
      "cli> storm spin --help\n",
      "\n",
      "usage: spin [-h]\n",
      "\n",
      "    Iterate through all query results, but do not yield any.\n",
      "    This can be used to operate on many nodes without returning any.\n",
      "\n",
      "    Example:\n",
      "\n",
      "        foo:bar:size=20 [ +#hehe ] | spin\n",
      "\n",
      "    \n",
      "\n",
      "optional arguments:\n",
      "  -h, --help  show this help message and exit\n",
      "\n",
      "complete. 0 nodes in 5 ms (0/sec).\n"
     ]
    }
   ],
   "source": [
    "# Run the command and display output\n",
    "q = 'spin --help'\n",
    "podes = await core.eval(q, cmdr=True)"
   ]
  },
  {
   "cell_type": "raw",
   "metadata": {},
   "source": [
    "**Examples:**\n",
    "\n",
    "*Count the number of email addresses in a Cortex without displaying the inet:email nodes:*"
   ]
  },
  {
   "cell_type": "code",
   "execution_count": 64,
   "metadata": {
    "hideCode": true,
    "scrolled": true
   },
   "outputs": [
    {
     "name": "stdout",
     "output_type": "stream",
     "text": [
      "inet:email | count | spin\n"
     ]
    }
   ],
   "source": [
    "# Define and print test query\n",
    "q = 'inet:email | count | spin'\n",
    "print(q)\n",
    "# Execute the query and test\n",
    "# This may not be a good test because it only checks that 'spin' returns zero nodes\n",
    "podes = await core.eval(q, num=0, cmdr=False)"
   ]
  },
  {
   "cell_type": "raw",
   "metadata": {},
   "source": [
    "*Add the tag #int.research to any domain containing the string \"firefox\" but do not display the nodes.*"
   ]
  },
  {
   "cell_type": "code",
   "execution_count": 65,
   "metadata": {
    "hideCode": true,
    "hideOutput": true
   },
   "outputs": [
    {
     "name": "stdout",
     "output_type": "stream",
     "text": [
      "cli> storm [inet:fqdn=myfirefox.com inet:fqdn=fakefirefox.net inet:fqdn=usefirefoxbrowser.org]\n",
      "\n",
      "inet:fqdn=myfirefox.com\n",
      "        .created = 2019/01/01 23:49:06.930\n",
      "        :domain = com\n",
      "        :host = myfirefox\n",
      "        :issuffix = False\n",
      "        :iszone = True\n",
      "        :zone = myfirefox.com\n",
      "inet:fqdn=fakefirefox.net\n",
      "        .created = 2019/01/01 23:49:06.931\n",
      "        :domain = net\n",
      "        :host = fakefirefox\n",
      "        :issuffix = False\n",
      "        :iszone = True\n",
      "        :zone = fakefirefox.net\n",
      "inet:fqdn=usefirefoxbrowser.org\n",
      "        .created = 2019/01/01 23:49:06.933\n",
      "        :domain = org\n",
      "        :host = usefirefoxbrowser\n",
      "        :issuffix = False\n",
      "        :iszone = True\n",
      "        :zone = usefirefoxbrowser.org\n",
      "complete. 3 nodes in 25 ms (120/sec).\n"
     ]
    }
   ],
   "source": [
    "# Make some domains\n",
    "q = '[inet:fqdn=myfirefox.com inet:fqdn=fakefirefox.net inet:fqdn=usefirefoxbrowser.org]'\n",
    "# Run the query and test\n",
    "podes = await core.eval(q, num=3, cmdr=True)"
   ]
  },
  {
   "cell_type": "code",
   "execution_count": 66,
   "metadata": {
    "hideCode": true
   },
   "outputs": [
    {
     "name": "stdout",
     "output_type": "stream",
     "text": [
      "inet:fqdn~=firefox [+#int.research] | spin\n"
     ]
    }
   ],
   "source": [
    "# Define and print test query\n",
    "q = 'inet:fqdn~=firefox [+#int.research] | spin'\n",
    "print(q)\n",
    "# Execute the query and test\n",
    "# This may not be a good test because it only checks that 'spin' returns zero nodes\n",
    "podes = await core.eval(q, num=0, cmdr=False)"
   ]
  },
  {
   "cell_type": "raw",
   "metadata": {},
   "source": [
    ".. _storm-sudo:\n",
    "\n",
    "sudo\n",
    "----\n",
    "\n",
    "The ``sudo`` command executes a Storm query with elevated privileges. The Synapse permissions system <link> can be used to grant or restrict permissions to users and groups.\n",
    "\n",
    "As a best practice, we strongly recommend restricting potentially dangerous Storm operations (e.g., :ref:`storm-movetag` or :ref:`storm-delnode`) and requiring the use of ``sudo`` to perform these actions.\n",
    "\n",
    "**Syntax:**\n"
   ]
  },
  {
   "cell_type": "code",
   "execution_count": 67,
   "metadata": {
    "hideCode": true,
    "scrolled": true
   },
   "outputs": [
    {
     "name": "stdout",
     "output_type": "stream",
     "text": [
      "cli> storm sudo --help\n",
      "\n",
      "usage: sudo [-h]\n",
      "\n",
      "    Use admin privileges to bypass standard query permissions.\n",
      "\n",
      "    Example:\n",
      "\n",
      "        sudo | [ inet:fqdn=vertex.link ]\n",
      "    \n",
      "\n",
      "optional arguments:\n",
      "  -h, --help  show this help message and exit\n",
      "\n",
      "complete. 0 nodes in 5 ms (0/sec).\n"
     ]
    }
   ],
   "source": [
    "# Run the command and display output\n",
    "q = 'sudo --help'\n",
    "podes = await core.eval(q, cmdr=True)"
   ]
  },
  {
   "cell_type": "raw",
   "metadata": {},
   "source": [
    "**Example:**\n",
    "\n",
    "*Delete a node using elevated privileges:*"
   ]
  },
  {
   "cell_type": "code",
   "execution_count": 21,
   "metadata": {
    "hideCode": true,
    "hideOutput": true
   },
   "outputs": [
    {
     "name": "stdout",
     "output_type": "stream",
     "text": [
      "cli> storm [inet:fqdn=mydomain.com]\n",
      "\n",
      "inet:fqdn=mydomain.com\n",
      "        .created = 2019/01/01 21:51:15.312\n",
      "        :domain = com\n",
      "        :host = mydomain\n",
      "        :issuffix = False\n",
      "        :iszone = True\n",
      "        :zone = mydomain.com\n",
      "complete. 1 nodes in 26 ms (38/sec).\n"
     ]
    }
   ],
   "source": [
    "# Make a node\n",
    "q = '[inet:fqdn=mydomain.com]'\n",
    "# Run the query and test\n",
    "podes = await core.eval(q, num=1, cmdr=True)"
   ]
  },
  {
   "cell_type": "code",
   "execution_count": 22,
   "metadata": {
    "hideCode": true,
    "scrolled": true
   },
   "outputs": [
    {
     "name": "stdout",
     "output_type": "stream",
     "text": [
      "sudo | inet:fqdn=mydomain.com | delnode\n"
     ]
    }
   ],
   "source": [
    "# Define and print test query\n",
    "q = 'sudo | inet:fqdn=mydomain.com | delnode'\n",
    "print(q)\n",
    "# Execute the query and test\n",
    "podes = await core.eval(q, num=0, cmdr=False)"
   ]
  },
  {
   "cell_type": "raw",
   "metadata": {},
   "source": [
    ".. _storm-uniq:\n",
    "\n",
    "uniq\n",
    "----\n",
    "\n",
    "The ``uniq`` command removes duplicate results from a Storm query. Results are uniqued based on each node's node identifier (node ID / iden) so that only the first node with a given node ID is returned.\n",
    "\n",
    "**Syntax:**"
   ]
  },
  {
   "cell_type": "code",
   "execution_count": 68,
   "metadata": {
    "hideCode": true,
    "scrolled": true
   },
   "outputs": [
    {
     "name": "stdout",
     "output_type": "stream",
     "text": [
      "cli> storm uniq --help\n",
      "\n",
      "usage: uniq [-h]\n",
      "\n",
      "    Filter nodes by their uniq iden values.\n",
      "    When this is used a Storm pipeline, only the first instance of a\n",
      "    given node is allowed through the pipeline.\n",
      "\n",
      "    Examples:\n",
      "\n",
      "        #badstuff +inet:ipv4 ->* | uniq\n",
      "\n",
      "    \n",
      "\n",
      "optional arguments:\n",
      "  -h, --help  show this help message and exit\n",
      "\n",
      "complete. 0 nodes in 3 ms (0/sec).\n"
     ]
    }
   ],
   "source": [
    "# Run the command and display output\n",
    "q = 'uniq --help'\n",
    "podes = await core.eval(q, cmdr=True)"
   ]
  },
  {
   "cell_type": "raw",
   "metadata": {},
   "source": [
    "**Examples:**\n",
    "\n",
    "*Lift all of the unique IP addresses that domains associated with the Fancy Bear threat group have resolved to:*"
   ]
  },
  {
   "cell_type": "code",
   "execution_count": 69,
   "metadata": {
    "hideCode": true,
    "hideOutput": true,
    "scrolled": true
   },
   "outputs": [
    {
     "name": "stdout",
     "output_type": "stream",
     "text": [
      "cli> storm [inet:fqdn=autoupdater.org inet:fqdn=actblues.com inet:fqdn=euronews24.info +#aka.threatconnect.thr.fancybear]\n",
      "\n",
      "inet:fqdn=autoupdater.org\n",
      "        .created = 2019/01/02 00:06:36.510\n",
      "        :domain = org\n",
      "        :host = autoupdater\n",
      "        :issuffix = False\n",
      "        :iszone = True\n",
      "        :zone = autoupdater.org\n",
      "        #aka.threatconnect.thr.fancybear\n",
      "inet:fqdn=actblues.com\n",
      "        .created = 2019/01/02 00:06:36.515\n",
      "        :domain = com\n",
      "        :host = actblues\n",
      "        :issuffix = False\n",
      "        :iszone = True\n",
      "        :zone = actblues.com\n",
      "        #aka.threatconnect.thr.fancybear\n",
      "inet:fqdn=euronews24.info\n",
      "        .created = 2019/01/02 00:06:36.520\n",
      "        :domain = info\n",
      "        :host = euronews24\n",
      "        :issuffix = False\n",
      "        :iszone = True\n",
      "        :zone = euronews24.info\n",
      "        #aka.threatconnect.thr.fancybear\n",
      "complete. 3 nodes in 28 ms (107/sec).\n",
      "cli> storm [inet:dns:a=(autoupdater.org,1.2.3.4) inet:dns:a=(autoupdater.org,5.6.7.8) inet:dns:a=(actblues.com,5.6.7.8) inet:dns:a=(euronews24.info,1.2.3.4) inet:dns:a=(euronews24.info,8.8.8.8) inet:dns:a=(euronews24.info,255.255.255.254)]\n",
      "\n",
      "inet:dns:a=('autoupdater.org', '1.2.3.4')\n",
      "        .created = 2019/01/02 00:06:36.545\n",
      "        :fqdn = autoupdater.org\n",
      "        :ipv4 = 1.2.3.4\n",
      "inet:dns:a=('autoupdater.org', '5.6.7.8')\n",
      "        .created = 2019/01/02 00:06:36.547\n",
      "        :fqdn = autoupdater.org\n",
      "        :ipv4 = 5.6.7.8\n",
      "inet:dns:a=('actblues.com', '5.6.7.8')\n",
      "        .created = 2019/01/02 00:06:36.549\n",
      "        :fqdn = actblues.com\n",
      "        :ipv4 = 5.6.7.8\n",
      "inet:dns:a=('euronews24.info', '1.2.3.4')\n",
      "        .created = 2019/01/02 00:06:36.551\n",
      "        :fqdn = euronews24.info\n",
      "        :ipv4 = 1.2.3.4\n",
      "inet:dns:a=('euronews24.info', '8.8.8.8')\n",
      "        .created = 2019/01/02 00:06:36.555\n",
      "        :fqdn = euronews24.info\n",
      "        :ipv4 = 8.8.8.8\n",
      "inet:dns:a=('euronews24.info', '255.255.255.254')\n",
      "        .created = 2019/01/02 00:06:36.557\n",
      "        :fqdn = euronews24.info\n",
      "        :ipv4 = 255.255.255.254\n",
      "complete. 6 nodes in 23 ms (260/sec).\n"
     ]
    }
   ],
   "source": [
    "# Make some tagged nodes and A records\n",
    "q = '[inet:fqdn=autoupdater.org inet:fqdn=actblues.com inet:fqdn=euronews24.info +#aka.threatconnect.thr.fancybear]'\n",
    "q1 = '[inet:dns:a=(autoupdater.org,1.2.3.4) inet:dns:a=(autoupdater.org,5.6.7.8) inet:dns:a=(actblues.com,5.6.7.8) inet:dns:a=(euronews24.info,1.2.3.4) inet:dns:a=(euronews24.info,8.8.8.8) inet:dns:a=(euronews24.info,255.255.255.254)]'\n",
    "# Run the query and test\n",
    "podes = await core.eval(q, num=3, cmdr=True)\n",
    "podes = await core.eval(q1, num=6, cmdr=True)"
   ]
  },
  {
   "cell_type": "code",
   "execution_count": 70,
   "metadata": {
    "hideCode": true,
    "scrolled": true
   },
   "outputs": [
    {
     "name": "stdout",
     "output_type": "stream",
     "text": [
      "inet:fqdn#aka.threatconnect.thr.fancybear -> inet:dns:a -> inet:ipv4 | uniq\n"
     ]
    }
   ],
   "source": [
    "# Define and print test query\n",
    "q = 'inet:fqdn#aka.threatconnect.thr.fancybear -> inet:dns:a -> inet:ipv4 | uniq'\n",
    "print(q)\n",
    "# Execute the query and test\n",
    "podes = await core.eval(q, num=4, cmdr=False)"
   ]
  },
  {
   "cell_type": "code",
   "execution_count": 71,
   "metadata": {
    "hideCode": true,
    "hideOutput": true
   },
   "outputs": [
    {
     "data": {
      "text/plain": [
       "0"
      ]
     },
     "execution_count": 71,
     "metadata": {},
     "output_type": "execute_result"
    }
   ],
   "source": [
    "# Close cortex because done\n",
    "await core.fini()"
   ]
  }
 ],
 "metadata": {
  "celltoolbar": "Hide code",
  "kernelspec": {
   "display_name": "Python 3",
   "language": "python",
   "name": "python3"
  },
  "language_info": {
   "codemirror_mode": {
    "name": "ipython",
    "version": 3
   },
   "file_extension": ".py",
   "mimetype": "text/x-python",
   "name": "python",
   "nbconvert_exporter": "python",
   "pygments_lexer": "ipython3",
   "version": "3.7.0"
  }
 },
 "nbformat": 4,
 "nbformat_minor": 2
}
