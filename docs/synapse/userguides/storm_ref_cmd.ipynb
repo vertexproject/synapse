{
 "cells": [
  {
   "cell_type": "code",
   "execution_count": 1,
   "metadata": {
    "hideCode": true
   },
   "outputs": [],
   "source": [
    "import os, sys\n",
    "try:\n",
    "    from synapse.lib.jupyter import *\n",
    "except ImportError as e:\n",
    "    # Insert the root path of the repository to sys.path.\n",
    "    # This assumes the notebook is located three directories away\n",
    "    # From the root synapse directory. It may need to be varied\n",
    "    synroot = os.path.abspath('../../../')\n",
    "    sys.path.insert(0, synroot)\n",
    "    from synapse.lib.jupyter import *"
   ]
  },
  {
   "cell_type": "code",
   "execution_count": 2,
   "metadata": {
    "hideCode": true,
    "hideOutput": true
   },
   "outputs": [],
   "source": [
    "# Get a temp cortex\n",
    "core = await getTempCoreCmdr()"
   ]
  },
  {
   "cell_type": "raw",
   "metadata": {},
   "source": [
    ".. highlight:: none\n",
    "\n",
    ".. _storm-ref-cmd:\n",
    "\n",
    "Storm Reference - Storm Commands\n",
    "================================\n",
    "\n",
    "Storm commands are built-in or custom commands that can be used with the Synapse :ref:`syn-storm` command itself. As such, Storm commands must be executed following the ``storm`` command:\n",
    "\n",
    "**storm** *<command>*\n",
    "\n",
    "or\n",
    "\n",
    "**storm** *<query>* **|** *<command>* [ **|** *<query>* ]\n",
    "\n",
    "The pipe symbol ( ``|`` ) is used to send (pipe) the output from a Storm query to any of the Storm commands, and to send the output from a Storm command back to a Storm query.\n",
    "\n",
    "**Built-in commands** are native to the Storm library and loaded by default within a given Cortex. Built-in commands comprise a set of helper commands that perform a variety of specialized tasks that are useful regardless of the types of data stored in the Cortex or the types of analysis performed.\n",
    "\n",
    "**Custom commands** are Storm commands that have been added to a Cortex to invoke the execution of dynamically loaded modules. Dynamically loaded modules are typically custom modules that have been added to Synapse to support domain-specific analysis. For example, a knowledge domain that requires tracking of IP addresses might have access to a third-party service such as Maxmind to obtain up-to-date data on the assigned Autonomous System (AS) or geographical location of a given IP address. A custom ``maxmind`` module and associated Storm command could be added to Synapse to query the Maxmind database and update the appropriate secondary properties on the associated ``inet:ipv4`` nodes directly from Storm.\n",
    "\n",
    "The full list of storm commands (built-in and custom) available in a given Cortex can be displayed with ``storm help``.\n",
    "\n",
    "Help for a specific Storm command can be displayed with ``storm <command> --help``.\n",
    "\n",
    "This section details the usage and syntax for built-in Storm commands:\n",
    "\n",
    "- `help`_\n",
    "- `count`_\n",
    "- `delnode`_\n",
    "- `dmon.list`_\n",
    "- `feed.list`_\n",
    "- `graph`_\n",
    "- `iden`_\n",
    "- `limit`_\n",
    "- `max`_\n",
    "- `min`_\n",
    "- `movetag`_\n",
    "- `pkg.list`_\n",
    "- `pkg.del`_\n",
    "- `queue.add`_\n",
    "- `queue.list`_\n",
    "- `queue.del`_\n",
    "- `reindex`_\n",
    "- `scrape`_\n",
    "- `service.add`_\n",
    "- `service.list`_\n",
    "- `service.del`_\n",
    "- `sleep`_\n",
    "- `spin`_\n",
    "- `sudo`_\n",
    "- `tee`_\n",
    "- `uniq`_\n",
    "\n",
    "See :ref:`storm-ref-syntax` for an explanation of the syntax format used below.\n",
    "\n",
    "The Storm query language is covered in detail starting with the :ref:`storm-ref-intro` section of the Synapse User Guide.\n",
    "\n",
    ".. _storm-help:\n",
    "\n",
    "help\n",
    "----\n",
    "\n",
    "The ``help`` command (``storm help``) displays the list of available built-in commands and a brief message describing each command. Help on individual commands is available via ``<command> --help``.\n",
    "\n",
    "**Syntax:**\n"
   ]
  },
  {
   "cell_type": "code",
   "execution_count": 3,
   "metadata": {
    "hideCode": true
   },
   "outputs": [
    {
     "name": "stdout",
     "output_type": "stream",
     "text": [
      "cli> storm help\n",
      "Executing query at 2019/12/20 23:34:28.184\n",
      "package: synapse\n",
      "count       : Iterate through query results, and print the resulting number of nodes\n",
      "delnode     : Delete nodes produced by the previous query logic.\n",
      "dmon.list   : List the storm daemon queries running in the cortex.\n",
      "feed.list   : List the feed functions available in the Cortex\n",
      "graph       : Generate a subgraph from the given input nodes and command line options.\n",
      "help        : List available commands and a brief description for each.\n",
      "iden        : Lift nodes by iden.\n",
      "limit       : Limit the number of nodes generated by the query in the given position.\n",
      "max         : Consume nodes and yield only the one node with the highest value for a property or variable.\n",
      "min         : Consume nodes and yield only the one node with the lowest value for a property.\n",
      "movetag     : Rename an entire tag tree and preserve time intervals.\n",
      "pkg.del     : Remove a storm package from the cortex.\n",
      "pkg.list    : List the storm packages loaded in the cortex.\n",
      "queue.add   : Add a queue to the cortex.\n",
      "queue.del   : Remove a queue from the cortex.\n",
      "queue.list  : List the queues in the cortex.\n",
      "reindex     : Use admin privileges to re index/normalize node properties.\n",
      "scrape      : Use textual properties of existing nodes to find other easily recognizable nodes.\n",
      "service.add : Add a storm service to the cortex.\n",
      "service.del : Remove a storm service from the cortex.\n",
      "service.list: List the storm services configured in the cortex.\n",
      "sleep       : Introduce a delay between returning each result for the storm query.\n",
      "spin        : Iterate through all query results, but do not yield any.\n",
      "sudo        : Use admin privileges to bypass standard query permissions.\n",
      "tee         : Execute multiple Storm queries on each node in the input stream, joining output streams together.\n",
      "uniq        : Filter nodes by their uniq iden values.\n",
      "\n",
      "For detailed help on any command, use <cmd> --help\n",
      "complete. 0 nodes in 12 ms (0/sec).\n"
     ]
    }
   ],
   "source": [
    "# Run the command and display output\n",
    "q = 'help'\n",
    "podes = await core.eval(q, cmdr=True)"
   ]
  },
  {
   "cell_type": "raw",
   "metadata": {},
   "source": [
    ".. _storm-count:\n",
    "\n",
    "count\n",
    "-----\n",
    "\n",
    "The ``count`` command enumerates the number of nodes returned from a given Storm query and displays the resultant nodes and associated node count.\n",
    "\n",
    "**Syntax**"
   ]
  },
  {
   "cell_type": "code",
   "execution_count": 4,
   "metadata": {
    "hideCode": true
   },
   "outputs": [
    {
     "name": "stdout",
     "output_type": "stream",
     "text": [
      "cli> storm count --help\n",
      "Executing query at 2019/12/20 23:34:31.269\n",
      "usage: count [-h]\n",
      "\n",
      "    Iterate through query results, and print the resulting number of nodes\n",
      "    which were lifted. This does yield the nodes counted.\n",
      "\n",
      "    Example:\n",
      "\n",
      "        foo:bar:size=20 | count\n",
      "\n",
      "    \n",
      "\n",
      "optional arguments:\n",
      "  -h, --help  show this help message and exit\n",
      "\n",
      "complete. 0 nodes in 13 ms (0/sec).\n"
     ]
    }
   ],
   "source": [
    "# Run the command and display output\n",
    "q = 'count --help'\n",
    "podes = await core.eval(q, cmdr=True)"
   ]
  },
  {
   "cell_type": "raw",
   "metadata": {},
   "source": [
    "**Examples:**\n",
    "\n",
    "- Count the number of email address nodes:\n"
   ]
  },
  {
   "cell_type": "code",
   "execution_count": 5,
   "metadata": {
    "hideCode": true,
    "hideOutput": true
   },
   "outputs": [],
   "source": [
    "# Make some email nodes\n",
    "q = '[inet:email=me@gmail.com inet:email=you@yahoo.com]'\n",
    "# Run the query and test\n",
    "podes = await core.eval(q, num=2, cmdr=False)"
   ]
  },
  {
   "cell_type": "code",
   "execution_count": 6,
   "metadata": {
    "hideCode": true
   },
   "outputs": [
    {
     "name": "stdout",
     "output_type": "stream",
     "text": [
      "inet:email | count\n"
     ]
    }
   ],
   "source": [
    "# Define and print test query\n",
    "q = 'inet:email | count'\n",
    "print(q)\n",
    "# Execute the query and test\n",
    "podes = await core.eval(q, num=2, cmdr=False)"
   ]
  },
  {
   "cell_type": "raw",
   "metadata": {},
   "source": [
    "- Count the number of DNS A records for the domain woot.com:\n"
   ]
  },
  {
   "cell_type": "code",
   "execution_count": 7,
   "metadata": {
    "hideCode": true,
    "hideOutput": true
   },
   "outputs": [],
   "source": [
    "# Make some DNS A records\n",
    "q = '[inet:dns:a=(woot.com,1.2.3.4) inet:dns:a=(woot.com,5.6.7.8)]'\n",
    "# Run the query and test\n",
    "podes = await core.eval(q, num=2, cmdr=False)"
   ]
  },
  {
   "cell_type": "code",
   "execution_count": 8,
   "metadata": {
    "hideCode": true
   },
   "outputs": [
    {
     "name": "stdout",
     "output_type": "stream",
     "text": [
      "inet:dns:a:fqdn=woot.com | count\n"
     ]
    }
   ],
   "source": [
    "# Define and print test query\n",
    "q = 'inet:dns:a:fqdn=woot.com | count'\n",
    "print(q)\n",
    "# Execute the query and test\n",
    "podes = await core.eval(q, num=2, cmdr=False)"
   ]
  },
  {
   "cell_type": "raw",
   "metadata": {},
   "source": [
    "**Usage Notes:**\n",
    "\n",
    "- ``count`` does not consume nodes, so Storm will stream the nodes being counted to the CLI output while the command executes. To count nodes without streaming the output, ``count`` can be piped to the `spin`_ command (i.e., *<query>* | count | spin). ``Spin`` consumes nodes and so will prevent nodes processed by the ``count`` command from streaming.\n",
    "\n",
    ".. _storm-delnode:\n",
    "\n",
    "delnode\n",
    "-------\n",
    "\n",
    "The ``delnode`` command deletes a node or set of nodes from a Cortex.\n",
    "\n",
    ".. WARNING::\n",
    "  The Storm ``delnode`` command has the potential to be destructive if executed on an incorrect, badly formed, or mistyped query. Users are strongly encouraged to validate their query by first executing it on its own to confirm it returns the expected nodes before piping the query to the ``delnode`` command.\n",
    "\n",
    "**Syntax:**\n"
   ]
  },
  {
   "cell_type": "code",
   "execution_count": 9,
   "metadata": {
    "hideCode": true
   },
   "outputs": [
    {
     "name": "stdout",
     "output_type": "stream",
     "text": [
      "cli> storm delnode --help\n",
      "Executing query at 2019/12/20 23:34:46.681\n",
      "usage: delnode [-h] [--force]\n",
      "\n",
      "    Delete nodes produced by the previous query logic.\n",
      "\n",
      "    (no nodes are returned)\n",
      "\n",
      "    Example\n",
      "\n",
      "        inet:fqdn=vertex.link | delnode\n",
      "    \n",
      "\n",
      "optional arguments:\n",
      "  -h, --help  show this help message and exit\n",
      "  --force     Force delete even if it causes broken references (requires\n",
      "              admin).\n",
      "\n",
      "complete. 0 nodes in 12 ms (0/sec).\n"
     ]
    }
   ],
   "source": [
    "# Run the command and display output\n",
    "q = 'delnode --help'\n",
    "podes = await core.eval(q, cmdr=True)"
   ]
  },
  {
   "cell_type": "raw",
   "metadata": {},
   "source": [
    "**Examples:**\n",
    "\n",
    "- Delete the node for the domain woowoo.com:\n"
   ]
  },
  {
   "cell_type": "code",
   "execution_count": 10,
   "metadata": {
    "hideCode": true,
    "hideOutput": true
   },
   "outputs": [],
   "source": [
    "# Make a node\n",
    "q = '[inet:fqdn=woowoo.com]'\n",
    "# Run the query and test\n",
    "podes = await core.eval(q, num=1, cmdr=False)"
   ]
  },
  {
   "cell_type": "code",
   "execution_count": 11,
   "metadata": {
    "hideCode": true
   },
   "outputs": [
    {
     "name": "stdout",
     "output_type": "stream",
     "text": [
      "inet:fqdn=woowoo.com | delnode\n"
     ]
    }
   ],
   "source": [
    "# Define and print test query\n",
    "q = 'inet:fqdn=woowoo.com | delnode'\n",
    "print(q)\n",
    "# Execute the query and test\n",
    "podes = await core.eval(q, num=0, cmdr=False)"
   ]
  },
  {
   "cell_type": "raw",
   "metadata": {},
   "source": [
    "- Forcibly delete all nodes with the #testing tag:"
   ]
  },
  {
   "cell_type": "code",
   "execution_count": 12,
   "metadata": {
    "hideCode": true,
    "hideOutput": true
   },
   "outputs": [],
   "source": [
    "# Make and tag some nodes\n",
    "q = '[inet:dns:a=(woowoo.com,1.2.3.4)]'\n",
    "q1 = '[inet:fqdn=woowoo.com inet:fqdn=hurr.com inet:fqdn=derp.com +#testing]'\n",
    "# Run the query and test\n",
    "podes = await core.eval(q, num=1, cmdr=False)\n",
    "podes = await core.eval(q1, num=3, cmdr=False)"
   ]
  },
  {
   "cell_type": "code",
   "execution_count": 13,
   "metadata": {
    "hideCode": true
   },
   "outputs": [
    {
     "name": "stdout",
     "output_type": "stream",
     "text": [
      "#testing | delnode --force\n"
     ]
    }
   ],
   "source": [
    "# Define and print test query\n",
    "q = '#testing | delnode --force'\n",
    "print(q)\n",
    "# Execute the query and test\n",
    "podes = await core.eval(q, num=0, cmdr=False)"
   ]
  },
  {
   "cell_type": "raw",
   "metadata": {},
   "source": [
    "**Usage Notes:**\n",
    "\n",
    "- ``delnode`` operates on the output of a previous Storm query.\n",
    "- ``delnode`` will attempt to perform some basic sanity-checking to help prevent egregious mistakes. For example, ``delnode`` will return an error if you attempt to delete a node that is still referenced by another node (such as an ``inet:fqdn`` that is referenced by an ``inet:dns:a`` node). Similarly, delnode will return an error if you attempt to delete a ``syn:tag`` node if that tag is still applied to other nodes. **However, delnode cannot prevent all mistakes.**\n",
    "  - Edge / digraph nodes (such as ``edge:refs`` or ``edge:has``) are **exempt** from \"reference checks\", It is possible to delete an edge node where ``n1`` and / or ``n2`` still exist and without affecting ``n1`` or ``n2``.\n",
    "  - However, since ``delnode`` does not check for references to edge nodes when deleting a node, it is possible to leave \"orphaned\" edge nodes with a missing ``n1`` or ``n2``.\n",
    "\n",
    "- The ``--force`` parameter will forcibly delete the nodes input to the command, regardless of any sanity-checking errors or other conditions. **This parameter should be used with extreme caution as it may result in broken references within the Cortex.**"
   ]
  },
  {
   "cell_type": "raw",
   "metadata": {},
   "source": [
    ".. _storm-dmon-list:\n",
    "\n",
    "dmon.list\n",
    "---------\n",
    "\n",
    "The ``dmon.list`` command displays the set of running daemon queries.\n",
    "\n",
    "**Syntax:**"
   ]
  },
  {
   "cell_type": "code",
   "execution_count": 14,
   "metadata": {
    "hideCode": true
   },
   "outputs": [
    {
     "name": "stdout",
     "output_type": "stream",
     "text": [
      "cli> storm dmon.list --help\n",
      "Executing query at 2019/12/20 23:35:00.041\n",
      "usage: dmon.list [-h]\n",
      "\n",
      "List the storm daemon queries running in the cortex.\n",
      "\n",
      "optional arguments:\n",
      "  -h, --help  show this help message and exit\n",
      "\n",
      "complete. 0 nodes in 12 ms (0/sec).\n"
     ]
    }
   ],
   "source": [
    "# Run the command and display output\n",
    "q = 'dmon.list --help'\n",
    "podes = await core.eval(q, cmdr=True)"
   ]
  },
  {
   "cell_type": "code",
   "execution_count": 15,
   "metadata": {
    "hideCode": true
   },
   "outputs": [
    {
     "name": "stdout",
     "output_type": "stream",
     "text": [
      "cli> storm dmon.list\n",
      "Executing query at 2019/12/20 23:35:02.326\n",
      "Storm daemon list:\n",
      "complete. 0 nodes in 18 ms (0/sec).\n"
     ]
    }
   ],
   "source": [
    "# Run the command and display output\n",
    "q = 'dmon.list'\n",
    "podes = await core.eval(q, cmdr=True)"
   ]
  },
  {
   "cell_type": "raw",
   "metadata": {},
   "source": [
    ".. _storm-feed-list:\n",
    "\n",
    "feed.list\n",
    "---------\n",
    "\n",
    "The ``feed.list`` command displays available feed functions.\n",
    "\n",
    "**Syntax:**"
   ]
  },
  {
   "cell_type": "code",
   "execution_count": 16,
   "metadata": {
    "hideCode": true
   },
   "outputs": [
    {
     "name": "stdout",
     "output_type": "stream",
     "text": [
      "cli> storm feed.list --help\n",
      "Executing query at 2019/12/20 23:35:06.010\n",
      "usage: feed.list [-h]\n",
      "\n",
      "List the feed functions available in the Cortex\n",
      "\n",
      "optional arguments:\n",
      "  -h, --help  show this help message and exit\n",
      "\n",
      "complete. 0 nodes in 13 ms (0/sec).\n"
     ]
    }
   ],
   "source": [
    "# Run the command and display output\n",
    "q = 'feed.list --help'\n",
    "podes = await core.eval(q, cmdr=True)"
   ]
  },
  {
   "cell_type": "raw",
   "metadata": {},
   "source": [
    "**Example:**\n",
    "\n",
    "- List available feed functions:"
   ]
  },
  {
   "cell_type": "code",
   "execution_count": 17,
   "metadata": {
    "hideCode": true
   },
   "outputs": [
    {
     "name": "stdout",
     "output_type": "stream",
     "text": [
      "cli> storm feed.list\n",
      "Executing query at 2019/12/20 23:35:08.801\n",
      "Storm feed list:\n",
      "    (syn.nodes                     ): Add nodes to the Cortex via the packed node format.\n",
      "    (syn.splice                    ): No feed docstring\n",
      "    (syn.ingest                    ): No feed docstring\n",
      "complete. 0 nodes in 14 ms (0/sec).\n"
     ]
    }
   ],
   "source": [
    "# Run the command and display output\n",
    "q = 'feed.list'\n",
    "podes = await core.eval(q, cmdr=True)"
   ]
  },
  {
   "cell_type": "raw",
   "metadata": {},
   "source": [
    ".. _storm-graph:\n",
    "\n",
    "graph\n",
    "-----\n",
    "\n",
    "The ``graph`` command generates a subgraph based on a specified set of nodes and parameters.\n",
    "\n",
    "**Syntax:**\n"
   ]
  },
  {
   "cell_type": "code",
   "execution_count": 18,
   "metadata": {
    "hideCode": true
   },
   "outputs": [
    {
     "name": "stdout",
     "output_type": "stream",
     "text": [
      "cli> storm graph --help\n",
      "Executing query at 2019/12/20 23:35:11.836\n",
      "usage: graph [-h] [--degrees DEGREES] [--pivot PIVOT] [--filter FILTER]\n",
      "             [--form-pivot FORM_PIVOT FORM_PIVOT]\n",
      "             [--form-filter FORM_FILTER FORM_FILTER]\n",
      "\n",
      "    Generate a subgraph from the given input nodes and command line options.\n",
      "    \n",
      "\n",
      "optional arguments:\n",
      "  -h, --help            show this help message and exit\n",
      "  --degrees DEGREES     How many degrees to graph out.\n",
      "  --pivot PIVOT         Specify a storm pivot for all nodes. (must quote)\n",
      "  --filter FILTER       Specify a storm filter for all nodes. (must quote)\n",
      "  --form-pivot FORM_PIVOT FORM_PIVOT\n",
      "                        Specify a <form> <pivot> form specific pivot.\n",
      "  --form-filter FORM_FILTER FORM_FILTER\n",
      "                        Specify a <form> <filter> form specific filter.\n",
      "\n",
      "complete. 0 nodes in 13 ms (0/sec).\n"
     ]
    }
   ],
   "source": [
    "# Run the command and display output\n",
    "q = 'graph --help'\n",
    "podes = await core.eval(q, cmdr=True)"
   ]
  },
  {
   "cell_type": "raw",
   "metadata": {},
   "source": [
    "**Examples:**\n",
    "\n",
    "TBD"
   ]
  },
  {
   "cell_type": "raw",
   "metadata": {},
   "source": [
    ".. _storm-iden:\n",
    "\n",
    "iden\n",
    "----\n",
    "\n",
    "The ``iden`` command lifts one or more nodes by their node identifier (node ID / iden).\n",
    "\n",
    "**Syntax:**\n"
   ]
  },
  {
   "cell_type": "code",
   "execution_count": 19,
   "metadata": {
    "hideCode": true
   },
   "outputs": [
    {
     "name": "stdout",
     "output_type": "stream",
     "text": [
      "cli> storm iden --help\n",
      "Executing query at 2019/12/20 23:35:14.913\n",
      "usage: iden [-h] [iden [iden ...]]\n",
      "\n",
      "    Lift nodes by iden.\n",
      "\n",
      "    Example:\n",
      "\n",
      "        iden b25bc9eec7e159dce879f9ec85fb791f83b505ac55b346fcb64c3c51e98d1175 | count\n",
      "    \n",
      "\n",
      "positional arguments:\n",
      "  iden        Iden to lift nodes by. May be specified multiple times.\n",
      "\n",
      "optional arguments:\n",
      "  -h, --help  show this help message and exit\n",
      "\n",
      "complete. 0 nodes in 19 ms (0/sec).\n"
     ]
    }
   ],
   "source": [
    "# Run the command and display output\n",
    "q = 'iden --help'\n",
    "podes = await core.eval(q, cmdr=True)"
   ]
  },
  {
   "cell_type": "raw",
   "metadata": {},
   "source": [
    "**Example:**\n",
    "\n",
    "- Lift the node with node ID d7fb3ae625e295c9279c034f5d91a7ad9132c79a9c2b16eecffc8d1609d75849:"
   ]
  },
  {
   "cell_type": "code",
   "execution_count": 20,
   "metadata": {
    "hideCode": true
   },
   "outputs": [
    {
     "name": "stdout",
     "output_type": "stream",
     "text": [
      "iden d7fb3ae625e295c9279c034f5d91a7ad9132c79a9c2b16eecffc8d1609d75849\n"
     ]
    }
   ],
   "source": [
    "# Define and print test query\n",
    "q = 'iden d7fb3ae625e295c9279c034f5d91a7ad9132c79a9c2b16eecffc8d1609d75849'\n",
    "print(q)\n",
    "# Execute the query and test\n",
    "podes = await core.eval(q, num=1, cmdr=False)"
   ]
  },
  {
   "cell_type": "raw",
   "metadata": {},
   "source": [
    "**Usage Notes:**\n",
    "\n",
    "- The node ID (iden) for a given node can be obtained by lifting the node using the ``--raw`` option to the :ref:`syn-storm` command:\n",
    "\n",
    "  - ``storm --raw inet:fqdn=woot.com``\n",
    "\n",
    ".. _storm-limit:\n",
    "\n",
    "limit\n",
    "-----\n",
    "\n",
    "The ``limit`` command restricts the number of nodes returned from a given Storm query to the specified number of nodes.\n",
    "\n",
    "**Syntax:**"
   ]
  },
  {
   "cell_type": "code",
   "execution_count": 21,
   "metadata": {
    "hideCode": true
   },
   "outputs": [
    {
     "name": "stdout",
     "output_type": "stream",
     "text": [
      "cli> storm limit --help\n",
      "Executing query at 2019/12/20 23:35:26.635\n",
      "usage: limit [-h] count\n",
      "\n",
      "    Limit the number of nodes generated by the query in the given position.\n",
      "\n",
      "    Example:\n",
      "\n",
      "        inet:ipv4 | limit 10\n",
      "    \n",
      "\n",
      "positional arguments:\n",
      "  count       The maximum number of nodes to yield.\n",
      "\n",
      "optional arguments:\n",
      "  -h, --help  show this help message and exit\n",
      "\n",
      "complete. 0 nodes in 18 ms (0/sec).\n"
     ]
    }
   ],
   "source": [
    "# Run the command and display output\n",
    "q = 'limit --help'\n",
    "podes = await core.eval(q, cmdr=True)"
   ]
  },
  {
   "cell_type": "raw",
   "metadata": {},
   "source": [
    "**Example:**\n",
    "\n",
    "- Lift ten IP address nodes:"
   ]
  },
  {
   "cell_type": "code",
   "execution_count": 22,
   "metadata": {
    "hideCode": true,
    "hideOutput": true
   },
   "outputs": [],
   "source": [
    "# Make some nodes\n",
    "q = '[inet:ipv4=192.168.0.0/24]'\n",
    "# Run the query and test\n",
    "podes = await core.eval(q, num=256, cmdr=False)"
   ]
  },
  {
   "cell_type": "code",
   "execution_count": 23,
   "metadata": {
    "hideCode": true
   },
   "outputs": [
    {
     "name": "stdout",
     "output_type": "stream",
     "text": [
      "inet:ipv4 | limit 10\n"
     ]
    }
   ],
   "source": [
    "# Define and print test query\n",
    "q = 'inet:ipv4 | limit 10'\n",
    "print(q)\n",
    "# Execute the query and test\n",
    "podes = await core.eval(q, num=10, cmdr=False)"
   ]
  },
  {
   "cell_type": "raw",
   "metadata": {},
   "source": [
    "**Usage Notes:**\n",
    "\n",
    "- If the limit number specified (i.e., ``limit 100``) is greater than the total number of nodes returned from the Storm query, no limit will be applied to the resultant nodes (i.e., all nodes will be returned).\n",
    "- By design, ``limit`` imposes an artificial limit on the nodes returned by a query, which may impair effective analysis of data by restricting results. As such, ``limit`` is most useful for viewing a subset of a large result set or an exemplar node for a given form.\n",
    "- While ``limit`` returns a sampling of nodes, it is not statistically random for the purposes of population sampling for algorithmic use.\n",
    "\n",
    ".. _storm-max:\n",
    "\n",
    "max\n",
    "---\n",
    "\n",
    "The ``max`` command returns the node from a given set that contains the highest value for a specified secondary property.\n",
    "\n",
    "**Syntax:**\n"
   ]
  },
  {
   "cell_type": "code",
   "execution_count": 24,
   "metadata": {
    "hideCode": true
   },
   "outputs": [
    {
     "name": "stdout",
     "output_type": "stream",
     "text": [
      "cli> storm max --help\n",
      "Executing query at 2019/12/20 23:35:36.878\n",
      "usage: max [-h] name\n",
      "\n",
      "    Consume nodes and yield only the one node with the highest value for a property or variable.\n",
      "\n",
      "    Examples:\n",
      "\n",
      "        file:bytes +#foo.bar | max :size\n",
      "\n",
      "        file:bytes +#foo.bar | max file:bytes:size\n",
      "\n",
      "        file:bytes +#foo.bar +.seen ($tick, $tock) = .seen | max $tick\n",
      "\n",
      "    \n",
      "\n",
      "positional arguments:\n",
      "  name\n",
      "\n",
      "optional arguments:\n",
      "  -h, --help  show this help message and exit\n",
      "\n",
      "complete. 0 nodes in 14 ms (0/sec).\n"
     ]
    }
   ],
   "source": [
    "# Run the command and display output\n",
    "q = 'max --help'\n",
    "podes = await core.eval(q, cmdr=True)"
   ]
  },
  {
   "cell_type": "raw",
   "metadata": {},
   "source": [
    "**Examples:**\n",
    "\n",
    "- Return the DNS A record for woot.com with the most recent ``.seen`` value:"
   ]
  },
  {
   "cell_type": "code",
   "execution_count": 25,
   "metadata": {
    "hideCode": true,
    "hideOutput": true
   },
   "outputs": [],
   "source": [
    "# Make some DNS A nodes\n",
    "q = '[inet:dns:a=(woot.com,107.21.53.159) .seen=(2014/08/13,2014/08/14)]'\n",
    "q1 = '[inet:dns:a=(woot.com,75.101.146.4) .seen=(2013/09/21,2013/09/22)]'\n",
    "q2 = '[inet:dns:a=(woot.com,52.206.255.234) .seen=(2018/01/23,2018/01/24)]'\n",
    "# Run the query and test\n",
    "podes = await core.eval(q, num=1, cmdr=False)\n",
    "podes = await core.eval(q1, num=1, cmdr=False)\n",
    "podes = await core.eval(q2, num=1, cmdr=False)"
   ]
  },
  {
   "cell_type": "code",
   "execution_count": 26,
   "metadata": {
    "hideCode": true
   },
   "outputs": [
    {
     "name": "stdout",
     "output_type": "stream",
     "text": [
      "inet:dns:a:fqdn=woot.com | max .seen\n"
     ]
    }
   ],
   "source": [
    "# Define and print test query\n",
    "q = 'inet:dns:a:fqdn=woot.com | max .seen'\n",
    "print(q)\n",
    "# Execute the query and test\n",
    "podes = await core.eval(q, num=1, cmdr=False)\n",
    "max_seen =(1516665600000, 1516752000000)\n",
    "assert max_seen == podes[0][1].get('props', {}).get('.seen')"
   ]
  },
  {
   "cell_type": "raw",
   "metadata": {},
   "source": [
    "- Return the most recent WHOIS record for domain woot.com:"
   ]
  },
  {
   "cell_type": "code",
   "execution_count": 27,
   "metadata": {
    "hideCode": true,
    "hideOutput": true
   },
   "outputs": [],
   "source": [
    "# Make some WHOIS records\n",
    "q = '[inet:whois:rec=(woot.com,2018/05/22) :text=\"domain name: woot.com\"]'\n",
    "q1 = '[inet:whois:rec=(woot.com,2018/01/17) :text=\"domain name: woot.com\"]'\n",
    "q2 = '[inet:whois:rec=(woot.com,2018/03/30) :text=\"domain name: woot.com\"]'\n",
    "# Run the query and test\n",
    "podes = await core.eval(q, num=1, cmdr=False)\n",
    "podes = await core.eval(q1, num=1, cmdr=False)\n",
    "podes = await core.eval(q2, num=1, cmdr=False)"
   ]
  },
  {
   "cell_type": "code",
   "execution_count": 28,
   "metadata": {
    "hideCode": true,
    "hideOutput": false
   },
   "outputs": [
    {
     "name": "stdout",
     "output_type": "stream",
     "text": [
      "inet:whois:rec:fqdn=woot.com | max :asof\n"
     ]
    }
   ],
   "source": [
    "# Define and print test query\n",
    "q = 'inet:whois:rec:fqdn=woot.com | max :asof'\n",
    "print(q)\n",
    "# Execute the query and test\n",
    "podes = await core.eval(q, num=1, cmdr=False)\n",
    "max_asof = 1526947200000\n",
    "assert max_asof == podes[0][1].get('props', {}).get('asof')"
   ]
  },
  {
   "cell_type": "raw",
   "metadata": {},
   "source": [
    "- Return the most recent WHOIS record for domain woot.com using full property syntax:"
   ]
  },
  {
   "cell_type": "code",
   "execution_count": 29,
   "metadata": {
    "hideCode": true
   },
   "outputs": [
    {
     "name": "stdout",
     "output_type": "stream",
     "text": [
      "inet:whois:rec:fqdn=woot.com | max inet:whois:rec:asof\n"
     ]
    }
   ],
   "source": [
    "# Define and print test query\n",
    "q = 'inet:whois:rec:fqdn=woot.com | max inet:whois:rec:asof'\n",
    "print(q)\n",
    "# Execute the query and test\n",
    "podes = await core.eval(q, num=1, cmdr=False)\n",
    "max_asof = 1526947200000\n",
    "assert max_asof == podes[0][1].get('props', {}).get('asof')"
   ]
  },
  {
   "cell_type": "raw",
   "metadata": {},
   "source": [
    ".. _storm-min:\n",
    "\n",
    "min\n",
    "---\n",
    "\n",
    "The ``min`` command returns the node from a given set that contains the lowest value for a specified secondary property.\n",
    "\n",
    "**Syntax:**\n"
   ]
  },
  {
   "cell_type": "code",
   "execution_count": 30,
   "metadata": {
    "hideCode": true
   },
   "outputs": [
    {
     "name": "stdout",
     "output_type": "stream",
     "text": [
      "cli> storm min --help\n",
      "Executing query at 2019/12/20 23:35:49.971\n",
      "usage: min [-h] name\n",
      "\n",
      "    Consume nodes and yield only the one node with the lowest value for a property.\n",
      "\n",
      "    Examples:\n",
      "\n",
      "        file:bytes +#foo.bar | min :size\n",
      "\n",
      "        file:bytes +#foo.bar | min file:bytes:size\n",
      "\n",
      "        file:bytes +#foo.bar +.seen ($tick, $tock) = .seen | min $tick\n",
      "    \n",
      "\n",
      "positional arguments:\n",
      "  name\n",
      "\n",
      "optional arguments:\n",
      "  -h, --help  show this help message and exit\n",
      "\n",
      "complete. 0 nodes in 14 ms (0/sec).\n"
     ]
    }
   ],
   "source": [
    "# Run the command and display output\n",
    "q = 'min --help'\n",
    "podes = await core.eval(q, cmdr=True)"
   ]
  },
  {
   "cell_type": "raw",
   "metadata": {},
   "source": [
    "**Examples:**\n",
    "\n",
    "- Return the DNS A record for woot.com with the oldest ``.seen`` value:"
   ]
  },
  {
   "cell_type": "code",
   "execution_count": 31,
   "metadata": {
    "hideCode": true
   },
   "outputs": [
    {
     "name": "stdout",
     "output_type": "stream",
     "text": [
      "inet:dns:a:fqdn=woot.com | min .seen\n"
     ]
    }
   ],
   "source": [
    "# Define and print test query\n",
    "q = 'inet:dns:a:fqdn=woot.com | min .seen'\n",
    "print(q)\n",
    "# Execute the query and test\n",
    "podes = await core.eval(q, num=1, cmdr=False)\n",
    "min_seen = (1379721600000, 1379808000000)\n",
    "assert min_seen  == podes[0][1].get('props', {}).get('.seen')"
   ]
  },
  {
   "cell_type": "raw",
   "metadata": {},
   "source": [
    "- Return the oldest WHOIS record for domain woot.com:"
   ]
  },
  {
   "cell_type": "code",
   "execution_count": 32,
   "metadata": {
    "hideCode": true
   },
   "outputs": [
    {
     "name": "stdout",
     "output_type": "stream",
     "text": [
      "inet:whois:rec:fqdn=woot.com | min :asof\n"
     ]
    }
   ],
   "source": [
    "# Define and print test query\n",
    "q = 'inet:whois:rec:fqdn=woot.com | min :asof'\n",
    "print(q)\n",
    "# Execute the query and test\n",
    "podes = await core.eval(q, num=1, cmdr=False)\n",
    "min_asof = 1516147200000\n",
    "assert min_asof  == podes[0][1].get('props', {}).get('asof')"
   ]
  },
  {
   "cell_type": "raw",
   "metadata": {},
   "source": [
    "- Return the oldest WHOIS record for domain woot.com using full property syntax:"
   ]
  },
  {
   "cell_type": "code",
   "execution_count": 33,
   "metadata": {
    "hideCode": true
   },
   "outputs": [
    {
     "name": "stdout",
     "output_type": "stream",
     "text": [
      "inet:whois:rec:fqdn=woot.com | min inet:whois:rec:asof\n"
     ]
    }
   ],
   "source": [
    "# Define and print test query\n",
    "q = 'inet:whois:rec:fqdn=woot.com | min inet:whois:rec:asof'\n",
    "print(q)\n",
    "# Execute the query and test\n",
    "podes = await core.eval(q, num=1, cmdr=False)\n",
    "min_asof = 1516147200000\n",
    "assert min_asof  == podes[0][1].get('props', {}).get('asof')"
   ]
  },
  {
   "cell_type": "raw",
   "metadata": {},
   "source": [
    ".. _storm-movetag:\n",
    "\n",
    "movetag\n",
    "-------\n",
    "\n",
    "The ``movetag`` command moves a Synapse tag and its associated tag tree from one location in a tag hierarchy to another location. It is equivalent to \"renaming\" a given tag and all of its subtags. Moving a tag consists of:\n",
    "\n",
    "- Creating the new ``syn:tag`` node(s).\n",
    "- Copying the definitions (``:title`` and ``:doc`` properties) from the old ``syn:tag`` node to the new ``syn:tag`` node.\n",
    "- Applying the new tag(s) to the nodes with the old tag(s).\n",
    "\n",
    "  - If the old tag(s) have associated timestamps / time intervals, they will be applied to the new tag(s).\n",
    "\n",
    "- Deleting the old tag(s) from the nodes.\n",
    "- Setting the ``:isnow`` property of the old ``syn:tag`` node(s) to reference the new ``syn:tag`` node.\n",
    "\n",
    "  - The old ``syn:tag`` nodes are **not** deleted.\n",
    "  - Once the ``:isnow`` property is set, attempts to apply the old tag will automatically result in the new tag being applied.\n",
    "\n",
    "**Syntax:**\n"
   ]
  },
  {
   "cell_type": "code",
   "execution_count": 34,
   "metadata": {
    "hideCode": true
   },
   "outputs": [
    {
     "name": "stdout",
     "output_type": "stream",
     "text": [
      "cli> storm movetag --help\n",
      "Executing query at 2019/12/20 23:35:59.206\n",
      "usage: movetag [-h] oldtag newtag\n",
      "\n",
      "    Rename an entire tag tree and preserve time intervals.\n",
      "\n",
      "    Example:\n",
      "\n",
      "        movetag #foo.bar #baz.faz.bar\n",
      "    \n",
      "\n",
      "positional arguments:\n",
      "  oldtag      The tag tree to rename.\n",
      "  newtag      The new tag tree name.\n",
      "\n",
      "optional arguments:\n",
      "  -h, --help  show this help message and exit\n",
      "\n",
      "complete. 0 nodes in 17 ms (0/sec).\n"
     ]
    }
   ],
   "source": [
    "# Run the command and display output\n",
    "q = 'movetag --help'\n",
    "podes = await core.eval(q, cmdr=True)"
   ]
  },
  {
   "cell_type": "raw",
   "metadata": {},
   "source": [
    "**Examples:**\n",
    "\n",
    "- Move the tag named #research to #internal.research:"
   ]
  },
  {
   "cell_type": "code",
   "execution_count": 35,
   "metadata": {
    "hideCode": true,
    "hideOutput": true
   },
   "outputs": [],
   "source": [
    "# Make some tagged nodes\n",
    "q = '[inet:fqdn=hurr.com inet:fqdn=derp.com inet:fqdn=umwut.com +#research]'\n",
    "# Run the query and test\n",
    "podes = await core.eval(q, num=3, cmdr=False)"
   ]
  },
  {
   "cell_type": "code",
   "execution_count": 36,
   "metadata": {
    "hideCode": true
   },
   "outputs": [
    {
     "name": "stdout",
     "output_type": "stream",
     "text": [
      "movetag #research #internal.research\n"
     ]
    }
   ],
   "source": [
    "# Define and print test query\n",
    "q = 'movetag #research #internal.research'\n",
    "print(q)\n",
    "# Execute the query and test\n",
    "podes = await core.eval(q, num=0, cmdr=False)\n",
    "podes = await core.eval('#research', num=0, cmdr=False)\n",
    "podes = await core.eval('#internal.research', num=3, cmdr=False)"
   ]
  },
  {
   "cell_type": "raw",
   "metadata": {},
   "source": [
    "- Move the tag tree #aka.fireeye.malware to #aka.feye.mal:"
   ]
  },
  {
   "cell_type": "code",
   "execution_count": 37,
   "metadata": {
    "hideCode": true,
    "hideOutput": true
   },
   "outputs": [],
   "source": [
    "# Make some tagged nodes\n",
    "q = '[inet:fqdn=newsonet.net inet:fqdn=staycools.net inet:fqdn=firefoxupdata.com +#aka.fireeye.malware]'\n",
    "# Run the query and test\n",
    "podes = await core.eval(q, num=3, cmdr=False)"
   ]
  },
  {
   "cell_type": "code",
   "execution_count": 45,
   "metadata": {
    "hideCode": true
   },
   "outputs": [
    {
     "name": "stdout",
     "output_type": "stream",
     "text": [
      "movetag aka.fireeye.malware aka.feye.mal\n"
     ]
    }
   ],
   "source": [
    "# Define and print test query\n",
    "q = 'movetag aka.fireeye.malware aka.feye.mal'\n",
    "print(q)\n",
    "# Execute the query and test\n",
    "podes = await core.eval(q, num=0, cmdr=False)\n",
    "podes = await core.eval('#aka', num=3, cmdr=False)\n",
    "podes = await core.eval('#aka.fireeye', num=3, cmdr=False)\n",
    "podes = await core.eval('#aka.fireeye.malware', num=0, cmdr=False)\n",
    "podes = await core.eval('#aka.feye', num=3, cmdr=False)\n",
    "podes = await core.eval('#aka.feye.mal', num=3, cmdr=False)"
   ]
  },
  {
   "cell_type": "raw",
   "metadata": {},
   "source": [
    "**Usage Notes:**\n",
    "\n",
    ".. WARNING::\n",
    "  ``movetag`` should be used with caution as when used incorrectly it can result in \"deleted\" (inadvertently moved / removed) or orphaned (inadvertently retained) tags. For example, in the second example query above, all ``aka.fireeye.malware`` tags are renamed ``aka.feye.mal``, but the tag ``aka.fireeye`` still exists and is still applied to all of the original nodes. In other words, the result of the above command will be that nodes previously tagged ``aka.fireeye.malware`` will now be tagged both ``aka.feye.mal`` **and** ``aka.fireeye``. Users may wish to test the command on sample data first to understand its effects before applying it in a live Cortex."
   ]
  },
  {
   "cell_type": "raw",
   "metadata": {},
   "source": [
    ".. _storm-pkg-list\n",
    "\n",
    "pkg.list\n",
    "--------\n",
    "\n",
    "The ``pkg.list`` command lists each Storm package <link> loaded in the Cortex.\n",
    "\n",
    "**Syntax:**"
   ]
  },
  {
   "cell_type": "code",
   "execution_count": 39,
   "metadata": {
    "hideCode": true,
    "scrolled": true
   },
   "outputs": [
    {
     "name": "stdout",
     "output_type": "stream",
     "text": [
      "cli> storm pkg.list --help\n",
      "Executing query at 2019/12/20 23:36:10.619\n",
      "usage: pkg.list [-h]\n",
      "\n",
      "List the storm packages loaded in the cortex.\n",
      "\n",
      "optional arguments:\n",
      "  -h, --help  show this help message and exit\n",
      "\n",
      "complete. 0 nodes in 16 ms (0/sec).\n"
     ]
    }
   ],
   "source": [
    "# Run the command and display output\n",
    "q = 'pkg.list --help'\n",
    "podes = await core.eval(q, cmdr=True)"
   ]
  },
  {
   "cell_type": "raw",
   "metadata": {},
   "source": [
    ".. _storm-pkg-del\n",
    "\n",
    "pkg.del\n",
    "-------\n",
    "\n",
    "The ``pkg.del`` command removes a Storm package <link> from the Cortex.\n",
    "\n",
    "**Syntax:**"
   ]
  },
  {
   "cell_type": "code",
   "execution_count": 40,
   "metadata": {
    "hideCode": true
   },
   "outputs": [
    {
     "name": "stdout",
     "output_type": "stream",
     "text": [
      "cli> storm pkg.del --help\n",
      "Executing query at 2019/12/20 23:36:14.203\n",
      "usage: pkg.del [-h] name\n",
      "\n",
      "Remove a storm package from the cortex.\n",
      "\n",
      "positional arguments:\n",
      "  name        The name (or name prefix) of the package to remove.\n",
      "\n",
      "optional arguments:\n",
      "  -h, --help  show this help message and exit\n",
      "\n",
      "complete. 0 nodes in 15 ms (0/sec).\n"
     ]
    }
   ],
   "source": [
    "# Run the command and display output\n",
    "q = 'pkg.del --help'\n",
    "podes = await core.eval(q, cmdr=True)"
   ]
  },
  {
   "cell_type": "raw",
   "metadata": {},
   "source": [
    ".. _storm-queue-add\n",
    "\n",
    "queue.add\n",
    "---------\n",
    "\n",
    "The ``queue.add`` command adds a queue <link> to the Cortex.\n",
    "\n",
    "**Syntax:**"
   ]
  },
  {
   "cell_type": "code",
   "execution_count": 41,
   "metadata": {
    "hideCode": true,
    "scrolled": true
   },
   "outputs": [
    {
     "name": "stdout",
     "output_type": "stream",
     "text": [
      "cli> storm queue.add --help\n",
      "Executing query at 2019/12/20 23:36:17.153\n",
      "usage: queue.add [-h] name\n",
      "\n",
      "Add a queue to the cortex.\n",
      "\n",
      "positional arguments:\n",
      "  name        The name of the new queue.\n",
      "\n",
      "optional arguments:\n",
      "  -h, --help  show this help message and exit\n",
      "\n",
      "complete. 0 nodes in 15 ms (0/sec).\n"
     ]
    }
   ],
   "source": [
    "# Run the command and display output\n",
    "q = 'queue.add --help'\n",
    "podes = await core.eval(q, cmdr=True)"
   ]
  },
  {
   "cell_type": "raw",
   "metadata": {},
   "source": [
    "**Example:**\n",
    "\n",
    "- Add the queue ``myqueue`` to the Cortex."
   ]
  },
  {
   "cell_type": "code",
   "execution_count": 42,
   "metadata": {
    "hideCode": true
   },
   "outputs": [
    {
     "name": "stdout",
     "output_type": "stream",
     "text": [
      "cli> storm queue.add myqueue\n",
      "Executing query at 2019/12/20 23:36:20.024\n",
      "queue added: myqueue\n",
      "complete. 0 nodes in 17 ms (0/sec).\n"
     ]
    }
   ],
   "source": [
    "# Run the command and display output\n",
    "q = 'queue.add myqueue'\n",
    "podes = await core.eval(q, cmdr=True)"
   ]
  },
  {
   "cell_type": "raw",
   "metadata": {},
   "source": [
    ".. _storm-queue-list\n",
    "\n",
    "queue.list\n",
    "----------\n",
    "\n",
    "The ``queue.list`` command lists each queue <link> in the Cortex.\n",
    "\n",
    "**Syntax:**"
   ]
  },
  {
   "cell_type": "code",
   "execution_count": 43,
   "metadata": {
    "hideCode": true
   },
   "outputs": [
    {
     "name": "stdout",
     "output_type": "stream",
     "text": [
      "cli> storm queue.list --help\n",
      "Executing query at 2019/12/20 23:36:33.213\n",
      "usage: queue.list [-h]\n",
      "\n",
      "List the queues in the cortex.\n",
      "\n",
      "optional arguments:\n",
      "  -h, --help  show this help message and exit\n",
      "\n",
      "complete. 0 nodes in 16 ms (0/sec).\n"
     ]
    }
   ],
   "source": [
    "# Run the command and display output\n",
    "q = 'queue.list --help'\n",
    "podes = await core.eval(q, cmdr=True)"
   ]
  },
  {
   "cell_type": "raw",
   "metadata": {},
   "source": [
    "**Example:**\n",
    "\n",
    "- List the queues in the Cortex."
   ]
  },
  {
   "cell_type": "code",
   "execution_count": 44,
   "metadata": {},
   "outputs": [
    {
     "name": "stdout",
     "output_type": "stream",
     "text": [
      "cli> storm queue.list\n",
      "Executing query at 2019/12/20 23:37:14.105\n",
      "Storm queue list:\n",
      "    myqueue                         :  size: 0 offs: 0\n",
      "complete. 0 nodes in 19 ms (0/sec).\n"
     ]
    }
   ],
   "source": [
    "# Run the command and display output\n",
    "q = 'queue.list'\n",
    "podes = await core.eval(q, cmdr=True)"
   ]
  },
  {
   "cell_type": "raw",
   "metadata": {},
   "source": [
    ".. _storm-queue-del\n",
    "\n",
    "queue.del\n",
    "---------\n",
    "\n",
    "The ``queue.del`` command removes a queue <link> from the Cortex.\n",
    "\n",
    "**Syntax:**"
   ]
  },
  {
   "cell_type": "code",
   "execution_count": 18,
   "metadata": {
    "hideCode": true
   },
   "outputs": [
    {
     "name": "stdout",
     "output_type": "stream",
     "text": [
      "cli> storm queue.del --help\n",
      "Executing query at 2019/12/20 20:52:26.568\n",
      "usage: queue.del [-h] name\n",
      "\n",
      "Remove a queue from the cortex.\n",
      "\n",
      "positional arguments:\n",
      "  name        The name of the queue to remove.\n",
      "\n",
      "optional arguments:\n",
      "  -h, --help  show this help message and exit\n",
      "\n",
      "complete. 0 nodes in 15 ms (0/sec).\n"
     ]
    }
   ],
   "source": [
    "# Run the command and display output\n",
    "q = 'queue.del --help'\n",
    "podes = await core.eval(q, cmdr=True)"
   ]
  },
  {
   "cell_type": "raw",
   "metadata": {},
   "source": [
    ".. _storm-reindex:\n",
    "\n",
    "reindex\n",
    "-------\n",
    "\n",
    "The ``reindex`` command reindexes a given node property. This is an administrative command that is typically used when data model updates have been pushed to a Cortex and existing node properties must be migrated to the new model.\n",
    "\n",
    "**Syntax:**"
   ]
  },
  {
   "cell_type": "code",
   "execution_count": 35,
   "metadata": {
    "hideCode": true
   },
   "outputs": [
    {
     "name": "stdout",
     "output_type": "stream",
     "text": [
      "cli> storm reindex --help\n",
      "\n",
      "usage: reindex [-h]\n",
      "               (--type TYPE | --subs | --form-counts | --fire-handler FIRE_HANDLER)\n",
      "\n",
      "    Use admin privileges to re index/normalize node properties.\n",
      "\n",
      "    Example:\n",
      "\n",
      "        foo:bar | reindex --subs\n",
      "\n",
      "        reindex --type inet:ipv4\n",
      "\n",
      "    NOTE: This is mostly for model updates and migrations.\n",
      "          Use with caution and be very sure of what you are doing.\n",
      "    \n",
      "\n",
      "optional arguments:\n",
      "  -h, --help            show this help message and exit\n",
      "  --type TYPE           Re-index all properties of a specified type.\n",
      "  --subs                Re-parse and set sub props.\n",
      "  --form-counts         Re-calculate all form counts.\n",
      "  --fire-handler FIRE_HANDLER\n",
      "                        Fire onAdd/wasSet/runTagAdd commands for a fully\n",
      "                        qualified form/property or tag name on inbound nodes.\n",
      "\n",
      "complete. 0 nodes in 7 ms (0/sec).\n"
     ]
    }
   ],
   "source": [
    "# Run the command and display output\n",
    "q = 'reindex --help'\n",
    "podes = await core.eval(q, cmdr=True)"
   ]
  },
  {
   "cell_type": "raw",
   "metadata": {},
   "source": [
    "**Examples:**\n",
    "\n",
    "TBD"
   ]
  },
  {
   "cell_type": "raw",
   "metadata": {},
   "source": [
    ".. _storm-scrape\n",
    "\n",
    "scrape\n",
    "------\n",
    "\n",
    "The ``scrape`` command..."
   ]
  },
  {
   "cell_type": "code",
   "execution_count": 30,
   "metadata": {
    "hideCode": true
   },
   "outputs": [
    {
     "name": "stdout",
     "output_type": "stream",
     "text": [
      "cli> storm scrape --help\n",
      "Executing query at 2019/12/20 23:21:27.780\n",
      "usage: scrape [-h] [--props PROPS [PROPS ...]] [--refs] [-j]\n",
      "\n",
      "    Use textual properties of existing nodes to find other easily recognizable nodes.\n",
      "\n",
      "    Examples:\n",
      "\n",
      "        inet:search:query | scrape\n",
      "\n",
      "        # Scrape inbound node properties and make edge:refs nodes to the new nodes.\n",
      "        inet:search:query | scrape --refs\n",
      "\n",
      "        # Scrape the :text prop from the inbound nodes.\n",
      "        inet:search:query | scrape --props text\n",
      "    \n",
      "\n",
      "optional arguments:\n",
      "  -h, --help            show this help message and exit\n",
      "  --props PROPS [PROPS ...], -p PROPS [PROPS ...]\n",
      "                        Specify relative properties to scrape\n",
      "  --refs, -r            Create edge:refs to any scraped nodes from the source\n",
      "                        node\n",
      "  -j, --join            Include source nodes in the output of the command.\n",
      "\n",
      "complete. 0 nodes in 8 ms (0/sec).\n"
     ]
    }
   ],
   "source": [
    "# Run the command and display output\n",
    "q = 'scrape --help'\n",
    "podes = await core.eval(q, cmdr=True)"
   ]
  },
  {
   "cell_type": "raw",
   "metadata": {},
   "source": [
    ".. _storm-service-add\n",
    "\n",
    "service.add\n",
    "-----------\n",
    "\n",
    "The ``service.add`` command adds a Storm service <link> to the Cortex.\n",
    "\n",
    "**Syntax:**"
   ]
  },
  {
   "cell_type": "code",
   "execution_count": 20,
   "metadata": {
    "hideCode": true
   },
   "outputs": [
    {
     "name": "stdout",
     "output_type": "stream",
     "text": [
      "cli> storm service.add --help\n",
      "Executing query at 2019/12/20 22:33:10.689\n",
      "usage: service.add [-h] name url\n",
      "\n",
      "Add a storm service to the cortex.\n",
      "\n",
      "positional arguments:\n",
      "  name        The name of the service.\n",
      "  url         The telepath URL for the remote service.\n",
      "\n",
      "optional arguments:\n",
      "  -h, --help  show this help message and exit\n",
      "\n",
      "complete. 0 nodes in 9 ms (0/sec).\n"
     ]
    }
   ],
   "source": [
    "# Run the command and display output\n",
    "q = 'service.add --help'\n",
    "podes = await core.eval(q, cmdr=True)"
   ]
  },
  {
   "cell_type": "raw",
   "metadata": {},
   "source": [
    ".. _storm-service-list\n",
    "\n",
    "service.list\n",
    "------------\n",
    "\n",
    "The ``service.list`` command lists each Storm service <link> in the Cortex.\n",
    "\n",
    "**Syntax:**"
   ]
  },
  {
   "cell_type": "code",
   "execution_count": 22,
   "metadata": {
    "hideCode": true
   },
   "outputs": [
    {
     "name": "stdout",
     "output_type": "stream",
     "text": [
      "cli> storm service.list --help\n",
      "Executing query at 2019/12/20 22:47:20.687\n",
      "usage: service.list [-h]\n",
      "\n",
      "List the storm services configured in the cortex.\n",
      "\n",
      "optional arguments:\n",
      "  -h, --help  show this help message and exit\n",
      "\n",
      "complete. 0 nodes in 9 ms (0/sec).\n"
     ]
    }
   ],
   "source": [
    "# Run the command and display output\n",
    "q = 'service.list --help'\n",
    "podes = await core.eval(q, cmdr=True)"
   ]
  },
  {
   "cell_type": "raw",
   "metadata": {},
   "source": [
    ".. _storm-service-del\n",
    "\n",
    "service.del\n",
    "-----------\n",
    "\n",
    "The ``service.del`` command removes a Storm service <link> from the Cortex.\n",
    "\n",
    "**Syntax:**"
   ]
  },
  {
   "cell_type": "code",
   "execution_count": 21,
   "metadata": {
    "hideCode": true
   },
   "outputs": [
    {
     "name": "stdout",
     "output_type": "stream",
     "text": [
      "cli> storm service.del --help\n",
      "Executing query at 2019/12/20 22:39:31.311\n",
      "usage: service.del [-h] iden\n",
      "\n",
      "Remove a storm service from the cortex.\n",
      "\n",
      "positional arguments:\n",
      "  iden        The service identifier or prefix.\n",
      "\n",
      "optional arguments:\n",
      "  -h, --help  show this help message and exit\n",
      "\n",
      "complete. 0 nodes in 17 ms (0/sec).\n"
     ]
    }
   ],
   "source": [
    "# Run the command and display output\n",
    "q = 'service.del --help'\n",
    "podes = await core.eval(q, cmdr=True)"
   ]
  },
  {
   "cell_type": "raw",
   "metadata": {},
   "source": [
    ".. _storm-sleep:\n",
    "\n",
    "sleep\n",
    "-----\n",
    "\n",
    "The ``sleep`` command adds a delay in returning each result for a given Storm query. By default, query results are streamed back and displayed as soon as they arrive for optimal performance. A ``sleep`` delay effectively slows the display of results.\n",
    "\n",
    "**Syntax:**"
   ]
  },
  {
   "cell_type": "code",
   "execution_count": 36,
   "metadata": {
    "hideCode": true
   },
   "outputs": [
    {
     "name": "stdout",
     "output_type": "stream",
     "text": [
      "cli> storm sleep --help\n",
      "\n",
      "usage: sleep [-h] delay\n",
      "\n",
      "    Introduce a delay between returning each result for the storm query.\n",
      "\n",
      "    NOTE: This is mostly used for testing / debugging.\n",
      "\n",
      "    Example:\n",
      "\n",
      "        #foo.bar | sleep 0.5\n",
      "\n",
      "    \n",
      "\n",
      "positional arguments:\n",
      "  delay       Delay in floating point seconds.\n",
      "\n",
      "optional arguments:\n",
      "  -h, --help  show this help message and exit\n",
      "\n",
      "complete. 0 nodes in 3 ms (0/sec).\n"
     ]
    }
   ],
   "source": [
    "# Run the command and display output\n",
    "q = 'sleep --help'\n",
    "podes = await core.eval(q, cmdr=True)"
   ]
  },
  {
   "cell_type": "raw",
   "metadata": {},
   "source": [
    "**Example:**\n",
    "\n",
    "- Retrieve domain nodes from a Cortex every second:"
   ]
  },
  {
   "cell_type": "code",
   "execution_count": 37,
   "metadata": {
    "hideCode": true,
    "hideOutput": true
   },
   "outputs": [],
   "source": [
    "# Make some nodes\n",
    "q = '[inet:email=me@gmail.com inet:email=you@yahoo.com inet:email=him@live.com inet:email=her@gmx.com]'\n",
    "# Run the query and test\n",
    "podes = await core.eval(q, num=4, cmdr=False)"
   ]
  },
  {
   "cell_type": "code",
   "execution_count": 38,
   "metadata": {
    "hideCode": true
   },
   "outputs": [
    {
     "name": "stdout",
     "output_type": "stream",
     "text": [
      "inet:email | sleep 1.0\n"
     ]
    }
   ],
   "source": [
    "# Define and print test query\n",
    "q = 'inet:email | sleep 1.0'\n",
    "print(q)\n",
    "# Execute the query and test\n",
    "podes = await core.eval(q, num=4, cmdr=False)"
   ]
  },
  {
   "cell_type": "raw",
   "metadata": {},
   "source": [
    ".. _storm-spin:\n",
    "\n",
    "spin\n",
    "----\n",
    "\n",
    "The ``spin`` command is used to suppress the output of a Storm query. ``Spin`` simply consumes all nodes sent to the command, so no nodes are output to the CLI. This allows you to execute a Storm query and view messages and results without displaying the associated nodes.\n",
    "\n",
    "**Syntax:**\n"
   ]
  },
  {
   "cell_type": "code",
   "execution_count": 39,
   "metadata": {
    "hideCode": true
   },
   "outputs": [
    {
     "name": "stdout",
     "output_type": "stream",
     "text": [
      "cli> storm spin --help\n",
      "\n",
      "usage: spin [-h]\n",
      "\n",
      "    Iterate through all query results, but do not yield any.\n",
      "    This can be used to operate on many nodes without returning any.\n",
      "\n",
      "    Example:\n",
      "\n",
      "        foo:bar:size=20 [ +#hehe ] | spin\n",
      "\n",
      "    \n",
      "\n",
      "optional arguments:\n",
      "  -h, --help  show this help message and exit\n",
      "\n",
      "complete. 0 nodes in 4 ms (0/sec).\n"
     ]
    }
   ],
   "source": [
    "# Run the command and display output\n",
    "q = 'spin --help'\n",
    "podes = await core.eval(q, cmdr=True)"
   ]
  },
  {
   "cell_type": "raw",
   "metadata": {},
   "source": [
    "**Examples:**\n",
    "\n",
    "- Count the number of email addresses without displaying the inet:email nodes:"
   ]
  },
  {
   "cell_type": "code",
   "execution_count": 40,
   "metadata": {
    "hideCode": true
   },
   "outputs": [
    {
     "name": "stdout",
     "output_type": "stream",
     "text": [
      "inet:email | count | spin\n"
     ]
    }
   ],
   "source": [
    "# Define and print test query\n",
    "q = 'inet:email | count | spin'\n",
    "print(q)\n",
    "# Execute the query and test\n",
    "# This may not be a good test because it only checks that 'spin' returns zero nodes\n",
    "podes = await core.eval(q, num=0, cmdr=False)\n",
    "podes = await core.eval('inet:email | count', num=4, cmdr=False)"
   ]
  },
  {
   "cell_type": "raw",
   "metadata": {},
   "source": [
    "- Add the tag #int.research to any domain containing the string \"firefox\" but do not display the nodes."
   ]
  },
  {
   "cell_type": "code",
   "execution_count": 41,
   "metadata": {
    "hideCode": true,
    "hideOutput": true
   },
   "outputs": [],
   "source": [
    "# Make some domains\n",
    "q = '[inet:fqdn=myfirefox.com inet:fqdn=fakefirefox.net inet:fqdn=usefirefoxbrowser.org]'\n",
    "# Run the query and test\n",
    "podes = await core.eval(q, num=3, cmdr=False)"
   ]
  },
  {
   "cell_type": "code",
   "execution_count": 42,
   "metadata": {
    "hideCode": true
   },
   "outputs": [
    {
     "name": "stdout",
     "output_type": "stream",
     "text": [
      "inet:fqdn~=firefox [+#int.research] | spin\n"
     ]
    }
   ],
   "source": [
    "# Define and print test query\n",
    "q = 'inet:fqdn~=firefox [+#int.research] | spin'\n",
    "print(q)\n",
    "# Execute the query and test\n",
    "podes = await core.eval(q, num=0, cmdr=False)\n",
    "podes = await core.eval('inet:fqdn~=firefox', num=4, cmdr=False)"
   ]
  },
  {
   "cell_type": "raw",
   "metadata": {},
   "source": [
    ".. _storm-sudo:\n",
    "\n",
    "sudo\n",
    "----\n",
    "\n",
    "The ``sudo`` command executes a Storm query with administrator privileges.\n",
    "\n",
    "**Syntax:**\n"
   ]
  },
  {
   "cell_type": "code",
   "execution_count": 43,
   "metadata": {
    "hideCode": true
   },
   "outputs": [
    {
     "name": "stdout",
     "output_type": "stream",
     "text": [
      "cli> storm sudo --help\n",
      "\n",
      "usage: sudo [-h]\n",
      "\n",
      "    Use admin privileges to bypass standard query permissions.\n",
      "\n",
      "    Example:\n",
      "\n",
      "        sudo | [ inet:fqdn=vertex.link ]\n",
      "    \n",
      "\n",
      "optional arguments:\n",
      "  -h, --help  show this help message and exit\n",
      "\n",
      "complete. 0 nodes in 4 ms (0/sec).\n"
     ]
    }
   ],
   "source": [
    "# Run the command and display output\n",
    "q = 'sudo --help'\n",
    "podes = await core.eval(q, cmdr=True)"
   ]
  },
  {
   "cell_type": "raw",
   "metadata": {},
   "source": [
    "**Example:**\n",
    "\n",
    "- Delete a node using elevated privileges:"
   ]
  },
  {
   "cell_type": "code",
   "execution_count": 44,
   "metadata": {
    "hideCode": true,
    "hideOutput": true
   },
   "outputs": [],
   "source": [
    "# Make a node\n",
    "q = '[inet:fqdn=mydomain.com]'\n",
    "# Run the query and test\n",
    "podes = await core.eval(q, num=1, cmdr=False)"
   ]
  },
  {
   "cell_type": "code",
   "execution_count": 45,
   "metadata": {
    "hideCode": true
   },
   "outputs": [
    {
     "name": "stdout",
     "output_type": "stream",
     "text": [
      "sudo | inet:fqdn=mydomain.com | delnode\n"
     ]
    }
   ],
   "source": [
    "# Define and print test query\n",
    "q = 'sudo | inet:fqdn=mydomain.com | delnode'\n",
    "print(q)\n",
    "# Execute the query and test\n",
    "podes = await core.eval('inet:fqdn=mydomain.com', num=1, cmdr=False)\n",
    "podes = await core.eval(q, num=0, cmdr=False)\n",
    "podes = await core.eval('inet:fqdn=mydomain.com', num=0, cmdr=False)"
   ]
  },
  {
   "cell_type": "raw",
   "metadata": {},
   "source": [
    ".. _storm-tee:\n",
    "\n",
    "tee\n",
    "---\n",
    "\n",
    "The ``tee`` command executes multiple Storm queries on the inbound nodes and returns the combined result set.\n",
    "\n",
    "**Syntax:**"
   ]
  },
  {
   "cell_type": "code",
   "execution_count": 23,
   "metadata": {
    "hideCode": true
   },
   "outputs": [
    {
     "name": "stdout",
     "output_type": "stream",
     "text": [
      "cli> storm tee --help\n",
      "Executing query at 2019/12/20 22:48:34.844\n",
      "usage: tee [-h] [--join] [query [query ...]]\n",
      "\n",
      "    Execute multiple Storm queries on each node in the input stream, joining output streams together.\n",
      "\n",
      "    Commands are executed in order they are given.\n",
      "\n",
      "    Examples:\n",
      "\n",
      "        # Perform a pivot out and pivot in on a inet:ivp4 node\n",
      "        inet:ipv4=1.2.3.4 | tee { -> * } { <- * }\n",
      "\n",
      "        # Also emit the inbound node\n",
      "        inet:ipv4=1.2.3.4 | tee --join { -> * } { <- * }\n",
      "\n",
      "    \n",
      "\n",
      "positional arguments:\n",
      "  query       Specify a query to execute on the input nodes.\n",
      "\n",
      "optional arguments:\n",
      "  -h, --help  show this help message and exit\n",
      "  --join, -j  Emit inbound nodes after processing storm queries.\n",
      "\n",
      "complete. 0 nodes in 23 ms (0/sec).\n"
     ]
    }
   ],
   "source": [
    "# Run the command and display output\n",
    "q = 'tee --help'\n",
    "podes = await core.eval(q, cmdr=True)"
   ]
  },
  {
   "cell_type": "raw",
   "metadata": {},
   "source": [
    "**Examples:**\n",
    "\n",
    "- Return the set of domains and IP addresses with a set of DNS A records."
   ]
  },
  {
   "cell_type": "code",
   "execution_count": 27,
   "metadata": {
    "hideCode": true
   },
   "outputs": [],
   "source": [
    "# Make some DNS A records\n",
    "q = '[inet:dns:a=(foo.mydomain.com,8.8.8.8) inet:dns:a=(bar.mydomain.com,34.56.78.90) inet:dns:a=(baz.mydomain.com,127.0.0.2)]'\n",
    "# Run the query and test\n",
    "podes = await core.eval(q, num=3, cmdr=False)"
   ]
  },
  {
   "cell_type": "code",
   "execution_count": 28,
   "metadata": {
    "hideCode": true
   },
   "outputs": [
    {
     "name": "stdout",
     "output_type": "stream",
     "text": [
      "inet:fqdn:zone=mydomain.com -> inet:dns:a | tee { -> inet:fqdn } { -> inet:ipv4 }\n",
      "cli> storm inet:fqdn:zone=mydomain.com -> inet:dns:a | tee { -> inet:fqdn } { -> inet:ipv4 }\n",
      "Executing query at 2019/12/20 23:03:11.112\n",
      "inet:fqdn=baz.mydomain.com\n",
      "        .created = 2019/12/20 23:02:03.458\n",
      "        :domain = mydomain.com\n",
      "        :host = baz\n",
      "        :issuffix = False\n",
      "        :iszone = False\n",
      "        :zone = mydomain.com\n",
      "inet:ipv4=127.0.0.2\n",
      "        .created = 2019/12/20 23:02:03.458\n",
      "        :asn = 0\n",
      "        :loc = ??\n",
      "        :type = loopback\n",
      "inet:fqdn=foo.mydomain.com\n",
      "        .created = 2019/12/20 23:02:03.453\n",
      "        :domain = mydomain.com\n",
      "        :host = foo\n",
      "        :issuffix = False\n",
      "        :iszone = False\n",
      "        :zone = mydomain.com\n",
      "inet:ipv4=8.8.8.8\n",
      "        .created = 2019/12/20 23:02:03.453\n",
      "        :asn = 0\n",
      "        :loc = ??\n",
      "        :type = unicast\n",
      "inet:fqdn=bar.mydomain.com\n",
      "        .created = 2019/12/20 23:02:03.456\n",
      "        :domain = mydomain.com\n",
      "        :host = bar\n",
      "        :issuffix = False\n",
      "        :iszone = False\n",
      "        :zone = mydomain.com\n",
      "inet:ipv4=34.56.78.90\n",
      "        .created = 2019/12/20 23:02:03.456\n",
      "        :asn = 0\n",
      "        :loc = ??\n",
      "        :type = unicast\n",
      "complete. 6 nodes in 72 ms (83/sec).\n"
     ]
    }
   ],
   "source": [
    "# Define and print test query\n",
    "q = 'inet:fqdn:zone=mydomain.com -> inet:dns:a | tee { -> inet:fqdn } { -> inet:ipv4 }'\n",
    "print(q)\n",
    "# Execute the query and test\n",
    "podes = await core.eval(q, num=6, cmdr=True)"
   ]
  },
  {
   "cell_type": "raw",
   "metadata": {},
   "source": [
    "- Return the set of domains and IP addresses associated with a set of DNS A records along with the original DNS A records."
   ]
  },
  {
   "cell_type": "code",
   "execution_count": 29,
   "metadata": {
    "hideCode": true
   },
   "outputs": [
    {
     "name": "stdout",
     "output_type": "stream",
     "text": [
      "inet:fqdn:zone=mydomain.com -> inet:dns:a | tee --join { -> inet:fqdn } { -> inet:ipv4 }\n",
      "cli> storm inet:fqdn:zone=mydomain.com -> inet:dns:a | tee --join { -> inet:fqdn } { -> inet:ipv4 }\n",
      "Executing query at 2019/12/20 23:09:35.890\n",
      "inet:fqdn=baz.mydomain.com\n",
      "        .created = 2019/12/20 23:02:03.458\n",
      "        :domain = mydomain.com\n",
      "        :host = baz\n",
      "        :issuffix = False\n",
      "        :iszone = False\n",
      "        :zone = mydomain.com\n",
      "inet:ipv4=127.0.0.2\n",
      "        .created = 2019/12/20 23:02:03.458\n",
      "        :asn = 0\n",
      "        :loc = ??\n",
      "        :type = loopback\n",
      "inet:dns:a=('baz.mydomain.com', '127.0.0.2')\n",
      "        .created = 2019/12/20 23:02:03.458\n",
      "        :fqdn = baz.mydomain.com\n",
      "        :ipv4 = 127.0.0.2\n",
      "inet:fqdn=foo.mydomain.com\n",
      "        .created = 2019/12/20 23:02:03.453\n",
      "        :domain = mydomain.com\n",
      "        :host = foo\n",
      "        :issuffix = False\n",
      "        :iszone = False\n",
      "        :zone = mydomain.com\n",
      "inet:ipv4=8.8.8.8\n",
      "        .created = 2019/12/20 23:02:03.453\n",
      "        :asn = 0\n",
      "        :loc = ??\n",
      "        :type = unicast\n",
      "inet:dns:a=('foo.mydomain.com', '8.8.8.8')\n",
      "        .created = 2019/12/20 23:02:03.453\n",
      "        :fqdn = foo.mydomain.com\n",
      "        :ipv4 = 8.8.8.8\n",
      "inet:fqdn=bar.mydomain.com\n",
      "        .created = 2019/12/20 23:02:03.456\n",
      "        :domain = mydomain.com\n",
      "        :host = bar\n",
      "        :issuffix = False\n",
      "        :iszone = False\n",
      "        :zone = mydomain.com\n",
      "inet:ipv4=34.56.78.90\n",
      "        .created = 2019/12/20 23:02:03.456\n",
      "        :asn = 0\n",
      "        :loc = ??\n",
      "        :type = unicast\n",
      "inet:dns:a=('bar.mydomain.com', '34.56.78.90')\n",
      "        .created = 2019/12/20 23:02:03.456\n",
      "        :fqdn = bar.mydomain.com\n",
      "        :ipv4 = 34.56.78.90\n",
      "complete. 9 nodes in 53 ms (169/sec).\n"
     ]
    }
   ],
   "source": [
    "# Define and print test query\n",
    "q = 'inet:fqdn:zone=mydomain.com -> inet:dns:a | tee --join { -> inet:fqdn } { -> inet:ipv4 }'\n",
    "print(q)\n",
    "# Execute the query and test\n",
    "podes = await core.eval(q, num=9, cmdr=True)"
   ]
  },
  {
   "cell_type": "raw",
   "metadata": {},
   "source": [
    "**Usage Notes:**\n",
    "\n",
    "- ``tee`` can take an arbitrary number of Storm queries (i.e., 1 to n queries) as arguments."
   ]
  },
  {
   "cell_type": "raw",
   "metadata": {},
   "source": [
    ".. _storm-uniq:\n",
    "\n",
    "uniq\n",
    "----\n",
    "\n",
    "The ``uniq`` command removes duplicate results from a Storm query. Results are uniqued based on each node's node identifier (node ID / iden) so that only the first node with a given node ID is returned.\n",
    "\n",
    "**Syntax:**"
   ]
  },
  {
   "cell_type": "code",
   "execution_count": 46,
   "metadata": {
    "hideCode": true
   },
   "outputs": [
    {
     "name": "stdout",
     "output_type": "stream",
     "text": [
      "cli> storm uniq --help\n",
      "\n",
      "usage: uniq [-h]\n",
      "\n",
      "    Filter nodes by their uniq iden values.\n",
      "    When this is used a Storm pipeline, only the first instance of a\n",
      "    given node is allowed through the pipeline.\n",
      "\n",
      "    Examples:\n",
      "\n",
      "        #badstuff +inet:ipv4 ->* | uniq\n",
      "\n",
      "    \n",
      "\n",
      "optional arguments:\n",
      "  -h, --help  show this help message and exit\n",
      "\n",
      "complete. 0 nodes in 3 ms (0/sec).\n"
     ]
    }
   ],
   "source": [
    "# Run the command and display output\n",
    "q = 'uniq --help'\n",
    "podes = await core.eval(q, cmdr=True)"
   ]
  },
  {
   "cell_type": "raw",
   "metadata": {},
   "source": [
    "**Examples:**\n",
    "\n",
    "- Lift all of the unique IP addresses that domains associated with the Fancy Bear threat group have resolved to:"
   ]
  },
  {
   "cell_type": "code",
   "execution_count": 47,
   "metadata": {
    "hideCode": true,
    "hideOutput": true
   },
   "outputs": [],
   "source": [
    "# Make some tagged nodes and A records\n",
    "q = '[inet:fqdn=autoupdater.org inet:fqdn=actblues.com inet:fqdn=euronews24.info +#aka.threatconnect.thr.fancybear]'\n",
    "q1 = '[inet:dns:a=(autoupdater.org,1.2.3.4) inet:dns:a=(autoupdater.org,5.6.7.8) inet:dns:a=(actblues.com,5.6.7.8) inet:dns:a=(euronews24.info,1.2.3.4) inet:dns:a=(euronews24.info,8.8.8.8) inet:dns:a=(euronews24.info,255.255.255.254)]'\n",
    "# Run the query and test\n",
    "podes = await core.eval(q, num=3, cmdr=False)\n",
    "podes = await core.eval(q1, num=6, cmdr=False)"
   ]
  },
  {
   "cell_type": "code",
   "execution_count": 48,
   "metadata": {
    "hideCode": true
   },
   "outputs": [
    {
     "name": "stdout",
     "output_type": "stream",
     "text": [
      "inet:fqdn#aka.threatconnect.thr.fancybear -> inet:dns:a -> inet:ipv4 | uniq\n"
     ]
    }
   ],
   "source": [
    "# Define and print test query\n",
    "q = 'inet:fqdn#aka.threatconnect.thr.fancybear -> inet:dns:a -> inet:ipv4 | uniq'\n",
    "print(q)\n",
    "# Execute the query and test\n",
    "podes = await core.eval(q, num=4, cmdr=False)\n",
    "q = 'inet:fqdn#aka.threatconnect.thr.fancybear -> inet:dns:a -> inet:ipv4'\n",
    "podes = await core.eval(q, num=6, cmdr=False)"
   ]
  },
  {
   "cell_type": "code",
   "execution_count": 49,
   "metadata": {
    "hideCode": true,
    "hideOutput": true
   },
   "outputs": [],
   "source": [
    "# Close cortex because done\n",
    "_ = await core.fini()"
   ]
  }
 ],
 "metadata": {
  "celltoolbar": "Hide code",
  "kernelspec": {
   "display_name": "Python 3",
   "language": "python",
   "name": "python3"
  },
  "language_info": {
   "codemirror_mode": {
    "name": "ipython",
    "version": 3
   },
   "file_extension": ".py",
   "mimetype": "text/x-python",
   "name": "python",
   "nbconvert_exporter": "python",
   "pygments_lexer": "ipython3",
   "version": "3.7.1"
  }
 },
 "nbformat": 4,
 "nbformat_minor": 2
}
