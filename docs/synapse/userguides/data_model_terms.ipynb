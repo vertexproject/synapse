{
 "cells": [
  {
   "cell_type": "code",
   "execution_count": null,
   "metadata": {
    "hideCode": true,
    "hideOutput": true
   },
   "outputs": [],
   "source": [
    "import os, sys\n",
    "try:\n",
    "    from synapse.lib.jupyter import *\n",
    "except ImportError as e:\n",
    "    # Insert the root path of the repository to sys.path.\n",
    "    # This assumes the notebook is located three directories away\n",
    "    # From the root synapse directory. It may need to be varied\n",
    "    synroot = os.path.abspath('../../../')\n",
    "    sys.path.insert(0, synroot)\n",
    "    from synapse.lib.jupyter import *"
   ]
  },
  {
   "cell_type": "code",
   "execution_count": null,
   "metadata": {
    "hideCode": true,
    "hideOutput": true
   },
   "outputs": [],
   "source": [
    "#Create a cortex which should contain the runt nodes for the data model\n",
    "core = await getTempCoreCmdr()"
   ]
  },
  {
   "cell_type": "raw",
   "metadata": {},
   "source": [
    ".. highlight:: none\n",
    "\n",
    ".. _data-model-terms:\n",
    "\n",
    "Data Model - Terminology\n",
    "========================\n",
    "\n",
    "**Note:** This documentation presents the data model from a User or Analyst perspective. See the online documentation on Types_ and Forms_ or the Synapse source code_ for more detailed information.\n",
    "\n",
    "Recall that **Synapse is a distributed key-value hypergraph analysis framework.** That is, Synapse is a particular implementation of a hypergraph model, where an instance of a hypergraph is called a Cortex. In our brief discussion of graphs and hypergraphs, we pointed out some fundamental concepts related to the Synapse hypergraph implementation:\n",
    "\n",
    "- **Everything is a node.** There are no pairwise (\"two-dimensional\") edges in a hypergraph the way there are in a directed graph. While Synapse includes some edge-like nodes (digraph nodes or \"relationship\" nodes) in its data model, they are still nodes.\n",
    "\n",
    "- **Tags act as hyperedges.** In a directed graph, an edge connects exactly two nodes. In Synapse, tags are labels that can be applied to an arbitrary number of nodes. These tags effectively act as an n-dimensional edge that can connect any number of nodes – a hyperedge.\n",
    "\n",
    "- **(Almost) every navigation of the graph is a pivot.** Since there are no pairwise edges in a hypergraph, you can’t query or explore the graph by traversing its edges. Instead, navigation primarily consists of pivoting from the properties of one set of nodes to the properties of another set of nodes. (Since tags are hyperedges, there are ways to lift by or \"pivot through\" tags to effectively perform \"hyperedge traversal\"; but most navigation is via pivots.)\n",
    "\n",
    "To start building on those concepts, you need to understand the basic elements of the Synapse data model. The fundamental terms and concepts you should be familiar with are:\n",
    "\n",
    "- Type_\n",
    "- Form_\n",
    "- Node_\n",
    "- Property_\n",
    "- Tag_\n",
    "\n",
    "Synapse uses a query language called **Storm** (see :ref:`storm-ref-intro`) to interact with data in the hypergraph. Storm allows a user to lift, filter, and pivot across data based on node properties, values, and tags. **Understanding these model structures will significantly improve your ability to use Storm and interact with Synapse data.**\n",
    "\n",
    ".. _data-type:\n",
    "\n",
    "Type\n",
    "----\n",
    "\n",
    "A **type** is the definition of a data element within the Synapse data model. A type describes what the element is and enforces how it should look, including how it should be normalized, if necessary, for both storage (including indexing) and representation (display).\n",
    "\n",
    "The Synapse data model includes standard types such as integers and strings, as well as common types defined within or specific to Synapse, including globally unique identifiers (``guid``), date/time values (``time``), time intervals (``ival``), and tags (``syn:tag``). Many objects (:ref:`data-form`) within the Synapse data model are built upon (extensions of) a subset of common types.\n",
    "\n",
    "In addition, knowledge domain-specific objects may themselves be specialized types. For example, an IPv4 address (``inet:ipv4``) is its own specialized type. While an IPv4 address is ultimately stored as an integer, the type has additional constraints (i.e., to ensure that IPv4 objects in the Cortex can only be created using integer values that fall within the allowable IPv4 address space). These constraints may be defined by a constructor (``ctor``) that defines how a property of that type can be created (constructed).\n",
    "\n",
    "Users typically will not interact with types directly; they are primarily used \"behind the scenes\" to define and support the Synapse data model. From a user perspective, it is important to keep the following points in mind for types:\n",
    "\n",
    "- **Every element in the Synapse data model must be defined as a type.** Synapse uses **forms** to define the objects that can be represented (modeled) within a Synapse hypergraph. Forms have **properties** (primary and secondary) and every property must be explicitly defined as a particular type.\n",
    "\n",
    "- **Type enforcement is essential to Synapse’s functionality.** Type enforcement means every property is defined as a type, and Synapse enforces rules for how elements of that type can (or can’t) be created. This means that elements of the same type are always created, stored, and represented in the same way which ensures consistency and helps prevent \"bad data\" from getting into a Cortex.\n",
    "\n",
    "- **Type awareness facilitates interaction with a Synapse hypergraph.** Synapse and the Storm query language are \"model aware\" and know which types are used for each property in the model. At a practical level this allows users to use a more concise syntax when using the Storm query language because in many cases the query parser \"understands\" which navigation options make sense, given the types of the properties used in the query. It also allows users to use wildcards to pivot (see :ref:`storm-ref-pivot`) without knowing the \"destination\" forms or nodes - Synapse \"knows\" which forms can be reached from the current set of data based on types.\n",
    "\n",
    "- **It is still possible to navigate (pivot) between elements of different types that have the same value.** Type enforcement simplifies pivoting, but does not restrict you to only pivoting between properties of the same type. For example, the value of a Windows registry may be a string (type ``str``), but that string may represent a file path (type ``file:path``). While the Storm query parser would not automatically \"recognize\" that as a valid pivot (because the property types differ), it is possible to explicitly tell Storm to pivot from a specific ``file:path`` node to any registry value nodes whose string property value (``it:dev:regval:str``) matches that path.\n",
    "\n",
    "Type-Specific Behavior\n",
    "++++++++++++++++++++++\n",
    "\n",
    "Synapse implements various type-specific optimizations to improve performance and functionality. Some of these are \"back end\" optimizations (i.e., for indexing and storage) while some are more \"front end\" in terms of how users interact with data of certain types via Storm. See :ref:`storm-ref-type-specific` for additional detail.\n",
    "\n",
    "Viewing or Working with Types\n",
    "+++++++++++++++++++++++++++++\n",
    "\n",
    "Types (both base and model-specific) are defined within the Synapse source code. An auto-generated dictionary (from current source code) of Types_ can be found in the online documentation.\n",
    "\n",
    "Types can also be viewed within a Cortex. A full list of current types can be displayed with the following Storm command:\n",
    "\n",
    "``cli> storm syn:type``\n",
    "\n",
    "See :ref:`storm-ref-model-introspect` for additional detail on working with model elements within Storm.\n",
    "\n",
    "Type Example\n",
    "++++++++++++\n",
    "\n",
    "The data associated with a type’s definition is displayed slightly differently between the Synapse source code, the auto-generated online documents, and from the Storm command line. Users wishing to review type structure or other elements of the Synapse data model are encouraged to use the source(s) that are most useful to them.\n",
    "\n",
    "The example below shows the type for a fully qualified domain name (``inet:fqdn``) as it is represented in the Synapse source code, the online documents, and from Storm.\n",
    "\n",
    "Source Code\n",
    "***********\n",
    "\n",
    ".. parsed-literal::\n",
    "  \n",
    "  ('inet:fqdn', 'synapse.models.inet.Fqdn', {}, {\n",
    "    'doc': 'A Fully Qualified Domain Name (FQDN).',\n",
    "    'ex': 'vertex.link'}),\n",
    "\n",
    "Auto-Generated Online Documents\n",
    "*******************************\n",
    "\n",
    "**inet:fqdn**\n",
    "A Fully Qualified Domain Name (FQDN). It is implemented by the following class: ``synapse.models.inet.Fqdn``.\n",
    "\n",
    "A example of ``inet:fqdn``:\n",
    "\n",
    "- ``vertex.link``\n",
    "\n",
    "Storm\n",
    "*****"
   ]
  },
  {
   "cell_type": "code",
   "execution_count": null,
   "metadata": {
    "hideCode": true
   },
   "outputs": [],
   "source": [
    "# Define test query\n",
    "q = 'syn:type=inet:fqdn'\n",
    "# Execute the query and test\n",
    "podes = await core.eval(q, num=1, cmdr=True)"
   ]
  },
  {
   "cell_type": "raw",
   "metadata": {},
   "source": [
    ".. _data-form:\n",
    "\n",
    "Form\n",
    "----\n",
    "\n",
    "A **form** is the definition of an object in the Synapse data model. A form acts as a \"template\" that tells you how to create an object (Node_). While the concepts of form and node are closely related, it is useful to maintain the distinction between the template for creating an object (form) and an instance of a particular object (node). ``inet:fqdn`` is a form; ``inet:fqdn = woot.com`` (``<form> = <valu>``) is a node.\n",
    "\n",
    "A form consists of the following:\n",
    "\n",
    "- A **primary property.** The primary property of a form must be selected / defined such that the value of that property is unique across all possible instances of that form. A form’s primary property must be defined as a specific **type.** In many cases, a form will have its own type definition - for example, the form ``inet:fqdn`` is of type ``inet:fqdn``. All forms are types (that is, must be defined as a Type_) although not all types are forms.\n",
    "- Optional **secondary properties.** If present, secondary properties must also have a defined type, as well as any additional constraints on the property, such as:\n",
    "  \n",
    "  - Whether a property is read-only once set.\n",
    "  - Whether a default value should be set for the property if no value is specified.\n",
    "  - Any normalization (outside of type-specific normalization) that should occur for the property (such as converting a string to all lowercase).\n",
    "\n",
    "Form secondary properties should also include brief documentation explaining the nature or purpose of the property.\n",
    "\n",
    "Secondary properties are form-specific and are explicitly defined for each form. However, Synapse also supports a set of universal secondary properties (**universal properties**) that are valid for all forms.\n",
    "\n",
    "Property_ discusses these concepts in greater detail.\n",
    "\n",
    "While types underlie the data model and are generally not used directly by analysts, forms comprise the essential \"structure\" of the data analysts work with. Understanding (and having a good reference) for form structure and options is essential for working with Synapse data.\n",
    "\n",
    "Viewing or Working with Forms\n",
    "+++++++++++++++++++++++++++++\n",
    "\n",
    "Like types, forms are defined within the Synapse source code and include a base set of forms intended to be generic across any data model, as well as a number of model-specific (knowledge domain-specific) forms. An auto-generated dictionary (from current source code) of Forms_ can be found in the online documentation.\n",
    "\n",
    "Forms can also be viewed within a Cortex. A full list of current forms can be displayed with the following Storm command:\n",
    "\n",
    "``cli> storm syn:form``\n",
    "\n",
    "See :ref:`storm-ref-model-introspect` for additional detail on working with model elements within Storm.\n",
    "\n",
    "Form Example\n",
    "++++++++++++\n",
    "\n",
    "The data associated with a form’s definition is displayed slightly differently between the Synapse source code, the auto-generated online documents, and from the Storm command line. Users wishing to review form structure or other elements of the Synapse data model are encouraged to use the source(s) that are most useful.\n",
    "\n",
    "The example below shows the form for a fully qualified domain name (``inet:fqdn``) as it is represented in the Synapse source code, the online documents, and from Storm. Note that the output displayed via Storm includes universal properties (``.seen``, ``.created``), where the static source code (and the documents generated from it) do not. Universal properties are defined separately within the Synapse source and have their own section_ in the auto-generated online documents.\n",
    "\n",
    "Source Code\n",
    "***********\n",
    "\n",
    ".. parsed-literal::\n",
    "  \n",
    "  ('inet:fqdn', {}, (\n",
    "     ('domain', ('inet:fqdn', {}), {\n",
    "        'ro': True,\n",
    "        'doc': 'The parent domain for the FQDN.',\n",
    "     }),\n",
    "     ('host', ('str', {'lower': True}), {\n",
    "        'ro': True,\n",
    "        'doc': 'The host part of the FQDN.',\n",
    "     }),\n",
    "     ('issuffix', ('bool', {}), {\n",
    "        'doc': 'True if the FQDN is considered a suffix.',\n",
    "        'defval': 0,\n",
    "     }),\n",
    "     ('iszone', ('bool', {}), {\n",
    "         'doc': 'True if the FQDN is considered a zone.',\n",
    "         'defval': 0,\n",
    "     }),\n",
    "     ('zone', ('inet:fqdn', {}), {\n",
    "        'doc': 'The zone level parent for this FQDN.',\n",
    "     }),\n",
    "  ))\n",
    "\n",
    "\n",
    "Auto-Generated Online Documents\n",
    "*******************************\n",
    "\n",
    "**inet:fqdn**\n",
    "A Fully Qualified Domain Name (FQDN).\n",
    "\n",
    "Properties:\n",
    "  \n",
    "  :domain / inet:fqdn:domain\n",
    "    The parent domain for the FQDN. It has the following property options set:\n",
    "    \n",
    "    - Read Only: ``True``\n",
    "    \n",
    "    The property type is inet:fqdn.\n",
    "\n",
    "  :host / inet:fqdn:host\n",
    "    The host part of the FQDN. It has the following property options set:\n",
    "    \n",
    "    - Read Only: ``True``\n",
    "    \n",
    "    The property type is str. Its type has the following options set:\n",
    "    lower: ``True``\n",
    "\n",
    "  :issuffix / inet:fqdn:issuffix\n",
    "    True if the FQDN is considered a suffix. It has the following property options set:\n",
    "    \n",
    "    - Default Value: ``0``\n",
    "    \n",
    "    The property type is bool.\n",
    "\n",
    "  :iszone / inet:fqdn:iszone\n",
    "    True if the FQDN is considered a zone. It has the following property options set:\n",
    "    \n",
    "    - Default Value: ``0``\n",
    "    \n",
    "    The property type is bool.\n",
    "\n",
    "  :zone / inet:fqdn:zone\n",
    "    The zone level parent for this FQDN.\n",
    "    \n",
    "    The property type is inet:fqdn.\n",
    "\n",
    "Storm\n",
    "*****\n",
    "\n",
    "Form (``inet:fqdn``) alone:"
   ]
  },
  {
   "cell_type": "code",
   "execution_count": null,
   "metadata": {
    "hideCode": true
   },
   "outputs": [],
   "source": [
    "# Define test query\n",
    "q = 'syn:form=inet:fqdn'\n",
    "# Execute the query and test\n",
    "podes = await core.eval(q, num=1, cmdr=True)"
   ]
  },
  {
   "cell_type": "raw",
   "metadata": {},
   "source": [
    "Form with secondary properties:"
   ]
  },
  {
   "cell_type": "code",
   "execution_count": null,
   "metadata": {
    "hideCode": true
   },
   "outputs": [],
   "source": [
    "# Define test query\n",
    "q = 'syn:prop:form=inet:fqdn'\n",
    "# Execute the query and test\n",
    "podes = await core.eval(q, num=8, cmdr=True)"
   ]
  },
  {
   "cell_type": "raw",
   "metadata": {},
   "source": [
    ".. _data-node:\n",
    "\n",
    "Node\n",
    "----\n",
    "\n",
    "A **node** is a unique object within the Synapse hypergraph. In Synapse nodes represent standard objects (\"nouns\") such as IP addresses, files, people, bank accounts, or chemical formulas. However, in Synapse nodes also represent relationships (\"verbs\") because what would have been an edge in a directed graph is now also a node in a Synapse hypergraph. It may be better to think of a node generically as a \"thing\" - any \"thing\" you want to model within Synapse (entity, relationship, event) is represented as a node.\n",
    "\n",
    "Every node consists of the following components:\n",
    "\n",
    "- A **primary property** that consists of the Form_ of the node plus its specific value. All primary properties (``<form> = <valu>``) must be unique for a given form. For example, the primary property of the node representing the domain ``woot.com`` would be ``inet:fqdn = woot.com``. The uniqueness of the ``<form> = <valu>`` pair ensures there can be only one node that represents the domain ``woot.com``. Because this unique pair \"defines\" the node, the comma-separated form / value combination (``<form>,<valu>``)is also known as the node’s **ndef** (short for \"node definition\").\n",
    "\n",
    "- One or more **universal properties.** As the name implies, universal properties are applicable to all nodes.\n",
    "\n",
    "- Optional **secondary properties.** Similar to primary properties, secondary properties consist of a property name defined as a specific type, and the property’s associated value for the node (``<prop> = <pval>``). Secondary properties are specific to a given node type (form) and provide additional detail about that particular node.\n",
    "\n",
    "- Optional **tags**. A Tag_ acts as a label with a particular meaning that can be applied to a node to provide context. Tags are discussed in greater detail below.\n",
    "\n",
    "Viewing or Working with Nodes\n",
    "+++++++++++++++++++++++++++++\n",
    "\n",
    "To view or work with nodes, you must have a Cortex that contains nodes (data). Users typically interact with Cortex data via the Synapse cmdr command line interface (:ref:`syn-tools-cmdr`) using the Storm query language (:ref:`storm-ref-intro`).\n",
    "\n",
    "Node Example\n",
    "++++++++++++\n",
    "\n",
    "The Storm query below lifts and displays the node for the domain ``google.com``:"
   ]
  },
  {
   "cell_type": "code",
   "execution_count": null,
   "metadata": {
    "hideCode": true,
    "hideOutput": true
   },
   "outputs": [],
   "source": [
    "# Make a node\n",
    "q = '[inet:fqdn=google.com +#rep.majestic.1m]'\n",
    "# Run the query and test\n",
    "podes = await core.eval(q, num=1, cmdr=True)"
   ]
  },
  {
   "cell_type": "code",
   "execution_count": null,
   "metadata": {
    "hideCode": true
   },
   "outputs": [],
   "source": [
    "# Define test query\n",
    "q = 'inet:fqdn=google.com'\n",
    "# Execute the query and test\n",
    "podes = await core.eval(q, num=1, cmdr=True)"
   ]
  },
  {
   "cell_type": "raw",
   "metadata": {},
   "source": [
    "In the output above:\n",
    "\n",
    "- ``inet:fqdn = google.com`` is the **primary property** (``<form> = <valu>``).\n",
    "- While not explicitly displayed, the node’s **ndef** would be ``inet:fqdn,google.com``.\n",
    "- ``.created`` is a **universal property** showing when the node was added to the Cortex.\n",
    "- ``:domain``, ``:host``, etc. are form-specific **secondary properties** with their associated values (``<prop> = <pval>``). For readability, secondary properties are displayed as **relative properties** within the namespace of the form’s primary property (e.g., ``:iszone`` as opposed to ``inet:fqdn:iszone``).\n",
    "- ``#rep.majestic.1m`` is a **tag** indicating that ``google.com`` has been reported by web analytics company Majestic_ in their top million most-linked domains.\n",
    "\n",
    ".. _data-props:\n",
    "\n",
    "Property\n",
    "--------\n",
    "\n",
    "**Properties** are the individual elements that define a Form_ or (along with their specific values) that comprise a Node_.\n",
    "\n",
    "Primary Property\n",
    "++++++++++++++++\n",
    "\n",
    "Every Form_ consists of (at minimum) a **primary property** that is defined as a specific Type_. Every Node_ consists of (at minimum) a primary property (its form) plus the node-specific value of the primary property (``<form> = <valu>``). In defining a form for a particular object (node), the primary property must be defined such that its value is unique across all possible instances of that form.\n",
    "\n",
    "The concept of a unique primary property is straightforward for forms that represent simple objects; for example, the \"thing\" that makes an IP address unique is the IP address itself: ``inet:ipv4 = 1.2.3.4``. Defining an appropriate primary property for more complex multidimensional nodes (such as those representing a :ref:`form-relationship` or an :ref:`form-event`) can be more challenging.\n",
    "\n",
    "Because a primary property uniquely defines a node, it cannot be modified once the node is created. To \"change\" a node's primary property you must delete and re-create the node.\n",
    "\n",
    "Secondary Property\n",
    "++++++++++++++++++\n",
    "\n",
    "A Form_ can include optional **secondary properties** that provide additional detail about the form. As with primary properties, each secondary property must be defined as an explicit Type_. Similarly, a Node_ includes optional secondary properties (as defined by the node's form) along with their specific values (``<prop> = <pval>``).\n",
    "\n",
    "Secondary properties are characteristics that do not uniquely define a form, but may further describe or distinguish a given form and its associated nodes. For example, the Autonomous System (AS) that an IP address belongs to does not \"define\" the IP (and in fact an IP's associated AS can change), but it provides further detail about the IP address.\n",
    "\n",
    "Many secondary properties are derived from a node's primary property and are automatically set when the node is created (**derived properties**). For example, creating the node ``file:path=\"c:\\\\windows\\\\system32\\\\cmd.exe\"`` will automatically set the properties ``:base = cmd.exe``, ``:base:ext = exe``, and ``:dir = c:/windows/system32``. Because a node's primary property cannot be changed once set, any secondary properties derived from the primary property also cannot be changed (i.e., are read-only). Non-derived secondary properties can be set, modified, or even deleted.\n",
    "\n",
    "Universal Property\n",
    "++++++++++++++++++\n",
    "\n",
    "Most secondary properties are form-specific, providing specific detail about individual objects within the data model. However, Synapse defines a subset of secondary properties as **universal properties** that are potentially applicable to all forms within the Synapse data model. Universal properties include:\n",
    "\n",
    "- ``.created``, which is set for all nodes and whose value is the date / time that the node was created within a Cortex.\n",
    "- ``.seen``, which is optional and whose value is a time interval (minimum or \"first seen\" and maximum or \"last seen\") during which the node was observed, existed, or was valid.\n",
    "\n",
    "Property Namespace\n",
    "++++++++++++++++++\n",
    "\n",
    "Properties (both primary and secondary) comprise a colon-separated ( ``:`` ) namespace within the Synapse data model. All primary properties (i.e., forms, form names) include at least two colon-separated elements, such as ``inet:fqdn``.  The first element can be thought of as a rough \"category\" for the form (i.e., ``inet`` for Internet-related objects) with the second and / or subsequent elements defining the specific \"subcategory\" and / or \"thing\" within that category (``inet:fqdn``, ``inet:dns:query``, ``inet:dns:answer``, etc.)\n",
    "\n",
    "Secondary properties extend and exist within the namespace of their primary property (form). Secondary properties are preceded by a colon ( ``:`` ) **except for** universal properties, which are preceded by a period ( ``.`` ) to distinguish them from form-specific secodnary properties. The secondary (both universal and form-specific) properties of ``inet:fqdn`` for example would include:\n",
    "\n",
    "- ``inet:fqdn.created`` (universal property)\n",
    "- ``inet:fqdn:zone`` (secondary property)\n",
    "\n",
    "Secondary properties also comprise a relative namespace / set of **relative properties** with respect to their primary property (form). In many cases the Storm query language allows you to reference a secondary property using its relative property name where the context of the relative namespace is clear (i.e., ``:zone`` vs. ``inet:fqdn:zone``).\n",
    "\n",
    "Relative properties are also used for display purposes within Synapse for visual clarity (see the `Node Example`_ above).\n",
    "\n",
    "In some cases secondary properties may have their own \"namespace\". Viewed another way, while both primary and secondary properties use colons (or periods for universal properties) to separate elements of the property name, not all separators represent property \"boundaries\"; some act more as name \"sub-namespace\" separators. For example ``file:bytes`` is a primary property / form. A ``file:bytes`` form may include secondary properties such as ``:mime:pe:imphash`` and ``:mime:pe:complied``.  In this case ``:mime`` and ``:mime:pe`` are not themselves secondary properties, but sub-namespaces for individual MIME data types and the \"PE executable\" data type specifically.\n",
    "\n",
    "Viewing or Working with Properties\n",
    "++++++++++++++++++++++++++++++++++\n",
    "\n",
    "As Properties are used to define Forms, they are defined within the Synapse source code with their respective Forms_. Universal properties are not defined \"per-form\" but have their own section_ in the online documentation.\n",
    "\n",
    "Properties can also be viewed within a Cortex. A full list of current properties can be displayed with the following Storm command:\n",
    "\n",
    "``cli> storm syn:prop``\n",
    "\n",
    "See :ref:`storm-ref-model-introspect` for additional detail on working with model elements within Storm.\n",
    "\n",
    "Property Example\n",
    "++++++++++++++++\n",
    "\n",
    "The data associated with a property’s definition is displayed slightly differently between the Synapse source code, the auto-generated online documents, and from the Storm command line. Users wishing to review property structure or other elements of the Synapse data model are encouraged to use the source(s) that are most useful to them.\n",
    "\n",
    "As primary properties are forms and secondary properties (with the exception of universal properties) are form-specific, properties can be viewed within the Synapse source code and online documentation by viewing the associated Form_.\n",
    "\n",
    "Within Storm, it is possible to view individual primary or secondary properties as follows:\n",
    "\n",
    "Storm\n",
    "*****\n",
    "\n",
    "Primary property:\n"
   ]
  },
  {
   "cell_type": "code",
   "execution_count": null,
   "metadata": {
    "hideCode": true
   },
   "outputs": [],
   "source": [
    "# Define test query\n",
    "q = 'syn:prop=inet:fqdn'\n",
    "# Execute the query and test\n",
    "podes = await core.eval(q, num=1, cmdr=True)"
   ]
  },
  {
   "cell_type": "raw",
   "metadata": {},
   "source": [
    "Secondary property:"
   ]
  },
  {
   "cell_type": "code",
   "execution_count": null,
   "metadata": {
    "hideCode": true
   },
   "outputs": [],
   "source": [
    "# Define test query\n",
    "q = 'syn:prop=inet:fqdn:domain'\n",
    "# Execute the query and test\n",
    "podes = await core.eval(q, num=1, cmdr=True)"
   ]
  },
  {
   "cell_type": "raw",
   "metadata": {},
   "source": [
    ".. _data-tag:\n",
    "\n",
    "Tag\n",
    "---\n",
    "\n",
    "**Tags** are annotations applied to nodes. Simplistically, they can be thought of as labels that provide context to the data represented by the node.\n",
    "\n",
    "Broadly speaking, within Synapse:\n",
    "\n",
    "- Nodes represent **things:** objects, relationships, or events. In other words, nodes typically represent facts or observables that are objectively true and unchanging.\n",
    "- Tags typically represent **assessments:** judgements that could change if the data or the analysis of the data changes.\n",
    "\n",
    "For example, an Internet domain is an \"objectively real thing\" - a domain exists, was registered, etc. and can be created as a node such as ``inet:fqdn = woot.com``. Whether a domain has been sinkholed (i.e., where a supposedly malicious domain is taken over or re-registered by a researcher to identify potential victims attempting to resolve the domain) is an assessment. A researcher may need to evaluate data related to that domain (such as domain registration records or current and past IP resolutions) to decide whether the domain appears to be sinkholed. This assessment can be represented by applying a tag such as ``#cno.infra.sink.hole`` to the ``inet:fqdn = woot.com`` node. \n",
    "\n",
    "Tags are unique within the Synapse model because tags are both **nodes** and **labels applied to nodes.** Tags are nodes based on a form (``syn:tag``, of type ``syn:tag``) defined within the Synapse data model. That is, the tag ``#cno.infra.sink.hole`` can be applied to another node; but the tag itself also exists as the node ``syn:tag = cno.infra.sink.hole``. This difference is illustrated in the example below.\n",
    "\n",
    "Tags are introduced here but are discussed in greater detail in :ref:`analytical-model-tags`.\n",
    "\n",
    "Viewing or Working with Tags\n",
    "++++++++++++++++++++++++++++\n",
    "\n",
    "As tags are nodes (data) within the Synapse data model, they can be viewed and operated upon just like other data in a Cortex. Users typically interact with Cortex data via the Synapse cmdr command line interface (:ref:`syn-tools-cmdr`) using the Storm query language (:ref:`storm-ref-intro`).\n",
    "\n",
    "See :ref:`storm-ref-model-introspect` for additional detail on working with model elements within Storm.\n",
    "\n",
    "Tag Example\n",
    "+++++++++++\n",
    "\n",
    "The Storm query below displays the **node** for the tag ``cno.infra.sink.hole``:"
   ]
  },
  {
   "cell_type": "code",
   "execution_count": null,
   "metadata": {
    "hideCode": true,
    "hideOutput": true
   },
   "outputs": [],
   "source": [
    "# Make a tag and a tagged node\n",
    "q = '[syn:tag=cno.infra.sink.hole :title=\"Sinkholed domain or associated IP\" :doc=\"A sinkholed domain or the IP address the sinkholed domain resolves to.\"]'\n",
    "q1 = '[inet:fqdn=hugesoft.org +#aka.feye.thr.apt1 +#cno.infra.sink.hole=(20140111,20180330)]'\n",
    "# Run the query and test\n",
    "podes = await core.eval(q, num=1, cmdr=True)\n",
    "podes = await core.eval(q1, num=1, cmdr=True)"
   ]
  },
  {
   "cell_type": "code",
   "execution_count": null,
   "metadata": {
    "hideCode": true
   },
   "outputs": [],
   "source": [
    "# Define test query\n",
    "q = 'syn:tag=cno.infra.sink.hole'\n",
    "# Execute the query and test\n",
    "podes = await core.eval(q, num=1, cmdr=True)"
   ]
  },
  {
   "cell_type": "raw",
   "metadata": {},
   "source": [
    "The Storm query below displays the **tag** ``#cno.infra.sink.hole`` applied to the **node** ``inet:fqdn = hugesoft.org``:"
   ]
  },
  {
   "cell_type": "code",
   "execution_count": null,
   "metadata": {
    "hideCode": true
   },
   "outputs": [],
   "source": [
    "# Define test query\n",
    "q = 'inet:fqdn=hugesoft.org'\n",
    "# Execute the query and test\n",
    "podes = await core.eval(q, num=1, cmdr=True)"
   ]
  },
  {
   "cell_type": "raw",
   "metadata": {},
   "source": [
    "Note that a tag **applied to a node** uses the \"tag\" symbol ( ``#`` ). This is a visual cue to distinguish tags on a node from the node's secondary properties. The symbol is also used within the Storm syntax to reference a tag as opposed to a ``syn:tag`` node.\n",
    "\n",
    "\n",
    ".. _Types: https://vertexprojectsynapse.readthedocs.io/en/latest/autodocs/datamodel_types.html\n",
    ".. _Forms: https://vertexprojectsynapse.readthedocs.io/en/latest/autodocs/datamodel_forms.html\n",
    ".. _code: https://github.com/vertexproject/synapse\n",
    ".. _section: https://vertexprojectsynapse.readthedocs.io/en/latest/autodocs/datamodel_forms.html#universal-properties\n",
    ".. _Majestic: https://majestic.com/reports/majestic-million"
   ]
  },
  {
   "cell_type": "code",
   "execution_count": null,
   "metadata": {
    "hideCode": true,
    "hideOutput": true
   },
   "outputs": [],
   "source": [
    "# Close cortex because done\n",
    "_ = await core.fini()"
   ]
  }
 ],
 "metadata": {
  "celltoolbar": "Hide code",
  "kernelspec": {
   "display_name": "Python 3",
   "language": "python",
   "name": "python3"
  },
  "language_info": {
   "codemirror_mode": {
    "name": "ipython",
    "version": 3
   },
   "file_extension": ".py",
   "mimetype": "text/x-python",
   "name": "python",
   "nbconvert_exporter": "python",
   "pygments_lexer": "ipython3",
   "version": "3.7.1"
  }
 },
 "nbformat": 4,
 "nbformat_minor": 2
}
