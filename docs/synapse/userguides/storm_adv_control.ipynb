{
 "cells": [
  {
   "cell_type": "code",
   "execution_count": null,
   "metadata": {
    "hideCode": true,
    "hideOutput": true
   },
   "outputs": [],
   "source": [
    "import os, sys\n",
    "try:\n",
    "    from synapse.lib.jupyter import *\n",
    "except ImportError as e:\n",
    "    # Insert the root path of the repository to sys.path.\n",
    "    # This assumes the notebook is located three directories away\n",
    "    # From the root synapse directory. It may need to be varied\n",
    "    synroot = os.path.abspath('../../../')\n",
    "    sys.path.insert(0, synroot)\n",
    "    from synapse.lib.jupyter import *"
   ]
  },
  {
   "cell_type": "code",
   "execution_count": null,
   "metadata": {
    "hideCode": true,
    "hideOutput": true
   },
   "outputs": [],
   "source": [
    "# Create a cortex\n",
    "core = await getTempCoreCmdr()"
   ]
  },
  {
   "cell_type": "raw",
   "metadata": {},
   "source": [
    ".. highlight:: none\n",
    "\n",
    ".. _storm-adv-control:\n",
    "\n",
    "Storm Reference - Advanced - Control Flow\n",
    "=========================================\n",
    "\n",
    "Storm includes a number of common programming control flow structures to facilitate more advanced or complex Storm queries. These include:\n",
    "\n",
    "- `For Loop`_\n",
    "- `If-Else Statement`_\n",
    "- `Switch Statement`_\n",
    "\n",
    "The examples below are for illustrative purposes. This guide is **not** meant as a Storm programming tutorial, but to introduce Storm users who may not be familiar with programming concepts to possible use cases for these structures.\n",
    "\n",
    "See also the follwing User Guide and reference sections for additional information:\n",
    "\n",
    "- :ref:`storm-adv-vars`\n",
    "- :ref:`storm-adv-methods`\n",
    "- :ref:`storm-adv-libs`\n",
    "- :ref:`stormtypes-libs-header`\n",
    "- :ref:`stormtypes-prim-header`"
   ]
  },
  {
   "cell_type": "raw",
   "metadata": {},
   "source": [
    ".. _flow-for:\n",
    "\n",
    "\n",
    "For Loop\n",
    "--------\n",
    "\n",
    "A **for loop** will iterate over a set of objects, performing the specified Storm operations on each object in the set.\n",
    "\n",
    "**Syntax:**\n",
    "\n",
    ".. parsed-literal::\n",
    "  \n",
    "  for $<var> in $<vars> {\n",
    "  \n",
    "      <storm>\n",
    "  }\n",
    "\n",
    "**Note:** The user documentation for the Synapse csvtool (:ref:`syn-tools-csvtool`) includes additional examples of using a for loop to iterate over the rows of a CSV-formatted file."
   ]
  },
  {
   "cell_type": "raw",
   "metadata": {},
   "source": [
    "**Example:**\n",
    "\n",
    "You are writing a \"threat hunting\" macro (see :ref:`auto-macros`) that:\n",
    "\n",
    "- lifts FQDN nodes associated with various threat clusters (e.g., tagged ``threat.<cluster_number>``);\n",
    "- pivots to DNS request nodes (``inet:dns:request``) that:\n",
    "\n",
    "  - query the FQDN (``:query:name:fqdn``), and\n",
    "  - have an associated file (``:exe``) (that is, the DNS query was made by a file)\n",
    "\n",
    "- pivots to the file node(s) (``file:bytes``)\n",
    "- tags the file(s) for review to see if they should be added to the threat cluster.\n",
    "\n",
    "This may help to identify previously unknown binaries that query for known malicious FQDNs.\n",
    "\n",
    "The macro can be run periodically to search for new threat indicators, based on nodes that may have been recently added to the Cortex.\n",
    "\n",
    "Because your macro may flag a large number of files associated with a broad range of threat clusters, you want your ``#review`` tag to include the name of the potentially associated threat cluster to help with the review process.\n",
    "\n",
    "You can use a for loop to iterate over the threat cluster tags on the inbound nodes and parse those tags to create equivalent review tags for each threat cluster.\n",
    "\n",
    ".. parsed-literal::\n",
    "\n",
    "  for $tag in $node.tags(threat.*) {\n",
    "  \n",
    "     $threat = $tag.split(\".\").index(1)\n",
    "     $reviewtag = $lib.str.format(\"review.{threat}\", threat=$threat)\n",
    "  }\n",
    "\n",
    "For each inbound node, the for loop:\n",
    "\n",
    "- takes each tag on the inbound node that matches the specified pattern (``threat.*``);\n",
    "- splits the tag along the dot (``.``) separator (:ref:`stormprims-Str-split`), creating a list of elements;\n",
    "- takes the element located at index 1 (i.e., the second element in the tag, since we count from zero) (:ref:`stormprims-list-index`) and assigns it to the variable ``$threat``;\n",
    "- formats a string representing the new \"review\" tag, using the value of the ``$threat`` variable (:ref:`stormlibs-lib-str-format`).\n"
   ]
  },
  {
   "cell_type": "raw",
   "metadata": {},
   "source": [
    "The for loop can be incorporated into a larger macro to hunt for binaries associated with known malicious FQDNs and tag them with the appropriate review tag:\n",
    "\n",
    ".. parsed-literal::\n",
    "  \n",
    "  inet:fqdn#threat\n",
    "  \n",
    "  for $tag in $node.tags(threat.*) {\n",
    "  \n",
    "      $threat = $tag.split(\".\").index(1)\n",
    "      $reviewtag = $lib.str.format(\"review.{threat}\", threat=$threat)\n",
    "  }\n",
    "  \n",
    "  -> inet:dns:request +:exe -> file:bytes [ +#$reviewtag ]\n",
    "\n"
   ]
  },
  {
   "cell_type": "raw",
   "metadata": {},
   "source": [
    ".. _flow-if-else:\n",
    "\n",
    "If-Else Statement\n",
    "-----------------\n",
    "\n",
    "An **if-else statement** matches inbound objects against a specified condition. If that condition is met, a set of Storm operations are performed. If the condition is not met, a different set of Storm operations are performed.\n",
    "\n",
    "**Syntax:**\n",
    "\n",
    ".. parsed-literal::\n",
    "  \n",
    "  if <condition> { <storm> }\n",
    "  else { <storm> }\n",
    "\n",
    " "
   ]
  },
  {
   "cell_type": "raw",
   "metadata": {},
   "source": [
    "**Example:**\n",
    "\n",
    "You have a subscription to a third-party malware service that allows you to download malware binaries via the service's API. However, the service has a query limit, so you don't want to make any unnecessary API requests that might exhaust your limit.\n",
    "\n",
    "You can use a simple if-else statement to check whether you already have a copy of the binary in your storage Axon before attempting to download it.\n",
    "\n",
    ".. parsed-literal::\n",
    "  \n",
    "  file:bytes=e3b0c44298fc1c149afbf4c8996fb92427ae41e4649b934ca495991b7852b855\n",
    "  $sha256 = :sha256\n",
    "  \n",
    "  if $lib.bytes.has($sha256) { }\n",
    "  \n",
    "  else { | malware.download }\n",
    "  \n",
    "\n",
    "The Storm query above:\n",
    "\n",
    "- takes an inbound ``file:bytes`` node;\n",
    "- sets the variable ``$sha256`` to the file's SHA256 hash;\n",
    "- check for the file in the Axon (:ref:`stormlibs-lib-bytes-has`);\n",
    "- if ``$lib.bytes.has($sha256)`` returns ``true`` (i.e., we have the file), do nothing (``{  }``);\n",
    "- otherwise call the ``malware.download`` service to attempt to download the file.\n",
    "\n",
    "**Note:** ``malware.download`` is used as an example Storm service name only, it does not exist in the base Synapse code."
   ]
  },
  {
   "cell_type": "raw",
   "metadata": {},
   "source": [
    ".. _flow-switch:\n",
    "\n",
    "Switch Statement\n",
    "----------------\n",
    "\n",
    "A **switch statement** matches inbound objects against a set of specified constants. Depending on which constant is matched, a set of Storm operations is performed. The switch statement can include an optional **default case** to perform a set of Storm operations in the case where none of the explicitly defined constants are matched.\n",
    "\n",
    "**Syntax:**\n",
    "\n",
    ".. parsed-literal::\n",
    "  \n",
    "  <inbound objects>\n",
    "  \n",
    "  switch <constant> {\n",
    "    \n",
    "    <case1>: { <storm> }\n",
    "    <case2>: { <storm> }\n",
    "    <case3>: { <storm> }\n",
    "    *: { <storm for optional default case> }\n",
    "  }\n"
   ]
  },
  {
   "cell_type": "raw",
   "metadata": {},
   "source": [
    "**Example:**\n",
    "\n",
    "You want to write a macro (see :ref:`auto-macros`) to automatically enrich a set of indicators (i.e., query third-party data sources for additional data). Instead of writing separate macros for each type of indicator, you want a single macro that can take any type of indicator and send it to the appropriate Storm services.\n",
    "\n",
    "A switch statement can send your indicators to the correct services based on the kind of node (e.g., the node's form).\n",
    "\n",
    ".. parsed-literal::\n",
    "  \n",
    "  <inbound nodes>\n",
    "  \n",
    "  switch $node.form() {\n",
    "  \n",
    "      \"hash:md5\": { | malware.service }\n",
    "      \n",
    "      \"hash:sha1\": { | malware.service }\n",
    "      \n",
    "      \"hash:sha256\": { | malware.service }\n",
    "      \n",
    "      \"inet:fqdn\": { | pdns.service | whois.service }\n",
    "      \n",
    "      \"inet:ipv4\": { | pdns.service }\n",
    "      \n",
    "      \"inet:email\": { | whois.service }\n",
    "      \n",
    "      *: { $lib.print(\"{form} is not supported.\", form=$node.form()) }\n",
    "  }\n",
    "\n",
    "The Storm query above:\n",
    "\n",
    "- takes a set of inbound nodes;\n",
    "- checks the switch conditions based on the form of the node (see :ref:`meth-node-form`);\n",
    "- matches the form name against the list of forms;\n",
    "- handles each form differently (e.g., hashes are submitted to a malware service, domains are submitted to passive DNS and whois services, etc.)\n",
    "- if the inbound form does not match any of the specified cases, print (:ref:`stormlibs-lib-print`) the specified statement (e.g., ``\"file:bytes is not supported.\"``).\n",
    "\n",
    "The default case above is not strictly necessary - any inbound nodes that fail to match a condition will simply be passed through the switch statement with no action taken. It is used above to illustrate the use of a default case for any non-matching nodes.\n",
    "\n",
    "**Note:** the Storm service names used above are examples only. Services with those names do not exist in the base Synapse code.  "
   ]
  },
  {
   "cell_type": "code",
   "execution_count": null,
   "metadata": {
    "hideCode": true,
    "hideOutput": true
   },
   "outputs": [],
   "source": [
    "# Close cortex because done\n",
    "_ = await core.fini()"
   ]
  }
 ],
 "metadata": {
  "celltoolbar": "Hide code",
  "kernelspec": {
   "display_name": "Python 3",
   "language": "python",
   "name": "python3"
  },
  "language_info": {
   "codemirror_mode": {
    "name": "ipython",
    "version": 3
   },
   "file_extension": ".py",
   "mimetype": "text/x-python",
   "name": "python",
   "nbconvert_exporter": "python",
   "pygments_lexer": "ipython3",
   "version": "3.8.7"
  }
 },
 "nbformat": 4,
 "nbformat_minor": 2
}
