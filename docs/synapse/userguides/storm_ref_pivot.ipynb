{
 "cells": [
  {
   "cell_type": "raw",
   "metadata": {},
   "source": [
    ".. _storm-ref-pivot:\n",
    "\n",
    "Storm Reference - Pivoting\n",
    "==========================\n",
    "\n",
    "Pivot operations are performed on the output of a Storm query. Pivot operators are used to navigate from one set of nodes to another based a specified relationship. The pivot operations available within Storm are:\n",
    "\n",
    "- `Pivot Out Operator`_\n",
    "- `Pivot In Operator`_\n",
    "- `Pivot With Join`_\n",
    "\n",
    "pivot to / pivot and join to digraph (edge) nodes,\n",
    "pivot across digraph (edge) nodes,\n",
    "pivot using the Storm noderefs command,\n",
    "pivot to tags,\n",
    "pivot from tags, and\n",
    "implicit pivot syntax.\n",
    "\n",
    "\n",
    "See :ref:`storm-ref-syntax` for an explanation of the syntax format used below.\n",
    "\n",
    "See :ref:`storm-ref-type-specific` for details on special syntax or handling for specific data types.\n",
    "\n",
    "Pivot Out Operator\n",
    "------------------\n",
    "\n",
    "Pivot In Operator\n",
    "-----------------\n",
    "\n",
    "Pivot With Join\n",
    "---------------"
   ]
  }
 ],
 "metadata": {
  "kernelspec": {
   "display_name": "Python 3",
   "language": "python",
   "name": "python3"
  },
  "language_info": {
   "codemirror_mode": {
    "name": "ipython",
    "version": 3
   },
   "file_extension": ".py",
   "mimetype": "text/x-python",
   "name": "python",
   "nbconvert_exporter": "python",
   "pygments_lexer": "ipython3",
   "version": "3.7.0"
  }
 },
 "nbformat": 4,
 "nbformat_minor": 2
}
