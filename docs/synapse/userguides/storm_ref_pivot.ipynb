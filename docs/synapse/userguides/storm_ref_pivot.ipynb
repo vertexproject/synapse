{
 "cells": [
  {
   "cell_type": "code",
   "execution_count": 1,
   "metadata": {
    "hideCode": true
   },
   "outputs": [],
   "source": [
    "import os, sys\n",
    "try:\n",
    "    from synapse.lib.jupyter import *\n",
    "except ImportError as e:\n",
    "    # Insert the root path of the repository to sys.path.\n",
    "    # This assumes the notebook is located three directories away\n",
    "    # From the root synapse directory. It may need to be varied\n",
    "    synroot = os.path.abspath('../../../')\n",
    "    sys.path.insert(0, synroot)\n",
    "    from synapse.lib.jupyter import *"
   ]
  },
  {
   "cell_type": "raw",
   "metadata": {},
   "source": [
    ".. highlight:: none\n",
    "\n",
    ".. _storm-ref-pivot:\n",
    "\n",
    "Storm Reference - Pivoting\n",
    "==========================\n",
    "\n",
    "Pivot operations are performed on the output of a Storm query. Pivot operators are used to navigate from one set of nodes to another based a specified relationship. The pivot operations available within Storm are:\n",
    "\n",
    "- `Pivot Out Operator`_\n",
    "- `Pivot In Operator`_\n",
    "- `Pivot With Join`_\n",
    "- `Pivot to Digraph (Edge) Nodes`_\n",
    "- `Pivot Across Digraph (Edge) Nodes`_\n",
    "- `Pivot Using Noderefs`_\n",
    "- `Pivot to Tags`_\n",
    "- `Pivot from Tags`_\n",
    "- `Implicit Pivot Syntax`_\n",
    "\n",
    ".. NOTE::\n",
    "  When pivoting from a secondary property (*<prop> = <pval>*), the secondary property **must** be specified using the relative property name only (``:baz`` vs. ``foo:bar:baz``). Specifying the full property name before the pivot would be interpreted as an additional lift (i.e., ``<inet:dns:a> inet:dns:a:fqdn -> inet:fqdn`` would be interpreted as \"take a set of inet:dns:a records from an initial query, lift all inet:dns:a records with an :fqdn property (i.e., every inet:dns:a node in the Cortex), and then pivot to the associated inet:fqdn nodes\").\n",
    "\n",
    "See :ref:`storm-ref-syntax` for an explanation of the syntax format used below.\n",
    "\n",
    "See :ref:`storm-ref-type-specific` for details on special syntax or handling for specific data types.\n",
    "\n",
    "Pivot Out Operator\n",
    "------------------\n",
    "\n",
    "The pivot out operator ( ``->`` ) is the primary Storm pivot operator. The pivot out operator pivots from a primary or secondary property value of the current set of nodes to a primary or secondary property value of another set of nodes. This operator is also referred to as the \"reference out\" operator as it is used to pivot to nodes that are **referenced by** the current node set.\n",
    "\n",
    "The pivot out operator is used to:\n",
    "\n",
    "- pivot from the primary property of the inbound set of nodes to the equivalent secondary property of another set of nodes,\n",
    "- pivot from a secondary property of the inbound set of nodes to the equivalent primary property of another set of nodes,\n",
    "- pivot from any / all secondary properties of the inbound set of nodes to the equivalent primary property of any / all nodes (“wildcard” pivot out), and\n",
    "- pivot from a secondary property of the inbound set of nodes to the equivalent secondary property of another set of nodes.\n",
    "\n",
    "`Pivot to Digraph (Edge) Nodes`_ and `Pivot Across Digraph (Edge) Nodes`_ are covered separately below.\n",
    "\n",
    "**Syntax:**\n",
    "\n",
    "*<query>* **->** *<form>* **:** *<prop>*\n",
    "\n",
    "*<query>* **:** *<prop>* **->** *<form>*\n",
    "\n",
    "*<query>* **-> ***\n",
    " \n",
    "*<query>* **:** *<prop>* **->** *<form>* **:** *<prop>*\n",
    "\n",
    "**Examples:**\n",
    "\n",
    "*Pivot from primary property (<form> = <valu>) to secondary property (<prop> = <pval>):*\n",
    "\n",
    "- Pivot from a set of domains to all of their subdomains regardless of depth:\n"
   ]
  },
  {
   "cell_type": "code",
   "execution_count": 2,
   "metadata": {
    "hideCode": true,
    "hideOutput": true
   },
   "outputs": [
    {
     "name": "stdout",
     "output_type": "stream",
     "text": [
      "cli> storm [inet:fqdn=hurr.derp.woot.com inet:fqdn=um.wut.woot.com inet:fqdn=vertex.link inet:ipv4=1.2.3.4 inet:ipv4=5.6.7.8]\n",
      "\n",
      "inet:fqdn=hurr.derp.woot.com\n",
      "        .created = 2019/01/04 23:52:07.478\n",
      "        :domain = derp.woot.com\n",
      "        :host = hurr\n",
      "        :issuffix = False\n",
      "        :iszone = False\n",
      "        :zone = woot.com\n",
      "inet:fqdn=um.wut.woot.com\n",
      "        .created = 2019/01/04 23:52:07.480\n",
      "        :domain = wut.woot.com\n",
      "        :host = um\n",
      "        :issuffix = False\n",
      "        :iszone = False\n",
      "        :zone = woot.com\n",
      "inet:fqdn=vertex.link\n",
      "        .created = 2019/01/04 23:52:07.482\n",
      "        :domain = link\n",
      "        :host = vertex\n",
      "        :issuffix = False\n",
      "        :iszone = True\n",
      "        :zone = vertex.link\n",
      "inet:ipv4=1.2.3.4\n",
      "        .created = 2019/01/04 23:52:07.483\n",
      "        :asn = 0\n",
      "        :loc = ??\n",
      "        :type = unicast\n",
      "inet:ipv4=5.6.7.8\n",
      "        .created = 2019/01/04 23:52:07.484\n",
      "        :asn = 0\n",
      "        :loc = ??\n",
      "        :type = unicast\n",
      "complete. 5 nodes in 17 ms (294/sec).\n"
     ]
    }
   ],
   "source": [
    "# Get a temp cortex and make some nodes\n",
    "core = await getTempCoreCmdr()\n",
    "q = '[inet:fqdn=hurr.derp.woot.com inet:fqdn=um.wut.woot.com inet:fqdn=vertex.link inet:ipv4=1.2.3.4 inet:ipv4=5.6.7.8]'\n",
    "# This runs the query via the CLI, rips out the nodes, makes sure we got the right # of nodes on the output :)\n",
    "podes = await core.eval(q, num=5, cmdr=True)"
   ]
  },
  {
   "cell_type": "code",
   "execution_count": 4,
   "metadata": {
    "hideCode": true
   },
   "outputs": [
    {
     "name": "stdout",
     "output_type": "stream",
     "text": [
      "<inet:fqdn> -> inet:fqdn:zone\n"
     ]
    }
   ],
   "source": [
    "# Use previous temp cortex, define and print test query\n",
    "q = '<inet:fqdn> '\n",
    "q1 = 'inet:fqdn=woot.com '\n",
    "q2 = '-> inet:fqdn:zone'\n",
    "print(q + q2)\n",
    "# Execute the query to test it and get the packed nodes (podes).\n",
    "podes = await core.eval(q1 + q2, num=5, cmdr=False)"
   ]
  },
  {
   "cell_type": "raw",
   "metadata": {},
   "source": [
    "- Pivot from a set of domains to their DNS A records:"
   ]
  },
  {
   "cell_type": "code",
   "execution_count": 5,
   "metadata": {
    "hideCode": true,
    "hideOutput": true,
    "scrolled": true
   },
   "outputs": [
    {
     "name": "stdout",
     "output_type": "stream",
     "text": [
      "cli> storm [inet:dns:a=(woot.com,1.2.3.4)]\n",
      "\n",
      "inet:dns:a=('woot.com', '1.2.3.4')\n",
      "        .created = 2019/01/04 23:57:09.316\n",
      "        :fqdn = woot.com\n",
      "        :ipv4 = 1.2.3.4\n",
      "complete. 1 nodes in 21 ms (47/sec).\n",
      "cli> storm [inet:dns:a=(woot.com,5.6.7.8)]\n",
      "\n",
      "inet:dns:a=('woot.com', '5.6.7.8')\n",
      "        .created = 2019/01/04 23:57:09.354\n",
      "        :fqdn = woot.com\n",
      "        :ipv4 = 5.6.7.8\n",
      "complete. 1 nodes in 16 ms (62/sec).\n",
      "cli> storm [inet:dns:a=(woot.com,8.8.8.8)]\n",
      "\n",
      "inet:dns:a=('woot.com', '8.8.8.8')\n",
      "        .created = 2019/01/04 23:57:09.383\n",
      "        :fqdn = woot.com\n",
      "        :ipv4 = 8.8.8.8\n",
      "complete. 1 nodes in 14 ms (71/sec).\n"
     ]
    }
   ],
   "source": [
    "# Make some DNS A records:\n",
    "q = '[inet:dns:a=(woot.com,1.2.3.4)]'\n",
    "q1 = '[inet:dns:a=(woot.com,5.6.7.8)]'\n",
    "q2 = '[inet:dns:a=(woot.com,8.8.8.8)]'\n",
    "# Run the query and test\n",
    "podes = await core.eval(q, num=1, cmdr=True)\n",
    "podes = await core.eval(q1, num=1, cmdr=True)\n",
    "podes = await core.eval(q2, num=1, cmdr=True)"
   ]
  },
  {
   "cell_type": "code",
   "execution_count": 6,
   "metadata": {
    "hideCode": true
   },
   "outputs": [
    {
     "name": "stdout",
     "output_type": "stream",
     "text": [
      "<inet:fqdn> -> inet:dns:a:fqdn\n"
     ]
    }
   ],
   "source": [
    "# Define and print test query\n",
    "q = '<inet:fqdn> '\n",
    "q1 = 'inet:fqdn=woot.com '\n",
    "q2 = '-> inet:dns:a:fqdn'\n",
    "print(q + q2)\n",
    "# Execute the query to test it and get the packed nodes (podes).\n",
    "podes = await core.eval(q1 + q2, num=3, cmdr=False)"
   ]
  },
  {
   "cell_type": "raw",
   "metadata": {},
   "source": [
    "*Pivot from secondary property (<prop> = <pval>) to primary property (<form> = <valu>):*\n",
    "\n",
    "- Pivot from a set of DNS A records to the resolution IP addresses contained in those records:"
   ]
  },
  {
   "cell_type": "code",
   "execution_count": 7,
   "metadata": {
    "hideCode": true
   },
   "outputs": [
    {
     "name": "stdout",
     "output_type": "stream",
     "text": [
      "<inet:dns:a> :ipv4 -> inet:ipv4\n"
     ]
    }
   ],
   "source": [
    "# Define and print test query using previous data\n",
    "q = '<inet:dns:a> '\n",
    "q1 = 'inet:dns:a:fqdn=woot.com '\n",
    "q2 = ':ipv4 -> inet:ipv4'\n",
    "print(q + q2)\n",
    "# Execute the query to test it and get the packed nodes (podes).\n",
    "podes = await core.eval(q1 + q2, num=3, cmdr=False)"
   ]
  },
  {
   "cell_type": "raw",
   "metadata": {},
   "source": [
    "*Pivot from all secondary properties to all forms (<prop> = <pval> to <form> = <valu>):*\n",
    "\n",
    "- Pivot from a set of WHOIS records to all nodes whose primary property equals *any* of the secondary properties of the WHOIS record (the asterisk ``*`` is a wildcard that indicates pivot to **any** applicable node):"
   ]
  },
  {
   "cell_type": "code",
   "execution_count": 8,
   "metadata": {
    "hideCode": true,
    "hideOutput": true,
    "scrolled": true
   },
   "outputs": [
    {
     "name": "stdout",
     "output_type": "stream",
     "text": [
      "cli> storm [inet:whois:rec=(woot.com,2018/05/22) :registrant=\"woot hostmaaster\" :registrar=\"markmonitor\"]\n",
      "\n",
      "inet:whois:rec=('woot.com', '2018/05/22 00:00:00.000')\n",
      "        .created = 2019/01/05 00:05:22.966\n",
      "        :asof = 2018/05/22 00:00:00.000\n",
      "        :fqdn = woot.com\n",
      "        :registrant = woot hostmaaster\n",
      "        :registrar = markmonitor\n",
      "complete. 1 nodes in 28 ms (35/sec).\n"
     ]
    }
   ],
   "source": [
    "# Make some WHOIS records and related nodes:\n",
    "q = '[inet:whois:rec=(woot.com,2018/05/22) :registrant=\"woot hostmaaster\" :registrar=\"markmonitor\"]'\n",
    "# Run the query and test\n",
    "podes = await core.eval(q, num=1, cmdr=True)"
   ]
  },
  {
   "cell_type": "code",
   "execution_count": 9,
   "metadata": {
    "hideCode": true
   },
   "outputs": [
    {
     "name": "stdout",
     "output_type": "stream",
     "text": [
      "<inet:whois:rec> -> *\n"
     ]
    }
   ],
   "source": [
    "# Define and print test query\n",
    "q = '<inet:whois:rec> '\n",
    "q1 = 'inet:whois:rec:fqdn=woot.com '\n",
    "q2 = '-> *'\n",
    "print(q + q2)\n",
    "# Execute the query to test it and get the packed nodes (podes).\n",
    "podes = await core.eval(q1 + q2, num=3, cmdr=False)"
   ]
  },
  {
   "cell_type": "raw",
   "metadata": {},
   "source": [
    "*Pivot from secondary property (<prop> = <pval>) to secondary property (<prop> = <pval>):*\n",
    "\n",
    "- Pivot from the WHOIS records for a set of domains to the DNS A records for the same domains:"
   ]
  },
  {
   "cell_type": "code",
   "execution_count": 10,
   "metadata": {
    "hideCode": true
   },
   "outputs": [
    {
     "name": "stdout",
     "output_type": "stream",
     "text": [
      "<inet:whois:rec> :fqdn -> inet:dns:a:fqdn\n"
     ]
    }
   ],
   "source": [
    "# Define and print test query using existing data\n",
    "q = '<inet:whois:rec> '\n",
    "q1 = 'inet:whois:rec:fqdn=woot.com '\n",
    "q2 = ':fqdn -> inet:dns:a:fqdn'\n",
    "print(q + q2)\n",
    "# Execute the query to test it and get the packed nodes (podes).\n",
    "podes = await core.eval(q1 + q2, num=3, cmdr=False)"
   ]
  },
  {
   "cell_type": "raw",
   "metadata": {},
   "source": [
    "**Usage Notes:**\n",
    "\n",
    "- Pivoting out using the asterisk wildcard ( ``*`` ) is sometimes called a **refs out** pivot because it pivots from **all** secondary properties to **all nodes referenced by** those properties.\n",
    "- Pivoting out using the wildcard will pivot to all nodes whose primary property (*<form> = <valu>*) matches a secondary property (*<prop> = <pval>*) of the inbound nodes. This **excludes** digraph (edge) nodes (such as ``refs`` or ``has`` nodes) because their primary property is a pair of ``ndefs`` (node definitions, or *<form>, <valu>* tuples)."
   ]
  },
  {
   "cell_type": "raw",
   "metadata": {},
   "source": [
    "Pivot In Operator\n",
    "-----------------\n",
    "\n",
    "The pivot in ( ``<-``) operator is similar to but separate from the pivot out ( ``->``) operator. Instead of pivoting to the set of nodes the current set references, the pivot in operator pivots to the set of nodes that references the current set of nodes.\n",
    "\n",
    "Logically, any pivot in operation can be expressed as an equivalent pivot out operation. For example, the following two pivots would be functionally equivalent:\n",
    "\n",
    "- Pivot from a set of domains to the DNS A records referenced by the domains:\n",
    "\n",
    "  `<inet:fqdn> -> inet:dns:a:fqdn`\n",
    "\n",
    "- Pivot from a set of domains to the DNS A records that reference the domains:\n",
    "\n",
    "  `<inet:fqdns> <- inet:dns:a:fqdn`\n",
    "\n",
    "Because of this equivalence, and because \"left to right\" logic is generally more intuitive, only pivot out has been fully implemented in Storm; the pivot in operator exists, but is only used to simplify certain special case pivot operations:\n",
    "\n",
    "- pivot from any / all primary properties of the inbound set of nodes to the equivalent secondary property of any / all nodes (\"wildcard\" pivot in), and\n",
    "- reverse `Pivot to Digraph (Edge) Nodes`_ and reverse `Pivot Across Digraph (Edge) Nodes`_ (covered separately below).\n",
    "\n",
    "**Syntax:**\n",
    "\n",
    "*<query>* **<- ***\n",
    " \n",
    "**Example:**\n",
    "\n",
    "*Pivot from all primary properties to all nodes with an equivalent secondary property (<form> = <valu> to <prop> = <pval>):*\n",
    "\n",
    "- Pivot from a set of domains to all nodes with a secondary property that references the domains:\n"
   ]
  },
  {
   "cell_type": "code",
   "execution_count": 14,
   "metadata": {
    "hideCode": false
   },
   "outputs": [
    {
     "name": "stdout",
     "output_type": "stream",
     "text": [
      "<inet:fqdn> <- *\n"
     ]
    }
   ],
   "source": [
    "# Define and print test query using existing data\n",
    "q = '<inet:fqdn> '\n",
    "q1 = 'inet:fqdn=woot.com '\n",
    "q2 = '<- *'\n",
    "print(q + q2)\n",
    "# Execute the query to test it and get the packed nodes (podes).\n",
    "podes = await core.eval(q1 + q2, num=11, cmdr=False)"
   ]
  },
  {
   "cell_type": "raw",
   "metadata": {},
   "source": [
    "**Usage Notes:**\n",
    "\n",
    "- Pivoting in using the asterisk wildcard ( ``*`` ) is sometimes called a **refs in** pivot because it pivots from **all** nodes to **all nodes that reference** those nodes.\n",
    "- Pivoting in using the wildcard will pivot to all nodes whose secondary property (*<prop> = <pval>*) matches a primary property (*<form> = <valu>*) of the inbound nodes. This **excludes** digraph (edge) nodes (such as ``refs`` or ``has`` nodes) because their primary property is a pair of ``ndefs`` (node definitions, or *<form>, <valu>* tuples).\n",
    "- Pivoting in using the wildcard will return an instance of a node for **each** matching secondary property. That is, there are instances where a node may have multiple secondary properties (*<prop> = <pval>*) that match a source value (*<valu>*) (an ``inet:fqdn`` node with the same value for both ``:domain`` and ``:zone`` is one example). In this case, the wildcard pivot will return two copies of the node. Results can be de-duplicated using the Storm :ref:`storm-uniq` command.\n",
    "- Other than digraph (edge) node navigation / traversal, pivot in can only be used with the wildcard ( ``*`` ). That is, pivot in does not support specifying a particular target form:\n",
    "\n",
    "  ``inet:fqdn=woot.com <- inet:dns:a:fqdn``\n",
    "\n",
    "  The above query will return an error. A filter operation (see :ref:`storm-ref-filter`) can be used to downselect the results of a wildcard pivot in operation to a specific set of forms:\n",
    "  \n",
    "  ``inet:fqdn=woot.com <- * +inet:dns:a``\n",
    "  \n",
    "  Note that when attempting to specify a target form using `Implicit Pivot Syntax`_, Storm currently (**and incorrectly**) returns 0 nodes (even if nodes exist) instead of generating an error:\n",
    "  \n",
    "  ``inet:fqdn=woot.com <- inet:dns:a``"
   ]
  },
  {
   "cell_type": "raw",
   "metadata": {},
   "source": [
    "Pivot With Join\n",
    "---------------\n",
    "\n",
    "Pivot to Digraph (Edge) Nodes\n",
    "-----------------------------\n",
    "\n",
    "Pivot Across Digraph (Edge) Nodes\n",
    "---------------------------------\n",
    "\n",
    "Pivot Using Noderefs\n",
    "--------------------\n",
    "\n",
    "Pivot to Tags\n",
    "-------------\n",
    "\n",
    "Pivot from Tags\n",
    "---------------\n",
    "\n",
    "Implicit Pivot Syntax\n",
    "---------------------\n"
   ]
  }
 ],
 "metadata": {
  "celltoolbar": "Hide code",
  "kernelspec": {
   "display_name": "Python 3",
   "language": "python",
   "name": "python3"
  },
  "language_info": {
   "codemirror_mode": {
    "name": "ipython",
    "version": 3
   },
   "file_extension": ".py",
   "mimetype": "text/x-python",
   "name": "python",
   "nbconvert_exporter": "python",
   "pygments_lexer": "ipython3",
   "version": "3.7.0"
  }
 },
 "nbformat": 4,
 "nbformat_minor": 2
}
