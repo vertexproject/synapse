{
 "cells": [
  {
   "cell_type": "code",
   "execution_count": null,
   "metadata": {
    "hideCode": true,
    "hideOutput": true
   },
   "outputs": [],
   "source": [
    "import os, sys\n",
    "try:\n",
    "    from synapse.lib.jupyter import *\n",
    "except ImportError as e:\n",
    "    # Insert the root path of the repository to sys.path.\n",
    "    # This assumes the notebook is located three directories away\n",
    "    # From the root synapse directory. It may need to be varied\n",
    "    synroot = os.path.abspath('../../../')\n",
    "    sys.path.insert(0, synroot)\n",
    "    from synapse.lib.jupyter import *"
   ]
  },
  {
   "cell_type": "code",
   "execution_count": null,
   "metadata": {
    "hideCode": true,
    "hideOutput": true
   },
   "outputs": [],
   "source": [
    "#Create a cortex\n",
    "core = await getTempCoreCmdr()"
   ]
  },
  {
   "cell_type": "raw",
   "metadata": {},
   "source": [
    ".. highlight:: none\n",
    "\n",
    ".. _storm-ref-pivot:\n",
    "\n",
    "Storm Reference - Pivoting\n",
    "==========================\n",
    "\n",
    "Pivot operations are performed on the output of a Storm query. Pivot operators are used to navigate from one set of nodes to another based a specified relationship. The pivot operations available within Storm are:\n",
    "\n",
    "- `Pivot Out Operator`_\n",
    "- `Pivot In Operator`_\n",
    "- `Pivot With Join`_\n",
    "- `Traverse (Walk) Light Edges`_\n",
    "- `Pivot Out and Walk`_\n",
    "- `Pivot In and Walk`_\n",
    "- `Pivot to Digraph (Edge) Nodes`_\n",
    "- `Pivot Across Digraph (Edge) Nodes`_\n",
    "- `Pivot to Tags`_\n",
    "- `Pivot from Tags`_\n",
    "- `Implicit Pivot Syntax`_\n",
    "\n",
    ".. NOTE::\n",
    "  When pivoting from a secondary property (*<prop> = <pval>*), the secondary property **must** be specified using the relative property name only (``:baz`` vs. ``foo:bar:baz``). Specifying the full property name before the pivot would be interpreted as an additional lift (i.e., ``<inet:dns:a> inet:dns:a:fqdn -> inet:fqdn`` would be interpreted as \"take a set of inet:dns:a records from an initial query, lift all inet:dns:a records with an :fqdn property (i.e., every inet:dns:a node in the Cortex), and then pivot to the associated inet:fqdn nodes\").\n",
    "\n",
    "See :ref:`storm-ref-syntax` for an explanation of the syntax format used below.\n",
    "\n",
    "See :ref:`storm-ref-type-specific` for details on special syntax or handling for specific data types.\n",
    "\n",
    ".. _pivot-out:\n",
    "\n",
    "Pivot Out Operator\n",
    "------------------\n",
    "\n",
    "The pivot out operator ( ``->`` ) is the primary Storm pivot operator. The pivot out operator pivots from a primary or secondary property value of the current set of nodes to a primary or secondary property value of another set of nodes. This operator is also referred to as the \"reference out\" operator as it is used to pivot to nodes that are **referenced by** the current node set.\n",
    "\n",
    "The pivot out operator is used to:\n",
    "\n",
    "- pivot from the primary property of the inbound set of nodes to the equivalent secondary property of another set of nodes,\n",
    "- pivot from a secondary property of the inbound set of nodes to the equivalent primary property of another set of nodes,\n",
    "- pivot from any / all secondary properties of the inbound set of nodes to the equivalent primary property of any / all nodes (“wildcard” pivot out), and\n",
    "- pivot from a secondary property of the inbound set of nodes to the equivalent secondary property of another set of nodes.\n",
    "\n",
    "`Pivot to Digraph (Edge) Nodes`_ and `Pivot Across Digraph (Edge) Nodes`_ are covered separately below.\n",
    "\n",
    "**Syntax:**\n",
    "\n",
    "*<query>* **->** *<form>* **:** *<prop>*\n",
    "\n",
    "*<query>* **:** *<prop>* **->** *<form>*\n",
    "\n",
    "*<query>* **-> ***\n",
    " \n",
    "*<query>* **:** *<prop>* **->** *<form>* **:** *<prop>*\n",
    "\n",
    "**Examples:**\n",
    "\n",
    "*Pivot from primary property (<form> = <valu>) to secondary property (<prop> = <pval>):*\n",
    "\n",
    "- Pivot from a set of domains to all of their subdomains regardless of depth:"
   ]
  },
  {
   "cell_type": "code",
   "execution_count": null,
   "metadata": {
    "hideCode": true,
    "hideOutput": true
   },
   "outputs": [],
   "source": [
    "q = '[inet:fqdn=hurr.derp.woot.com inet:fqdn=um.wut.woot.com inet:fqdn=vertex.link inet:ipv4=1.2.3.4 inet:ipv4=5.6.7.8]'\n",
    "podes = await core.eval(q, num=5, cmdr=True)"
   ]
  },
  {
   "cell_type": "code",
   "execution_count": null,
   "metadata": {
    "hideCode": true
   },
   "outputs": [],
   "source": [
    "# Use previous temp cortex, define and print test query\n",
    "q = '<inet:fqdn> '\n",
    "q1 = 'inet:fqdn=woot.com '\n",
    "q2 = '-> inet:fqdn:zone'\n",
    "print(q + q2)\n",
    "# Execute the query to test it and get the packed nodes (podes).\n",
    "podes = await core.eval(q1 + q2, num=5, cmdr=False)"
   ]
  },
  {
   "cell_type": "raw",
   "metadata": {},
   "source": [
    "- Pivot from a set of domains to their DNS A records:"
   ]
  },
  {
   "cell_type": "code",
   "execution_count": null,
   "metadata": {
    "hideCode": true,
    "hideOutput": true
   },
   "outputs": [],
   "source": [
    "# Make some DNS A records:\n",
    "q = '[inet:dns:a=(woot.com,1.2.3.4)]'\n",
    "q1 = '[inet:dns:a=(woot.com,5.6.7.8)]'\n",
    "q2 = '[inet:dns:a=(woot.com,8.8.8.8)]'\n",
    "# Run the query and test\n",
    "podes = await core.eval(q, num=1, cmdr=False)\n",
    "podes = await core.eval(q1, num=1, cmdr=False)\n",
    "podes = await core.eval(q2, num=1, cmdr=False)"
   ]
  },
  {
   "cell_type": "code",
   "execution_count": null,
   "metadata": {
    "hideCode": true
   },
   "outputs": [],
   "source": [
    "# Define and print test query\n",
    "q = '<inet:fqdn> '\n",
    "q1 = 'inet:fqdn=woot.com '\n",
    "q2 = '-> inet:dns:a:fqdn'\n",
    "print(q + q2)\n",
    "# Execute the query to test it and get the packed nodes (podes).\n",
    "podes = await core.eval(q1 + q2, num=3, cmdr=False)"
   ]
  },
  {
   "cell_type": "raw",
   "metadata": {},
   "source": [
    "*Pivot from secondary property (<prop> = <pval>) to primary property (<form> = <valu>):*\n",
    "\n",
    "- Pivot from a set of DNS A records to the resolution IP addresses contained in those records:"
   ]
  },
  {
   "cell_type": "code",
   "execution_count": null,
   "metadata": {
    "hideCode": true
   },
   "outputs": [],
   "source": [
    "# Define and print test query using previous data\n",
    "q = '<inet:dns:a> '\n",
    "q1 = 'inet:dns:a:fqdn=woot.com '\n",
    "q2 = ':ipv4 -> inet:ipv4'\n",
    "print(q + q2)\n",
    "# Execute the query to test it and get the packed nodes (podes).\n",
    "podes = await core.eval(q1 + q2, num=3, cmdr=False)"
   ]
  },
  {
   "cell_type": "raw",
   "metadata": {},
   "source": [
    "*Pivot from all secondary properties to all forms (<prop> = <pval> to <form> = <valu>):*\n",
    "\n",
    "- Pivot from a set of WHOIS records to all nodes whose primary property equals *any* of the secondary properties of the WHOIS record (the asterisk ``*`` is a wildcard that indicates pivot to **any** applicable node):"
   ]
  },
  {
   "cell_type": "code",
   "execution_count": null,
   "metadata": {
    "hideCode": true,
    "hideOutput": true
   },
   "outputs": [],
   "source": [
    "# Make some WHOIS records and related nodes:\n",
    "q = '[inet:whois:rec=(woot.com,2018/05/22) :registrant=\"woot hostmaster\" :registrar=\"markmonitor\"]'\n",
    "# Run the query and test\n",
    "podes = await core.eval(q, num=1, cmdr=True)"
   ]
  },
  {
   "cell_type": "code",
   "execution_count": null,
   "metadata": {
    "hideCode": true
   },
   "outputs": [],
   "source": [
    "# Define and print test query\n",
    "q = '<inet:whois:rec> '\n",
    "q1 = 'inet:whois:rec:fqdn=woot.com '\n",
    "q2 = '-> *'\n",
    "print(q + q2)\n",
    "# Execute the query to test it and get the packed nodes (podes).\n",
    "podes = await core.eval(q1 + q2, num=3, cmdr=False)"
   ]
  },
  {
   "cell_type": "raw",
   "metadata": {},
   "source": [
    "*Pivot from secondary property (<prop> = <pval>) to secondary property (<prop> = <pval>):*\n",
    "\n",
    "- Pivot from the WHOIS records for a set of domains to the DNS A records for the same domains:"
   ]
  },
  {
   "cell_type": "code",
   "execution_count": null,
   "metadata": {
    "hideCode": true
   },
   "outputs": [],
   "source": [
    "# Define and print test query using existing data\n",
    "q = '<inet:whois:rec> '\n",
    "q1 = 'inet:whois:rec:fqdn=woot.com '\n",
    "q2 = ':fqdn -> inet:dns:a:fqdn'\n",
    "print(q + q2)\n",
    "# Execute the query to test it and get the packed nodes (podes).\n",
    "podes = await core.eval(q1 + q2, num=3, cmdr=False)"
   ]
  },
  {
   "cell_type": "raw",
   "metadata": {},
   "source": [
    "**Usage Notes:**\n",
    "\n",
    "- Pivoting out using the asterisk wildcard ( ``*`` ) is sometimes called a **refs out** pivot because it pivots from **all** secondary properties of the inbound nodes to **all nodes referenced by** those properties. That is, for each inbound node, the \"refs out\" pivot will pivot from the node's **secondary properties** to all the nodes that have a **primary property** equal to that type and value.\n",
    "\n",
    "- Pivoting using the wildcard is based on strong data typing within the Synapse data model, so will only pivot out to properties that match both *<type>* and *<valu>* / *<pval>*. This means that the following nodes will **not** be returned by a wildcard pivot out:\n",
    "\n",
    "  - Nodes with matching *<valu>* / *<pval>* but of different *<type>*. For example, if a node’s secondary property is a string (type *<str>*) that happens to contain a valid domain (type *<inet:fqdn>*), a wildcard pivot out from the node with the string value will **not** return the ``inet:fqdn`` node.\n",
    "  - Digraph (edge) nodes, whose properties are of type *<ndef>* (node definition, or *<form>,<valu>* tuples). See `Pivot to Digraph (Edge) Nodes`_ and `Pivot Across Digraph (Edge) Nodes`_ for details on pivoting to / through those forms.\n",
    "\n",
    "- It is possible to perform an explicit pivot between properties of different types. For example: ``<inet:dns:query> :name -> inet:fqdn``\n",
    "\n",
    "- See :ref:`pivot-out-and-walk` for a more comprehensive alternative to the wildcard pivot out (``-> *``)."
   ]
  },
  {
   "cell_type": "raw",
   "metadata": {},
   "source": [
    ".. _pivot-in:\n",
    "\n",
    "Pivot In Operator\n",
    "-----------------\n",
    "\n",
    "The pivot in ( ``<-``) operator is similar to but separate from the pivot out ( ``->``) operator. Instead of pivoting to the set of nodes the current set references, the pivot in operator pivots to the set of nodes that references the current set of nodes.\n",
    "\n",
    "Logically, any pivot in operation can be expressed as an equivalent pivot out operation. For example, the following two pivots would be functionally equivalent:\n",
    "\n",
    "- Pivot out from a set of domains to the DNS A records referenced by the domains:\n",
    "\n",
    "  ``<inet:fqdn> -> inet:dns:a:fqdn``\n",
    "\n",
    "- Pivot in to a set of domains from the DNS A records that reference the domains:\n",
    "\n",
    "  ``<inet:fqdn> <- inet:dns:a:fqdn``\n",
    "\n",
    "Because of this equivalence, and because \"left to right\" logic is generally more intuitive, **only pivot out has been fully implemented in Storm.** (The second example, above, will actually return an error.) The pivot in operator exists, but is only used to simplify certain special case pivot operations:\n",
    "\n",
    "- pivot from any / all primary properties of the inbound set of nodes to the equivalent secondary property of any / all nodes (\"wildcard\" pivot in), and\n",
    "- reverse `Pivot to Digraph (Edge) Nodes`_ and reverse `Pivot Across Digraph (Edge) Nodes`_ (covered separately below).\n",
    "\n",
    "**Syntax:**\n",
    "\n",
    "*<query>* **<- ***\n",
    " \n",
    "**Example:**\n",
    "\n",
    "*Pivot from all primary properties to all nodes with an equivalent secondary property (<form> = <valu> to <prop> = <pval>):*\n",
    "\n",
    "- Pivot from a set of domains to all nodes with a secondary property that references the domains:"
   ]
  },
  {
   "cell_type": "code",
   "execution_count": null,
   "metadata": {
    "hideCode": true
   },
   "outputs": [],
   "source": [
    "# Define and print test query using existing data\n",
    "q = '<inet:fqdn> '\n",
    "q1 = 'inet:fqdn=woot.com '\n",
    "q2 = '<- *'\n",
    "print(q + q2)\n",
    "# Execute the query to test it and get the packed nodes (podes).\n",
    "podes = await core.eval(q1 + q2, num=11, cmdr=False)"
   ]
  },
  {
   "cell_type": "raw",
   "metadata": {},
   "source": [
    "**Usage Notes:**\n",
    "\n",
    "- Pivoting in using the asterisk wildcard ( ``*`` ) is sometimes called a **refs in** pivot because it pivots from the inbound nodes to **all nodes that reference** those nodes. That is, for each inbound node, the \"refs in\" pivot will pivot from the **primary property** of a node to all nodes that have a **secondary property** equal to that type and value.\n",
    "\n",
    "- Pivoting in using the wildcard will return an instance of a node for **each** matching secondary property. For example, where a node may have the same *<pval>* for two different secondary properties (such as ``:domain`` and ``:zone`` on an ``inet:fqdn`` node), the pivot in will return two copies of the node. Results can be de-duplicated using the Storm :ref:`storm-uniq` command.\n",
    "- Pivoting using the wildcard is based on strong data typing within the Synapse data model, so will only pivot in from properties that match both *<type>* and *<valu>* / *<pval>*. This means that the following nodes will **not** be returned by a wildcard pivot in:\n",
    "\n",
    "  - Nodes with matching *<valu>* / *<pval>* but of different *<type>*. For example, if a node’s primary property (such as a domain, type *<inet:fqdn>*) - happens to be referenced as as a different type (such as a string, type *<str>*) as a secondary property of another node, a wildcard pivot in to the ``inet:fqdn`` node will **not** return the node with the string value.\n",
    "  - Digraph (edge) nodes, whose properties are of type *<ndef>* (node definition, or *<form>,<valu>* tuples). See `Pivot to Digraph (Edge) Nodes`_ and `Pivot Across Digraph (Edge) Nodes`_ for details on pivoting to / through those forms.\n",
    "\n",
    "- Other than digraph (edge) node navigation / traversal, **pivot in can only be used with the wildcard** ( ``*`` ). That is, pivot in does not support specifying a particular target form:\n",
    "\n",
    "  ``inet:fqdn=woot.com <- inet:dns:a:fqdn``\n",
    "\n",
    "  The above query will return an error. A filter operation (see :ref:`storm-ref-filter`) can be used to downselect the results of a wildcard pivot in operation to a specific set of forms:\n",
    "  \n",
    "  ``inet:fqdn=woot.com <- * +inet:dns:a``\n",
    "\n",
    "- See :ref:`pivot-in-and-walk` for a more comprehensive alternative to the wildcard pivot in (``<- *``)."
   ]
  },
  {
   "cell_type": "raw",
   "metadata": {},
   "source": [
    ".. _pivot-join:\n",
    "\n",
    "Pivot With Join\n",
    "---------------\n",
    "\n",
    "The pivot and join operator ( ``-+>`` ) performs the specified pivot operation but joins the results with the inbound set of nodes. That is, the inbound nodes are retained and combined with the results of the pivot.\n",
    "\n",
    "Another way to look at the difference between a pivot and a join is that a pivot operation **consumes** nodes (the inbound set is discarded and only nodes resulting from the pivot operation are returned) but a pivot and join does **not** consume the inbound nodes.\n",
    "\n",
    "The pivot and join operator is used to:\n",
    "\n",
    "- retain the inbound nodes and pivot from the primary property of the inbound set of nodes to the equivalent secondary property of another set of nodes,\n",
    "- retain the inbound nodes and pivot from a secondary property of the inbound set of nodes to the equivalent primary property of another set of nodes,\n",
    "- retain the inbound nodes and pivot from any / all secondary properties of the inbound set of nodes to the equivalent primary property of any / all nodes (“wildcard” pivot out), and\n",
    "- retain the inbound nodes and pivot from a secondary property of the inbound set of nodes to the equivalent secondary property of another set of nodes.\n",
    "\n",
    "**Syntax:**\n",
    "\n",
    "*<query>* **-+>** *<form>* **:** *<prop>*\n",
    "\n",
    "*<query>* **:** *<prop>* **-+>** *<form>*\n",
    "\n",
    "*<query>* **-+> ***\n",
    " \n",
    "*<query>* **:** *<prop>* **-+>** *<form>* **:** *<prop>*\n",
    "\n",
    "**Examples:**\n",
    "\n",
    "*Pivot and join from primary property (<form> = <valu>) to secondary property (<prop> = <pval>):*\n",
    "\n",
    "- Return a set of domains and all of their immediate subdomains:"
   ]
  },
  {
   "cell_type": "code",
   "execution_count": null,
   "metadata": {
    "hideCode": true
   },
   "outputs": [],
   "source": [
    "# Use existing data\n",
    "# Define and print test query\n",
    "q = '<inet:fqdn> '\n",
    "q1 = 'inet:fqdn=woot.com '\n",
    "q2 = '-+> inet:fqdn:domain'\n",
    "print(q + q2)\n",
    "# Execute the query to test it and get the packed nodes (podes).\n",
    "podes = await core.eval(q1 + q2, num=3, cmdr=False)"
   ]
  },
  {
   "cell_type": "raw",
   "metadata": {},
   "source": [
    "*Pivot and join from secondary property (<prop> = <pval>) to primary property (<form> = <valu>):*\n",
    "\n",
    "- Return a set of DNS A records and their associated IP addresses:"
   ]
  },
  {
   "cell_type": "code",
   "execution_count": null,
   "metadata": {
    "hideCode": true
   },
   "outputs": [],
   "source": [
    "# Define and print test query using previous data\n",
    "q = '<inet:dns:a> '\n",
    "q1 = 'inet:dns:a:fqdn=woot.com '\n",
    "q2 = ':ipv4 -+> inet:ipv4'\n",
    "print(q + q2)\n",
    "# Execute the query to test it and get the packed nodes (podes).\n",
    "podes = await core.eval(q1 + q2, num=6, cmdr=False)"
   ]
  },
  {
   "cell_type": "raw",
   "metadata": {},
   "source": [
    "*Pivot and join from all secondary properties to all forms (<prop> = <pval> to <form> = <valu>):*\n",
    "\n",
    "- Return a set of WHOIS records and all nodes whose primary property equals any of the secondary properties of the WHOIS record (the asterisk ( ``*`` ) is a wildcard that indicates pivot to any applicable node):"
   ]
  },
  {
   "cell_type": "code",
   "execution_count": null,
   "metadata": {
    "hideCode": true
   },
   "outputs": [],
   "source": [
    "# Define and print test query\n",
    "q = '<inet:whois:rec> '\n",
    "q1 = 'inet:whois:rec:fqdn=woot.com '\n",
    "q2 = '-+> *'\n",
    "print(q + q2)\n",
    "# Execute the query to test it and get the packed nodes (podes).\n",
    "podes = await core.eval(q1 + q2, num=4, cmdr=False)"
   ]
  },
  {
   "cell_type": "raw",
   "metadata": {},
   "source": [
    "*Pivot and join from secondary property (<prop> = <pval>) to secondary property (<prop> = <pval>):*\n",
    "\n",
    "- Return the WHOIS records for a set of domains and the DNS A records for the same domains:"
   ]
  },
  {
   "cell_type": "code",
   "execution_count": null,
   "metadata": {
    "hideCode": true
   },
   "outputs": [],
   "source": [
    "# Define and print test query using existing data\n",
    "q = '<inet:whois:rec> '\n",
    "q1 = 'inet:whois:rec:fqdn=woot.com '\n",
    "q2 = ':fqdn -+> inet:dns:a:fqdn'\n",
    "print(q + q2)\n",
    "# Execute the query to test it and get the packed nodes (podes).\n",
    "podes = await core.eval(q1 + q2, num=4, cmdr=False)"
   ]
  },
  {
   "cell_type": "raw",
   "metadata": {},
   "source": [
    "**Usage Notes:**\n",
    "\n",
    "- A pivot and join using the wildcard ( ``*`` ) will pivot to all nodes whose primary property (*<form> = <valu>*) matches a secondary property (*<prop> = <pval>*) of the inbound nodes. This **excludes** digraph nodes (such as ``edge:refs`` or ``edge:has`` nodes) because their primary property is a pair of ``ndefs`` (node definitions, or *<form>, <valu>* tuples).\n"
   ]
  },
  {
   "cell_type": "raw",
   "metadata": {},
   "source": [
    ".. _walk-light-edge:\n",
    "\n",
    "Traverse (Walk) Light Edges\n",
    "---------------------------\n",
    "\n",
    "The traverse (walk) light edges operator ( ``-(<verb>)>``, ``<(<verb>)-`` ) is used to traverse from a set of inbound nodes to the set of nodes they are linked to by the specified light edge(s). Because a light edge is not a node, the navigation is technically a \"traversal\" of the light edge as opposed to a property-to-property pivot. (Contrast with :ref:`pivot-to-edge` and :ref:`pivot-across-edge` below.)\n",
    "\n",
    "**Syntax:**\n",
    "\n",
    "*<query>* **-(** *<verb>* **)>** ***** | *<form>*\n",
    "\n",
    "*<query>* **-( (** *<verb1>* **,** *<verb2>*  [ **,** *<verb3>* ...] **) )>** ***** | *<form>*\n",
    "\n",
    "*<query>* **-(** ***** **)>** ***** | *<form>*\n",
    "\n",
    "*<query>* **<(** *<verb>* **)-** ***** | *<form>*\n",
    "\n",
    "*<query>* **<( (** *<verb1>* **,** *<verb2>*  [ **,** *<verb3>* ...] **) )-** ***** | *<form>*\n",
    "\n",
    "*<query>* **<(** ***** **)-** ***** | *<form>*\n",
    "\n",
    "**Examples:**\n",
    "\n",
    "*Traverse the \"refs\" light edge from a media:news node to all of the FQDNs \"referenced\" by the node:*"
   ]
  },
  {
   "cell_type": "code",
   "execution_count": null,
   "metadata": {
    "hideCode": true
   },
   "outputs": [],
   "source": [
    "# Make some nodes and light edges\n",
    "q = '[media:news=(d41d8cd98f00b204e9800998ecf8427e,) inet:fqdn=vertex.link inet:ipv4=58.158.177.98]'\n",
    "q1 = 'inet:fqdn=vertex.link inet:ipv4=58.158.177.98 [ <(refs)+ { media:news=a3759709982377809f28fc0555a38193 }]'\n",
    "# Run the query and test\n",
    "podes = await core.eval(q, num=3, cmdr=False)\n",
    "podes = await core.eval(q1, num=2, cmdr=False)"
   ]
  },
  {
   "cell_type": "code",
   "execution_count": null,
   "metadata": {
    "hideCode": true
   },
   "outputs": [],
   "source": [
    "# Define and print test query\n",
    "q = '<media:news> '\n",
    "q1 = 'media:news=a3759709982377809f28fc0555a38193 '\n",
    "q2 = '-(refs)> inet:fqdn'\n",
    "print(q + q2)\n",
    "# Execute the query to test it and get the packed nodes (podes).\n",
    "podes = await core.eval(q1 + q2, num=1, cmdr=False)"
   ]
  },
  {
   "cell_type": "raw",
   "metadata": {},
   "source": [
    "*Traverse the \"refs\" light edge from a media:news node to all of the nodes \"referenced\" by the node:*"
   ]
  },
  {
   "cell_type": "code",
   "execution_count": null,
   "metadata": {
    "hideCode": true
   },
   "outputs": [],
   "source": [
    "# Define and print test query\n",
    "q = '<media:news> '\n",
    "q1 = 'media:news=a3759709982377809f28fc0555a38193 '\n",
    "q2 = '-(refs)> *'\n",
    "print(q + q2)\n",
    "# Execute the query to test it and get the packed nodes (podes).\n",
    "podes = await core.eval(q1 + q2, num=2, cmdr=False)"
   ]
  },
  {
   "cell_type": "raw",
   "metadata": {},
   "source": [
    "*Traverse the \"hasip\" light edge from an inet:ipv4 to the CIDR block(s) the IP is part of:*"
   ]
  },
  {
   "cell_type": "code",
   "execution_count": null,
   "metadata": {
    "hideCode": true
   },
   "outputs": [],
   "source": [
    "# Make some nodes and light edges\n",
    "q = '[inet:cidr4=123.112.0.0/12 inet:ipv4=123.120.96.214]'\n",
    "q1 = 'inet:cidr4=123.112.0.0/12 [ +(hasip)> { inet:ipv4=123.120.96.214 } ]'\n",
    "# Run the query and test\n",
    "podes = await core.eval(q, num=2, cmdr=False)\n",
    "podes = await core.eval(q1, num=1, cmdr=False)"
   ]
  },
  {
   "cell_type": "code",
   "execution_count": null,
   "metadata": {
    "hideCode": true
   },
   "outputs": [],
   "source": [
    "# Define and print test query\n",
    "q = '<inet:ipv4> '\n",
    "q1 = 'inet:ipv4=123.120.96.214 '\n",
    "q2 = '<(hasip)- inet:cidr4'\n",
    "print(q + q2)\n",
    "# Execute the query to test it and get the packed nodes (podes).\n",
    "podes = await core.eval(q1 + q2, num=1, cmdr=False)"
   ]
  },
  {
   "cell_type": "raw",
   "metadata": {},
   "source": [
    "*Traverse the \"hasip\" and \"ipwhois\" light edges from an inet:ipv4 to any nodes linked via those light edges (i.e., typically the CIDR block(s) the IP is part of and the netblock registration record(s) for the IP):*"
   ]
  },
  {
   "cell_type": "code",
   "execution_count": null,
   "metadata": {
    "hideCode": true
   },
   "outputs": [],
   "source": [
    "# Define and print test query\n",
    "q = '<inet:ipv4> '\n",
    "q1 = 'inet:ipv4=123.120.96.214 '\n",
    "q2 = '<((hasip, ipwhois))- *'\n",
    "print(q + q2)\n",
    "# Execute the query to test it and get the packed nodes (podes).\n",
    "podes = await core.eval(q1 + q2, num=1, cmdr=False)"
   ]
  },
  {
   "cell_type": "raw",
   "metadata": {},
   "source": [
    "*Traverse any / all light edges from a media:news node to all nodes referenced by those light edges:*"
   ]
  },
  {
   "cell_type": "code",
   "execution_count": null,
   "metadata": {
    "hideCode": true
   },
   "outputs": [],
   "source": [
    "# Define and print test query\n",
    "q = '<media:news> '\n",
    "q1 = 'media:news=a3759709982377809f28fc0555a38193 '\n",
    "q2 = '-(*)> *'\n",
    "print(q + q2)\n",
    "# Execute the query to test it and get the packed nodes (podes).\n",
    "podes = await core.eval(q1 + q2, num=2, cmdr=False)"
   ]
  },
  {
   "cell_type": "raw",
   "metadata": {},
   "source": [
    "**Usage Notes:**\n",
    "\n",
    "- The traversal syntax allows specification of a single verb, a list of verbs, or the \"wildcard\" / asterisk ( ``*`` ) to reference any / all light edge verbs that may be present.\n",
    "- The Storm :ref:`storm-model`  commands can be used to list and work with any light edge verbs in a Cortex."
   ]
  },
  {
   "cell_type": "raw",
   "metadata": {},
   "source": [
    ".. _pivot-out-and-walk:\n",
    "\n",
    "Pivot Out and Walk\n",
    "------------------\n",
    "\n",
    "The pivot out and walk (traverse) light edges operator ( ``-->`` ) combines a wildcard pivot out (\"refs out\") operation ( ``-> *`` ) with a wildcard walk light edges operation ( ``-(*)>`` ).\n",
    "\n",
    "**Syntax:**\n",
    "\n",
    "*<query>* **----> ***\n",
    "\n",
    "**Examples:**\n",
    "\n",
    "*Pivot from an IP netblock registration record to all nodes referenced by the record's secondary properties and all nodes linked to the record by light edges:*"
   ]
  },
  {
   "cell_type": "code",
   "execution_count": null,
   "metadata": {
    "hideCode": true
   },
   "outputs": [],
   "source": [
    "# Make some nodes and light edges\n",
    "q = '[inet:whois:iprec=(d41d8cd98f00b204e9800998ecf8427e,) :id=\"123.112.0.0-123.127.255.255\" :net4=(123.112.0.0,123.127.255.255)]'\n",
    "q1 = 'inet:whois:iprec=a3759709982377809f28fc0555a38193 [ <(ipwhois)- { inet:ipv4=123.120.96.214 } ]'\n",
    "# Run the query and test\n",
    "podes = await core.eval(q, num=1, cmdr=False)\n",
    "podes = await core.eval(q1, num=1, cmdr=False)"
   ]
  },
  {
   "cell_type": "code",
   "execution_count": null,
   "metadata": {
    "hideCode": true
   },
   "outputs": [],
   "source": [
    "# Define and print test query\n",
    "q = '<inet:whois:iprec> '\n",
    "q1 = 'inet:whois:iprec=a3759709982377809f28fc0555a38193 '\n",
    "q2 = '--> *'\n",
    "print(q + q2)\n",
    "# Execute the query to test it and get the packed nodes (podes).\n",
    "podes = await core.eval(q1 + q2, num=3, cmdr=False)"
   ]
  },
  {
   "cell_type": "raw",
   "metadata": {},
   "source": [
    "**Usage Notes:**\n",
    "\n",
    "- The pivot out and walk operator can only be used with a wildcard ( ``*`` ); it is not possible to specify a particular form as the target of the pivot. A filter operation can be used to refine the results of the pivot and walk operation if necessary.\n",
    "\n",
    "- The pivot and walk operators (pivot out and walk / pivot in and walk) are useful for \"exploring\" data in a Cortex as they will return all the nodes \"next to\" the working set of nodes without requiring the user to have specific knowledge of the data model."
   ]
  },
  {
   "cell_type": "raw",
   "metadata": {},
   "source": [
    ".. _pivot-in-and-walk:\n",
    "\n",
    "Pivot In and Walk\n",
    "------------------\n",
    "\n",
    "The pivot in and walk (traverse) light edges operator ( ``<--`` ) combines a wildcard pivot in (\"refs in\") operation ( ``<- *`` ) with a wildcard walk light edges operation ( ``<(*)-`` ).\n",
    "\n",
    "**Syntax:**\n",
    "\n",
    "*<query>* **<---- ***\n",
    "\n",
    "**Examples:**\n",
    "\n",
    "*Pivot from a set of IP addresses to all nodes that reference the IPs and all nodes linked to the IPs by light edges:*"
   ]
  },
  {
   "cell_type": "code",
   "execution_count": null,
   "metadata": {
    "hideCode": true
   },
   "outputs": [],
   "source": [
    "# Make some nodes and light edges\n",
    "q = '[media:news=(d41d8cd98f00b204e9800998ecf8427e,)]'\n",
    "q1 = 'media:news=a3759709982377809f28fc0555a38193 [ +(refs)> { [ inet:ipv4=108.179.206.113 ] } ]'\n",
    "q2 = '[inet:dns:a=(woot.com,108.179.206.113) inet:server=tcp://108.179.206.113]'\n",
    "# Run the query and test\n",
    "podes = await core.eval(q, num=1, cmdr=False)\n",
    "podes = await core.eval(q1, num=1, cmdr=False)\n",
    "podes = await core.eval(q2, num=2, cmdr=False)"
   ]
  },
  {
   "cell_type": "code",
   "execution_count": null,
   "metadata": {
    "hideCode": true
   },
   "outputs": [],
   "source": [
    "# Define and print test query\n",
    "q = '<inet:ipv4> '\n",
    "q1 = 'inet:ipv4=108.179.206.113 '\n",
    "q2 = '<-- *'\n",
    "print(q + q2)\n",
    "# Execute the query to test it and get the packed nodes (podes).\n",
    "podes = await core.eval(q1 + q2, num=3, cmdr=False)"
   ]
  },
  {
   "cell_type": "raw",
   "metadata": {},
   "source": [
    "**Usage Notes:**\n",
    "\n",
    "- The pivot in and walk operator can only be used with a wildcard ( ``*`` ); it is not possible to specify a particular form as the target of the pivot. A filter operation can be used to refine the results of the pivot and walk operation if necessary.\n",
    "\n",
    "- The pivot and walk operators (pivot out and walk / pivot in and walk) are useful for \"exploring\" data in a Cortex as they will return all the nodes \"next to\" the working set of nodes without requiring the user to have specific knowledge of the data model."
   ]
  },
  {
   "cell_type": "raw",
   "metadata": {},
   "source": [
    ".. _pivot-to-edge:\n",
    "\n",
    "Pivot to Digraph (Edge) Nodes\n",
    "-----------------------------\n",
    "\n",
    "Digraph (edge) nodes (:ref:`form-edge`) are of type ``edge`` or ``timeedge``. These nodes (forms) are unique in that their primary property value is a pair of **node definitions** (type :ref:`gloss-ndef`) - that is, *<form>, <valu>* tuples. (``timeedge`` forms are comprised of two *<form>, <valu>* tuples and an additional *<time>* value). Each  *<form>, <valu>* tuple from the primary property is broken out as secondary property ``:n1`` or ``:n2``. This means that pivoting to and from digraph nodes is a bit different than pivoting to and from nodes whose properties are a simple *<valu>* or *<pval>*.\n",
    "\n",
    "**Syntax:**\n",
    "\n",
    "*<query>* **->** *<edge>* | *<timeedge>* [**:n2**]\n",
    "\n",
    "*<query>* **-+>** *<edge>* | *<timeedge>* [**:n2**]\n",
    "\n",
    "*<query>* **<-** *<edge>* | *<timeedge>*\n",
    "\n",
    "**Examples:**\n",
    "\n",
    "*Pivot out from a set of nodes whose ndefs (<form>, <valu>) are the first element (:n1) in a set of a digraph nodes:*\n",
    "\n",
    "- Pivot out from a person node to the set of digraph nodes representing things that person “has”:\n"
   ]
  },
  {
   "cell_type": "code",
   "execution_count": null,
   "metadata": {
    "hideCode": true,
    "hideOutput": true
   },
   "outputs": [],
   "source": [
    "# Make some nodes:\n",
    "q = '[ps:person=\"26786e8fb9b9e7050d0b8b4e38e1d431\" :name=\"John Doe\"]'\n",
    "q1 = '[inet:email=john.doe@gmail.com]'\n",
    "q2 = '[mat:item=\"32d0bea68c5e9ec82b8f0fc867ccacda\" :name=\"John Doe\\'s dog\"]'\n",
    "q3 = '[edge:has=((ps:person, 26786e8fb9b9e7050d0b8b4e38e1d431), (inet:email,john.doe@gmail.com))]'\n",
    "q4 = '[edge:has=((ps:person, 26786e8fb9b9e7050d0b8b4e38e1d431), (mat:item, 32d0bea68c5e9ec82b8f0fc867ccacda))]'\n",
    "# Run the query and test\n",
    "podes = await core.eval(q, num=1, cmdr=True)\n",
    "podes = await core.eval(q1, num=1, cmdr=True)\n",
    "podes = await core.eval(q2, num=1, cmdr=True)\n",
    "podes = await core.eval(q3, num=1, cmdr=True)\n",
    "podes = await core.eval(q4, num=1, cmdr=True)"
   ]
  },
  {
   "cell_type": "code",
   "execution_count": null,
   "metadata": {
    "hideCode": true
   },
   "outputs": [],
   "source": [
    "# Define and print test query\n",
    "q = '<ps:person> '\n",
    "q1 = 'ps:person=26786e8fb9b9e7050d0b8b4e38e1d431 '\n",
    "q2 = '-> edge:has'\n",
    "print(q + q2)\n",
    "# Execute the query to test it and get the packed nodes (podes).\n",
    "podes = await core.eval(q1 + q2, num=2, cmdr=False)"
   ]
  },
  {
   "cell_type": "raw",
   "metadata": {},
   "source": [
    "- Pivot out from a person node to the set of ``timeedge`` digraph nodes representing places that person has been to (and when):"
   ]
  },
  {
   "cell_type": "code",
   "execution_count": null,
   "metadata": {
    "hideCode": true,
    "hideOutput": true
   },
   "outputs": [],
   "source": [
    "# Make some nodes:\n",
    "q = '[geo:place=5859abb1ba6e4a418bf31dfe2fc3c08a :name=\"test place\" :latlong=(37.4168957,-121.9218271)]'\n",
    "q1 = '[edge:wentto=((ps:person, bb2a3e42ef3fc0d2b2a4e6145396cb65), (geo:place, 5859abb1ba6e4a418bf31dfe2fc3c08a), \"2018/12/15 08:35:00\")]'\n",
    "q2 = '[edge:wentto=((ps:person, bb9d1c4270ccd9076ea30f0bb2491bbd), (geo:place, 5859abb1ba6e4a418bf31dfe2fc3c08a), \"2017/06/30 14:27:43\")]'\n",
    "# Run the query and test\n",
    "podes = await core.eval(q, num=1, cmdr=False)\n",
    "podes = await core.eval(q1, num=1, cmdr=False)\n",
    "podes = await core.eval(q2, num=1, cmdr=False)"
   ]
  },
  {
   "cell_type": "code",
   "execution_count": null,
   "metadata": {
    "hideCode": true
   },
   "outputs": [],
   "source": [
    "# Define and print test query\n",
    "q = '<ps:person> '\n",
    "q1 = 'ps:person '\n",
    "q2 = '-> edge:wentto'\n",
    "print(q + q2)\n",
    "# Execute the query to test it and get the packed nodes (podes).\n",
    "podes = await core.eval(q1 + q2, num=2, cmdr=False)"
   ]
  },
  {
   "cell_type": "raw",
   "metadata": {},
   "source": [
    "*Pivot in from a set of nodes whose ndefs (<form>, <valu>) are the second element (:n2) in a set of a digraph nodes:*\n",
    "\n",
    "- Pivot in from an article to the set of digraph nodes representing things that “have” the article (e.g., people or organizations who authored the article):"
   ]
  },
  {
   "cell_type": "code",
   "execution_count": null,
   "metadata": {
    "hideCode": true,
    "hideOutput": true
   },
   "outputs": [],
   "source": [
    "# Make some nodes:\n",
    "q = '[ps:person=bb2a3e42ef3fc0d2b2a4e6145396cb65 :name=Alice]'\n",
    "q1 = '[ps:person=bb9d1c4270ccd9076ea30f0bb2491bbd :name=Bob]'\n",
    "q2 = '[edge:has=((ps:person, bb2a3e42ef3fc0d2b2a4e6145396cb65), (media:news, 2aa767aebe9d0172601cef3c5867abea))]'\n",
    "q3 = '[edge:has=((ps:person, bb9d1c4270ccd9076ea30f0bb2491bbd), (media:news, 2aa767aebe9d0172601cef3c5867abea))]'\n",
    "# Run the query and test\n",
    "podes = await core.eval(q, num=1, cmdr=False)\n",
    "podes = await core.eval(q1, num=1, cmdr=False)\n",
    "podes = await core.eval(q2, num=1, cmdr=False)\n",
    "podes = await core.eval(q3, num=1, cmdr=False)"
   ]
  },
  {
   "cell_type": "code",
   "execution_count": null,
   "metadata": {
    "hideCode": true
   },
   "outputs": [],
   "source": [
    "# Define and print test query\n",
    "q = '<media:news> '\n",
    "q1 = 'media:news=2aa767aebe9d0172601cef3c5867abea '\n",
    "q2 = '<- edge:has'\n",
    "print(q + q2)\n",
    "# Execute the query to test it and get the packed nodes (podes).\n",
    "podes = await core.eval(q1 + q2, num=2, cmdr=False)"
   ]
  },
  {
   "cell_type": "raw",
   "metadata": {},
   "source": [
    "**Usage Notes:**\n",
    "- The pivot out and pivot in operators have been optimized for digraph nodes. Because digraphs use ``ndef`` properties, Storm makes the following assumptions:\n",
    "\n",
    "  - When pivoting to or from a set of nodes to a set of digraph nodes, pivot using the ``ndef`` (*<form>,<valu>*) of the inbound nodes and not their primary property (*<valu>*) alone.\n",
    "  - When pivoting **out** to a digraph node, the inbound nodes’ *<form>,<valu>* ``ndef`` will be the **first** element (``:n1``) of the digraph. You must explicitly specify ``:n2`` to pivot to the second element.\n",
    "  - When pivoting **in** to a digraph node, the inbound nodes’ *<form>,<valu>* ``ndef`` will be the **second** element (``:n2``) of the digraph. It is not possible to pivot in to ``:n1``.\n",
    "\n",
    "- Pivoting to / from digraph nodes is one of the specialized use cases for the pivot in ( ``<-``) operator, however the primary use case of pivot in with digraph nodes is reverse edge traversal (see `Pivot Across Digraph (Edge) Nodes`_). See `Pivot In Operator`_ for general limitations of the pivot in operator.\n",
    "\n"
   ]
  },
  {
   "cell_type": "raw",
   "metadata": {},
   "source": [
    ".. _pivot-across-edge:\n",
    "\n",
    "Pivot Across Digraph (Edge) Nodes\n",
    "---------------------------------\n",
    "\n",
    "Because digraph nodes represent generic edge relationships, analytically we are often more interested in the nodes on \"either side\" of the edge than in the digraph node itself. For this reason, the pivot operators have been optimized to allow a syntax for easily navigating \"across\" these digraphs (edges).\n",
    "\n",
    "**Syntax:**\n",
    "\n",
    "*<query>* **->** *<edge>* | *<timeedge>* **->** ***** | *<form>*\n",
    "\n",
    "*<query>* **<-** *<edge>* | *<timeedge>* **<-** ***** | *<form>*\n",
    "\n",
    "**Examples:**\n",
    "\n",
    "- Traverse a set of ``edge:has`` nodes to pivot from a person to all the things the person \"has\":"
   ]
  },
  {
   "cell_type": "code",
   "execution_count": null,
   "metadata": {
    "hideCode": true
   },
   "outputs": [],
   "source": [
    "# Define and print test query using existing data\n",
    "q = '<ps:person> '\n",
    "q1 = 'ps:person=26786e8fb9b9e7050d0b8b4e38e1d431 '\n",
    "q2 = '-> edge:has -> *'\n",
    "print(q + q2)\n",
    "# Execute the query to test it and get the packed nodes (podes).\n",
    "podes = await core.eval(q1 + q2, num=2, cmdr=False)"
   ]
  },
  {
   "cell_type": "raw",
   "metadata": {},
   "source": [
    "- Traverse a set of ``edge:wentto`` nodes to pivot from a person to the locations the person has visited:"
   ]
  },
  {
   "cell_type": "code",
   "execution_count": null,
   "metadata": {
    "hideCode": true
   },
   "outputs": [],
   "source": [
    "# Define and print test query using existing data\n",
    "q = '<ps:person> '\n",
    "q1 = 'ps:person=bb2a3e42ef3fc0d2b2a4e6145396cb65 '\n",
    "q2 = '-> edge:wentto -> *'\n",
    "print(q + q2)\n",
    "# Execute the query to test it and get the packed nodes (podes).\n",
    "podes = await core.eval(q1 + q2, num=1, cmdr=False)"
   ]
  },
  {
   "cell_type": "raw",
   "metadata": {},
   "source": [
    "**Usage Notes:**\n",
    "\n",
    "- Storm makes the following assumptions to optimize the two pivots:\n",
    "\n",
    "  - For pivots out, the first pivot is to the digraph nodes’ ``:n1`` property and the second pivot is from the digraph nodes’ ``:n2`` property.\n",
    "  - For pivots in, the first pivot is to the digraph nodes’ ``:n2`` property and the second pivot is from the digraph nodes’ ``:n1`` property.\n",
    "\n",
    "- Pivoting \"across\" the digraph nodes still performs two pivot operations (i.e., to the digraph nodes and then from them). As such it is still possible to apply an optional filter to the digraph nodes themselves before the second pivot."
   ]
  },
  {
   "cell_type": "raw",
   "metadata": {},
   "source": [
    ".. _pivot-to-tags:\n",
    "\n",
    "Pivot to Tags\n",
    "-------------\n",
    "\n",
    "Pivot to tags syntax allows you to pivot from a set of nodes to the set of ``syn:tag`` nodes for the tags applied to those nodes. This includes:\n",
    "\n",
    "- pivot to all leaf tag nodes,\n",
    "- pivot to all tag nodes,\n",
    "- pivot to all tag nodes matching a specified prefix, and\n",
    "- pivot to tag nodes matching an exact tag.\n",
    "\n",
    "See the Synapse background documents <link> for additional discussion of tags and ``syn:tag`` nodes.\n",
    "\n",
    "**Syntax:**\n",
    "\n",
    "*<query>* **-> #** [ ***** | **#** *<tag>* **.*** | **#** *<tag>* ]\n",
    "\n",
    "**Examples:**\n",
    "\n",
    "*Pivot to all leaf tag nodes:*\n",
    "\n",
    "- Pivot from a set of domains to the ``syn:tag`` nodes for all leaf tags applied to those domains:"
   ]
  },
  {
   "cell_type": "code",
   "execution_count": null,
   "metadata": {
    "hideCode": true,
    "hideOutput": true
   },
   "outputs": [],
   "source": [
    "# Make some tagged nodes:\n",
    "q = '[inet:fqdn=aoldaily.com +#aka.feye.thr.apt1 +#cno.infra.sink.hole.kleissner +#cno.infra.sink.hole.snk4 +#cno.ttp.se.masq.aol]'\n",
    "# Run the query and test\n",
    "podes = await core.eval(q, num=1, cmdr=True)"
   ]
  },
  {
   "cell_type": "code",
   "execution_count": null,
   "metadata": {
    "hideCode": true
   },
   "outputs": [],
   "source": [
    "# Define and print test query using existing data\n",
    "q = '<inet:fqdn> '\n",
    "q1 = 'inet:fqdn=aoldaily.com '\n",
    "q2 = '-> #'\n",
    "print(q + q2)\n",
    "# Execute the query to test it and get the packed nodes (podes).\n",
    "podes = await core.eval(q1 + q2, num=4, cmdr=False)"
   ]
  },
  {
   "cell_type": "raw",
   "metadata": {},
   "source": [
    "*Pivot to ALL tag nodes:*\n",
    "\n",
    "- Pivot from a set of files to the ``syn:tag`` nodes for **all** tags applied to those files:"
   ]
  },
  {
   "cell_type": "code",
   "execution_count": null,
   "metadata": {
    "hideCode": true,
    "hideOutput": true
   },
   "outputs": [],
   "source": [
    "# Make some tagged nodes:\n",
    "q = '[file:bytes=sha256:ce82f2b530f028644c8c7238c065eb88e4af153598447179aa784482efba454e +#aka.feye.mal.greencat +#aka.feye.thr.apt1 +#rep.vt.armadillo +#rep.vt.pedll]'\n",
    "# Run the query and test\n",
    "podes = await core.eval(q, num=1, cmdr=True)"
   ]
  },
  {
   "cell_type": "code",
   "execution_count": null,
   "metadata": {
    "hideCode": true
   },
   "outputs": [],
   "source": [
    "# Define and print test query using existing data\n",
    "q = '<file:bytes> '\n",
    "q1 = 'file:bytes=sha256:ce82f2b530f028644c8c7238c065eb88e4af153598447179aa784482efba454e '\n",
    "q2 = '-> #*'\n",
    "print(q + q2)\n",
    "# Execute the query to test it and get the packed nodes (podes).\n",
    "podes = await core.eval(q1 + q2, num=10, cmdr=False)"
   ]
  },
  {
   "cell_type": "raw",
   "metadata": {},
   "source": [
    "*Pivot to all tag nodes matching the specified prefix:*\n",
    "\n",
    "- Pivot from a set of IP addresses to the ``syn:tag`` nodes for all tags applied to those IPs that are part of the anonymized infrastructure tag tree:"
   ]
  },
  {
   "cell_type": "code",
   "execution_count": null,
   "metadata": {
    "hideCode": true,
    "hideOutput": true
   },
   "outputs": [],
   "source": [
    "# Make some tagged nodes:\n",
    "q = '[inet:ipv4=95.211.138.7 +#cno.infra.anon.tor +#cno.infra.anon.vpn.airvpn]'\n",
    "# Run the query and test\n",
    "podes = await core.eval(q, num=1, cmdr=True)"
   ]
  },
  {
   "cell_type": "code",
   "execution_count": null,
   "metadata": {
    "hideCode": true
   },
   "outputs": [],
   "source": [
    "# Define and print test query using existing data\n",
    "q = '<inet:ipv4> '\n",
    "q1 = 'inet:ipv4=95.211.138.7 '\n",
    "q2 = '-> #cno.infra.anon.*'\n",
    "print(q + q2)\n",
    "# Execute the query to test it and get the packed nodes (podes).\n",
    "podes = await core.eval(q1 + q2, num=3, cmdr=False)"
   ]
  },
  {
   "cell_type": "raw",
   "metadata": {},
   "source": [
    "*Pivot to tag nodes exactly matching the specified tag:*\n",
    "\n",
    "- Pivot from a set of nodes to the ``syn:tag`` node for ``#foo.bar`` (if present on the inbound set of nodes):"
   ]
  },
  {
   "cell_type": "code",
   "execution_count": null,
   "metadata": {
    "hideCode": true,
    "hideOutput": true
   },
   "outputs": [],
   "source": [
    "# Make some tagged nodes:\n",
    "q = '[inet:fqdn=woot.com +#foo.bar]'\n",
    "# Run the query and test\n",
    "podes = await core.eval(q, num=1, cmdr=True)"
   ]
  },
  {
   "cell_type": "code",
   "execution_count": null,
   "metadata": {
    "hideCode": true
   },
   "outputs": [],
   "source": [
    "# Define and print test query using existing data\n",
    "q = '<query> '\n",
    "q1 = 'inet:fqdn=woot.com '\n",
    "q2 = '-> #foo.bar'\n",
    "print(q + q2)\n",
    "# Execute the query to test it and get the packed nodes (podes).\n",
    "podes = await core.eval(q1 + q2, num=1, cmdr=False)"
   ]
  },
  {
   "cell_type": "raw",
   "metadata": {},
   "source": [
    "**Usage Notes:**\n",
    "\n",
    "- Pivot to all tags ( ``#*`` ) and pivot by prefix matching ( ``#<tag>.*`` ) will match **all** tags in the relevant tag trees from the inbound nodes, not just the leaf tags. For example, for an inbound node with tag ``#foo.bar.baz``, ``#*`` will return the ``syn:tag`` nodes for ``foo``, ``foo.bar``, and ``foo.bar.baz``.\n"
   ]
  },
  {
   "cell_type": "raw",
   "metadata": {},
   "source": [
    ".. _pivot-from-tags:\n",
    "\n",
    "Pivot from Tags\n",
    "---------------\n",
    "\n",
    "Pivot from tags syntax allows you to pivot from a set of ``syn:tag`` nodes to the set of nodes that have those tags.\n",
    "\n",
    "**Syntax:**\n",
    "\n",
    "*<syn:tag>* **->** ***** | *<form>*\n",
    "\n",
    "**Examples:**\n",
    "\n",
    "- Pivot to all domains tagged with tags from any of the inbound ``syn:tag`` nodes:\n"
   ]
  },
  {
   "cell_type": "code",
   "execution_count": null,
   "metadata": {
    "hideCode": true
   },
   "outputs": [],
   "source": [
    "# Define and print test query using existing data\n",
    "q = '<syn:tag> '\n",
    "q1 = 'syn:tag=aka.feye.thr.apt1 '\n",
    "q2 = '-> inet:fqdn'\n",
    "print(q + q2)\n",
    "# Execute the query to test it and get the packed nodes (podes).\n",
    "podes = await core.eval(q1 + q2, num=1, cmdr=False)"
   ]
  },
  {
   "cell_type": "raw",
   "metadata": {},
   "source": [
    "- Pivot to **all** nodes tagged with tags from any of the inbound ``syn:tag`` nodes:"
   ]
  },
  {
   "cell_type": "code",
   "execution_count": null,
   "metadata": {
    "hideCode": true
   },
   "outputs": [],
   "source": [
    "# Define and print test query using existing data\n",
    "q = '<syn:tag> '\n",
    "q1 = 'syn:tag=aka.feye.thr.apt1 syn:tag=cno.infra.anon '\n",
    "q2 = '-> *'\n",
    "print(q + q2)\n",
    "# Execute the query to test it and get the packed nodes (podes).\n",
    "podes = await core.eval(q1 + q2, num=3, cmdr=False)"
   ]
  },
  {
   "cell_type": "raw",
   "metadata": {},
   "source": [
    "**Usage Notes:**\n",
    "\n",
    "- In many cases, pivot from tags is functionally equivalent to :ref:`lift-tag`. That is, the following queries will both return all nodes tagged with ``#aka.feye.thr.apt1``:\n",
    "\n",
    "  ``syn:tag=aka.feye.thr.apt1 -> *``\n",
    "  \n",
    "  ``#aka.feye.thr.apt1``\n",
    "  \n",
    "  Pivoting from tags is most useful when used in conjunction with `Pivot to Tags`_ - that is, taking a set of inbound nodes, pivoting to the ``syn:tag`` nodes for any associated tags (pivot to tags), and then pivoting out again to other nodes tagged with some or all of those tags (pivot from tags).\n",
    "\n"
   ]
  },
  {
   "cell_type": "raw",
   "metadata": {},
   "source": [
    ".. _implicit-pivot-syntax:\n",
    "\n",
    "Implicit Pivot Syntax\n",
    "---------------------\n",
    "\n",
    "If the target or source property of a pivot is readily apparent - that is, given the inbound and target forms, only one set of properties makes sense for that pivot - the properties do not have to be explicitly specified. This **implicit pivot syntax** allows users to enter more concise pivot queries in some cases.\n",
    "\n",
    "Implicit pivot syntax can be used to pivot from a primary property to a secondary property, as well as from a secondary property to a primary property.\n",
    "\n",
    "**Examples:**\n",
    "\n",
    "*Pivot from primary property (<form> = <valu>) to implicit secondary property (<prop> = <pval>):*\n",
    "\n",
    "- Pivot from a set of domains to their associated DNS A records:\n",
    "\n",
    "**Regular (full) syntax:**"
   ]
  },
  {
   "cell_type": "code",
   "execution_count": null,
   "metadata": {
    "hideCode": true
   },
   "outputs": [],
   "source": [
    "# Define and print test query using existing data\n",
    "q = '<inet:fqdn> '\n",
    "q1 = 'inet:fqdn=woot.com '\n",
    "q2 = '-> inet:dns:a:fqdn'\n",
    "print(q + q2)\n",
    "# Execute the query to test it and get the packed nodes (podes).\n",
    "podes = await core.eval(q1 + q2, num=4, cmdr=False)"
   ]
  },
  {
   "cell_type": "raw",
   "metadata": {},
   "source": [
    "**Implicit syntax:**"
   ]
  },
  {
   "cell_type": "code",
   "execution_count": null,
   "metadata": {
    "hideCode": true
   },
   "outputs": [],
   "source": [
    "# Define and print test query using existing data\n",
    "q = '<inet:fqdn> '\n",
    "q1 = 'inet:fqdn=woot.com '\n",
    "q2 = '-> inet:dns:a'\n",
    "print(q + q2)\n",
    "# Execute the query to test it and get the packed nodes (podes).\n",
    "podes = await core.eval(q1 + q2, num=4, cmdr=False)"
   ]
  },
  {
   "cell_type": "raw",
   "metadata": {},
   "source": [
    "With implicit syntax, the target property ``:fqdn`` can be omitted because it is the only logical target given a set of ``inet:fqdn`` nodes as the source.\n",
    "\n",
    "*Pivot from implicit secondary property (<prop> = <pval>) to primary property (<form> = <valu>):*\n",
    "\n",
    "- Pivot from a set of DNS A records to their associated IP addresses:\n",
    "\n",
    "**Regular (full) syntax:**"
   ]
  },
  {
   "cell_type": "code",
   "execution_count": null,
   "metadata": {
    "hideCode": true
   },
   "outputs": [],
   "source": [
    "# Define and print test query using existing data\n",
    "q = '<inet:dns:a> '\n",
    "q1 = 'inet:dns:a:fqdn=woot.com '\n",
    "q2 = ':ipv4 -> inet:ipv4'\n",
    "print(q + q2)\n",
    "# Execute the query to test it and get the packed nodes (podes).\n",
    "podes = await core.eval(q1 + q2, num=4, cmdr=False)"
   ]
  },
  {
   "cell_type": "raw",
   "metadata": {},
   "source": [
    "**Implicit syntax:**"
   ]
  },
  {
   "cell_type": "code",
   "execution_count": null,
   "metadata": {
    "hideCode": true
   },
   "outputs": [],
   "source": [
    "# Define and print test query using existing data\n",
    "q = '<inet:dns:a> '\n",
    "q1 = 'inet:dns:a:fqdn=woot.com '\n",
    "q2 = '-> inet:ipv4'\n",
    "print(q + q2)\n",
    "# Execute the query to test it and get the packed nodes (podes).\n",
    "podes = await core.eval(q1 + q2, num=4, cmdr=False)"
   ]
  },
  {
   "cell_type": "raw",
   "metadata": {},
   "source": [
    "With implicit syntax, the source property ``:ipv4`` can be omitted because it is the only logical source given a set of ``inet:ipv4`` nodes as the target.\n",
    "\n",
    "*Use of multiple implicit pivots:*\n",
    "\n",
    "- Pivot from a set of domains to their DNS A records and then to the associated IP addresses:\n",
    "\n",
    "**Regular (full) syntax:**"
   ]
  },
  {
   "cell_type": "code",
   "execution_count": null,
   "metadata": {
    "hideCode": true
   },
   "outputs": [],
   "source": [
    "# Define and print test query using existing data\n",
    "q = '<inet:fqdn> '\n",
    "q1 = 'inet:fqdn=woot.com '\n",
    "q2 = '-> inet:dns:a:fqdn :ipv4 -> inet:ipv4'\n",
    "print(q + q2)\n",
    "# Execute the query to test it and get the packed nodes (podes).\n",
    "podes = await core.eval(q1 + q2, num=4, cmdr=False)"
   ]
  },
  {
   "cell_type": "raw",
   "metadata": {},
   "source": [
    "**Implicit syntax:**"
   ]
  },
  {
   "cell_type": "code",
   "execution_count": null,
   "metadata": {
    "hideCode": true
   },
   "outputs": [],
   "source": [
    "# Define and print test query using existing data\n",
    "q = '<inet:fqdn> '\n",
    "q1 = 'inet:fqdn=woot.com '\n",
    "q2 = '-> inet:dns:a -> inet:ipv4'\n",
    "print(q + q2)\n",
    "# Execute the query to test it and get the packed nodes (podes).\n",
    "podes = await core.eval(q1 + q2, num=4, cmdr=False)"
   ]
  },
  {
   "cell_type": "code",
   "execution_count": null,
   "metadata": {
    "hideCode": true,
    "hideOutput": true
   },
   "outputs": [],
   "source": [
    "# Close cortex because done\n",
    "_ = await core.fini()"
   ]
  }
 ],
 "metadata": {
  "celltoolbar": "Hide code",
  "kernelspec": {
   "display_name": "Python 3",
   "language": "python",
   "name": "python3"
  },
  "language_info": {
   "codemirror_mode": {
    "name": "ipython",
    "version": 3
   },
   "file_extension": ".py",
   "mimetype": "text/x-python",
   "name": "python",
   "nbconvert_exporter": "python",
   "pygments_lexer": "ipython3",
   "version": "3.7.7"
  }
 },
 "nbformat": 4,
 "nbformat_minor": 2
}
