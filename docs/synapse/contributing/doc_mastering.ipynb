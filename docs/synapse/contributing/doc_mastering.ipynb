{
 "cells": [
  {
   "cell_type": "raw",
   "metadata": {},
   "source": [
    ".. _synapse-document-mastering:\n",
    "\n",
    "Synapse Doc Mastering\n",
    "=====================\n",
    "\n",
    "Documentation for creation and generation of documentation for Synapse.\n",
    "\n",
    "Generating Docs Locally\n",
    "-----------------------\n",
    "\n",
    "API documentation is automatically generated from docstrings, and additional\n",
    "docs may also be added to Synapse as well for more detailed discussions of\n",
    "Synapse subsystems.  This is currently done via readthedocs.\n",
    "\n",
    "In order to do local doc generation you can do the following steps:\n",
    "\n",
    "#. Install the following packages (preferably in a virtualenv):\n",
    "\n",
    "   ::\n",
    "\n",
    "      # cd to your synapse checkout\n",
    "      cd synapse\n",
    "      # Install additional packages - this assumes the environment already has\n",
    "      # any additional packages required for executing synapse code in it.\n",
    "      python -m pip install -U -r requirements_doc.txt\n",
    "      # Alternativly, you can install synapse directly in develop mode with pip\n",
    "      # python -m pip install .[docs]\n",
    "\n",
    "      # Install pandoc package, required for building HTML.\n",
    "      # This may require sudo access depending on your environment.\n",
    "      apt install pandoc\n",
    "\n",
    "\n",
    "#. Build the docs using sphinx.  A makefile is provided which makes this easy.\n",
    "\n",
    "   ::\n",
    "\n",
    "      # Go to your synapse repo\n",
    "      cd synapse\n",
    "      # Go to the docs folder\n",
    "      cd docs\n",
    "      # Use the make command to build the HTML docs\n",
    "      make html\n",
    "\n",
    "#. Now you can open the HTML docs for browsing them.\n",
    "\n",
    "   ::\n",
    "\n",
    "      xdg-open _build/html/index.html\n",
    "\n",
    "#. To rebuild documentation from scratch you can delete the _build directory\n",
    "   and the ``api`` directories.  Deleting the ``api`` directory will cause the\n",
    "   automatic Synapse API documentation to be rebuilt.\n",
    "\n",
    "   ::\n",
    "\n",
    "      # Delete the _build directory\n",
    "      make clean\n",
    "      # Remove all old files and remove the autodocs directory\n",
    "      rm -rf synapse/autodocs\n",
    "\n",
    "Mastering Docs\n",
    "--------------\n",
    "\n",
    "Synapse documents are mastered using either raw ReStructuredText (.rst) files\n",
    "or as Jupyter Notebooks (.ipynb). Notebooks should be used for documenting\n",
    "anything which may include Storm or code examples, so that the examples can be\n",
    "written in a manner that can be asserted, so the documentation can be tested\n",
    "in the CI pipeline.  Notebooks are also executed during sphinx document build\n",
    "steps, so any output is current as of document build time. Text in Notebooks\n",
    "should be mastered as RST using raw NbConvert cells.\n",
    "\n",
    "In general, docs for Synapse fall into two categories: User guides and devops\n",
    "guides.  User guides should be mastered in ``./docs/synapse/userguides`` and\n",
    "devops guides should be mastered in ``./docs/synapse/devops``.  Additional top\n",
    "level sections may be added over time.\n",
    "\n",
    "In order to master Notebooks, you will need to setup the hide_code extension\n",
    "for Jupyter. That is used to selectively hide code and output blocks as\n",
    "needed. For example, this allows use to hide the code used to run a Storm\n",
    "command and show the output.\n",
    "\n",
    "The following steps are a high level overview of the process to setup Jupyter\n",
    "and add or edit notebooks for documentation purposes.\n",
    "\n",
    "- Setup the hide_code extension:\n",
    "\n",
    "   ::\n",
    "\n",
    "      # Then install & enable the Jupyter hide-code extension\n",
    "      # This only has to be run once.\n",
    "      jupyter nbextension install --py --user hide_code\n",
    "      jupyter nbextension enable --py --user hide_code\n",
    "      jupyter serverextension enable --py --user hide_code\n",
    "\n",
    "- Launch Jupyter to run a local notebook server:\n",
    "\n",
    "   ::\n",
    "\n",
    "      # Go to your synapse repo\n",
    "      cd synapse\n",
    "      # Launch the notebook server\n",
    "      jupyter notebook\n",
    "\n",
    "- Navigate to the docs directory in Jupyter.  Create a new notebook or open\n",
    "  an existing notebook as needed.  This will likely be located under the\n",
    "  ``docs/synapse/userguides`` or ``docs/synapse/devops`` directories.\n",
    "\n",
    "- For Storm CLI integration, you can add the following code block into the\n",
    "  first code cell in order to get some Synapse Jupyter helpers:"
   ]
  },
  {
   "cell_type": "code",
   "execution_count": null,
   "metadata": {},
   "outputs": [],
   "source": [
    "import os, sys\n",
    "try:\n",
    "    from synapse.lib.jupyter import *\n",
    "except ImportError as e:\n",
    "    # Insert the root path of the repository to sys.path.\n",
    "    # This assumes the notebook is located three directories away\n",
    "    # From the root synapse directory. It may need to be varied\n",
    "    synroot = os.path.abspath('../../../')\n",
    "    sys.path.insert(0, synroot)\n",
    "    from synapse.lib.jupyter import *"
   ]
  },
  {
   "cell_type": "raw",
   "metadata": {},
   "source": [
    "- You can use helpers to execute storm commands in the following fashion\n",
    "  to get a CoreCmdr object, execute a storm query printing the CLI ouput\n",
    "  to screen, while asserting the number of nodes returned, and then \n",
    "  closing the object."
   ]
  },
  {
   "cell_type": "code",
   "execution_count": null,
   "metadata": {},
   "outputs": [],
   "source": [
    "# Get a CoreCmdr object\n",
    "corecmdr = await getTempCoreCmdr()\n",
    "# Execute the query and get the packed nodes.\n",
    "podes = await corecmdr.eval('[inet:ipv4=1.2.3.4]', \n",
    "                            num=1, cmdr=True)"
   ]
  },
  {
   "cell_type": "raw",
   "metadata": {},
   "source": [
    "- We have a helper function available from the ``synapse.lib.jupyter``\n",
    "  imported earlier called ``getDocData(fn)``.  It will look for a given filename\n",
    "  in the ``docs/docdata`` directory; and get its data. If the file ends with\n",
    "  ``.json``, ``.jsonl``, ``.yaml``, or ``.mpk`` we will return the decoded data,\n",
    "  otherwise we will return the raw bytes. This uses a function called\n",
    "  ``getDocPath(fn)`` which will find and return a file under the ``docs\\docdata``\n",
    "  directory.\n",
    "  \n",
    "  There is an example below showing the use of this to load a json file located at\n",
    "  ``docs/docdata/mastering_example_ingest.json``, and adding the data to the Cortex\n",
    "  via the ``addFeedData()`` function.  "
   ]
  },
  {
   "cell_type": "code",
   "execution_count": null,
   "metadata": {},
   "outputs": [],
   "source": [
    "fn = 'mastering_example_ingest.json'\n",
    "data = getDocData(fn)\n",
    "await corecmdr.addFeedData('syn.nodes', data)\n",
    "podes = await corecmdr.eval('#example', num=2, cmdr=True)"
   ]
  },
  {
   "cell_type": "raw",
   "metadata": {},
   "source": [
    "- Since the Code cells are persistent, you can reuse the objects from\n",
    "  earlier cells until a resource has been closed (``.fini()``'d). The\n",
    "  following example shows using the ``corecmdr`` object from the above\n",
    "  code section to lift a node and print it to the screen."
   ]
  },
  {
   "cell_type": "code",
   "execution_count": null,
   "metadata": {},
   "outputs": [],
   "source": [
    "from pprint import pprint # We want to make our nodes pretty\n",
    "podes = await(corecmdr.eval('inet:ipv4'))\n",
    "for pode in podes:\n",
    "    pprint(pode)"
   ]
  },
  {
   "cell_type": "raw",
   "metadata": {},
   "source": [
    "- We can also execute a line of text in the CLI directly with the ``runCmdLine()``\n",
    "  function.  For example, we can use this to execute the ``help`` command and see\n",
    "  all available commands to the raw CLI object. This will always print the CLI output\n",
    "  to the Jupyter cell output."
   ]
  },
  {
   "cell_type": "code",
   "execution_count": null,
   "metadata": {},
   "outputs": [],
   "source": [
    "# Run the help command.\n",
    "text = 'help'\n",
    "await corecmdr.runCmdLine(text)"
   ]
  },
  {
   "cell_type": "raw",
   "metadata": {},
   "source": [
    "- In the above example, there is some Python syntax highlighting occuring. This may\n",
    "  not be desired.  In order to disable that, add the following to the first line of\n",
    "  the RST body of a document:\n",
    "  \n",
    "  ``.. highlight:: none``\n",
    "\n",
    "  This will disable all code highlighting in a given document, until another\n",
    "  ``highlight`` directive is encountered.  \n",
    "  \n",
    "- The following code and output will have their highlighting disabled, via the use \n",
    "  of a pair of ``highlight`` directives before and after the code cell. The first\n",
    "  directive disabled highlighting, and the subsequent directive re-enabled it for\n",
    "  python3 highlighting.\n",
    "  \n",
    "  Read the Sphinx Literal_ documentation for additional information about highlighting\n",
    "  controls.\n",
    "\n",
    ".. highlight:: none"
   ]
  },
  {
   "cell_type": "code",
   "execution_count": null,
   "metadata": {},
   "outputs": [],
   "source": [
    "# Run the help command again.\n",
    "text = 'help'\n",
    "await corecmdr.runCmdLine(text)"
   ]
  },
  {
   "cell_type": "raw",
   "metadata": {},
   "source": [
    ".. highlight:: python3\n",
    "\n",
    "- When we are done with the CoreCmdr object, we should ``fini()`` is to\n",
    "  remove any resources it may have created.  This is done below."
   ]
  },
  {
   "cell_type": "code",
   "execution_count": null,
   "metadata": {},
   "outputs": [],
   "source": [
    "# Close the object.\n",
    "_ = await corecmdr.fini()"
   ]
  },
  {
   "cell_type": "raw",
   "metadata": {},
   "source": [
    "- You can enable the hide_code options by selecting the\n",
    "  \"View -> Cell Toolbar -> Hide code\" option. This will allow you to\n",
    "  optionally hide code or output blocks.\n",
    "\n",
    "- After adding text and code to a notebook, ensure that it runs properly and\n",
    "  any produces the expected outputs. You can then mark any code cells for\n",
    "  hiding as necessary; then save your notebook. You can then follow the\n",
    "  earlier instructions for how to build and view the docs locally.\n",
    "\n",
    "- Once new documents are made, they will needto be added to the appropriate\n",
    "  toctree directive. There are three index documents:\n",
    "\n",
    "  - index.rst - This controls top-level documentation ordering. It generally\n",
    "    should not need to be edited unless adding a new top level document or\n",
    "    adding an additional section to the second level Synapse directory.\n",
    "  - synapse/userguide.rst - This controls the TOC ordering for user guides.\n",
    "  - synapse/devops.rst - The controls the TOC ordering for devops guides.\n",
    "\n",
    "- Add notebooks to the repository using ``git add ..path/to/notebook.ipynb``.\n",
    "  You can then commit the notebook using ``git commit``. If you have the git\n",
    "  pre-commit hook from ``scripts/githooks/pre-commit``, this will strip any\n",
    "  output from the notebook upon commit time. This will result in cleaner\n",
    "  ``git diff`` views over time. See :ref:`synapse-contributing-hook`\n",
    "\n",
    "\n",
    "Under the hood\n",
    "--------------\n",
    "\n",
    "Docs are built from Notebooks using a custom ``conf.py`` file which executes\n",
    "the notebooks, converting them to RST and using a custom template\n",
    "(``vertex.tpl``) which looks for flags set by the ``hide_code`` extension.\n",
    "\n",
    "ReadTheDocs\n",
    "-----------\n",
    "\n",
    "Building documents on ReadTheDocs.org using cPython 3.7 is currently an\n",
    "unsupported operation. This is accomplished using a ``readthedocs.yml`` file,\n",
    "which uses ``environment_docs.yml`` to configure an 3.7 Anaconda environment.\n",
    "This is the environment which is used do actually execute sphinx and the\n",
    "associated ipython notebooks to generate RST documents.\n",
    "\n",
    ".. _Literal: http://www.sphinx-doc.org/en/master/usage/restructuredtext/basics.html#literal-blocks\n"
   ]
  }
 ],
 "metadata": {
  "celltoolbar": "Hide code",
  "kernelspec": {
   "display_name": "Python 3",
   "language": "python",
   "name": "python3"
  },
  "language_info": {
   "codemirror_mode": {
    "name": "ipython",
    "version": 3
   },
   "file_extension": ".py",
   "mimetype": "text/x-python",
   "name": "python",
   "nbconvert_exporter": "python",
   "pygments_lexer": "ipython3",
   "version": "3.7.1"
  }
 },
 "nbformat": 4,
 "nbformat_minor": 2
}
