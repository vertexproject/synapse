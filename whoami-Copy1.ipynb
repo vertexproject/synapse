{
 "cells": [
  {
   "cell_type": "code",
   "execution_count": 1,
   "metadata": {},
   "outputs": [
    {
     "name": "stdout",
     "output_type": "stream",
     "text": [
      "Current pid: 7598\n",
      "Current thread / thread.ident: <_MainThread(MainThread, started 140437956636800)>\n",
      "<class 'threading._MainThread'>\n",
      "getting running loop\n",
      "_glob_loop is <_UnixSelectorEventLoop running=True closed=False debug=False>/140437776183704\n",
      "hey we got _glob_thread <_MainThread(MainThread, started 140437956636800)>\n",
      "Current loop: <_UnixSelectorEventLoop running=True closed=False debug=False> / 140437776183704\n",
      "loop thread: <_MainThread(MainThread, started 140437956636800)>\n"
     ]
    }
   ],
   "source": [
    "import os\n",
    "import shutil\n",
    "import asyncio\n",
    "import tempfile\n",
    "import threading\n",
    "import contextlib\n",
    "\n",
    "import unittest.mock as mock\n",
    "\n",
    "import synapse.glob as s_glob\n",
    "import synapse.common as s_common\n",
    "import synapse.cortex as s_cortex\n",
    "# import synapse.lib.cli as s_cli\n",
    "import synapse.lib.cmdr as s_cmdr\n",
    "\n",
    "import synapse.tests.utils as s_t_utils\n",
    "print(f'Current pid: {os.getpid()}')\n",
    "current_thread = threading.current_thread()\n",
    "print(f'Current thread / thread.ident: {current_thread}')\n",
    "print(type(current_thread))\n",
    "loop = s_glob.initloop()\n",
    "print(f'Current loop: {loop} / {id(loop)}')\n",
    "glob_thrd = s_glob._glob_thrd\n",
    "print(f'loop thread: {glob_thrd}')\n"
   ]
  },
  {
   "cell_type": "code",
   "execution_count": null,
   "metadata": {},
   "outputs": [
    {
     "name": "stdout",
     "output_type": "stream",
     "text": [
      "Got tempdir: /tmp/tmpkl9ksvwn\n",
      "getting cortex....\n"
     ]
    },
    {
     "name": "stderr",
     "output_type": "stream",
     "text": [
      "Executing storm query {[inet:ipv4=1.2.3.4 inet:ipv4=8.8.8.8]} as [None]\n"
     ]
    },
    {
     "name": "stdout",
     "output_type": "stream",
     "text": [
      "Got cortex: <synapse.cortex.Cortex object at 0x7fba1cc5fdd8>\n",
      "Getting local proxy\n",
      "listing on local loopback: tcp://127.0.0.1:0\n",
      "Calling listen for tcp://127.0.0.1:0\n",
      "Got proxy: <synapse.telepath.Proxy object at 0x7fba1e0f8b00>\n",
      "<synapse.telepath.Proxy object at 0x7fba1e0f8b00> False\n",
      "preloading some data...\n",
      "('init', {'tick': 1544213041849, 'text': '[inet:ipv4=1.2.3.4 inet:ipv4=8.8.8.8]', 'task': 'd41a1efa5d3f9ab786b8f05882634818'})\n",
      "('node:add', {'ndef': ('inet:ipv4', 16909060), 'user': '?', 'time': 1544213041852})\n",
      "('prop:set', {'ndef': ('inet:ipv4', 16909060), 'prop': 'type', 'valu': 'unicast', 'oldv': None, 'user': '?', 'time': 1544213041852})\n",
      "('prop:set', {'ndef': ('inet:ipv4', 16909060), 'prop': 'asn', 'valu': 0, 'oldv': None, 'user': '?', 'time': 1544213041852})\n",
      "('node:add', {'ndef': ('inet:asn', 0), 'user': '?', 'time': 1544213041852})\n",
      "('prop:set', {'ndef': ('inet:asn', 0), 'prop': 'name', 'valu': '??', 'oldv': None, 'user': '?', 'time': 1544213041852})\n",
      "('prop:set', {'ndef': ('inet:asn', 0), 'prop': '.created', 'valu': 1544213041852, 'oldv': None, 'user': '?', 'time': 1544213041852})\n",
      "('prop:set', {'ndef': ('inet:ipv4', 16909060), 'prop': 'loc', 'valu': '??', 'oldv': None, 'user': '?', 'time': 1544213041853})\n",
      "('prop:set', {'ndef': ('inet:ipv4', 16909060), 'prop': '.created', 'valu': 1544213041853, 'oldv': None, 'user': '?', 'time': 1544213041853})\n",
      "('node', (('inet:ipv4', 16909060), {'iden': '20153b758f9d5eaaa38e4f4a65c36da797c3e59e549620fa7c4895e1a920991f', 'tags': {}, 'props': {'type': 'unicast', 'asn': 0, 'loc': '??', '.created': 1544213041853}, 'path': {}}))\n",
      "('node:add', {'ndef': ('inet:ipv4', 134744072), 'user': '?', 'time': 1544213041853})\n",
      "('prop:set', {'ndef': ('inet:ipv4', 134744072), 'prop': 'type', 'valu': 'unicast', 'oldv': None, 'user': '?', 'time': 1544213041853})\n",
      "('prop:set', {'ndef': ('inet:ipv4', 134744072), 'prop': 'asn', 'valu': 0, 'oldv': None, 'user': '?', 'time': 1544213041853})\n",
      "('prop:set', {'ndef': ('inet:ipv4', 134744072), 'prop': 'loc', 'valu': '??', 'oldv': None, 'user': '?', 'time': 1544213041853})\n",
      "('prop:set', {'ndef': ('inet:ipv4', 134744072), 'prop': '.created', 'valu': 1544213041853, 'oldv': None, 'user': '?', 'time': 1544213041853})\n",
      "('node', (('inet:ipv4', 134744072), {'iden': 'ee6b92c9fd848a2cb00f3a3618148c512b58456b8b51fbed79251811597eeea3', 'tags': {}, 'props': {'type': 'unicast', 'asn': 0, 'loc': '??', '.created': 1544213041853}, 'path': {}}))\n",
      "('fini', {'tock': 1544213041858, 'took': 9, 'count': 2})\n",
      "Got cmdr: <synapse.lib.cli.Cli object at 0x7fba1da7ff28>\n",
      "entering loop....\n",
      "cli> storm inet:ipv4\n"
     ]
    },
    {
     "name": "stderr",
     "output_type": "stream",
     "text": [
      "Executing storm query {inet:ipv4} as [None]\n"
     ]
    },
    {
     "name": "stdout",
     "output_type": "stream",
     "text": [
      "executing line\n",
      "got coro: <coroutine object Cli.runCmdLine at 0x7fba1cb2f648>\n",
      "waiting for result\n",
      "\n",
      "cli - Running query inet:ipv4\n",
      "got mesg: ('init', {'tick': 1544213047813, 'text': 'inet:ipv4', 'task': '4552dbcb596bab82dff05084fdef5522'})\n",
      "got mesg: ('node', (('inet:ipv4', 16909060), {'iden': '20153b758f9d5eaaa38e4f4a65c36da797c3e59e549620fa7c4895e1a920991f', 'tags': {}, 'props': {'.created': 1544213041853, 'asn': 0, 'loc': '??', 'type': 'unicast'}, 'repr': '1.2.3.4', 'reprs': {'.created': '2018/12/07 20:04:01.853', 'asn': '0'}, 'path': {}}))\n",
      "inet:ipv4=1.2.3.4\n",
      "        .created = 2018/12/07 20:04:01.853\n",
      "        :asn = 0\n",
      "        :loc = ??\n",
      "        :type = unicast\n",
      "got mesg: ('node', (('inet:ipv4', 134744072), {'iden': 'ee6b92c9fd848a2cb00f3a3618148c512b58456b8b51fbed79251811597eeea3', 'tags': {}, 'props': {'.created': 1544213041853, 'asn': 0, 'loc': '??', 'type': 'unicast'}, 'repr': '8.8.8.8', 'reprs': {'.created': '2018/12/07 20:04:01.853', 'asn': '0'}, 'path': {}}))\n",
      "inet:ipv4=8.8.8.8\n",
      "        .created = 2018/12/07 20:04:01.853\n",
      "        :asn = 0\n",
      "        :loc = ??\n",
      "        :type = unicast\n",
      "got mesg: ('fini', {'tock': 1544213047829, 'took': 16, 'count': 2})\n",
      "complete. 2 nodes in 16 ms (125/sec).\n",
      "task finished!\n"
     ]
    }
   ],
   "source": [
    "@contextlib.asynccontextmanager\n",
    "async def getTempCoreProxy():\n",
    "    with s_common.getTempDir() as dirn:\n",
    "        print(f'Got tempdir: {dirn}')\n",
    "        print('getting cortex....')\n",
    "        async with await s_cortex.Cortex.anit(dirn) as core:\n",
    "            print(f'Got cortex: {core}')\n",
    "            print('Getting local proxy')\n",
    "            core.conf['storm:log'] = True\n",
    "            async with core.getLocalProxy() as prox:\n",
    "                print(f'Got proxy: {prox}')\n",
    "                yield prox\n",
    "                print('closing down proxy/local dmon')\n",
    "            print('closing down cortex')\n",
    "        print('tearing down tempdir')\n",
    "    print('done with getTempCortex')\n",
    "\n",
    "acm = getTempCoreProxy()\n",
    "proxy = await acm.__aenter__()\n",
    "print(proxy, proxy.isfini)\n",
    "\n",
    "print('preloading some data...')\n",
    "async for mesg in await proxy.storm('[inet:ipv4=1.2.3.4 inet:ipv4=8.8.8.8]'):\n",
    "    print(mesg)\n",
    "    \n",
    "cmdr = await s_cmdr.getItemCmdr(proxy)\n",
    "print(f'Got cmdr: {cmdr}')\n",
    "\n",
    "# await cmdr.runCmdLine('storm inet:ipv4')\n",
    "# cmdr.runCmdLoop()\n",
    "await cmdr.asyncRunCmdLoop()\n",
    "\n",
    "await acm.__aexit__(None, None, None)\n",
    "print(proxy, proxy.isfini)\n",
    "    "
   ]
  },
  {
   "cell_type": "code",
   "execution_count": null,
   "metadata": {},
   "outputs": [],
   "source": []
  }
 ],
 "metadata": {
  "kernelspec": {
   "display_name": "Python 3",
   "language": "python",
   "name": "python3"
  },
  "language_info": {
   "codemirror_mode": {
    "name": "ipython",
    "version": 3
   },
   "file_extension": ".py",
   "mimetype": "text/x-python",
   "name": "python",
   "nbconvert_exporter": "python",
   "pygments_lexer": "ipython3",
   "version": "3.7.1"
  }
 },
 "nbformat": 4,
 "nbformat_minor": 2
}
