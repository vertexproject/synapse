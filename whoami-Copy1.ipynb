{
 "cells": [
  {
   "cell_type": "markdown",
   "metadata": {},
   "source": [
    "setup code goes here"
   ]
  },
  {
   "cell_type": "code",
   "execution_count": 1,
   "metadata": {},
   "outputs": [
    {
     "name": "stdout",
     "output_type": "stream",
     "text": [
      "Current pid: 26912\n"
     ]
    }
   ],
   "source": [
    "import os\n",
    "import shutil\n",
    "import asyncio\n",
    "import tempfile\n",
    "import threading\n",
    "import contextlib\n",
    "\n",
    "import unittest.mock as mock\n",
    "\n",
    "import synapse.glob as s_glob\n",
    "import synapse.common as s_common\n",
    "import synapse.cortex as s_cortex\n",
    "# import synapse.lib.cli as s_cli\n",
    "import synapse.lib.cmdr as s_cmdr\n",
    "\n",
    "import synapse.tests.utils as s_t_utils\n",
    "print(f'Current pid: {os.getpid()}')\n",
    "current_thread = threading.current_thread()\n",
    "# print(f'Current thread / thread.ident: {current_thread}')\n",
    "# print(type(current_thread))\n",
    "loop = s_glob.initloop()\n",
    "# print(f'Current loop: {loop} / {id(loop)}')\n",
    "glob_thrd = s_glob._glob_thrd\n",
    "# print(f'loop thread: {glob_thrd}')\n",
    "\n",
    "@contextlib.asynccontextmanager\n",
    "async def getTempCoreProxy():\n",
    "    with s_common.getTempDir() as dirn:\n",
    "        # print(f'Got tempdir: {dirn}')\n",
    "        # print('getting cortex....')\n",
    "        async with await s_cortex.Cortex.anit(dirn) as core:\n",
    "            # print(f'Got cortex: {core}')\n",
    "            # print('Getting local proxy')\n",
    "            # core.conf['storm:log'] = True\n",
    "            async with core.getLocalProxy() as prox:\n",
    "                # print(f'Got proxy: {prox}')\n",
    "                yield prox\n",
    "                # print('closing down proxy/local dmon')\n",
    "            # print('closing down cortex')\n",
    "        # print('tearing down tempdir')\n",
    "    # print('done with getTempCortex')\n",
    "\n",
    "acm = getTempCoreProxy()\n",
    "proxy = await acm.__aenter__()\n",
    "# print(proxy, proxy.isfini)\n",
    "\n",
    "# print('preloading some data...')\n",
    "async for mesg in await proxy.storm('[inet:ipv4=1.2.3.4 inet:ipv4=8.8.8.8]'):\n",
    "    pass\n",
    "    #print(mesg)\n",
    "    \n",
    "cmdr = await s_cmdr.getItemCmdr(proxy)\n",
    "cmdr.echoline = True\n",
    "# print(f'Got cmdr: {cmdr}')"
   ]
  },
  {
   "cell_type": "markdown",
   "metadata": {},
   "source": [
    "Execute a storm command!"
   ]
  },
  {
   "cell_type": "code",
   "execution_count": 2,
   "metadata": {},
   "outputs": [
    {
     "name": "stdout",
     "output_type": "stream",
     "text": [
      "cli> storm inet:ipv4\n",
      "\n",
      "inet:ipv4=1.2.3.4\n",
      "        .created = 2018/12/07 22:38:02.337\n",
      "        :asn = 0\n",
      "        :loc = ??\n",
      "        :type = unicast\n",
      "inet:ipv4=8.8.8.8\n",
      "        .created = 2018/12/07 22:38:02.341\n",
      "        :asn = 0\n",
      "        :loc = ??\n",
      "        :type = unicast\n",
      "complete. 2 nodes in 5 ms (400/sec).\n"
     ]
    }
   ],
   "source": [
    "await cmdr.runCmdLine('storm inet:ipv4')\n",
    "# cmdr.runCmdLoop()\n",
    "# await cmdr.asyncRunCmdLoop()"
   ]
  },
  {
   "cell_type": "markdown",
   "metadata": {},
   "source": [
    "See how cool that was!"
   ]
  },
  {
   "cell_type": "code",
   "execution_count": 3,
   "metadata": {},
   "outputs": [
    {
     "name": "stdout",
     "output_type": "stream",
     "text": [
      "connection closed...\n"
     ]
    }
   ],
   "source": [
    "await acm.__aexit__(None, None, None)\n",
    "# print(proxy, proxy.isfini)#\n",
    "    "
   ]
  }
 ],
 "metadata": {
  "kernelspec": {
   "display_name": "Python 3",
   "language": "python",
   "name": "python3"
  },
  "language_info": {
   "codemirror_mode": {
    "name": "ipython",
    "version": 3
   },
   "file_extension": ".py",
   "mimetype": "text/x-python",
   "name": "python",
   "nbconvert_exporter": "python",
   "pygments_lexer": "ipython3",
   "version": "3.7.1"
  }
 },
 "nbformat": 4,
 "nbformat_minor": 2
}
